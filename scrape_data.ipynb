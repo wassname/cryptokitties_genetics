{
 "cells": [
  {
   "cell_type": "markdown",
   "metadata": {},
   "source": [
    "This notebook is a mess, it's just provided if you want to see how I scraped the data"
   ]
  },
  {
   "cell_type": "code",
   "execution_count": 1,
   "metadata": {
    "ExecuteTime": {
     "end_time": "2017-12-09T00:21:29.815554Z",
     "start_time": "2017-12-09T00:21:29.466631Z"
    }
   },
   "outputs": [
    {
     "name": "stdout",
     "output_type": "stream",
     "text": [
      "Populating the interactive namespace from numpy and matplotlib\n"
     ]
    }
   ],
   "source": [
    "%pylab inline\n",
    "import requests\n",
    "import json\n",
    "from tqdm import tqdm\n",
    "import os\n",
    "import time"
   ]
  },
  {
   "cell_type": "markdown",
   "metadata": {},
   "source": [
    "# get sales"
   ]
  },
  {
   "cell_type": "code",
   "execution_count": 2,
   "metadata": {
    "ExecuteTime": {
     "end_time": "2017-12-08T22:47:58.388176Z",
     "start_time": "2017-12-08T22:47:57.996739Z"
    }
   },
   "outputs": [
    {
     "data": {
      "text/plain": [
       "4"
      ]
     },
     "execution_count": 2,
     "metadata": {},
     "output_type": "execute_result"
    }
   ],
   "source": [
    "sales_data_file = '.cache/sales.json'\n",
    "try:\n",
    "    sales = json.load(open(sales_data_file))\n",
    "except FileNotFoundError:\n",
    "    sales = {}\n",
    "len(sales)"
   ]
  },
  {
   "cell_type": "code",
   "execution_count": 3,
   "metadata": {
    "ExecuteTime": {
     "end_time": "2017-12-08T22:47:58.395380Z",
     "start_time": "2017-12-08T22:47:58.389677Z"
    }
   },
   "outputs": [
    {
     "data": {
      "text/plain": [
       "4"
      ]
     },
     "execution_count": 3,
     "metadata": {},
     "output_type": "execute_result"
    }
   ],
   "source": [
    "if len(sales)==0:\n",
    "    r = requests.get(\"https://kittysales.herokuapp.com/data?offset=0&count=200000\")\n",
    "    sales = r.json()\n",
    "    json.dump(sales, open(sales_data_file,'w'))\n",
    "len(sales)"
   ]
  },
  {
   "cell_type": "markdown",
   "metadata": {
    "ExecuteTime": {
     "end_time": "2017-12-06T00:52:52.597752Z",
     "start_time": "2017-12-06T00:52:52.589754Z"
    }
   },
   "source": [
    "# get stats"
   ]
  },
  {
   "cell_type": "code",
   "execution_count": 4,
   "metadata": {
    "ExecuteTime": {
     "end_time": "2017-12-08T22:47:59.022123Z",
     "start_time": "2017-12-08T22:47:58.676192Z"
    }
   },
   "outputs": [
    {
     "data": {
      "text/plain": [
       "10024"
      ]
     },
     "execution_count": 4,
     "metadata": {},
     "output_type": "execute_result"
    }
   ],
   "source": [
    "api_data_file = '.cache/api_data.json'\n",
    "try:\n",
    "    api_data = json.load(open(api_data_file))\n",
    "except FileNotFoundError:\n",
    "    api_data = {}\n",
    "len(api_data)"
   ]
  },
  {
   "cell_type": "code",
   "execution_count": null,
   "metadata": {
    "ExecuteTime": {
     "end_time": "2017-12-08T14:58:54.072202Z",
     "start_time": "2017-12-08T14:58:54.058960Z"
    }
   },
   "outputs": [],
   "source": []
  },
  {
   "cell_type": "code",
   "execution_count": 5,
   "metadata": {
    "ExecuteTime": {
     "end_time": "2017-12-08T23:12:22.681789Z",
     "start_time": "2017-12-08T22:47:59.757119Z"
    },
    "scrolled": true
   },
   "outputs": [
    {
     "name": "stderr",
     "output_type": "stream",
     "text": [
      "  0%|          | 19/89976 [00:43<57:44:01,  2.31s/it]"
     ]
    },
    {
     "name": "stdout",
     "output_type": "stream",
     "text": [
      "error2 10043 <Response [503]> Expecting value: line 1 column 1 (char 0)\n"
     ]
    },
    {
     "name": "stderr",
     "output_type": "stream",
     "text": [
      "\r",
      "  0%|          | 20/89976 [00:54<68:03:33,  2.72s/it]"
     ]
    },
    {
     "name": "stdout",
     "output_type": "stream",
     "text": [
      "error2 10044 <Response [503]> Expecting value: line 1 column 1 (char 0)\n"
     ]
    },
    {
     "name": "stderr",
     "output_type": "stream",
     "text": [
      "  2%|▏         | 1491/89976 [18:43<18:31:08,  1.33it/s]"
     ]
    },
    {
     "name": "stdout",
     "output_type": "stream",
     "text": [
      "error2 11515 <Response [503]> Expecting value: line 1 column 1 (char 0)\n"
     ]
    },
    {
     "name": "stderr",
     "output_type": "stream",
     "text": [
      "  2%|▏         | 1881/89976 [24:22<19:01:32,  1.29it/s]"
     ]
    },
    {
     "ename": "KeyboardInterrupt",
     "evalue": "",
     "output_type": "error",
     "traceback": [
      "\u001b[0;31m---------------------------------------------------------------------------\u001b[0m",
      "\u001b[0;31mKeyboardInterrupt\u001b[0m                         Traceback (most recent call last)",
      "\u001b[0;32m<ipython-input-5-1fc46a81b1c2>\u001b[0m in \u001b[0;36m<module>\u001b[0;34m()\u001b[0m\n\u001b[1;32m     11\u001b[0m     \u001b[0murl\u001b[0m \u001b[0;34m=\u001b[0m \u001b[0;34m'http://api.cryptokitties.co/kitties/%s'\u001b[0m\u001b[0;34m%\u001b[0m\u001b[0mi\u001b[0m\u001b[0;34m\u001b[0m\u001b[0m\n\u001b[1;32m     12\u001b[0m     \u001b[0;32mtry\u001b[0m\u001b[0;34m:\u001b[0m\u001b[0;34m\u001b[0m\u001b[0m\n\u001b[0;32m---> 13\u001b[0;31m         \u001b[0mr\u001b[0m \u001b[0;34m=\u001b[0m \u001b[0mrequests\u001b[0m\u001b[0;34m.\u001b[0m\u001b[0mget\u001b[0m\u001b[0;34m(\u001b[0m\u001b[0murl\u001b[0m\u001b[0;34m)\u001b[0m\u001b[0;34m\u001b[0m\u001b[0m\n\u001b[0m\u001b[1;32m     14\u001b[0m     \u001b[0;32mexcept\u001b[0m \u001b[0mException\u001b[0m \u001b[0;32mas\u001b[0m \u001b[0me\u001b[0m\u001b[0;34m:\u001b[0m\u001b[0;34m\u001b[0m\u001b[0m\n\u001b[1;32m     15\u001b[0m         \u001b[0mwait\u001b[0m\u001b[0;34m*=\u001b[0m\u001b[0mwait_mult\u001b[0m\u001b[0;34m\u001b[0m\u001b[0m\n",
      "\u001b[0;32m~/.pyenv/versions/3.5.3/envs/jupyter3/lib/python3.5/site-packages/requests/api.py\u001b[0m in \u001b[0;36mget\u001b[0;34m(url, params, **kwargs)\u001b[0m\n\u001b[1;32m     70\u001b[0m \u001b[0;34m\u001b[0m\u001b[0m\n\u001b[1;32m     71\u001b[0m     \u001b[0mkwargs\u001b[0m\u001b[0;34m.\u001b[0m\u001b[0msetdefault\u001b[0m\u001b[0;34m(\u001b[0m\u001b[0;34m'allow_redirects'\u001b[0m\u001b[0;34m,\u001b[0m \u001b[0;32mTrue\u001b[0m\u001b[0;34m)\u001b[0m\u001b[0;34m\u001b[0m\u001b[0m\n\u001b[0;32m---> 72\u001b[0;31m     \u001b[0;32mreturn\u001b[0m \u001b[0mrequest\u001b[0m\u001b[0;34m(\u001b[0m\u001b[0;34m'get'\u001b[0m\u001b[0;34m,\u001b[0m \u001b[0murl\u001b[0m\u001b[0;34m,\u001b[0m \u001b[0mparams\u001b[0m\u001b[0;34m=\u001b[0m\u001b[0mparams\u001b[0m\u001b[0;34m,\u001b[0m \u001b[0;34m**\u001b[0m\u001b[0mkwargs\u001b[0m\u001b[0;34m)\u001b[0m\u001b[0;34m\u001b[0m\u001b[0m\n\u001b[0m\u001b[1;32m     73\u001b[0m \u001b[0;34m\u001b[0m\u001b[0m\n\u001b[1;32m     74\u001b[0m \u001b[0;34m\u001b[0m\u001b[0m\n",
      "\u001b[0;32m~/.pyenv/versions/3.5.3/envs/jupyter3/lib/python3.5/site-packages/requests/api.py\u001b[0m in \u001b[0;36mrequest\u001b[0;34m(method, url, **kwargs)\u001b[0m\n\u001b[1;32m     56\u001b[0m     \u001b[0;31m# cases, and look like a memory leak in others.\u001b[0m\u001b[0;34m\u001b[0m\u001b[0;34m\u001b[0m\u001b[0m\n\u001b[1;32m     57\u001b[0m     \u001b[0;32mwith\u001b[0m \u001b[0msessions\u001b[0m\u001b[0;34m.\u001b[0m\u001b[0mSession\u001b[0m\u001b[0;34m(\u001b[0m\u001b[0;34m)\u001b[0m \u001b[0;32mas\u001b[0m \u001b[0msession\u001b[0m\u001b[0;34m:\u001b[0m\u001b[0;34m\u001b[0m\u001b[0m\n\u001b[0;32m---> 58\u001b[0;31m         \u001b[0;32mreturn\u001b[0m \u001b[0msession\u001b[0m\u001b[0;34m.\u001b[0m\u001b[0mrequest\u001b[0m\u001b[0;34m(\u001b[0m\u001b[0mmethod\u001b[0m\u001b[0;34m=\u001b[0m\u001b[0mmethod\u001b[0m\u001b[0;34m,\u001b[0m \u001b[0murl\u001b[0m\u001b[0;34m=\u001b[0m\u001b[0murl\u001b[0m\u001b[0;34m,\u001b[0m \u001b[0;34m**\u001b[0m\u001b[0mkwargs\u001b[0m\u001b[0;34m)\u001b[0m\u001b[0;34m\u001b[0m\u001b[0m\n\u001b[0m\u001b[1;32m     59\u001b[0m \u001b[0;34m\u001b[0m\u001b[0m\n\u001b[1;32m     60\u001b[0m \u001b[0;34m\u001b[0m\u001b[0m\n",
      "\u001b[0;32m~/.pyenv/versions/3.5.3/envs/jupyter3/lib/python3.5/site-packages/requests/sessions.py\u001b[0m in \u001b[0;36mrequest\u001b[0;34m(self, method, url, params, data, headers, cookies, files, auth, timeout, allow_redirects, proxies, hooks, stream, verify, cert, json)\u001b[0m\n\u001b[1;32m    506\u001b[0m         }\n\u001b[1;32m    507\u001b[0m         \u001b[0msend_kwargs\u001b[0m\u001b[0;34m.\u001b[0m\u001b[0mupdate\u001b[0m\u001b[0;34m(\u001b[0m\u001b[0msettings\u001b[0m\u001b[0;34m)\u001b[0m\u001b[0;34m\u001b[0m\u001b[0m\n\u001b[0;32m--> 508\u001b[0;31m         \u001b[0mresp\u001b[0m \u001b[0;34m=\u001b[0m \u001b[0mself\u001b[0m\u001b[0;34m.\u001b[0m\u001b[0msend\u001b[0m\u001b[0;34m(\u001b[0m\u001b[0mprep\u001b[0m\u001b[0;34m,\u001b[0m \u001b[0;34m**\u001b[0m\u001b[0msend_kwargs\u001b[0m\u001b[0;34m)\u001b[0m\u001b[0;34m\u001b[0m\u001b[0m\n\u001b[0m\u001b[1;32m    509\u001b[0m \u001b[0;34m\u001b[0m\u001b[0m\n\u001b[1;32m    510\u001b[0m         \u001b[0;32mreturn\u001b[0m \u001b[0mresp\u001b[0m\u001b[0;34m\u001b[0m\u001b[0m\n",
      "\u001b[0;32m~/.pyenv/versions/3.5.3/envs/jupyter3/lib/python3.5/site-packages/requests/sessions.py\u001b[0m in \u001b[0;36msend\u001b[0;34m(self, request, **kwargs)\u001b[0m\n\u001b[1;32m    616\u001b[0m \u001b[0;34m\u001b[0m\u001b[0m\n\u001b[1;32m    617\u001b[0m         \u001b[0;31m# Send the request\u001b[0m\u001b[0;34m\u001b[0m\u001b[0;34m\u001b[0m\u001b[0m\n\u001b[0;32m--> 618\u001b[0;31m         \u001b[0mr\u001b[0m \u001b[0;34m=\u001b[0m \u001b[0madapter\u001b[0m\u001b[0;34m.\u001b[0m\u001b[0msend\u001b[0m\u001b[0;34m(\u001b[0m\u001b[0mrequest\u001b[0m\u001b[0;34m,\u001b[0m \u001b[0;34m**\u001b[0m\u001b[0mkwargs\u001b[0m\u001b[0;34m)\u001b[0m\u001b[0;34m\u001b[0m\u001b[0m\n\u001b[0m\u001b[1;32m    619\u001b[0m \u001b[0;34m\u001b[0m\u001b[0m\n\u001b[1;32m    620\u001b[0m         \u001b[0;31m# Total elapsed time of the request (approximately)\u001b[0m\u001b[0;34m\u001b[0m\u001b[0;34m\u001b[0m\u001b[0m\n",
      "\u001b[0;32m~/.pyenv/versions/3.5.3/envs/jupyter3/lib/python3.5/site-packages/requests/adapters.py\u001b[0m in \u001b[0;36msend\u001b[0;34m(self, request, stream, timeout, verify, cert, proxies)\u001b[0m\n\u001b[1;32m    438\u001b[0m                     \u001b[0mdecode_content\u001b[0m\u001b[0;34m=\u001b[0m\u001b[0;32mFalse\u001b[0m\u001b[0;34m,\u001b[0m\u001b[0;34m\u001b[0m\u001b[0m\n\u001b[1;32m    439\u001b[0m                     \u001b[0mretries\u001b[0m\u001b[0;34m=\u001b[0m\u001b[0mself\u001b[0m\u001b[0;34m.\u001b[0m\u001b[0mmax_retries\u001b[0m\u001b[0;34m,\u001b[0m\u001b[0;34m\u001b[0m\u001b[0m\n\u001b[0;32m--> 440\u001b[0;31m                     \u001b[0mtimeout\u001b[0m\u001b[0;34m=\u001b[0m\u001b[0mtimeout\u001b[0m\u001b[0;34m\u001b[0m\u001b[0m\n\u001b[0m\u001b[1;32m    441\u001b[0m                 )\n\u001b[1;32m    442\u001b[0m \u001b[0;34m\u001b[0m\u001b[0m\n",
      "\u001b[0;32m~/.pyenv/versions/3.5.3/envs/jupyter3/lib/python3.5/site-packages/urllib3/connectionpool.py\u001b[0m in \u001b[0;36murlopen\u001b[0;34m(self, method, url, body, headers, retries, redirect, assert_same_host, timeout, pool_timeout, release_conn, chunked, body_pos, **response_kw)\u001b[0m\n\u001b[1;32m    599\u001b[0m                                                   \u001b[0mtimeout\u001b[0m\u001b[0;34m=\u001b[0m\u001b[0mtimeout_obj\u001b[0m\u001b[0;34m,\u001b[0m\u001b[0;34m\u001b[0m\u001b[0m\n\u001b[1;32m    600\u001b[0m                                                   \u001b[0mbody\u001b[0m\u001b[0;34m=\u001b[0m\u001b[0mbody\u001b[0m\u001b[0;34m,\u001b[0m \u001b[0mheaders\u001b[0m\u001b[0;34m=\u001b[0m\u001b[0mheaders\u001b[0m\u001b[0;34m,\u001b[0m\u001b[0;34m\u001b[0m\u001b[0m\n\u001b[0;32m--> 601\u001b[0;31m                                                   chunked=chunked)\n\u001b[0m\u001b[1;32m    602\u001b[0m \u001b[0;34m\u001b[0m\u001b[0m\n\u001b[1;32m    603\u001b[0m             \u001b[0;31m# If we're going to release the connection in ``finally:``, then\u001b[0m\u001b[0;34m\u001b[0m\u001b[0;34m\u001b[0m\u001b[0m\n",
      "\u001b[0;32m~/.pyenv/versions/3.5.3/envs/jupyter3/lib/python3.5/site-packages/urllib3/connectionpool.py\u001b[0m in \u001b[0;36m_make_request\u001b[0;34m(self, conn, method, url, timeout, chunked, **httplib_request_kw)\u001b[0m\n\u001b[1;32m    355\u001b[0m             \u001b[0mconn\u001b[0m\u001b[0;34m.\u001b[0m\u001b[0mrequest_chunked\u001b[0m\u001b[0;34m(\u001b[0m\u001b[0mmethod\u001b[0m\u001b[0;34m,\u001b[0m \u001b[0murl\u001b[0m\u001b[0;34m,\u001b[0m \u001b[0;34m**\u001b[0m\u001b[0mhttplib_request_kw\u001b[0m\u001b[0;34m)\u001b[0m\u001b[0;34m\u001b[0m\u001b[0m\n\u001b[1;32m    356\u001b[0m         \u001b[0;32melse\u001b[0m\u001b[0;34m:\u001b[0m\u001b[0;34m\u001b[0m\u001b[0m\n\u001b[0;32m--> 357\u001b[0;31m             \u001b[0mconn\u001b[0m\u001b[0;34m.\u001b[0m\u001b[0mrequest\u001b[0m\u001b[0;34m(\u001b[0m\u001b[0mmethod\u001b[0m\u001b[0;34m,\u001b[0m \u001b[0murl\u001b[0m\u001b[0;34m,\u001b[0m \u001b[0;34m**\u001b[0m\u001b[0mhttplib_request_kw\u001b[0m\u001b[0;34m)\u001b[0m\u001b[0;34m\u001b[0m\u001b[0m\n\u001b[0m\u001b[1;32m    358\u001b[0m \u001b[0;34m\u001b[0m\u001b[0m\n\u001b[1;32m    359\u001b[0m         \u001b[0;31m# Reset the timeout for the recv() on the socket\u001b[0m\u001b[0;34m\u001b[0m\u001b[0;34m\u001b[0m\u001b[0m\n",
      "\u001b[0;32m~/.pyenv/versions/3.5.3/lib/python3.5/http/client.py\u001b[0m in \u001b[0;36mrequest\u001b[0;34m(self, method, url, body, headers)\u001b[0m\n\u001b[1;32m   1105\u001b[0m     \u001b[0;32mdef\u001b[0m \u001b[0mrequest\u001b[0m\u001b[0;34m(\u001b[0m\u001b[0mself\u001b[0m\u001b[0;34m,\u001b[0m \u001b[0mmethod\u001b[0m\u001b[0;34m,\u001b[0m \u001b[0murl\u001b[0m\u001b[0;34m,\u001b[0m \u001b[0mbody\u001b[0m\u001b[0;34m=\u001b[0m\u001b[0;32mNone\u001b[0m\u001b[0;34m,\u001b[0m \u001b[0mheaders\u001b[0m\u001b[0;34m=\u001b[0m\u001b[0;34m{\u001b[0m\u001b[0;34m}\u001b[0m\u001b[0;34m)\u001b[0m\u001b[0;34m:\u001b[0m\u001b[0;34m\u001b[0m\u001b[0m\n\u001b[1;32m   1106\u001b[0m         \u001b[0;34m\"\"\"Send a complete request to the server.\"\"\"\u001b[0m\u001b[0;34m\u001b[0m\u001b[0m\n\u001b[0;32m-> 1107\u001b[0;31m         \u001b[0mself\u001b[0m\u001b[0;34m.\u001b[0m\u001b[0m_send_request\u001b[0m\u001b[0;34m(\u001b[0m\u001b[0mmethod\u001b[0m\u001b[0;34m,\u001b[0m \u001b[0murl\u001b[0m\u001b[0;34m,\u001b[0m \u001b[0mbody\u001b[0m\u001b[0;34m,\u001b[0m \u001b[0mheaders\u001b[0m\u001b[0;34m)\u001b[0m\u001b[0;34m\u001b[0m\u001b[0m\n\u001b[0m\u001b[1;32m   1108\u001b[0m \u001b[0;34m\u001b[0m\u001b[0m\n\u001b[1;32m   1109\u001b[0m     \u001b[0;32mdef\u001b[0m \u001b[0m_set_content_length\u001b[0m\u001b[0;34m(\u001b[0m\u001b[0mself\u001b[0m\u001b[0;34m,\u001b[0m \u001b[0mbody\u001b[0m\u001b[0;34m,\u001b[0m \u001b[0mmethod\u001b[0m\u001b[0;34m)\u001b[0m\u001b[0;34m:\u001b[0m\u001b[0;34m\u001b[0m\u001b[0m\n",
      "\u001b[0;32m~/.pyenv/versions/3.5.3/lib/python3.5/http/client.py\u001b[0m in \u001b[0;36m_send_request\u001b[0;34m(self, method, url, body, headers)\u001b[0m\n\u001b[1;32m   1150\u001b[0m             \u001b[0;31m# default charset of iso-8859-1.\u001b[0m\u001b[0;34m\u001b[0m\u001b[0;34m\u001b[0m\u001b[0m\n\u001b[1;32m   1151\u001b[0m             \u001b[0mbody\u001b[0m \u001b[0;34m=\u001b[0m \u001b[0m_encode\u001b[0m\u001b[0;34m(\u001b[0m\u001b[0mbody\u001b[0m\u001b[0;34m,\u001b[0m \u001b[0;34m'body'\u001b[0m\u001b[0;34m)\u001b[0m\u001b[0;34m\u001b[0m\u001b[0m\n\u001b[0;32m-> 1152\u001b[0;31m         \u001b[0mself\u001b[0m\u001b[0;34m.\u001b[0m\u001b[0mendheaders\u001b[0m\u001b[0;34m(\u001b[0m\u001b[0mbody\u001b[0m\u001b[0;34m)\u001b[0m\u001b[0;34m\u001b[0m\u001b[0m\n\u001b[0m\u001b[1;32m   1153\u001b[0m \u001b[0;34m\u001b[0m\u001b[0m\n\u001b[1;32m   1154\u001b[0m     \u001b[0;32mdef\u001b[0m \u001b[0mgetresponse\u001b[0m\u001b[0;34m(\u001b[0m\u001b[0mself\u001b[0m\u001b[0;34m)\u001b[0m\u001b[0;34m:\u001b[0m\u001b[0;34m\u001b[0m\u001b[0m\n",
      "\u001b[0;32m~/.pyenv/versions/3.5.3/lib/python3.5/http/client.py\u001b[0m in \u001b[0;36mendheaders\u001b[0;34m(self, message_body)\u001b[0m\n\u001b[1;32m   1101\u001b[0m         \u001b[0;32melse\u001b[0m\u001b[0;34m:\u001b[0m\u001b[0;34m\u001b[0m\u001b[0m\n\u001b[1;32m   1102\u001b[0m             \u001b[0;32mraise\u001b[0m \u001b[0mCannotSendHeader\u001b[0m\u001b[0;34m(\u001b[0m\u001b[0;34m)\u001b[0m\u001b[0;34m\u001b[0m\u001b[0m\n\u001b[0;32m-> 1103\u001b[0;31m         \u001b[0mself\u001b[0m\u001b[0;34m.\u001b[0m\u001b[0m_send_output\u001b[0m\u001b[0;34m(\u001b[0m\u001b[0mmessage_body\u001b[0m\u001b[0;34m)\u001b[0m\u001b[0;34m\u001b[0m\u001b[0m\n\u001b[0m\u001b[1;32m   1104\u001b[0m \u001b[0;34m\u001b[0m\u001b[0m\n\u001b[1;32m   1105\u001b[0m     \u001b[0;32mdef\u001b[0m \u001b[0mrequest\u001b[0m\u001b[0;34m(\u001b[0m\u001b[0mself\u001b[0m\u001b[0;34m,\u001b[0m \u001b[0mmethod\u001b[0m\u001b[0;34m,\u001b[0m \u001b[0murl\u001b[0m\u001b[0;34m,\u001b[0m \u001b[0mbody\u001b[0m\u001b[0;34m=\u001b[0m\u001b[0;32mNone\u001b[0m\u001b[0;34m,\u001b[0m \u001b[0mheaders\u001b[0m\u001b[0;34m=\u001b[0m\u001b[0;34m{\u001b[0m\u001b[0;34m}\u001b[0m\u001b[0;34m)\u001b[0m\u001b[0;34m:\u001b[0m\u001b[0;34m\u001b[0m\u001b[0m\n",
      "\u001b[0;32m~/.pyenv/versions/3.5.3/lib/python3.5/http/client.py\u001b[0m in \u001b[0;36m_send_output\u001b[0;34m(self, message_body)\u001b[0m\n\u001b[1;32m    932\u001b[0m         \u001b[0;32mdel\u001b[0m \u001b[0mself\u001b[0m\u001b[0;34m.\u001b[0m\u001b[0m_buffer\u001b[0m\u001b[0;34m[\u001b[0m\u001b[0;34m:\u001b[0m\u001b[0;34m]\u001b[0m\u001b[0;34m\u001b[0m\u001b[0m\n\u001b[1;32m    933\u001b[0m \u001b[0;34m\u001b[0m\u001b[0m\n\u001b[0;32m--> 934\u001b[0;31m         \u001b[0mself\u001b[0m\u001b[0;34m.\u001b[0m\u001b[0msend\u001b[0m\u001b[0;34m(\u001b[0m\u001b[0mmsg\u001b[0m\u001b[0;34m)\u001b[0m\u001b[0;34m\u001b[0m\u001b[0m\n\u001b[0m\u001b[1;32m    935\u001b[0m         \u001b[0;32mif\u001b[0m \u001b[0mmessage_body\u001b[0m \u001b[0;32mis\u001b[0m \u001b[0;32mnot\u001b[0m \u001b[0;32mNone\u001b[0m\u001b[0;34m:\u001b[0m\u001b[0;34m\u001b[0m\u001b[0m\n\u001b[1;32m    936\u001b[0m             \u001b[0mself\u001b[0m\u001b[0;34m.\u001b[0m\u001b[0msend\u001b[0m\u001b[0;34m(\u001b[0m\u001b[0mmessage_body\u001b[0m\u001b[0;34m)\u001b[0m\u001b[0;34m\u001b[0m\u001b[0m\n",
      "\u001b[0;32m~/.pyenv/versions/3.5.3/lib/python3.5/http/client.py\u001b[0m in \u001b[0;36msend\u001b[0;34m(self, data)\u001b[0m\n\u001b[1;32m    875\u001b[0m         \u001b[0;32mif\u001b[0m \u001b[0mself\u001b[0m\u001b[0;34m.\u001b[0m\u001b[0msock\u001b[0m \u001b[0;32mis\u001b[0m \u001b[0;32mNone\u001b[0m\u001b[0;34m:\u001b[0m\u001b[0;34m\u001b[0m\u001b[0m\n\u001b[1;32m    876\u001b[0m             \u001b[0;32mif\u001b[0m \u001b[0mself\u001b[0m\u001b[0;34m.\u001b[0m\u001b[0mauto_open\u001b[0m\u001b[0;34m:\u001b[0m\u001b[0;34m\u001b[0m\u001b[0m\n\u001b[0;32m--> 877\u001b[0;31m                 \u001b[0mself\u001b[0m\u001b[0;34m.\u001b[0m\u001b[0mconnect\u001b[0m\u001b[0;34m(\u001b[0m\u001b[0;34m)\u001b[0m\u001b[0;34m\u001b[0m\u001b[0m\n\u001b[0m\u001b[1;32m    878\u001b[0m             \u001b[0;32melse\u001b[0m\u001b[0;34m:\u001b[0m\u001b[0;34m\u001b[0m\u001b[0m\n\u001b[1;32m    879\u001b[0m                 \u001b[0;32mraise\u001b[0m \u001b[0mNotConnected\u001b[0m\u001b[0;34m(\u001b[0m\u001b[0;34m)\u001b[0m\u001b[0;34m\u001b[0m\u001b[0m\n",
      "\u001b[0;32m~/.pyenv/versions/3.5.3/envs/jupyter3/lib/python3.5/site-packages/urllib3/connection.py\u001b[0m in \u001b[0;36mconnect\u001b[0;34m(self)\u001b[0m\n\u001b[1;32m    164\u001b[0m \u001b[0;34m\u001b[0m\u001b[0m\n\u001b[1;32m    165\u001b[0m     \u001b[0;32mdef\u001b[0m \u001b[0mconnect\u001b[0m\u001b[0;34m(\u001b[0m\u001b[0mself\u001b[0m\u001b[0;34m)\u001b[0m\u001b[0;34m:\u001b[0m\u001b[0;34m\u001b[0m\u001b[0m\n\u001b[0;32m--> 166\u001b[0;31m         \u001b[0mconn\u001b[0m \u001b[0;34m=\u001b[0m \u001b[0mself\u001b[0m\u001b[0;34m.\u001b[0m\u001b[0m_new_conn\u001b[0m\u001b[0;34m(\u001b[0m\u001b[0;34m)\u001b[0m\u001b[0;34m\u001b[0m\u001b[0m\n\u001b[0m\u001b[1;32m    167\u001b[0m         \u001b[0mself\u001b[0m\u001b[0;34m.\u001b[0m\u001b[0m_prepare_conn\u001b[0m\u001b[0;34m(\u001b[0m\u001b[0mconn\u001b[0m\u001b[0;34m)\u001b[0m\u001b[0;34m\u001b[0m\u001b[0m\n\u001b[1;32m    168\u001b[0m \u001b[0;34m\u001b[0m\u001b[0m\n",
      "\u001b[0;32m~/.pyenv/versions/3.5.3/envs/jupyter3/lib/python3.5/site-packages/urllib3/connection.py\u001b[0m in \u001b[0;36m_new_conn\u001b[0;34m(self)\u001b[0m\n\u001b[1;32m    139\u001b[0m         \u001b[0;32mtry\u001b[0m\u001b[0;34m:\u001b[0m\u001b[0;34m\u001b[0m\u001b[0m\n\u001b[1;32m    140\u001b[0m             conn = connection.create_connection(\n\u001b[0;32m--> 141\u001b[0;31m                 (self.host, self.port), self.timeout, **extra_kw)\n\u001b[0m\u001b[1;32m    142\u001b[0m \u001b[0;34m\u001b[0m\u001b[0m\n\u001b[1;32m    143\u001b[0m         \u001b[0;32mexcept\u001b[0m \u001b[0mSocketTimeout\u001b[0m \u001b[0;32mas\u001b[0m \u001b[0me\u001b[0m\u001b[0;34m:\u001b[0m\u001b[0;34m\u001b[0m\u001b[0m\n",
      "\u001b[0;32m~/.pyenv/versions/3.5.3/envs/jupyter3/lib/python3.5/site-packages/urllib3/util/connection.py\u001b[0m in \u001b[0;36mcreate_connection\u001b[0;34m(address, timeout, source_address, socket_options)\u001b[0m\n\u001b[1;32m     71\u001b[0m             \u001b[0;32mif\u001b[0m \u001b[0msource_address\u001b[0m\u001b[0;34m:\u001b[0m\u001b[0;34m\u001b[0m\u001b[0m\n\u001b[1;32m     72\u001b[0m                 \u001b[0msock\u001b[0m\u001b[0;34m.\u001b[0m\u001b[0mbind\u001b[0m\u001b[0;34m(\u001b[0m\u001b[0msource_address\u001b[0m\u001b[0;34m)\u001b[0m\u001b[0;34m\u001b[0m\u001b[0m\n\u001b[0;32m---> 73\u001b[0;31m             \u001b[0msock\u001b[0m\u001b[0;34m.\u001b[0m\u001b[0mconnect\u001b[0m\u001b[0;34m(\u001b[0m\u001b[0msa\u001b[0m\u001b[0;34m)\u001b[0m\u001b[0;34m\u001b[0m\u001b[0m\n\u001b[0m\u001b[1;32m     74\u001b[0m             \u001b[0;32mreturn\u001b[0m \u001b[0msock\u001b[0m\u001b[0;34m\u001b[0m\u001b[0m\n\u001b[1;32m     75\u001b[0m \u001b[0;34m\u001b[0m\u001b[0m\n",
      "\u001b[0;31mKeyboardInterrupt\u001b[0m: "
     ]
    }
   ],
   "source": [
    "wait=1 # exponential backoff\n",
    "wait_mult = 1.01\n",
    "keys_left = set(range(1, 100000)) - set([int(i) for i in api_data.keys()])\n",
    "for i in tqdm(keys_left):\n",
    "    \n",
    "    if i in api_data:\n",
    "        continue\n",
    "    i = str(i)\n",
    "    if i in api_data:\n",
    "        continue\n",
    "    url = 'http://api.cryptokitties.co/kitties/%s'%i\n",
    "    try:\n",
    "        r = requests.get(url)\n",
    "    except Exception as e:\n",
    "        wait*=wait_mult\n",
    "        print('error1', i, e)\n",
    "        time.sleep(wait)\n",
    "    \n",
    "    if 'Not Found' in r.content.decode():\n",
    "        print(i, r.text)\n",
    "        api_data[i]=np.nan\n",
    "        continue\n",
    "    \n",
    "    try:\n",
    "        api_data[i] = r.json()\n",
    "    except Exception as e:\n",
    "        print('error2', i, r, e)\n",
    "        wait*=wait_mult\n",
    "        time.sleep(wait)"
   ]
  },
  {
   "cell_type": "code",
   "execution_count": 8,
   "metadata": {
    "ExecuteTime": {
     "end_time": "2017-12-08T22:37:51.019234Z",
     "start_time": "2017-12-08T22:37:49.142021Z"
    }
   },
   "outputs": [
    {
     "data": {
      "text/plain": [
       "10024"
      ]
     },
     "execution_count": 8,
     "metadata": {},
     "output_type": "execute_result"
    }
   ],
   "source": [
    "json.dump(api_data, open(api_data_file,'w'))\n",
    "len(api_data)"
   ]
  },
  {
   "cell_type": "code",
   "execution_count": 2,
   "metadata": {
    "ExecuteTime": {
     "end_time": "2017-12-09T00:21:43.862962Z",
     "start_time": "2017-12-09T00:21:42.402697Z"
    }
   },
   "outputs": [],
   "source": [
    "url = 'http://api.cryptokitties.co/kitties?limit=100&offset=%s'%0\n",
    "r = requests.get(url)\n",
    "kitty_data=r.json()\n",
    "total_kitties = kitty_data['total']\n",
    "limit=20\n",
    "overlap=3 # total keeps changing so lets have some overlap to ensure we get them all\n",
    "api_data2={}"
   ]
  },
  {
   "cell_type": "code",
   "execution_count": 3,
   "metadata": {
    "ExecuteTime": {
     "end_time": "2017-12-09T00:21:44.513643Z",
     "start_time": "2017-12-09T00:21:44.474739Z"
    }
   },
   "outputs": [
    {
     "data": {
      "text/plain": [
       "2142"
      ]
     },
     "execution_count": 3,
     "metadata": {},
     "output_type": "execute_result"
    }
   ],
   "source": [
    "api_data2_file = '.cache/api_data2.json'\n",
    "try:\n",
    "    api_data2 = json.load(open(api_data2_file))\n",
    "except FileNotFoundError:\n",
    "    api_data2 = {}\n",
    "len(api_data2)"
   ]
  },
  {
   "cell_type": "code",
   "execution_count": 4,
   "metadata": {
    "ExecuteTime": {
     "end_time": "2017-12-09T00:21:46.428664Z",
     "start_time": "2017-12-09T00:21:45.234480Z"
    }
   },
   "outputs": [
    {
     "data": {
      "text/plain": [
       "165164"
      ]
     },
     "execution_count": 4,
     "metadata": {},
     "output_type": "execute_result"
    }
   ],
   "source": [
    "url = 'http://api.cryptokitties.co/kitties'\n",
    "r = requests.get(url)\n",
    "kitty_data = r.json()\n",
    "total_kitties = kitty_data['total']\n",
    "total_kitties"
   ]
  },
  {
   "cell_type": "code",
   "execution_count": null,
   "metadata": {
    "ExecuteTime": {
     "start_time": "2017-12-09T00:21:46.768Z"
    },
    "scrolled": true
   },
   "outputs": [
    {
     "name": "stderr",
     "output_type": "stream",
     "text": [
      "  0%|          | 1/9716 [00:04<12:17:46,  4.56s/it]"
     ]
    },
    {
     "name": "stdout",
     "output_type": "stream",
     "text": [
      "165164 20 17 165147 [17, 16, 15, 14, 13, 12, 11, 10, 9, 8, 7, 6, 5, 4, 3, 2, 1]\n"
     ]
    },
    {
     "name": "stderr",
     "output_type": "stream",
     "text": [
      "\r",
      "  0%|          | 2/9716 [00:08<11:40:36,  4.33s/it]"
     ]
    },
    {
     "name": "stdout",
     "output_type": "stream",
     "text": [
      "165164 20 34 165130 [34, 33, 32, 31, 30, 29, 28, 27, 26, 25, 24, 23, 22, 21, 20, 19, 18, 17, 16, 15]\n"
     ]
    },
    {
     "name": "stderr",
     "output_type": "stream",
     "text": [
      "\r",
      "  0%|          | 3/9716 [00:13<11:57:20,  4.43s/it]"
     ]
    },
    {
     "name": "stdout",
     "output_type": "stream",
     "text": [
      "165164 20 51 165113 [51, 50, 49, 48, 47, 46, 45, 44, 43, 42, 41, 40, 39, 38, 37, 36, 35, 34, 33, 32]\n"
     ]
    },
    {
     "name": "stderr",
     "output_type": "stream",
     "text": [
      "\r",
      "  0%|          | 4/9716 [00:17<11:48:43,  4.38s/it]"
     ]
    },
    {
     "name": "stdout",
     "output_type": "stream",
     "text": [
      "165164 20 68 165096 [68, 67, 66, 65, 64, 63, 62, 61, 60, 59, 58, 57, 56, 55, 54, 53, 52, 51, 50, 49]\n"
     ]
    },
    {
     "name": "stderr",
     "output_type": "stream",
     "text": [
      "\r",
      "  0%|          | 5/9716 [00:21<11:36:38,  4.30s/it]"
     ]
    },
    {
     "name": "stdout",
     "output_type": "stream",
     "text": [
      "165164 20 85 165079 [85, 84, 83, 82, 81, 80, 79, 78, 77, 76, 75, 74, 73, 72, 71, 70, 69, 68, 67, 66]\n"
     ]
    },
    {
     "name": "stderr",
     "output_type": "stream",
     "text": [
      "\r",
      "  0%|          | 6/9716 [00:25<11:34:22,  4.29s/it]"
     ]
    },
    {
     "name": "stdout",
     "output_type": "stream",
     "text": [
      "165164 20 102 165062 [102, 101, 100, 99, 98, 97, 96, 95, 94, 93, 92, 91, 90, 89, 88, 87, 86, 85, 84, 83]\n"
     ]
    },
    {
     "name": "stderr",
     "output_type": "stream",
     "text": [
      "\r",
      "  0%|          | 7/9716 [00:29<11:15:09,  4.17s/it]"
     ]
    },
    {
     "name": "stdout",
     "output_type": "stream",
     "text": [
      "165164 20 119 165045 [1013, 1012, 1011, 1010, 1009, 1008, 1007, 1006, 1005, 1004, 1003, 1002, 1001, 503, 502, 501, 103, 102, 101, 100]\n"
     ]
    },
    {
     "name": "stderr",
     "output_type": "stream",
     "text": [
      "\r",
      "  0%|          | 8/9716 [00:33<11:10:06,  4.14s/it]"
     ]
    },
    {
     "name": "stdout",
     "output_type": "stream",
     "text": [
      "165164 20 136 165028 [1040, 1039, 1038, 1037, 1036, 1035, 1034, 1033, 1032, 1031, 1020, 1019, 1018, 1017, 1016, 1015, 1014, 1013, 1012, 1011]\n"
     ]
    },
    {
     "name": "stderr",
     "output_type": "stream",
     "text": [
      "\r",
      "  0%|          | 9/9716 [00:36<11:04:08,  4.11s/it]"
     ]
    },
    {
     "name": "stdout",
     "output_type": "stream",
     "text": [
      "165164 20 153 165011 [1057, 1056, 1055, 1054, 1053, 1052, 1051, 1050, 1049, 1048, 1047, 1046, 1045, 1044, 1043, 1042, 1041, 1040, 1039, 1038]\n"
     ]
    },
    {
     "name": "stderr",
     "output_type": "stream",
     "text": [
      "\r",
      "  0%|          | 10/9716 [00:43<11:46:50,  4.37s/it]"
     ]
    },
    {
     "name": "stdout",
     "output_type": "stream",
     "text": [
      "165164 20 170 164994 [1074, 1073, 1072, 1071, 1070, 1069, 1068, 1067, 1066, 1065, 1064, 1063, 1062, 1061, 1060, 1059, 1058, 1057, 1056, 1055]\n"
     ]
    },
    {
     "name": "stderr",
     "output_type": "stream",
     "text": [
      "\r",
      "  0%|          | 11/9716 [00:47<11:41:42,  4.34s/it]"
     ]
    },
    {
     "name": "stdout",
     "output_type": "stream",
     "text": [
      "165164 20 187 164977 [1091, 1090, 1089, 1088, 1087, 1086, 1085, 1084, 1083, 1082, 1081, 1080, 1079, 1078, 1077, 1076, 1075, 1074, 1073, 1072]\n"
     ]
    },
    {
     "name": "stderr",
     "output_type": "stream",
     "text": [
      "\r",
      "  0%|          | 12/9716 [00:51<11:40:18,  4.33s/it]"
     ]
    },
    {
     "name": "stdout",
     "output_type": "stream",
     "text": [
      "165164 20 204 164960 [1108, 1107, 1106, 1105, 1104, 1103, 1102, 1101, 1100, 1099, 1098, 1097, 1096, 1095, 1094, 1093, 1092, 1091, 1090, 1089]\n"
     ]
    },
    {
     "name": "stderr",
     "output_type": "stream",
     "text": [
      "\r",
      "  0%|          | 13/9716 [00:55<11:33:58,  4.29s/it]"
     ]
    },
    {
     "name": "stdout",
     "output_type": "stream",
     "text": [
      "165164 20 221 164943 [1125, 1124, 1123, 1122, 1121, 1120, 1119, 1118, 1117, 1116, 1115, 1114, 1113, 1112, 1111, 1110, 1109, 1108, 1107, 1106]\n"
     ]
    },
    {
     "name": "stderr",
     "output_type": "stream",
     "text": [
      "\r",
      "  0%|          | 14/9716 [00:59<11:29:27,  4.26s/it]"
     ]
    },
    {
     "name": "stdout",
     "output_type": "stream",
     "text": [
      "165164 20 238 164926 [1142, 1141, 1140, 1139, 1138, 1137, 1136, 1135, 1134, 1133, 1132, 1131, 1130, 1129, 1128, 1127, 1126, 1125, 1124, 1123]\n"
     ]
    },
    {
     "name": "stderr",
     "output_type": "stream",
     "text": [
      "\r",
      "  0%|          | 15/9716 [01:03<11:21:47,  4.22s/it]"
     ]
    },
    {
     "name": "stdout",
     "output_type": "stream",
     "text": [
      "165164 20 255 164909 [1160, 1159, 1158, 1157, 1156, 1155, 1154, 1153, 1152, 1151, 1149, 1148, 1147, 1146, 1145, 1144, 1143, 1142, 1141, 1140]\n"
     ]
    },
    {
     "name": "stderr",
     "output_type": "stream",
     "text": [
      "\r",
      "  0%|          | 16/9716 [01:08<11:27:36,  4.25s/it]"
     ]
    },
    {
     "name": "stdout",
     "output_type": "stream",
     "text": [
      "165164 20 272 164892 [1177, 1176, 1175, 1174, 1173, 1172, 1171, 1170, 1169, 1168, 1167, 1166, 1165, 1164, 1163, 1162, 1161, 1160, 1159, 1158]\n"
     ]
    },
    {
     "name": "stderr",
     "output_type": "stream",
     "text": [
      "\r",
      "  0%|          | 17/9716 [01:11<11:21:53,  4.22s/it]"
     ]
    },
    {
     "name": "stdout",
     "output_type": "stream",
     "text": [
      "165164 20 289 164875 [1194, 1193, 1192, 1191, 1190, 1189, 1188, 1187, 1186, 1185, 1184, 1183, 1182, 1181, 1180, 1179, 1178, 1177, 1176, 1175]\n"
     ]
    },
    {
     "name": "stderr",
     "output_type": "stream",
     "text": [
      "\r",
      "  0%|          | 18/9716 [01:16<11:23:47,  4.23s/it]"
     ]
    },
    {
     "name": "stdout",
     "output_type": "stream",
     "text": [
      "165164 20 306 164858 [1211, 1210, 1209, 1208, 1207, 1206, 1205, 1204, 1203, 1202, 1201, 1200, 1199, 1198, 1197, 1196, 1195, 1194, 1193, 1192]\n"
     ]
    },
    {
     "name": "stderr",
     "output_type": "stream",
     "text": [
      "\r",
      "  0%|          | 19/9716 [01:20<11:27:59,  4.26s/it]"
     ]
    },
    {
     "name": "stdout",
     "output_type": "stream",
     "text": [
      "165164 20 323 164841 [1228, 1227, 1226, 1225, 1224, 1223, 1222, 1221, 1220, 1219, 1218, 1217, 1216, 1215, 1214, 1213, 1212, 1211, 1210, 1209]\n"
     ]
    },
    {
     "name": "stderr",
     "output_type": "stream",
     "text": [
      "\r",
      "  0%|          | 20/9716 [01:28<11:54:56,  4.42s/it]"
     ]
    },
    {
     "name": "stdout",
     "output_type": "stream",
     "text": [
      "165164 20 340 164824 [1245, 1244, 1243, 1242, 1241, 1240, 1239, 1238, 1237, 1236, 1235, 1234, 1233, 1232, 1231, 1230, 1229, 1228, 1227, 1226]\n"
     ]
    },
    {
     "name": "stderr",
     "output_type": "stream",
     "text": [
      "\r",
      "  0%|          | 21/9716 [01:34<12:03:23,  4.48s/it]"
     ]
    },
    {
     "name": "stdout",
     "output_type": "stream",
     "text": [
      "165164 20 357 164807 [1262, 1261, 1260, 1259, 1258, 1257, 1256, 1255, 1254, 1253, 1252, 1251, 1250, 1249, 1248, 1247, 1246, 1245, 1244, 1243]\n"
     ]
    },
    {
     "name": "stderr",
     "output_type": "stream",
     "text": [
      "\r",
      "  0%|          | 22/9716 [01:39<12:09:10,  4.51s/it]"
     ]
    },
    {
     "name": "stdout",
     "output_type": "stream",
     "text": [
      "165164 20 374 164790 [1279, 1278, 1277, 1276, 1275, 1274, 1273, 1272, 1271, 1270, 1269, 1268, 1267, 1266, 1265, 1264, 1263, 1262, 1261, 1260]\n"
     ]
    },
    {
     "name": "stderr",
     "output_type": "stream",
     "text": [
      "\r",
      "  0%|          | 23/9716 [01:44<12:13:41,  4.54s/it]"
     ]
    },
    {
     "name": "stdout",
     "output_type": "stream",
     "text": [
      "165169 20 391 164773 [1296, 1295, 1294, 1293, 1292, 1291, 1290, 1289, 1288, 1287, 1286, 1285, 1284, 1283, 1282, 1281, 1280, 1279, 1278, 1277]\n"
     ]
    },
    {
     "name": "stderr",
     "output_type": "stream",
     "text": [
      "\r",
      "  0%|          | 24/9716 [01:52<12:39:39,  4.70s/it]"
     ]
    },
    {
     "name": "stdout",
     "output_type": "stream",
     "text": [
      "165172 20 408 164761 [1316, 1315, 1314, 1313, 1312, 1311, 1310, 1309, 1308, 1307, 1306, 1305, 1304, 1303, 1302, 1301, 1300, 1299, 1298, 1297]\n"
     ]
    },
    {
     "name": "stderr",
     "output_type": "stream",
     "text": [
      "\r",
      "  0%|          | 25/9716 [02:01<13:03:24,  4.85s/it]"
     ]
    },
    {
     "name": "stdout",
     "output_type": "stream",
     "text": [
      "165172 20 425 164747 [1330, 1329, 1328, 1327, 1326, 1325, 1324, 1323, 1322, 1321, 1320, 1319, 1318, 1317, 1316, 1315, 1314, 1313, 1312, 1311]\n"
     ]
    },
    {
     "name": "stderr",
     "output_type": "stream",
     "text": [
      "\r",
      "  0%|          | 26/9716 [02:07<13:10:22,  4.89s/it]"
     ]
    },
    {
     "name": "stdout",
     "output_type": "stream",
     "text": [
      "165172 20 442 164730 [1347, 1346, 1345, 1344, 1343, 1342, 1341, 1340, 1339, 1338, 1337, 1336, 1335, 1334, 1333, 1332, 1331, 1330, 1329, 1328]\n"
     ]
    },
    {
     "name": "stderr",
     "output_type": "stream",
     "text": [
      "\r",
      "  0%|          | 27/9716 [02:16<13:34:12,  5.04s/it]"
     ]
    },
    {
     "name": "stdout",
     "output_type": "stream",
     "text": [
      "165172 20 459 164713 [1364, 1363, 1362, 1361, 1360, 1359, 1358, 1357, 1356, 1355, 1354, 1353, 1352, 1351, 1350, 1349, 1348, 1347, 1346, 1345]\n"
     ]
    },
    {
     "name": "stderr",
     "output_type": "stream",
     "text": [
      "\r",
      "  0%|          | 28/9716 [02:20<13:32:59,  5.04s/it]"
     ]
    },
    {
     "name": "stdout",
     "output_type": "stream",
     "text": [
      "165183 20 476 164696 [1381, 1380, 1379, 1378, 1377, 1376, 1375, 1374, 1373, 1372, 1371, 1370, 1369, 1368, 1367, 1366, 1365, 1364, 1363, 1362]\n"
     ]
    },
    {
     "name": "stderr",
     "output_type": "stream",
     "text": [
      "\r",
      "  0%|          | 29/9716 [02:26<13:34:33,  5.05s/it]"
     ]
    },
    {
     "name": "stdout",
     "output_type": "stream",
     "text": [
      "165183 20 493 164690 [1398, 1397, 1396, 1395, 1394, 1393, 1392, 1391, 1390, 1389, 1388, 1387, 1386, 1385, 1384, 1383, 1382, 1381, 1380, 1379]\n"
     ]
    },
    {
     "name": "stderr",
     "output_type": "stream",
     "text": [
      "\r",
      "  0%|          | 30/9716 [02:32<13:39:12,  5.07s/it]"
     ]
    },
    {
     "name": "stdout",
     "output_type": "stream",
     "text": [
      "165183 20 510 164673 [1415, 1414, 1413, 1412, 1411, 1410, 1409, 1408, 1407, 1406, 1405, 1404, 1403, 1402, 1401, 1400, 1399, 1398, 1397, 1396]\n"
     ]
    },
    {
     "name": "stderr",
     "output_type": "stream",
     "text": [
      "\r",
      "  0%|          | 31/9716 [02:37<13:38:58,  5.07s/it]"
     ]
    },
    {
     "name": "stdout",
     "output_type": "stream",
     "text": [
      "165183 20 527 164656 [1432, 1431, 1430, 1429, 1428, 1427, 1426, 1425, 1424, 1423, 1422, 1421, 1420, 1419, 1418, 1417, 1416, 1415, 1414, 1413]\n"
     ]
    },
    {
     "name": "stderr",
     "output_type": "stream",
     "text": [
      "\r",
      "  0%|          | 32/9716 [02:42<13:41:57,  5.09s/it]"
     ]
    },
    {
     "name": "stdout",
     "output_type": "stream",
     "text": [
      "165183 20 544 164639 [1449, 1448, 1447, 1446, 1445, 1444, 1443, 1442, 1441, 1440, 1439, 1438, 1437, 1436, 1435, 1434, 1433, 1432, 1431, 1430]\n"
     ]
    },
    {
     "name": "stderr",
     "output_type": "stream",
     "text": [
      "\r",
      "  0%|          | 33/9716 [02:48<13:42:35,  5.10s/it]"
     ]
    },
    {
     "name": "stdout",
     "output_type": "stream",
     "text": [
      "165183 20 561 164622 [1466, 1465, 1464, 1463, 1462, 1461, 1460, 1459, 1458, 1457, 1456, 1455, 1454, 1453, 1452, 1451, 1450, 1449, 1448, 1447]\n"
     ]
    },
    {
     "name": "stderr",
     "output_type": "stream",
     "text": [
      "\r",
      "  0%|          | 34/9716 [02:54<13:48:33,  5.13s/it]"
     ]
    },
    {
     "name": "stdout",
     "output_type": "stream",
     "text": [
      "165183 20 578 164605 [1483, 1482, 1481, 1480, 1479, 1478, 1477, 1476, 1475, 1474, 1473, 1472, 1471, 1470, 1469, 1468, 1467, 1466, 1465, 1464]\n"
     ]
    },
    {
     "name": "stderr",
     "output_type": "stream",
     "text": [
      "\r",
      "  0%|          | 35/9716 [03:01<13:55:03,  5.18s/it]"
     ]
    },
    {
     "name": "stdout",
     "output_type": "stream",
     "text": [
      "165183 20 595 164588 [1500, 1499, 1498, 1497, 1496, 1495, 1494, 1493, 1492, 1491, 1490, 1489, 1488, 1487, 1486, 1485, 1484, 1483, 1482, 1481]\n"
     ]
    },
    {
     "name": "stderr",
     "output_type": "stream",
     "text": [
      "\r",
      "  0%|          | 36/9716 [03:07<13:59:41,  5.20s/it]"
     ]
    },
    {
     "name": "stdout",
     "output_type": "stream",
     "text": [
      "165183 20 612 164571 [2016, 2015, 2014, 2013, 2012, 2011, 2010, 2009, 2008, 2007, 2006, 2005, 2004, 2003, 2002, 2001, 1501, 1500, 1499, 1498]\n"
     ]
    },
    {
     "name": "stderr",
     "output_type": "stream",
     "text": [
      "\r",
      "  0%|          | 37/9716 [03:11<13:56:27,  5.19s/it]"
     ]
    },
    {
     "name": "stdout",
     "output_type": "stream",
     "text": [
      "165183 20 629 164554 [2033, 2032, 2031, 2030, 2029, 2028, 2027, 2026, 2025, 2024, 2023, 2022, 2021, 2020, 2019, 2018, 2017, 2016, 2015, 2014]\n"
     ]
    },
    {
     "name": "stderr",
     "output_type": "stream",
     "text": [
      "\r",
      "  0%|          | 38/9716 [03:16<13:52:34,  5.16s/it]"
     ]
    },
    {
     "name": "stdout",
     "output_type": "stream",
     "text": [
      "165183 20 646 164537 [2050, 2049, 2048, 2047, 2046, 2045, 2044, 2043, 2042, 2041, 2040, 2039, 2038, 2037, 2036, 2035, 2034, 2033, 2032, 2031]\n"
     ]
    },
    {
     "name": "stderr",
     "output_type": "stream",
     "text": [
      "\r",
      "  0%|          | 39/9716 [03:19<13:45:59,  5.12s/it]"
     ]
    },
    {
     "name": "stdout",
     "output_type": "stream",
     "text": [
      "165183 20 663 164520 [2067, 2066, 2065, 2064, 2063, 2062, 2061, 2060, 2059, 2058, 2057, 2056, 2055, 2054, 2053, 2052, 2051, 2050, 2049, 2048]\n"
     ]
    },
    {
     "name": "stderr",
     "output_type": "stream",
     "text": [
      "\r",
      "  0%|          | 40/9716 [03:23<13:38:51,  5.08s/it]"
     ]
    },
    {
     "name": "stdout",
     "output_type": "stream",
     "text": [
      "165183 20 680 164503 [2084, 2083, 2082, 2081, 2080, 2079, 2078, 2077, 2076, 2075, 2074, 2073, 2072, 2071, 2070, 2069, 2068, 2067, 2066, 2065]\n"
     ]
    },
    {
     "name": "stderr",
     "output_type": "stream",
     "text": [
      "\r",
      "  0%|          | 41/9716 [03:26<13:33:49,  5.05s/it]"
     ]
    },
    {
     "name": "stdout",
     "output_type": "stream",
     "text": [
      "165183 20 697 164486 [2102, 2101, 2100, 2099, 2098, 2097, 2096, 2095, 2094, 2093, 2091, 2090, 2089, 2088, 2087, 2086, 2085, 2084, 2083, 2082]\n"
     ]
    },
    {
     "name": "stderr",
     "output_type": "stream",
     "text": [
      "\r",
      "  0%|          | 42/9716 [03:30<13:28:09,  5.01s/it]"
     ]
    },
    {
     "name": "stdout",
     "output_type": "stream",
     "text": [
      "165183 20 714 164469 [2119, 2118, 2117, 2116, 2115, 2114, 2113, 2112, 2111, 2110, 2109, 2108, 2107, 2106, 2105, 2104, 2103, 2102, 2101, 2100]\n"
     ]
    },
    {
     "name": "stderr",
     "output_type": "stream",
     "text": [
      "\r",
      "  0%|          | 43/9716 [03:34<13:24:41,  4.99s/it]"
     ]
    },
    {
     "name": "stdout",
     "output_type": "stream",
     "text": [
      "165183 20 731 164452 [2136, 2135, 2134, 2133, 2132, 2131, 2130, 2129, 2128, 2127, 2126, 2125, 2124, 2123, 2122, 2121, 2120, 2119, 2118, 2117]\n"
     ]
    },
    {
     "name": "stderr",
     "output_type": "stream",
     "text": [
      "\r",
      "  0%|          | 44/9716 [03:39<13:22:46,  4.98s/it]"
     ]
    },
    {
     "name": "stdout",
     "output_type": "stream",
     "text": [
      "165183 20 748 164435 [2153, 2152, 2151, 2150, 2149, 2148, 2147, 2146, 2145, 2144, 2143, 2142, 2141, 2140, 2139, 2138, 2137, 2136, 2135, 2134]\n"
     ]
    },
    {
     "name": "stderr",
     "output_type": "stream",
     "text": [
      "\r",
      "  0%|          | 45/9716 [03:42<13:16:59,  4.94s/it]"
     ]
    },
    {
     "name": "stdout",
     "output_type": "stream",
     "text": [
      "165183 20 765 164418 [2170, 2169, 2168, 2167, 2166, 2165, 2164, 2163, 2162, 2161, 2160, 2159, 2158, 2157, 2156, 2155, 2154, 2153, 2152, 2151]\n"
     ]
    },
    {
     "name": "stderr",
     "output_type": "stream",
     "text": [
      "\r",
      "  0%|          | 46/9716 [03:46<13:12:56,  4.92s/it]"
     ]
    },
    {
     "name": "stdout",
     "output_type": "stream",
     "text": [
      "165183 20 782 164401 [2187, 2186, 2185, 2184, 2183, 2182, 2181, 2180, 2179, 2178, 2177, 2176, 2175, 2174, 2173, 2172, 2171, 2170, 2169, 2168]\n"
     ]
    },
    {
     "name": "stderr",
     "output_type": "stream",
     "text": [
      "\r",
      "  0%|          | 47/9716 [03:49<13:08:32,  4.89s/it]"
     ]
    },
    {
     "name": "stdout",
     "output_type": "stream",
     "text": [
      "165183 20 799 164384 [2204, 2203, 2202, 2201, 2200, 2199, 2198, 2197, 2196, 2195, 2194, 2193, 2192, 2191, 2190, 2189, 2188, 2187, 2186, 2185]\n"
     ]
    },
    {
     "name": "stderr",
     "output_type": "stream",
     "text": [
      "\r",
      "  0%|          | 48/9716 [03:53<13:04:18,  4.87s/it]"
     ]
    },
    {
     "name": "stdout",
     "output_type": "stream",
     "text": [
      "165183 20 816 164367 [2221, 2220, 2219, 2218, 2217, 2216, 2215, 2214, 2213, 2212, 2211, 2210, 2209, 2208, 2207, 2206, 2205, 2204, 2203, 2202]\n"
     ]
    },
    {
     "name": "stderr",
     "output_type": "stream",
     "text": [
      "\r",
      "  1%|          | 49/9716 [03:57<13:00:25,  4.84s/it]"
     ]
    },
    {
     "name": "stdout",
     "output_type": "stream",
     "text": [
      "165183 20 833 164350 [2238, 2237, 2236, 2235, 2234, 2233, 2232, 2231, 2230, 2229, 2228, 2227, 2226, 2225, 2224, 2223, 2222, 2221, 2220, 2219]\n"
     ]
    },
    {
     "name": "stderr",
     "output_type": "stream",
     "text": [
      "\r",
      "  1%|          | 50/9716 [04:00<12:55:58,  4.82s/it]"
     ]
    },
    {
     "name": "stdout",
     "output_type": "stream",
     "text": [
      "165185 20 850 164333 [2255, 2254, 2253, 2252, 2251, 2250, 2249, 2248, 2247, 2246, 2245, 2244, 2243, 2242, 2241, 2240, 2239, 2238, 2237, 2236]\n"
     ]
    },
    {
     "name": "stderr",
     "output_type": "stream",
     "text": [
      "\r",
      "  1%|          | 51/9716 [04:04<12:52:54,  4.80s/it]"
     ]
    },
    {
     "name": "stdout",
     "output_type": "stream",
     "text": [
      "165188 20 867 164318 [2275, 2274, 2273, 2272, 2271, 2270, 2269, 2268, 2267, 2266, 2265, 2264, 2263, 2262, 2261, 2260, 2259, 2258, 2257, 2256]\n"
     ]
    },
    {
     "name": "stderr",
     "output_type": "stream",
     "text": [
      "\r",
      "  1%|          | 52/9716 [04:08<12:50:22,  4.78s/it]"
     ]
    },
    {
     "name": "stdout",
     "output_type": "stream",
     "text": [
      "165194 20 884 164304 [2289, 2288, 2287, 2286, 2285, 2284, 2283, 2282, 2281, 2280, 2279, 2278, 2277, 2276, 2275, 2274, 2273, 2272, 2271, 2270]\n"
     ]
    },
    {
     "name": "stderr",
     "output_type": "stream",
     "text": [
      "\r",
      "  1%|          | 53/9716 [04:12<12:46:11,  4.76s/it]"
     ]
    },
    {
     "name": "stdout",
     "output_type": "stream",
     "text": [
      "165194 20 901 164293 [2306, 2305, 2304, 2303, 2302, 2301, 2300, 2299, 2298, 2297, 2296, 2295, 2294, 2293, 2292, 2291, 2290, 2289, 2288, 2287]\n"
     ]
    },
    {
     "name": "stderr",
     "output_type": "stream",
     "text": [
      "\r",
      "  1%|          | 54/9716 [04:16<12:43:44,  4.74s/it]"
     ]
    },
    {
     "name": "stdout",
     "output_type": "stream",
     "text": [
      "165194 20 918 164276 [2323, 2322, 2321, 2320, 2319, 2318, 2317, 2316, 2315, 2314, 2313, 2312, 2311, 2310, 2309, 2308, 2307, 2306, 2305, 2304]\n"
     ]
    },
    {
     "name": "stderr",
     "output_type": "stream",
     "text": [
      "\r",
      "  1%|          | 55/9716 [04:19<12:40:43,  4.72s/it]"
     ]
    },
    {
     "name": "stdout",
     "output_type": "stream",
     "text": [
      "165194 20 935 164259 [2340, 2339, 2338, 2337, 2336, 2335, 2334, 2333, 2332, 2331, 2330, 2329, 2328, 2327, 2326, 2325, 2324, 2323, 2322, 2321]\n"
     ]
    },
    {
     "name": "stderr",
     "output_type": "stream",
     "text": [
      "\r",
      "  1%|          | 56/9716 [04:23<12:37:39,  4.71s/it]"
     ]
    },
    {
     "name": "stdout",
     "output_type": "stream",
     "text": [
      "165194 20 952 164242 [2357, 2356, 2355, 2354, 2353, 2352, 2351, 2350, 2349, 2348, 2347, 2346, 2345, 2344, 2343, 2342, 2341, 2340, 2339, 2338]\n"
     ]
    },
    {
     "name": "stderr",
     "output_type": "stream",
     "text": [
      "\r",
      "  1%|          | 57/9716 [04:27<12:34:46,  4.69s/it]"
     ]
    },
    {
     "name": "stdout",
     "output_type": "stream",
     "text": [
      "165195 20 969 164225 [2374, 2373, 2372, 2371, 2370, 2369, 2368, 2367, 2366, 2365, 2364, 2363, 2362, 2361, 2360, 2359, 2358, 2357, 2356, 2355]\n"
     ]
    },
    {
     "name": "stderr",
     "output_type": "stream",
     "text": [
      "\r",
      "  1%|          | 58/9716 [04:31<12:32:09,  4.67s/it]"
     ]
    },
    {
     "name": "stdout",
     "output_type": "stream",
     "text": [
      "165198 20 986 164209 [2394, 2393, 2392, 2391, 2390, 2389, 2388, 2387, 2386, 2385, 2384, 2383, 2382, 2381, 2380, 2379, 2378, 2377, 2376, 2375]\n"
     ]
    },
    {
     "name": "stderr",
     "output_type": "stream",
     "text": [
      "\r",
      "  1%|          | 59/9716 [04:34<12:29:06,  4.65s/it]"
     ]
    },
    {
     "name": "stdout",
     "output_type": "stream",
     "text": [
      "165198 20 1003 164195 [2408, 2407, 2406, 2405, 2404, 2403, 2402, 2401, 2400, 2399, 2398, 2397, 2396, 2395, 2394, 2393, 2392, 2391, 2390, 2389]\n"
     ]
    },
    {
     "name": "stderr",
     "output_type": "stream",
     "text": [
      "\r",
      "  1%|          | 60/9716 [04:38<12:27:09,  4.64s/it]"
     ]
    },
    {
     "name": "stdout",
     "output_type": "stream",
     "text": [
      "165198 20 1020 164178 [2425, 2424, 2423, 2422, 2421, 2420, 2419, 2418, 2417, 2416, 2415, 2414, 2413, 2412, 2411, 2410, 2409, 2408, 2407, 2406]\n"
     ]
    },
    {
     "name": "stderr",
     "output_type": "stream",
     "text": [
      "\r",
      "  1%|          | 61/9716 [04:42<12:24:46,  4.63s/it]"
     ]
    },
    {
     "name": "stdout",
     "output_type": "stream",
     "text": [
      "165198 20 1037 164161 [2442, 2441, 2440, 2439, 2438, 2437, 2436, 2435, 2434, 2433, 2432, 2431, 2430, 2429, 2428, 2427, 2426, 2425, 2424, 2423]\n"
     ]
    },
    {
     "name": "stderr",
     "output_type": "stream",
     "text": [
      "\r",
      "  1%|          | 62/9716 [04:47<12:25:12,  4.63s/it]"
     ]
    },
    {
     "name": "stdout",
     "output_type": "stream",
     "text": [
      "165198 20 1054 164144 [2459, 2458, 2457, 2456, 2455, 2454, 2453, 2452, 2451, 2450, 2449, 2448, 2447, 2446, 2445, 2444, 2443, 2442, 2441, 2440]\n"
     ]
    },
    {
     "name": "stderr",
     "output_type": "stream",
     "text": [
      "\r",
      "  1%|          | 63/9716 [04:51<12:25:19,  4.63s/it]"
     ]
    },
    {
     "name": "stdout",
     "output_type": "stream",
     "text": [
      "165198 20 1071 164127 [2476, 2475, 2474, 2473, 2472, 2471, 2470, 2469, 2468, 2467, 2466, 2465, 2464, 2463, 2462, 2461, 2460, 2459, 2458, 2457]\n"
     ]
    },
    {
     "name": "stderr",
     "output_type": "stream",
     "text": [
      "\r",
      "  1%|          | 64/9716 [04:56<12:24:45,  4.63s/it]"
     ]
    },
    {
     "name": "stdout",
     "output_type": "stream",
     "text": [
      "165198 20 1088 164110 [2493, 2492, 2491, 2490, 2489, 2488, 2487, 2486, 2485, 2484, 2483, 2482, 2481, 2480, 2479, 2478, 2477, 2476, 2475, 2474]\n"
     ]
    },
    {
     "name": "stderr",
     "output_type": "stream",
     "text": [
      "\r",
      "  1%|          | 65/9716 [04:59<12:22:09,  4.61s/it]"
     ]
    },
    {
     "name": "stdout",
     "output_type": "stream",
     "text": [
      "165198 20 1105 164093 [2510, 2509, 2508, 2507, 2506, 2505, 2504, 2503, 2502, 2501, 2500, 2499, 2498, 2497, 2496, 2495, 2494, 2493, 2492, 2491]\n"
     ]
    },
    {
     "name": "stderr",
     "output_type": "stream",
     "text": [
      "\r",
      "  1%|          | 66/9716 [05:03<12:20:30,  4.60s/it]"
     ]
    },
    {
     "name": "stdout",
     "output_type": "stream",
     "text": [
      "165198 20 1122 164076 [2527, 2526, 2525, 2524, 2523, 2522, 2521, 2520, 2519, 2518, 2517, 2516, 2515, 2514, 2513, 2512, 2511, 2510, 2509, 2508]\n"
     ]
    },
    {
     "name": "stderr",
     "output_type": "stream",
     "text": [
      "\r",
      "  1%|          | 67/9716 [05:07<12:18:55,  4.59s/it]"
     ]
    },
    {
     "name": "stdout",
     "output_type": "stream",
     "text": [
      "165198 20 1139 164059 [2544, 2543, 2542, 2541, 2540, 2539, 2538, 2537, 2536, 2535, 2534, 2533, 2532, 2531, 2530, 2529, 2528, 2527, 2526, 2525]\n"
     ]
    },
    {
     "name": "stderr",
     "output_type": "stream",
     "text": [
      "\r",
      "  1%|          | 68/9716 [05:11<12:16:52,  4.58s/it]"
     ]
    },
    {
     "name": "stdout",
     "output_type": "stream",
     "text": [
      "165198 20 1156 164042 [2561, 2560, 2559, 2558, 2557, 2556, 2555, 2554, 2553, 2552, 2551, 2550, 2549, 2548, 2547, 2546, 2545, 2544, 2543, 2542]\n"
     ]
    },
    {
     "name": "stderr",
     "output_type": "stream",
     "text": [
      "\r",
      "  1%|          | 69/9716 [05:16<12:16:44,  4.58s/it]"
     ]
    },
    {
     "name": "stdout",
     "output_type": "stream",
     "text": [
      "165198 20 1173 164025 [2578, 2577, 2576, 2575, 2574, 2573, 2572, 2571, 2570, 2569, 2568, 2567, 2566, 2565, 2564, 2563, 2562, 2561, 2560, 2559]\n"
     ]
    },
    {
     "name": "stderr",
     "output_type": "stream",
     "text": [
      "\r",
      "  1%|          | 70/9716 [05:20<12:16:11,  4.58s/it]"
     ]
    },
    {
     "name": "stdout",
     "output_type": "stream",
     "text": [
      "165208 20 1190 164008 [2595, 2594, 2593, 2592, 2591, 2590, 2589, 2588, 2587, 2586, 2585, 2584, 2583, 2582, 2581, 2580, 2579, 2578, 2577, 2576]\n"
     ]
    },
    {
     "name": "stderr",
     "output_type": "stream",
     "text": [
      "\r",
      "  1%|          | 71/9716 [05:25<12:17:16,  4.59s/it]"
     ]
    },
    {
     "name": "stdout",
     "output_type": "stream",
     "text": [
      "165208 20 1207 164001 [2612, 2611, 2610, 2609, 2608, 2607, 2606, 2605, 2604, 2603, 2602, 2601, 2600, 2599, 2598, 2597, 2596, 2595, 2594, 2593]\n"
     ]
    },
    {
     "name": "stderr",
     "output_type": "stream",
     "text": [
      "\r",
      "  1%|          | 72/9716 [05:30<12:18:03,  4.59s/it]"
     ]
    },
    {
     "name": "stdout",
     "output_type": "stream",
     "text": [
      "165208 20 1224 163984 [2629, 2628, 2627, 2626, 2625, 2624, 2623, 2622, 2621, 2620, 2619, 2618, 2617, 2616, 2615, 2614, 2613, 2612, 2611, 2610]\n"
     ]
    },
    {
     "name": "stderr",
     "output_type": "stream",
     "text": [
      "\r",
      "  1%|          | 73/9716 [05:38<12:24:38,  4.63s/it]"
     ]
    },
    {
     "name": "stdout",
     "output_type": "stream",
     "text": [
      "165208 20 1241 163967 [2646, 2645, 2644, 2643, 2642, 2641, 2640, 2639, 2638, 2637, 2636, 2635, 2634, 2633, 2632, 2631, 2630, 2629, 2628, 2627]\n"
     ]
    },
    {
     "name": "stderr",
     "output_type": "stream",
     "text": [
      "\r",
      "  1%|          | 74/9716 [05:42<12:23:33,  4.63s/it]"
     ]
    },
    {
     "name": "stdout",
     "output_type": "stream",
     "text": [
      "165208 20 1258 163950 [2663, 2662, 2661, 2660, 2659, 2658, 2657, 2656, 2655, 2654, 2653, 2652, 2651, 2650, 2649, 2648, 2647, 2646, 2645, 2644]\n"
     ]
    },
    {
     "name": "stderr",
     "output_type": "stream",
     "text": [
      "\r",
      "  1%|          | 75/9716 [05:46<12:23:01,  4.62s/it]"
     ]
    },
    {
     "name": "stdout",
     "output_type": "stream",
     "text": [
      "165208 20 1275 163933 [2680, 2679, 2678, 2677, 2676, 2675, 2674, 2673, 2672, 2671, 2670, 2669, 2668, 2667, 2666, 2665, 2664, 2663, 2662, 2661]\n"
     ]
    },
    {
     "name": "stderr",
     "output_type": "stream",
     "text": [
      "\r",
      "  1%|          | 76/9716 [05:50<12:21:28,  4.61s/it]"
     ]
    },
    {
     "name": "stdout",
     "output_type": "stream",
     "text": [
      "165212 20 1292 163916 [2697, 2696, 2695, 2694, 2693, 2692, 2691, 2690, 2689, 2688, 2687, 2686, 2685, 2684, 2683, 2682, 2681, 2680, 2679, 2678]\n"
     ]
    },
    {
     "name": "stderr",
     "output_type": "stream",
     "text": [
      "\r",
      "  1%|          | 77/9716 [05:55<12:22:12,  4.62s/it]"
     ]
    },
    {
     "name": "stdout",
     "output_type": "stream",
     "text": [
      "165218 20 1309 163903 [2720, 2719, 2718, 2717, 2716, 2715, 2714, 2713, 2712, 2711, 2710, 2709, 2708, 2707, 2706, 2705, 2704, 2703, 2702, 2701]\n"
     ]
    },
    {
     "name": "stderr",
     "output_type": "stream",
     "text": [
      "\r",
      "  1%|          | 78/9716 [06:00<12:21:58,  4.62s/it]"
     ]
    },
    {
     "name": "stdout",
     "output_type": "stream",
     "text": [
      "165218 20 1326 163892 [2731, 2730, 2729, 2728, 2727, 2726, 2725, 2724, 2723, 2722, 2721, 2720, 2719, 2718, 2717, 2716, 2715, 2714, 2713, 2712]\n"
     ]
    },
    {
     "name": "stderr",
     "output_type": "stream",
     "text": [
      "\r",
      "  1%|          | 79/9716 [06:04<12:21:06,  4.61s/it]"
     ]
    },
    {
     "name": "stdout",
     "output_type": "stream",
     "text": [
      "165218 20 1343 163875 [2748, 2747, 2746, 2745, 2744, 2743, 2742, 2741, 2740, 2739, 2738, 2737, 2736, 2735, 2734, 2733, 2732, 2731, 2730, 2729]\n"
     ]
    },
    {
     "name": "stderr",
     "output_type": "stream",
     "text": [
      "\r",
      "  1%|          | 80/9716 [06:09<12:22:17,  4.62s/it]"
     ]
    },
    {
     "name": "stdout",
     "output_type": "stream",
     "text": [
      "165218 20 1360 163858 [2765, 2764, 2763, 2762, 2761, 2760, 2759, 2758, 2757, 2756, 2755, 2754, 2753, 2752, 2751, 2750, 2749, 2748, 2747, 2746]\n"
     ]
    },
    {
     "name": "stderr",
     "output_type": "stream",
     "text": [
      "\r",
      "  1%|          | 81/9716 [06:14<12:22:58,  4.63s/it]"
     ]
    },
    {
     "name": "stdout",
     "output_type": "stream",
     "text": [
      "165218 20 1377 163841 [2782, 2781, 2780, 2779, 2778, 2777, 2776, 2775, 2774, 2773, 2772, 2771, 2770, 2769, 2768, 2767, 2766, 2765, 2764, 2763]\n"
     ]
    },
    {
     "name": "stderr",
     "output_type": "stream",
     "text": [
      "\r",
      "  1%|          | 82/9716 [06:22<12:28:46,  4.66s/it]"
     ]
    },
    {
     "name": "stdout",
     "output_type": "stream",
     "text": [
      "165218 20 1394 163824 [3015, 3014, 3013, 3012, 3011, 3010, 3009, 3008, 3007, 3006, 3005, 3004, 3003, 3002, 3001, 2784, 2783, 2782, 2781, 2780]\n"
     ]
    },
    {
     "name": "stderr",
     "output_type": "stream",
     "text": [
      "\r",
      "  1%|          | 83/9716 [06:26<12:28:34,  4.66s/it]"
     ]
    },
    {
     "name": "stdout",
     "output_type": "stream",
     "text": [
      "165218 20 1411 163807 [3032, 3031, 3030, 3029, 3028, 3027, 3026, 3025, 3024, 3023, 3022, 3021, 3020, 3019, 3018, 3017, 3016, 3015, 3014, 3013]\n"
     ]
    },
    {
     "name": "stderr",
     "output_type": "stream",
     "text": [
      "\r",
      "  1%|          | 84/9716 [06:30<12:26:57,  4.65s/it]"
     ]
    },
    {
     "name": "stdout",
     "output_type": "stream",
     "text": [
      "165218 20 1428 163790 [3049, 3048, 3047, 3046, 3045, 3044, 3043, 3042, 3041, 3040, 3039, 3038, 3037, 3036, 3035, 3034, 3033, 3032, 3031, 3030]\n"
     ]
    },
    {
     "name": "stderr",
     "output_type": "stream",
     "text": [
      "\r",
      "  1%|          | 85/9716 [06:35<12:26:21,  4.65s/it]"
     ]
    },
    {
     "name": "stdout",
     "output_type": "stream",
     "text": [
      "165243 20 1445 163773 [3072, 3071, 3070, 3069, 3068, 3067, 3066, 3065, 3064, 3063, 3062, 3061, 3060, 3059, 3058, 3057, 3056, 3055, 3054, 3053]\n"
     ]
    },
    {
     "name": "stderr",
     "output_type": "stream",
     "text": [
      "\r",
      "  1%|          | 86/9716 [06:39<12:26:23,  4.65s/it]"
     ]
    },
    {
     "name": "stdout",
     "output_type": "stream",
     "text": [
      "165243 20 1462 163781 [3083, 3082, 3081, 3080, 3079, 3078, 3077, 3076, 3075, 3074, 3073, 3072, 3071, 3070, 3069, 3068, 3067, 3066, 3065, 3064]\n"
     ]
    },
    {
     "name": "stderr",
     "output_type": "stream",
     "text": [
      "\r",
      "  1%|          | 87/9716 [06:44<12:26:02,  4.65s/it]"
     ]
    },
    {
     "name": "stdout",
     "output_type": "stream",
     "text": [
      "165243 20 1479 163764 [3100, 3099, 3098, 3097, 3096, 3095, 3094, 3093, 3092, 3091, 3090, 3089, 3088, 3087, 3086, 3085, 3084, 3083, 3082, 3081]\n"
     ]
    },
    {
     "name": "stderr",
     "output_type": "stream",
     "text": [
      "\r",
      "  1%|          | 88/9716 [06:55<12:37:09,  4.72s/it]"
     ]
    },
    {
     "name": "stdout",
     "output_type": "stream",
     "text": [
      "165243 20 1496 163747 [3117, 3116, 3115, 3114, 3113, 3112, 3111, 3110, 3109, 3108, 3107, 3106, 3105, 3104, 3103, 3102, 3101, 3100, 3099, 3098]\n"
     ]
    },
    {
     "name": "stderr",
     "output_type": "stream",
     "text": [
      "\r",
      "  1%|          | 89/9716 [07:00<12:37:49,  4.72s/it]"
     ]
    },
    {
     "name": "stdout",
     "output_type": "stream",
     "text": [
      "165243 20 1513 163730 [3134, 3133, 3132, 3131, 3130, 3129, 3128, 3127, 3126, 3125, 3124, 3123, 3122, 3121, 3120, 3119, 3118, 3117, 3116, 3115]\n"
     ]
    },
    {
     "name": "stderr",
     "output_type": "stream",
     "text": [
      "\r",
      "  1%|          | 90/9716 [07:04<12:36:00,  4.71s/it]"
     ]
    },
    {
     "name": "stdout",
     "output_type": "stream",
     "text": [
      "165259 20 1530 163713 [3155, 3154, 3153, 3152, 3151, 3150, 3149, 3148, 3147, 3146, 3145, 3144, 3143, 3142, 3141, 3140, 3139, 3138, 3137, 3136]\n"
     ]
    },
    {
     "name": "stderr",
     "output_type": "stream",
     "text": [
      "\r",
      "  1%|          | 91/9716 [07:08<12:34:52,  4.71s/it]"
     ]
    },
    {
     "name": "stdout",
     "output_type": "stream",
     "text": [
      "165259 20 1547 163712 [3168, 3167, 3166, 3165, 3164, 3163, 3162, 3161, 3160, 3159, 3158, 3157, 3156, 3155, 3154, 3153, 3152, 3151, 3150, 3149]\n"
     ]
    },
    {
     "name": "stderr",
     "output_type": "stream",
     "text": [
      "\r",
      "  1%|          | 92/9716 [07:12<12:33:51,  4.70s/it]"
     ]
    },
    {
     "name": "stdout",
     "output_type": "stream",
     "text": [
      "165259 20 1564 163695 [3185, 3184, 3183, 3182, 3181, 3180, 3179, 3178, 3177, 3176, 3175, 3174, 3173, 3172, 3171, 3170, 3169, 3168, 3167, 3166]\n"
     ]
    },
    {
     "name": "stderr",
     "output_type": "stream",
     "text": [
      "\r",
      "  1%|          | 93/9716 [07:17<12:33:59,  4.70s/it]"
     ]
    },
    {
     "name": "stdout",
     "output_type": "stream",
     "text": [
      "165267 20 1581 163678 [3202, 3201, 3200, 3199, 3198, 3197, 3196, 3195, 3194, 3193, 3192, 3191, 3190, 3189, 3188, 3187, 3186, 3185, 3184, 3183]\n"
     ]
    },
    {
     "name": "stderr",
     "output_type": "stream",
     "text": [
      "\r",
      "  1%|          | 94/9716 [07:21<12:33:14,  4.70s/it]"
     ]
    },
    {
     "name": "stdout",
     "output_type": "stream",
     "text": [
      "165267 20 1598 163669 [3219, 3218, 3217, 3216, 3215, 3214, 3213, 3212, 3211, 3210, 3209, 3208, 3207, 3206, 3205, 3204, 3203, 3202, 3201, 3200]\n"
     ]
    },
    {
     "name": "stderr",
     "output_type": "stream",
     "text": [
      "\r",
      "  1%|          | 95/9716 [07:26<12:33:17,  4.70s/it]"
     ]
    },
    {
     "name": "stdout",
     "output_type": "stream",
     "text": [
      "165267 20 1615 163652 [3236, 3235, 3234, 3233, 3232, 3231, 3230, 3229, 3228, 3227, 3226, 3225, 3224, 3223, 3222, 3221, 3220, 3219, 3218, 3217]\n"
     ]
    },
    {
     "name": "stderr",
     "output_type": "stream",
     "text": [
      "\r",
      "  1%|          | 96/9716 [07:32<12:35:41,  4.71s/it]"
     ]
    },
    {
     "name": "stdout",
     "output_type": "stream",
     "text": [
      "165267 20 1632 163635 [3253, 3252, 3251, 3250, 3249, 3248, 3247, 3246, 3245, 3244, 3243, 3242, 3241, 3240, 3239, 3238, 3237, 3236, 3235, 3234]\n"
     ]
    },
    {
     "name": "stderr",
     "output_type": "stream",
     "text": [
      "\r",
      "  1%|          | 97/9716 [07:36<12:33:41,  4.70s/it]"
     ]
    },
    {
     "name": "stdout",
     "output_type": "stream",
     "text": [
      "165267 20 1649 163618 [3270, 3269, 3268, 3267, 3266, 3265, 3264, 3263, 3262, 3261, 3260, 3259, 3258, 3257, 3256, 3255, 3254, 3253, 3252, 3251]\n"
     ]
    },
    {
     "name": "stderr",
     "output_type": "stream",
     "text": [
      "\r",
      "  1%|          | 98/9716 [07:39<12:32:21,  4.69s/it]"
     ]
    },
    {
     "name": "stdout",
     "output_type": "stream",
     "text": [
      "165267 20 1666 163601 [3287, 3286, 3285, 3284, 3283, 3282, 3281, 3280, 3279, 3278, 3277, 3276, 3275, 3274, 3273, 3272, 3271, 3270, 3269, 3268]\n"
     ]
    },
    {
     "name": "stderr",
     "output_type": "stream",
     "text": [
      "\r",
      "  1%|          | 99/9716 [07:44<12:31:18,  4.69s/it]"
     ]
    },
    {
     "name": "stdout",
     "output_type": "stream",
     "text": [
      "165267 20 1683 163584 [3304, 3303, 3302, 3301, 3300, 3299, 3298, 3297, 3296, 3295, 3294, 3293, 3292, 3291, 3290, 3289, 3288, 3287, 3286, 3285]\n"
     ]
    },
    {
     "name": "stderr",
     "output_type": "stream",
     "text": [
      "\r",
      "  1%|          | 100/9716 [07:47<12:29:24,  4.68s/it]"
     ]
    },
    {
     "name": "stdout",
     "output_type": "stream",
     "text": [
      "165267 20 1700 163567 [3321, 3320, 3319, 3318, 3317, 3316, 3315, 3314, 3313, 3312, 3311, 3310, 3309, 3308, 3307, 3306, 3305, 3304, 3303, 3302]\n"
     ]
    },
    {
     "name": "stderr",
     "output_type": "stream",
     "text": [
      "\r",
      "  1%|          | 101/9716 [07:51<12:27:50,  4.67s/it]"
     ]
    },
    {
     "name": "stdout",
     "output_type": "stream",
     "text": [
      "165267 20 1717 163550 [3338, 3337, 3336, 3335, 3334, 3333, 3332, 3331, 3330, 3329, 3328, 3327, 3326, 3325, 3324, 3323, 3322, 3321, 3320, 3319]\n"
     ]
    },
    {
     "name": "stderr",
     "output_type": "stream",
     "text": [
      "\r",
      "  1%|          | 102/9716 [07:55<12:26:36,  4.66s/it]"
     ]
    },
    {
     "name": "stdout",
     "output_type": "stream",
     "text": [
      "165286 20 1734 163533 [3355, 3354, 3353, 3352, 3351, 3350, 3349, 3348, 3347, 3346, 3345, 3344, 3343, 3342, 3341, 3340, 3339, 3338, 3337, 3336]\n"
     ]
    },
    {
     "name": "stderr",
     "output_type": "stream",
     "text": [
      "\r",
      "  1%|          | 103/9716 [07:58<12:24:50,  4.65s/it]"
     ]
    },
    {
     "name": "stdout",
     "output_type": "stream",
     "text": [
      "165286 20 1751 163535 [3372, 3371, 3370, 3369, 3368, 3367, 3366, 3365, 3364, 3363, 3362, 3361, 3360, 3359, 3358, 3357, 3356, 3355, 3354, 3353]\n"
     ]
    },
    {
     "name": "stderr",
     "output_type": "stream",
     "text": [
      "\r",
      "  1%|          | 104/9716 [08:02<12:23:27,  4.64s/it]"
     ]
    },
    {
     "name": "stdout",
     "output_type": "stream",
     "text": [
      "165286 20 1768 163518 [3389, 3388, 3387, 3386, 3385, 3384, 3383, 3382, 3381, 3380, 3379, 3378, 3377, 3376, 3375, 3374, 3373, 3372, 3371, 3370]\n"
     ]
    },
    {
     "name": "stderr",
     "output_type": "stream",
     "text": [
      "\r",
      "  1%|          | 105/9716 [08:06<12:22:15,  4.63s/it]"
     ]
    },
    {
     "name": "stdout",
     "output_type": "stream",
     "text": [
      "165286 20 1785 163501 [3406, 3405, 3404, 3403, 3402, 3401, 3400, 3399, 3398, 3397, 3396, 3395, 3394, 3393, 3392, 3391, 3390, 3389, 3388, 3387]\n"
     ]
    },
    {
     "name": "stderr",
     "output_type": "stream",
     "text": [
      "\r",
      "  1%|          | 106/9716 [08:11<12:22:15,  4.63s/it]"
     ]
    },
    {
     "name": "stdout",
     "output_type": "stream",
     "text": [
      "165286 20 1802 163484 [3423, 3422, 3421, 3420, 3419, 3418, 3417, 3416, 3415, 3414, 3413, 3412, 3411, 3410, 3409, 3408, 3407, 3406, 3405, 3404]\n"
     ]
    },
    {
     "name": "stderr",
     "output_type": "stream",
     "text": [
      "\r",
      "  1%|          | 107/9716 [08:15<12:21:57,  4.63s/it]"
     ]
    },
    {
     "name": "stdout",
     "output_type": "stream",
     "text": [
      "165286 20 1819 163467 [3440, 3439, 3438, 3437, 3436, 3435, 3434, 3433, 3432, 3431, 3430, 3429, 3428, 3427, 3426, 3425, 3424, 3423, 3422, 3421]\n"
     ]
    },
    {
     "name": "stderr",
     "output_type": "stream",
     "text": [
      "\r",
      "  1%|          | 108/9716 [08:20<12:21:29,  4.63s/it]"
     ]
    },
    {
     "name": "stdout",
     "output_type": "stream",
     "text": [
      "165286 20 1836 163450 [3457, 3456, 3455, 3454, 3453, 3452, 3451, 3450, 3449, 3448, 3447, 3446, 3445, 3444, 3443, 3442, 3441, 3440, 3439, 3438]\n"
     ]
    },
    {
     "name": "stderr",
     "output_type": "stream",
     "text": [
      "\r",
      "  1%|          | 109/9716 [08:24<12:20:37,  4.63s/it]"
     ]
    },
    {
     "name": "stdout",
     "output_type": "stream",
     "text": [
      "165286 20 1853 163433 [3474, 3473, 3472, 3471, 3470, 3469, 3468, 3467, 3466, 3465, 3464, 3463, 3462, 3461, 3460, 3459, 3458, 3457, 3456, 3455]\n"
     ]
    },
    {
     "name": "stderr",
     "output_type": "stream",
     "text": [
      "\r",
      "  1%|          | 110/9716 [08:28<12:19:25,  4.62s/it]"
     ]
    },
    {
     "name": "stdout",
     "output_type": "stream",
     "text": [
      "165286 20 1870 163416 [3491, 3490, 3489, 3488, 3487, 3486, 3485, 3484, 3483, 3482, 3481, 3480, 3479, 3478, 3477, 3476, 3475, 3474, 3473, 3472]\n"
     ]
    },
    {
     "name": "stderr",
     "output_type": "stream",
     "text": [
      "\r",
      "  1%|          | 111/9716 [08:32<12:18:38,  4.61s/it]"
     ]
    },
    {
     "name": "stdout",
     "output_type": "stream",
     "text": [
      "165286 20 1887 163399 [3508, 3507, 3506, 3505, 3504, 3503, 3502, 3501, 3500, 3499, 3498, 3497, 3496, 3495, 3494, 3493, 3492, 3491, 3490, 3489]\n"
     ]
    },
    {
     "name": "stderr",
     "output_type": "stream",
     "text": [
      "\r",
      "  1%|          | 112/9716 [08:36<12:18:03,  4.61s/it]"
     ]
    },
    {
     "name": "stdout",
     "output_type": "stream",
     "text": [
      "165286 20 1904 163382 [3525, 3524, 3523, 3522, 3521, 3520, 3519, 3518, 3517, 3516, 3515, 3514, 3513, 3512, 3511, 3510, 3509, 3508, 3507, 3506]\n"
     ]
    },
    {
     "name": "stderr",
     "output_type": "stream",
     "text": [
      "\r",
      "  1%|          | 113/9716 [08:40<12:16:44,  4.60s/it]"
     ]
    },
    {
     "name": "stdout",
     "output_type": "stream",
     "text": [
      "165286 20 1921 163365 [3542, 3541, 3540, 3539, 3538, 3537, 3536, 3535, 3534, 3533, 3532, 3531, 3530, 3529, 3528, 3527, 3526, 3525, 3524, 3523]\n"
     ]
    },
    {
     "name": "stderr",
     "output_type": "stream",
     "text": [
      "\r",
      "  1%|          | 114/9716 [08:43<12:15:29,  4.60s/it]"
     ]
    },
    {
     "name": "stdout",
     "output_type": "stream",
     "text": [
      "165286 20 1938 163348 [3559, 3558, 3557, 3556, 3555, 3554, 3553, 3552, 3551, 3550, 3549, 3548, 3547, 3546, 3545, 3544, 3543, 3542, 3541, 3540]\n"
     ]
    },
    {
     "name": "stderr",
     "output_type": "stream",
     "text": [
      "\r",
      "  1%|          | 115/9716 [08:47<12:14:26,  4.59s/it]"
     ]
    },
    {
     "name": "stdout",
     "output_type": "stream",
     "text": [
      "165286 20 1955 163331 [3576, 3575, 3574, 3573, 3572, 3571, 3570, 3569, 3568, 3567, 3566, 3565, 3564, 3563, 3562, 3561, 3560, 3559, 3558, 3557]\n"
     ]
    },
    {
     "name": "stderr",
     "output_type": "stream",
     "text": [
      "\r",
      "  1%|          | 116/9716 [08:51<12:13:19,  4.58s/it]"
     ]
    },
    {
     "name": "stdout",
     "output_type": "stream",
     "text": [
      "165286 20 1972 163314 [3593, 3592, 3591, 3590, 3589, 3588, 3587, 3586, 3585, 3584, 3583, 3582, 3581, 3580, 3579, 3578, 3577, 3576, 3575, 3574]\n"
     ]
    },
    {
     "name": "stderr",
     "output_type": "stream",
     "text": [
      "\r",
      "  1%|          | 117/9716 [08:57<12:14:22,  4.59s/it]"
     ]
    },
    {
     "name": "stdout",
     "output_type": "stream",
     "text": [
      "165296 20 1989 163297 [3610, 3609, 3608, 3607, 3606, 3605, 3604, 3603, 3602, 3601, 3600, 3599, 3598, 3597, 3596, 3595, 3594, 3593, 3592, 3591]\n"
     ]
    },
    {
     "name": "stderr",
     "output_type": "stream",
     "text": [
      "\r",
      "  1%|          | 118/9716 [09:01<12:13:50,  4.59s/it]"
     ]
    },
    {
     "name": "stdout",
     "output_type": "stream",
     "text": [
      "165296 20 2006 163290 [3627, 3626, 3625, 3624, 3623, 3622, 3621, 3620, 3619, 3618, 3617, 3616, 3615, 3614, 3613, 3612, 3611, 3610, 3609, 3608]\n"
     ]
    },
    {
     "name": "stderr",
     "output_type": "stream",
     "text": [
      "\r",
      "  1%|          | 119/9716 [09:05<12:13:02,  4.58s/it]"
     ]
    },
    {
     "name": "stdout",
     "output_type": "stream",
     "text": [
      "165296 20 2023 163273 [3644, 3643, 3642, 3641, 3640, 3639, 3638, 3637, 3636, 3635, 3634, 3633, 3632, 3631, 3630, 3629, 3628, 3627, 3626, 3625]\n"
     ]
    },
    {
     "name": "stderr",
     "output_type": "stream",
     "text": [
      "\r",
      "  1%|          | 120/9716 [09:09<12:11:48,  4.58s/it]"
     ]
    },
    {
     "name": "stdout",
     "output_type": "stream",
     "text": [
      "165296 20 2040 163256 [3661, 3660, 3659, 3658, 3657, 3656, 3655, 3654, 3653, 3652, 3651, 3650, 3649, 3648, 3647, 3646, 3645, 3644, 3643, 3642]\n"
     ]
    },
    {
     "name": "stderr",
     "output_type": "stream",
     "text": [
      "\r",
      "  1%|          | 121/9716 [09:12<12:10:38,  4.57s/it]"
     ]
    },
    {
     "name": "stdout",
     "output_type": "stream",
     "text": [
      "165296 20 2057 163239 [3678, 3677, 3676, 3675, 3674, 3673, 3672, 3671, 3670, 3669, 3668, 3667, 3666, 3665, 3664, 3663, 3662, 3661, 3660, 3659]\n"
     ]
    },
    {
     "name": "stderr",
     "output_type": "stream",
     "text": [
      "\r",
      "  1%|▏         | 122/9716 [09:16<12:09:43,  4.56s/it]"
     ]
    },
    {
     "name": "stdout",
     "output_type": "stream",
     "text": [
      "165301 20 2074 163222 [3695, 3694, 3693, 3692, 3691, 3690, 3689, 3688, 3687, 3686, 3685, 3684, 3683, 3682, 3681, 3680, 3679, 3678, 3677, 3676]\n"
     ]
    },
    {
     "name": "stderr",
     "output_type": "stream",
     "text": [
      "\r",
      "  1%|▏         | 123/9716 [09:21<12:09:57,  4.57s/it]"
     ]
    },
    {
     "name": "stdout",
     "output_type": "stream",
     "text": [
      "165301 20 2091 163210 [3712, 3711, 3710, 3709, 3708, 3707, 3706, 3705, 3704, 3703, 3702, 3701, 3700, 3699, 3698, 3697, 3696, 3695, 3694, 3693]\n"
     ]
    },
    {
     "name": "stderr",
     "output_type": "stream",
     "text": [
      "\r",
      "  1%|▏         | 124/9716 [09:26<12:10:00,  4.57s/it]"
     ]
    },
    {
     "name": "stdout",
     "output_type": "stream",
     "text": [
      "165301 20 2108 163193 [3729, 3728, 3727, 3726, 3725, 3724, 3723, 3722, 3721, 3720, 3719, 3718, 3717, 3716, 3715, 3714, 3713, 3712, 3711, 3710]\n"
     ]
    },
    {
     "name": "stderr",
     "output_type": "stream",
     "text": [
      "\r",
      "  1%|▏         | 125/9716 [09:30<12:10:02,  4.57s/it]"
     ]
    },
    {
     "name": "stdout",
     "output_type": "stream",
     "text": [
      "165308 20 2125 163176 [3746, 3745, 3744, 3743, 3742, 3741, 3740, 3739, 3738, 3737, 3736, 3735, 3734, 3733, 3732, 3731, 3730, 3729, 3728, 3727]\n"
     ]
    },
    {
     "name": "stderr",
     "output_type": "stream",
     "text": [
      "\r",
      "  1%|▏         | 126/9716 [09:35<12:10:11,  4.57s/it]"
     ]
    },
    {
     "name": "stdout",
     "output_type": "stream",
     "text": [
      "165320 20 2142 163166 [3769, 3768, 3767, 3766, 3765, 3764, 3763, 3762, 3761, 3760, 3759, 3758, 3757, 3756, 3755, 3754, 3753, 3752, 3751, 3750]\n"
     ]
    },
    {
     "name": "stderr",
     "output_type": "stream",
     "text": [
      "\r",
      "  1%|▏         | 127/9716 [09:47<12:18:53,  4.62s/it]"
     ]
    },
    {
     "name": "stdout",
     "output_type": "stream",
     "text": [
      "165325 20 2159 163161 [3780, 3779, 3778, 3777, 3776, 3775, 3774, 3773, 3772, 3771, 3770, 3769, 3768, 3767, 3766, 3765, 3764, 3763, 3762, 3761]\n"
     ]
    },
    {
     "name": "stderr",
     "output_type": "stream",
     "text": [
      "\r",
      "  1%|▏         | 128/9716 [09:51<12:18:43,  4.62s/it]"
     ]
    },
    {
     "name": "stdout",
     "output_type": "stream",
     "text": [
      "165325 20 2176 163149 [3797, 3796, 3795, 3794, 3793, 3792, 3791, 3790, 3789, 3788, 3787, 3786, 3785, 3784, 3783, 3782, 3781, 3780, 3779, 3778]\n"
     ]
    },
    {
     "name": "stderr",
     "output_type": "stream",
     "text": [
      "\r",
      "  1%|▏         | 129/9716 [09:58<12:21:12,  4.64s/it]"
     ]
    },
    {
     "name": "stdout",
     "output_type": "stream",
     "text": [
      "165325 20 2193 163132 [3814, 3813, 3812, 3811, 3810, 3809, 3808, 3807, 3806, 3805, 3804, 3803, 3802, 3801, 3800, 3799, 3798, 3797, 3796, 3795]\n"
     ]
    },
    {
     "name": "stderr",
     "output_type": "stream",
     "text": [
      "\r",
      "  1%|▏         | 130/9716 [10:03<12:21:27,  4.64s/it]"
     ]
    },
    {
     "name": "stdout",
     "output_type": "stream",
     "text": [
      "165325 20 2210 163115 [3831, 3830, 3829, 3828, 3827, 3826, 3825, 3824, 3823, 3822, 3821, 3820, 3819, 3818, 3817, 3816, 3815, 3814, 3813, 3812]\n"
     ]
    },
    {
     "name": "stderr",
     "output_type": "stream",
     "text": [
      "\r",
      "  1%|▏         | 131/9716 [10:08<12:21:39,  4.64s/it]"
     ]
    },
    {
     "name": "stdout",
     "output_type": "stream",
     "text": [
      "165330 20 2227 163098 [3848, 3847, 3846, 3845, 3844, 3843, 3842, 3841, 3840, 3839, 3838, 3837, 3836, 3835, 3834, 3833, 3832, 3831, 3830, 3829]\n"
     ]
    },
    {
     "name": "stderr",
     "output_type": "stream",
     "text": [
      "\r",
      "  1%|▏         | 132/9716 [10:13<12:22:23,  4.65s/it]"
     ]
    },
    {
     "name": "stdout",
     "output_type": "stream",
     "text": [
      "165330 20 2244 163086 [3865, 3864, 3863, 3862, 3861, 3860, 3859, 3858, 3857, 3856, 3855, 3854, 3853, 3852, 3851, 3850, 3849, 3848, 3847, 3846]\n"
     ]
    },
    {
     "name": "stderr",
     "output_type": "stream",
     "text": [
      "\r",
      "  1%|▏         | 133/9716 [10:19<12:24:29,  4.66s/it]"
     ]
    },
    {
     "name": "stdout",
     "output_type": "stream",
     "text": [
      "165343 20 2261 163069 [3882, 3881, 3880, 3879, 3878, 3877, 3876, 3875, 3874, 3873, 3872, 3871, 3870, 3869, 3868, 3867, 3866, 3865, 3864, 3863]\n"
     ]
    },
    {
     "name": "stderr",
     "output_type": "stream",
     "text": [
      "\r",
      "  1%|▏         | 134/9716 [10:24<12:23:58,  4.66s/it]"
     ]
    },
    {
     "name": "stdout",
     "output_type": "stream",
     "text": [
      "165343 20 2278 163065 [3899, 3898, 3897, 3896, 3895, 3894, 3893, 3892, 3891, 3890, 3889, 3888, 3887, 3886, 3885, 3884, 3883, 3882, 3881, 3880]\n"
     ]
    },
    {
     "name": "stderr",
     "output_type": "stream",
     "text": [
      "\r",
      "  1%|▏         | 135/9716 [10:29<12:24:41,  4.66s/it]"
     ]
    },
    {
     "name": "stdout",
     "output_type": "stream",
     "text": [
      "165356 20 2295 163048 [3916, 3915, 3914, 3913, 3912, 3911, 3910, 3909, 3908, 3907, 3906, 3905, 3904, 3903, 3902, 3901, 3900, 3899, 3898, 3897]\n"
     ]
    },
    {
     "name": "stderr",
     "output_type": "stream",
     "text": [
      "\r",
      "  1%|▏         | 136/9716 [10:33<12:23:46,  4.66s/it]"
     ]
    },
    {
     "name": "stdout",
     "output_type": "stream",
     "text": [
      "165371 20 2312 163044 [3933, 3932, 3931, 3930, 3929, 3928, 3927, 3926, 3925, 3924, 3923, 3922, 3921, 3920, 3919, 3918, 3917, 3916, 3915, 3914]\n"
     ]
    },
    {
     "name": "stderr",
     "output_type": "stream",
     "text": [
      "\r",
      "  1%|▏         | 137/9716 [10:37<12:23:10,  4.66s/it]"
     ]
    },
    {
     "name": "stdout",
     "output_type": "stream",
     "text": [
      "165373 20 2329 163042 [3950, 3949, 3948, 3947, 3946, 3945, 3944, 3943, 3942, 3941, 3940, 3939, 3938, 3937, 3936, 3935, 3934, 3933, 3932, 3931]\n"
     ]
    },
    {
     "name": "stderr",
     "output_type": "stream",
     "text": [
      "\r",
      "  1%|▏         | 138/9716 [10:44<12:26:04,  4.67s/it]"
     ]
    },
    {
     "name": "stdout",
     "output_type": "stream",
     "text": [
      "165385 20 2346 163027 [3967, 3966, 3965, 3964, 3963, 3962, 3961, 3960, 3959, 3958, 3957, 3956, 3955, 3954, 3953, 3952, 3951, 3950, 3949, 3948]\n"
     ]
    },
    {
     "name": "stderr",
     "output_type": "stream",
     "text": [
      "\r",
      "  1%|▏         | 139/9716 [10:51<12:28:10,  4.69s/it]"
     ]
    },
    {
     "name": "stdout",
     "output_type": "stream",
     "text": [
      "165386 20 2363 163022 [3985, 3984, 3983, 3982, 3981, 3980, 3979, 3978, 3977, 3976, 3975, 3974, 3973, 3972, 3971, 3970, 3969, 3968, 3967, 3966]\n"
     ]
    },
    {
     "name": "stderr",
     "output_type": "stream",
     "text": [
      "\r",
      "  1%|▏         | 140/9716 [11:04<12:37:29,  4.75s/it]"
     ]
    },
    {
     "name": "stdout",
     "output_type": "stream",
     "text": [
      "165403 20 2380 163006 [4001, 4000, 3999, 3998, 3997, 3996, 3995, 3994, 3993, 3992, 3991, 3990, 3989, 3988, 3987, 3986, 3985, 3984, 3983, 3982]\n"
     ]
    },
    {
     "name": "stderr",
     "output_type": "stream",
     "text": [
      "\r",
      "  1%|▏         | 141/9716 [11:08<12:37:10,  4.74s/it]"
     ]
    },
    {
     "name": "stdout",
     "output_type": "stream",
     "text": [
      "165403 20 2397 163006 [4018, 4017, 4016, 4015, 4014, 4013, 4012, 4011, 4010, 4009, 4008, 4007, 4006, 4005, 4004, 4003, 4002, 4001, 4000, 3999]\n"
     ]
    },
    {
     "name": "stderr",
     "output_type": "stream",
     "text": [
      "\r",
      "  1%|▏         | 142/9716 [11:12<12:36:02,  4.74s/it]"
     ]
    },
    {
     "name": "stdout",
     "output_type": "stream",
     "text": [
      "165403 20 2414 162989 [4035, 4034, 4033, 4032, 4031, 4030, 4029, 4028, 4027, 4026, 4025, 4024, 4023, 4022, 4021, 4020, 4019, 4018, 4017, 4016]\n"
     ]
    },
    {
     "name": "stderr",
     "output_type": "stream",
     "text": [
      "\r",
      "  1%|▏         | 143/9716 [11:16<12:35:01,  4.73s/it]"
     ]
    },
    {
     "name": "stdout",
     "output_type": "stream",
     "text": [
      "165403 20 2431 162972 [4052, 4051, 4050, 4049, 4048, 4047, 4046, 4045, 4044, 4043, 4042, 4041, 4040, 4039, 4038, 4037, 4036, 4035, 4034, 4033]\n"
     ]
    },
    {
     "name": "stderr",
     "output_type": "stream",
     "text": [
      "\r",
      "  1%|▏         | 144/9716 [11:20<12:34:21,  4.73s/it]"
     ]
    },
    {
     "name": "stdout",
     "output_type": "stream",
     "text": [
      "165409 20 2448 162955 [4069, 4068, 4067, 4066, 4065, 4064, 4063, 4062, 4061, 4060, 4059, 4058, 4057, 4056, 4055, 4054, 4053, 4052, 4051, 4050]\n"
     ]
    },
    {
     "name": "stderr",
     "output_type": "stream",
     "text": [
      "\r",
      "  1%|▏         | 145/9716 [11:24<12:32:55,  4.72s/it]"
     ]
    },
    {
     "name": "stdout",
     "output_type": "stream",
     "text": [
      "165409 20 2465 162944 [4086, 4085, 4084, 4083, 4082, 4081, 4080, 4079, 4078, 4077, 4076, 4075, 4074, 4073, 4072, 4071, 4070, 4069, 4068, 4067]\n"
     ]
    },
    {
     "name": "stderr",
     "output_type": "stream",
     "text": [
      "\r",
      "  2%|▏         | 146/9716 [11:28<12:31:55,  4.71s/it]"
     ]
    },
    {
     "name": "stdout",
     "output_type": "stream",
     "text": [
      "165411 20 2482 162927 [4103, 4102, 4101, 4100, 4099, 4098, 4097, 4096, 4095, 4094, 4093, 4092, 4091, 4090, 4089, 4088, 4087, 4086, 4085, 4084]\n"
     ]
    },
    {
     "name": "stderr",
     "output_type": "stream",
     "text": [
      "\r",
      "  2%|▏         | 147/9716 [11:32<12:31:16,  4.71s/it]"
     ]
    },
    {
     "name": "stdout",
     "output_type": "stream",
     "text": [
      "165411 20 2499 162912 [4120, 4119, 4118, 4117, 4116, 4115, 4114, 4113, 4112, 4111, 4110, 4109, 4108, 4107, 4106, 4105, 4104, 4103, 4102, 4101]\n"
     ]
    },
    {
     "name": "stderr",
     "output_type": "stream",
     "text": [
      "\r",
      "  2%|▏         | 148/9716 [11:36<12:30:00,  4.70s/it]"
     ]
    },
    {
     "name": "stdout",
     "output_type": "stream",
     "text": [
      "165416 20 2516 162895 [4137, 4136, 4135, 4134, 4133, 4132, 4131, 4130, 4129, 4128, 4127, 4126, 4125, 4124, 4123, 4122, 4121, 4120, 4119, 4118]\n"
     ]
    },
    {
     "name": "stderr",
     "output_type": "stream",
     "text": [
      "\r",
      "  2%|▏         | 149/9716 [11:39<12:29:04,  4.70s/it]"
     ]
    },
    {
     "name": "stdout",
     "output_type": "stream",
     "text": [
      "165416 20 2533 162883 [4154, 4153, 4152, 4151, 4150, 4149, 4148, 4147, 4146, 4145, 4144, 4143, 4142, 4141, 4140, 4139, 4138, 4137, 4136, 4135]\n"
     ]
    },
    {
     "name": "stderr",
     "output_type": "stream",
     "text": [
      "\r",
      "  2%|▏         | 150/9716 [11:43<12:28:05,  4.69s/it]"
     ]
    },
    {
     "name": "stdout",
     "output_type": "stream",
     "text": [
      "165420 20 2550 162866 [4171, 4170, 4169, 4168, 4167, 4166, 4165, 4164, 4163, 4162, 4161, 4160, 4159, 4158, 4157, 4156, 4155, 4154, 4153, 4152]\n"
     ]
    },
    {
     "name": "stderr",
     "output_type": "stream",
     "text": [
      "\r",
      "  2%|▏         | 151/9716 [11:47<12:26:46,  4.68s/it]"
     ]
    },
    {
     "name": "stdout",
     "output_type": "stream",
     "text": [
      "165422 20 2567 162853 [4188, 4187, 4186, 4185, 4184, 4183, 4182, 4181, 4180, 4179, 4178, 4177, 4176, 4175, 4174, 4173, 4172, 4171, 4170, 4169]\n"
     ]
    },
    {
     "name": "stderr",
     "output_type": "stream",
     "text": [
      "\r",
      "  2%|▏         | 152/9716 [11:51<12:25:57,  4.68s/it]"
     ]
    },
    {
     "name": "stdout",
     "output_type": "stream",
     "text": [
      "165431 20 2584 162838 [4214, 4213, 4212, 4211, 4210, 4209, 4208, 4207, 4206, 4205, 4204, 4203, 4202, 4201, 4200, 4199, 4198, 4197, 4196, 4195]\n"
     ]
    },
    {
     "name": "stderr",
     "output_type": "stream",
     "text": [
      "\r",
      "  2%|▏         | 153/9716 [11:55<12:24:52,  4.67s/it]"
     ]
    },
    {
     "name": "stdout",
     "output_type": "stream",
     "text": [
      "165431 20 2601 162830 [4222, 4221, 4220, 4219, 4218, 4217, 4216, 4215, 4214, 4213, 4212, 4211, 4210, 4209, 4208, 4207, 4206, 4205, 4204, 4203]\n"
     ]
    },
    {
     "name": "stderr",
     "output_type": "stream",
     "text": [
      "\r",
      "  2%|▏         | 154/9716 [11:58<12:23:58,  4.67s/it]"
     ]
    },
    {
     "name": "stdout",
     "output_type": "stream",
     "text": [
      "165431 20 2618 162813 [4239, 4238, 4237, 4236, 4235, 4234, 4233, 4232, 4231, 4230, 4229, 4228, 4227, 4226, 4225, 4224, 4223, 4222, 4221, 4220]\n"
     ]
    },
    {
     "name": "stderr",
     "output_type": "stream",
     "text": [
      "\r",
      "  2%|▏         | 155/9716 [12:02<12:22:48,  4.66s/it]"
     ]
    },
    {
     "name": "stdout",
     "output_type": "stream",
     "text": [
      "165431 20 2635 162796 [4256, 4255, 4254, 4253, 4252, 4251, 4250, 4249, 4248, 4247, 4246, 4245, 4244, 4243, 4242, 4241, 4240, 4239, 4238, 4237]\n"
     ]
    },
    {
     "name": "stderr",
     "output_type": "stream",
     "text": [
      "\r",
      "  2%|▏         | 156/9716 [12:06<12:22:02,  4.66s/it]"
     ]
    },
    {
     "name": "stdout",
     "output_type": "stream",
     "text": [
      "165447 20 2652 162779 [4273, 4272, 4271, 4270, 4269, 4268, 4267, 4266, 4265, 4264, 4263, 4262, 4261, 4260, 4259, 4258, 4257, 4256, 4255, 4254]\n"
     ]
    },
    {
     "name": "stderr",
     "output_type": "stream",
     "text": [
      "\r",
      "  2%|▏         | 157/9716 [12:10<12:21:16,  4.65s/it]"
     ]
    },
    {
     "name": "stdout",
     "output_type": "stream",
     "text": [
      "165447 20 2669 162778 [4290, 4289, 4288, 4287, 4286, 4285, 4284, 4283, 4282, 4281, 4280, 4279, 4278, 4277, 4276, 4275, 4274, 4273, 4272, 4271]\n"
     ]
    },
    {
     "name": "stderr",
     "output_type": "stream",
     "text": [
      "\r",
      "  2%|▏         | 158/9716 [12:14<12:20:33,  4.65s/it]"
     ]
    },
    {
     "name": "stdout",
     "output_type": "stream",
     "text": [
      "165447 20 2686 162761 [4307, 4306, 4305, 4304, 4303, 4302, 4301, 4300, 4299, 4298, 4297, 4296, 4295, 4294, 4293, 4292, 4291, 4290, 4289, 4288]\n"
     ]
    },
    {
     "name": "stderr",
     "output_type": "stream",
     "text": [
      "\r",
      "  2%|▏         | 159/9716 [12:18<12:19:41,  4.64s/it]"
     ]
    },
    {
     "name": "stdout",
     "output_type": "stream",
     "text": [
      "165447 20 2703 162744 [4324, 4323, 4322, 4321, 4320, 4319, 4318, 4317, 4316, 4315, 4314, 4313, 4312, 4311, 4310, 4309, 4308, 4307, 4306, 4305]\n"
     ]
    },
    {
     "name": "stderr",
     "output_type": "stream",
     "text": [
      "\r",
      "  2%|▏         | 160/9716 [12:21<12:18:31,  4.64s/it]"
     ]
    },
    {
     "name": "stdout",
     "output_type": "stream",
     "text": [
      "165447 20 2720 162727 [4341, 4340, 4339, 4338, 4337, 4336, 4335, 4334, 4333, 4332, 4331, 4330, 4329, 4328, 4327, 4326, 4325, 4324, 4323, 4322]\n"
     ]
    },
    {
     "name": "stderr",
     "output_type": "stream",
     "text": [
      "\r",
      "  2%|▏         | 161/9716 [12:26<12:18:20,  4.64s/it]"
     ]
    },
    {
     "name": "stdout",
     "output_type": "stream",
     "text": [
      "165447 20 2737 162710 [4358, 4357, 4356, 4355, 4354, 4353, 4352, 4351, 4350, 4349, 4348, 4347, 4346, 4345, 4344, 4343, 4342, 4341, 4340, 4339]\n"
     ]
    },
    {
     "name": "stderr",
     "output_type": "stream",
     "text": [
      "\r",
      "  2%|▏         | 162/9716 [12:29<12:17:09,  4.63s/it]"
     ]
    },
    {
     "name": "stdout",
     "output_type": "stream",
     "text": [
      "165447 20 2754 162693 [4375, 4374, 4373, 4372, 4371, 4370, 4369, 4368, 4367, 4366, 4365, 4364, 4363, 4362, 4361, 4360, 4359, 4358, 4357, 4356]\n"
     ]
    },
    {
     "name": "stderr",
     "output_type": "stream",
     "text": [
      "\r",
      "  2%|▏         | 163/9716 [12:33<12:16:20,  4.62s/it]"
     ]
    },
    {
     "name": "stdout",
     "output_type": "stream",
     "text": [
      "165447 20 2771 162676 [4392, 4391, 4390, 4389, 4388, 4387, 4386, 4385, 4384, 4383, 4382, 4381, 4380, 4379, 4378, 4377, 4376, 4375, 4374, 4373]\n"
     ]
    },
    {
     "name": "stderr",
     "output_type": "stream",
     "text": [
      "\r",
      "  2%|▏         | 164/9716 [12:37<12:15:44,  4.62s/it]"
     ]
    },
    {
     "name": "stdout",
     "output_type": "stream",
     "text": [
      "165447 20 2788 162659 [4409, 4408, 4407, 4406, 4405, 4404, 4403, 4402, 4401, 4400, 4399, 4398, 4397, 4396, 4395, 4394, 4393, 4392, 4391, 4390]\n"
     ]
    },
    {
     "name": "stderr",
     "output_type": "stream",
     "text": [
      "\r",
      "  2%|▏         | 165/9716 [12:41<12:14:56,  4.62s/it]"
     ]
    },
    {
     "name": "stdout",
     "output_type": "stream",
     "text": [
      "165447 20 2805 162642 [4426, 4425, 4424, 4423, 4422, 4421, 4420, 4419, 4418, 4417, 4416, 4415, 4414, 4413, 4412, 4411, 4410, 4409, 4408, 4407]\n"
     ]
    },
    {
     "name": "stderr",
     "output_type": "stream",
     "text": [
      "\r",
      "  2%|▏         | 166/9716 [12:45<12:13:57,  4.61s/it]"
     ]
    },
    {
     "name": "stdout",
     "output_type": "stream",
     "text": [
      "165447 20 2822 162625 [4443, 4442, 4441, 4440, 4439, 4438, 4437, 4436, 4435, 4434, 4433, 4432, 4431, 4430, 4429, 4428, 4427, 4426, 4425, 4424]\n"
     ]
    },
    {
     "name": "stderr",
     "output_type": "stream",
     "text": [
      "\r",
      "  2%|▏         | 167/9716 [12:48<12:12:44,  4.60s/it]"
     ]
    },
    {
     "name": "stdout",
     "output_type": "stream",
     "text": [
      "165447 20 2839 162608 [4460, 4459, 4458, 4457, 4456, 4455, 4454, 4453, 4452, 4451, 4450, 4449, 4448, 4447, 4446, 4445, 4444, 4443, 4442, 4441]\n"
     ]
    },
    {
     "name": "stderr",
     "output_type": "stream",
     "text": [
      "\r",
      "  2%|▏         | 168/9716 [12:52<12:11:50,  4.60s/it]"
     ]
    },
    {
     "name": "stdout",
     "output_type": "stream",
     "text": [
      "165447 20 2856 162591 [4477, 4476, 4475, 4474, 4473, 4472, 4471, 4470, 4469, 4468, 4467, 4466, 4465, 4464, 4463, 4462, 4461, 4460, 4459, 4458]\n"
     ]
    },
    {
     "name": "stderr",
     "output_type": "stream",
     "text": [
      "\r",
      "  2%|▏         | 169/9716 [12:56<12:10:52,  4.59s/it]"
     ]
    },
    {
     "name": "stdout",
     "output_type": "stream",
     "text": [
      "165447 20 2873 162574 [4494, 4493, 4492, 4491, 4490, 4489, 4488, 4487, 4486, 4485, 4484, 4483, 4482, 4481, 4480, 4479, 4478, 4477, 4476, 4475]\n"
     ]
    },
    {
     "name": "stderr",
     "output_type": "stream",
     "text": [
      "\r",
      "  2%|▏         | 170/9716 [13:00<12:10:26,  4.59s/it]"
     ]
    },
    {
     "name": "stdout",
     "output_type": "stream",
     "text": [
      "165447 20 2890 162557 [4511, 4510, 4509, 4508, 4507, 4506, 4505, 4504, 4503, 4502, 4501, 4500, 4499, 4498, 4497, 4496, 4495, 4494, 4493, 4492]\n"
     ]
    },
    {
     "name": "stderr",
     "output_type": "stream",
     "text": [
      "\r",
      "  2%|▏         | 171/9716 [13:04<12:09:29,  4.59s/it]"
     ]
    },
    {
     "name": "stdout",
     "output_type": "stream",
     "text": [
      "165447 20 2907 162540 [4528, 4527, 4526, 4525, 4524, 4523, 4522, 4521, 4520, 4519, 4518, 4517, 4516, 4515, 4514, 4513, 4512, 4511, 4510, 4509]\n"
     ]
    },
    {
     "name": "stderr",
     "output_type": "stream",
     "text": [
      "\r",
      "  2%|▏         | 172/9716 [13:07<12:08:40,  4.58s/it]"
     ]
    },
    {
     "name": "stdout",
     "output_type": "stream",
     "text": [
      "165447 20 2924 162523 [4545, 4544, 4543, 4542, 4541, 4540, 4539, 4538, 4537, 4536, 4535, 4534, 4533, 4532, 4531, 4530, 4529, 4528, 4527, 4526]\n"
     ]
    },
    {
     "name": "stderr",
     "output_type": "stream",
     "text": [
      "\r",
      "  2%|▏         | 173/9716 [13:11<12:07:34,  4.57s/it]"
     ]
    },
    {
     "name": "stdout",
     "output_type": "stream",
     "text": [
      "165447 20 2941 162506 [4562, 4561, 4560, 4559, 4558, 4557, 4556, 4555, 4554, 4553, 4552, 4551, 4550, 4549, 4548, 4547, 4546, 4545, 4544, 4543]\n"
     ]
    },
    {
     "name": "stderr",
     "output_type": "stream",
     "text": [
      "\r",
      "  2%|▏         | 174/9716 [13:16<12:07:39,  4.58s/it]"
     ]
    },
    {
     "name": "stdout",
     "output_type": "stream",
     "text": [
      "165447 20 2958 162489 [4579, 4578, 4577, 4576, 4575, 4574, 4573, 4572, 4571, 4570, 4569, 4568, 4567, 4566, 4565, 4564, 4563, 4562, 4561, 4560]\n"
     ]
    },
    {
     "name": "stderr",
     "output_type": "stream",
     "text": [
      "\r",
      "  2%|▏         | 175/9716 [13:20<12:07:09,  4.57s/it]"
     ]
    },
    {
     "name": "stdout",
     "output_type": "stream",
     "text": [
      "165447 20 2975 162472 [4596, 4595, 4594, 4593, 4592, 4591, 4590, 4589, 4588, 4587, 4586, 4585, 4584, 4583, 4582, 4581, 4580, 4579, 4578, 4577]\n"
     ]
    },
    {
     "name": "stderr",
     "output_type": "stream",
     "text": [
      "\r",
      "  2%|▏         | 176/9716 [13:25<12:07:52,  4.58s/it]"
     ]
    },
    {
     "name": "stdout",
     "output_type": "stream",
     "text": [
      "165455 20 2992 162455 [4613, 4612, 4611, 4610, 4609, 4608, 4607, 4606, 4605, 4604, 4603, 4602, 4601, 4600, 4599, 4598, 4597, 4596, 4595, 4594]\n"
     ]
    },
    {
     "name": "stderr",
     "output_type": "stream",
     "text": [
      "\r",
      "  2%|▏         | 177/9716 [13:30<12:08:07,  4.58s/it]"
     ]
    },
    {
     "name": "stdout",
     "output_type": "stream",
     "text": [
      "165455 20 3009 162446 [4630, 4629, 4628, 4627, 4626, 4625, 4624, 4623, 4622, 4621, 4620, 4619, 4618, 4617, 4616, 4615, 4614, 4613, 4612, 4611]\n"
     ]
    },
    {
     "name": "stderr",
     "output_type": "stream",
     "text": [
      "\r",
      "  2%|▏         | 178/9716 [13:34<12:07:47,  4.58s/it]"
     ]
    },
    {
     "name": "stdout",
     "output_type": "stream",
     "text": [
      "165455 20 3026 162429 [4647, 4646, 4645, 4644, 4643, 4642, 4641, 4640, 4639, 4638, 4637, 4636, 4635, 4634, 4633, 4632, 4631, 4630, 4629, 4628]\n"
     ]
    },
    {
     "name": "stderr",
     "output_type": "stream",
     "text": [
      "\r",
      "  2%|▏         | 179/9716 [13:39<12:07:26,  4.58s/it]"
     ]
    },
    {
     "name": "stdout",
     "output_type": "stream",
     "text": [
      "165456 20 3043 162412 [4665, 4664, 4663, 4662, 4661, 4660, 4659, 4658, 4657, 4656, 4655, 4654, 4653, 4652, 4651, 4650, 4649, 4648, 4647, 4646]\n"
     ]
    },
    {
     "name": "stderr",
     "output_type": "stream",
     "text": [
      "\r",
      "  2%|▏         | 180/9716 [13:43<12:07:11,  4.58s/it]"
     ]
    },
    {
     "name": "stdout",
     "output_type": "stream",
     "text": [
      "165456 20 3060 162396 [4681, 4680, 4679, 4678, 4677, 4676, 4675, 4674, 4673, 4672, 4671, 4670, 4669, 4668, 4667, 4666, 4665, 4664, 4663, 4662]\n"
     ]
    },
    {
     "name": "stderr",
     "output_type": "stream",
     "text": [
      "\r",
      "  2%|▏         | 181/9716 [13:48<12:07:26,  4.58s/it]"
     ]
    },
    {
     "name": "stdout",
     "output_type": "stream",
     "text": [
      "165456 20 3077 162379 [4698, 4697, 4696, 4695, 4694, 4693, 4692, 4691, 4690, 4689, 4688, 4687, 4686, 4685, 4684, 4683, 4682, 4681, 4680, 4679]\n"
     ]
    },
    {
     "name": "stderr",
     "output_type": "stream",
     "text": [
      "\r",
      "  2%|▏         | 182/9716 [13:53<12:07:27,  4.58s/it]"
     ]
    },
    {
     "name": "stdout",
     "output_type": "stream",
     "text": [
      "165456 20 3094 162362 [4715, 4714, 4713, 4712, 4711, 4710, 4709, 4708, 4707, 4706, 4705, 4704, 4703, 4702, 4701, 4700, 4699, 4698, 4697, 4696]\n"
     ]
    },
    {
     "name": "stderr",
     "output_type": "stream",
     "text": [
      "\r",
      "  2%|▏         | 183/9716 [13:58<12:07:46,  4.58s/it]"
     ]
    },
    {
     "name": "stdout",
     "output_type": "stream",
     "text": [
      "165456 20 3111 162345 [4732, 4731, 4730, 4729, 4728, 4727, 4726, 4725, 4724, 4723, 4722, 4721, 4720, 4719, 4718, 4717, 4716, 4715, 4714, 4713]\n"
     ]
    },
    {
     "name": "stderr",
     "output_type": "stream",
     "text": [
      "\r",
      "  2%|▏         | 184/9716 [14:04<12:09:28,  4.59s/it]"
     ]
    },
    {
     "name": "stdout",
     "output_type": "stream",
     "text": [
      "165457 20 3128 162328 [4750, 4749, 4748, 4747, 4746, 4745, 4744, 4743, 4742, 4741, 4740, 4739, 4738, 4737, 4736, 4735, 4734, 4733, 4732, 4731]\n"
     ]
    },
    {
     "name": "stderr",
     "output_type": "stream",
     "text": [
      "\r",
      "  2%|▏         | 185/9716 [14:09<12:09:35,  4.59s/it]"
     ]
    },
    {
     "name": "stdout",
     "output_type": "stream",
     "text": [
      "165470 20 3145 162312 [4766, 4765, 4764, 4763, 4762, 4761, 4760, 4759, 4758, 4757, 4756, 4755, 4754, 4753, 4752, 4751, 4750, 4749, 4748, 4747]\n"
     ]
    },
    {
     "name": "stderr",
     "output_type": "stream",
     "text": [
      "\r",
      "  2%|▏         | 186/9716 [14:14<12:09:47,  4.59s/it]"
     ]
    },
    {
     "name": "stdout",
     "output_type": "stream",
     "text": [
      "165470 20 3162 162308 [4783, 4782, 4781, 4780, 4779, 4778, 4777, 4776, 4775, 4774, 4773, 4772, 4771, 4770, 4769, 4768, 4767, 4766, 4765, 4764]\n"
     ]
    },
    {
     "name": "stderr",
     "output_type": "stream",
     "text": [
      "\r",
      "  2%|▏         | 187/9716 [14:18<12:09:30,  4.59s/it]"
     ]
    },
    {
     "name": "stdout",
     "output_type": "stream",
     "text": [
      "165470 20 3179 162291 [4800, 4799, 4798, 4797, 4796, 4795, 4794, 4793, 4792, 4791, 4790, 4789, 4788, 4787, 4786, 4785, 4784, 4783, 4782, 4781]\n"
     ]
    },
    {
     "name": "stderr",
     "output_type": "stream",
     "text": [
      "\r",
      "  2%|▏         | 188/9716 [14:23<12:09:29,  4.59s/it]"
     ]
    },
    {
     "name": "stdout",
     "output_type": "stream",
     "text": [
      "165470 20 3196 162274 [4817, 4816, 4815, 4814, 4813, 4812, 4811, 4810, 4809, 4808, 4807, 4806, 4805, 4804, 4803, 4802, 4801, 4800, 4799, 4798]\n"
     ]
    },
    {
     "name": "stderr",
     "output_type": "stream",
     "text": [
      "\r",
      "  2%|▏         | 189/9716 [14:28<12:09:31,  4.59s/it]"
     ]
    },
    {
     "name": "stdout",
     "output_type": "stream",
     "text": [
      "165474 20 3213 162257 [4834, 4833, 4832, 4831, 4830, 4829, 4828, 4827, 4826, 4825, 4824, 4823, 4822, 4821, 4820, 4819, 4818, 4817, 4816, 4815]\n"
     ]
    },
    {
     "name": "stderr",
     "output_type": "stream",
     "text": [
      "\r",
      "  2%|▏         | 190/9716 [14:32<12:09:10,  4.59s/it]"
     ]
    },
    {
     "name": "stdout",
     "output_type": "stream",
     "text": [
      "165482 20 3230 162244 [4851, 4850, 4849, 4848, 4847, 4846, 4845, 4844, 4843, 4842, 4841, 4840, 4839, 4838, 4837, 4836, 4835, 4834, 4833, 4832]\n"
     ]
    },
    {
     "name": "stderr",
     "output_type": "stream",
     "text": [
      "\r",
      "  2%|▏         | 191/9716 [14:37<12:09:28,  4.60s/it]"
     ]
    },
    {
     "name": "stdout",
     "output_type": "stream",
     "text": [
      "165482 20 3247 162235 [4868, 4867, 4866, 4865, 4864, 4863, 4862, 4861, 4860, 4859, 4858, 4857, 4856, 4855, 4854, 4853, 4852, 4851, 4850, 4849]\n"
     ]
    },
    {
     "name": "stderr",
     "output_type": "stream",
     "text": [
      "\r",
      "  2%|▏         | 192/9716 [14:42<12:09:41,  4.60s/it]"
     ]
    },
    {
     "name": "stdout",
     "output_type": "stream",
     "text": [
      "165482 20 3264 162218 [4885, 4884, 4883, 4882, 4881, 4880, 4879, 4878, 4877, 4876, 4875, 4874, 4873, 4872, 4871, 4870, 4869, 4868, 4867, 4866]\n"
     ]
    },
    {
     "name": "stderr",
     "output_type": "stream",
     "text": [
      "\r",
      "  2%|▏         | 193/9716 [14:47<12:09:47,  4.60s/it]"
     ]
    },
    {
     "name": "stdout",
     "output_type": "stream",
     "text": [
      "165482 20 3281 162201 [4902, 4901, 4900, 4899, 4898, 4897, 4896, 4895, 4894, 4893, 4892, 4891, 4890, 4889, 4888, 4887, 4886, 4885, 4884, 4883]\n"
     ]
    },
    {
     "name": "stderr",
     "output_type": "stream",
     "text": [
      "\r",
      "  2%|▏         | 194/9716 [14:53<12:10:51,  4.61s/it]"
     ]
    },
    {
     "name": "stdout",
     "output_type": "stream",
     "text": [
      "165482 20 3298 162184 [4919, 4918, 4917, 4916, 4915, 4914, 4913, 4912, 4911, 4910, 4909, 4908, 4907, 4906, 4905, 4904, 4903, 4902, 4901, 4900]\n"
     ]
    },
    {
     "name": "stderr",
     "output_type": "stream",
     "text": [
      "\r",
      "  2%|▏         | 195/9716 [14:57<12:10:09,  4.60s/it]"
     ]
    },
    {
     "name": "stdout",
     "output_type": "stream",
     "text": [
      "165482 20 3315 162167 [4936, 4935, 4934, 4933, 4932, 4931, 4930, 4929, 4928, 4927, 4926, 4925, 4924, 4923, 4922, 4921, 4920, 4919, 4918, 4917]\n"
     ]
    },
    {
     "name": "stderr",
     "output_type": "stream",
     "text": [
      "\r",
      "  2%|▏         | 196/9716 [15:00<12:09:02,  4.59s/it]"
     ]
    },
    {
     "name": "stdout",
     "output_type": "stream",
     "text": [
      "165482 20 3332 162150 [4953, 4952, 4951, 4950, 4949, 4948, 4947, 4946, 4945, 4944, 4943, 4942, 4941, 4940, 4939, 4938, 4937, 4936, 4935, 4934]\n"
     ]
    },
    {
     "name": "stderr",
     "output_type": "stream",
     "text": [
      "\r",
      "  2%|▏         | 197/9716 [15:05<12:08:58,  4.59s/it]"
     ]
    },
    {
     "name": "stdout",
     "output_type": "stream",
     "text": [
      "165482 20 3349 162133 [4970, 4969, 4968, 4967, 4966, 4965, 4964, 4963, 4962, 4961, 4960, 4959, 4958, 4957, 4956, 4955, 4954, 4953, 4952, 4951]\n"
     ]
    },
    {
     "name": "stderr",
     "output_type": "stream",
     "text": [
      "\r",
      "  2%|▏         | 198/9716 [15:10<12:09:22,  4.60s/it]"
     ]
    },
    {
     "name": "stdout",
     "output_type": "stream",
     "text": [
      "165482 20 3366 162116 [4987, 4986, 4985, 4984, 4983, 4982, 4981, 4980, 4979, 4978, 4977, 4976, 4975, 4974, 4973, 4972, 4971, 4970, 4969, 4968]\n"
     ]
    },
    {
     "name": "stderr",
     "output_type": "stream",
     "text": [
      "\r",
      "  2%|▏         | 199/9716 [15:14<12:08:41,  4.59s/it]"
     ]
    },
    {
     "name": "stdout",
     "output_type": "stream",
     "text": [
      "165482 20 3383 162099 [5004, 5003, 5002, 5001, 5000, 4999, 4998, 4997, 4996, 4995, 4994, 4993, 4992, 4991, 4990, 4989, 4988, 4987, 4986, 4985]\n"
     ]
    },
    {
     "name": "stderr",
     "output_type": "stream",
     "text": [
      "\r",
      "  2%|▏         | 200/9716 [15:18<12:08:02,  4.59s/it]"
     ]
    },
    {
     "name": "stdout",
     "output_type": "stream",
     "text": [
      "165482 20 3400 162082 [5021, 5020, 5019, 5018, 5017, 5016, 5015, 5014, 5013, 5012, 5011, 5010, 5009, 5008, 5007, 5006, 5005, 5004, 5003, 5002]\n"
     ]
    },
    {
     "name": "stderr",
     "output_type": "stream",
     "text": [
      "\r",
      "  2%|▏         | 201/9716 [15:21<12:07:07,  4.59s/it]"
     ]
    },
    {
     "name": "stdout",
     "output_type": "stream",
     "text": [
      "165482 20 3417 162065 [5038, 5037, 5036, 5035, 5034, 5033, 5032, 5031, 5030, 5029, 5028, 5027, 5026, 5025, 5024, 5023, 5022, 5021, 5020, 5019]\n"
     ]
    },
    {
     "name": "stderr",
     "output_type": "stream",
     "text": [
      "\r",
      "  2%|▏         | 202/9716 [15:25<12:06:19,  4.58s/it]"
     ]
    },
    {
     "name": "stdout",
     "output_type": "stream",
     "text": [
      "165482 20 3434 162048 [5055, 5054, 5053, 5052, 5051, 5050, 5049, 5048, 5047, 5046, 5045, 5044, 5043, 5042, 5041, 5040, 5039, 5038, 5037, 5036]\n"
     ]
    },
    {
     "name": "stderr",
     "output_type": "stream",
     "text": [
      "\r",
      "  2%|▏         | 203/9716 [15:29<12:05:37,  4.58s/it]"
     ]
    },
    {
     "name": "stdout",
     "output_type": "stream",
     "text": [
      "165482 20 3451 162031 [5072, 5071, 5070, 5069, 5068, 5067, 5066, 5065, 5064, 5063, 5062, 5061, 5060, 5059, 5058, 5057, 5056, 5055, 5054, 5053]\n"
     ]
    },
    {
     "name": "stderr",
     "output_type": "stream",
     "text": [
      "\r",
      "  2%|▏         | 204/9716 [15:32<12:04:41,  4.57s/it]"
     ]
    },
    {
     "name": "stdout",
     "output_type": "stream",
     "text": [
      "165482 20 3468 162014 [5089, 5088, 5087, 5086, 5085, 5084, 5083, 5082, 5081, 5080, 5079, 5078, 5077, 5076, 5075, 5074, 5073, 5072, 5071, 5070]\n"
     ]
    },
    {
     "name": "stderr",
     "output_type": "stream",
     "text": [
      "\r",
      "  2%|▏         | 205/9716 [15:36<12:04:17,  4.57s/it]"
     ]
    },
    {
     "name": "stdout",
     "output_type": "stream",
     "text": [
      "165482 20 3485 161997 [5106, 5105, 5104, 5103, 5102, 5101, 5100, 5099, 5098, 5097, 5096, 5095, 5094, 5093, 5092, 5091, 5090, 5089, 5088, 5087]\n"
     ]
    },
    {
     "name": "stderr",
     "output_type": "stream",
     "text": [
      "\r",
      "  2%|▏         | 206/9716 [15:40<12:03:21,  4.56s/it]"
     ]
    },
    {
     "name": "stdout",
     "output_type": "stream",
     "text": [
      "165482 20 3502 161980 [5123, 5122, 5121, 5120, 5119, 5118, 5117, 5116, 5115, 5114, 5113, 5112, 5111, 5110, 5109, 5108, 5107, 5106, 5105, 5104]\n"
     ]
    },
    {
     "name": "stderr",
     "output_type": "stream",
     "text": [
      "\r",
      "  2%|▏         | 207/9716 [15:43<12:02:29,  4.56s/it]"
     ]
    },
    {
     "name": "stdout",
     "output_type": "stream",
     "text": [
      "165482 20 3519 161963 [5140, 5139, 5138, 5137, 5136, 5135, 5134, 5133, 5132, 5131, 5130, 5129, 5128, 5127, 5126, 5125, 5124, 5123, 5122, 5121]\n"
     ]
    },
    {
     "name": "stderr",
     "output_type": "stream",
     "text": [
      "\r",
      "  2%|▏         | 208/9716 [15:47<12:01:57,  4.56s/it]"
     ]
    },
    {
     "name": "stdout",
     "output_type": "stream",
     "text": [
      "165482 20 3536 161946 [5157, 5156, 5155, 5154, 5153, 5152, 5151, 5150, 5149, 5148, 5147, 5146, 5145, 5144, 5143, 5142, 5141, 5140, 5139, 5138]\n"
     ]
    },
    {
     "name": "stderr",
     "output_type": "stream",
     "text": [
      "\r",
      "  2%|▏         | 209/9716 [15:51<12:01:03,  4.55s/it]"
     ]
    },
    {
     "name": "stdout",
     "output_type": "stream",
     "text": [
      "165482 20 3553 161929 [5174, 5173, 5172, 5171, 5170, 5169, 5168, 5167, 5166, 5165, 5164, 5163, 5162, 5161, 5160, 5159, 5158, 5157, 5156, 5155]\n"
     ]
    },
    {
     "name": "stderr",
     "output_type": "stream",
     "text": [
      "\r",
      "  2%|▏         | 210/9716 [15:54<12:00:25,  4.55s/it]"
     ]
    },
    {
     "name": "stdout",
     "output_type": "stream",
     "text": [
      "165482 20 3570 161912 [5191, 5190, 5189, 5188, 5187, 5186, 5185, 5184, 5183, 5182, 5181, 5180, 5179, 5178, 5177, 5176, 5175, 5174, 5173, 5172]\n"
     ]
    },
    {
     "name": "stderr",
     "output_type": "stream",
     "text": [
      "\r",
      "  2%|▏         | 211/9716 [15:58<11:59:51,  4.54s/it]"
     ]
    },
    {
     "name": "stdout",
     "output_type": "stream",
     "text": [
      "165482 20 3587 161895 [5208, 5207, 5206, 5205, 5204, 5203, 5202, 5201, 5200, 5199, 5198, 5197, 5196, 5195, 5194, 5193, 5192, 5191, 5190, 5189]\n"
     ]
    },
    {
     "name": "stderr",
     "output_type": "stream",
     "text": [
      "\r",
      "  2%|▏         | 212/9716 [16:03<11:59:44,  4.54s/it]"
     ]
    },
    {
     "name": "stdout",
     "output_type": "stream",
     "text": [
      "165482 20 3604 161878 [5225, 5224, 5223, 5222, 5221, 5220, 5219, 5218, 5217, 5216, 5215, 5214, 5213, 5212, 5211, 5210, 5209, 5208, 5207, 5206]\n"
     ]
    },
    {
     "name": "stderr",
     "output_type": "stream",
     "text": [
      "\r",
      "  2%|▏         | 213/9716 [16:07<11:59:10,  4.54s/it]"
     ]
    },
    {
     "name": "stdout",
     "output_type": "stream",
     "text": [
      "165482 20 3621 161861 [5242, 5241, 5240, 5239, 5238, 5237, 5236, 5235, 5234, 5233, 5232, 5231, 5230, 5229, 5228, 5227, 5226, 5225, 5224, 5223]\n"
     ]
    },
    {
     "name": "stderr",
     "output_type": "stream",
     "text": [
      "\r",
      "  2%|▏         | 214/9716 [16:10<11:58:17,  4.54s/it]"
     ]
    },
    {
     "name": "stdout",
     "output_type": "stream",
     "text": [
      "165482 20 3638 161844 [5259, 5258, 5257, 5256, 5255, 5254, 5253, 5252, 5251, 5250, 5249, 5248, 5247, 5246, 5245, 5244, 5243, 5242, 5241, 5240]\n"
     ]
    },
    {
     "name": "stderr",
     "output_type": "stream",
     "text": [
      "\r",
      "  2%|▏         | 215/9716 [16:14<11:57:38,  4.53s/it]"
     ]
    },
    {
     "name": "stdout",
     "output_type": "stream",
     "text": [
      "165482 20 3655 161827 [5276, 5275, 5274, 5273, 5272, 5271, 5270, 5269, 5268, 5267, 5266, 5265, 5264, 5263, 5262, 5261, 5260, 5259, 5258, 5257]\n"
     ]
    },
    {
     "name": "stderr",
     "output_type": "stream",
     "text": [
      "\r",
      "  2%|▏         | 216/9716 [16:18<11:56:59,  4.53s/it]"
     ]
    },
    {
     "name": "stdout",
     "output_type": "stream",
     "text": [
      "165482 20 3672 161810 [5293, 5292, 5291, 5290, 5289, 5288, 5287, 5286, 5285, 5284, 5283, 5282, 5281, 5280, 5279, 5278, 5277, 5276, 5275, 5274]\n"
     ]
    },
    {
     "name": "stderr",
     "output_type": "stream",
     "text": [
      "\r",
      "  2%|▏         | 217/9716 [16:21<11:56:05,  4.52s/it]"
     ]
    },
    {
     "name": "stdout",
     "output_type": "stream",
     "text": [
      "165482 20 3689 161793 [5310, 5309, 5308, 5307, 5306, 5305, 5304, 5303, 5302, 5301, 5300, 5299, 5298, 5297, 5296, 5295, 5294, 5293, 5292, 5291]\n"
     ]
    },
    {
     "name": "stderr",
     "output_type": "stream",
     "text": [
      "\r",
      "  2%|▏         | 218/9716 [16:25<11:55:34,  4.52s/it]"
     ]
    },
    {
     "name": "stdout",
     "output_type": "stream",
     "text": [
      "165482 20 3706 161776 [5327, 5326, 5325, 5324, 5323, 5322, 5321, 5320, 5319, 5318, 5317, 5316, 5315, 5314, 5313, 5312, 5311, 5310, 5309, 5308]\n"
     ]
    },
    {
     "name": "stderr",
     "output_type": "stream",
     "text": [
      "\r",
      "  2%|▏         | 219/9716 [16:29<11:54:48,  4.52s/it]"
     ]
    },
    {
     "name": "stdout",
     "output_type": "stream",
     "text": [
      "165488 20 3723 161759 [5344, 5343, 5342, 5341, 5340, 5339, 5338, 5337, 5336, 5335, 5334, 5333, 5332, 5331, 5330, 5329, 5328, 5327, 5326, 5325]\n"
     ]
    },
    {
     "name": "stderr",
     "output_type": "stream",
     "text": [
      "\r",
      "  2%|▏         | 220/9716 [16:32<11:54:04,  4.51s/it]"
     ]
    },
    {
     "name": "stdout",
     "output_type": "stream",
     "text": [
      "165491 20 3740 161748 [5364, 5363, 5362, 5361, 5360, 5359, 5358, 5357, 5356, 5355, 5354, 5353, 5352, 5351, 5350, 5349, 5348, 5347, 5346, 5345]\n"
     ]
    },
    {
     "name": "stderr",
     "output_type": "stream",
     "text": [
      "\r",
      "  2%|▏         | 221/9716 [16:36<11:53:15,  4.51s/it]"
     ]
    },
    {
     "name": "stdout",
     "output_type": "stream",
     "text": [
      "165491 20 3757 161734 [5378, 5377, 5376, 5375, 5374, 5373, 5372, 5371, 5370, 5369, 5368, 5367, 5366, 5365, 5364, 5363, 5362, 5361, 5360, 5359]\n"
     ]
    },
    {
     "name": "stderr",
     "output_type": "stream",
     "text": [
      "\r",
      "  2%|▏         | 222/9716 [16:39<11:52:23,  4.50s/it]"
     ]
    },
    {
     "name": "stdout",
     "output_type": "stream",
     "text": [
      "165491 20 3774 161717 [5395, 5394, 5393, 5392, 5391, 5390, 5389, 5388, 5387, 5386, 5385, 5384, 5383, 5382, 5381, 5380, 5379, 5378, 5377, 5376]\n"
     ]
    },
    {
     "name": "stderr",
     "output_type": "stream",
     "text": [
      "\r",
      "  2%|▏         | 223/9716 [16:42<11:51:31,  4.50s/it]"
     ]
    },
    {
     "name": "stdout",
     "output_type": "stream",
     "text": [
      "165491 20 3791 161700 [5412, 5411, 5410, 5409, 5408, 5407, 5406, 5405, 5404, 5403, 5402, 5401, 5400, 5399, 5398, 5397, 5396, 5395, 5394, 5393]\n"
     ]
    },
    {
     "name": "stderr",
     "output_type": "stream",
     "text": [
      "\r",
      "  2%|▏         | 224/9716 [16:46<11:51:06,  4.50s/it]"
     ]
    },
    {
     "name": "stdout",
     "output_type": "stream",
     "text": [
      "165491 20 3808 161683 [5429, 5428, 5427, 5426, 5425, 5424, 5423, 5422, 5421, 5420, 5419, 5418, 5417, 5416, 5415, 5414, 5413, 5412, 5411, 5410]\n"
     ]
    },
    {
     "name": "stderr",
     "output_type": "stream",
     "text": [
      "\r",
      "  2%|▏         | 225/9716 [16:50<11:50:17,  4.49s/it]"
     ]
    },
    {
     "name": "stdout",
     "output_type": "stream",
     "text": [
      "165493 20 3825 161666 [5446, 5445, 5444, 5443, 5442, 5441, 5440, 5439, 5438, 5437, 5436, 5435, 5434, 5433, 5432, 5431, 5430, 5429, 5428, 5427]\n"
     ]
    },
    {
     "name": "stderr",
     "output_type": "stream",
     "text": [
      "\r",
      "  2%|▏         | 226/9716 [16:54<11:49:50,  4.49s/it]"
     ]
    },
    {
     "name": "stdout",
     "output_type": "stream",
     "text": [
      "165493 20 3842 161651 [5463, 5462, 5461, 5460, 5459, 5458, 5457, 5456, 5455, 5454, 5453, 5452, 5451, 5450, 5449, 5448, 5447, 5446, 5445, 5444]\n"
     ]
    },
    {
     "name": "stderr",
     "output_type": "stream",
     "text": [
      "\r",
      "  2%|▏         | 227/9716 [16:58<11:49:26,  4.49s/it]"
     ]
    },
    {
     "name": "stdout",
     "output_type": "stream",
     "text": [
      "165493 20 3859 161634 [5480, 5479, 5478, 5477, 5476, 5475, 5474, 5473, 5472, 5471, 5470, 5469, 5468, 5467, 5466, 5465, 5464, 5463, 5462, 5461]\n"
     ]
    },
    {
     "name": "stderr",
     "output_type": "stream",
     "text": [
      "\r",
      "  2%|▏         | 228/9716 [17:02<11:49:01,  4.48s/it]"
     ]
    },
    {
     "name": "stdout",
     "output_type": "stream",
     "text": [
      "165499 20 3876 161617 [5498, 5497, 5496, 5495, 5494, 5493, 5492, 5491, 5490, 5489, 5488, 5487, 5486, 5485, 5484, 5483, 5482, 5481, 5480, 5479]\n"
     ]
    },
    {
     "name": "stderr",
     "output_type": "stream",
     "text": [
      "\r",
      "  2%|▏         | 229/9716 [17:07<11:49:35,  4.49s/it]"
     ]
    },
    {
     "name": "stdout",
     "output_type": "stream",
     "text": [
      "165499 20 3893 161606 [5514, 5513, 5512, 5511, 5510, 5509, 5508, 5507, 5506, 5505, 5504, 5503, 5502, 5501, 5500, 5499, 5498, 5497, 5496, 5495]\n"
     ]
    },
    {
     "name": "stderr",
     "output_type": "stream",
     "text": [
      "\r",
      "  2%|▏         | 230/9716 [17:15<11:51:55,  4.50s/it]"
     ]
    },
    {
     "name": "stdout",
     "output_type": "stream",
     "text": [
      "165499 20 3910 161589 [5531, 5530, 5529, 5528, 5527, 5526, 5525, 5524, 5523, 5522, 5521, 5520, 5519, 5518, 5517, 5516, 5515, 5514, 5513, 5512]\n"
     ]
    },
    {
     "name": "stderr",
     "output_type": "stream",
     "text": [
      "\r",
      "  2%|▏         | 231/9716 [17:19<11:51:22,  4.50s/it]"
     ]
    },
    {
     "name": "stdout",
     "output_type": "stream",
     "text": [
      "165499 20 3927 161572 [5548, 5547, 5546, 5545, 5544, 5543, 5542, 5541, 5540, 5539, 5538, 5537, 5536, 5535, 5534, 5533, 5532, 5531, 5530, 5529]\n"
     ]
    },
    {
     "name": "stderr",
     "output_type": "stream",
     "text": [
      "\r",
      "  2%|▏         | 232/9716 [17:24<11:51:51,  4.50s/it]"
     ]
    },
    {
     "name": "stdout",
     "output_type": "stream",
     "text": [
      "165499 20 3944 161555 [5565, 5564, 5563, 5562, 5561, 5560, 5559, 5558, 5557, 5556, 5555, 5554, 5553, 5552, 5551, 5550, 5549, 5548, 5547, 5546]\n"
     ]
    },
    {
     "name": "stderr",
     "output_type": "stream",
     "text": [
      "\r",
      "  2%|▏         | 233/9716 [17:30<11:52:38,  4.51s/it]"
     ]
    },
    {
     "name": "stdout",
     "output_type": "stream",
     "text": [
      "165499 20 3961 161538 [5582, 5581, 5580, 5579, 5578, 5577, 5576, 5575, 5574, 5573, 5572, 5571, 5570, 5569, 5568, 5567, 5566, 5565, 5564, 5563]\n"
     ]
    },
    {
     "name": "stderr",
     "output_type": "stream",
     "text": [
      "\r",
      "  2%|▏         | 234/9716 [17:36<11:53:29,  4.51s/it]"
     ]
    },
    {
     "name": "stdout",
     "output_type": "stream",
     "text": [
      "165499 20 3978 161521 [5599, 5598, 5597, 5596, 5595, 5594, 5593, 5592, 5591, 5590, 5589, 5588, 5587, 5586, 5585, 5584, 5583, 5582, 5581, 5580]\n"
     ]
    },
    {
     "name": "stderr",
     "output_type": "stream",
     "text": [
      "\r",
      "  2%|▏         | 235/9716 [17:42<11:54:25,  4.52s/it]"
     ]
    },
    {
     "name": "stdout",
     "output_type": "stream",
     "text": [
      "165499 20 3995 161504 [5616, 5615, 5614, 5613, 5612, 5611, 5610, 5609, 5608, 5607, 5606, 5605, 5604, 5603, 5602, 5601, 5600, 5599, 5598, 5597]\n"
     ]
    },
    {
     "name": "stderr",
     "output_type": "stream",
     "text": [
      "\r",
      "  2%|▏         | 236/9716 [17:47<11:54:49,  4.52s/it]"
     ]
    },
    {
     "name": "stdout",
     "output_type": "stream",
     "text": [
      "165499 20 4012 161487 [5633, 5632, 5631, 5630, 5629, 5628, 5627, 5626, 5625, 5624, 5623, 5622, 5621, 5620, 5619, 5618, 5617, 5616, 5615, 5614]\n"
     ]
    },
    {
     "name": "stderr",
     "output_type": "stream",
     "text": [
      "\r",
      "  2%|▏         | 237/9716 [17:53<11:55:18,  4.53s/it]"
     ]
    },
    {
     "name": "stdout",
     "output_type": "stream",
     "text": [
      "165499 20 4029 161470 [5650, 5649, 5648, 5647, 5646, 5645, 5644, 5643, 5642, 5641, 5640, 5639, 5638, 5637, 5636, 5635, 5634, 5633, 5632, 5631]\n"
     ]
    },
    {
     "name": "stderr",
     "output_type": "stream",
     "text": [
      "\r",
      "  2%|▏         | 238/9716 [17:58<11:55:31,  4.53s/it]"
     ]
    },
    {
     "name": "stdout",
     "output_type": "stream",
     "text": [
      "165499 20 4046 161453 [5667, 5666, 5665, 5664, 5663, 5662, 5661, 5660, 5659, 5658, 5657, 5656, 5655, 5654, 5653, 5652, 5651, 5650, 5649, 5648]\n"
     ]
    },
    {
     "name": "stderr",
     "output_type": "stream",
     "text": [
      "\r",
      "  2%|▏         | 239/9716 [18:02<11:55:32,  4.53s/it]"
     ]
    },
    {
     "name": "stdout",
     "output_type": "stream",
     "text": [
      "165499 20 4063 161436 [5684, 5683, 5682, 5681, 5680, 5679, 5678, 5677, 5676, 5675, 5674, 5673, 5672, 5671, 5670, 5669, 5668, 5667, 5666, 5665]\n"
     ]
    },
    {
     "name": "stderr",
     "output_type": "stream",
     "text": [
      "\r",
      "  2%|▏         | 240/9716 [18:06<11:55:16,  4.53s/it]"
     ]
    },
    {
     "name": "stdout",
     "output_type": "stream",
     "text": [
      "165499 20 4080 161419 [5701, 5700, 5699, 5698, 5697, 5696, 5695, 5694, 5693, 5692, 5691, 5690, 5689, 5688, 5687, 5686, 5685, 5684, 5683, 5682]\n"
     ]
    },
    {
     "name": "stderr",
     "output_type": "stream",
     "text": [
      "\r",
      "  2%|▏         | 241/9716 [18:10<11:54:45,  4.53s/it]"
     ]
    },
    {
     "name": "stdout",
     "output_type": "stream",
     "text": [
      "165499 20 4097 161402 [5718, 5717, 5716, 5715, 5714, 5713, 5712, 5711, 5710, 5709, 5708, 5707, 5706, 5705, 5704, 5703, 5702, 5701, 5700, 5699]\n"
     ]
    },
    {
     "name": "stderr",
     "output_type": "stream",
     "text": [
      "\r",
      "  2%|▏         | 242/9716 [18:15<11:54:40,  4.53s/it]"
     ]
    },
    {
     "name": "stdout",
     "output_type": "stream",
     "text": [
      "165499 20 4114 161385 [5735, 5734, 5733, 5732, 5731, 5730, 5729, 5728, 5727, 5726, 5725, 5724, 5723, 5722, 5721, 5720, 5719, 5718, 5717, 5716]\n"
     ]
    },
    {
     "name": "stderr",
     "output_type": "stream",
     "text": [
      "\r",
      "  3%|▎         | 243/9716 [18:20<11:55:14,  4.53s/it]"
     ]
    },
    {
     "name": "stdout",
     "output_type": "stream",
     "text": [
      "165499 20 4131 161368 [5752, 5751, 5750, 5749, 5748, 5747, 5746, 5745, 5744, 5743, 5742, 5741, 5740, 5739, 5738, 5737, 5736, 5735, 5734, 5733]\n"
     ]
    },
    {
     "name": "stderr",
     "output_type": "stream",
     "text": [
      "\r",
      "  3%|▎         | 244/9716 [18:26<11:55:36,  4.53s/it]"
     ]
    },
    {
     "name": "stdout",
     "output_type": "stream",
     "text": [
      "165499 20 4148 161351 [5769, 5768, 5767, 5766, 5765, 5764, 5763, 5762, 5761, 5760, 5759, 5758, 5757, 5756, 5755, 5754, 5753, 5752, 5751, 5750]\n"
     ]
    },
    {
     "name": "stderr",
     "output_type": "stream",
     "text": [
      "\r",
      "  3%|▎         | 245/9716 [18:30<11:55:14,  4.53s/it]"
     ]
    },
    {
     "name": "stdout",
     "output_type": "stream",
     "text": [
      "165499 20 4165 161334 [5786, 5785, 5784, 5783, 5782, 5781, 5780, 5779, 5778, 5777, 5776, 5775, 5774, 5773, 5772, 5771, 5770, 5769, 5768, 5767]\n"
     ]
    },
    {
     "name": "stderr",
     "output_type": "stream",
     "text": [
      "\r",
      "  3%|▎         | 246/9716 [18:34<11:54:54,  4.53s/it]"
     ]
    },
    {
     "name": "stdout",
     "output_type": "stream",
     "text": [
      "165499 20 4182 161317 [5803, 5802, 5801, 5800, 5799, 5798, 5797, 5796, 5795, 5794, 5793, 5792, 5791, 5790, 5789, 5788, 5787, 5786, 5785, 5784]\n"
     ]
    },
    {
     "name": "stderr",
     "output_type": "stream",
     "text": [
      "\r",
      "  3%|▎         | 247/9716 [18:39<11:55:11,  4.53s/it]"
     ]
    },
    {
     "name": "stdout",
     "output_type": "stream",
     "text": [
      "165499 20 4199 161300 [5820, 5819, 5818, 5817, 5816, 5815, 5814, 5813, 5812, 5811, 5810, 5809, 5808, 5807, 5806, 5805, 5804, 5803, 5802, 5801]\n"
     ]
    },
    {
     "name": "stderr",
     "output_type": "stream",
     "text": [
      "\r",
      "  3%|▎         | 248/9716 [18:43<11:54:48,  4.53s/it]"
     ]
    },
    {
     "name": "stdout",
     "output_type": "stream",
     "text": [
      "165499 20 4216 161283 [5837, 5836, 5835, 5834, 5833, 5832, 5831, 5830, 5829, 5828, 5827, 5826, 5825, 5824, 5823, 5822, 5821, 5820, 5819, 5818]\n"
     ]
    },
    {
     "name": "stderr",
     "output_type": "stream",
     "text": [
      "\r",
      "  3%|▎         | 249/9716 [18:48<11:55:06,  4.53s/it]"
     ]
    },
    {
     "name": "stdout",
     "output_type": "stream",
     "text": [
      "165505 20 4233 161266 [5854, 5853, 5852, 5851, 5850, 5849, 5848, 5847, 5846, 5845, 5844, 5843, 5842, 5841, 5840, 5839, 5838, 5837, 5836, 5835]\n"
     ]
    },
    {
     "name": "stderr",
     "output_type": "stream",
     "text": [
      "\r",
      "  3%|▎         | 250/9716 [18:53<11:55:14,  4.53s/it]"
     ]
    },
    {
     "name": "stdout",
     "output_type": "stream",
     "text": [
      "165505 20 4250 161255 [5871, 5870, 5869, 5868, 5867, 5866, 5865, 5864, 5863, 5862, 5861, 5860, 5859, 5858, 5857, 5856, 5855, 5854, 5853, 5852]\n"
     ]
    },
    {
     "name": "stderr",
     "output_type": "stream",
     "text": [
      "\r",
      "  3%|▎         | 251/9716 [18:57<11:54:42,  4.53s/it]"
     ]
    },
    {
     "name": "stdout",
     "output_type": "stream",
     "text": [
      "165505 20 4267 161238 [5888, 5887, 5886, 5885, 5884, 5883, 5882, 5881, 5880, 5879, 5878, 5877, 5876, 5875, 5874, 5873, 5872, 5871, 5870, 5869]\n"
     ]
    },
    {
     "name": "stderr",
     "output_type": "stream",
     "text": [
      "\r",
      "  3%|▎         | 252/9716 [19:00<11:54:05,  4.53s/it]"
     ]
    },
    {
     "name": "stdout",
     "output_type": "stream",
     "text": [
      "165505 20 4284 161221 [5905, 5904, 5903, 5902, 5901, 5900, 5899, 5898, 5897, 5896, 5895, 5894, 5893, 5892, 5891, 5890, 5889, 5888, 5887, 5886]\n"
     ]
    },
    {
     "name": "stderr",
     "output_type": "stream",
     "text": [
      "\r",
      "  3%|▎         | 253/9716 [19:05<11:53:49,  4.53s/it]"
     ]
    },
    {
     "name": "stdout",
     "output_type": "stream",
     "text": [
      "165505 20 4301 161204 [5922, 5921, 5920, 5919, 5918, 5917, 5916, 5915, 5914, 5913, 5912, 5911, 5910, 5909, 5908, 5907, 5906, 5905, 5904, 5903]\n"
     ]
    },
    {
     "name": "stderr",
     "output_type": "stream",
     "text": [
      "\r",
      "  3%|▎         | 254/9716 [19:08<11:53:01,  4.52s/it]"
     ]
    },
    {
     "name": "stdout",
     "output_type": "stream",
     "text": [
      "165505 20 4318 161187 [5939, 5938, 5937, 5936, 5935, 5934, 5933, 5932, 5931, 5930, 5929, 5928, 5927, 5926, 5925, 5924, 5923, 5922, 5921, 5920]\n"
     ]
    },
    {
     "name": "stderr",
     "output_type": "stream",
     "text": [
      "\r",
      "  3%|▎         | 255/9716 [19:12<11:52:35,  4.52s/it]"
     ]
    },
    {
     "name": "stdout",
     "output_type": "stream",
     "text": [
      "165510 20 4335 161170 [5956, 5955, 5954, 5953, 5952, 5951, 5950, 5949, 5948, 5947, 5946, 5945, 5944, 5943, 5942, 5941, 5940, 5939, 5938, 5937]\n"
     ]
    },
    {
     "name": "stderr",
     "output_type": "stream",
     "text": [
      "\r",
      "  3%|▎         | 256/9716 [19:17<11:52:44,  4.52s/it]"
     ]
    },
    {
     "name": "stdout",
     "output_type": "stream",
     "text": [
      "165533 20 4352 161158 [5991, 5990, 5989, 5988, 5987, 5986, 5985, 5984, 5983, 5982, 5981, 5980, 5979, 5978, 5977, 5976, 5975, 5974, 5973, 5972]\n"
     ]
    },
    {
     "name": "stderr",
     "output_type": "stream",
     "text": [
      "\r",
      "  3%|▎         | 257/9716 [19:21<11:52:12,  4.52s/it]"
     ]
    },
    {
     "name": "stdout",
     "output_type": "stream",
     "text": [
      "165533 20 4369 161164 [5990, 5989, 5988, 5987, 5986, 5985, 5984, 5983, 5982, 5981, 5980, 5979, 5978, 5977, 5976, 5975, 5974, 5973, 5972, 5971]\n"
     ]
    },
    {
     "name": "stderr",
     "output_type": "stream",
     "text": [
      "\r",
      "  3%|▎         | 258/9716 [19:25<11:51:55,  4.52s/it]"
     ]
    },
    {
     "name": "stdout",
     "output_type": "stream",
     "text": [
      "165538 20 4386 161147 [6007, 6006, 6005, 6004, 6003, 6002, 6001, 6000, 5999, 5998, 5997, 5996, 5995, 5994, 5993, 5992, 5991, 5990, 5989, 5988]\n"
     ]
    },
    {
     "name": "stderr",
     "output_type": "stream",
     "text": [
      "\r",
      "  3%|▎         | 259/9716 [19:28<11:51:18,  4.51s/it]"
     ]
    },
    {
     "name": "stdout",
     "output_type": "stream",
     "text": [
      "165538 20 4403 161135 [6024, 6023, 6022, 6021, 6020, 6019, 6018, 6017, 6016, 6015, 6014, 6013, 6012, 6011, 6010, 6009, 6008, 6007, 6006, 6005]\n"
     ]
    },
    {
     "name": "stderr",
     "output_type": "stream",
     "text": [
      "\r",
      "  3%|▎         | 260/9716 [19:32<11:50:46,  4.51s/it]"
     ]
    },
    {
     "name": "stdout",
     "output_type": "stream",
     "text": [
      "165545 20 4420 161118 [6041, 6040, 6039, 6038, 6037, 6036, 6035, 6034, 6033, 6032, 6031, 6030, 6029, 6028, 6027, 6026, 6025, 6024, 6023, 6022]\n"
     ]
    },
    {
     "name": "stderr",
     "output_type": "stream",
     "text": [
      "\r",
      "  3%|▎         | 261/9716 [19:36<11:50:10,  4.51s/it]"
     ]
    },
    {
     "name": "stdout",
     "output_type": "stream",
     "text": [
      "165545 20 4437 161108 [6058, 6057, 6056, 6055, 6054, 6053, 6052, 6051, 6050, 6049, 6048, 6047, 6046, 6045, 6044, 6043, 6042, 6041, 6040, 6039]\n"
     ]
    },
    {
     "name": "stderr",
     "output_type": "stream",
     "text": [
      "\r",
      "  3%|▎         | 262/9716 [19:39<11:49:37,  4.50s/it]"
     ]
    },
    {
     "name": "stdout",
     "output_type": "stream",
     "text": [
      "165545 20 4454 161091 [6075, 6074, 6073, 6072, 6071, 6070, 6069, 6068, 6067, 6066, 6065, 6064, 6063, 6062, 6061, 6060, 6059, 6058, 6057, 6056]\n"
     ]
    },
    {
     "name": "stderr",
     "output_type": "stream",
     "text": [
      "\r",
      "  3%|▎         | 263/9716 [19:43<11:48:55,  4.50s/it]"
     ]
    },
    {
     "name": "stdout",
     "output_type": "stream",
     "text": [
      "165545 20 4471 161074 [6092, 6091, 6090, 6089, 6088, 6087, 6086, 6085, 6084, 6083, 6082, 6081, 6080, 6079, 6078, 6077, 6076, 6075, 6074, 6073]\n"
     ]
    },
    {
     "name": "stderr",
     "output_type": "stream",
     "text": [
      "\r",
      "  3%|▎         | 264/9716 [19:45<11:47:11,  4.49s/it]"
     ]
    },
    {
     "name": "stdout",
     "output_type": "stream",
     "text": [
      "error 161057 Expecting value: line 1 column 1 (char 0)\n"
     ]
    },
    {
     "name": "stderr",
     "output_type": "stream",
     "text": [
      "\r",
      "  3%|▎         | 265/9716 [20:03<11:55:37,  4.54s/it]"
     ]
    },
    {
     "name": "stdout",
     "output_type": "stream",
     "text": [
      "165576 20 4505 161040 [6157, 6156, 6155, 6154, 6153, 6152, 6151, 6150, 6149, 6148, 6147, 6146, 6145, 6144, 6143, 6142, 6141, 6140, 6139, 6138]\n"
     ]
    },
    {
     "name": "stderr",
     "output_type": "stream",
     "text": [
      "\r",
      "  3%|▎         | 266/9716 [20:11<11:57:13,  4.55s/it]"
     ]
    },
    {
     "name": "stdout",
     "output_type": "stream",
     "text": [
      "165576 20 4522 161054 [6143, 6142, 6141, 6140, 6139, 6138, 6137, 6136, 6135, 6134, 6133, 6132, 6131, 6130, 6129, 6128, 6127, 6126, 6125, 6124]\n"
     ]
    },
    {
     "name": "stderr",
     "output_type": "stream",
     "text": [
      "\r",
      "  3%|▎         | 267/9716 [20:14<11:56:31,  4.55s/it]"
     ]
    },
    {
     "name": "stdout",
     "output_type": "stream",
     "text": [
      "165576 20 4539 161037 [6160, 6159, 6158, 6157, 6156, 6155, 6154, 6153, 6152, 6151, 6150, 6149, 6148, 6147, 6146, 6145, 6144, 6143, 6142, 6141]\n"
     ]
    },
    {
     "name": "stderr",
     "output_type": "stream",
     "text": [
      "\r",
      "  3%|▎         | 268/9716 [20:18<11:55:39,  4.54s/it]"
     ]
    },
    {
     "name": "stdout",
     "output_type": "stream",
     "text": [
      "165576 20 4556 161020 [6177, 6176, 6175, 6174, 6173, 6172, 6171, 6170, 6169, 6168, 6167, 6166, 6165, 6164, 6163, 6162, 6161, 6160, 6159, 6158]\n"
     ]
    },
    {
     "name": "stderr",
     "output_type": "stream",
     "text": [
      "\r",
      "  3%|▎         | 269/9716 [20:22<11:55:26,  4.54s/it]"
     ]
    },
    {
     "name": "stdout",
     "output_type": "stream",
     "text": [
      "165576 20 4573 161003 [6194, 6193, 6192, 6191, 6190, 6189, 6188, 6187, 6186, 6185, 6184, 6183, 6182, 6181, 6180, 6179, 6178, 6177, 6176, 6175]\n"
     ]
    },
    {
     "name": "stderr",
     "output_type": "stream",
     "text": [
      "\r",
      "  3%|▎         | 270/9716 [20:26<11:54:56,  4.54s/it]"
     ]
    },
    {
     "name": "stdout",
     "output_type": "stream",
     "text": [
      "165576 20 4590 160986 [6211, 6210, 6209, 6208, 6207, 6206, 6205, 6204, 6203, 6202, 6201, 6200, 6199, 6198, 6197, 6196, 6195, 6194, 6193, 6192]\n"
     ]
    },
    {
     "name": "stderr",
     "output_type": "stream",
     "text": [
      "\r",
      "  3%|▎         | 271/9716 [20:30<11:54:41,  4.54s/it]"
     ]
    },
    {
     "name": "stdout",
     "output_type": "stream",
     "text": [
      "165576 20 4607 160969 [6228, 6227, 6226, 6225, 6224, 6223, 6222, 6221, 6220, 6219, 6218, 6217, 6216, 6215, 6214, 6213, 6212, 6211, 6210, 6209]\n"
     ]
    },
    {
     "name": "stderr",
     "output_type": "stream",
     "text": [
      "\r",
      "  3%|▎         | 272/9716 [20:33<11:54:02,  4.54s/it]"
     ]
    },
    {
     "name": "stdout",
     "output_type": "stream",
     "text": [
      "165576 20 4624 160952 [6245, 6244, 6243, 6242, 6241, 6240, 6239, 6238, 6237, 6236, 6235, 6234, 6233, 6232, 6231, 6230, 6229, 6228, 6227, 6226]\n"
     ]
    },
    {
     "name": "stderr",
     "output_type": "stream",
     "text": [
      "\r",
      "  3%|▎         | 273/9716 [20:37<11:53:28,  4.53s/it]"
     ]
    },
    {
     "name": "stdout",
     "output_type": "stream",
     "text": [
      "165576 20 4641 160935 [6262, 6261, 6260, 6259, 6258, 6257, 6256, 6255, 6254, 6253, 6252, 6251, 6250, 6249, 6248, 6247, 6246, 6245, 6244, 6243]\n"
     ]
    },
    {
     "name": "stderr",
     "output_type": "stream",
     "text": [
      "\r",
      "  3%|▎         | 274/9716 [20:41<11:52:50,  4.53s/it]"
     ]
    },
    {
     "name": "stdout",
     "output_type": "stream",
     "text": [
      "165576 20 4658 160918 [6279, 6278, 6277, 6276, 6275, 6274, 6273, 6272, 6271, 6270, 6269, 6268, 6267, 6266, 6265, 6264, 6263, 6262, 6261, 6260]\n"
     ]
    },
    {
     "name": "stderr",
     "output_type": "stream",
     "text": [
      "\r",
      "  3%|▎         | 275/9716 [20:44<11:52:07,  4.53s/it]"
     ]
    },
    {
     "name": "stdout",
     "output_type": "stream",
     "text": [
      "165576 20 4675 160901 [6296, 6295, 6294, 6293, 6292, 6291, 6290, 6289, 6288, 6287, 6286, 6285, 6284, 6283, 6282, 6281, 6280, 6279, 6278, 6277]\n"
     ]
    },
    {
     "name": "stderr",
     "output_type": "stream",
     "text": [
      "\r",
      "  3%|▎         | 276/9716 [20:48<11:51:36,  4.52s/it]"
     ]
    },
    {
     "name": "stdout",
     "output_type": "stream",
     "text": [
      "165576 20 4692 160884 [6313, 6312, 6311, 6310, 6309, 6308, 6307, 6306, 6305, 6304, 6303, 6302, 6301, 6300, 6299, 6298, 6297, 6296, 6295, 6294]\n"
     ]
    },
    {
     "name": "stderr",
     "output_type": "stream",
     "text": [
      "\r",
      "  3%|▎         | 277/9716 [20:52<11:51:23,  4.52s/it]"
     ]
    },
    {
     "name": "stdout",
     "output_type": "stream",
     "text": [
      "165576 20 4709 160867 [6330, 6329, 6328, 6327, 6326, 6325, 6324, 6323, 6322, 6321, 6320, 6319, 6318, 6317, 6316, 6315, 6314, 6313, 6312, 6311]\n"
     ]
    },
    {
     "name": "stderr",
     "output_type": "stream",
     "text": [
      "\r",
      "  3%|▎         | 278/9716 [20:56<11:50:49,  4.52s/it]"
     ]
    },
    {
     "name": "stdout",
     "output_type": "stream",
     "text": [
      "165578 20 4726 160850 [6347, 6346, 6345, 6344, 6343, 6342, 6341, 6340, 6339, 6338, 6337, 6336, 6335, 6334, 6333, 6332, 6331, 6330, 6329, 6328]\n"
     ]
    },
    {
     "name": "stderr",
     "output_type": "stream",
     "text": [
      "\r",
      "  3%|▎         | 279/9716 [20:59<11:50:03,  4.51s/it]"
     ]
    },
    {
     "name": "stdout",
     "output_type": "stream",
     "text": [
      "165584 20 4743 160835 [6370, 6369, 6368, 6367, 6366, 6365, 6364, 6363, 6362, 6361, 6360, 6359, 6358, 6357, 6356, 6355, 6354, 6353, 6352, 6351]\n"
     ]
    },
    {
     "name": "stderr",
     "output_type": "stream",
     "text": [
      "\r",
      "  3%|▎         | 280/9716 [21:03<11:49:27,  4.51s/it]"
     ]
    },
    {
     "name": "stdout",
     "output_type": "stream",
     "text": [
      "165584 20 4760 160824 [6381, 6380, 6379, 6378, 6377, 6376, 6375, 6374, 6373, 6372, 6371, 6370, 6369, 6368, 6367, 6366, 6365, 6364, 6363, 6362]\n"
     ]
    },
    {
     "name": "stderr",
     "output_type": "stream",
     "text": [
      "\r",
      "  3%|▎         | 281/9716 [21:07<11:49:03,  4.51s/it]"
     ]
    },
    {
     "name": "stdout",
     "output_type": "stream",
     "text": [
      "165587 20 4777 160807 [6398, 6397, 6396, 6395, 6394, 6393, 6392, 6391, 6390, 6389, 6388, 6387, 6386, 6385, 6384, 6383, 6382, 6381, 6380, 6379]\n"
     ]
    },
    {
     "name": "stderr",
     "output_type": "stream",
     "text": [
      "\r",
      "  3%|▎         | 282/9716 [21:10<11:48:24,  4.51s/it]"
     ]
    },
    {
     "name": "stdout",
     "output_type": "stream",
     "text": [
      "165587 20 4794 160793 [6415, 6414, 6413, 6412, 6411, 6410, 6409, 6408, 6407, 6406, 6405, 6404, 6403, 6402, 6401, 6400, 6399, 6398, 6397, 6396]\n"
     ]
    },
    {
     "name": "stderr",
     "output_type": "stream",
     "text": [
      "\r",
      "  3%|▎         | 283/9716 [21:14<11:47:46,  4.50s/it]"
     ]
    },
    {
     "name": "stdout",
     "output_type": "stream",
     "text": [
      "165587 20 4811 160776 [6432, 6431, 6430, 6429, 6428, 6427, 6426, 6425, 6424, 6423, 6422, 6421, 6420, 6419, 6418, 6417, 6416, 6415, 6414, 6413]\n"
     ]
    },
    {
     "name": "stderr",
     "output_type": "stream",
     "text": [
      "\r",
      "  3%|▎         | 284/9716 [21:18<11:47:39,  4.50s/it]"
     ]
    },
    {
     "name": "stdout",
     "output_type": "stream",
     "text": [
      "165587 20 4828 160759 [6449, 6448, 6447, 6446, 6445, 6444, 6443, 6442, 6441, 6440, 6439, 6438, 6437, 6436, 6435, 6434, 6433, 6432, 6431, 6430]\n"
     ]
    },
    {
     "name": "stderr",
     "output_type": "stream",
     "text": [
      "\r",
      "  3%|▎         | 285/9716 [21:22<11:47:23,  4.50s/it]"
     ]
    },
    {
     "name": "stdout",
     "output_type": "stream",
     "text": [
      "165587 20 4845 160742 [6466, 6465, 6464, 6463, 6462, 6461, 6460, 6459, 6458, 6457, 6456, 6455, 6454, 6453, 6452, 6451, 6450, 6449, 6448, 6447]\n"
     ]
    },
    {
     "name": "stderr",
     "output_type": "stream",
     "text": [
      "\r",
      "  3%|▎         | 286/9716 [21:27<11:47:16,  4.50s/it]"
     ]
    },
    {
     "name": "stdout",
     "output_type": "stream",
     "text": [
      "165587 20 4862 160725 [6483, 6482, 6481, 6480, 6479, 6478, 6477, 6476, 6475, 6474, 6473, 6472, 6471, 6470, 6469, 6468, 6467, 6466, 6465, 6464]\n"
     ]
    },
    {
     "name": "stderr",
     "output_type": "stream",
     "text": [
      "\r",
      "  3%|▎         | 287/9716 [21:30<11:46:45,  4.50s/it]"
     ]
    },
    {
     "name": "stdout",
     "output_type": "stream",
     "text": [
      "165587 20 4879 160708 [6500, 6499, 6498, 6497, 6496, 6495, 6494, 6493, 6492, 6491, 6490, 6489, 6488, 6487, 6486, 6485, 6484, 6483, 6482, 6481]\n"
     ]
    },
    {
     "name": "stderr",
     "output_type": "stream",
     "text": [
      "\r",
      "  3%|▎         | 288/9716 [21:35<11:47:01,  4.50s/it]"
     ]
    },
    {
     "name": "stdout",
     "output_type": "stream",
     "text": [
      "165600 20 4896 160691 [6517, 6516, 6515, 6514, 6513, 6512, 6511, 6510, 6509, 6508, 6507, 6506, 6505, 6504, 6503, 6502, 6501, 6500, 6499, 6498]\n"
     ]
    },
    {
     "name": "stderr",
     "output_type": "stream",
     "text": [
      "\r",
      "  3%|▎         | 289/9716 [21:40<11:46:53,  4.50s/it]"
     ]
    },
    {
     "name": "stdout",
     "output_type": "stream",
     "text": [
      "165600 20 4913 160687 [6534, 6533, 6532, 6531, 6530, 6529, 6528, 6527, 6526, 6525, 6524, 6523, 6522, 6521, 6520, 6519, 6518, 6517, 6516, 6515]\n"
     ]
    },
    {
     "name": "stderr",
     "output_type": "stream",
     "text": [
      "\r",
      "  3%|▎         | 290/9716 [21:44<11:46:50,  4.50s/it]"
     ]
    },
    {
     "name": "stdout",
     "output_type": "stream",
     "text": [
      "165600 20 4930 160670 [6551, 6550, 6549, 6548, 6547, 6546, 6545, 6544, 6543, 6542, 6541, 6540, 6539, 6538, 6537, 6536, 6535, 6534, 6533, 6532]\n"
     ]
    },
    {
     "name": "stderr",
     "output_type": "stream",
     "text": [
      "\r",
      "  3%|▎         | 291/9716 [21:49<11:46:43,  4.50s/it]"
     ]
    },
    {
     "name": "stdout",
     "output_type": "stream",
     "text": [
      "165600 20 4947 160653 [6568, 6567, 6566, 6565, 6564, 6563, 6562, 6561, 6560, 6559, 6558, 6557, 6556, 6555, 6554, 6553, 6552, 6551, 6550, 6549]\n"
     ]
    },
    {
     "name": "stderr",
     "output_type": "stream",
     "text": [
      "\r",
      "  3%|▎         | 292/9716 [21:53<11:46:47,  4.50s/it]"
     ]
    },
    {
     "name": "stdout",
     "output_type": "stream",
     "text": [
      "165600 20 4964 160636 [6585, 6584, 6583, 6582, 6581, 6580, 6579, 6578, 6577, 6576, 6575, 6574, 6573, 6572, 6571, 6570, 6569, 6568, 6567, 6566]\n"
     ]
    },
    {
     "name": "stderr",
     "output_type": "stream",
     "text": [
      "\r",
      "  3%|▎         | 293/9716 [21:59<11:47:00,  4.50s/it]"
     ]
    },
    {
     "name": "stdout",
     "output_type": "stream",
     "text": [
      "165601 20 4981 160619 [6602, 6601, 6600, 6599, 6598, 6597, 6596, 6595, 6594, 6593, 6592, 6591, 6590, 6589, 6588, 6587, 6586, 6585, 6584, 6583]\n"
     ]
    },
    {
     "name": "stderr",
     "output_type": "stream",
     "text": [
      "\r",
      "  3%|▎         | 294/9716 [22:02<11:46:33,  4.50s/it]"
     ]
    },
    {
     "name": "stdout",
     "output_type": "stream",
     "text": [
      "165601 20 4998 160603 [6619, 6618, 6617, 6616, 6615, 6614, 6613, 6612, 6611, 6610, 6609, 6608, 6607, 6606, 6605, 6604, 6603, 6602, 6601, 6600]\n"
     ]
    },
    {
     "name": "stderr",
     "output_type": "stream",
     "text": [
      "\r",
      "  3%|▎         | 295/9716 [22:07<11:46:30,  4.50s/it]"
     ]
    },
    {
     "name": "stdout",
     "output_type": "stream",
     "text": [
      "165601 20 5015 160586 [6636, 6635, 6634, 6633, 6632, 6631, 6630, 6629, 6628, 6627, 6626, 6625, 6624, 6623, 6622, 6621, 6620, 6619, 6618, 6617]\n"
     ]
    },
    {
     "name": "stderr",
     "output_type": "stream",
     "text": [
      "\r",
      "  3%|▎         | 296/9716 [22:12<11:46:45,  4.50s/it]"
     ]
    },
    {
     "name": "stdout",
     "output_type": "stream",
     "text": [
      "165601 20 5032 160569 [6653, 6652, 6651, 6650, 6649, 6648, 6647, 6646, 6645, 6644, 6643, 6642, 6641, 6640, 6639, 6638, 6637, 6636, 6635, 6634]\n"
     ]
    },
    {
     "name": "stderr",
     "output_type": "stream",
     "text": [
      "\r",
      "  3%|▎         | 297/9716 [22:17<11:47:07,  4.50s/it]"
     ]
    },
    {
     "name": "stdout",
     "output_type": "stream",
     "text": [
      "165601 20 5049 160552 [6670, 6669, 6668, 6667, 6666, 6665, 6664, 6663, 6662, 6661, 6660, 6659, 6658, 6657, 6656, 6655, 6654, 6653, 6652, 6651]\n"
     ]
    },
    {
     "name": "stderr",
     "output_type": "stream",
     "text": [
      "\r",
      "  3%|▎         | 298/9716 [22:21<11:46:43,  4.50s/it]"
     ]
    },
    {
     "name": "stdout",
     "output_type": "stream",
     "text": [
      "165601 20 5066 160535 [6687, 6686, 6685, 6684, 6683, 6682, 6681, 6680, 6679, 6678, 6677, 6676, 6675, 6674, 6673, 6672, 6671, 6670, 6669, 6668]\n"
     ]
    },
    {
     "name": "stderr",
     "output_type": "stream",
     "text": [
      "\r",
      "  3%|▎         | 299/9716 [22:26<11:46:48,  4.50s/it]"
     ]
    },
    {
     "name": "stdout",
     "output_type": "stream",
     "text": [
      "165616 20 5083 160518 [6704, 6703, 6702, 6701, 6700, 6699, 6698, 6697, 6696, 6695, 6694, 6693, 6692, 6691, 6690, 6689, 6688, 6687, 6686, 6685]\n"
     ]
    },
    {
     "name": "stderr",
     "output_type": "stream",
     "text": [
      "\r",
      "  3%|▎         | 300/9716 [22:30<11:46:40,  4.50s/it]"
     ]
    },
    {
     "name": "stdout",
     "output_type": "stream",
     "text": [
      "165616 20 5100 160516 [6721, 6720, 6719, 6718, 6717, 6716, 6715, 6714, 6713, 6712, 6711, 6710, 6709, 6708, 6707, 6706, 6705, 6704, 6703, 6702]\n"
     ]
    },
    {
     "name": "stderr",
     "output_type": "stream",
     "text": [
      "\r",
      "  3%|▎         | 301/9716 [22:35<11:46:31,  4.50s/it]"
     ]
    },
    {
     "name": "stdout",
     "output_type": "stream",
     "text": [
      "165616 20 5117 160499 [6738, 6737, 6736, 6735, 6734, 6733, 6732, 6731, 6730, 6729, 6728, 6727, 6726, 6725, 6724, 6723, 6722, 6721, 6720, 6719]\n"
     ]
    },
    {
     "name": "stderr",
     "output_type": "stream",
     "text": [
      "\r",
      "  3%|▎         | 302/9716 [22:39<11:46:05,  4.50s/it]"
     ]
    },
    {
     "name": "stdout",
     "output_type": "stream",
     "text": [
      "165616 20 5134 160482 [6755, 6754, 6753, 6752, 6751, 6750, 6749, 6748, 6747, 6746, 6745, 6744, 6743, 6742, 6741, 6740, 6739, 6738, 6737, 6736]\n"
     ]
    },
    {
     "name": "stderr",
     "output_type": "stream",
     "text": [
      "\r",
      "  3%|▎         | 303/9716 [22:42<11:45:35,  4.50s/it]"
     ]
    },
    {
     "name": "stdout",
     "output_type": "stream",
     "text": [
      "165616 20 5151 160465 [6772, 6771, 6770, 6769, 6768, 6767, 6766, 6765, 6764, 6763, 6762, 6761, 6760, 6759, 6758, 6757, 6756, 6755, 6754, 6753]\n"
     ]
    },
    {
     "name": "stderr",
     "output_type": "stream",
     "text": [
      "\r",
      "  3%|▎         | 304/9716 [22:48<11:46:13,  4.50s/it]"
     ]
    },
    {
     "name": "stdout",
     "output_type": "stream",
     "text": [
      "165616 20 5168 160448 [6789, 6788, 6787, 6786, 6785, 6784, 6783, 6782, 6781, 6780, 6779, 6778, 6777, 6776, 6775, 6774, 6773, 6772, 6771, 6770]\n"
     ]
    },
    {
     "name": "stderr",
     "output_type": "stream",
     "text": [
      "\r",
      "  3%|▎         | 305/9716 [22:53<11:46:05,  4.50s/it]"
     ]
    },
    {
     "name": "stdout",
     "output_type": "stream",
     "text": [
      "165616 20 5185 160431 [6806, 6805, 6804, 6803, 6802, 6801, 6800, 6799, 6798, 6797, 6796, 6795, 6794, 6793, 6792, 6791, 6790, 6789, 6788, 6787]\n"
     ]
    },
    {
     "name": "stderr",
     "output_type": "stream",
     "text": [
      "\r",
      "  3%|▎         | 306/9716 [22:57<11:46:08,  4.50s/it]"
     ]
    },
    {
     "name": "stdout",
     "output_type": "stream",
     "text": [
      "165616 20 5202 160414 [6823, 6822, 6821, 6820, 6819, 6818, 6817, 6816, 6815, 6814, 6813, 6812, 6811, 6810, 6809, 6808, 6807, 6806, 6805, 6804]\n"
     ]
    },
    {
     "name": "stderr",
     "output_type": "stream",
     "text": [
      "\r",
      "  3%|▎         | 307/9716 [23:01<11:45:41,  4.50s/it]"
     ]
    },
    {
     "name": "stdout",
     "output_type": "stream",
     "text": [
      "165616 20 5219 160397 [6840, 6839, 6838, 6837, 6836, 6835, 6834, 6833, 6832, 6831, 6830, 6829, 6828, 6827, 6826, 6825, 6824, 6823, 6822, 6821]\n"
     ]
    },
    {
     "name": "stderr",
     "output_type": "stream",
     "text": [
      "\r",
      "  3%|▎         | 308/9716 [23:05<11:45:15,  4.50s/it]"
     ]
    },
    {
     "name": "stdout",
     "output_type": "stream",
     "text": [
      "165616 20 5236 160380 [6857, 6856, 6855, 6854, 6853, 6852, 6851, 6850, 6849, 6848, 6847, 6846, 6845, 6844, 6843, 6842, 6841, 6840, 6839, 6838]\n"
     ]
    },
    {
     "name": "stderr",
     "output_type": "stream",
     "text": [
      "\r",
      "  3%|▎         | 309/9716 [23:08<11:44:38,  4.49s/it]"
     ]
    },
    {
     "name": "stdout",
     "output_type": "stream",
     "text": [
      "165616 20 5253 160363 [6874, 6873, 6872, 6871, 6870, 6869, 6868, 6867, 6866, 6865, 6864, 6863, 6862, 6861, 6860, 6859, 6858, 6857, 6856, 6855]\n"
     ]
    },
    {
     "name": "stderr",
     "output_type": "stream",
     "text": [
      "\r",
      "  3%|▎         | 310/9716 [23:12<11:44:14,  4.49s/it]"
     ]
    },
    {
     "name": "stdout",
     "output_type": "stream",
     "text": [
      "165616 20 5270 160346 [6891, 6890, 6889, 6888, 6887, 6886, 6885, 6884, 6883, 6882, 6881, 6880, 6879, 6878, 6877, 6876, 6875, 6874, 6873, 6872]\n"
     ]
    },
    {
     "name": "stderr",
     "output_type": "stream",
     "text": [
      "\r",
      "  3%|▎         | 311/9716 [23:16<11:43:58,  4.49s/it]"
     ]
    },
    {
     "name": "stdout",
     "output_type": "stream",
     "text": [
      "165616 20 5287 160329 [6908, 6907, 6906, 6905, 6904, 6903, 6902, 6901, 6900, 6899, 6898, 6897, 6896, 6895, 6894, 6893, 6892, 6891, 6890, 6889]\n"
     ]
    },
    {
     "name": "stderr",
     "output_type": "stream",
     "text": [
      "\r",
      "  3%|▎         | 312/9716 [23:20<11:43:17,  4.49s/it]"
     ]
    },
    {
     "name": "stdout",
     "output_type": "stream",
     "text": [
      "error 160312 Expecting value: line 1 column 1 (char 0)\n"
     ]
    },
    {
     "name": "stderr",
     "output_type": "stream",
     "text": [
      "\r",
      "  3%|▎         | 313/9716 [23:42<11:52:13,  4.54s/it]"
     ]
    },
    {
     "name": "stdout",
     "output_type": "stream",
     "text": [
      "165642 20 5321 160295 [6968, 6967, 6966, 6965, 6964, 6963, 6962, 6961, 6960, 6959, 6958, 6957, 6956, 6955, 6954, 6953, 6952, 6951, 6950, 6949]\n"
     ]
    },
    {
     "name": "stderr",
     "output_type": "stream",
     "text": [
      "\r",
      "  3%|▎         | 314/9716 [23:46<11:51:40,  4.54s/it]"
     ]
    },
    {
     "name": "stdout",
     "output_type": "stream",
     "text": [
      "165642 20 5338 160304 [6959, 6958, 6957, 6956, 6955, 6954, 6953, 6952, 6951, 6950, 6949, 6948, 6947, 6946, 6945, 6944, 6943, 6942, 6941, 6940]\n"
     ]
    },
    {
     "name": "stderr",
     "output_type": "stream",
     "text": [
      "\r",
      "  3%|▎         | 315/9716 [23:49<11:51:12,  4.54s/it]"
     ]
    },
    {
     "name": "stdout",
     "output_type": "stream",
     "text": [
      "165642 20 5355 160287 [6976, 6975, 6974, 6973, 6972, 6971, 6970, 6969, 6968, 6967, 6966, 6965, 6964, 6963, 6962, 6961, 6960, 6959, 6958, 6957]\n"
     ]
    },
    {
     "name": "stderr",
     "output_type": "stream",
     "text": [
      "\r",
      "  3%|▎         | 316/9716 [23:53<11:50:35,  4.54s/it]"
     ]
    },
    {
     "name": "stdout",
     "output_type": "stream",
     "text": [
      "165642 20 5372 160270 [6993, 6992, 6991, 6990, 6989, 6988, 6987, 6986, 6985, 6984, 6983, 6982, 6981, 6980, 6979, 6978, 6977, 6976, 6975, 6974]\n"
     ]
    },
    {
     "name": "stderr",
     "output_type": "stream",
     "text": [
      "\r",
      "  3%|▎         | 317/9716 [23:57<11:50:07,  4.53s/it]"
     ]
    },
    {
     "name": "stdout",
     "output_type": "stream",
     "text": [
      "165642 20 5389 160253 [7010, 7009, 7008, 7007, 7006, 7005, 7004, 7003, 7002, 7001, 7000, 6999, 6998, 6997, 6996, 6995, 6994, 6993, 6992, 6991]\n"
     ]
    },
    {
     "name": "stderr",
     "output_type": "stream",
     "text": [
      "\r",
      "  3%|▎         | 318/9716 [24:00<11:49:26,  4.53s/it]"
     ]
    },
    {
     "name": "stdout",
     "output_type": "stream",
     "text": [
      "165642 20 5406 160236 [7027, 7026, 7025, 7024, 7023, 7022, 7021, 7020, 7019, 7018, 7017, 7016, 7015, 7014, 7013, 7012, 7011, 7010, 7009, 7008]\n"
     ]
    },
    {
     "name": "stderr",
     "output_type": "stream",
     "text": [
      "\r",
      "  3%|▎         | 319/9716 [24:03<11:48:54,  4.53s/it]"
     ]
    },
    {
     "name": "stdout",
     "output_type": "stream",
     "text": [
      "165642 20 5423 160219 [7044, 7043, 7042, 7041, 7040, 7039, 7038, 7037, 7036, 7035, 7034, 7033, 7032, 7031, 7030, 7029, 7028, 7027, 7026, 7025]\n"
     ]
    },
    {
     "name": "stderr",
     "output_type": "stream",
     "text": [
      "\r",
      "  3%|▎         | 320/9716 [24:07<11:48:20,  4.52s/it]"
     ]
    },
    {
     "name": "stdout",
     "output_type": "stream",
     "text": [
      "165642 20 5440 160202 [7061, 7060, 7059, 7058, 7057, 7056, 7055, 7054, 7053, 7052, 7051, 7050, 7049, 7048, 7047, 7046, 7045, 7044, 7043, 7042]\n"
     ]
    },
    {
     "name": "stderr",
     "output_type": "stream",
     "text": [
      "\r",
      "  3%|▎         | 321/9716 [24:10<11:47:47,  4.52s/it]"
     ]
    },
    {
     "name": "stdout",
     "output_type": "stream",
     "text": [
      "165642 20 5457 160185 [7078, 7077, 7076, 7075, 7074, 7073, 7072, 7071, 7070, 7069, 7068, 7067, 7066, 7065, 7064, 7063, 7062, 7061, 7060, 7059]\n"
     ]
    },
    {
     "name": "stderr",
     "output_type": "stream",
     "text": [
      "\r",
      "  3%|▎         | 322/9716 [24:15<11:47:28,  4.52s/it]"
     ]
    },
    {
     "name": "stdout",
     "output_type": "stream",
     "text": [
      "165642 20 5474 160168 [7095, 7094, 7093, 7092, 7091, 7090, 7089, 7088, 7087, 7086, 7085, 7084, 7083, 7082, 7081, 7080, 7079, 7078, 7077, 7076]\n"
     ]
    },
    {
     "name": "stderr",
     "output_type": "stream",
     "text": [
      "\r",
      "  3%|▎         | 323/9716 [24:19<11:47:11,  4.52s/it]"
     ]
    },
    {
     "name": "stdout",
     "output_type": "stream",
     "text": [
      "165642 20 5491 160151 [7112, 7111, 7110, 7109, 7108, 7107, 7106, 7105, 7104, 7103, 7102, 7101, 7100, 7099, 7098, 7097, 7096, 7095, 7094, 7093]\n"
     ]
    },
    {
     "name": "stderr",
     "output_type": "stream",
     "text": [
      "\r",
      "  3%|▎         | 324/9716 [24:22<11:46:43,  4.51s/it]"
     ]
    },
    {
     "name": "stdout",
     "output_type": "stream",
     "text": [
      "165642 20 5508 160134 [7129, 7128, 7127, 7126, 7125, 7124, 7123, 7122, 7121, 7120, 7119, 7118, 7117, 7116, 7115, 7114, 7113, 7112, 7111, 7110]\n"
     ]
    },
    {
     "name": "stderr",
     "output_type": "stream",
     "text": [
      "\r",
      "  3%|▎         | 325/9716 [24:26<11:46:15,  4.51s/it]"
     ]
    },
    {
     "name": "stdout",
     "output_type": "stream",
     "text": [
      "165642 20 5525 160117 [7146, 7145, 7144, 7143, 7142, 7141, 7140, 7139, 7138, 7137, 7136, 7135, 7134, 7133, 7132, 7131, 7130, 7129, 7128, 7127]\n"
     ]
    },
    {
     "name": "stderr",
     "output_type": "stream",
     "text": [
      "\r",
      "  3%|▎         | 326/9716 [24:30<11:45:46,  4.51s/it]"
     ]
    },
    {
     "name": "stdout",
     "output_type": "stream",
     "text": [
      "165642 20 5542 160100 [7163, 7162, 7161, 7160, 7159, 7158, 7157, 7156, 7155, 7154, 7153, 7152, 7151, 7150, 7149, 7148, 7147, 7146, 7145, 7144]\n"
     ]
    },
    {
     "name": "stderr",
     "output_type": "stream",
     "text": [
      "\r",
      "  3%|▎         | 327/9716 [24:34<11:45:26,  4.51s/it]"
     ]
    },
    {
     "name": "stdout",
     "output_type": "stream",
     "text": [
      "165642 20 5559 160083 [7180, 7179, 7178, 7177, 7176, 7175, 7174, 7173, 7172, 7171, 7170, 7169, 7168, 7167, 7166, 7165, 7164, 7163, 7162, 7161]\n"
     ]
    },
    {
     "name": "stderr",
     "output_type": "stream",
     "text": [
      "\r",
      "  3%|▎         | 328/9716 [24:37<11:44:52,  4.50s/it]"
     ]
    },
    {
     "name": "stdout",
     "output_type": "stream",
     "text": [
      "165642 20 5576 160066 [7197, 7196, 7195, 7194, 7193, 7192, 7191, 7190, 7189, 7188, 7187, 7186, 7185, 7184, 7183, 7182, 7181, 7180, 7179, 7178]\n"
     ]
    },
    {
     "name": "stderr",
     "output_type": "stream",
     "text": [
      "\r",
      "  3%|▎         | 329/9716 [24:40<11:44:14,  4.50s/it]"
     ]
    },
    {
     "name": "stdout",
     "output_type": "stream",
     "text": [
      "165642 20 5593 160049 [7214, 7213, 7212, 7211, 7210, 7209, 7208, 7207, 7206, 7205, 7204, 7203, 7202, 7201, 7200, 7199, 7198, 7197, 7196, 7195]\n"
     ]
    },
    {
     "name": "stderr",
     "output_type": "stream",
     "text": [
      "\r",
      "  3%|▎         | 330/9716 [24:44<11:43:37,  4.50s/it]"
     ]
    },
    {
     "name": "stdout",
     "output_type": "stream",
     "text": [
      "165642 20 5610 160032 [7231, 7230, 7229, 7228, 7227, 7226, 7225, 7224, 7223, 7222, 7221, 7220, 7219, 7218, 7217, 7216, 7215, 7214, 7213, 7212]\n"
     ]
    },
    {
     "name": "stderr",
     "output_type": "stream",
     "text": [
      "\r",
      "  3%|▎         | 331/9716 [24:47<11:43:01,  4.49s/it]"
     ]
    },
    {
     "name": "stdout",
     "output_type": "stream",
     "text": [
      "165642 20 5627 160015 [7248, 7247, 7246, 7245, 7244, 7243, 7242, 7241, 7240, 7239, 7238, 7237, 7236, 7235, 7234, 7233, 7232, 7231, 7230, 7229]\n"
     ]
    },
    {
     "name": "stderr",
     "output_type": "stream",
     "text": [
      "\r",
      "  3%|▎         | 332/9716 [24:51<11:42:30,  4.49s/it]"
     ]
    },
    {
     "name": "stdout",
     "output_type": "stream",
     "text": [
      "165642 20 5644 159998 [7265, 7264, 7263, 7262, 7261, 7260, 7259, 7258, 7257, 7256, 7255, 7254, 7253, 7252, 7251, 7250, 7249, 7248, 7247, 7246]\n"
     ]
    },
    {
     "name": "stderr",
     "output_type": "stream",
     "text": [
      "\r",
      "  3%|▎         | 333/9716 [24:54<11:41:49,  4.49s/it]"
     ]
    },
    {
     "name": "stdout",
     "output_type": "stream",
     "text": [
      "165642 20 5661 159981 [7282, 7281, 7280, 7279, 7278, 7277, 7276, 7275, 7274, 7273, 7272, 7271, 7270, 7269, 7268, 7267, 7266, 7265, 7264, 7263]\n"
     ]
    },
    {
     "name": "stderr",
     "output_type": "stream",
     "text": [
      "\r",
      "  3%|▎         | 334/9716 [24:57<11:41:10,  4.48s/it]"
     ]
    },
    {
     "name": "stdout",
     "output_type": "stream",
     "text": [
      "165642 20 5678 159964 [7299, 7298, 7297, 7296, 7295, 7294, 7293, 7292, 7291, 7290, 7289, 7288, 7287, 7286, 7285, 7284, 7283, 7282, 7281, 7280]\n"
     ]
    },
    {
     "name": "stderr",
     "output_type": "stream",
     "text": [
      "\r",
      "  3%|▎         | 335/9716 [25:00<11:40:28,  4.48s/it]"
     ]
    },
    {
     "name": "stdout",
     "output_type": "stream",
     "text": [
      "165642 20 5695 159947 [7316, 7315, 7314, 7313, 7312, 7311, 7310, 7309, 7308, 7307, 7306, 7305, 7304, 7303, 7302, 7301, 7300, 7299, 7298, 7297]\n"
     ]
    },
    {
     "name": "stderr",
     "output_type": "stream",
     "text": [
      "\r",
      "  3%|▎         | 336/9716 [25:04<11:39:50,  4.48s/it]"
     ]
    },
    {
     "name": "stdout",
     "output_type": "stream",
     "text": [
      "165653 20 5712 159930 [7333, 7332, 7331, 7330, 7329, 7328, 7327, 7326, 7325, 7324, 7323, 7322, 7321, 7320, 7319, 7318, 7317, 7316, 7315, 7314]\n"
     ]
    },
    {
     "name": "stderr",
     "output_type": "stream",
     "text": [
      "\r",
      "  3%|▎         | 337/9716 [25:07<11:39:22,  4.47s/it]"
     ]
    },
    {
     "name": "stdout",
     "output_type": "stream",
     "text": [
      "165654 20 5729 159924 [7350, 7349, 7348, 7347, 7346, 7345, 7344, 7343, 7342, 7341, 7340, 7339, 7338, 7337, 7336, 7335, 7334, 7333, 7332, 7331]\n"
     ]
    },
    {
     "name": "stderr",
     "output_type": "stream",
     "text": [
      "\r",
      "  3%|▎         | 338/9716 [25:11<11:38:49,  4.47s/it]"
     ]
    },
    {
     "name": "stdout",
     "output_type": "stream",
     "text": [
      "165654 20 5746 159908 [7367, 7366, 7365, 7364, 7363, 7362, 7361, 7360, 7359, 7358, 7357, 7356, 7355, 7354, 7353, 7352, 7351, 7350, 7349, 7348]\n"
     ]
    },
    {
     "name": "stderr",
     "output_type": "stream",
     "text": [
      "\r",
      "  3%|▎         | 339/9716 [25:15<11:38:41,  4.47s/it]"
     ]
    },
    {
     "name": "stdout",
     "output_type": "stream",
     "text": [
      "165654 20 5763 159891 [7384, 7383, 7382, 7381, 7380, 7379, 7378, 7377, 7376, 7375, 7374, 7373, 7372, 7371, 7370, 7369, 7368, 7367, 7366, 7365]\n"
     ]
    },
    {
     "name": "stderr",
     "output_type": "stream",
     "text": [
      "\r",
      "  3%|▎         | 340/9716 [25:20<11:38:52,  4.47s/it]"
     ]
    },
    {
     "name": "stdout",
     "output_type": "stream",
     "text": [
      "165654 20 5780 159874 [7401, 7400, 7399, 7398, 7397, 7396, 7395, 7394, 7393, 7392, 7391, 7390, 7389, 7388, 7387, 7386, 7385, 7384, 7383, 7382]\n"
     ]
    },
    {
     "name": "stderr",
     "output_type": "stream",
     "text": [
      "\r",
      "  4%|▎         | 341/9716 [25:24<11:38:19,  4.47s/it]"
     ]
    },
    {
     "name": "stdout",
     "output_type": "stream",
     "text": [
      "165654 20 5797 159857 [7418, 7417, 7416, 7415, 7414, 7413, 7412, 7411, 7410, 7409, 7408, 7407, 7406, 7405, 7404, 7403, 7402, 7401, 7400, 7399]\n"
     ]
    },
    {
     "name": "stderr",
     "output_type": "stream",
     "text": [
      "\r",
      "  4%|▎         | 342/9716 [25:28<11:38:03,  4.47s/it]"
     ]
    },
    {
     "name": "stdout",
     "output_type": "stream",
     "text": [
      "165654 20 5814 159840 [7435, 7434, 7433, 7432, 7431, 7430, 7429, 7428, 7427, 7426, 7425, 7424, 7423, 7422, 7421, 7420, 7419, 7418, 7417, 7416]\n"
     ]
    },
    {
     "name": "stderr",
     "output_type": "stream",
     "text": [
      "\r",
      "  4%|▎         | 343/9716 [25:32<11:37:51,  4.47s/it]"
     ]
    },
    {
     "name": "stdout",
     "output_type": "stream",
     "text": [
      "165654 20 5831 159823 [7452, 7451, 7450, 7449, 7448, 7447, 7446, 7445, 7444, 7443, 7442, 7441, 7440, 7439, 7438, 7437, 7436, 7435, 7434, 7433]\n"
     ]
    },
    {
     "name": "stderr",
     "output_type": "stream",
     "text": [
      "\r",
      "  4%|▎         | 344/9716 [25:36<11:37:30,  4.47s/it]"
     ]
    },
    {
     "name": "stdout",
     "output_type": "stream",
     "text": [
      "165654 20 5848 159806 [7469, 7468, 7467, 7466, 7465, 7464, 7463, 7462, 7461, 7460, 7459, 7458, 7457, 7456, 7455, 7454, 7453, 7452, 7451, 7450]\n"
     ]
    },
    {
     "name": "stderr",
     "output_type": "stream",
     "text": [
      "\r",
      "  4%|▎         | 345/9716 [25:40<11:37:24,  4.47s/it]"
     ]
    },
    {
     "name": "stdout",
     "output_type": "stream",
     "text": [
      "165654 20 5865 159789 [7486, 7485, 7484, 7483, 7482, 7481, 7480, 7479, 7478, 7477, 7476, 7475, 7474, 7473, 7472, 7471, 7470, 7469, 7468, 7467]\n"
     ]
    },
    {
     "name": "stderr",
     "output_type": "stream",
     "text": [
      "\r",
      "  4%|▎         | 346/9716 [25:43<11:36:51,  4.46s/it]"
     ]
    },
    {
     "name": "stdout",
     "output_type": "stream",
     "text": [
      "165654 20 5882 159772 [7503, 7502, 7501, 7500, 7499, 7498, 7497, 7496, 7495, 7494, 7493, 7492, 7491, 7490, 7489, 7488, 7487, 7486, 7485, 7484]\n"
     ]
    },
    {
     "name": "stderr",
     "output_type": "stream",
     "text": [
      "\r",
      "  4%|▎         | 347/9716 [25:48<11:36:37,  4.46s/it]"
     ]
    },
    {
     "name": "stdout",
     "output_type": "stream",
     "text": [
      "165654 20 5899 159755 [7520, 7519, 7518, 7517, 7516, 7515, 7514, 7513, 7512, 7511, 7510, 7509, 7508, 7507, 7506, 7505, 7504, 7503, 7502, 7501]\n"
     ]
    },
    {
     "name": "stderr",
     "output_type": "stream",
     "text": [
      "\r",
      "  4%|▎         | 348/9716 [25:51<11:36:19,  4.46s/it]"
     ]
    },
    {
     "name": "stdout",
     "output_type": "stream",
     "text": [
      "165654 20 5916 159738 [7537, 7536, 7535, 7534, 7533, 7532, 7531, 7530, 7529, 7528, 7527, 7526, 7525, 7524, 7523, 7522, 7521, 7520, 7519, 7518]\n"
     ]
    },
    {
     "name": "stderr",
     "output_type": "stream",
     "text": [
      "\r",
      "  4%|▎         | 349/9716 [25:56<11:36:10,  4.46s/it]"
     ]
    },
    {
     "name": "stdout",
     "output_type": "stream",
     "text": [
      "165654 20 5933 159721 [7554, 7553, 7552, 7551, 7550, 7549, 7548, 7547, 7546, 7545, 7544, 7543, 7542, 7541, 7540, 7539, 7538, 7537, 7536, 7535]\n"
     ]
    },
    {
     "name": "stderr",
     "output_type": "stream",
     "text": [
      "\r",
      "  4%|▎         | 350/9716 [26:00<11:35:52,  4.46s/it]"
     ]
    },
    {
     "name": "stdout",
     "output_type": "stream",
     "text": [
      "165654 20 5950 159704 [7571, 7570, 7569, 7568, 7567, 7566, 7565, 7564, 7563, 7562, 7561, 7560, 7559, 7558, 7557, 7556, 7555, 7554, 7553, 7552]\n"
     ]
    },
    {
     "name": "stderr",
     "output_type": "stream",
     "text": [
      "\r",
      "  4%|▎         | 351/9716 [26:04<11:35:37,  4.46s/it]"
     ]
    },
    {
     "name": "stdout",
     "output_type": "stream",
     "text": [
      "165654 20 5967 159687 [7588, 7587, 7586, 7585, 7584, 7583, 7582, 7581, 7580, 7579, 7578, 7577, 7576, 7575, 7574, 7573, 7572, 7571, 7570, 7569]\n"
     ]
    },
    {
     "name": "stderr",
     "output_type": "stream",
     "text": [
      "\r",
      "  4%|▎         | 352/9716 [26:08<11:35:24,  4.46s/it]"
     ]
    },
    {
     "name": "stdout",
     "output_type": "stream",
     "text": [
      "165654 20 5984 159670 [7605, 7604, 7603, 7602, 7601, 7600, 7599, 7598, 7597, 7596, 7595, 7594, 7593, 7592, 7591, 7590, 7589, 7588, 7587, 7586]\n"
     ]
    },
    {
     "name": "stderr",
     "output_type": "stream",
     "text": [
      "\r",
      "  4%|▎         | 353/9716 [26:12<11:35:04,  4.45s/it]"
     ]
    },
    {
     "name": "stdout",
     "output_type": "stream",
     "text": [
      "165654 20 6001 159653 [7622, 7621, 7620, 7619, 7618, 7617, 7616, 7615, 7614, 7613, 7612, 7611, 7610, 7609, 7608, 7607, 7606, 7605, 7604, 7603]\n"
     ]
    },
    {
     "name": "stderr",
     "output_type": "stream",
     "text": [
      "\r",
      "  4%|▎         | 354/9716 [26:15<11:34:38,  4.45s/it]"
     ]
    },
    {
     "name": "stdout",
     "output_type": "stream",
     "text": [
      "165654 20 6018 159636 [7639, 7638, 7637, 7636, 7635, 7634, 7633, 7632, 7631, 7630, 7629, 7628, 7627, 7626, 7625, 7624, 7623, 7622, 7621, 7620]\n"
     ]
    },
    {
     "name": "stderr",
     "output_type": "stream",
     "text": [
      "\r",
      "  4%|▎         | 355/9716 [26:19<11:34:15,  4.45s/it]"
     ]
    },
    {
     "name": "stdout",
     "output_type": "stream",
     "text": [
      "165654 20 6035 159619 [7656, 7655, 7654, 7653, 7652, 7651, 7650, 7649, 7648, 7647, 7646, 7645, 7644, 7643, 7642, 7641, 7640, 7639, 7638, 7637]\n"
     ]
    },
    {
     "name": "stderr",
     "output_type": "stream",
     "text": [
      "\r",
      "  4%|▎         | 356/9716 [26:23<11:33:50,  4.45s/it]"
     ]
    },
    {
     "name": "stdout",
     "output_type": "stream",
     "text": [
      "165663 20 6052 159602 [7676, 7675, 7674, 7673, 7672, 7671, 7670, 7669, 7668, 7667, 7666, 7665, 7664, 7663, 7662, 7661, 7660, 7659, 7658, 7657]\n"
     ]
    },
    {
     "name": "stderr",
     "output_type": "stream",
     "text": [
      "\r",
      "  4%|▎         | 357/9716 [26:28<11:33:53,  4.45s/it]"
     ]
    },
    {
     "name": "stdout",
     "output_type": "stream",
     "text": [
      "165663 20 6069 159594 [7690, 7689, 7688, 7687, 7686, 7685, 7684, 7683, 7682, 7681, 7680, 7679, 7678, 7677, 7676, 7675, 7674, 7673, 7672, 7671]\n"
     ]
    },
    {
     "name": "stderr",
     "output_type": "stream",
     "text": [
      "\r",
      "  4%|▎         | 358/9716 [26:32<11:33:55,  4.45s/it]"
     ]
    },
    {
     "name": "stdout",
     "output_type": "stream",
     "text": [
      "165663 20 6086 159577 [7707, 7706, 7705, 7704, 7703, 7702, 7701, 7700, 7699, 7698, 7697, 7696, 7695, 7694, 7693, 7692, 7691, 7690, 7689, 7688]\n"
     ]
    },
    {
     "name": "stderr",
     "output_type": "stream",
     "text": [
      "\r",
      "  4%|▎         | 359/9716 [26:37<11:34:00,  4.45s/it]"
     ]
    },
    {
     "name": "stdout",
     "output_type": "stream",
     "text": [
      "165663 20 6103 159560 [7724, 7723, 7722, 7721, 7720, 7719, 7718, 7717, 7716, 7715, 7714, 7713, 7712, 7711, 7710, 7709, 7708, 7707, 7706, 7705]\n"
     ]
    },
    {
     "name": "stderr",
     "output_type": "stream",
     "text": [
      "\r",
      "  4%|▎         | 360/9716 [26:42<11:33:57,  4.45s/it]"
     ]
    },
    {
     "name": "stdout",
     "output_type": "stream",
     "text": [
      "165663 20 6120 159543 [7741, 7740, 7739, 7738, 7737, 7736, 7735, 7734, 7733, 7732, 7731, 7730, 7729, 7728, 7727, 7726, 7725, 7724, 7723, 7722]\n"
     ]
    },
    {
     "name": "stderr",
     "output_type": "stream",
     "text": [
      "\r",
      "  4%|▎         | 361/9716 [26:46<11:33:42,  4.45s/it]"
     ]
    },
    {
     "name": "stdout",
     "output_type": "stream",
     "text": [
      "165663 20 6137 159526 [7758, 7757, 7756, 7755, 7754, 7753, 7752, 7751, 7750, 7749, 7748, 7747, 7746, 7745, 7744, 7743, 7742, 7741, 7740, 7739]\n"
     ]
    },
    {
     "name": "stderr",
     "output_type": "stream",
     "text": [
      "\r",
      "  4%|▎         | 362/9716 [26:49<11:33:11,  4.45s/it]"
     ]
    },
    {
     "name": "stdout",
     "output_type": "stream",
     "text": [
      "165663 20 6154 159509 [7775, 7774, 7773, 7772, 7771, 7770, 7769, 7768, 7767, 7766, 7765, 7764, 7763, 7762, 7761, 7760, 7759, 7758, 7757, 7756]\n"
     ]
    },
    {
     "name": "stderr",
     "output_type": "stream",
     "text": [
      "\r",
      "  4%|▎         | 363/9716 [26:53<11:32:41,  4.44s/it]"
     ]
    },
    {
     "name": "stdout",
     "output_type": "stream",
     "text": [
      "165663 20 6171 159492 [7792, 7791, 7790, 7789, 7788, 7787, 7786, 7785, 7784, 7783, 7782, 7781, 7780, 7779, 7778, 7777, 7776, 7775, 7774, 7773]\n"
     ]
    },
    {
     "name": "stderr",
     "output_type": "stream",
     "text": [
      "\r",
      "  4%|▎         | 364/9716 [26:56<11:32:02,  4.44s/it]"
     ]
    },
    {
     "name": "stdout",
     "output_type": "stream",
     "text": [
      "165663 20 6188 159475 [7809, 7808, 7807, 7806, 7805, 7804, 7803, 7802, 7801, 7800, 7799, 7798, 7797, 7796, 7795, 7794, 7793, 7792, 7791, 7790]\n"
     ]
    },
    {
     "name": "stderr",
     "output_type": "stream",
     "text": [
      "\r",
      "  4%|▍         | 365/9716 [26:59<11:31:30,  4.44s/it]"
     ]
    },
    {
     "name": "stdout",
     "output_type": "stream",
     "text": [
      "165663 20 6205 159458 [7826, 7825, 7824, 7823, 7822, 7821, 7820, 7819, 7818, 7817, 7816, 7815, 7814, 7813, 7812, 7811, 7810, 7809, 7808, 7807]\n"
     ]
    },
    {
     "name": "stderr",
     "output_type": "stream",
     "text": [
      "\r",
      "  4%|▍         | 366/9716 [27:02<11:30:59,  4.43s/it]"
     ]
    },
    {
     "name": "stdout",
     "output_type": "stream",
     "text": [
      "165663 20 6222 159441 [7843, 7842, 7841, 7840, 7839, 7838, 7837, 7836, 7835, 7834, 7833, 7832, 7831, 7830, 7829, 7828, 7827, 7826, 7825, 7824]\n"
     ]
    },
    {
     "name": "stderr",
     "output_type": "stream",
     "text": [
      "\r",
      "  4%|▍         | 367/9716 [27:06<11:30:31,  4.43s/it]"
     ]
    },
    {
     "name": "stdout",
     "output_type": "stream",
     "text": [
      "165663 20 6239 159424 [7860, 7859, 7858, 7857, 7856, 7855, 7854, 7853, 7852, 7851, 7850, 7849, 7848, 7847, 7846, 7845, 7844, 7843, 7842, 7841]\n"
     ]
    },
    {
     "name": "stderr",
     "output_type": "stream",
     "text": [
      "\r",
      "  4%|▍         | 368/9716 [27:09<11:29:56,  4.43s/it]"
     ]
    },
    {
     "name": "stdout",
     "output_type": "stream",
     "text": [
      "165663 20 6256 159407 [7877, 7876, 7875, 7874, 7873, 7872, 7871, 7870, 7869, 7868, 7867, 7866, 7865, 7864, 7863, 7862, 7861, 7860, 7859, 7858]\n"
     ]
    },
    {
     "name": "stderr",
     "output_type": "stream",
     "text": [
      "\r",
      "  4%|▍         | 369/9716 [27:13<11:29:28,  4.43s/it]"
     ]
    },
    {
     "name": "stdout",
     "output_type": "stream",
     "text": [
      "165682 20 6273 159390 [7894, 7893, 7892, 7891, 7890, 7889, 7888, 7887, 7886, 7885, 7884, 7883, 7882, 7881, 7880, 7879, 7878, 7877, 7876, 7875]\n"
     ]
    },
    {
     "name": "stderr",
     "output_type": "stream",
     "text": [
      "\r",
      "  4%|▍         | 370/9716 [27:16<11:28:57,  4.42s/it]"
     ]
    },
    {
     "name": "stdout",
     "output_type": "stream",
     "text": [
      "165682 20 6290 159392 [7911, 7910, 7909, 7908, 7907, 7906, 7905, 7904, 7903, 7902, 7901, 7900, 7899, 7898, 7897, 7896, 7895, 7894, 7893, 7892]\n"
     ]
    },
    {
     "name": "stderr",
     "output_type": "stream",
     "text": [
      "\r",
      "  4%|▍         | 371/9716 [27:19<11:28:20,  4.42s/it]"
     ]
    },
    {
     "name": "stdout",
     "output_type": "stream",
     "text": [
      "165682 20 6307 159375 [7928, 7927, 7926, 7925, 7924, 7923, 7922, 7921, 7920, 7919, 7918, 7917, 7916, 7915, 7914, 7913, 7912, 7911, 7910, 7909]\n"
     ]
    },
    {
     "name": "stderr",
     "output_type": "stream",
     "text": [
      "\r",
      "  4%|▍         | 372/9716 [27:24<11:28:19,  4.42s/it]"
     ]
    },
    {
     "name": "stdout",
     "output_type": "stream",
     "text": [
      "165682 20 6324 159358 [7945, 7944, 7943, 7942, 7941, 7940, 7939, 7938, 7937, 7936, 7935, 7934, 7933, 7932, 7931, 7930, 7929, 7928, 7927, 7926]\n"
     ]
    },
    {
     "name": "stderr",
     "output_type": "stream",
     "text": [
      "\r",
      "  4%|▍         | 373/9716 [27:27<11:27:51,  4.42s/it]"
     ]
    },
    {
     "name": "stdout",
     "output_type": "stream",
     "text": [
      "165682 20 6341 159341 [7962, 7961, 7960, 7959, 7958, 7957, 7956, 7955, 7954, 7953, 7952, 7951, 7950, 7949, 7948, 7947, 7946, 7945, 7944, 7943]\n"
     ]
    },
    {
     "name": "stderr",
     "output_type": "stream",
     "text": [
      "\r",
      "  4%|▍         | 374/9716 [27:31<11:27:20,  4.41s/it]"
     ]
    },
    {
     "name": "stdout",
     "output_type": "stream",
     "text": [
      "165682 20 6358 159324 [7979, 7978, 7977, 7976, 7975, 7974, 7973, 7972, 7971, 7970, 7969, 7968, 7967, 7966, 7965, 7964, 7963, 7962, 7961, 7960]\n"
     ]
    },
    {
     "name": "stderr",
     "output_type": "stream",
     "text": [
      "\r",
      "  4%|▍         | 375/9716 [27:34<11:26:46,  4.41s/it]"
     ]
    },
    {
     "name": "stdout",
     "output_type": "stream",
     "text": [
      "165682 20 6375 159307 [7996, 7995, 7994, 7993, 7992, 7991, 7990, 7989, 7988, 7987, 7986, 7985, 7984, 7983, 7982, 7981, 7980, 7979, 7978, 7977]\n"
     ]
    },
    {
     "name": "stderr",
     "output_type": "stream",
     "text": [
      "\r",
      "  4%|▍         | 376/9716 [27:38<11:26:27,  4.41s/it]"
     ]
    },
    {
     "name": "stdout",
     "output_type": "stream",
     "text": [
      "165698 20 6392 159290 [8013, 8012, 8011, 8010, 8009, 8008, 8007, 8006, 8005, 8004, 8003, 8002, 8001, 8000, 7999, 7998, 7997, 7996, 7995, 7994]\n"
     ]
    },
    {
     "name": "stderr",
     "output_type": "stream",
     "text": [
      "\r",
      "  4%|▍         | 377/9716 [27:41<11:25:59,  4.41s/it]"
     ]
    },
    {
     "name": "stdout",
     "output_type": "stream",
     "text": [
      "165704 20 6409 159289 [8036, 8035, 8034, 8033, 8032, 8031, 8030, 8029, 8028, 8027, 8026, 8025, 8024, 8023, 8022, 8021, 8020, 8019, 8018, 8017]\n"
     ]
    },
    {
     "name": "stderr",
     "output_type": "stream",
     "text": [
      "\r",
      "  4%|▍         | 378/9716 [27:45<11:25:37,  4.41s/it]"
     ]
    },
    {
     "name": "stdout",
     "output_type": "stream",
     "text": [
      "165704 20 6426 159278 [8047, 8046, 8045, 8044, 8043, 8042, 8041, 8040, 8039, 8038, 8037, 8036, 8035, 8034, 8033, 8032, 8031, 8030, 8029, 8028]\n"
     ]
    },
    {
     "name": "stderr",
     "output_type": "stream",
     "text": [
      "\r",
      "  4%|▍         | 379/9716 [27:48<11:25:11,  4.40s/it]"
     ]
    },
    {
     "name": "stdout",
     "output_type": "stream",
     "text": [
      "165704 20 6443 159261 [8064, 8063, 8062, 8061, 8060, 8059, 8058, 8057, 8056, 8055, 8054, 8053, 8052, 8051, 8050, 8049, 8048, 8047, 8046, 8045]\n"
     ]
    },
    {
     "name": "stderr",
     "output_type": "stream",
     "text": [
      "\r",
      "  4%|▍         | 380/9716 [27:52<11:24:41,  4.40s/it]"
     ]
    },
    {
     "name": "stdout",
     "output_type": "stream",
     "text": [
      "165715 20 6460 159244 [8086, 8085, 8084, 8083, 8082, 8081, 8080, 8079, 8078, 8077, 8076, 8075, 8074, 8073, 8072, 8071, 8070, 8069, 8068, 8067]\n"
     ]
    },
    {
     "name": "stderr",
     "output_type": "stream",
     "text": [
      "\r",
      "  4%|▍         | 381/9716 [27:55<11:24:11,  4.40s/it]"
     ]
    },
    {
     "name": "stdout",
     "output_type": "stream",
     "text": [
      "165715 20 6477 159238 [8098, 8097, 8096, 8095, 8094, 8093, 8092, 8091, 8090, 8089, 8088, 8087, 8086, 8085, 8084, 8083, 8082, 8081, 8080, 8079]\n"
     ]
    },
    {
     "name": "stderr",
     "output_type": "stream",
     "text": [
      "\r",
      "  4%|▍         | 382/9716 [27:59<11:23:49,  4.40s/it]"
     ]
    },
    {
     "name": "stdout",
     "output_type": "stream",
     "text": [
      "165715 20 6494 159221 [8115, 8114, 8113, 8112, 8111, 8110, 8109, 8108, 8107, 8106, 8105, 8104, 8103, 8102, 8101, 8100, 8099, 8098, 8097, 8096]\n"
     ]
    },
    {
     "name": "stderr",
     "output_type": "stream",
     "text": [
      "\r",
      "  4%|▍         | 383/9716 [28:02<11:23:15,  4.39s/it]"
     ]
    },
    {
     "name": "stdout",
     "output_type": "stream",
     "text": [
      "165715 20 6511 159204 [8132, 8131, 8130, 8129, 8128, 8127, 8126, 8125, 8124, 8123, 8122, 8121, 8120, 8119, 8118, 8117, 8116, 8115, 8114, 8113]\n"
     ]
    },
    {
     "name": "stderr",
     "output_type": "stream",
     "text": [
      "\r",
      "  4%|▍         | 384/9716 [28:05<11:22:44,  4.39s/it]"
     ]
    },
    {
     "name": "stdout",
     "output_type": "stream",
     "text": [
      "165715 20 6528 159187 [8149, 8148, 8147, 8146, 8145, 8144, 8143, 8142, 8141, 8140, 8139, 8138, 8137, 8136, 8135, 8134, 8133, 8132, 8131, 8130]\n"
     ]
    },
    {
     "name": "stderr",
     "output_type": "stream",
     "text": [
      "\r",
      "  4%|▍         | 385/9716 [28:08<11:22:11,  4.39s/it]"
     ]
    },
    {
     "name": "stdout",
     "output_type": "stream",
     "text": [
      "165715 20 6545 159170 [8166, 8165, 8164, 8163, 8162, 8161, 8160, 8159, 8158, 8157, 8156, 8155, 8154, 8153, 8152, 8151, 8150, 8149, 8148, 8147]\n"
     ]
    },
    {
     "name": "stderr",
     "output_type": "stream",
     "text": [
      "\r",
      "  4%|▍         | 386/9716 [28:12<11:21:41,  4.38s/it]"
     ]
    },
    {
     "name": "stdout",
     "output_type": "stream",
     "text": [
      "165715 20 6562 159153 [8183, 8182, 8181, 8180, 8179, 8178, 8177, 8176, 8175, 8174, 8173, 8172, 8171, 8170, 8169, 8168, 8167, 8166, 8165, 8164]\n"
     ]
    },
    {
     "name": "stderr",
     "output_type": "stream",
     "text": [
      "\r",
      "  4%|▍         | 387/9716 [28:15<11:21:20,  4.38s/it]"
     ]
    },
    {
     "name": "stdout",
     "output_type": "stream",
     "text": [
      "165715 20 6579 159136 [8200, 8199, 8198, 8197, 8196, 8195, 8194, 8193, 8192, 8191, 8190, 8189, 8188, 8187, 8186, 8185, 8184, 8183, 8182, 8181]\n"
     ]
    },
    {
     "name": "stderr",
     "output_type": "stream",
     "text": [
      "\r",
      "  4%|▍         | 388/9716 [28:19<11:20:50,  4.38s/it]"
     ]
    },
    {
     "name": "stdout",
     "output_type": "stream",
     "text": [
      "165715 20 6596 159119 [8217, 8216, 8215, 8214, 8213, 8212, 8211, 8210, 8209, 8208, 8207, 8206, 8205, 8204, 8203, 8202, 8201, 8200, 8199, 8198]\n"
     ]
    },
    {
     "name": "stderr",
     "output_type": "stream",
     "text": [
      "\r",
      "  4%|▍         | 389/9716 [28:22<11:20:24,  4.38s/it]"
     ]
    },
    {
     "name": "stdout",
     "output_type": "stream",
     "text": [
      "165715 20 6613 159102 [8234, 8233, 8232, 8231, 8230, 8229, 8228, 8227, 8226, 8225, 8224, 8223, 8222, 8221, 8220, 8219, 8218, 8217, 8216, 8215]\n"
     ]
    },
    {
     "name": "stderr",
     "output_type": "stream",
     "text": [
      "\r",
      "  4%|▍         | 390/9716 [28:26<11:20:04,  4.38s/it]"
     ]
    },
    {
     "name": "stdout",
     "output_type": "stream",
     "text": [
      "165721 20 6630 159085 [8251, 8250, 8249, 8248, 8247, 8246, 8245, 8244, 8243, 8242, 8241, 8240, 8239, 8238, 8237, 8236, 8235, 8234, 8233, 8232]\n"
     ]
    },
    {
     "name": "stderr",
     "output_type": "stream",
     "text": [
      "\r",
      "  4%|▍         | 391/9716 [28:30<11:19:47,  4.37s/it]"
     ]
    },
    {
     "name": "stdout",
     "output_type": "stream",
     "text": [
      "165721 20 6647 159074 [8268, 8267, 8266, 8265, 8264, 8263, 8262, 8261, 8260, 8259, 8258, 8257, 8256, 8255, 8254, 8253, 8252, 8251, 8250, 8249]\n"
     ]
    },
    {
     "name": "stderr",
     "output_type": "stream",
     "text": [
      "\r",
      "  4%|▍         | 392/9716 [28:33<11:19:18,  4.37s/it]"
     ]
    },
    {
     "name": "stdout",
     "output_type": "stream",
     "text": [
      "165721 20 6664 159057 [8285, 8284, 8283, 8282, 8281, 8280, 8279, 8278, 8277, 8276, 8275, 8274, 8273, 8272, 8271, 8270, 8269, 8268, 8267, 8266]\n"
     ]
    },
    {
     "name": "stderr",
     "output_type": "stream",
     "text": [
      "\r",
      "  4%|▍         | 393/9716 [28:37<11:18:52,  4.37s/it]"
     ]
    },
    {
     "name": "stdout",
     "output_type": "stream",
     "text": [
      "165721 20 6681 159040 [8302, 8301, 8300, 8299, 8298, 8297, 8296, 8295, 8294, 8293, 8292, 8291, 8290, 8289, 8288, 8287, 8286, 8285, 8284, 8283]\n"
     ]
    },
    {
     "name": "stderr",
     "output_type": "stream",
     "text": [
      "\r",
      "  4%|▍         | 394/9716 [28:40<11:18:15,  4.37s/it]"
     ]
    },
    {
     "name": "stdout",
     "output_type": "stream",
     "text": [
      "165721 20 6698 159023 [8319, 8318, 8317, 8316, 8315, 8314, 8313, 8312, 8311, 8310, 8309, 8308, 8307, 8306, 8305, 8304, 8303, 8302, 8301, 8300]\n"
     ]
    },
    {
     "name": "stderr",
     "output_type": "stream",
     "text": [
      "\r",
      "  4%|▍         | 395/9716 [28:43<11:17:52,  4.36s/it]"
     ]
    },
    {
     "name": "stdout",
     "output_type": "stream",
     "text": [
      "165721 20 6715 159006 [8336, 8335, 8334, 8333, 8332, 8331, 8330, 8329, 8328, 8327, 8326, 8325, 8324, 8323, 8322, 8321, 8320, 8319, 8318, 8317]\n"
     ]
    },
    {
     "name": "stderr",
     "output_type": "stream",
     "text": [
      "\r",
      "  4%|▍         | 396/9716 [28:47<11:17:35,  4.36s/it]"
     ]
    },
    {
     "name": "stdout",
     "output_type": "stream",
     "text": [
      "165721 20 6732 158989 [8353, 8352, 8351, 8350, 8349, 8348, 8347, 8346, 8345, 8344, 8343, 8342, 8341, 8340, 8339, 8338, 8337, 8336, 8335, 8334]\n"
     ]
    },
    {
     "name": "stderr",
     "output_type": "stream",
     "text": [
      "\r",
      "  4%|▍         | 397/9716 [28:50<11:17:10,  4.36s/it]"
     ]
    },
    {
     "name": "stdout",
     "output_type": "stream",
     "text": [
      "165721 20 6749 158972 [8370, 8369, 8368, 8367, 8366, 8365, 8364, 8363, 8362, 8361, 8360, 8359, 8358, 8357, 8356, 8355, 8354, 8353, 8352, 8351]\n"
     ]
    },
    {
     "name": "stderr",
     "output_type": "stream",
     "text": [
      "\r",
      "  4%|▍         | 398/9716 [28:54<11:16:38,  4.36s/it]"
     ]
    },
    {
     "name": "stdout",
     "output_type": "stream",
     "text": [
      "165721 20 6766 158955 [8387, 8386, 8385, 8384, 8383, 8382, 8381, 8380, 8379, 8378, 8377, 8376, 8375, 8374, 8373, 8372, 8371, 8370, 8369, 8368]\n"
     ]
    },
    {
     "name": "stderr",
     "output_type": "stream",
     "text": [
      "\r",
      "  4%|▍         | 399/9716 [28:57<11:16:09,  4.35s/it]"
     ]
    },
    {
     "name": "stdout",
     "output_type": "stream",
     "text": [
      "165721 20 6783 158938 [8404, 8403, 8402, 8401, 8400, 8399, 8398, 8397, 8396, 8395, 8394, 8393, 8392, 8391, 8390, 8389, 8388, 8387, 8386, 8385]\n"
     ]
    },
    {
     "name": "stderr",
     "output_type": "stream",
     "text": [
      "\r",
      "  4%|▍         | 400/9716 [29:01<11:15:48,  4.35s/it]"
     ]
    },
    {
     "name": "stdout",
     "output_type": "stream",
     "text": [
      "165721 20 6800 158921 [8421, 8420, 8419, 8418, 8417, 8416, 8415, 8414, 8413, 8412, 8411, 8410, 8409, 8408, 8407, 8406, 8405, 8404, 8403, 8402]\n"
     ]
    },
    {
     "name": "stderr",
     "output_type": "stream",
     "text": [
      "\r",
      "  4%|▍         | 401/9716 [29:04<11:15:17,  4.35s/it]"
     ]
    },
    {
     "name": "stdout",
     "output_type": "stream",
     "text": [
      "165721 20 6817 158904 [8438, 8437, 8436, 8435, 8434, 8433, 8432, 8431, 8430, 8429, 8428, 8427, 8426, 8425, 8424, 8423, 8422, 8421, 8420, 8419]\n"
     ]
    },
    {
     "name": "stderr",
     "output_type": "stream",
     "text": [
      "\r",
      "  4%|▍         | 402/9716 [29:07<11:14:40,  4.35s/it]"
     ]
    },
    {
     "name": "stdout",
     "output_type": "stream",
     "text": [
      "165721 20 6834 158887 [8455, 8454, 8453, 8452, 8451, 8450, 8449, 8448, 8447, 8446, 8445, 8444, 8443, 8442, 8441, 8440, 8439, 8438, 8437, 8436]\n"
     ]
    },
    {
     "name": "stderr",
     "output_type": "stream",
     "text": [
      "\r",
      "  4%|▍         | 403/9716 [29:10<11:14:13,  4.34s/it]"
     ]
    },
    {
     "name": "stdout",
     "output_type": "stream",
     "text": [
      "165721 20 6851 158870 [8472, 8471, 8470, 8469, 8468, 8467, 8466, 8465, 8464, 8463, 8462, 8461, 8460, 8459, 8458, 8457, 8456, 8455, 8454, 8453]\n"
     ]
    },
    {
     "name": "stderr",
     "output_type": "stream",
     "text": [
      "\r",
      "  4%|▍         | 404/9716 [29:14<11:13:49,  4.34s/it]"
     ]
    },
    {
     "name": "stdout",
     "output_type": "stream",
     "text": [
      "165721 20 6868 158853 [8489, 8488, 8487, 8486, 8485, 8484, 8483, 8482, 8481, 8480, 8479, 8478, 8477, 8476, 8475, 8474, 8473, 8472, 8471, 8470]\n"
     ]
    },
    {
     "name": "stderr",
     "output_type": "stream",
     "text": [
      "\r",
      "  4%|▍         | 405/9716 [29:17<11:13:26,  4.34s/it]"
     ]
    },
    {
     "name": "stdout",
     "output_type": "stream",
     "text": [
      "165721 20 6885 158836 [8506, 8505, 8504, 8503, 8502, 8501, 8500, 8499, 8498, 8497, 8496, 8495, 8494, 8493, 8492, 8491, 8490, 8489, 8488, 8487]\n"
     ]
    },
    {
     "name": "stderr",
     "output_type": "stream",
     "text": [
      "\r",
      "  4%|▍         | 406/9716 [29:22<11:13:36,  4.34s/it]"
     ]
    },
    {
     "name": "stdout",
     "output_type": "stream",
     "text": [
      "165721 20 6902 158819 [8523, 8522, 8521, 8520, 8519, 8518, 8517, 8516, 8515, 8514, 8513, 8512, 8511, 8510, 8509, 8508, 8507, 8506, 8505, 8504]\n"
     ]
    },
    {
     "name": "stderr",
     "output_type": "stream",
     "text": [
      "\r",
      "  4%|▍         | 407/9716 [29:27<11:13:48,  4.34s/it]"
     ]
    },
    {
     "name": "stdout",
     "output_type": "stream",
     "text": [
      "165721 20 6919 158802 [8540, 8539, 8538, 8537, 8536, 8535, 8534, 8533, 8532, 8531, 8530, 8529, 8528, 8527, 8526, 8525, 8524, 8523, 8522, 8521]\n"
     ]
    },
    {
     "name": "stderr",
     "output_type": "stream",
     "text": [
      "\r",
      "  4%|▍         | 408/9716 [29:31<11:13:37,  4.34s/it]"
     ]
    },
    {
     "name": "stdout",
     "output_type": "stream",
     "text": [
      "165725 20 6936 158785 [8557, 8556, 8555, 8554, 8553, 8552, 8551, 8550, 8549, 8548, 8547, 8546, 8545, 8544, 8543, 8542, 8541, 8540, 8539, 8538]\n"
     ]
    },
    {
     "name": "stderr",
     "output_type": "stream",
     "text": [
      "\r",
      "  4%|▍         | 409/9716 [29:35<11:13:22,  4.34s/it]"
     ]
    },
    {
     "name": "stdout",
     "output_type": "stream",
     "text": [
      "165741 20 6953 158772 [8583, 8582, 8581, 8580, 8579, 8578, 8577, 8576, 8575, 8574, 8573, 8572, 8571, 8570, 8569, 8568, 8567, 8566, 8565, 8564]\n"
     ]
    },
    {
     "name": "stderr",
     "output_type": "stream",
     "text": [
      "\r",
      "  4%|▍         | 410/9716 [29:39<11:13:18,  4.34s/it]"
     ]
    },
    {
     "name": "stdout",
     "output_type": "stream",
     "text": [
      "165741 20 6970 158771 [8591, 8590, 8589, 8588, 8587, 8586, 8585, 8584, 8583, 8582, 8581, 8580, 8579, 8578, 8577, 8576, 8575, 8574, 8573, 8572]\n"
     ]
    },
    {
     "name": "stderr",
     "output_type": "stream",
     "text": [
      "\r",
      "  4%|▍         | 411/9716 [29:42<11:12:46,  4.34s/it]"
     ]
    },
    {
     "name": "stdout",
     "output_type": "stream",
     "text": [
      "error 158754 Expecting value: line 1 column 1 (char 0)\n"
     ]
    },
    {
     "name": "stderr",
     "output_type": "stream",
     "text": [
      "\r",
      "  4%|▍         | 412/9716 [29:48<11:13:11,  4.34s/it]"
     ]
    },
    {
     "name": "stdout",
     "output_type": "stream",
     "text": [
      "error 158737 Expecting value: line 1 column 1 (char 0)\n"
     ]
    },
    {
     "name": "stderr",
     "output_type": "stream",
     "text": [
      "\r",
      "  4%|▍         | 413/9716 [29:55<11:14:08,  4.35s/it]"
     ]
    },
    {
     "name": "stdout",
     "output_type": "stream",
     "text": [
      "error 158720 Expecting value: line 1 column 1 (char 0)\n"
     ]
    },
    {
     "name": "stderr",
     "output_type": "stream",
     "text": [
      "\r",
      "  4%|▍         | 414/9716 [29:56<11:12:40,  4.34s/it]"
     ]
    },
    {
     "name": "stdout",
     "output_type": "stream",
     "text": [
      "error 158703 Expecting value: line 1 column 1 (char 0)\n"
     ]
    },
    {
     "name": "stderr",
     "output_type": "stream",
     "text": [
      "\r",
      "  4%|▍         | 415/9716 [29:56<11:11:12,  4.33s/it]"
     ]
    },
    {
     "name": "stdout",
     "output_type": "stream",
     "text": [
      "error 158686 Expecting value: line 1 column 1 (char 0)\n"
     ]
    },
    {
     "name": "stderr",
     "output_type": "stream",
     "text": [
      "\r",
      "  4%|▍         | 416/9716 [29:58<11:09:59,  4.32s/it]"
     ]
    },
    {
     "name": "stdout",
     "output_type": "stream",
     "text": [
      "error 158669 Expecting value: line 1 column 1 (char 0)\n"
     ]
    },
    {
     "name": "stderr",
     "output_type": "stream",
     "text": [
      "\r",
      "  4%|▍         | 417/9716 [30:00<11:09:18,  4.32s/it]"
     ]
    },
    {
     "name": "stdout",
     "output_type": "stream",
     "text": [
      "error 158652 Expecting value: line 1 column 1 (char 0)\n"
     ]
    },
    {
     "name": "stderr",
     "output_type": "stream",
     "text": [
      "\r",
      "  4%|▍         | 418/9716 [30:03<11:08:31,  4.31s/it]"
     ]
    },
    {
     "name": "stdout",
     "output_type": "stream",
     "text": [
      "error 158635 Expecting value: line 1 column 1 (char 0)\n"
     ]
    },
    {
     "name": "stderr",
     "output_type": "stream",
     "text": [
      "\r",
      "  4%|▍         | 419/9716 [30:08<11:08:50,  4.32s/it]"
     ]
    },
    {
     "name": "stdout",
     "output_type": "stream",
     "text": [
      "165741 20 7123 158618 [8744, 8743, 8742, 8741, 8740, 8739, 8738, 8737, 8736, 8735, 8734, 8733, 8732, 8731, 8730, 8729, 8728, 8727, 8726, 8725]\n"
     ]
    },
    {
     "name": "stderr",
     "output_type": "stream",
     "text": [
      "\r",
      "  4%|▍         | 420/9716 [30:11<11:08:18,  4.31s/it]"
     ]
    },
    {
     "name": "stdout",
     "output_type": "stream",
     "text": [
      "165741 20 7140 158601 [8761, 8760, 8759, 8758, 8757, 8756, 8755, 8754, 8753, 8752, 8751, 8750, 8749, 8748, 8747, 8746, 8745, 8744, 8743, 8742]\n"
     ]
    },
    {
     "name": "stderr",
     "output_type": "stream",
     "text": [
      "\r",
      "  4%|▍         | 421/9716 [30:14<11:07:43,  4.31s/it]"
     ]
    },
    {
     "name": "stdout",
     "output_type": "stream",
     "text": [
      "165741 20 7157 158584 [8778, 8777, 8776, 8775, 8774, 8773, 8772, 8771, 8770, 8769, 8768, 8767, 8766, 8765, 8764, 8763, 8762, 8761, 8760, 8759]\n"
     ]
    },
    {
     "name": "stderr",
     "output_type": "stream",
     "text": [
      "\r",
      "  4%|▍         | 422/9716 [30:17<11:07:03,  4.31s/it]"
     ]
    },
    {
     "name": "stdout",
     "output_type": "stream",
     "text": [
      "165741 20 7174 158567 [8795, 8794, 8793, 8792, 8791, 8790, 8789, 8788, 8787, 8786, 8785, 8784, 8783, 8782, 8781, 8780, 8779, 8778, 8777, 8776]\n"
     ]
    },
    {
     "name": "stderr",
     "output_type": "stream",
     "text": [
      "\r",
      "  4%|▍         | 423/9716 [30:20<11:06:28,  4.30s/it]"
     ]
    },
    {
     "name": "stdout",
     "output_type": "stream",
     "text": [
      "165741 20 7191 158550 [8812, 8811, 8810, 8809, 8808, 8807, 8806, 8805, 8804, 8803, 8802, 8801, 8800, 8799, 8798, 8797, 8796, 8795, 8794, 8793]\n"
     ]
    },
    {
     "name": "stderr",
     "output_type": "stream",
     "text": [
      "\r",
      "  4%|▍         | 424/9716 [30:23<11:05:57,  4.30s/it]"
     ]
    },
    {
     "name": "stdout",
     "output_type": "stream",
     "text": [
      "165741 20 7208 158533 [8829, 8828, 8827, 8826, 8825, 8824, 8823, 8822, 8821, 8820, 8819, 8818, 8817, 8816, 8815, 8814, 8813, 8812, 8811, 8810]\n"
     ]
    },
    {
     "name": "stderr",
     "output_type": "stream",
     "text": [
      "\r",
      "  4%|▍         | 425/9716 [30:26<11:05:27,  4.30s/it]"
     ]
    },
    {
     "name": "stdout",
     "output_type": "stream",
     "text": [
      "165741 20 7225 158516 [8846, 8845, 8844, 8843, 8842, 8841, 8840, 8839, 8838, 8837, 8836, 8835, 8834, 8833, 8832, 8831, 8830, 8829, 8828, 8827]\n"
     ]
    },
    {
     "name": "stderr",
     "output_type": "stream",
     "text": [
      "\r",
      "  4%|▍         | 426/9716 [30:29<11:04:57,  4.29s/it]"
     ]
    },
    {
     "name": "stdout",
     "output_type": "stream",
     "text": [
      "165750 20 7242 158499 [8868, 8867, 8866, 8865, 8864, 8863, 8862, 8861, 8860, 8859, 8858, 8857, 8856, 8855, 8854, 8853, 8852, 8851, 8850, 8849]\n"
     ]
    },
    {
     "name": "stderr",
     "output_type": "stream",
     "text": [
      "\r",
      "  4%|▍         | 427/9716 [30:32<11:04:18,  4.29s/it]"
     ]
    },
    {
     "name": "stdout",
     "output_type": "stream",
     "text": [
      "165755 20 7259 158491 [8880, 8879, 8878, 8877, 8876, 8875, 8874, 8873, 8872, 8871, 8870, 8869, 8868, 8867, 8866, 8865, 8864, 8863, 8862, 8861]\n"
     ]
    },
    {
     "name": "stderr",
     "output_type": "stream",
     "text": [
      "\r",
      "  4%|▍         | 428/9716 [30:36<11:04:04,  4.29s/it]"
     ]
    },
    {
     "name": "stdout",
     "output_type": "stream",
     "text": [
      "165755 20 7276 158479 [8897, 8896, 8895, 8894, 8893, 8892, 8891, 8890, 8889, 8888, 8887, 8886, 8885, 8884, 8883, 8882, 8881, 8880, 8879, 8878]\n"
     ]
    },
    {
     "name": "stderr",
     "output_type": "stream",
     "text": [
      "\r",
      "  4%|▍         | 429/9716 [30:39<11:03:38,  4.29s/it]"
     ]
    },
    {
     "name": "stdout",
     "output_type": "stream",
     "text": [
      "165755 20 7293 158462 [8914, 8913, 8912, 8911, 8910, 8909, 8908, 8907, 8906, 8905, 8904, 8903, 8902, 8901, 8900, 8899, 8898, 8897, 8896, 8895]\n"
     ]
    },
    {
     "name": "stderr",
     "output_type": "stream",
     "text": [
      "\r",
      "  4%|▍         | 430/9716 [30:42<11:03:07,  4.28s/it]"
     ]
    },
    {
     "name": "stdout",
     "output_type": "stream",
     "text": [
      "165755 20 7310 158445 [8931, 8930, 8929, 8928, 8927, 8926, 8925, 8924, 8923, 8922, 8921, 8920, 8919, 8918, 8917, 8916, 8915, 8914, 8913, 8912]\n"
     ]
    },
    {
     "name": "stderr",
     "output_type": "stream",
     "text": [
      "\r",
      "  4%|▍         | 431/9716 [30:45<11:02:29,  4.28s/it]"
     ]
    },
    {
     "name": "stdout",
     "output_type": "stream",
     "text": [
      "165767 20 7327 158428 [8952, 8951, 8950, 8949, 8948, 8947, 8946, 8945, 8944, 8943, 8942, 8941, 8940, 8939, 8938, 8937, 8936, 8935, 8934, 8933]\n"
     ]
    },
    {
     "name": "stderr",
     "output_type": "stream",
     "text": [
      "\r",
      "  4%|▍         | 432/9716 [30:48<11:01:57,  4.28s/it]"
     ]
    },
    {
     "name": "stdout",
     "output_type": "stream",
     "text": [
      "165767 20 7344 158423 [8965, 8964, 8963, 8962, 8961, 8960, 8959, 8958, 8957, 8956, 8955, 8954, 8953, 8952, 8951, 8950, 8949, 8948, 8947, 8946]\n"
     ]
    },
    {
     "name": "stderr",
     "output_type": "stream",
     "text": [
      "\r",
      "  4%|▍         | 433/9716 [30:51<11:01:25,  4.28s/it]"
     ]
    },
    {
     "name": "stdout",
     "output_type": "stream",
     "text": [
      "165767 20 7361 158406 [8982, 8981, 8980, 8979, 8978, 8977, 8976, 8975, 8974, 8973, 8972, 8971, 8970, 8969, 8968, 8967, 8966, 8965, 8964, 8963]\n"
     ]
    },
    {
     "name": "stderr",
     "output_type": "stream",
     "text": [
      "\r",
      "  4%|▍         | 434/9716 [30:53<11:00:50,  4.27s/it]"
     ]
    },
    {
     "name": "stdout",
     "output_type": "stream",
     "text": [
      "165767 20 7378 158389 [8999, 8998, 8997, 8996, 8995, 8994, 8993, 8992, 8991, 8990, 8989, 8988, 8987, 8986, 8985, 8984, 8983, 8982, 8981, 8980]\n"
     ]
    },
    {
     "name": "stderr",
     "output_type": "stream",
     "text": [
      "\r",
      "  4%|▍         | 435/9716 [30:56<11:00:12,  4.27s/it]"
     ]
    },
    {
     "name": "stdout",
     "output_type": "stream",
     "text": [
      "165767 20 7395 158372 [9016, 9015, 9014, 9013, 9012, 9011, 9010, 9009, 9008, 9007, 9006, 9005, 9004, 9003, 9002, 9001, 9000, 8999, 8998, 8997]\n"
     ]
    },
    {
     "name": "stderr",
     "output_type": "stream",
     "text": [
      "\r",
      "  4%|▍         | 436/9716 [30:59<10:59:37,  4.26s/it]"
     ]
    },
    {
     "name": "stdout",
     "output_type": "stream",
     "text": [
      "165767 20 7412 158355 [9033, 9032, 9031, 9030, 9029, 9028, 9027, 9026, 9025, 9024, 9023, 9022, 9021, 9020, 9019, 9018, 9017, 9016, 9015, 9014]\n"
     ]
    },
    {
     "name": "stderr",
     "output_type": "stream",
     "text": [
      "\r",
      "  4%|▍         | 437/9716 [31:02<10:58:59,  4.26s/it]"
     ]
    },
    {
     "name": "stdout",
     "output_type": "stream",
     "text": [
      "165767 20 7429 158338 [9050, 9049, 9048, 9047, 9046, 9045, 9044, 9043, 9042, 9041, 9040, 9039, 9038, 9037, 9036, 9035, 9034, 9033, 9032, 9031]\n"
     ]
    },
    {
     "name": "stderr",
     "output_type": "stream",
     "text": [
      "\r",
      "  5%|▍         | 438/9716 [31:05<10:58:33,  4.26s/it]"
     ]
    },
    {
     "name": "stdout",
     "output_type": "stream",
     "text": [
      "165768 20 7446 158321 [9067, 9066, 9065, 9064, 9063, 9062, 9061, 9060, 9059, 9058, 9057, 9056, 9055, 9054, 9053, 9052, 9051, 9050, 9049, 9048]\n"
     ]
    },
    {
     "name": "stderr",
     "output_type": "stream",
     "text": [
      "\r",
      "  5%|▍         | 439/9716 [31:08<10:58:04,  4.26s/it]"
     ]
    },
    {
     "name": "stdout",
     "output_type": "stream",
     "text": [
      "165772 20 7463 158305 [9088, 9087, 9086, 9085, 9084, 9083, 9082, 9081, 9080, 9079, 9078, 9077, 9076, 9075, 9074, 9073, 9072, 9071, 9070, 9069]\n"
     ]
    },
    {
     "name": "stderr",
     "output_type": "stream",
     "text": [
      "\r",
      "  5%|▍         | 440/9716 [31:11<10:57:34,  4.25s/it]"
     ]
    },
    {
     "name": "stdout",
     "output_type": "stream",
     "text": [
      "165772 20 7480 158292 [9101, 9100, 9099, 9098, 9097, 9096, 9095, 9094, 9093, 9092, 9091, 9090, 9089, 9088, 9087, 9086, 9085, 9084, 9083, 9082]\n"
     ]
    },
    {
     "name": "stderr",
     "output_type": "stream",
     "text": [
      "\r",
      "  5%|▍         | 441/9716 [31:14<10:57:07,  4.25s/it]"
     ]
    },
    {
     "name": "stdout",
     "output_type": "stream",
     "text": [
      "165772 20 7497 158275 [9118, 9117, 9116, 9115, 9114, 9113, 9112, 9111, 9110, 9109, 9108, 9107, 9106, 9105, 9104, 9103, 9102, 9101, 9100, 9099]\n"
     ]
    },
    {
     "name": "stderr",
     "output_type": "stream",
     "text": [
      "\r",
      "  5%|▍         | 442/9716 [31:17<10:56:41,  4.25s/it]"
     ]
    },
    {
     "name": "stdout",
     "output_type": "stream",
     "text": [
      "165772 20 7514 158258 [9135, 9134, 9133, 9132, 9131, 9130, 9129, 9128, 9127, 9126, 9125, 9124, 9123, 9122, 9121, 9120, 9119, 9118, 9117, 9116]\n"
     ]
    },
    {
     "name": "stderr",
     "output_type": "stream",
     "text": [
      "\r",
      "  5%|▍         | 443/9716 [31:20<10:56:12,  4.25s/it]"
     ]
    },
    {
     "name": "stdout",
     "output_type": "stream",
     "text": [
      "165772 20 7531 158241 [9152, 9151, 9150, 9149, 9148, 9147, 9146, 9145, 9144, 9143, 9142, 9141, 9140, 9139, 9138, 9137, 9136, 9135, 9134, 9133]\n"
     ]
    },
    {
     "name": "stderr",
     "output_type": "stream",
     "text": [
      "\r",
      "  5%|▍         | 444/9716 [31:23<10:55:38,  4.24s/it]"
     ]
    },
    {
     "name": "stdout",
     "output_type": "stream",
     "text": [
      "165772 20 7548 158224 [9169, 9168, 9167, 9166, 9165, 9164, 9163, 9162, 9161, 9160, 9159, 9158, 9157, 9156, 9155, 9154, 9153, 9152, 9151, 9150]\n"
     ]
    },
    {
     "name": "stderr",
     "output_type": "stream",
     "text": [
      "\r",
      "  5%|▍         | 445/9716 [31:27<10:55:18,  4.24s/it]"
     ]
    },
    {
     "name": "stdout",
     "output_type": "stream",
     "text": [
      "165786 20 7565 158207 [9186, 9185, 9184, 9183, 9182, 9181, 9180, 9179, 9178, 9177, 9176, 9175, 9174, 9173, 9172, 9171, 9170, 9169, 9168, 9167]\n"
     ]
    },
    {
     "name": "stderr",
     "output_type": "stream",
     "text": [
      "\r",
      "  5%|▍         | 446/9716 [31:30<10:54:56,  4.24s/it]"
     ]
    },
    {
     "name": "stdout",
     "output_type": "stream",
     "text": [
      "165790 20 7582 158204 [9207, 9206, 9205, 9204, 9203, 9202, 9201, 9200, 9199, 9198, 9197, 9196, 9195, 9194, 9193, 9192, 9191, 9190, 9189, 9188]\n"
     ]
    },
    {
     "name": "stderr",
     "output_type": "stream",
     "text": [
      "\r",
      "  5%|▍         | 447/9716 [31:33<10:54:27,  4.24s/it]"
     ]
    },
    {
     "name": "stdout",
     "output_type": "stream",
     "text": [
      "165790 20 7599 158191 [9220, 9219, 9218, 9217, 9216, 9215, 9214, 9213, 9212, 9211, 9210, 9209, 9208, 9207, 9206, 9205, 9204, 9203, 9202, 9201]\n"
     ]
    },
    {
     "name": "stderr",
     "output_type": "stream",
     "text": [
      "\r",
      "  5%|▍         | 448/9716 [31:36<10:53:53,  4.23s/it]"
     ]
    },
    {
     "name": "stdout",
     "output_type": "stream",
     "text": [
      "165790 20 7616 158174 [9237, 9236, 9235, 9234, 9233, 9232, 9231, 9230, 9229, 9228, 9227, 9226, 9225, 9224, 9223, 9222, 9221, 9220, 9219, 9218]\n"
     ]
    },
    {
     "name": "stderr",
     "output_type": "stream",
     "text": [
      "\r",
      "  5%|▍         | 449/9716 [31:39<10:53:27,  4.23s/it]"
     ]
    },
    {
     "name": "stdout",
     "output_type": "stream",
     "text": [
      "165790 20 7633 158157 [9254, 9253, 9252, 9251, 9250, 9249, 9248, 9247, 9246, 9245, 9244, 9243, 9242, 9241, 9240, 9239, 9238, 9237, 9236, 9235]\n"
     ]
    },
    {
     "name": "stderr",
     "output_type": "stream",
     "text": [
      "\r",
      "  5%|▍         | 450/9716 [31:42<10:52:57,  4.23s/it]"
     ]
    },
    {
     "name": "stdout",
     "output_type": "stream",
     "text": [
      "165790 20 7650 158140 [9271, 9270, 9269, 9268, 9267, 9266, 9265, 9264, 9263, 9262, 9261, 9260, 9259, 9258, 9257, 9256, 9255, 9254, 9253, 9252]\n"
     ]
    },
    {
     "name": "stderr",
     "output_type": "stream",
     "text": [
      "\r",
      "  5%|▍         | 451/9716 [31:45<10:52:27,  4.23s/it]"
     ]
    },
    {
     "name": "stdout",
     "output_type": "stream",
     "text": [
      "165790 20 7667 158123 [9288, 9287, 9286, 9285, 9284, 9283, 9282, 9281, 9280, 9279, 9278, 9277, 9276, 9275, 9274, 9273, 9272, 9271, 9270, 9269]\n"
     ]
    },
    {
     "name": "stderr",
     "output_type": "stream",
     "text": [
      "\r",
      "  5%|▍         | 452/9716 [31:48<10:52:00,  4.22s/it]"
     ]
    },
    {
     "name": "stdout",
     "output_type": "stream",
     "text": [
      "165793 20 7684 158106 [9305, 9304, 9303, 9302, 9301, 9300, 9299, 9298, 9297, 9296, 9295, 9294, 9293, 9292, 9291, 9290, 9289, 9288, 9287, 9286]\n"
     ]
    },
    {
     "name": "stderr",
     "output_type": "stream",
     "text": [
      "\r",
      "  5%|▍         | 453/9716 [31:51<10:51:30,  4.22s/it]"
     ]
    },
    {
     "name": "stdout",
     "output_type": "stream",
     "text": [
      "165807 20 7701 158092 [9328, 9327, 9326, 9325, 9324, 9323, 9322, 9321, 9320, 9319, 9318, 9317, 9316, 9315, 9314, 9313, 9312, 9311, 9310, 9309]\n"
     ]
    },
    {
     "name": "stderr",
     "output_type": "stream",
     "text": [
      "\r",
      "  5%|▍         | 454/9716 [31:54<10:50:59,  4.22s/it]"
     ]
    },
    {
     "name": "stdout",
     "output_type": "stream",
     "text": [
      "165807 20 7718 158089 [9339, 9338, 9337, 9336, 9335, 9334, 9333, 9332, 9331, 9330, 9329, 9328, 9327, 9326, 9325, 9324, 9323, 9322, 9321, 9320]\n"
     ]
    },
    {
     "name": "stderr",
     "output_type": "stream",
     "text": [
      "\r",
      "  5%|▍         | 455/9716 [31:57<10:50:29,  4.21s/it]"
     ]
    },
    {
     "name": "stdout",
     "output_type": "stream",
     "text": [
      "165813 20 7735 158072 [9356, 9355, 9354, 9353, 9352, 9351, 9350, 9349, 9348, 9347, 9346, 9345, 9344, 9343, 9342, 9341, 9340, 9339, 9338, 9337]\n"
     ]
    },
    {
     "name": "stderr",
     "output_type": "stream",
     "text": [
      "\r",
      "  5%|▍         | 456/9716 [32:00<10:49:59,  4.21s/it]"
     ]
    },
    {
     "name": "stdout",
     "output_type": "stream",
     "text": [
      "165813 20 7752 158061 [9373, 9372, 9371, 9370, 9369, 9368, 9367, 9366, 9365, 9364, 9363, 9362, 9361, 9360, 9359, 9358, 9357, 9356, 9355, 9354]\n"
     ]
    },
    {
     "name": "stderr",
     "output_type": "stream",
     "text": [
      "\r",
      "  5%|▍         | 457/9716 [32:03<10:49:31,  4.21s/it]"
     ]
    },
    {
     "name": "stdout",
     "output_type": "stream",
     "text": [
      "165818 20 7769 158044 [9390, 9389, 9388, 9387, 9386, 9385, 9384, 9383, 9382, 9381, 9380, 9379, 9378, 9377, 9376, 9375, 9374, 9373, 9372, 9371]\n"
     ]
    },
    {
     "name": "stderr",
     "output_type": "stream",
     "text": [
      "\r",
      "  5%|▍         | 458/9716 [32:06<10:49:03,  4.21s/it]"
     ]
    },
    {
     "name": "stdout",
     "output_type": "stream",
     "text": [
      "165818 20 7786 158032 [9407, 9406, 9405, 9404, 9403, 9402, 9401, 9400, 9399, 9398, 9397, 9396, 9395, 9394, 9393, 9392, 9391, 9390, 9389, 9388]\n"
     ]
    },
    {
     "name": "stderr",
     "output_type": "stream",
     "text": [
      "\r",
      "  5%|▍         | 459/9716 [32:09<10:48:28,  4.20s/it]"
     ]
    },
    {
     "name": "stdout",
     "output_type": "stream",
     "text": [
      "165818 20 7803 158015 [9424, 9423, 9422, 9421, 9420, 9419, 9418, 9417, 9416, 9415, 9414, 9413, 9412, 9411, 9410, 9409, 9408, 9407, 9406, 9405]\n"
     ]
    },
    {
     "name": "stderr",
     "output_type": "stream",
     "text": [
      "\r",
      "  5%|▍         | 460/9716 [32:12<10:47:58,  4.20s/it]"
     ]
    },
    {
     "name": "stdout",
     "output_type": "stream",
     "text": [
      "165818 20 7820 157998 [9441, 9440, 9439, 9438, 9437, 9436, 9435, 9434, 9433, 9432, 9431, 9430, 9429, 9428, 9427, 9426, 9425, 9424, 9423, 9422]\n"
     ]
    },
    {
     "name": "stderr",
     "output_type": "stream",
     "text": [
      "\r",
      "  5%|▍         | 461/9716 [32:15<10:47:36,  4.20s/it]"
     ]
    },
    {
     "name": "stdout",
     "output_type": "stream",
     "text": [
      "165818 20 7837 157981 [9458, 9457, 9456, 9455, 9454, 9453, 9452, 9451, 9450, 9449, 9448, 9447, 9446, 9445, 9444, 9443, 9442, 9441, 9440, 9439]\n"
     ]
    },
    {
     "name": "stderr",
     "output_type": "stream",
     "text": [
      "\r",
      "  5%|▍         | 462/9716 [32:18<10:47:06,  4.20s/it]"
     ]
    },
    {
     "name": "stdout",
     "output_type": "stream",
     "text": [
      "165822 20 7854 157964 [9475, 9474, 9473, 9472, 9471, 9470, 9469, 9468, 9467, 9466, 9465, 9464, 9463, 9462, 9461, 9460, 9459, 9458, 9457, 9456]\n"
     ]
    },
    {
     "name": "stderr",
     "output_type": "stream",
     "text": [
      "\r",
      "  5%|▍         | 463/9716 [32:21<10:46:39,  4.19s/it]"
     ]
    },
    {
     "name": "stdout",
     "output_type": "stream",
     "text": [
      "165822 20 7871 157951 [9492, 9491, 9490, 9489, 9488, 9487, 9486, 9485, 9484, 9483, 9482, 9481, 9480, 9479, 9478, 9477, 9476, 9475, 9474, 9473]\n"
     ]
    },
    {
     "name": "stderr",
     "output_type": "stream",
     "text": [
      "\r",
      "  5%|▍         | 464/9716 [32:24<10:46:14,  4.19s/it]"
     ]
    },
    {
     "name": "stdout",
     "output_type": "stream",
     "text": [
      "165822 20 7888 157934 [9509, 9508, 9507, 9506, 9505, 9504, 9503, 9502, 9501, 9500, 9499, 9498, 9497, 9496, 9495, 9494, 9493, 9492, 9491, 9490]\n"
     ]
    },
    {
     "name": "stderr",
     "output_type": "stream",
     "text": [
      "\r",
      "  5%|▍         | 465/9716 [32:27<10:45:46,  4.19s/it]"
     ]
    },
    {
     "name": "stdout",
     "output_type": "stream",
     "text": [
      "165822 20 7905 157917 [9526, 9525, 9524, 9523, 9522, 9521, 9520, 9519, 9518, 9517, 9516, 9515, 9514, 9513, 9512, 9511, 9510, 9509, 9508, 9507]\n"
     ]
    },
    {
     "name": "stderr",
     "output_type": "stream",
     "text": [
      "\r",
      "  5%|▍         | 466/9716 [32:31<10:45:27,  4.19s/it]"
     ]
    },
    {
     "name": "stdout",
     "output_type": "stream",
     "text": [
      "165823 20 7922 157900 [9543, 9542, 9541, 9540, 9539, 9538, 9537, 9536, 9535, 9534, 9533, 9532, 9531, 9530, 9529, 9528, 9527, 9526, 9525, 9524]\n"
     ]
    },
    {
     "name": "stderr",
     "output_type": "stream",
     "text": [
      "\r",
      "  5%|▍         | 467/9716 [32:34<10:45:02,  4.18s/it]"
     ]
    },
    {
     "name": "stdout",
     "output_type": "stream",
     "text": [
      "165827 20 7939 157884 [9564, 9563, 9562, 9561, 9560, 9559, 9558, 9557, 9556, 9555, 9554, 9553, 9552, 9551, 9550, 9549, 9548, 9547, 9546, 9545]\n"
     ]
    },
    {
     "name": "stderr",
     "output_type": "stream",
     "text": [
      "\r",
      "  5%|▍         | 468/9716 [32:37<10:44:34,  4.18s/it]"
     ]
    },
    {
     "name": "stdout",
     "output_type": "stream",
     "text": [
      "165827 20 7956 157871 [9577, 9576, 9575, 9574, 9573, 9572, 9571, 9570, 9569, 9568, 9567, 9566, 9565, 9564, 9563, 9562, 9561, 9560, 9559, 9558]\n"
     ]
    },
    {
     "name": "stderr",
     "output_type": "stream",
     "text": [
      "\r",
      "  5%|▍         | 469/9716 [32:39<10:44:01,  4.18s/it]"
     ]
    },
    {
     "name": "stdout",
     "output_type": "stream",
     "text": [
      "165827 20 7973 157854 [9594, 9593, 9592, 9591, 9590, 9589, 9588, 9587, 9586, 9585, 9584, 9583, 9582, 9581, 9580, 9579, 9578, 9577, 9576, 9575]\n"
     ]
    },
    {
     "name": "stderr",
     "output_type": "stream",
     "text": [
      "\r",
      "  5%|▍         | 470/9716 [32:43<10:43:36,  4.18s/it]"
     ]
    },
    {
     "name": "stdout",
     "output_type": "stream",
     "text": [
      "165827 20 7990 157837 [9611, 9610, 9609, 9608, 9607, 9606, 9605, 9604, 9603, 9602, 9601, 9600, 9599, 9598, 9597, 9596, 9595, 9594, 9593, 9592]\n"
     ]
    },
    {
     "name": "stderr",
     "output_type": "stream",
     "text": [
      "\r",
      "  5%|▍         | 471/9716 [32:46<10:43:16,  4.17s/it]"
     ]
    },
    {
     "name": "stdout",
     "output_type": "stream",
     "text": [
      "165827 20 8007 157820 [9628, 9627, 9626, 9625, 9624, 9623, 9622, 9621, 9620, 9619, 9618, 9617, 9616, 9615, 9614, 9613, 9612, 9611, 9610, 9609]\n"
     ]
    },
    {
     "name": "stderr",
     "output_type": "stream",
     "text": [
      "\r",
      "  5%|▍         | 472/9716 [32:49<10:42:53,  4.17s/it]"
     ]
    },
    {
     "name": "stdout",
     "output_type": "stream",
     "text": [
      "165827 20 8024 157803 [9645, 9644, 9643, 9642, 9641, 9640, 9639, 9638, 9637, 9636, 9635, 9634, 9633, 9632, 9631, 9630, 9629, 9628, 9627, 9626]\n"
     ]
    },
    {
     "name": "stderr",
     "output_type": "stream",
     "text": [
      "\r",
      "  5%|▍         | 473/9716 [32:52<10:42:25,  4.17s/it]"
     ]
    },
    {
     "name": "stdout",
     "output_type": "stream",
     "text": [
      "165827 20 8041 157786 [9662, 9661, 9660, 9659, 9658, 9657, 9656, 9655, 9654, 9653, 9652, 9651, 9650, 9649, 9648, 9647, 9646, 9645, 9644, 9643]\n"
     ]
    },
    {
     "name": "stderr",
     "output_type": "stream",
     "text": [
      "\r",
      "  5%|▍         | 474/9716 [32:55<10:41:55,  4.17s/it]"
     ]
    },
    {
     "name": "stdout",
     "output_type": "stream",
     "text": [
      "165827 20 8058 157769 [9679, 9678, 9677, 9676, 9675, 9674, 9673, 9672, 9671, 9670, 9669, 9668, 9667, 9666, 9665, 9664, 9663, 9662, 9661, 9660]\n"
     ]
    },
    {
     "name": "stderr",
     "output_type": "stream",
     "text": [
      "\r",
      "  5%|▍         | 475/9716 [32:58<10:41:26,  4.16s/it]"
     ]
    },
    {
     "name": "stdout",
     "output_type": "stream",
     "text": [
      "165827 20 8075 157752 [9696, 9695, 9694, 9693, 9692, 9691, 9690, 9689, 9688, 9687, 9686, 9685, 9684, 9683, 9682, 9681, 9680, 9679, 9678, 9677]\n"
     ]
    },
    {
     "name": "stderr",
     "output_type": "stream",
     "text": [
      "\r",
      "  5%|▍         | 476/9716 [33:01<10:41:05,  4.16s/it]"
     ]
    },
    {
     "name": "stdout",
     "output_type": "stream",
     "text": [
      "165836 20 8092 157735 [9713, 9712, 9711, 9710, 9709, 9708, 9707, 9706, 9705, 9704, 9703, 9702, 9701, 9700, 9699, 9698, 9697, 9696, 9695, 9694]\n"
     ]
    },
    {
     "name": "stderr",
     "output_type": "stream",
     "text": [
      "\r",
      "  5%|▍         | 477/9716 [33:05<10:40:55,  4.16s/it]"
     ]
    },
    {
     "name": "stdout",
     "output_type": "stream",
     "text": [
      "165842 20 8109 157727 [9730, 9729, 9728, 9727, 9726, 9725, 9724, 9723, 9722, 9721, 9720, 9719, 9718, 9717, 9716, 9715, 9714, 9713, 9712, 9711]\n"
     ]
    },
    {
     "name": "stderr",
     "output_type": "stream",
     "text": [
      "\r",
      "  5%|▍         | 478/9716 [33:08<10:40:33,  4.16s/it]"
     ]
    },
    {
     "name": "stdout",
     "output_type": "stream",
     "text": [
      "165860 20 8126 157716 [9747, 9746, 9745, 9744, 9743, 9742, 9741, 9740, 9739, 9738, 9737, 9736, 9735, 9734, 9733, 9732, 9731, 9730, 9729, 9728]\n"
     ]
    },
    {
     "name": "stderr",
     "output_type": "stream",
     "text": [
      "\r",
      "  5%|▍         | 479/9716 [33:12<10:40:16,  4.16s/it]"
     ]
    },
    {
     "name": "stdout",
     "output_type": "stream",
     "text": [
      "165866 20 8143 157717 [9770, 9769, 9768, 9767, 9766, 9765, 9764, 9763, 9762, 9761, 9760, 9759, 9758, 9757, 9756, 9755, 9754, 9753, 9752, 9751]\n"
     ]
    },
    {
     "name": "stderr",
     "output_type": "stream",
     "text": [
      "\r",
      "  5%|▍         | 480/9716 [33:14<10:39:46,  4.16s/it]"
     ]
    },
    {
     "name": "stdout",
     "output_type": "stream",
     "text": [
      "165866 20 8160 157706 [9781, 9780, 9779, 9778, 9777, 9776, 9775, 9774, 9773, 9772, 9771, 9770, 9769, 9768, 9767, 9766, 9765, 9764, 9763, 9762]\n"
     ]
    },
    {
     "name": "stderr",
     "output_type": "stream",
     "text": [
      "\r",
      "  5%|▍         | 481/9716 [33:18<10:39:30,  4.15s/it]"
     ]
    },
    {
     "name": "stdout",
     "output_type": "stream",
     "text": [
      "165866 20 8177 157689 [9798, 9797, 9796, 9795, 9794, 9793, 9792, 9791, 9790, 9789, 9788, 9787, 9786, 9785, 9784, 9783, 9782, 9781, 9780, 9779]\n"
     ]
    },
    {
     "name": "stderr",
     "output_type": "stream",
     "text": [
      "\r",
      "  5%|▍         | 482/9716 [33:22<10:39:14,  4.15s/it]"
     ]
    },
    {
     "name": "stdout",
     "output_type": "stream",
     "text": [
      "165866 20 8194 157672 [9815, 9814, 9813, 9812, 9811, 9810, 9809, 9808, 9807, 9806, 9805, 9804, 9803, 9802, 9801, 9800, 9799, 9798, 9797, 9796]\n"
     ]
    },
    {
     "name": "stderr",
     "output_type": "stream",
     "text": [
      "\r",
      "  5%|▍         | 483/9716 [33:25<10:38:55,  4.15s/it]"
     ]
    },
    {
     "name": "stdout",
     "output_type": "stream",
     "text": [
      "165866 20 8211 157655 [9832, 9831, 9830, 9829, 9828, 9827, 9826, 9825, 9824, 9823, 9822, 9821, 9820, 9819, 9818, 9817, 9816, 9815, 9814, 9813]\n"
     ]
    },
    {
     "name": "stderr",
     "output_type": "stream",
     "text": [
      "\r",
      "  5%|▍         | 484/9716 [33:29<10:38:42,  4.15s/it]"
     ]
    },
    {
     "name": "stdout",
     "output_type": "stream",
     "text": [
      "165866 20 8228 157638 [9849, 9848, 9847, 9846, 9845, 9844, 9843, 9842, 9841, 9840, 9839, 9838, 9837, 9836, 9835, 9834, 9833, 9832, 9831, 9830]\n"
     ]
    },
    {
     "name": "stderr",
     "output_type": "stream",
     "text": [
      "\r",
      "  5%|▍         | 485/9716 [33:32<10:38:24,  4.15s/it]"
     ]
    },
    {
     "name": "stdout",
     "output_type": "stream",
     "text": [
      "165866 20 8245 157621 [9866, 9865, 9864, 9863, 9862, 9861, 9860, 9859, 9858, 9857, 9856, 9855, 9854, 9853, 9852, 9851, 9850, 9849, 9848, 9847]\n"
     ]
    },
    {
     "name": "stderr",
     "output_type": "stream",
     "text": [
      "\r",
      "  5%|▌         | 486/9716 [33:35<10:38:04,  4.15s/it]"
     ]
    },
    {
     "name": "stdout",
     "output_type": "stream",
     "text": [
      "165866 20 8262 157604 [9883, 9882, 9881, 9880, 9879, 9878, 9877, 9876, 9875, 9874, 9873, 9872, 9871, 9870, 9869, 9868, 9867, 9866, 9865, 9864]\n"
     ]
    },
    {
     "name": "stderr",
     "output_type": "stream",
     "text": [
      "\r",
      "  5%|▌         | 487/9716 [33:38<10:37:40,  4.15s/it]"
     ]
    },
    {
     "name": "stdout",
     "output_type": "stream",
     "text": [
      "165866 20 8279 157587 [9900, 9899, 9898, 9897, 9896, 9895, 9894, 9893, 9892, 9891, 9890, 9889, 9888, 9887, 9886, 9885, 9884, 9883, 9882, 9881]\n"
     ]
    },
    {
     "name": "stderr",
     "output_type": "stream",
     "text": [
      "\r",
      "  5%|▌         | 488/9716 [33:42<10:37:20,  4.14s/it]"
     ]
    },
    {
     "name": "stdout",
     "output_type": "stream",
     "text": [
      "165871 20 8296 157570 [9917, 9916, 9915, 9914, 9913, 9912, 9911, 9910, 9909, 9908, 9907, 9906, 9905, 9904, 9903, 9902, 9901, 9900, 9899, 9898]\n"
     ]
    },
    {
     "name": "stderr",
     "output_type": "stream",
     "text": [
      "\r",
      "  5%|▌         | 489/9716 [33:46<10:37:14,  4.14s/it]"
     ]
    },
    {
     "name": "stdout",
     "output_type": "stream",
     "text": [
      "165874 20 8313 157558 [9937, 9936, 9935, 9934, 9933, 9932, 9931, 9930, 9929, 9928, 9927, 9926, 9925, 9924, 9923, 9922, 9921, 9920, 9919, 9918]\n"
     ]
    },
    {
     "name": "stderr",
     "output_type": "stream",
     "text": [
      "\r",
      "  5%|▌         | 490/9716 [33:49<10:36:55,  4.14s/it]"
     ]
    },
    {
     "name": "stdout",
     "output_type": "stream",
     "text": [
      "165874 20 8330 157544 [9951, 9950, 9949, 9948, 9947, 9946, 9945, 9944, 9943, 9942, 9941, 9940, 9939, 9938, 9937, 9936, 9935, 9934, 9933, 9932]\n"
     ]
    },
    {
     "name": "stderr",
     "output_type": "stream",
     "text": [
      "\r",
      "  5%|▌         | 491/9716 [33:53<10:36:37,  4.14s/it]"
     ]
    },
    {
     "name": "stdout",
     "output_type": "stream",
     "text": [
      "165874 20 8347 157527 [9968, 9967, 9966, 9965, 9964, 9963, 9962, 9961, 9960, 9959, 9958, 9957, 9956, 9955, 9954, 9953, 9952, 9951, 9950, 9949]\n"
     ]
    },
    {
     "name": "stderr",
     "output_type": "stream",
     "text": [
      "\r",
      "  5%|▌         | 492/9716 [33:56<10:36:23,  4.14s/it]"
     ]
    },
    {
     "name": "stdout",
     "output_type": "stream",
     "text": [
      "165874 20 8364 157510 [9985, 9984, 9983, 9982, 9981, 9980, 9979, 9978, 9977, 9976, 9975, 9974, 9973, 9972, 9971, 9970, 9969, 9968, 9967, 9966]\n"
     ]
    },
    {
     "name": "stderr",
     "output_type": "stream",
     "text": [
      "\r",
      "  5%|▌         | 493/9716 [34:00<10:36:05,  4.14s/it]"
     ]
    },
    {
     "name": "stdout",
     "output_type": "stream",
     "text": [
      "165874 20 8381 157493 [10002, 10001, 10000, 9999, 9998, 9997, 9996, 9995, 9994, 9993, 9992, 9991, 9990, 9989, 9988, 9987, 9986, 9985, 9984, 9983]\n"
     ]
    },
    {
     "name": "stderr",
     "output_type": "stream",
     "text": [
      "\r",
      "  5%|▌         | 494/9716 [34:03<10:35:54,  4.14s/it]"
     ]
    },
    {
     "name": "stdout",
     "output_type": "stream",
     "text": [
      "165874 20 8398 157476 [10019, 10018, 10017, 10016, 10015, 10014, 10013, 10012, 10011, 10010, 10009, 10008, 10007, 10006, 10005, 10004, 10003, 10002, 10001, 10000]\n"
     ]
    },
    {
     "name": "stderr",
     "output_type": "stream",
     "text": [
      "\r",
      "  5%|▌         | 495/9716 [34:07<10:35:36,  4.14s/it]"
     ]
    },
    {
     "name": "stdout",
     "output_type": "stream",
     "text": [
      "165874 20 8415 157459 [10036, 10035, 10034, 10033, 10032, 10031, 10030, 10029, 10028, 10027, 10026, 10025, 10024, 10023, 10022, 10021, 10020, 10019, 10018, 10017]\n"
     ]
    },
    {
     "name": "stderr",
     "output_type": "stream",
     "text": [
      "\r",
      "  5%|▌         | 496/9716 [34:10<10:35:22,  4.13s/it]"
     ]
    },
    {
     "name": "stdout",
     "output_type": "stream",
     "text": [
      "165874 20 8432 157442 [10053, 10052, 10051, 10050, 10049, 10048, 10047, 10046, 10045, 10044, 10043, 10042, 10041, 10040, 10039, 10038, 10037, 10036, 10035, 10034]\n"
     ]
    },
    {
     "name": "stderr",
     "output_type": "stream",
     "text": [
      "\r",
      "  5%|▌         | 497/9716 [34:14<10:35:06,  4.13s/it]"
     ]
    },
    {
     "name": "stdout",
     "output_type": "stream",
     "text": [
      "165874 20 8449 157425 [10070, 10069, 10068, 10067, 10066, 10065, 10064, 10063, 10062, 10061, 10060, 10059, 10058, 10057, 10056, 10055, 10054, 10053, 10052, 10051]\n"
     ]
    },
    {
     "name": "stderr",
     "output_type": "stream",
     "text": [
      "\r",
      "  5%|▌         | 498/9716 [34:17<10:34:48,  4.13s/it]"
     ]
    },
    {
     "name": "stdout",
     "output_type": "stream",
     "text": [
      "165874 20 8466 157408 [10087, 10086, 10085, 10084, 10083, 10082, 10081, 10080, 10079, 10078, 10077, 10076, 10075, 10074, 10073, 10072, 10071, 10070, 10069, 10068]\n"
     ]
    },
    {
     "name": "stderr",
     "output_type": "stream",
     "text": [
      "\r",
      "  5%|▌         | 499/9716 [34:21<10:34:29,  4.13s/it]"
     ]
    },
    {
     "name": "stdout",
     "output_type": "stream",
     "text": [
      "165874 20 8483 157391 [10104, 10103, 10102, 10101, 10100, 10099, 10098, 10097, 10096, 10095, 10094, 10093, 10092, 10091, 10090, 10089, 10088, 10087, 10086, 10085]\n"
     ]
    },
    {
     "name": "stderr",
     "output_type": "stream",
     "text": [
      "\r",
      "  5%|▌         | 500/9716 [34:24<10:34:17,  4.13s/it]"
     ]
    },
    {
     "name": "stdout",
     "output_type": "stream",
     "text": [
      "165874 20 8500 157374 [10121, 10120, 10119, 10118, 10117, 10116, 10115, 10114, 10113, 10112, 10111, 10110, 10109, 10108, 10107, 10106, 10105, 10104, 10103, 10102]\n"
     ]
    },
    {
     "name": "stderr",
     "output_type": "stream",
     "text": [
      "\r",
      "  5%|▌         | 501/9716 [34:28<10:34:06,  4.13s/it]"
     ]
    },
    {
     "name": "stdout",
     "output_type": "stream",
     "text": [
      "165878 20 8517 157357 [10138, 10137, 10136, 10135, 10134, 10133, 10132, 10131, 10130, 10129, 10128, 10127, 10126, 10125, 10124, 10123, 10122, 10121, 10120, 10119]\n"
     ]
    },
    {
     "name": "stderr",
     "output_type": "stream",
     "text": [
      "\r",
      "  5%|▌         | 502/9716 [34:31<10:33:50,  4.13s/it]"
     ]
    },
    {
     "name": "stdout",
     "output_type": "stream",
     "text": [
      "165878 20 8534 157344 [10155, 10154, 10153, 10152, 10151, 10150, 10149, 10148, 10147, 10146, 10145, 10144, 10143, 10142, 10141, 10140, 10139, 10138, 10137, 10136]\n"
     ]
    },
    {
     "name": "stderr",
     "output_type": "stream",
     "text": [
      "\r",
      "  5%|▌         | 503/9716 [34:35<10:33:42,  4.13s/it]"
     ]
    },
    {
     "name": "stdout",
     "output_type": "stream",
     "text": [
      "165884 20 8551 157327 [10172, 10171, 10170, 10169, 10168, 10167, 10166, 10165, 10164, 10163, 10162, 10161, 10160, 10159, 10158, 10157, 10156, 10155, 10154, 10153]\n"
     ]
    },
    {
     "name": "stderr",
     "output_type": "stream",
     "text": [
      "\r",
      "  5%|▌         | 504/9716 [34:40<10:33:42,  4.13s/it]"
     ]
    },
    {
     "name": "stdout",
     "output_type": "stream",
     "text": [
      "165884 20 8568 157316 [10189, 10188, 10187, 10186, 10185, 10184, 10183, 10182, 10181, 10180, 10179, 10178, 10177, 10176, 10175, 10174, 10173, 10172, 10171, 10170]\n"
     ]
    },
    {
     "name": "stderr",
     "output_type": "stream",
     "text": [
      "\r",
      "  5%|▌         | 505/9716 [34:44<10:33:32,  4.13s/it]"
     ]
    },
    {
     "name": "stdout",
     "output_type": "stream",
     "text": [
      "165884 20 8585 157299 [10206, 10205, 10204, 10203, 10202, 10201, 10200, 10199, 10198, 10197, 10196, 10195, 10194, 10193, 10192, 10191, 10190, 10189, 10188, 10187]\n"
     ]
    },
    {
     "name": "stderr",
     "output_type": "stream",
     "text": [
      "\r",
      "  5%|▌         | 506/9716 [34:47<10:33:09,  4.12s/it]"
     ]
    },
    {
     "name": "stdout",
     "output_type": "stream",
     "text": [
      "165884 20 8602 157282 [10223, 10222, 10221, 10220, 10219, 10218, 10217, 10216, 10215, 10214, 10213, 10212, 10211, 10210, 10209, 10208, 10207, 10206, 10205, 10204]\n"
     ]
    },
    {
     "name": "stderr",
     "output_type": "stream",
     "text": [
      "\r",
      "  5%|▌         | 507/9716 [34:50<10:32:47,  4.12s/it]"
     ]
    },
    {
     "name": "stdout",
     "output_type": "stream",
     "text": [
      "165884 20 8619 157265 [10240, 10239, 10238, 10237, 10236, 10235, 10234, 10233, 10232, 10231, 10230, 10229, 10228, 10227, 10226, 10225, 10224, 10223, 10222, 10221]\n"
     ]
    },
    {
     "name": "stderr",
     "output_type": "stream",
     "text": [
      "\r",
      "  5%|▌         | 508/9716 [34:53<10:32:25,  4.12s/it]"
     ]
    },
    {
     "name": "stdout",
     "output_type": "stream",
     "text": [
      "165884 20 8636 157248 [10257, 10256, 10255, 10254, 10253, 10252, 10251, 10250, 10249, 10248, 10247, 10246, 10245, 10244, 10243, 10242, 10241, 10240, 10239, 10238]\n"
     ]
    },
    {
     "name": "stderr",
     "output_type": "stream",
     "text": [
      "\r",
      "  5%|▌         | 509/9716 [34:57<10:32:11,  4.12s/it]"
     ]
    },
    {
     "name": "stdout",
     "output_type": "stream",
     "text": [
      "165884 20 8653 157231 [10274, 10273, 10272, 10271, 10270, 10269, 10268, 10267, 10266, 10265, 10264, 10263, 10262, 10261, 10260, 10259, 10258, 10257, 10256, 10255]\n"
     ]
    },
    {
     "name": "stderr",
     "output_type": "stream",
     "text": [
      "\r",
      "  5%|▌         | 510/9716 [35:00<10:31:51,  4.12s/it]"
     ]
    },
    {
     "name": "stdout",
     "output_type": "stream",
     "text": [
      "165884 20 8670 157214 [10291, 10290, 10289, 10288, 10287, 10286, 10285, 10284, 10283, 10282, 10281, 10280, 10279, 10278, 10277, 10276, 10275, 10274, 10273, 10272]\n"
     ]
    },
    {
     "name": "stderr",
     "output_type": "stream",
     "text": [
      "\r",
      "  5%|▌         | 511/9716 [35:03<10:31:27,  4.12s/it]"
     ]
    },
    {
     "name": "stdout",
     "output_type": "stream",
     "text": [
      "165887 20 8687 157197 [10308, 10307, 10306, 10305, 10304, 10303, 10302, 10301, 10300, 10299, 10298, 10297, 10296, 10295, 10294, 10293, 10292, 10291, 10290, 10289]\n"
     ]
    },
    {
     "name": "stderr",
     "output_type": "stream",
     "text": [
      "\r",
      "  5%|▌         | 512/9716 [35:06<10:31:05,  4.11s/it]"
     ]
    },
    {
     "name": "stdout",
     "output_type": "stream",
     "text": [
      "165887 20 8704 157183 [10325, 10324, 10323, 10322, 10321, 10320, 10319, 10318, 10317, 10316, 10315, 10314, 10313, 10312, 10311, 10310, 10309, 10308, 10307, 10306]\n"
     ]
    },
    {
     "name": "stderr",
     "output_type": "stream",
     "text": [
      "\r",
      "  5%|▌         | 513/9716 [35:09<10:30:45,  4.11s/it]"
     ]
    },
    {
     "name": "stdout",
     "output_type": "stream",
     "text": [
      "165888 20 8721 157166 [10342, 10341, 10340, 10339, 10338, 10337, 10336, 10335, 10334, 10333, 10332, 10331, 10330, 10329, 10328, 10327, 10326, 10325, 10324, 10323]\n"
     ]
    },
    {
     "name": "stderr",
     "output_type": "stream",
     "text": [
      "\r",
      "  5%|▌         | 514/9716 [35:12<10:30:26,  4.11s/it]"
     ]
    },
    {
     "name": "stdout",
     "output_type": "stream",
     "text": [
      "165898 20 8738 157150 [10369, 10368, 10367, 10366, 10365, 10364, 10363, 10362, 10361, 10360, 10359, 10358, 10357, 10356, 10355, 10354, 10353, 10352, 10351, 10350]\n"
     ]
    },
    {
     "name": "stderr",
     "output_type": "stream",
     "text": [
      "\r",
      "  5%|▌         | 515/9716 [35:16<10:30:08,  4.11s/it]"
     ]
    },
    {
     "name": "stdout",
     "output_type": "stream",
     "text": [
      "165898 20 8755 157143 [10376, 10375, 10374, 10373, 10372, 10371, 10370, 10369, 10368, 10367, 10366, 10365, 10364, 10363, 10362, 10361, 10360, 10359, 10358, 10357]\n"
     ]
    },
    {
     "name": "stderr",
     "output_type": "stream",
     "text": [
      "\r",
      "  5%|▌         | 516/9716 [35:19<10:29:50,  4.11s/it]"
     ]
    },
    {
     "name": "stdout",
     "output_type": "stream",
     "text": [
      "165903 20 8772 157126 [10393, 10392, 10391, 10390, 10389, 10388, 10387, 10386, 10385, 10384, 10383, 10382, 10381, 10380, 10379, 10378, 10377, 10376, 10375, 10374]\n"
     ]
    },
    {
     "name": "stderr",
     "output_type": "stream",
     "text": [
      "\r",
      "  5%|▌         | 517/9716 [35:22<10:29:31,  4.11s/it]"
     ]
    },
    {
     "name": "stdout",
     "output_type": "stream",
     "text": [
      "165903 20 8789 157114 [10410, 10409, 10408, 10407, 10406, 10405, 10404, 10403, 10402, 10401, 10400, 10399, 10398, 10397, 10396, 10395, 10394, 10393, 10392, 10391]\n"
     ]
    },
    {
     "name": "stderr",
     "output_type": "stream",
     "text": [
      "\r",
      "  5%|▌         | 518/9716 [35:26<10:29:11,  4.10s/it]"
     ]
    },
    {
     "name": "stdout",
     "output_type": "stream",
     "text": [
      "165903 20 8806 157097 [10427, 10426, 10425, 10424, 10423, 10422, 10421, 10420, 10419, 10418, 10417, 10416, 10415, 10414, 10413, 10412, 10411, 10410, 10409, 10408]\n"
     ]
    },
    {
     "name": "stderr",
     "output_type": "stream",
     "text": [
      "\r",
      "  5%|▌         | 519/9716 [35:30<10:29:10,  4.10s/it]"
     ]
    },
    {
     "name": "stdout",
     "output_type": "stream",
     "text": [
      "165908 20 8823 157080 [10444, 10443, 10442, 10441, 10440, 10439, 10438, 10437, 10436, 10435, 10434, 10433, 10432, 10431, 10430, 10429, 10428, 10427, 10426, 10425]\n"
     ]
    },
    {
     "name": "stderr",
     "output_type": "stream",
     "text": [
      "\r",
      "  5%|▌         | 520/9716 [35:33<10:28:53,  4.10s/it]"
     ]
    },
    {
     "name": "stdout",
     "output_type": "stream",
     "text": [
      "165908 20 8840 157068 [10461, 10460, 10459, 10458, 10457, 10456, 10455, 10454, 10453, 10452, 10451, 10450, 10449, 10448, 10447, 10446, 10445, 10444, 10443, 10442]\n"
     ]
    },
    {
     "name": "stderr",
     "output_type": "stream",
     "text": [
      "\r",
      "  5%|▌         | 521/9716 [35:36<10:28:34,  4.10s/it]"
     ]
    },
    {
     "name": "stdout",
     "output_type": "stream",
     "text": [
      "165915 20 8857 157051 [10478, 10477, 10476, 10475, 10474, 10473, 10472, 10471, 10470, 10469, 10468, 10467, 10466, 10465, 10464, 10463, 10462, 10461, 10460, 10459]\n"
     ]
    },
    {
     "name": "stderr",
     "output_type": "stream",
     "text": [
      "\r",
      "  5%|▌         | 522/9716 [35:40<10:28:14,  4.10s/it]"
     ]
    },
    {
     "name": "stdout",
     "output_type": "stream",
     "text": [
      "165915 20 8874 157041 [10495, 10494, 10493, 10492, 10491, 10490, 10489, 10488, 10487, 10486, 10485, 10484, 10483, 10482, 10481, 10480, 10479, 10478, 10477, 10476]\n"
     ]
    },
    {
     "name": "stderr",
     "output_type": "stream",
     "text": [
      "\r",
      "  5%|▌         | 523/9716 [35:43<10:27:56,  4.10s/it]"
     ]
    },
    {
     "name": "stdout",
     "output_type": "stream",
     "text": [
      "165915 20 8891 157024 [10512, 10511, 10510, 10509, 10508, 10507, 10506, 10505, 10504, 10503, 10502, 10501, 10500, 10499, 10498, 10497, 10496, 10495, 10494, 10493]\n"
     ]
    },
    {
     "name": "stderr",
     "output_type": "stream",
     "text": [
      "\r",
      "  5%|▌         | 524/9716 [35:46<10:27:37,  4.10s/it]"
     ]
    },
    {
     "name": "stdout",
     "output_type": "stream",
     "text": [
      "165920 20 8908 157007 [10529, 10528, 10527, 10526, 10525, 10524, 10523, 10522, 10521, 10520, 10519, 10518, 10517, 10516, 10515, 10514, 10513, 10512, 10511, 10510]\n"
     ]
    },
    {
     "name": "stderr",
     "output_type": "stream",
     "text": [
      "\r",
      "  5%|▌         | 525/9716 [35:49<10:27:18,  4.10s/it]"
     ]
    },
    {
     "name": "stdout",
     "output_type": "stream",
     "text": [
      "165920 20 8925 156995 [10546, 10545, 10544, 10543, 10542, 10541, 10540, 10539, 10538, 10537, 10536, 10535, 10534, 10533, 10532, 10531, 10530, 10529, 10528, 10527]\n"
     ]
    },
    {
     "name": "stderr",
     "output_type": "stream",
     "text": [
      "\r",
      "  5%|▌         | 526/9716 [35:53<10:26:59,  4.09s/it]"
     ]
    },
    {
     "name": "stdout",
     "output_type": "stream",
     "text": [
      "165920 20 8942 156978 [10563, 10562, 10561, 10560, 10559, 10558, 10557, 10556, 10555, 10554, 10553, 10552, 10551, 10550, 10549, 10548, 10547, 10546, 10545, 10544]\n"
     ]
    },
    {
     "name": "stderr",
     "output_type": "stream",
     "text": [
      "\r",
      "  5%|▌         | 527/9716 [35:56<10:26:37,  4.09s/it]"
     ]
    },
    {
     "name": "stdout",
     "output_type": "stream",
     "text": [
      "165920 20 8959 156961 [10580, 10579, 10578, 10577, 10576, 10575, 10574, 10573, 10572, 10571, 10570, 10569, 10568, 10567, 10566, 10565, 10564, 10563, 10562, 10561]\n"
     ]
    },
    {
     "name": "stderr",
     "output_type": "stream",
     "text": [
      "\r",
      "  5%|▌         | 528/9716 [35:59<10:26:19,  4.09s/it]"
     ]
    },
    {
     "name": "stdout",
     "output_type": "stream",
     "text": [
      "165920 20 8976 156944 [10597, 10596, 10595, 10594, 10593, 10592, 10591, 10590, 10589, 10588, 10587, 10586, 10585, 10584, 10583, 10582, 10581, 10580, 10579, 10578]\n"
     ]
    },
    {
     "name": "stderr",
     "output_type": "stream",
     "text": [
      "\r",
      "  5%|▌         | 529/9716 [36:02<10:25:56,  4.09s/it]"
     ]
    },
    {
     "name": "stdout",
     "output_type": "stream",
     "text": [
      "165920 20 8993 156927 [10614, 10613, 10612, 10611, 10610, 10609, 10608, 10607, 10606, 10605, 10604, 10603, 10602, 10601, 10600, 10599, 10598, 10597, 10596, 10595]\n"
     ]
    },
    {
     "name": "stderr",
     "output_type": "stream",
     "text": [
      "\r",
      "  5%|▌         | 530/9716 [36:05<10:25:34,  4.09s/it]"
     ]
    },
    {
     "name": "stdout",
     "output_type": "stream",
     "text": [
      "165920 20 9010 156910 [10631, 10630, 10629, 10628, 10627, 10626, 10625, 10624, 10623, 10622, 10621, 10620, 10619, 10618, 10617, 10616, 10615, 10614, 10613, 10612]\n"
     ]
    },
    {
     "name": "stderr",
     "output_type": "stream",
     "text": [
      "\r",
      "  5%|▌         | 531/9716 [36:09<10:25:20,  4.08s/it]"
     ]
    },
    {
     "name": "stdout",
     "output_type": "stream",
     "text": [
      "165920 20 9027 156893 [10648, 10647, 10646, 10645, 10644, 10643, 10642, 10641, 10640, 10639, 10638, 10637, 10636, 10635, 10634, 10633, 10632, 10631, 10630, 10629]\n"
     ]
    },
    {
     "name": "stderr",
     "output_type": "stream",
     "text": [
      "\r",
      "  5%|▌         | 532/9716 [36:12<10:25:08,  4.08s/it]"
     ]
    },
    {
     "name": "stdout",
     "output_type": "stream",
     "text": [
      "165920 20 9044 156876 [10665, 10664, 10663, 10662, 10661, 10660, 10659, 10658, 10657, 10656, 10655, 10654, 10653, 10652, 10651, 10650, 10649, 10648, 10647, 10646]\n"
     ]
    },
    {
     "name": "stderr",
     "output_type": "stream",
     "text": [
      "\r",
      "  5%|▌         | 533/9716 [36:16<10:24:51,  4.08s/it]"
     ]
    },
    {
     "name": "stdout",
     "output_type": "stream",
     "text": [
      "165920 20 9061 156859 [10682, 10681, 10680, 10679, 10678, 10677, 10676, 10675, 10674, 10673, 10672, 10671, 10670, 10669, 10668, 10667, 10666, 10665, 10664, 10663]\n"
     ]
    },
    {
     "name": "stderr",
     "output_type": "stream",
     "text": [
      "\r",
      "  5%|▌         | 534/9716 [36:19<10:24:32,  4.08s/it]"
     ]
    },
    {
     "name": "stdout",
     "output_type": "stream",
     "text": [
      "165920 20 9078 156842 [10699, 10698, 10697, 10696, 10695, 10694, 10693, 10692, 10691, 10690, 10689, 10688, 10687, 10686, 10685, 10684, 10683, 10682, 10681, 10680]\n"
     ]
    },
    {
     "name": "stderr",
     "output_type": "stream",
     "text": [
      "\r",
      "  6%|▌         | 535/9716 [36:22<10:24:18,  4.08s/it]"
     ]
    },
    {
     "name": "stdout",
     "output_type": "stream",
     "text": [
      "165920 20 9095 156825 [10716, 10715, 10714, 10713, 10712, 10711, 10710, 10709, 10708, 10707, 10706, 10705, 10704, 10703, 10702, 10701, 10700, 10699, 10698, 10697]\n"
     ]
    },
    {
     "name": "stderr",
     "output_type": "stream",
     "text": [
      "\r",
      "  6%|▌         | 536/9716 [36:26<10:24:08,  4.08s/it]"
     ]
    },
    {
     "name": "stdout",
     "output_type": "stream",
     "text": [
      "165925 20 9112 156808 [10733, 10732, 10731, 10730, 10729, 10728, 10727, 10726, 10725, 10724, 10723, 10722, 10721, 10720, 10719, 10718, 10717, 10716, 10715, 10714]\n"
     ]
    },
    {
     "name": "stderr",
     "output_type": "stream",
     "text": [
      "\r",
      "  6%|▌         | 537/9716 [36:29<10:23:50,  4.08s/it]"
     ]
    },
    {
     "name": "stdout",
     "output_type": "stream",
     "text": [
      "165930 20 9129 156796 [10750, 10749, 10748, 10747, 10746, 10745, 10744, 10743, 10742, 10741, 10740, 10739, 10738, 10737, 10736, 10735, 10734, 10733, 10732, 10731]\n"
     ]
    },
    {
     "name": "stderr",
     "output_type": "stream",
     "text": [
      "\r",
      "  6%|▌         | 538/9716 [36:33<10:23:36,  4.08s/it]"
     ]
    },
    {
     "name": "stdout",
     "output_type": "stream",
     "text": [
      "165930 20 9146 156784 [10767, 10766, 10765, 10764, 10763, 10762, 10761, 10760, 10759, 10758, 10757, 10756, 10755, 10754, 10753, 10752, 10751, 10750, 10749, 10748]\n"
     ]
    },
    {
     "name": "stderr",
     "output_type": "stream",
     "text": [
      "\r",
      "  6%|▌         | 539/9716 [36:36<10:23:19,  4.08s/it]"
     ]
    },
    {
     "name": "stdout",
     "output_type": "stream",
     "text": [
      "165930 20 9163 156767 [10784, 10783, 10782, 10781, 10780, 10779, 10778, 10777, 10776, 10775, 10774, 10773, 10772, 10771, 10770, 10769, 10768, 10767, 10766, 10765]\n"
     ]
    },
    {
     "name": "stderr",
     "output_type": "stream",
     "text": [
      "\r",
      "  6%|▌         | 540/9716 [36:39<10:23:00,  4.07s/it]"
     ]
    },
    {
     "name": "stdout",
     "output_type": "stream",
     "text": [
      "165930 20 9180 156750 [10801, 10800, 10799, 10798, 10797, 10796, 10795, 10794, 10793, 10792, 10791, 10790, 10789, 10788, 10787, 10786, 10785, 10784, 10783, 10782]\n"
     ]
    },
    {
     "name": "stderr",
     "output_type": "stream",
     "text": [
      "\r",
      "  6%|▌         | 541/9716 [36:43<10:22:42,  4.07s/it]"
     ]
    },
    {
     "name": "stdout",
     "output_type": "stream",
     "text": [
      "165930 20 9197 156733 [10818, 10817, 10816, 10815, 10814, 10813, 10812, 10811, 10810, 10809, 10808, 10807, 10806, 10805, 10804, 10803, 10802, 10801, 10800, 10799]\n"
     ]
    },
    {
     "name": "stderr",
     "output_type": "stream",
     "text": [
      "\r",
      "  6%|▌         | 542/9716 [36:46<10:22:21,  4.07s/it]"
     ]
    },
    {
     "name": "stdout",
     "output_type": "stream",
     "text": [
      "165930 20 9214 156716 [10835, 10834, 10833, 10832, 10831, 10830, 10829, 10828, 10827, 10826, 10825, 10824, 10823, 10822, 10821, 10820, 10819, 10818, 10817, 10816]\n"
     ]
    },
    {
     "name": "stderr",
     "output_type": "stream",
     "text": [
      "\r",
      "  6%|▌         | 543/9716 [36:49<10:22:06,  4.07s/it]"
     ]
    },
    {
     "name": "stdout",
     "output_type": "stream",
     "text": [
      "165930 20 9231 156699 [10852, 10851, 10850, 10849, 10848, 10847, 10846, 10845, 10844, 10843, 10842, 10841, 10840, 10839, 10838, 10837, 10836, 10835, 10834, 10833]\n"
     ]
    },
    {
     "name": "stderr",
     "output_type": "stream",
     "text": [
      "\r",
      "  6%|▌         | 544/9716 [36:52<10:21:44,  4.07s/it]"
     ]
    },
    {
     "name": "stdout",
     "output_type": "stream",
     "text": [
      "165930 20 9248 156682 [10869, 10868, 10867, 10866, 10865, 10864, 10863, 10862, 10861, 10860, 10859, 10858, 10857, 10856, 10855, 10854, 10853, 10852, 10851, 10850]\n"
     ]
    },
    {
     "name": "stderr",
     "output_type": "stream",
     "text": [
      "\r",
      "  6%|▌         | 545/9716 [36:55<10:21:24,  4.07s/it]"
     ]
    },
    {
     "name": "stdout",
     "output_type": "stream",
     "text": [
      "165930 20 9265 156665 [10886, 10885, 10884, 10883, 10882, 10881, 10880, 10879, 10878, 10877, 10876, 10875, 10874, 10873, 10872, 10871, 10870, 10869, 10868, 10867]\n"
     ]
    },
    {
     "name": "stderr",
     "output_type": "stream",
     "text": [
      "\r",
      "  6%|▌         | 546/9716 [36:58<10:21:03,  4.06s/it]"
     ]
    },
    {
     "name": "stdout",
     "output_type": "stream",
     "text": [
      "165930 20 9282 156648 [10903, 10902, 10901, 10900, 10899, 10898, 10897, 10896, 10895, 10894, 10893, 10892, 10891, 10890, 10889, 10888, 10887, 10886, 10885, 10884]\n"
     ]
    },
    {
     "name": "stderr",
     "output_type": "stream",
     "text": [
      "\r",
      "  6%|▌         | 547/9716 [37:01<10:20:43,  4.06s/it]"
     ]
    },
    {
     "name": "stdout",
     "output_type": "stream",
     "text": [
      "165938 20 9299 156631 [10920, 10919, 10918, 10917, 10916, 10915, 10914, 10913, 10912, 10911, 10910, 10909, 10908, 10907, 10906, 10905, 10904, 10903, 10902, 10901]\n"
     ]
    },
    {
     "name": "stderr",
     "output_type": "stream",
     "text": [
      "\r",
      "  6%|▌         | 548/9716 [37:05<10:20:28,  4.06s/it]"
     ]
    },
    {
     "name": "stdout",
     "output_type": "stream",
     "text": [
      "165950 20 9316 156622 [10940, 10939, 10938, 10937, 10936, 10935, 10934, 10933, 10932, 10931, 10930, 10929, 10928, 10927, 10926, 10925, 10924, 10923, 10922, 10921]\n"
     ]
    },
    {
     "name": "stderr",
     "output_type": "stream",
     "text": [
      "\r",
      "  6%|▌         | 549/9716 [37:08<10:20:12,  4.06s/it]"
     ]
    },
    {
     "name": "stdout",
     "output_type": "stream",
     "text": [
      "165950 20 9333 156617 [10954, 10953, 10952, 10951, 10950, 10949, 10948, 10947, 10946, 10945, 10944, 10943, 10942, 10941, 10940, 10939, 10938, 10937, 10936, 10935]\n"
     ]
    },
    {
     "name": "stderr",
     "output_type": "stream",
     "text": [
      "\r",
      "  6%|▌         | 550/9716 [37:11<10:19:50,  4.06s/it]"
     ]
    },
    {
     "name": "stdout",
     "output_type": "stream",
     "text": [
      "165950 20 9350 156600 [10971, 10970, 10969, 10968, 10967, 10966, 10965, 10964, 10963, 10962, 10961, 10960, 10959, 10958, 10957, 10956, 10955, 10954, 10953, 10952]\n"
     ]
    },
    {
     "name": "stderr",
     "output_type": "stream",
     "text": [
      "\r",
      "  6%|▌         | 551/9716 [37:15<10:19:37,  4.06s/it]"
     ]
    },
    {
     "name": "stdout",
     "output_type": "stream",
     "text": [
      "165950 20 9367 156583 [10988, 10987, 10986, 10985, 10984, 10983, 10982, 10981, 10980, 10979, 10978, 10977, 10976, 10975, 10974, 10973, 10972, 10971, 10970, 10969]\n"
     ]
    },
    {
     "name": "stderr",
     "output_type": "stream",
     "text": [
      "\r",
      "  6%|▌         | 552/9716 [37:18<10:19:21,  4.06s/it]"
     ]
    },
    {
     "name": "stdout",
     "output_type": "stream",
     "text": [
      "165950 20 9384 156566 [11005, 11004, 11003, 11002, 11001, 11000, 10999, 10998, 10997, 10996, 10995, 10994, 10993, 10992, 10991, 10990, 10989, 10988, 10987, 10986]\n"
     ]
    },
    {
     "name": "stderr",
     "output_type": "stream",
     "text": [
      "\r",
      "  6%|▌         | 553/9716 [37:22<10:19:10,  4.05s/it]"
     ]
    },
    {
     "name": "stdout",
     "output_type": "stream",
     "text": [
      "165950 20 9401 156549 [11022, 11021, 11020, 11019, 11018, 11017, 11016, 11015, 11014, 11013, 11012, 11011, 11010, 11009, 11008, 11007, 11006, 11005, 11004, 11003]\n"
     ]
    },
    {
     "name": "stderr",
     "output_type": "stream",
     "text": [
      "\r",
      "  6%|▌         | 554/9716 [37:25<10:19:02,  4.05s/it]"
     ]
    },
    {
     "name": "stdout",
     "output_type": "stream",
     "text": [
      "165950 20 9418 156532 [11039, 11038, 11037, 11036, 11035, 11034, 11033, 11032, 11031, 11030, 11029, 11028, 11027, 11026, 11025, 11024, 11023, 11022, 11021, 11020]\n"
     ]
    },
    {
     "name": "stderr",
     "output_type": "stream",
     "text": [
      "\r",
      "  6%|▌         | 555/9716 [37:29<10:18:52,  4.05s/it]"
     ]
    },
    {
     "name": "stdout",
     "output_type": "stream",
     "text": [
      "165950 20 9435 156515 [11056, 11055, 11054, 11053, 11052, 11051, 11050, 11049, 11048, 11047, 11046, 11045, 11044, 11043, 11042, 11041, 11040, 11039, 11038, 11037]\n"
     ]
    },
    {
     "name": "stderr",
     "output_type": "stream",
     "text": [
      "\r",
      "  6%|▌         | 556/9716 [37:34<10:18:59,  4.05s/it]"
     ]
    },
    {
     "name": "stdout",
     "output_type": "stream",
     "text": [
      "165950 20 9452 156498 [11073, 11072, 11071, 11070, 11069, 11068, 11067, 11066, 11065, 11064, 11063, 11062, 11061, 11060, 11059, 11058, 11057, 11056, 11055, 11054]\n"
     ]
    },
    {
     "name": "stderr",
     "output_type": "stream",
     "text": [
      "\r",
      "  6%|▌         | 557/9716 [37:38<10:18:55,  4.05s/it]"
     ]
    },
    {
     "name": "stdout",
     "output_type": "stream",
     "text": [
      "165950 20 9469 156481 [11090, 11089, 11088, 11087, 11086, 11085, 11084, 11083, 11082, 11081, 11080, 11079, 11078, 11077, 11076, 11075, 11074, 11073, 11072, 11071]\n"
     ]
    },
    {
     "name": "stderr",
     "output_type": "stream",
     "text": [
      "\r",
      "  6%|▌         | 558/9716 [37:41<10:18:39,  4.05s/it]"
     ]
    },
    {
     "name": "stdout",
     "output_type": "stream",
     "text": [
      "165950 20 9486 156464 [11107, 11106, 11105, 11104, 11103, 11102, 11101, 11100, 11099, 11098, 11097, 11096, 11095, 11094, 11093, 11092, 11091, 11090, 11089, 11088]\n"
     ]
    },
    {
     "name": "stderr",
     "output_type": "stream",
     "text": [
      "\r",
      "  6%|▌         | 559/9716 [37:45<10:18:28,  4.05s/it]"
     ]
    },
    {
     "name": "stdout",
     "output_type": "stream",
     "text": [
      "165950 20 9503 156447 [11124, 11123, 11122, 11121, 11120, 11119, 11118, 11117, 11116, 11115, 11114, 11113, 11112, 11111, 11110, 11109, 11108, 11107, 11106, 11105]\n"
     ]
    },
    {
     "name": "stderr",
     "output_type": "stream",
     "text": [
      "\r",
      "  6%|▌         | 560/9716 [37:49<10:18:18,  4.05s/it]"
     ]
    },
    {
     "name": "stdout",
     "output_type": "stream",
     "text": [
      "165950 20 9520 156430 [11141, 11140, 11139, 11138, 11137, 11136, 11135, 11134, 11133, 11132, 11131, 11130, 11129, 11128, 11127, 11126, 11125, 11124, 11123, 11122]\n"
     ]
    },
    {
     "name": "stderr",
     "output_type": "stream",
     "text": [
      "\r",
      "  6%|▌         | 561/9716 [37:52<10:18:07,  4.05s/it]"
     ]
    },
    {
     "name": "stdout",
     "output_type": "stream",
     "text": [
      "165950 20 9537 156413 [11158, 11157, 11156, 11155, 11154, 11153, 11152, 11151, 11150, 11149, 11148, 11147, 11146, 11145, 11144, 11143, 11142, 11141, 11140, 11139]\n"
     ]
    },
    {
     "name": "stderr",
     "output_type": "stream",
     "text": [
      "\r",
      "  6%|▌         | 562/9716 [37:56<10:17:52,  4.05s/it]"
     ]
    },
    {
     "name": "stdout",
     "output_type": "stream",
     "text": [
      "165950 20 9554 156396 [11175, 11174, 11173, 11172, 11171, 11170, 11169, 11168, 11167, 11166, 11165, 11164, 11163, 11162, 11161, 11160, 11159, 11158, 11157, 11156]\n"
     ]
    },
    {
     "name": "stderr",
     "output_type": "stream",
     "text": [
      "\r",
      "  6%|▌         | 563/9716 [37:59<10:17:39,  4.05s/it]"
     ]
    },
    {
     "name": "stdout",
     "output_type": "stream",
     "text": [
      "165954 20 9571 156379 [11192, 11191, 11190, 11189, 11188, 11187, 11186, 11185, 11184, 11183, 11182, 11181, 11180, 11179, 11178, 11177, 11176, 11175, 11174, 11173]\n"
     ]
    },
    {
     "name": "stderr",
     "output_type": "stream",
     "text": [
      "\r",
      "  6%|▌         | 564/9716 [38:02<10:17:24,  4.05s/it]"
     ]
    },
    {
     "name": "stdout",
     "output_type": "stream",
     "text": [
      "165960 20 9588 156366 [11215, 11214, 11213, 11212, 11211, 11210, 11209, 11208, 11207, 11206, 11205, 11204, 11203, 11202, 11201, 11200, 11199, 11198, 11197, 11196]\n"
     ]
    },
    {
     "name": "stderr",
     "output_type": "stream",
     "text": [
      "\r",
      "  6%|▌         | 565/9716 [38:06<10:17:15,  4.05s/it]"
     ]
    },
    {
     "name": "stdout",
     "output_type": "stream",
     "text": [
      "165960 20 9605 156355 [11226, 11225, 11224, 11223, 11222, 11221, 11220, 11219, 11218, 11217, 11216, 11215, 11214, 11213, 11212, 11211, 11210, 11209, 11208, 11207]\n"
     ]
    },
    {
     "name": "stderr",
     "output_type": "stream",
     "text": [
      "\r",
      "  6%|▌         | 566/9716 [38:10<10:17:05,  4.05s/it]"
     ]
    },
    {
     "name": "stdout",
     "output_type": "stream",
     "text": [
      "165960 20 9622 156338 [11243, 11242, 11241, 11240, 11239, 11238, 11237, 11236, 11235, 11234, 11233, 11232, 11231, 11230, 11229, 11228, 11227, 11226, 11225, 11224]\n"
     ]
    },
    {
     "name": "stderr",
     "output_type": "stream",
     "text": [
      "\r",
      "  6%|▌         | 567/9716 [38:14<10:17:06,  4.05s/it]"
     ]
    },
    {
     "name": "stdout",
     "output_type": "stream",
     "text": [
      "165960 20 9639 156321 [11260, 11259, 11258, 11257, 11256, 11255, 11254, 11253, 11252, 11251, 11250, 11249, 11248, 11247, 11246, 11245, 11244, 11243, 11242, 11241]\n"
     ]
    },
    {
     "name": "stderr",
     "output_type": "stream",
     "text": [
      "\r",
      "  6%|▌         | 568/9716 [38:18<10:16:56,  4.05s/it]"
     ]
    },
    {
     "name": "stdout",
     "output_type": "stream",
     "text": [
      "165960 20 9656 156304 [11277, 11276, 11275, 11274, 11273, 11272, 11271, 11270, 11269, 11268, 11267, 11266, 11265, 11264, 11263, 11262, 11261, 11260, 11259, 11258]\n"
     ]
    },
    {
     "name": "stderr",
     "output_type": "stream",
     "text": [
      "\r",
      "  6%|▌         | 569/9716 [38:21<10:16:43,  4.05s/it]"
     ]
    },
    {
     "name": "stdout",
     "output_type": "stream",
     "text": [
      "165960 20 9673 156287 [11294, 11293, 11292, 11291, 11290, 11289, 11288, 11287, 11286, 11285, 11284, 11283, 11282, 11281, 11280, 11279, 11278, 11277, 11276, 11275]\n"
     ]
    },
    {
     "name": "stderr",
     "output_type": "stream",
     "text": [
      "\r",
      "  6%|▌         | 570/9716 [38:25<10:16:37,  4.05s/it]"
     ]
    },
    {
     "name": "stdout",
     "output_type": "stream",
     "text": [
      "165960 20 9690 156270 [11311, 11310, 11309, 11308, 11307, 11306, 11305, 11304, 11303, 11302, 11301, 11300, 11299, 11298, 11297, 11296, 11295, 11294, 11293, 11292]\n"
     ]
    },
    {
     "name": "stderr",
     "output_type": "stream",
     "text": [
      "\r",
      "  6%|▌         | 571/9716 [38:29<10:16:34,  4.05s/it]"
     ]
    },
    {
     "name": "stdout",
     "output_type": "stream",
     "text": [
      "165960 20 9707 156253 [11328, 11327, 11326, 11325, 11324, 11323, 11322, 11321, 11320, 11319, 11318, 11317, 11316, 11315, 11314, 11313, 11312, 11311, 11310, 11309]\n"
     ]
    },
    {
     "name": "stderr",
     "output_type": "stream",
     "text": [
      "\r",
      "  6%|▌         | 572/9716 [38:33<10:16:22,  4.04s/it]"
     ]
    },
    {
     "name": "stdout",
     "output_type": "stream",
     "text": [
      "165960 20 9724 156236 [11345, 11344, 11343, 11342, 11341, 11340, 11339, 11338, 11337, 11336, 11335, 11334, 11333, 11332, 11331, 11330, 11329, 11328, 11327, 11326]\n"
     ]
    },
    {
     "name": "stderr",
     "output_type": "stream",
     "text": [
      "\r",
      "  6%|▌         | 573/9716 [38:37<10:16:19,  4.04s/it]"
     ]
    },
    {
     "name": "stdout",
     "output_type": "stream",
     "text": [
      "165960 20 9741 156219 [11362, 11361, 11360, 11359, 11358, 11357, 11356, 11355, 11354, 11353, 11352, 11351, 11350, 11349, 11348, 11347, 11346, 11345, 11344, 11343]\n"
     ]
    },
    {
     "name": "stderr",
     "output_type": "stream",
     "text": [
      "\r",
      "  6%|▌         | 574/9716 [38:41<10:16:20,  4.05s/it]"
     ]
    },
    {
     "name": "stdout",
     "output_type": "stream",
     "text": [
      "165960 20 9758 156202 [11379, 11378, 11377, 11376, 11375, 11374, 11373, 11372, 11371, 11370, 11369, 11368, 11367, 11366, 11365, 11364, 11363, 11362, 11361, 11360]\n"
     ]
    },
    {
     "name": "stderr",
     "output_type": "stream",
     "text": [
      "\r",
      "  6%|▌         | 575/9716 [38:45<10:16:03,  4.04s/it]"
     ]
    },
    {
     "name": "stdout",
     "output_type": "stream",
     "text": [
      "165960 20 9775 156185 [11396, 11395, 11394, 11393, 11392, 11391, 11390, 11389, 11388, 11387, 11386, 11385, 11384, 11383, 11382, 11381, 11380, 11379, 11378, 11377]\n"
     ]
    },
    {
     "name": "stderr",
     "output_type": "stream",
     "text": [
      "\r",
      "  6%|▌         | 576/9716 [38:48<10:15:42,  4.04s/it]"
     ]
    },
    {
     "name": "stdout",
     "output_type": "stream",
     "text": [
      "165970 20 9792 156168 [11413, 11412, 11411, 11410, 11409, 11408, 11407, 11406, 11405, 11404, 11403, 11402, 11401, 11400, 11399, 11398, 11397, 11396, 11395, 11394]\n"
     ]
    },
    {
     "name": "stderr",
     "output_type": "stream",
     "text": [
      "\r",
      "  6%|▌         | 577/9716 [38:51<10:15:21,  4.04s/it]"
     ]
    },
    {
     "name": "stdout",
     "output_type": "stream",
     "text": [
      "165984 20 9809 156161 [11431, 11430, 11429, 11428, 11427, 11426, 11425, 11424, 11423, 11422, 11421, 11420, 11419, 11418, 11417, 11416, 11415, 11414, 11413, 11412]\n"
     ]
    },
    {
     "name": "stderr",
     "output_type": "stream",
     "text": [
      "\r",
      "  6%|▌         | 578/9716 [38:54<10:15:04,  4.04s/it]"
     ]
    },
    {
     "name": "stdout",
     "output_type": "stream",
     "text": [
      "165984 20 9826 156158 [11447, 11446, 11445, 11444, 11443, 11442, 11441, 11440, 11439, 11438, 11437, 11436, 11435, 11434, 11433, 11432, 11431, 11430, 11429, 11428]\n"
     ]
    },
    {
     "name": "stderr",
     "output_type": "stream",
     "text": [
      "\r",
      "  6%|▌         | 579/9716 [38:57<10:14:42,  4.04s/it]"
     ]
    },
    {
     "name": "stdout",
     "output_type": "stream",
     "text": [
      "165984 20 9843 156141 [11464, 11463, 11462, 11461, 11460, 11459, 11458, 11457, 11456, 11455, 11454, 11453, 11452, 11451, 11450, 11449, 11448, 11447, 11446, 11445]\n"
     ]
    },
    {
     "name": "stderr",
     "output_type": "stream",
     "text": [
      "\r",
      "  6%|▌         | 580/9716 [39:00<10:14:23,  4.04s/it]"
     ]
    },
    {
     "name": "stdout",
     "output_type": "stream",
     "text": [
      "165984 20 9860 156124 [11481, 11480, 11479, 11478, 11477, 11476, 11475, 11474, 11473, 11472, 11471, 11470, 11469, 11468, 11467, 11466, 11465, 11464, 11463, 11462]\n"
     ]
    },
    {
     "name": "stderr",
     "output_type": "stream",
     "text": [
      "\r",
      "  6%|▌         | 581/9716 [39:03<10:14:01,  4.03s/it]"
     ]
    },
    {
     "name": "stdout",
     "output_type": "stream",
     "text": [
      "165984 20 9877 156107 [11498, 11497, 11496, 11495, 11494, 11493, 11492, 11491, 11490, 11489, 11488, 11487, 11486, 11485, 11484, 11483, 11482, 11481, 11480, 11479]\n"
     ]
    },
    {
     "name": "stderr",
     "output_type": "stream",
     "text": [
      "\r",
      "  6%|▌         | 582/9716 [39:06<10:13:45,  4.03s/it]"
     ]
    },
    {
     "name": "stdout",
     "output_type": "stream",
     "text": [
      "165984 20 9894 156090 [11515, 11514, 11513, 11512, 11511, 11510, 11509, 11508, 11507, 11506, 11505, 11504, 11503, 11502, 11501, 11500, 11499, 11498, 11497, 11496]\n"
     ]
    },
    {
     "name": "stderr",
     "output_type": "stream",
     "text": [
      "\r",
      "  6%|▌         | 583/9716 [39:09<10:13:32,  4.03s/it]"
     ]
    },
    {
     "name": "stdout",
     "output_type": "stream",
     "text": [
      "165993 20 9911 156073 [11532, 11531, 11530, 11529, 11528, 11527, 11526, 11525, 11524, 11523, 11522, 11521, 11520, 11519, 11518, 11517, 11516, 11515, 11514, 11513]\n"
     ]
    },
    {
     "name": "stderr",
     "output_type": "stream",
     "text": [
      "\r",
      "  6%|▌         | 584/9716 [39:12<10:13:13,  4.03s/it]"
     ]
    },
    {
     "name": "stdout",
     "output_type": "stream",
     "text": [
      "165993 20 9928 156065 [11549, 11548, 11547, 11546, 11545, 11544, 11543, 11542, 11541, 11540, 11539, 11538, 11537, 11536, 11535, 11534, 11533, 11532, 11531, 11530]\n"
     ]
    },
    {
     "name": "stderr",
     "output_type": "stream",
     "text": [
      "\r",
      "  6%|▌         | 585/9716 [39:16<10:12:56,  4.03s/it]"
     ]
    },
    {
     "name": "stdout",
     "output_type": "stream",
     "text": [
      "165993 20 9945 156048 [11566, 11565, 11564, 11563, 11562, 11561, 11560, 11559, 11558, 11557, 11556, 11555, 11554, 11553, 11552, 11551, 11550, 11549, 11548, 11547]\n"
     ]
    },
    {
     "name": "stderr",
     "output_type": "stream",
     "text": [
      "\r",
      "  6%|▌         | 586/9716 [39:19<10:12:37,  4.03s/it]"
     ]
    },
    {
     "name": "stdout",
     "output_type": "stream",
     "text": [
      "165993 20 9962 156031 [11583, 11582, 11581, 11580, 11579, 11578, 11577, 11576, 11575, 11574, 11573, 11572, 11571, 11570, 11569, 11568, 11567, 11566, 11565, 11564]\n"
     ]
    },
    {
     "name": "stderr",
     "output_type": "stream",
     "text": [
      "\r",
      "  6%|▌         | 587/9716 [39:22<10:12:19,  4.02s/it]"
     ]
    },
    {
     "name": "stdout",
     "output_type": "stream",
     "text": [
      "165993 20 9979 156014 [11600, 11599, 11598, 11597, 11596, 11595, 11594, 11593, 11592, 11591, 11590, 11589, 11588, 11587, 11586, 11585, 11584, 11583, 11582, 11581]\n"
     ]
    },
    {
     "name": "stderr",
     "output_type": "stream",
     "text": [
      "\r",
      "  6%|▌         | 588/9716 [39:25<10:11:59,  4.02s/it]"
     ]
    },
    {
     "name": "stdout",
     "output_type": "stream",
     "text": [
      "165993 20 9996 155997 [11617, 11616, 11615, 11614, 11613, 11612, 11611, 11610, 11609, 11608, 11607, 11606, 11605, 11604, 11603, 11602, 11601, 11600, 11599, 11598]\n"
     ]
    },
    {
     "name": "stderr",
     "output_type": "stream",
     "text": [
      "\r",
      "  6%|▌         | 589/9716 [39:28<10:11:40,  4.02s/it]"
     ]
    },
    {
     "name": "stdout",
     "output_type": "stream",
     "text": [
      "165993 20 10013 155980 [11634, 11633, 11632, 11631, 11630, 11629, 11628, 11627, 11626, 11625, 11624, 11623, 11622, 11621, 11620, 11619, 11618, 11617, 11616, 11615]\n"
     ]
    },
    {
     "name": "stderr",
     "output_type": "stream",
     "text": [
      "\r",
      "  6%|▌         | 590/9716 [39:31<10:11:25,  4.02s/it]"
     ]
    },
    {
     "name": "stdout",
     "output_type": "stream",
     "text": [
      "165993 20 10030 155963 [11651, 11650, 11649, 11648, 11647, 11646, 11645, 11644, 11643, 11642, 11641, 11640, 11639, 11638, 11637, 11636, 11635, 11634, 11633, 11632]\n"
     ]
    },
    {
     "name": "stderr",
     "output_type": "stream",
     "text": [
      "\r",
      "  6%|▌         | 591/9716 [39:34<10:11:09,  4.02s/it]"
     ]
    },
    {
     "name": "stdout",
     "output_type": "stream",
     "text": [
      "165993 20 10047 155946 [11668, 11667, 11666, 11665, 11664, 11663, 11662, 11661, 11660, 11659, 11658, 11657, 11656, 11655, 11654, 11653, 11652, 11651, 11650, 11649]\n"
     ]
    },
    {
     "name": "stderr",
     "output_type": "stream",
     "text": [
      "\r",
      "  6%|▌         | 592/9716 [39:38<10:11:00,  4.02s/it]"
     ]
    },
    {
     "name": "stdout",
     "output_type": "stream",
     "text": [
      "165993 20 10064 155929 [11685, 11684, 11683, 11682, 11681, 11680, 11679, 11678, 11677, 11676, 11675, 11674, 11673, 11672, 11671, 11670, 11669, 11668, 11667, 11666]\n"
     ]
    },
    {
     "name": "stderr",
     "output_type": "stream",
     "text": [
      "\r",
      "  6%|▌         | 593/9716 [39:42<10:10:46,  4.02s/it]"
     ]
    },
    {
     "name": "stdout",
     "output_type": "stream",
     "text": [
      "165999 20 10081 155912 [11707, 11706, 11705, 11704, 11703, 11702, 11701, 11700, 11699, 11698, 11697, 11696, 11695, 11694, 11693, 11692, 11691, 11690, 11689, 11688]\n"
     ]
    },
    {
     "name": "stderr",
     "output_type": "stream",
     "text": [
      "\r",
      "  6%|▌         | 594/9716 [39:45<10:10:28,  4.02s/it]"
     ]
    },
    {
     "name": "stdout",
     "output_type": "stream",
     "text": [
      "165999 20 10098 155901 [11719, 11718, 11717, 11716, 11715, 11714, 11713, 11712, 11711, 11710, 11709, 11708, 11707, 11706, 11705, 11704, 11703, 11702, 11701, 11700]\n"
     ]
    },
    {
     "name": "stderr",
     "output_type": "stream",
     "text": [
      "\r",
      "  6%|▌         | 595/9716 [39:48<10:10:07,  4.01s/it]"
     ]
    },
    {
     "name": "stdout",
     "output_type": "stream",
     "text": [
      "165999 20 10115 155884 [11736, 11735, 11734, 11733, 11732, 11731, 11730, 11729, 11728, 11727, 11726, 11725, 11724, 11723, 11722, 11721, 11720, 11719, 11718, 11717]\n"
     ]
    },
    {
     "name": "stderr",
     "output_type": "stream",
     "text": [
      "\r",
      "  6%|▌         | 596/9716 [39:51<10:09:47,  4.01s/it]"
     ]
    },
    {
     "name": "stdout",
     "output_type": "stream",
     "text": [
      "165999 20 10132 155867 [11753, 11752, 11751, 11750, 11749, 11748, 11747, 11746, 11745, 11744, 11743, 11742, 11741, 11740, 11739, 11738, 11737, 11736, 11735, 11734]\n"
     ]
    },
    {
     "name": "stderr",
     "output_type": "stream",
     "text": [
      "\r",
      "  6%|▌         | 597/9716 [39:54<10:09:30,  4.01s/it]"
     ]
    },
    {
     "name": "stdout",
     "output_type": "stream",
     "text": [
      "165999 20 10149 155850 [11770, 11769, 11768, 11767, 11766, 11765, 11764, 11763, 11762, 11761, 11760, 11759, 11758, 11757, 11756, 11755, 11754, 11753, 11752, 11751]\n"
     ]
    },
    {
     "name": "stderr",
     "output_type": "stream",
     "text": [
      "\r",
      "  6%|▌         | 598/9716 [39:57<10:09:10,  4.01s/it]"
     ]
    },
    {
     "name": "stdout",
     "output_type": "stream",
     "text": [
      "165999 20 10166 155833 [11787, 11786, 11785, 11784, 11783, 11782, 11781, 11780, 11779, 11778, 11777, 11776, 11775, 11774, 11773, 11772, 11771, 11770, 11769, 11768]\n"
     ]
    },
    {
     "name": "stderr",
     "output_type": "stream",
     "text": [
      "\r",
      "  6%|▌         | 599/9716 [40:00<10:08:56,  4.01s/it]"
     ]
    },
    {
     "name": "stdout",
     "output_type": "stream",
     "text": [
      "165999 20 10183 155816 [11804, 11803, 11802, 11801, 11800, 11799, 11798, 11797, 11796, 11795, 11794, 11793, 11792, 11791, 11790, 11789, 11788, 11787, 11786, 11785]\n"
     ]
    },
    {
     "name": "stderr",
     "output_type": "stream",
     "text": [
      "\r",
      "  6%|▌         | 600/9716 [40:03<10:08:41,  4.01s/it]"
     ]
    },
    {
     "name": "stdout",
     "output_type": "stream",
     "text": [
      "165999 20 10200 155799 [11821, 11820, 11819, 11818, 11817, 11816, 11815, 11814, 11813, 11812, 11811, 11810, 11809, 11808, 11807, 11806, 11805, 11804, 11803, 11802]\n"
     ]
    },
    {
     "name": "stderr",
     "output_type": "stream",
     "text": [
      "\r",
      "  6%|▌         | 601/9716 [40:06<10:08:24,  4.00s/it]"
     ]
    },
    {
     "name": "stdout",
     "output_type": "stream",
     "text": [
      "165999 20 10217 155782 [11838, 11837, 11836, 11835, 11834, 11833, 11832, 11831, 11830, 11829, 11828, 11827, 11826, 11825, 11824, 11823, 11822, 11821, 11820, 11819]\n"
     ]
    },
    {
     "name": "stderr",
     "output_type": "stream",
     "text": [
      "\r",
      "  6%|▌         | 602/9716 [40:10<10:08:08,  4.00s/it]"
     ]
    },
    {
     "name": "stdout",
     "output_type": "stream",
     "text": [
      "166000 20 10234 155765 [11855, 11854, 11853, 11852, 11851, 11850, 11849, 11848, 11847, 11846, 11845, 11844, 11843, 11842, 11841, 11840, 11839, 11838, 11837, 11836]\n"
     ]
    },
    {
     "name": "stderr",
     "output_type": "stream",
     "text": [
      "\r",
      "  6%|▌         | 603/9716 [40:13<10:07:48,  4.00s/it]"
     ]
    },
    {
     "name": "stdout",
     "output_type": "stream",
     "text": [
      "166000 20 10251 155749 [11872, 11871, 11870, 11869, 11868, 11867, 11866, 11865, 11864, 11863, 11862, 11861, 11860, 11859, 11858, 11857, 11856, 11855, 11854, 11853]\n"
     ]
    },
    {
     "name": "stderr",
     "output_type": "stream",
     "text": [
      "\r",
      "  6%|▌         | 604/9716 [40:16<10:07:31,  4.00s/it]"
     ]
    },
    {
     "name": "stdout",
     "output_type": "stream",
     "text": [
      "166000 20 10268 155732 [11889, 11888, 11887, 11886, 11885, 11884, 11883, 11882, 11881, 11880, 11879, 11878, 11877, 11876, 11875, 11874, 11873, 11872, 11871, 11870]\n"
     ]
    },
    {
     "name": "stderr",
     "output_type": "stream",
     "text": [
      "\r",
      "  6%|▌         | 605/9716 [40:19<10:07:16,  4.00s/it]"
     ]
    },
    {
     "name": "stdout",
     "output_type": "stream",
     "text": [
      "166000 20 10285 155715 [11906, 11905, 11904, 11903, 11902, 11901, 11900, 11899, 11898, 11897, 11896, 11895, 11894, 11893, 11892, 11891, 11890, 11889, 11888, 11887]\n"
     ]
    },
    {
     "name": "stderr",
     "output_type": "stream",
     "text": [
      "\r",
      "  6%|▌         | 606/9716 [40:22<10:06:56,  4.00s/it]"
     ]
    },
    {
     "name": "stdout",
     "output_type": "stream",
     "text": [
      "166000 20 10302 155698 [11923, 11922, 11921, 11920, 11919, 11918, 11917, 11916, 11915, 11914, 11913, 11912, 11911, 11910, 11909, 11908, 11907, 11906, 11905, 11904]\n"
     ]
    },
    {
     "name": "stderr",
     "output_type": "stream",
     "text": [
      "\r",
      "  6%|▌         | 607/9716 [40:25<10:06:37,  4.00s/it]"
     ]
    },
    {
     "name": "stdout",
     "output_type": "stream",
     "text": [
      "166000 20 10319 155681 [11940, 11939, 11938, 11937, 11936, 11935, 11934, 11933, 11932, 11931, 11930, 11929, 11928, 11927, 11926, 11925, 11924, 11923, 11922, 11921]\n"
     ]
    },
    {
     "name": "stderr",
     "output_type": "stream",
     "text": [
      "\r",
      "  6%|▋         | 608/9716 [40:28<10:06:21,  3.99s/it]"
     ]
    },
    {
     "name": "stdout",
     "output_type": "stream",
     "text": [
      "166000 20 10336 155664 [11957, 11956, 11955, 11954, 11953, 11952, 11951, 11950, 11949, 11948, 11947, 11946, 11945, 11944, 11943, 11942, 11941, 11940, 11939, 11938]\n"
     ]
    },
    {
     "name": "stderr",
     "output_type": "stream",
     "text": [
      "\r",
      "  6%|▋         | 609/9716 [40:32<10:06:10,  3.99s/it]"
     ]
    },
    {
     "name": "stdout",
     "output_type": "stream",
     "text": [
      "166012 20 10353 155647 [11974, 11973, 11972, 11971, 11970, 11969, 11968, 11967, 11966, 11965, 11964, 11963, 11962, 11961, 11960, 11959, 11958, 11957, 11956, 11955]\n"
     ]
    },
    {
     "name": "stderr",
     "output_type": "stream",
     "text": [
      "\r",
      "  6%|▋         | 610/9716 [40:35<10:05:57,  3.99s/it]"
     ]
    },
    {
     "name": "stdout",
     "output_type": "stream",
     "text": [
      "166012 20 10370 155642 [11991, 11990, 11989, 11988, 11987, 11986, 11985, 11984, 11983, 11982, 11981, 11980, 11979, 11978, 11977, 11976, 11975, 11974, 11973, 11972]\n"
     ]
    },
    {
     "name": "stderr",
     "output_type": "stream",
     "text": [
      "\r",
      "  6%|▋         | 611/9716 [40:38<10:05:41,  3.99s/it]"
     ]
    },
    {
     "name": "stdout",
     "output_type": "stream",
     "text": [
      "166018 20 10387 155625 [12008, 12007, 12006, 12005, 12004, 12003, 12002, 12001, 12000, 11999, 11998, 11997, 11996, 11995, 11994, 11993, 11992, 11991, 11990, 11989]\n"
     ]
    },
    {
     "name": "stderr",
     "output_type": "stream",
     "text": [
      "\r",
      "  6%|▋         | 612/9716 [40:42<10:05:28,  3.99s/it]"
     ]
    },
    {
     "name": "stdout",
     "output_type": "stream",
     "text": [
      "166018 20 10404 155614 [12025, 12024, 12023, 12022, 12021, 12020, 12019, 12018, 12017, 12016, 12015, 12014, 12013, 12012, 12011, 12010, 12009, 12008, 12007, 12006]\n"
     ]
    },
    {
     "name": "stderr",
     "output_type": "stream",
     "text": [
      "\r",
      "  6%|▋         | 613/9716 [40:45<10:05:11,  3.99s/it]"
     ]
    },
    {
     "name": "stdout",
     "output_type": "stream",
     "text": [
      "166018 20 10421 155597 [12042, 12041, 12040, 12039, 12038, 12037, 12036, 12035, 12034, 12033, 12032, 12031, 12030, 12029, 12028, 12027, 12026, 12025, 12024, 12023]\n"
     ]
    },
    {
     "name": "stderr",
     "output_type": "stream",
     "text": [
      "\r",
      "  6%|▋         | 614/9716 [40:48<10:04:58,  3.99s/it]"
     ]
    },
    {
     "name": "stdout",
     "output_type": "stream",
     "text": [
      "166018 20 10438 155580 [12059, 12058, 12057, 12056, 12055, 12054, 12053, 12052, 12051, 12050, 12049, 12048, 12047, 12046, 12045, 12044, 12043, 12042, 12041, 12040]\n"
     ]
    },
    {
     "name": "stderr",
     "output_type": "stream",
     "text": [
      "\r",
      "  6%|▋         | 615/9716 [40:51<10:04:42,  3.99s/it]"
     ]
    },
    {
     "name": "stdout",
     "output_type": "stream",
     "text": [
      "166023 20 10455 155563 [12076, 12075, 12074, 12073, 12072, 12071, 12070, 12069, 12068, 12067, 12066, 12065, 12064, 12063, 12062, 12061, 12060, 12059, 12058, 12057]\n"
     ]
    },
    {
     "name": "stderr",
     "output_type": "stream",
     "text": [
      "\r",
      "  6%|▋         | 616/9716 [40:55<10:04:29,  3.99s/it]"
     ]
    },
    {
     "name": "stdout",
     "output_type": "stream",
     "text": [
      "166023 20 10472 155551 [12093, 12092, 12091, 12090, 12089, 12088, 12087, 12086, 12085, 12084, 12083, 12082, 12081, 12080, 12079, 12078, 12077, 12076, 12075, 12074]\n"
     ]
    },
    {
     "name": "stderr",
     "output_type": "stream",
     "text": [
      "\r",
      "  6%|▋         | 617/9716 [40:58<10:04:12,  3.98s/it]"
     ]
    },
    {
     "name": "stdout",
     "output_type": "stream",
     "text": [
      "166023 20 10489 155534 [12110, 12109, 12108, 12107, 12106, 12105, 12104, 12103, 12102, 12101, 12100, 12099, 12098, 12097, 12096, 12095, 12094, 12093, 12092, 12091]\n"
     ]
    },
    {
     "name": "stderr",
     "output_type": "stream",
     "text": [
      "\r",
      "  6%|▋         | 618/9716 [41:01<10:04:01,  3.98s/it]"
     ]
    },
    {
     "name": "stdout",
     "output_type": "stream",
     "text": [
      "166023 20 10506 155517 [12127, 12126, 12125, 12124, 12123, 12122, 12121, 12120, 12119, 12118, 12117, 12116, 12115, 12114, 12113, 12112, 12111, 12110, 12109, 12108]\n"
     ]
    },
    {
     "name": "stderr",
     "output_type": "stream",
     "text": [
      "\r",
      "  6%|▋         | 619/9716 [41:04<10:03:43,  3.98s/it]"
     ]
    },
    {
     "name": "stdout",
     "output_type": "stream",
     "text": [
      "166023 20 10523 155500 [12144, 12143, 12142, 12141, 12140, 12139, 12138, 12137, 12136, 12135, 12134, 12133, 12132, 12131, 12130, 12129, 12128, 12127, 12126, 12125]\n"
     ]
    },
    {
     "name": "stderr",
     "output_type": "stream",
     "text": [
      "\r",
      "  6%|▋         | 620/9716 [41:08<10:03:30,  3.98s/it]"
     ]
    },
    {
     "name": "stdout",
     "output_type": "stream",
     "text": [
      "166023 20 10540 155483 [12161, 12160, 12159, 12158, 12157, 12156, 12155, 12154, 12153, 12152, 12151, 12150, 12149, 12148, 12147, 12146, 12145, 12144, 12143, 12142]\n"
     ]
    },
    {
     "name": "stderr",
     "output_type": "stream",
     "text": [
      "\r",
      "  6%|▋         | 621/9716 [41:11<10:03:14,  3.98s/it]"
     ]
    },
    {
     "name": "stdout",
     "output_type": "stream",
     "text": [
      "166037 20 10557 155466 [12182, 12181, 12180, 12179, 12178, 12177, 12176, 12175, 12174, 12173, 12172, 12171, 12170, 12169, 12168, 12167, 12166, 12165, 12164, 12163]\n"
     ]
    },
    {
     "name": "stderr",
     "output_type": "stream",
     "text": [
      "\r",
      "  6%|▋         | 622/9716 [41:14<10:03:04,  3.98s/it]"
     ]
    },
    {
     "name": "stdout",
     "output_type": "stream",
     "text": [
      "166041 20 10574 155463 [12195, 12194, 12193, 12192, 12191, 12190, 12189, 12188, 12187, 12186, 12185, 12184, 12183, 12182, 12181, 12180, 12179, 12178, 12177, 12176]\n"
     ]
    },
    {
     "name": "stderr",
     "output_type": "stream",
     "text": [
      "\r",
      "  6%|▋         | 623/9716 [41:18<10:02:51,  3.98s/it]"
     ]
    },
    {
     "name": "stdout",
     "output_type": "stream",
     "text": [
      "166047 20 10591 155450 [12212, 12211, 12210, 12209, 12208, 12207, 12206, 12205, 12204, 12203, 12202, 12201, 12200, 12199, 12198, 12197, 12196, 12195, 12194, 12193]\n"
     ]
    },
    {
     "name": "stderr",
     "output_type": "stream",
     "text": [
      "\r",
      "  6%|▋         | 624/9716 [41:22<10:02:48,  3.98s/it]"
     ]
    },
    {
     "name": "stdout",
     "output_type": "stream",
     "text": [
      "166047 20 10608 155439 [12229, 12228, 12227, 12226, 12225, 12224, 12223, 12222, 12221, 12220, 12219, 12218, 12217, 12216, 12215, 12214, 12213, 12212, 12211, 12210]\n"
     ]
    },
    {
     "name": "stderr",
     "output_type": "stream",
     "text": [
      "\r",
      "  6%|▋         | 625/9716 [41:26<10:02:44,  3.98s/it]"
     ]
    },
    {
     "name": "stdout",
     "output_type": "stream",
     "text": [
      "166056 20 10625 155422 [12246, 12245, 12244, 12243, 12242, 12241, 12240, 12239, 12238, 12237, 12236, 12235, 12234, 12233, 12232, 12231, 12230, 12229, 12228, 12227]\n"
     ]
    },
    {
     "name": "stderr",
     "output_type": "stream",
     "text": [
      "\r",
      "  6%|▋         | 626/9716 [41:29<10:02:34,  3.98s/it]"
     ]
    },
    {
     "name": "stdout",
     "output_type": "stream",
     "text": [
      "166056 20 10642 155414 [12263, 12262, 12261, 12260, 12259, 12258, 12257, 12256, 12255, 12254, 12253, 12252, 12251, 12250, 12249, 12248, 12247, 12246, 12245, 12244]\n"
     ]
    },
    {
     "name": "stderr",
     "output_type": "stream",
     "text": [
      "\r",
      "  6%|▋         | 627/9716 [41:34<10:02:34,  3.98s/it]"
     ]
    },
    {
     "name": "stdout",
     "output_type": "stream",
     "text": [
      "166056 20 10659 155397 [12280, 12279, 12278, 12277, 12276, 12275, 12274, 12273, 12272, 12271, 12270, 12269, 12268, 12267, 12266, 12265, 12264, 12263, 12262, 12261]\n"
     ]
    },
    {
     "name": "stderr",
     "output_type": "stream",
     "text": [
      "\r",
      "  6%|▋         | 628/9716 [41:39<10:02:47,  3.98s/it]"
     ]
    },
    {
     "name": "stdout",
     "output_type": "stream",
     "text": [
      "166056 20 10676 155380 [12297, 12296, 12295, 12294, 12293, 12292, 12291, 12290, 12289, 12288, 12287, 12286, 12285, 12284, 12283, 12282, 12281, 12280, 12279, 12278]\n"
     ]
    },
    {
     "name": "stderr",
     "output_type": "stream",
     "text": [
      "\r",
      "  6%|▋         | 629/9716 [41:42<10:02:35,  3.98s/it]"
     ]
    },
    {
     "name": "stdout",
     "output_type": "stream",
     "text": [
      "166056 20 10693 155363 [12314, 12313, 12312, 12311, 12310, 12309, 12308, 12307, 12306, 12305, 12304, 12303, 12302, 12301, 12300, 12299, 12298, 12297, 12296, 12295]\n"
     ]
    },
    {
     "name": "stderr",
     "output_type": "stream",
     "text": [
      "\r",
      "  6%|▋         | 630/9716 [41:47<10:02:36,  3.98s/it]"
     ]
    },
    {
     "name": "stdout",
     "output_type": "stream",
     "text": [
      "166059 20 10710 155346 [12331, 12330, 12329, 12328, 12327, 12326, 12325, 12324, 12323, 12322, 12321, 12320, 12319, 12318, 12317, 12316, 12315, 12314, 12313, 12312]\n"
     ]
    },
    {
     "name": "stderr",
     "output_type": "stream",
     "text": [
      "\r",
      "  6%|▋         | 631/9716 [41:50<10:02:29,  3.98s/it]"
     ]
    },
    {
     "name": "stdout",
     "output_type": "stream",
     "text": [
      "166059 20 10727 155332 [12348, 12347, 12346, 12345, 12344, 12343, 12342, 12341, 12340, 12339, 12338, 12337, 12336, 12335, 12334, 12333, 12332, 12331, 12330, 12329]\n"
     ]
    },
    {
     "name": "stderr",
     "output_type": "stream",
     "text": [
      "\r",
      "  7%|▋         | 632/9716 [41:55<10:02:32,  3.98s/it]"
     ]
    },
    {
     "name": "stdout",
     "output_type": "stream",
     "text": [
      "166059 20 10744 155315 [12365, 12364, 12363, 12362, 12361, 12360, 12359, 12358, 12357, 12356, 12355, 12354, 12353, 12352, 12351, 12350, 12349, 12348, 12347, 12346]\n"
     ]
    },
    {
     "name": "stderr",
     "output_type": "stream",
     "text": [
      "\r",
      "  7%|▋         | 633/9716 [41:58<10:02:22,  3.98s/it]"
     ]
    },
    {
     "name": "stdout",
     "output_type": "stream",
     "text": [
      "166059 20 10761 155298 [12382, 12381, 12380, 12379, 12378, 12377, 12376, 12375, 12374, 12373, 12372, 12371, 12370, 12369, 12368, 12367, 12366, 12365, 12364, 12363]\n"
     ]
    },
    {
     "name": "stderr",
     "output_type": "stream",
     "text": [
      "\r",
      "  7%|▋         | 634/9716 [42:02<10:02:15,  3.98s/it]"
     ]
    },
    {
     "name": "stdout",
     "output_type": "stream",
     "text": [
      "166059 20 10778 155281 [12399, 12398, 12397, 12396, 12395, 12394, 12393, 12392, 12391, 12390, 12389, 12388, 12387, 12386, 12385, 12384, 12383, 12382, 12381, 12380]\n"
     ]
    },
    {
     "name": "stderr",
     "output_type": "stream",
     "text": [
      "\r",
      "  7%|▋         | 635/9716 [42:06<10:02:06,  3.98s/it]"
     ]
    },
    {
     "name": "stdout",
     "output_type": "stream",
     "text": [
      "166059 20 10795 155264 [12416, 12415, 12414, 12413, 12412, 12411, 12410, 12409, 12408, 12407, 12406, 12405, 12404, 12403, 12402, 12401, 12400, 12399, 12398, 12397]\n"
     ]
    },
    {
     "name": "stderr",
     "output_type": "stream",
     "text": [
      "\r",
      "  7%|▋         | 636/9716 [42:09<10:01:56,  3.98s/it]"
     ]
    },
    {
     "name": "stdout",
     "output_type": "stream",
     "text": [
      "166059 20 10812 155247 [12433, 12432, 12431, 12430, 12429, 12428, 12427, 12426, 12425, 12424, 12423, 12422, 12421, 12420, 12419, 12418, 12417, 12416, 12415, 12414]\n"
     ]
    },
    {
     "name": "stderr",
     "output_type": "stream",
     "text": [
      "\r",
      "  7%|▋         | 637/9716 [42:13<10:01:45,  3.98s/it]"
     ]
    },
    {
     "name": "stdout",
     "output_type": "stream",
     "text": [
      "166059 20 10829 155230 [12450, 12449, 12448, 12447, 12446, 12445, 12444, 12443, 12442, 12441, 12440, 12439, 12438, 12437, 12436, 12435, 12434, 12433, 12432, 12431]\n"
     ]
    },
    {
     "name": "stderr",
     "output_type": "stream",
     "text": [
      "\r",
      "  7%|▋         | 638/9716 [42:17<10:01:47,  3.98s/it]"
     ]
    },
    {
     "name": "stdout",
     "output_type": "stream",
     "text": [
      "166063 20 10846 155213 [12467, 12466, 12465, 12464, 12463, 12462, 12461, 12460, 12459, 12458, 12457, 12456, 12455, 12454, 12453, 12452, 12451, 12450, 12449, 12448]\n"
     ]
    },
    {
     "name": "stderr",
     "output_type": "stream",
     "text": [
      "\r",
      "  7%|▋         | 639/9716 [42:21<10:01:40,  3.98s/it]"
     ]
    },
    {
     "name": "stdout",
     "output_type": "stream",
     "text": [
      "166063 20 10863 155200 [12484, 12483, 12482, 12481, 12480, 12479, 12478, 12477, 12476, 12475, 12474, 12473, 12472, 12471, 12470, 12469, 12468, 12467, 12466, 12465]\n"
     ]
    },
    {
     "name": "stderr",
     "output_type": "stream",
     "text": [
      "\r",
      "  7%|▋         | 640/9716 [42:24<10:01:28,  3.98s/it]"
     ]
    },
    {
     "name": "stdout",
     "output_type": "stream",
     "text": [
      "166063 20 10880 155183 [12501, 12500, 12499, 12498, 12497, 12496, 12495, 12494, 12493, 12492, 12491, 12490, 12489, 12488, 12487, 12486, 12485, 12484, 12483, 12482]\n"
     ]
    },
    {
     "name": "stderr",
     "output_type": "stream",
     "text": [
      "\r",
      "  7%|▋         | 641/9716 [42:28<10:01:18,  3.98s/it]"
     ]
    },
    {
     "name": "stdout",
     "output_type": "stream",
     "text": [
      "166063 20 10897 155166 [12518, 12517, 12516, 12515, 12514, 12513, 12512, 12511, 12510, 12509, 12508, 12507, 12506, 12505, 12504, 12503, 12502, 12501, 12500, 12499]\n"
     ]
    },
    {
     "name": "stderr",
     "output_type": "stream",
     "text": [
      "\r",
      "  7%|▋         | 642/9716 [42:31<10:01:09,  3.98s/it]"
     ]
    },
    {
     "name": "stdout",
     "output_type": "stream",
     "text": [
      "166063 20 10914 155149 [12535, 12534, 12533, 12532, 12531, 12530, 12529, 12528, 12527, 12526, 12525, 12524, 12523, 12522, 12521, 12520, 12519, 12518, 12517, 12516]\n"
     ]
    },
    {
     "name": "stderr",
     "output_type": "stream",
     "text": [
      "\r",
      "  7%|▋         | 643/9716 [42:36<10:01:10,  3.98s/it]"
     ]
    },
    {
     "name": "stdout",
     "output_type": "stream",
     "text": [
      "166070 20 10931 155132 [12552, 12551, 12550, 12549, 12548, 12547, 12546, 12545, 12544, 12543, 12542, 12541, 12540, 12539, 12538, 12537, 12536, 12535, 12534, 12533]\n"
     ]
    },
    {
     "name": "stderr",
     "output_type": "stream",
     "text": [
      "\r",
      "  7%|▋         | 644/9716 [42:39<10:01:02,  3.98s/it]"
     ]
    },
    {
     "name": "stdout",
     "output_type": "stream",
     "text": [
      "166070 20 10948 155122 [12569, 12568, 12567, 12566, 12565, 12564, 12563, 12562, 12561, 12560, 12559, 12558, 12557, 12556, 12555, 12554, 12553, 12552, 12551, 12550]\n"
     ]
    },
    {
     "name": "stderr",
     "output_type": "stream",
     "text": [
      "\r",
      "  7%|▋         | 645/9716 [42:44<10:01:02,  3.98s/it]"
     ]
    },
    {
     "name": "stdout",
     "output_type": "stream",
     "text": [
      "166070 20 10965 155105 [12586, 12585, 12584, 12583, 12582, 12581, 12580, 12579, 12578, 12577, 12576, 12575, 12574, 12573, 12572, 12571, 12570, 12569, 12568, 12567]\n"
     ]
    },
    {
     "name": "stderr",
     "output_type": "stream",
     "text": [
      "\r",
      "  7%|▋         | 646/9716 [42:48<10:00:56,  3.98s/it]"
     ]
    },
    {
     "name": "stdout",
     "output_type": "stream",
     "text": [
      "166070 20 10982 155088 [12603, 12602, 12601, 12600, 12599, 12598, 12597, 12596, 12595, 12594, 12593, 12592, 12591, 12590, 12589, 12588, 12587, 12586, 12585, 12584]\n"
     ]
    },
    {
     "name": "stderr",
     "output_type": "stream",
     "text": [
      "\r",
      "  7%|▋         | 647/9716 [42:51<10:00:46,  3.97s/it]"
     ]
    },
    {
     "name": "stdout",
     "output_type": "stream",
     "text": [
      "166070 20 10999 155071 [12620, 12619, 12618, 12617, 12616, 12615, 12614, 12613, 12612, 12611, 12610, 12609, 12608, 12607, 12606, 12605, 12604, 12603, 12602, 12601]\n"
     ]
    },
    {
     "name": "stderr",
     "output_type": "stream",
     "text": [
      "\r",
      "  7%|▋         | 648/9716 [42:54<10:00:33,  3.97s/it]"
     ]
    },
    {
     "name": "stdout",
     "output_type": "stream",
     "text": [
      "166070 20 11016 155054 [12637, 12636, 12635, 12634, 12633, 12632, 12631, 12630, 12629, 12628, 12627, 12626, 12625, 12624, 12623, 12622, 12621, 12620, 12619, 12618]\n"
     ]
    },
    {
     "name": "stderr",
     "output_type": "stream",
     "text": [
      "\r",
      "  7%|▋         | 649/9716 [42:58<10:00:17,  3.97s/it]"
     ]
    },
    {
     "name": "stdout",
     "output_type": "stream",
     "text": [
      "166070 20 11033 155037 [12654, 12653, 12652, 12651, 12650, 12649, 12648, 12647, 12646, 12645, 12644, 12643, 12642, 12641, 12640, 12639, 12638, 12637, 12636, 12635]\n"
     ]
    },
    {
     "name": "stderr",
     "output_type": "stream",
     "text": [
      "\r",
      "  7%|▋         | 650/9716 [43:01<10:00:00,  3.97s/it]"
     ]
    },
    {
     "name": "stdout",
     "output_type": "stream",
     "text": [
      "166075 20 11050 155020 [12671, 12670, 12669, 12668, 12667, 12666, 12665, 12664, 12663, 12662, 12661, 12660, 12659, 12658, 12657, 12656, 12655, 12654, 12653, 12652]\n"
     ]
    },
    {
     "name": "stderr",
     "output_type": "stream",
     "text": [
      "\r",
      "  7%|▋         | 651/9716 [43:04<9:59:46,  3.97s/it] "
     ]
    },
    {
     "name": "stdout",
     "output_type": "stream",
     "text": [
      "166075 20 11067 155008 [12688, 12687, 12686, 12685, 12684, 12683, 12682, 12681, 12680, 12679, 12678, 12677, 12676, 12675, 12674, 12673, 12672, 12671, 12670, 12669]\n"
     ]
    },
    {
     "name": "stderr",
     "output_type": "stream",
     "text": [
      "\r",
      "  7%|▋         | 652/9716 [43:07<9:59:29,  3.97s/it]"
     ]
    },
    {
     "name": "stdout",
     "output_type": "stream",
     "text": [
      "166076 20 11084 154991 [12706, 12705, 12704, 12703, 12702, 12701, 12700, 12699, 12698, 12697, 12696, 12695, 12694, 12693, 12692, 12691, 12690, 12689, 12688, 12687]\n"
     ]
    },
    {
     "name": "stderr",
     "output_type": "stream",
     "text": [
      "\r",
      "  7%|▋         | 653/9716 [43:10<9:59:13,  3.97s/it]"
     ]
    },
    {
     "name": "stdout",
     "output_type": "stream",
     "text": [
      "166076 20 11101 154975 [12722, 12721, 12720, 12719, 12718, 12717, 12716, 12715, 12714, 12713, 12712, 12711, 12710, 12709, 12708, 12707, 12706, 12705, 12704, 12703]\n"
     ]
    },
    {
     "name": "stderr",
     "output_type": "stream",
     "text": [
      "\r",
      "  7%|▋         | 654/9716 [43:14<9:59:05,  3.97s/it]"
     ]
    },
    {
     "name": "stdout",
     "output_type": "stream",
     "text": [
      "166076 20 11118 154958 [12739, 12738, 12737, 12736, 12735, 12734, 12733, 12732, 12731, 12730, 12729, 12728, 12727, 12726, 12725, 12724, 12723, 12722, 12721, 12720]\n"
     ]
    },
    {
     "name": "stderr",
     "output_type": "stream",
     "text": [
      "\r",
      "  7%|▋         | 655/9716 [43:17<9:58:54,  3.97s/it]"
     ]
    },
    {
     "name": "stdout",
     "output_type": "stream",
     "text": [
      "166076 20 11135 154941 [12756, 12755, 12754, 12753, 12752, 12751, 12750, 12749, 12748, 12747, 12746, 12745, 12744, 12743, 12742, 12741, 12740, 12739, 12738, 12737]\n"
     ]
    },
    {
     "name": "stderr",
     "output_type": "stream",
     "text": [
      "\r",
      "  7%|▋         | 656/9716 [43:21<9:58:45,  3.97s/it]"
     ]
    },
    {
     "name": "stdout",
     "output_type": "stream",
     "text": [
      "166076 20 11152 154924 [12773, 12772, 12771, 12770, 12769, 12768, 12767, 12766, 12765, 12764, 12763, 12762, 12761, 12760, 12759, 12758, 12757, 12756, 12755, 12754]\n"
     ]
    },
    {
     "name": "stderr",
     "output_type": "stream",
     "text": [
      "\r",
      "  7%|▋         | 657/9716 [43:24<9:58:35,  3.96s/it]"
     ]
    },
    {
     "name": "stdout",
     "output_type": "stream",
     "text": [
      "166076 20 11169 154907 [12790, 12789, 12788, 12787, 12786, 12785, 12784, 12783, 12782, 12781, 12780, 12779, 12778, 12777, 12776, 12775, 12774, 12773, 12772, 12771]\n"
     ]
    },
    {
     "name": "stderr",
     "output_type": "stream",
     "text": [
      "\r",
      "  7%|▋         | 658/9716 [43:27<9:58:19,  3.96s/it]"
     ]
    },
    {
     "name": "stdout",
     "output_type": "stream",
     "text": [
      "166076 20 11186 154890 [12807, 12806, 12805, 12804, 12803, 12802, 12801, 12800, 12799, 12798, 12797, 12796, 12795, 12794, 12793, 12792, 12791, 12790, 12789, 12788]\n"
     ]
    },
    {
     "name": "stderr",
     "output_type": "stream",
     "text": [
      "\r",
      "  7%|▋         | 659/9716 [43:31<9:58:06,  3.96s/it]"
     ]
    },
    {
     "name": "stdout",
     "output_type": "stream",
     "text": [
      "166077 20 11203 154873 [12824, 12823, 12822, 12821, 12820, 12819, 12818, 12817, 12816, 12815, 12814, 12813, 12812, 12811, 12810, 12809, 12808, 12807, 12806, 12805]\n"
     ]
    },
    {
     "name": "stderr",
     "output_type": "stream",
     "text": [
      "\r",
      "  7%|▋         | 660/9716 [43:34<9:57:57,  3.96s/it]"
     ]
    },
    {
     "name": "stdout",
     "output_type": "stream",
     "text": [
      "166080 20 11220 154857 [12841, 12840, 12839, 12838, 12837, 12836, 12835, 12834, 12833, 12832, 12831, 12830, 12829, 12828, 12827, 12826, 12825, 12824, 12823, 12822]\n"
     ]
    },
    {
     "name": "stderr",
     "output_type": "stream",
     "text": [
      "\r",
      "  7%|▋         | 661/9716 [43:38<9:57:46,  3.96s/it]"
     ]
    },
    {
     "name": "stdout",
     "output_type": "stream",
     "text": [
      "166080 20 11237 154843 [12858, 12857, 12856, 12855, 12854, 12853, 12852, 12851, 12850, 12849, 12848, 12847, 12846, 12845, 12844, 12843, 12842, 12841, 12840, 12839]\n"
     ]
    },
    {
     "name": "stderr",
     "output_type": "stream",
     "text": [
      "\r",
      "  7%|▋         | 662/9716 [43:41<9:57:33,  3.96s/it]"
     ]
    },
    {
     "name": "stdout",
     "output_type": "stream",
     "text": [
      "166080 20 11254 154826 [12875, 12874, 12873, 12872, 12871, 12870, 12869, 12868, 12867, 12866, 12865, 12864, 12863, 12862, 12861, 12860, 12859, 12858, 12857, 12856]\n"
     ]
    },
    {
     "name": "stderr",
     "output_type": "stream",
     "text": [
      "\r",
      "  7%|▋         | 663/9716 [43:45<9:57:26,  3.96s/it]"
     ]
    },
    {
     "name": "stdout",
     "output_type": "stream",
     "text": [
      "166080 20 11271 154809 [12892, 12891, 12890, 12889, 12888, 12887, 12886, 12885, 12884, 12883, 12882, 12881, 12880, 12879, 12878, 12877, 12876, 12875, 12874, 12873]\n"
     ]
    },
    {
     "name": "stderr",
     "output_type": "stream",
     "text": [
      "\r",
      "  7%|▋         | 664/9716 [43:48<9:57:13,  3.96s/it]"
     ]
    },
    {
     "name": "stdout",
     "output_type": "stream",
     "text": [
      "166080 20 11288 154792 [12909, 12908, 12907, 12906, 12905, 12904, 12903, 12902, 12901, 12900, 12899, 12898, 12897, 12896, 12895, 12894, 12893, 12892, 12891, 12890]\n"
     ]
    },
    {
     "name": "stderr",
     "output_type": "stream",
     "text": [
      "\r",
      "  7%|▋         | 665/9716 [43:52<9:57:02,  3.96s/it]"
     ]
    },
    {
     "name": "stdout",
     "output_type": "stream",
     "text": [
      "166080 20 11305 154775 [12926, 12925, 12924, 12923, 12922, 12921, 12920, 12919, 12918, 12917, 12916, 12915, 12914, 12913, 12912, 12911, 12910, 12909, 12908, 12907]\n"
     ]
    },
    {
     "name": "stderr",
     "output_type": "stream",
     "text": [
      "\r",
      "  7%|▋         | 666/9716 [43:55<9:56:54,  3.96s/it]"
     ]
    },
    {
     "name": "stdout",
     "output_type": "stream",
     "text": [
      "166080 20 11322 154758 [12943, 12942, 12941, 12940, 12939, 12938, 12937, 12936, 12935, 12934, 12933, 12932, 12931, 12930, 12929, 12928, 12927, 12926, 12925, 12924]\n"
     ]
    },
    {
     "name": "stderr",
     "output_type": "stream",
     "text": [
      "\r",
      "  7%|▋         | 667/9716 [43:58<9:56:41,  3.96s/it]"
     ]
    },
    {
     "name": "stdout",
     "output_type": "stream",
     "text": [
      "166080 20 11339 154741 [12960, 12959, 12958, 12957, 12956, 12955, 12954, 12953, 12952, 12951, 12950, 12949, 12948, 12947, 12946, 12945, 12944, 12943, 12942, 12941]\n"
     ]
    },
    {
     "name": "stderr",
     "output_type": "stream",
     "text": [
      "\r",
      "  7%|▋         | 668/9716 [44:02<9:56:26,  3.96s/it]"
     ]
    },
    {
     "name": "stdout",
     "output_type": "stream",
     "text": [
      "166086 20 11356 154724 [12979, 12978, 12977, 12976, 12975, 12974, 12973, 12972, 12971, 12970, 12969, 12968, 12967, 12966, 12965, 12964, 12963, 12962, 12961, 12960]\n"
     ]
    },
    {
     "name": "stderr",
     "output_type": "stream",
     "text": [
      "\r",
      "  7%|▋         | 669/9716 [44:05<9:56:14,  3.95s/it]"
     ]
    },
    {
     "name": "stdout",
     "output_type": "stream",
     "text": [
      "166086 20 11373 154713 [12994, 12993, 12992, 12991, 12990, 12989, 12988, 12987, 12986, 12985, 12984, 12983, 12982, 12981, 12980, 12979, 12978, 12977, 12976, 12975]\n"
     ]
    },
    {
     "name": "stderr",
     "output_type": "stream",
     "text": [
      "\r",
      "  7%|▋         | 670/9716 [44:08<9:56:03,  3.95s/it]"
     ]
    },
    {
     "name": "stdout",
     "output_type": "stream",
     "text": [
      "166091 20 11390 154696 [13011, 13010, 13009, 13008, 13007, 13006, 13005, 13004, 13003, 13002, 13001, 13000, 12999, 12998, 12997, 12996, 12995, 12994, 12993, 12992]\n"
     ]
    },
    {
     "name": "stderr",
     "output_type": "stream",
     "text": [
      "\r",
      "  7%|▋         | 671/9716 [44:11<9:55:45,  3.95s/it]"
     ]
    },
    {
     "name": "stdout",
     "output_type": "stream",
     "text": [
      "166091 20 11407 154684 [13028, 13027, 13026, 13025, 13024, 13023, 13022, 13021, 13020, 13019, 13018, 13017, 13016, 13015, 13014, 13013, 13012, 13011, 13010, 13009]\n"
     ]
    },
    {
     "name": "stderr",
     "output_type": "stream",
     "text": [
      "\r",
      "  7%|▋         | 672/9716 [44:14<9:55:29,  3.95s/it]"
     ]
    },
    {
     "name": "stdout",
     "output_type": "stream",
     "text": [
      "166091 20 11424 154667 [13045, 13044, 13043, 13042, 13041, 13040, 13039, 13038, 13037, 13036, 13035, 13034, 13033, 13032, 13031, 13030, 13029, 13028, 13027, 13026]\n"
     ]
    },
    {
     "name": "stderr",
     "output_type": "stream",
     "text": [
      "\r",
      "  7%|▋         | 673/9716 [44:17<9:55:13,  3.95s/it]"
     ]
    },
    {
     "name": "stdout",
     "output_type": "stream",
     "text": [
      "166102 20 11441 154650 [13062, 13061, 13060, 13059, 13058, 13057, 13056, 13055, 13054, 13053, 13052, 13051, 13050, 13049, 13048, 13047, 13046, 13045, 13044, 13043]\n"
     ]
    },
    {
     "name": "stderr",
     "output_type": "stream",
     "text": [
      "\r",
      "  7%|▋         | 674/9716 [44:20<9:54:55,  3.95s/it]"
     ]
    },
    {
     "name": "stdout",
     "output_type": "stream",
     "text": [
      "166102 20 11458 154644 [13079, 13078, 13077, 13076, 13075, 13074, 13073, 13072, 13071, 13070, 13069, 13068, 13067, 13066, 13065, 13064, 13063, 13062, 13061, 13060]\n"
     ]
    },
    {
     "name": "stderr",
     "output_type": "stream",
     "text": [
      "\r",
      "  7%|▋         | 675/9716 [44:23<9:54:41,  3.95s/it]"
     ]
    },
    {
     "name": "stdout",
     "output_type": "stream",
     "text": [
      "166102 20 11475 154627 [13096, 13095, 13094, 13093, 13092, 13091, 13090, 13089, 13088, 13087, 13086, 13085, 13084, 13083, 13082, 13081, 13080, 13079, 13078, 13077]\n"
     ]
    },
    {
     "name": "stderr",
     "output_type": "stream",
     "text": [
      "\r",
      "  7%|▋         | 676/9716 [44:27<9:54:30,  3.95s/it]"
     ]
    },
    {
     "name": "stdout",
     "output_type": "stream",
     "text": [
      "166102 20 11492 154610 [13113, 13112, 13111, 13110, 13109, 13108, 13107, 13106, 13105, 13104, 13103, 13102, 13101, 13100, 13099, 13098, 13097, 13096, 13095, 13094]\n"
     ]
    },
    {
     "name": "stderr",
     "output_type": "stream",
     "text": [
      "\r",
      "  7%|▋         | 677/9716 [44:30<9:54:18,  3.94s/it]"
     ]
    },
    {
     "name": "stdout",
     "output_type": "stream",
     "text": [
      "166109 20 11509 154593 [13130, 13129, 13128, 13127, 13126, 13125, 13124, 13123, 13122, 13121, 13120, 13119, 13118, 13117, 13116, 13115, 13114, 13113, 13112, 13111]\n"
     ]
    },
    {
     "name": "stderr",
     "output_type": "stream",
     "text": [
      "\r",
      "  7%|▋         | 678/9716 [44:34<9:54:12,  3.94s/it]"
     ]
    },
    {
     "name": "stdout",
     "output_type": "stream",
     "text": [
      "166109 20 11526 154583 [13147, 13146, 13145, 13144, 13143, 13142, 13141, 13140, 13139, 13138, 13137, 13136, 13135, 13134, 13133, 13132, 13131, 13130, 13129, 13128]\n"
     ]
    },
    {
     "name": "stderr",
     "output_type": "stream",
     "text": [
      "\r",
      "  7%|▋         | 679/9716 [44:37<9:53:59,  3.94s/it]"
     ]
    },
    {
     "name": "stdout",
     "output_type": "stream",
     "text": [
      "166109 20 11543 154566 [13164, 13163, 13162, 13161, 13160, 13159, 13158, 13157, 13156, 13155, 13154, 13153, 13152, 13151, 13150, 13149, 13148, 13147, 13146, 13145]\n"
     ]
    },
    {
     "name": "stderr",
     "output_type": "stream",
     "text": [
      "\r",
      "  7%|▋         | 680/9716 [44:41<9:53:46,  3.94s/it]"
     ]
    },
    {
     "name": "stdout",
     "output_type": "stream",
     "text": [
      "166109 20 11560 154549 [13181, 13180, 13179, 13178, 13177, 13176, 13175, 13174, 13173, 13172, 13171, 13170, 13169, 13168, 13167, 13166, 13165, 13164, 13163, 13162]\n"
     ]
    },
    {
     "name": "stderr",
     "output_type": "stream",
     "text": [
      "\r",
      "  7%|▋         | 681/9716 [44:44<9:53:39,  3.94s/it]"
     ]
    },
    {
     "name": "stdout",
     "output_type": "stream",
     "text": [
      "166109 20 11577 154532 [13198, 13197, 13196, 13195, 13194, 13193, 13192, 13191, 13190, 13189, 13188, 13187, 13186, 13185, 13184, 13183, 13182, 13181, 13180, 13179]\n"
     ]
    },
    {
     "name": "stderr",
     "output_type": "stream",
     "text": [
      "\r",
      "  7%|▋         | 682/9716 [44:47<9:53:23,  3.94s/it]"
     ]
    },
    {
     "name": "stdout",
     "output_type": "stream",
     "text": [
      "166109 20 11594 154515 [13215, 13214, 13213, 13212, 13211, 13210, 13209, 13208, 13207, 13206, 13205, 13204, 13203, 13202, 13201, 13200, 13199, 13198, 13197, 13196]\n"
     ]
    },
    {
     "name": "stderr",
     "output_type": "stream",
     "text": [
      "\r",
      "  7%|▋         | 683/9716 [44:50<9:53:08,  3.94s/it]"
     ]
    },
    {
     "name": "stdout",
     "output_type": "stream",
     "text": [
      "166109 20 11611 154498 [13232, 13231, 13230, 13229, 13228, 13227, 13226, 13225, 13224, 13223, 13222, 13221, 13220, 13219, 13218, 13217, 13216, 13215, 13214, 13213]\n"
     ]
    },
    {
     "name": "stderr",
     "output_type": "stream",
     "text": [
      "\r",
      "  7%|▋         | 684/9716 [44:53<9:52:52,  3.94s/it]"
     ]
    },
    {
     "name": "stdout",
     "output_type": "stream",
     "text": [
      "166109 20 11628 154481 [13249, 13248, 13247, 13246, 13245, 13244, 13243, 13242, 13241, 13240, 13239, 13238, 13237, 13236, 13235, 13234, 13233, 13232, 13231, 13230]\n"
     ]
    },
    {
     "name": "stderr",
     "output_type": "stream",
     "text": [
      "\r",
      "  7%|▋         | 685/9716 [44:57<9:52:38,  3.94s/it]"
     ]
    },
    {
     "name": "stdout",
     "output_type": "stream",
     "text": [
      "166109 20 11645 154464 [13266, 13265, 13264, 13263, 13262, 13261, 13260, 13259, 13258, 13257, 13256, 13255, 13254, 13253, 13252, 13251, 13250, 13249, 13248, 13247]\n"
     ]
    },
    {
     "name": "stderr",
     "output_type": "stream",
     "text": [
      "\r",
      "  7%|▋         | 686/9716 [45:00<9:52:28,  3.94s/it]"
     ]
    },
    {
     "name": "stdout",
     "output_type": "stream",
     "text": [
      "166109 20 11662 154447 [13283, 13282, 13281, 13280, 13279, 13278, 13277, 13276, 13275, 13274, 13273, 13272, 13271, 13270, 13269, 13268, 13267, 13266, 13265, 13264]\n"
     ]
    },
    {
     "name": "stderr",
     "output_type": "stream",
     "text": [
      "\r",
      "  7%|▋         | 687/9716 [45:03<9:52:16,  3.94s/it]"
     ]
    },
    {
     "name": "stdout",
     "output_type": "stream",
     "text": [
      "166114 20 11679 154430 [13300, 13299, 13298, 13297, 13296, 13295, 13294, 13293, 13292, 13291, 13290, 13289, 13288, 13287, 13286, 13285, 13284, 13283, 13282, 13281]\n"
     ]
    },
    {
     "name": "stderr",
     "output_type": "stream",
     "text": [
      "\r",
      "  7%|▋         | 688/9716 [45:07<9:52:01,  3.93s/it]"
     ]
    },
    {
     "name": "stdout",
     "output_type": "stream",
     "text": [
      "166114 20 11696 154418 [13317, 13316, 13315, 13314, 13313, 13312, 13311, 13310, 13309, 13308, 13307, 13306, 13305, 13304, 13303, 13302, 13301, 13300, 13299, 13298]\n"
     ]
    },
    {
     "name": "stderr",
     "output_type": "stream",
     "text": [
      "\r",
      "  7%|▋         | 689/9716 [45:10<9:51:48,  3.93s/it]"
     ]
    },
    {
     "name": "stdout",
     "output_type": "stream",
     "text": [
      "166114 20 11713 154401 [13334, 13333, 13332, 13331, 13330, 13329, 13328, 13327, 13326, 13325, 13324, 13323, 13322, 13321, 13320, 13319, 13318, 13317, 13316, 13315]\n"
     ]
    },
    {
     "name": "stderr",
     "output_type": "stream",
     "text": [
      "\r",
      "  7%|▋         | 690/9716 [45:13<9:51:36,  3.93s/it]"
     ]
    },
    {
     "name": "stdout",
     "output_type": "stream",
     "text": [
      "166114 20 11730 154384 [13351, 13350, 13349, 13348, 13347, 13346, 13345, 13344, 13343, 13342, 13341, 13340, 13339, 13338, 13337, 13336, 13335, 13334, 13333, 13332]\n"
     ]
    },
    {
     "name": "stderr",
     "output_type": "stream",
     "text": [
      "\r",
      "  7%|▋         | 691/9716 [45:16<9:51:23,  3.93s/it]"
     ]
    },
    {
     "name": "stdout",
     "output_type": "stream",
     "text": [
      "166114 20 11747 154367 [13368, 13367, 13366, 13365, 13364, 13363, 13362, 13361, 13360, 13359, 13358, 13357, 13356, 13355, 13354, 13353, 13352, 13351, 13350, 13349]\n"
     ]
    },
    {
     "name": "stderr",
     "output_type": "stream",
     "text": [
      "\r",
      "  7%|▋         | 692/9716 [45:20<9:51:16,  3.93s/it]"
     ]
    },
    {
     "name": "stdout",
     "output_type": "stream",
     "text": [
      "166114 20 11764 154350 [13385, 13384, 13383, 13382, 13381, 13380, 13379, 13378, 13377, 13376, 13375, 13374, 13373, 13372, 13371, 13370, 13369, 13368, 13367, 13366]\n"
     ]
    },
    {
     "name": "stderr",
     "output_type": "stream",
     "text": [
      "\r",
      "  7%|▋         | 693/9716 [45:23<9:51:02,  3.93s/it]"
     ]
    },
    {
     "name": "stdout",
     "output_type": "stream",
     "text": [
      "166114 20 11781 154333 [13402, 13401, 13400, 13399, 13398, 13397, 13396, 13395, 13394, 13393, 13392, 13391, 13390, 13389, 13388, 13387, 13386, 13385, 13384, 13383]\n"
     ]
    },
    {
     "name": "stderr",
     "output_type": "stream",
     "text": [
      "\r",
      "  7%|▋         | 694/9716 [45:27<9:50:54,  3.93s/it]"
     ]
    },
    {
     "name": "stdout",
     "output_type": "stream",
     "text": [
      "166114 20 11798 154316 [13419, 13418, 13417, 13416, 13415, 13414, 13413, 13412, 13411, 13410, 13409, 13408, 13407, 13406, 13405, 13404, 13403, 13402, 13401, 13400]\n"
     ]
    },
    {
     "name": "stderr",
     "output_type": "stream",
     "text": [
      "\r",
      "  7%|▋         | 695/9716 [45:31<9:50:48,  3.93s/it]"
     ]
    },
    {
     "name": "stdout",
     "output_type": "stream",
     "text": [
      "166120 20 11815 154299 [13436, 13435, 13434, 13433, 13432, 13431, 13430, 13429, 13428, 13427, 13426, 13425, 13424, 13423, 13422, 13421, 13420, 13419, 13418, 13417]\n"
     ]
    },
    {
     "name": "stderr",
     "output_type": "stream",
     "text": [
      "\r",
      "  7%|▋         | 696/9716 [45:34<9:50:41,  3.93s/it]"
     ]
    },
    {
     "name": "stdout",
     "output_type": "stream",
     "text": [
      "166120 20 11832 154288 [13453, 13452, 13451, 13450, 13449, 13448, 13447, 13446, 13445, 13444, 13443, 13442, 13441, 13440, 13439, 13438, 13437, 13436, 13435, 13434]\n"
     ]
    },
    {
     "name": "stderr",
     "output_type": "stream",
     "text": [
      "\r",
      "  7%|▋         | 697/9716 [45:38<9:50:32,  3.93s/it]"
     ]
    },
    {
     "name": "stdout",
     "output_type": "stream",
     "text": [
      "166120 20 11849 154271 [13470, 13469, 13468, 13467, 13466, 13465, 13464, 13463, 13462, 13461, 13460, 13459, 13458, 13457, 13456, 13455, 13454, 13453, 13452, 13451]\n"
     ]
    },
    {
     "name": "stderr",
     "output_type": "stream",
     "text": [
      "\r",
      "  7%|▋         | 698/9716 [45:42<9:50:36,  3.93s/it]"
     ]
    },
    {
     "name": "stdout",
     "output_type": "stream",
     "text": [
      "166120 20 11866 154254 [13487, 13486, 13485, 13484, 13483, 13482, 13481, 13480, 13479, 13478, 13477, 13476, 13475, 13474, 13473, 13472, 13471, 13470, 13469, 13468]\n"
     ]
    },
    {
     "name": "stderr",
     "output_type": "stream",
     "text": [
      "\r",
      "  7%|▋         | 699/9716 [45:47<9:50:38,  3.93s/it]"
     ]
    },
    {
     "name": "stdout",
     "output_type": "stream",
     "text": [
      "166120 20 11883 154237 [13504, 13503, 13502, 13501, 13500, 13499, 13498, 13497, 13496, 13495, 13494, 13493, 13492, 13491, 13490, 13489, 13488, 13487, 13486, 13485]\n"
     ]
    },
    {
     "name": "stderr",
     "output_type": "stream",
     "text": [
      "\r",
      "  7%|▋         | 700/9716 [45:50<9:50:31,  3.93s/it]"
     ]
    },
    {
     "name": "stdout",
     "output_type": "stream",
     "text": [
      "166120 20 11900 154220 [13521, 13520, 13519, 13518, 13517, 13516, 13515, 13514, 13513, 13512, 13511, 13510, 13509, 13508, 13507, 13506, 13505, 13504, 13503, 13502]\n"
     ]
    },
    {
     "name": "stderr",
     "output_type": "stream",
     "text": [
      "\r",
      "  7%|▋         | 701/9716 [45:55<9:50:34,  3.93s/it]"
     ]
    },
    {
     "name": "stdout",
     "output_type": "stream",
     "text": [
      "166120 20 11917 154203 [13538, 13537, 13536, 13535, 13534, 13533, 13532, 13531, 13530, 13529, 13528, 13527, 13526, 13525, 13524, 13523, 13522, 13521, 13520, 13519]\n"
     ]
    },
    {
     "name": "stderr",
     "output_type": "stream",
     "text": [
      "\r",
      "  7%|▋         | 702/9716 [45:59<9:50:28,  3.93s/it]"
     ]
    },
    {
     "name": "stdout",
     "output_type": "stream",
     "text": [
      "166123 20 11934 154186 [13557, 13556, 13555, 13554, 13553, 13552, 13551, 13550, 13549, 13548, 13547, 13546, 13545, 13544, 13543, 13542, 13541, 13540, 13539, 13538]\n"
     ]
    },
    {
     "name": "stderr",
     "output_type": "stream",
     "text": [
      "\r",
      "  7%|▋         | 703/9716 [46:03<9:50:35,  3.93s/it]"
     ]
    },
    {
     "name": "stdout",
     "output_type": "stream",
     "text": [
      "166128 20 11951 154172 [13572, 13571, 13570, 13569, 13568, 13567, 13566, 13565, 13564, 13563, 13562, 13561, 13560, 13559, 13558, 13557, 13556, 13555, 13554, 13553]\n"
     ]
    },
    {
     "name": "stderr",
     "output_type": "stream",
     "text": [
      "\r",
      "  7%|▋         | 704/9716 [46:08<9:50:37,  3.93s/it]"
     ]
    },
    {
     "name": "stdout",
     "output_type": "stream",
     "text": [
      "166128 20 11968 154160 [13589, 13588, 13587, 13586, 13585, 13584, 13583, 13582, 13581, 13580, 13579, 13578, 13577, 13576, 13575, 13574, 13573, 13572, 13571, 13570]\n"
     ]
    },
    {
     "name": "stderr",
     "output_type": "stream",
     "text": [
      "\r",
      "  7%|▋         | 705/9716 [46:12<9:50:33,  3.93s/it]"
     ]
    },
    {
     "name": "stdout",
     "output_type": "stream",
     "text": [
      "166128 20 11985 154143 [13606, 13605, 13604, 13603, 13602, 13601, 13600, 13599, 13598, 13597, 13596, 13595, 13594, 13593, 13592, 13591, 13590, 13589, 13588, 13587]\n"
     ]
    },
    {
     "name": "stderr",
     "output_type": "stream",
     "text": [
      "\r",
      "  7%|▋         | 706/9716 [46:15<9:50:25,  3.93s/it]"
     ]
    },
    {
     "name": "stdout",
     "output_type": "stream",
     "text": [
      "166128 20 12002 154126 [13623, 13622, 13621, 13620, 13619, 13618, 13617, 13616, 13615, 13614, 13613, 13612, 13611, 13610, 13609, 13608, 13607, 13606, 13605, 13604]\n"
     ]
    },
    {
     "name": "stderr",
     "output_type": "stream",
     "text": [
      "\r",
      "  7%|▋         | 707/9716 [46:19<9:50:24,  3.93s/it]"
     ]
    },
    {
     "name": "stdout",
     "output_type": "stream",
     "text": [
      "166128 20 12019 154109 [13640, 13639, 13638, 13637, 13636, 13635, 13634, 13633, 13632, 13631, 13630, 13629, 13628, 13627, 13626, 13625, 13624, 13623, 13622, 13621]\n"
     ]
    },
    {
     "name": "stderr",
     "output_type": "stream",
     "text": [
      "\r",
      "  7%|▋         | 708/9716 [46:23<9:50:14,  3.93s/it]"
     ]
    },
    {
     "name": "stdout",
     "output_type": "stream",
     "text": [
      "166128 20 12036 154092 [13657, 13656, 13655, 13654, 13653, 13652, 13651, 13650, 13649, 13648, 13647, 13646, 13645, 13644, 13643, 13642, 13641, 13640, 13639, 13638]\n"
     ]
    },
    {
     "name": "stderr",
     "output_type": "stream",
     "text": [
      "\r",
      "  7%|▋         | 709/9716 [46:27<9:50:07,  3.93s/it]"
     ]
    },
    {
     "name": "stdout",
     "output_type": "stream",
     "text": [
      "166128 20 12053 154075 [13674, 13673, 13672, 13671, 13670, 13669, 13668, 13667, 13666, 13665, 13664, 13663, 13662, 13661, 13660, 13659, 13658, 13657, 13656, 13655]\n"
     ]
    },
    {
     "name": "stderr",
     "output_type": "stream",
     "text": [
      "\r",
      "  7%|▋         | 710/9716 [46:31<9:50:02,  3.93s/it]"
     ]
    },
    {
     "name": "stdout",
     "output_type": "stream",
     "text": [
      "166135 20 12070 154058 [13691, 13690, 13689, 13688, 13687, 13686, 13685, 13684, 13683, 13682, 13681, 13680, 13679, 13678, 13677, 13676, 13675, 13674, 13673, 13672]\n"
     ]
    },
    {
     "name": "stderr",
     "output_type": "stream",
     "text": [
      "\r",
      "  7%|▋         | 711/9716 [46:34<9:49:49,  3.93s/it]"
     ]
    },
    {
     "name": "stdout",
     "output_type": "stream",
     "text": [
      "166135 20 12087 154048 [13708, 13707, 13706, 13705, 13704, 13703, 13702, 13701, 13700, 13699, 13698, 13697, 13696, 13695, 13694, 13693, 13692, 13691, 13690, 13689]\n"
     ]
    },
    {
     "name": "stderr",
     "output_type": "stream",
     "text": [
      "\r",
      "  7%|▋         | 712/9716 [46:38<9:49:45,  3.93s/it]"
     ]
    },
    {
     "name": "stdout",
     "output_type": "stream",
     "text": [
      "166135 20 12104 154031 [13725, 13724, 13723, 13722, 13721, 13720, 13719, 13718, 13717, 13716, 13715, 13714, 13713, 13712, 13711, 13710, 13709, 13708, 13707, 13706]\n"
     ]
    },
    {
     "name": "stderr",
     "output_type": "stream",
     "text": [
      "\r",
      "  7%|▋         | 713/9716 [46:41<9:49:35,  3.93s/it]"
     ]
    },
    {
     "name": "stdout",
     "output_type": "stream",
     "text": [
      "166135 20 12121 154014 [13742, 13741, 13740, 13739, 13738, 13737, 13736, 13735, 13734, 13733, 13732, 13731, 13730, 13729, 13728, 13727, 13726, 13725, 13724, 13723]\n"
     ]
    },
    {
     "name": "stderr",
     "output_type": "stream",
     "text": [
      "\r",
      "  7%|▋         | 714/9716 [46:45<9:49:34,  3.93s/it]"
     ]
    },
    {
     "name": "stdout",
     "output_type": "stream",
     "text": [
      "166135 20 12138 153997 [13759, 13758, 13757, 13756, 13755, 13754, 13753, 13752, 13751, 13750, 13749, 13748, 13747, 13746, 13745, 13744, 13743, 13742, 13741, 13740]\n"
     ]
    },
    {
     "name": "stderr",
     "output_type": "stream",
     "text": [
      "\r",
      "  7%|▋         | 715/9716 [46:49<9:49:22,  3.93s/it]"
     ]
    },
    {
     "name": "stdout",
     "output_type": "stream",
     "text": [
      "166135 20 12155 153980 [13776, 13775, 13774, 13773, 13772, 13771, 13770, 13769, 13768, 13767, 13766, 13765, 13764, 13763, 13762, 13761, 13760, 13759, 13758, 13757]\n"
     ]
    },
    {
     "name": "stderr",
     "output_type": "stream",
     "text": [
      "\r",
      "  7%|▋         | 716/9716 [46:52<9:49:12,  3.93s/it]"
     ]
    },
    {
     "name": "stdout",
     "output_type": "stream",
     "text": [
      "166146 20 12172 153963 [13793, 13792, 13791, 13790, 13789, 13788, 13787, 13786, 13785, 13784, 13783, 13782, 13781, 13780, 13779, 13778, 13777, 13776, 13775, 13774]\n"
     ]
    },
    {
     "name": "stderr",
     "output_type": "stream",
     "text": [
      "\r",
      "  7%|▋         | 717/9716 [46:55<9:48:57,  3.93s/it]"
     ]
    },
    {
     "name": "stdout",
     "output_type": "stream",
     "text": [
      "166146 20 12189 153957 [13810, 13809, 13808, 13807, 13806, 13805, 13804, 13803, 13802, 13801, 13800, 13799, 13798, 13797, 13796, 13795, 13794, 13793, 13792, 13791]\n"
     ]
    },
    {
     "name": "stderr",
     "output_type": "stream",
     "text": [
      "\r",
      "  7%|▋         | 718/9716 [46:58<9:48:41,  3.93s/it]"
     ]
    },
    {
     "name": "stdout",
     "output_type": "stream",
     "text": [
      "166146 20 12206 153940 [13827, 13826, 13825, 13824, 13823, 13822, 13821, 13820, 13819, 13818, 13817, 13816, 13815, 13814, 13813, 13812, 13811, 13810, 13809, 13808]\n"
     ]
    },
    {
     "name": "stderr",
     "output_type": "stream",
     "text": [
      "\r",
      "  7%|▋         | 719/9716 [47:01<9:48:26,  3.92s/it]"
     ]
    },
    {
     "name": "stdout",
     "output_type": "stream",
     "text": [
      "166146 20 12223 153923 [13844, 13843, 13842, 13841, 13840, 13839, 13838, 13837, 13836, 13835, 13834, 13833, 13832, 13831, 13830, 13829, 13828, 13827, 13826, 13825]\n"
     ]
    },
    {
     "name": "stderr",
     "output_type": "stream",
     "text": [
      "\r",
      "  7%|▋         | 720/9716 [47:05<9:48:16,  3.92s/it]"
     ]
    },
    {
     "name": "stdout",
     "output_type": "stream",
     "text": [
      "166152 20 12240 153906 [13865, 13864, 13863, 13862, 13861, 13860, 13859, 13858, 13857, 13856, 13855, 13854, 13853, 13852, 13851, 13850, 13849, 13848, 13847, 13846]\n"
     ]
    },
    {
     "name": "stderr",
     "output_type": "stream",
     "text": [
      "\r",
      "  7%|▋         | 721/9716 [47:08<9:48:02,  3.92s/it]"
     ]
    },
    {
     "name": "stdout",
     "output_type": "stream",
     "text": [
      "166152 20 12257 153895 [13878, 13877, 13876, 13875, 13874, 13873, 13872, 13871, 13870, 13869, 13868, 13867, 13866, 13865, 13864, 13863, 13862, 13861, 13860, 13859]\n"
     ]
    },
    {
     "name": "stderr",
     "output_type": "stream",
     "text": [
      "\r",
      "  7%|▋         | 722/9716 [47:11<9:47:48,  3.92s/it]"
     ]
    },
    {
     "name": "stdout",
     "output_type": "stream",
     "text": [
      "166152 20 12274 153878 [13895, 13894, 13893, 13892, 13891, 13890, 13889, 13888, 13887, 13886, 13885, 13884, 13883, 13882, 13881, 13880, 13879, 13878, 13877, 13876]\n"
     ]
    },
    {
     "name": "stderr",
     "output_type": "stream",
     "text": [
      "\r",
      "  7%|▋         | 723/9716 [47:15<9:47:43,  3.92s/it]"
     ]
    },
    {
     "name": "stdout",
     "output_type": "stream",
     "text": [
      "166152 20 12291 153861 [13912, 13911, 13910, 13909, 13908, 13907, 13906, 13905, 13904, 13903, 13902, 13901, 13900, 13899, 13898, 13897, 13896, 13895, 13894, 13893]\n"
     ]
    },
    {
     "name": "stderr",
     "output_type": "stream",
     "text": [
      "\r",
      "  7%|▋         | 724/9716 [47:17<9:47:26,  3.92s/it]"
     ]
    },
    {
     "name": "stdout",
     "output_type": "stream",
     "text": [
      "166152 20 12308 153844 [13929, 13928, 13927, 13926, 13925, 13924, 13923, 13922, 13921, 13920, 13919, 13918, 13917, 13916, 13915, 13914, 13913, 13912, 13911, 13910]\n"
     ]
    },
    {
     "name": "stderr",
     "output_type": "stream",
     "text": [
      "\r",
      "  7%|▋         | 725/9716 [47:21<9:47:14,  3.92s/it]"
     ]
    },
    {
     "name": "stdout",
     "output_type": "stream",
     "text": [
      "166152 20 12325 153827 [13946, 13945, 13944, 13943, 13942, 13941, 13940, 13939, 13938, 13937, 13936, 13935, 13934, 13933, 13932, 13931, 13930, 13929, 13928, 13927]\n"
     ]
    },
    {
     "name": "stderr",
     "output_type": "stream",
     "text": [
      "\r",
      "  7%|▋         | 726/9716 [47:24<9:47:02,  3.92s/it]"
     ]
    },
    {
     "name": "stdout",
     "output_type": "stream",
     "text": [
      "166152 20 12342 153810 [13963, 13962, 13961, 13960, 13959, 13958, 13957, 13956, 13955, 13954, 13953, 13952, 13951, 13950, 13949, 13948, 13947, 13946, 13945, 13944]\n"
     ]
    },
    {
     "name": "stderr",
     "output_type": "stream",
     "text": [
      "\r",
      "  7%|▋         | 727/9716 [47:27<9:46:49,  3.92s/it]"
     ]
    },
    {
     "name": "stdout",
     "output_type": "stream",
     "text": [
      "166152 20 12359 153793 [13980, 13979, 13978, 13977, 13976, 13975, 13974, 13973, 13972, 13971, 13970, 13969, 13968, 13967, 13966, 13965, 13964, 13963, 13962, 13961]\n"
     ]
    },
    {
     "name": "stderr",
     "output_type": "stream",
     "text": [
      "\r",
      "  7%|▋         | 728/9716 [47:30<9:46:36,  3.92s/it]"
     ]
    },
    {
     "name": "stdout",
     "output_type": "stream",
     "text": [
      "166152 20 12376 153776 [13997, 13996, 13995, 13994, 13993, 13992, 13991, 13990, 13989, 13988, 13987, 13986, 13985, 13984, 13983, 13982, 13981, 13980, 13979, 13978]\n"
     ]
    },
    {
     "name": "stderr",
     "output_type": "stream",
     "text": [
      "\r",
      "  8%|▊         | 729/9716 [47:33<9:46:19,  3.91s/it]"
     ]
    },
    {
     "name": "stdout",
     "output_type": "stream",
     "text": [
      "166152 20 12393 153759 [14014, 14013, 14012, 14011, 14010, 14009, 14008, 14007, 14006, 14005, 14004, 14003, 14002, 14001, 14000, 13999, 13998, 13997, 13996, 13995]\n"
     ]
    },
    {
     "name": "stderr",
     "output_type": "stream",
     "text": [
      "\r",
      "  8%|▊         | 730/9716 [47:36<9:46:06,  3.91s/it]"
     ]
    },
    {
     "name": "stdout",
     "output_type": "stream",
     "text": [
      "166159 20 12410 153742 [14031, 14030, 14029, 14028, 14027, 14026, 14025, 14024, 14023, 14022, 14021, 14020, 14019, 14018, 14017, 14016, 14015, 14014, 14013, 14012]\n"
     ]
    },
    {
     "name": "stderr",
     "output_type": "stream",
     "text": [
      "\r",
      "  8%|▊         | 731/9716 [47:40<9:45:53,  3.91s/it]"
     ]
    },
    {
     "name": "stdout",
     "output_type": "stream",
     "text": [
      "166168 20 12427 153732 [14054, 14053, 14052, 14051, 14050, 14049, 14048, 14047, 14046, 14045, 14044, 14043, 14042, 14041, 14040, 14039, 14038, 14037, 14036, 14035]\n"
     ]
    },
    {
     "name": "stderr",
     "output_type": "stream",
     "text": [
      "\r",
      "  8%|▊         | 732/9716 [47:43<9:45:46,  3.91s/it]"
     ]
    },
    {
     "name": "stdout",
     "output_type": "stream",
     "text": [
      "166168 20 12444 153724 [14065, 14064, 14063, 14062, 14061, 14060, 14059, 14058, 14057, 14056, 14055, 14054, 14053, 14052, 14051, 14050, 14049, 14048, 14047, 14046]\n"
     ]
    },
    {
     "name": "stderr",
     "output_type": "stream",
     "text": [
      "\r",
      "  8%|▊         | 733/9716 [47:47<9:45:37,  3.91s/it]"
     ]
    },
    {
     "name": "stdout",
     "output_type": "stream",
     "text": [
      "166168 20 12461 153707 [14082, 14081, 14080, 14079, 14078, 14077, 14076, 14075, 14074, 14073, 14072, 14071, 14070, 14069, 14068, 14067, 14066, 14065, 14064, 14063]\n"
     ]
    },
    {
     "name": "stderr",
     "output_type": "stream",
     "text": [
      "\r",
      "  8%|▊         | 734/9716 [47:50<9:45:27,  3.91s/it]"
     ]
    },
    {
     "name": "stdout",
     "output_type": "stream",
     "text": [
      "166168 20 12478 153690 [14099, 14098, 14097, 14096, 14095, 14094, 14093, 14092, 14091, 14090, 14089, 14088, 14087, 14086, 14085, 14084, 14083, 14082, 14081, 14080]\n"
     ]
    },
    {
     "name": "stderr",
     "output_type": "stream",
     "text": [
      "\r",
      "  8%|▊         | 735/9716 [47:53<9:45:14,  3.91s/it]"
     ]
    },
    {
     "name": "stdout",
     "output_type": "stream",
     "text": [
      "166184 20 12495 153673 [14118, 14117, 14116, 14115, 14114, 14113, 14112, 14111, 14110, 14109, 14108, 14107, 14106, 14105, 14104, 14103, 14102, 14101, 14100, 14099]\n"
     ]
    },
    {
     "name": "stderr",
     "output_type": "stream",
     "text": [
      "\r",
      "  8%|▊         | 736/9716 [47:57<9:45:06,  3.91s/it]"
     ]
    },
    {
     "name": "stdout",
     "output_type": "stream",
     "text": [
      "166188 20 12512 153672 [14137, 14136, 14135, 14134, 14133, 14132, 14131, 14130, 14129, 14128, 14127, 14126, 14125, 14124, 14123, 14122, 14121, 14120, 14119, 14118]\n"
     ]
    },
    {
     "name": "stderr",
     "output_type": "stream",
     "text": [
      "\r",
      "  8%|▊         | 737/9716 [48:00<9:44:55,  3.91s/it]"
     ]
    },
    {
     "name": "stdout",
     "output_type": "stream",
     "text": [
      "166188 20 12529 153659 [14150, 14149, 14148, 14147, 14146, 14145, 14144, 14143, 14142, 14141, 14140, 14139, 14138, 14137, 14136, 14135, 14134, 14133, 14132, 14131]\n"
     ]
    },
    {
     "name": "stderr",
     "output_type": "stream",
     "text": [
      "\r",
      "  8%|▊         | 738/9716 [48:03<9:44:42,  3.91s/it]"
     ]
    },
    {
     "name": "stdout",
     "output_type": "stream",
     "text": [
      "166189 20 12546 153642 [14167, 14166, 14165, 14164, 14163, 14162, 14161, 14160, 14159, 14158, 14157, 14156, 14155, 14154, 14153, 14152, 14151, 14150, 14149, 14148]\n"
     ]
    },
    {
     "name": "stderr",
     "output_type": "stream",
     "text": [
      "\r",
      "  8%|▊         | 739/9716 [48:06<9:44:29,  3.91s/it]"
     ]
    },
    {
     "name": "stdout",
     "output_type": "stream",
     "text": [
      "166189 20 12563 153626 [14184, 14183, 14182, 14181, 14180, 14179, 14178, 14177, 14176, 14175, 14174, 14173, 14172, 14171, 14170, 14169, 14168, 14167, 14166, 14165]\n"
     ]
    },
    {
     "name": "stderr",
     "output_type": "stream",
     "text": [
      "\r",
      "  8%|▊         | 740/9716 [48:10<9:44:16,  3.91s/it]"
     ]
    },
    {
     "name": "stdout",
     "output_type": "stream",
     "text": [
      "166189 20 12580 153609 [14201, 14200, 14199, 14198, 14197, 14196, 14195, 14194, 14193, 14192, 14191, 14190, 14189, 14188, 14187, 14186, 14185, 14184, 14183, 14182]\n"
     ]
    },
    {
     "name": "stderr",
     "output_type": "stream",
     "text": [
      "\r",
      "  8%|▊         | 741/9716 [48:13<9:44:03,  3.90s/it]"
     ]
    },
    {
     "name": "stdout",
     "output_type": "stream",
     "text": [
      "166189 20 12597 153592 [14218, 14217, 14216, 14215, 14214, 14213, 14212, 14211, 14210, 14209, 14208, 14207, 14206, 14205, 14204, 14203, 14202, 14201, 14200, 14199]\n"
     ]
    },
    {
     "name": "stderr",
     "output_type": "stream",
     "text": [
      "\r",
      "  8%|▊         | 742/9716 [48:16<9:43:54,  3.90s/it]"
     ]
    },
    {
     "name": "stdout",
     "output_type": "stream",
     "text": [
      "166189 20 12614 153575 [14235, 14234, 14233, 14232, 14231, 14230, 14229, 14228, 14227, 14226, 14225, 14224, 14223, 14222, 14221, 14220, 14219, 14218, 14217, 14216]\n"
     ]
    },
    {
     "name": "stderr",
     "output_type": "stream",
     "text": [
      "\r",
      "  8%|▊         | 743/9716 [48:19<9:43:40,  3.90s/it]"
     ]
    },
    {
     "name": "stdout",
     "output_type": "stream",
     "text": [
      "166189 20 12631 153558 [14252, 14251, 14250, 14249, 14248, 14247, 14246, 14245, 14244, 14243, 14242, 14241, 14240, 14239, 14238, 14237, 14236, 14235, 14234, 14233]\n"
     ]
    },
    {
     "name": "stderr",
     "output_type": "stream",
     "text": [
      "\r",
      "  8%|▊         | 744/9716 [48:23<9:43:30,  3.90s/it]"
     ]
    },
    {
     "name": "stdout",
     "output_type": "stream",
     "text": [
      "166189 20 12648 153541 [14269, 14268, 14267, 14266, 14265, 14264, 14263, 14262, 14261, 14260, 14259, 14258, 14257, 14256, 14255, 14254, 14253, 14252, 14251, 14250]\n"
     ]
    },
    {
     "name": "stderr",
     "output_type": "stream",
     "text": [
      "\r",
      "  8%|▊         | 745/9716 [48:26<9:43:23,  3.90s/it]"
     ]
    },
    {
     "name": "stdout",
     "output_type": "stream",
     "text": [
      "166189 20 12665 153524 [14286, 14285, 14284, 14283, 14282, 14281, 14280, 14279, 14278, 14277, 14276, 14275, 14274, 14273, 14272, 14271, 14270, 14269, 14268, 14267]\n"
     ]
    },
    {
     "name": "stderr",
     "output_type": "stream",
     "text": [
      "\r",
      "  8%|▊         | 746/9716 [48:30<9:43:15,  3.90s/it]"
     ]
    },
    {
     "name": "stdout",
     "output_type": "stream",
     "text": [
      "166189 20 12682 153507 [14303, 14302, 14301, 14300, 14299, 14298, 14297, 14296, 14295, 14294, 14293, 14292, 14291, 14290, 14289, 14288, 14287, 14286, 14285, 14284]\n"
     ]
    },
    {
     "name": "stderr",
     "output_type": "stream",
     "text": [
      "\r",
      "  8%|▊         | 747/9716 [48:33<9:43:07,  3.90s/it]"
     ]
    },
    {
     "name": "stdout",
     "output_type": "stream",
     "text": [
      "166193 20 12699 153490 [14320, 14319, 14318, 14317, 14316, 14315, 14314, 14313, 14312, 14311, 14310, 14309, 14308, 14307, 14306, 14305, 14304, 14303, 14302, 14301]\n"
     ]
    },
    {
     "name": "stderr",
     "output_type": "stream",
     "text": [
      "\r",
      "  8%|▊         | 748/9716 [48:37<9:42:55,  3.90s/it]"
     ]
    },
    {
     "name": "stdout",
     "output_type": "stream",
     "text": [
      "166193 20 12716 153477 [14337, 14336, 14335, 14334, 14333, 14332, 14331, 14330, 14329, 14328, 14327, 14326, 14325, 14324, 14323, 14322, 14321, 14320, 14319, 14318]\n"
     ]
    },
    {
     "name": "stderr",
     "output_type": "stream",
     "text": [
      "\r",
      "  8%|▊         | 749/9716 [48:40<9:42:45,  3.90s/it]"
     ]
    },
    {
     "name": "stdout",
     "output_type": "stream",
     "text": [
      "166196 20 12733 153460 [14354, 14353, 14352, 14351, 14350, 14349, 14348, 14347, 14346, 14345, 14344, 14343, 14342, 14341, 14340, 14339, 14338, 14337, 14336, 14335]\n"
     ]
    },
    {
     "name": "stderr",
     "output_type": "stream",
     "text": [
      "\r",
      "  8%|▊         | 750/9716 [48:44<9:42:36,  3.90s/it]"
     ]
    },
    {
     "name": "stdout",
     "output_type": "stream",
     "text": [
      "166198 20 12750 153446 [14371, 14370, 14369, 14368, 14367, 14366, 14365, 14364, 14363, 14362, 14361, 14360, 14359, 14358, 14357, 14356, 14355, 14354, 14353, 14352]\n"
     ]
    },
    {
     "name": "stderr",
     "output_type": "stream",
     "text": [
      "\r",
      "  8%|▊         | 751/9716 [48:47<9:42:30,  3.90s/it]"
     ]
    },
    {
     "name": "stdout",
     "output_type": "stream",
     "text": [
      "166199 20 12767 153431 [14389, 14388, 14387, 14386, 14385, 14384, 14383, 14382, 14381, 14380, 14379, 14378, 14377, 14376, 14375, 14374, 14373, 14372, 14371, 14370]\n"
     ]
    },
    {
     "name": "stderr",
     "output_type": "stream",
     "text": [
      "\r",
      "  8%|▊         | 752/9716 [48:50<9:42:15,  3.90s/it]"
     ]
    },
    {
     "name": "stdout",
     "output_type": "stream",
     "text": [
      "166199 20 12784 153415 [14405, 14404, 14403, 14402, 14401, 14400, 14399, 14398, 14397, 14396, 14395, 14394, 14393, 14392, 14391, 14390, 14389, 14388, 14387, 14386]\n"
     ]
    },
    {
     "name": "stderr",
     "output_type": "stream",
     "text": [
      "\r",
      "  8%|▊         | 753/9716 [48:54<9:42:09,  3.90s/it]"
     ]
    },
    {
     "name": "stdout",
     "output_type": "stream",
     "text": [
      "166199 20 12801 153398 [14422, 14421, 14420, 14419, 14418, 14417, 14416, 14415, 14414, 14413, 14412, 14411, 14410, 14409, 14408, 14407, 14406, 14405, 14404, 14403]\n"
     ]
    },
    {
     "name": "stderr",
     "output_type": "stream",
     "text": [
      "\r",
      "  8%|▊         | 754/9716 [48:57<9:41:59,  3.90s/it]"
     ]
    },
    {
     "name": "stdout",
     "output_type": "stream",
     "text": [
      "166199 20 12818 153381 [14439, 14438, 14437, 14436, 14435, 14434, 14433, 14432, 14431, 14430, 14429, 14428, 14427, 14426, 14425, 14424, 14423, 14422, 14421, 14420]\n"
     ]
    },
    {
     "name": "stderr",
     "output_type": "stream",
     "text": [
      "\r",
      "  8%|▊         | 755/9716 [49:01<9:41:49,  3.90s/it]"
     ]
    },
    {
     "name": "stdout",
     "output_type": "stream",
     "text": [
      "166199 20 12835 153364 [14456, 14455, 14454, 14453, 14452, 14451, 14450, 14449, 14448, 14447, 14446, 14445, 14444, 14443, 14442, 14441, 14440, 14439, 14438, 14437]\n"
     ]
    },
    {
     "name": "stderr",
     "output_type": "stream",
     "text": [
      "\r",
      "  8%|▊         | 756/9716 [49:04<9:41:35,  3.89s/it]"
     ]
    },
    {
     "name": "stdout",
     "output_type": "stream",
     "text": [
      "166199 20 12852 153347 [14473, 14472, 14471, 14470, 14469, 14468, 14467, 14466, 14465, 14464, 14463, 14462, 14461, 14460, 14459, 14458, 14457, 14456, 14455, 14454]\n"
     ]
    },
    {
     "name": "stderr",
     "output_type": "stream",
     "text": [
      "\r",
      "  8%|▊         | 757/9716 [49:07<9:41:26,  3.89s/it]"
     ]
    },
    {
     "name": "stdout",
     "output_type": "stream",
     "text": [
      "166199 20 12869 153330 [14490, 14489, 14488, 14487, 14486, 14485, 14484, 14483, 14482, 14481, 14480, 14479, 14478, 14477, 14476, 14475, 14474, 14473, 14472, 14471]\n"
     ]
    },
    {
     "name": "stderr",
     "output_type": "stream",
     "text": [
      "\r",
      "  8%|▊         | 758/9716 [49:11<9:41:15,  3.89s/it]"
     ]
    },
    {
     "name": "stdout",
     "output_type": "stream",
     "text": [
      "166199 20 12886 153313 [14507, 14506, 14505, 14504, 14503, 14502, 14501, 14500, 14499, 14498, 14497, 14496, 14495, 14494, 14493, 14492, 14491, 14490, 14489, 14488]\n"
     ]
    },
    {
     "name": "stderr",
     "output_type": "stream",
     "text": [
      "\r",
      "  8%|▊         | 759/9716 [49:14<9:41:07,  3.89s/it]"
     ]
    },
    {
     "name": "stdout",
     "output_type": "stream",
     "text": [
      "166199 20 12903 153296 [14524, 14523, 14522, 14521, 14520, 14519, 14518, 14517, 14516, 14515, 14514, 14513, 14512, 14511, 14510, 14509, 14508, 14507, 14506, 14505]\n"
     ]
    },
    {
     "name": "stderr",
     "output_type": "stream",
     "text": [
      "\r",
      "  8%|▊         | 760/9716 [49:17<9:40:54,  3.89s/it]"
     ]
    },
    {
     "name": "stdout",
     "output_type": "stream",
     "text": [
      "166199 20 12920 153279 [14541, 14540, 14539, 14538, 14537, 14536, 14535, 14534, 14533, 14532, 14531, 14530, 14529, 14528, 14527, 14526, 14525, 14524, 14523, 14522]\n"
     ]
    },
    {
     "name": "stderr",
     "output_type": "stream",
     "text": [
      "\r",
      "  8%|▊         | 761/9716 [49:21<9:40:51,  3.89s/it]"
     ]
    },
    {
     "name": "stdout",
     "output_type": "stream",
     "text": [
      "166208 20 12937 153262 [14558, 14557, 14556, 14555, 14554, 14553, 14552, 14551, 14550, 14549, 14548, 14547, 14546, 14545, 14544, 14543, 14542, 14541, 14540, 14539]\n"
     ]
    },
    {
     "name": "stderr",
     "output_type": "stream",
     "text": [
      "\r",
      "  8%|▊         | 762/9716 [49:25<9:40:43,  3.89s/it]"
     ]
    },
    {
     "name": "stdout",
     "output_type": "stream",
     "text": [
      "166208 20 12954 153254 [14575, 14574, 14573, 14572, 14571, 14570, 14569, 14568, 14567, 14566, 14565, 14564, 14563, 14562, 14561, 14560, 14559, 14558, 14557, 14556]\n"
     ]
    },
    {
     "name": "stderr",
     "output_type": "stream",
     "text": [
      "\r",
      "  8%|▊         | 763/9716 [49:29<9:40:43,  3.89s/it]"
     ]
    },
    {
     "name": "stdout",
     "output_type": "stream",
     "text": [
      "166208 20 12971 153237 [14592, 14591, 14590, 14589, 14588, 14587, 14586, 14585, 14584, 14583, 14582, 14581, 14580, 14579, 14578, 14577, 14576, 14575, 14574, 14573]\n"
     ]
    },
    {
     "name": "stderr",
     "output_type": "stream",
     "text": [
      "\r",
      "  8%|▊         | 764/9716 [49:33<9:40:41,  3.89s/it]"
     ]
    },
    {
     "name": "stdout",
     "output_type": "stream",
     "text": [
      "166208 20 12988 153220 [14609, 14608, 14607, 14606, 14605, 14604, 14603, 14602, 14601, 14600, 14599, 14598, 14597, 14596, 14595, 14594, 14593, 14592, 14591, 14590]\n"
     ]
    },
    {
     "name": "stderr",
     "output_type": "stream",
     "text": [
      "\r",
      "  8%|▊         | 765/9716 [49:37<9:40:38,  3.89s/it]"
     ]
    },
    {
     "name": "stdout",
     "output_type": "stream",
     "text": [
      "166223 20 13005 153203 [14637, 14636, 14635, 14634, 14633, 14632, 14631, 14630, 14629, 14628, 14627, 14626, 14625, 14624, 14623, 14622, 14621, 14620, 14619, 14618]\n"
     ]
    },
    {
     "name": "stderr",
     "output_type": "stream",
     "text": [
      "\r",
      "  8%|▊         | 766/9716 [49:41<9:40:35,  3.89s/it]"
     ]
    },
    {
     "name": "stdout",
     "output_type": "stream",
     "text": [
      "166223 20 13022 153201 [14643, 14642, 14641, 14640, 14639, 14638, 14637, 14636, 14635, 14634, 14633, 14632, 14631, 14630, 14629, 14628, 14627, 14626, 14625, 14624]\n"
     ]
    },
    {
     "name": "stderr",
     "output_type": "stream",
     "text": [
      "\r",
      "  8%|▊         | 767/9716 [49:45<9:40:38,  3.89s/it]"
     ]
    },
    {
     "name": "stdout",
     "output_type": "stream",
     "text": [
      "166223 20 13039 153184 [14660, 14659, 14658, 14657, 14656, 14655, 14654, 14653, 14652, 14651, 14650, 14649, 14648, 14647, 14646, 14645, 14644, 14643, 14642, 14641]\n"
     ]
    },
    {
     "name": "stderr",
     "output_type": "stream",
     "text": [
      "\r",
      "  8%|▊         | 768/9716 [49:49<9:40:32,  3.89s/it]"
     ]
    },
    {
     "name": "stdout",
     "output_type": "stream",
     "text": [
      "166223 20 13056 153167 [14677, 14676, 14675, 14674, 14673, 14672, 14671, 14670, 14669, 14668, 14667, 14666, 14665, 14664, 14663, 14662, 14661, 14660, 14659, 14658]\n"
     ]
    },
    {
     "name": "stderr",
     "output_type": "stream",
     "text": [
      "\r",
      "  8%|▊         | 769/9716 [49:53<9:40:24,  3.89s/it]"
     ]
    },
    {
     "name": "stdout",
     "output_type": "stream",
     "text": [
      "166223 20 13073 153150 [14694, 14693, 14692, 14691, 14690, 14689, 14688, 14687, 14686, 14685, 14684, 14683, 14682, 14681, 14680, 14679, 14678, 14677, 14676, 14675]\n"
     ]
    },
    {
     "name": "stderr",
     "output_type": "stream",
     "text": [
      "\r",
      "  8%|▊         | 770/9716 [49:57<9:40:23,  3.89s/it]"
     ]
    },
    {
     "name": "stdout",
     "output_type": "stream",
     "text": [
      "166223 20 13090 153133 [14711, 14710, 14709, 14708, 14707, 14706, 14705, 14704, 14703, 14702, 14701, 14700, 14699, 14698, 14697, 14696, 14695, 14694, 14693, 14692]\n"
     ]
    },
    {
     "name": "stderr",
     "output_type": "stream",
     "text": [
      "\r",
      "  8%|▊         | 771/9716 [50:01<9:40:21,  3.89s/it]"
     ]
    },
    {
     "name": "stdout",
     "output_type": "stream",
     "text": [
      "166233 20 13107 153116 [14728, 14727, 14726, 14725, 14724, 14723, 14722, 14721, 14720, 14719, 14718, 14717, 14716, 14715, 14714, 14713, 14712, 14711, 14710, 14709]\n"
     ]
    },
    {
     "name": "stderr",
     "output_type": "stream",
     "text": [
      "\r",
      "  8%|▊         | 772/9716 [50:05<9:40:18,  3.89s/it]"
     ]
    },
    {
     "name": "stdout",
     "output_type": "stream",
     "text": [
      "166241 20 13124 153109 [14753, 14752, 14751, 14750, 14749, 14748, 14747, 14746, 14745, 14744, 14743, 14742, 14741, 14740, 14739, 14738, 14737, 14736, 14735, 14734]\n"
     ]
    },
    {
     "name": "stderr",
     "output_type": "stream",
     "text": [
      "\r",
      "  8%|▊         | 773/9716 [50:09<9:40:14,  3.89s/it]"
     ]
    },
    {
     "name": "stdout",
     "output_type": "stream",
     "text": [
      "166241 20 13141 153100 [14762, 14761, 14760, 14759, 14758, 14757, 14756, 14755, 14754, 14753, 14752, 14751, 14750, 14749, 14748, 14747, 14746, 14745, 14744, 14743]\n"
     ]
    },
    {
     "name": "stderr",
     "output_type": "stream",
     "text": [
      "\r",
      "  8%|▊         | 774/9716 [50:13<9:40:13,  3.89s/it]"
     ]
    },
    {
     "name": "stdout",
     "output_type": "stream",
     "text": [
      "166241 20 13158 153083 [14779, 14778, 14777, 14776, 14775, 14774, 14773, 14772, 14771, 14770, 14769, 14768, 14767, 14766, 14765, 14764, 14763, 14762, 14761, 14760]\n"
     ]
    },
    {
     "name": "stderr",
     "output_type": "stream",
     "text": [
      "\r",
      "  8%|▊         | 775/9716 [50:17<9:40:09,  3.89s/it]"
     ]
    },
    {
     "name": "stdout",
     "output_type": "stream",
     "text": [
      "166241 20 13175 153066 [14796, 14795, 14794, 14793, 14792, 14791, 14790, 14789, 14788, 14787, 14786, 14785, 14784, 14783, 14782, 14781, 14780, 14779, 14778, 14777]\n"
     ]
    },
    {
     "name": "stderr",
     "output_type": "stream",
     "text": [
      "\r",
      "  8%|▊         | 776/9716 [50:21<9:40:04,  3.89s/it]"
     ]
    },
    {
     "name": "stdout",
     "output_type": "stream",
     "text": [
      "166242 20 13192 153049 [14813, 14812, 14811, 14810, 14809, 14808, 14807, 14806, 14805, 14804, 14803, 14802, 14801, 14800, 14799, 14798, 14797, 14796, 14795, 14794]\n"
     ]
    },
    {
     "name": "stderr",
     "output_type": "stream",
     "text": [
      "\r",
      "  8%|▊         | 777/9716 [50:24<9:39:59,  3.89s/it]"
     ]
    },
    {
     "name": "stdout",
     "output_type": "stream",
     "text": [
      "166242 20 13209 153033 [14830, 14829, 14828, 14827, 14826, 14825, 14824, 14823, 14822, 14821, 14820, 14819, 14818, 14817, 14816, 14815, 14814, 14813, 14812, 14811]\n"
     ]
    },
    {
     "name": "stderr",
     "output_type": "stream",
     "text": [
      "\r",
      "  8%|▊         | 778/9716 [50:28<9:39:51,  3.89s/it]"
     ]
    },
    {
     "name": "stdout",
     "output_type": "stream",
     "text": [
      "166254 20 13226 153016 [14847, 14846, 14845, 14844, 14843, 14842, 14841, 14840, 14839, 14838, 14837, 14836, 14835, 14834, 14833, 14832, 14831, 14830, 14829, 14828]\n"
     ]
    },
    {
     "name": "stderr",
     "output_type": "stream",
     "text": [
      "\r",
      "  8%|▊         | 779/9716 [50:32<9:39:46,  3.89s/it]"
     ]
    },
    {
     "name": "stdout",
     "output_type": "stream",
     "text": [
      "166254 20 13243 153011 [14864, 14863, 14862, 14861, 14860, 14859, 14858, 14857, 14856, 14855, 14854, 14853, 14852, 14851, 14850, 14849, 14848, 14847, 14846, 14845]\n"
     ]
    },
    {
     "name": "stderr",
     "output_type": "stream",
     "text": [
      "\r",
      "  8%|▊         | 780/9716 [50:35<9:39:40,  3.89s/it]"
     ]
    },
    {
     "name": "stdout",
     "output_type": "stream",
     "text": [
      "166254 20 13260 152994 [14881, 14880, 14879, 14878, 14877, 14876, 14875, 14874, 14873, 14872, 14871, 14870, 14869, 14868, 14867, 14866, 14865, 14864, 14863, 14862]\n"
     ]
    },
    {
     "name": "stderr",
     "output_type": "stream",
     "text": [
      "\r",
      "  8%|▊         | 781/9716 [50:39<9:39:33,  3.89s/it]"
     ]
    },
    {
     "name": "stdout",
     "output_type": "stream",
     "text": [
      "166254 20 13277 152977 [14898, 14897, 14896, 14895, 14894, 14893, 14892, 14891, 14890, 14889, 14888, 14887, 14886, 14885, 14884, 14883, 14882, 14881, 14880, 14879]\n"
     ]
    },
    {
     "name": "stderr",
     "output_type": "stream",
     "text": [
      "\r",
      "  8%|▊         | 782/9716 [50:45<9:39:49,  3.89s/it]"
     ]
    },
    {
     "name": "stdout",
     "output_type": "stream",
     "text": [
      "166254 20 13294 152960 [14915, 14914, 14913, 14912, 14911, 14910, 14909, 14908, 14907, 14906, 14905, 14904, 14903, 14902, 14901, 14900, 14899, 14898, 14897, 14896]\n"
     ]
    },
    {
     "name": "stderr",
     "output_type": "stream",
     "text": [
      "\r",
      "  8%|▊         | 783/9716 [50:48<9:39:40,  3.89s/it]"
     ]
    },
    {
     "name": "stdout",
     "output_type": "stream",
     "text": [
      "166254 20 13311 152943 [14932, 14931, 14930, 14929, 14928, 14927, 14926, 14925, 14924, 14923, 14922, 14921, 14920, 14919, 14918, 14917, 14916, 14915, 14914, 14913]\n"
     ]
    },
    {
     "name": "stderr",
     "output_type": "stream",
     "text": [
      "\r",
      "  8%|▊         | 784/9716 [50:51<9:39:27,  3.89s/it]"
     ]
    },
    {
     "name": "stdout",
     "output_type": "stream",
     "text": [
      "166254 20 13328 152926 [14949, 14948, 14947, 14946, 14945, 14944, 14943, 14942, 14941, 14940, 14939, 14938, 14937, 14936, 14935, 14934, 14933, 14932, 14931, 14930]\n"
     ]
    },
    {
     "name": "stderr",
     "output_type": "stream",
     "text": [
      "\r",
      "  8%|▊         | 785/9716 [50:55<9:39:17,  3.89s/it]"
     ]
    },
    {
     "name": "stdout",
     "output_type": "stream",
     "text": [
      "166254 20 13345 152909 [14966, 14965, 14964, 14963, 14962, 14961, 14960, 14959, 14958, 14957, 14956, 14955, 14954, 14953, 14952, 14951, 14950, 14949, 14948, 14947]\n"
     ]
    },
    {
     "name": "stderr",
     "output_type": "stream",
     "text": [
      "\r",
      "  8%|▊         | 786/9716 [50:58<9:39:09,  3.89s/it]"
     ]
    },
    {
     "name": "stdout",
     "output_type": "stream",
     "text": [
      "166254 20 13362 152892 [14983, 14982, 14981, 14980, 14979, 14978, 14977, 14976, 14975, 14974, 14973, 14972, 14971, 14970, 14969, 14968, 14967, 14966, 14965, 14964]\n"
     ]
    },
    {
     "name": "stderr",
     "output_type": "stream",
     "text": [
      "\r",
      "  8%|▊         | 787/9716 [51:01<9:38:58,  3.89s/it]"
     ]
    },
    {
     "name": "stdout",
     "output_type": "stream",
     "text": [
      "166254 20 13379 152875 [15000, 14999, 14998, 14997, 14996, 14995, 14994, 14993, 14992, 14991, 14990, 14989, 14988, 14987, 14986, 14985, 14984, 14983, 14982, 14981]\n"
     ]
    },
    {
     "name": "stderr",
     "output_type": "stream",
     "text": [
      "\r",
      "  8%|▊         | 788/9716 [51:04<9:38:45,  3.89s/it]"
     ]
    },
    {
     "name": "stdout",
     "output_type": "stream",
     "text": [
      "166254 20 13396 152858 [15017, 15016, 15015, 15014, 15013, 15012, 15011, 15010, 15009, 15008, 15007, 15006, 15005, 15004, 15003, 15002, 15001, 15000, 14999, 14998]\n"
     ]
    },
    {
     "name": "stderr",
     "output_type": "stream",
     "text": [
      "\r",
      "  8%|▊         | 789/9716 [51:08<9:38:35,  3.89s/it]"
     ]
    },
    {
     "name": "stdout",
     "output_type": "stream",
     "text": [
      "166254 20 13413 152841 [15034, 15033, 15032, 15031, 15030, 15029, 15028, 15027, 15026, 15025, 15024, 15023, 15022, 15021, 15020, 15019, 15018, 15017, 15016, 15015]\n"
     ]
    },
    {
     "name": "stderr",
     "output_type": "stream",
     "text": [
      "\r",
      "  8%|▊         | 790/9716 [51:11<9:38:23,  3.89s/it]"
     ]
    },
    {
     "name": "stdout",
     "output_type": "stream",
     "text": [
      "166254 20 13430 152824 [15051, 15050, 15049, 15048, 15047, 15046, 15045, 15044, 15043, 15042, 15041, 15040, 15039, 15038, 15037, 15036, 15035, 15034, 15033, 15032]\n"
     ]
    },
    {
     "name": "stderr",
     "output_type": "stream",
     "text": [
      "\r",
      "  8%|▊         | 791/9716 [51:15<9:38:17,  3.89s/it]"
     ]
    },
    {
     "name": "stdout",
     "output_type": "stream",
     "text": [
      "166254 20 13447 152807 [15068, 15067, 15066, 15065, 15064, 15063, 15062, 15061, 15060, 15059, 15058, 15057, 15056, 15055, 15054, 15053, 15052, 15051, 15050, 15049]\n"
     ]
    },
    {
     "name": "stderr",
     "output_type": "stream",
     "text": [
      "\r",
      "  8%|▊         | 792/9716 [51:18<9:38:07,  3.89s/it]"
     ]
    },
    {
     "name": "stdout",
     "output_type": "stream",
     "text": [
      "166254 20 13464 152790 [15085, 15084, 15083, 15082, 15081, 15080, 15079, 15078, 15077, 15076, 15075, 15074, 15073, 15072, 15071, 15070, 15069, 15068, 15067, 15066]\n"
     ]
    },
    {
     "name": "stderr",
     "output_type": "stream",
     "text": [
      "\r",
      "  8%|▊         | 793/9716 [51:21<9:37:55,  3.89s/it]"
     ]
    },
    {
     "name": "stdout",
     "output_type": "stream",
     "text": [
      "166254 20 13481 152773 [15102, 15101, 15100, 15099, 15098, 15097, 15096, 15095, 15094, 15093, 15092, 15091, 15090, 15089, 15088, 15087, 15086, 15085, 15084, 15083]\n"
     ]
    },
    {
     "name": "stderr",
     "output_type": "stream",
     "text": [
      "\r",
      "  8%|▊         | 794/9716 [51:25<9:37:46,  3.89s/it]"
     ]
    },
    {
     "name": "stdout",
     "output_type": "stream",
     "text": [
      "166254 20 13498 152756 [15119, 15118, 15117, 15116, 15115, 15114, 15113, 15112, 15111, 15110, 15109, 15108, 15107, 15106, 15105, 15104, 15103, 15102, 15101, 15100]\n"
     ]
    },
    {
     "name": "stderr",
     "output_type": "stream",
     "text": [
      "\r",
      "  8%|▊         | 795/9716 [51:28<9:37:39,  3.89s/it]"
     ]
    },
    {
     "name": "stdout",
     "output_type": "stream",
     "text": [
      "166266 20 13515 152739 [15136, 15135, 15134, 15133, 15132, 15131, 15130, 15129, 15128, 15127, 15126, 15125, 15124, 15123, 15122, 15121, 15120, 15119, 15118, 15117]\n"
     ]
    },
    {
     "name": "stderr",
     "output_type": "stream",
     "text": [
      "\r",
      "  8%|▊         | 796/9716 [51:32<9:37:29,  3.88s/it]"
     ]
    },
    {
     "name": "stdout",
     "output_type": "stream",
     "text": [
      "166266 20 13532 152734 [15153, 15152, 15151, 15150, 15149, 15148, 15147, 15146, 15145, 15144, 15143, 15142, 15141, 15140, 15139, 15138, 15137, 15136, 15135, 15134]\n"
     ]
    },
    {
     "name": "stderr",
     "output_type": "stream",
     "text": [
      "\r",
      "  8%|▊         | 797/9716 [51:35<9:37:18,  3.88s/it]"
     ]
    },
    {
     "name": "stdout",
     "output_type": "stream",
     "text": [
      "166266 20 13549 152717 [15170, 15169, 15168, 15167, 15166, 15165, 15164, 15163, 15162, 15161, 15160, 15159, 15158, 15157, 15156, 15155, 15154, 15153, 15152, 15151]\n"
     ]
    },
    {
     "name": "stderr",
     "output_type": "stream",
     "text": [
      "\r",
      "  8%|▊         | 798/9716 [51:38<9:37:08,  3.88s/it]"
     ]
    },
    {
     "name": "stdout",
     "output_type": "stream",
     "text": [
      "166266 20 13566 152700 [15187, 15186, 15185, 15184, 15183, 15182, 15181, 15180, 15179, 15178, 15177, 15176, 15175, 15174, 15173, 15172, 15171, 15170, 15169, 15168]\n"
     ]
    },
    {
     "name": "stderr",
     "output_type": "stream",
     "text": [
      "\r",
      "  8%|▊         | 799/9716 [51:41<9:36:57,  3.88s/it]"
     ]
    },
    {
     "name": "stdout",
     "output_type": "stream",
     "text": [
      "166266 20 13583 152683 [15204, 15203, 15202, 15201, 15200, 15199, 15198, 15197, 15196, 15195, 15194, 15193, 15192, 15191, 15190, 15189, 15188, 15187, 15186, 15185]\n"
     ]
    },
    {
     "name": "stderr",
     "output_type": "stream",
     "text": [
      "\r",
      "  8%|▊         | 800/9716 [51:45<9:36:51,  3.88s/it]"
     ]
    },
    {
     "name": "stdout",
     "output_type": "stream",
     "text": [
      "166266 20 13600 152666 [15221, 15220, 15219, 15218, 15217, 15216, 15215, 15214, 15213, 15212, 15211, 15210, 15209, 15208, 15207, 15206, 15205, 15204, 15203, 15202]\n"
     ]
    },
    {
     "name": "stderr",
     "output_type": "stream",
     "text": [
      "\r",
      "  8%|▊         | 801/9716 [51:48<9:36:39,  3.88s/it]"
     ]
    },
    {
     "name": "stdout",
     "output_type": "stream",
     "text": [
      "166266 20 13617 152649 [15238, 15237, 15236, 15235, 15234, 15233, 15232, 15231, 15230, 15229, 15228, 15227, 15226, 15225, 15224, 15223, 15222, 15221, 15220, 15219]\n"
     ]
    },
    {
     "name": "stderr",
     "output_type": "stream",
     "text": [
      "\r",
      "  8%|▊         | 802/9716 [51:51<9:36:27,  3.88s/it]"
     ]
    },
    {
     "name": "stdout",
     "output_type": "stream",
     "text": [
      "166266 20 13634 152632 [15255, 15254, 15253, 15252, 15251, 15250, 15249, 15248, 15247, 15246, 15245, 15244, 15243, 15242, 15241, 15240, 15239, 15238, 15237, 15236]\n"
     ]
    },
    {
     "name": "stderr",
     "output_type": "stream",
     "text": [
      "\r",
      "  8%|▊         | 803/9716 [51:55<9:36:17,  3.88s/it]"
     ]
    },
    {
     "name": "stdout",
     "output_type": "stream",
     "text": [
      "166271 20 13651 152615 [15272, 15271, 15270, 15269, 15268, 15267, 15266, 15265, 15264, 15263, 15262, 15261, 15260, 15259, 15258, 15257, 15256, 15255, 15254, 15253]\n"
     ]
    },
    {
     "name": "stderr",
     "output_type": "stream",
     "text": [
      "\r",
      "  8%|▊         | 804/9716 [51:58<9:36:04,  3.88s/it]"
     ]
    },
    {
     "name": "stdout",
     "output_type": "stream",
     "text": [
      "166275 20 13668 152603 [15293, 15292, 15291, 15290, 15289, 15288, 15287, 15286, 15285, 15284, 15283, 15282, 15281, 15280, 15279, 15278, 15277, 15276, 15275, 15274]\n"
     ]
    },
    {
     "name": "stderr",
     "output_type": "stream",
     "text": [
      "\r",
      "  8%|▊         | 805/9716 [52:01<9:35:53,  3.88s/it]"
     ]
    },
    {
     "name": "stdout",
     "output_type": "stream",
     "text": [
      "166275 20 13685 152590 [15306, 15305, 15304, 15303, 15302, 15301, 15300, 15299, 15298, 15297, 15296, 15295, 15294, 15293, 15292, 15291, 15290, 15289, 15288, 15287]\n"
     ]
    },
    {
     "name": "stderr",
     "output_type": "stream",
     "text": [
      "\r",
      "  8%|▊         | 806/9716 [52:04<9:35:41,  3.88s/it]"
     ]
    },
    {
     "name": "stdout",
     "output_type": "stream",
     "text": [
      "166275 20 13702 152573 [15323, 15322, 15321, 15320, 15319, 15318, 15317, 15316, 15315, 15314, 15313, 15312, 15311, 15310, 15309, 15308, 15307, 15306, 15305, 15304]\n"
     ]
    },
    {
     "name": "stderr",
     "output_type": "stream",
     "text": [
      "\r",
      "  8%|▊         | 807/9716 [52:07<9:35:29,  3.88s/it]"
     ]
    },
    {
     "name": "stdout",
     "output_type": "stream",
     "text": [
      "166288 20 13719 152556 [15340, 15339, 15338, 15337, 15336, 15335, 15334, 15333, 15332, 15331, 15330, 15329, 15328, 15327, 15326, 15325, 15324, 15323, 15322, 15321]\n"
     ]
    },
    {
     "name": "stderr",
     "output_type": "stream",
     "text": [
      "\r",
      "  8%|▊         | 808/9716 [52:10<9:35:17,  3.87s/it]"
     ]
    },
    {
     "name": "stdout",
     "output_type": "stream",
     "text": [
      "166295 20 13736 152552 [15360, 15359, 15358, 15357, 15356, 15355, 15354, 15353, 15352, 15351, 15350, 15349, 15348, 15347, 15346, 15345, 15344, 15343, 15342, 15341]\n"
     ]
    },
    {
     "name": "stderr",
     "output_type": "stream",
     "text": [
      "\r",
      "  8%|▊         | 809/9716 [52:13<9:35:03,  3.87s/it]"
     ]
    },
    {
     "name": "stdout",
     "output_type": "stream",
     "text": [
      "166295 20 13753 152542 [15374, 15373, 15372, 15371, 15370, 15369, 15368, 15367, 15366, 15365, 15364, 15363, 15362, 15361, 15360, 15359, 15358, 15357, 15356, 15355]\n"
     ]
    },
    {
     "name": "stderr",
     "output_type": "stream",
     "text": [
      "\r",
      "  8%|▊         | 810/9716 [52:17<9:34:54,  3.87s/it]"
     ]
    },
    {
     "name": "stdout",
     "output_type": "stream",
     "text": [
      "166295 20 13770 152525 [15391, 15390, 15389, 15388, 15387, 15386, 15385, 15384, 15383, 15382, 15381, 15380, 15379, 15378, 15377, 15376, 15375, 15374, 15373, 15372]\n"
     ]
    },
    {
     "name": "stderr",
     "output_type": "stream",
     "text": [
      "\r",
      "  8%|▊         | 811/9716 [52:20<9:34:46,  3.87s/it]"
     ]
    },
    {
     "name": "stdout",
     "output_type": "stream",
     "text": [
      "166295 20 13787 152508 [15408, 15407, 15406, 15405, 15404, 15403, 15402, 15401, 15400, 15399, 15398, 15397, 15396, 15395, 15394, 15393, 15392, 15391, 15390, 15389]\n"
     ]
    },
    {
     "name": "stderr",
     "output_type": "stream",
     "text": [
      "\r",
      "  8%|▊         | 812/9716 [52:23<9:34:33,  3.87s/it]"
     ]
    },
    {
     "name": "stdout",
     "output_type": "stream",
     "text": [
      "166295 20 13804 152491 [15425, 15424, 15423, 15422, 15421, 15420, 15419, 15418, 15417, 15416, 15415, 15414, 15413, 15412, 15411, 15410, 15409, 15408, 15407, 15406]\n"
     ]
    },
    {
     "name": "stderr",
     "output_type": "stream",
     "text": [
      "\r",
      "  8%|▊         | 813/9716 [52:27<9:34:27,  3.87s/it]"
     ]
    },
    {
     "name": "stdout",
     "output_type": "stream",
     "text": [
      "166300 20 13821 152474 [15442, 15441, 15440, 15439, 15438, 15437, 15436, 15435, 15434, 15433, 15432, 15431, 15430, 15429, 15428, 15427, 15426, 15425, 15424, 15423]\n"
     ]
    },
    {
     "name": "stderr",
     "output_type": "stream",
     "text": [
      "\r",
      "  8%|▊         | 814/9716 [52:30<9:34:17,  3.87s/it]"
     ]
    },
    {
     "name": "stdout",
     "output_type": "stream",
     "text": [
      "166300 20 13838 152462 [15459, 15458, 15457, 15456, 15455, 15454, 15453, 15452, 15451, 15450, 15449, 15448, 15447, 15446, 15445, 15444, 15443, 15442, 15441, 15440]\n"
     ]
    },
    {
     "name": "stderr",
     "output_type": "stream",
     "text": [
      "\r",
      "  8%|▊         | 815/9716 [52:34<9:34:08,  3.87s/it]"
     ]
    },
    {
     "name": "stdout",
     "output_type": "stream",
     "text": [
      "166317 20 13855 152445 [15486, 15485, 15484, 15483, 15482, 15481, 15480, 15479, 15478, 15477, 15476, 15475, 15474, 15473, 15472, 15471, 15470, 15469, 15468, 15467]\n"
     ]
    },
    {
     "name": "stderr",
     "output_type": "stream",
     "text": [
      "\r",
      "  8%|▊         | 816/9716 [52:37<9:33:56,  3.87s/it]"
     ]
    },
    {
     "name": "stdout",
     "output_type": "stream",
     "text": [
      "166317 20 13872 152445 [15493, 15492, 15491, 15490, 15489, 15488, 15487, 15486, 15485, 15484, 15483, 15482, 15481, 15480, 15479, 15478, 15477, 15476, 15475, 15474]\n"
     ]
    },
    {
     "name": "stderr",
     "output_type": "stream",
     "text": [
      "\r",
      "  8%|▊         | 817/9716 [52:40<9:33:43,  3.87s/it]"
     ]
    },
    {
     "name": "stdout",
     "output_type": "stream",
     "text": [
      "166317 20 13889 152428 [15510, 15509, 15508, 15507, 15506, 15505, 15504, 15503, 15502, 15501, 15500, 15499, 15498, 15497, 15496, 15495, 15494, 15493, 15492, 15491]\n"
     ]
    },
    {
     "name": "stderr",
     "output_type": "stream",
     "text": [
      "\r",
      "  8%|▊         | 818/9716 [52:43<9:33:36,  3.87s/it]"
     ]
    },
    {
     "name": "stdout",
     "output_type": "stream",
     "text": [
      "166317 20 13906 152411 [15527, 15526, 15525, 15524, 15523, 15522, 15521, 15520, 15519, 15518, 15517, 15516, 15515, 15514, 15513, 15512, 15511, 15510, 15509, 15508]\n"
     ]
    },
    {
     "name": "stderr",
     "output_type": "stream",
     "text": [
      "\r",
      "  8%|▊         | 819/9716 [52:47<9:33:28,  3.87s/it]"
     ]
    },
    {
     "name": "stdout",
     "output_type": "stream",
     "text": [
      "166317 20 13923 152394 [15544, 15543, 15542, 15541, 15540, 15539, 15538, 15537, 15536, 15535, 15534, 15533, 15532, 15531, 15530, 15529, 15528, 15527, 15526, 15525]\n"
     ]
    },
    {
     "name": "stderr",
     "output_type": "stream",
     "text": [
      "\r",
      "  8%|▊         | 820/9716 [52:50<9:33:19,  3.87s/it]"
     ]
    },
    {
     "name": "stdout",
     "output_type": "stream",
     "text": [
      "166317 20 13940 152377 [15561, 15560, 15559, 15558, 15557, 15556, 15555, 15554, 15553, 15552, 15551, 15550, 15549, 15548, 15547, 15546, 15545, 15544, 15543, 15542]\n"
     ]
    },
    {
     "name": "stderr",
     "output_type": "stream",
     "text": [
      "\r",
      "  8%|▊         | 821/9716 [52:54<9:33:10,  3.87s/it]"
     ]
    },
    {
     "name": "stdout",
     "output_type": "stream",
     "text": [
      "166317 20 13957 152360 [15578, 15577, 15576, 15575, 15574, 15573, 15572, 15571, 15570, 15569, 15568, 15567, 15566, 15565, 15564, 15563, 15562, 15561, 15560, 15559]\n"
     ]
    },
    {
     "name": "stderr",
     "output_type": "stream",
     "text": [
      "\r",
      "  8%|▊         | 822/9716 [52:57<9:33:05,  3.87s/it]"
     ]
    },
    {
     "name": "stdout",
     "output_type": "stream",
     "text": [
      "166317 20 13974 152343 [15595, 15594, 15593, 15592, 15591, 15590, 15589, 15588, 15587, 15586, 15585, 15584, 15583, 15582, 15581, 15580, 15579, 15578, 15577, 15576]\n"
     ]
    },
    {
     "name": "stderr",
     "output_type": "stream",
     "text": [
      "\r",
      "  8%|▊         | 823/9716 [53:00<9:32:50,  3.86s/it]"
     ]
    },
    {
     "name": "stdout",
     "output_type": "stream",
     "text": [
      "166317 20 13991 152326 [15612, 15611, 15610, 15609, 15608, 15607, 15606, 15605, 15604, 15603, 15602, 15601, 15600, 15599, 15598, 15597, 15596, 15595, 15594, 15593]\n"
     ]
    },
    {
     "name": "stderr",
     "output_type": "stream",
     "text": [
      "\r",
      "  8%|▊         | 824/9716 [53:03<9:32:38,  3.86s/it]"
     ]
    },
    {
     "name": "stdout",
     "output_type": "stream",
     "text": [
      "166329 20 14008 152309 [15641, 15640, 15639, 15638, 15637, 15636, 15635, 15634, 15633, 15632, 15631, 15630, 15629, 15628, 15627, 15626, 15625, 15624, 15623, 15622]\n"
     ]
    },
    {
     "name": "stderr",
     "output_type": "stream",
     "text": [
      "\r",
      "  8%|▊         | 825/9716 [53:07<9:32:31,  3.86s/it]"
     ]
    },
    {
     "name": "stdout",
     "output_type": "stream",
     "text": [
      "166329 20 14025 152304 [15646, 15645, 15644, 15643, 15642, 15641, 15640, 15639, 15638, 15637, 15636, 15635, 15634, 15633, 15632, 15631, 15630, 15629, 15628, 15627]\n"
     ]
    },
    {
     "name": "stderr",
     "output_type": "stream",
     "text": [
      "\r",
      "  9%|▊         | 826/9716 [53:10<9:32:20,  3.86s/it]"
     ]
    },
    {
     "name": "stdout",
     "output_type": "stream",
     "text": [
      "166329 20 14042 152287 [15663, 15662, 15661, 15660, 15659, 15658, 15657, 15656, 15655, 15654, 15653, 15652, 15651, 15650, 15649, 15648, 15647, 15646, 15645, 15644]\n"
     ]
    },
    {
     "name": "stderr",
     "output_type": "stream",
     "text": [
      "\r",
      "  9%|▊         | 827/9716 [53:13<9:32:09,  3.86s/it]"
     ]
    },
    {
     "name": "stdout",
     "output_type": "stream",
     "text": [
      "166329 20 14059 152270 [15680, 15679, 15678, 15677, 15676, 15675, 15674, 15673, 15672, 15671, 15670, 15669, 15668, 15667, 15666, 15665, 15664, 15663, 15662, 15661]\n"
     ]
    },
    {
     "name": "stderr",
     "output_type": "stream",
     "text": [
      "\r",
      "  9%|▊         | 828/9716 [53:17<9:32:03,  3.86s/it]"
     ]
    },
    {
     "name": "stdout",
     "output_type": "stream",
     "text": [
      "166333 20 14076 152253 [15697, 15696, 15695, 15694, 15693, 15692, 15691, 15690, 15689, 15688, 15687, 15686, 15685, 15684, 15683, 15682, 15681, 15680, 15679, 15678]\n"
     ]
    },
    {
     "name": "stderr",
     "output_type": "stream",
     "text": [
      "\r",
      "  9%|▊         | 829/9716 [53:21<9:32:03,  3.86s/it]"
     ]
    },
    {
     "name": "stdout",
     "output_type": "stream",
     "text": [
      "166333 20 14093 152240 [15714, 15713, 15712, 15711, 15710, 15709, 15708, 15707, 15706, 15705, 15704, 15703, 15702, 15701, 15700, 15699, 15698, 15697, 15696, 15695]\n"
     ]
    },
    {
     "name": "stderr",
     "output_type": "stream",
     "text": [
      "\r",
      "  9%|▊         | 830/9716 [53:26<9:32:07,  3.86s/it]"
     ]
    },
    {
     "name": "stdout",
     "output_type": "stream",
     "text": [
      "166333 20 14110 152223 [15731, 15730, 15729, 15728, 15727, 15726, 15725, 15724, 15723, 15722, 15721, 15720, 15719, 15718, 15717, 15716, 15715, 15714, 15713, 15712]\n"
     ]
    },
    {
     "name": "stderr",
     "output_type": "stream",
     "text": [
      "\r",
      "  9%|▊         | 831/9716 [53:30<9:32:01,  3.86s/it]"
     ]
    },
    {
     "name": "stdout",
     "output_type": "stream",
     "text": [
      "166333 20 14127 152206 [15748, 15747, 15746, 15745, 15744, 15743, 15742, 15741, 15740, 15739, 15738, 15737, 15736, 15735, 15734, 15733, 15732, 15731, 15730, 15729]\n"
     ]
    },
    {
     "name": "stderr",
     "output_type": "stream",
     "text": [
      "\r",
      "  9%|▊         | 832/9716 [53:34<9:32:03,  3.86s/it]"
     ]
    },
    {
     "name": "stdout",
     "output_type": "stream",
     "text": [
      "166337 20 14144 152189 [15769, 15768, 15767, 15766, 15765, 15764, 15763, 15762, 15761, 15760, 15759, 15758, 15757, 15756, 15755, 15754, 15753, 15752, 15751, 15750]\n"
     ]
    },
    {
     "name": "stderr",
     "output_type": "stream",
     "text": [
      "\r",
      "  9%|▊         | 833/9716 [53:38<9:32:00,  3.86s/it]"
     ]
    },
    {
     "name": "stdout",
     "output_type": "stream",
     "text": [
      "166337 20 14161 152176 [15782, 15781, 15780, 15779, 15778, 15777, 15776, 15775, 15774, 15773, 15772, 15771, 15770, 15769, 15768, 15767, 15766, 15765, 15764, 15763]\n"
     ]
    },
    {
     "name": "stderr",
     "output_type": "stream",
     "text": [
      "\r",
      "  9%|▊         | 834/9716 [53:41<9:31:51,  3.86s/it]"
     ]
    },
    {
     "name": "stdout",
     "output_type": "stream",
     "text": [
      "166337 20 14178 152159 [15799, 15798, 15797, 15796, 15795, 15794, 15793, 15792, 15791, 15790, 15789, 15788, 15787, 15786, 15785, 15784, 15783, 15782, 15781, 15780]\n"
     ]
    },
    {
     "name": "stderr",
     "output_type": "stream",
     "text": [
      "\r",
      "  9%|▊         | 835/9716 [53:46<9:31:57,  3.86s/it]"
     ]
    },
    {
     "name": "stdout",
     "output_type": "stream",
     "text": [
      "166337 20 14195 152142 [15816, 15815, 15814, 15813, 15812, 15811, 15810, 15809, 15808, 15807, 15806, 15805, 15804, 15803, 15802, 15801, 15800, 15799, 15798, 15797]\n"
     ]
    },
    {
     "name": "stderr",
     "output_type": "stream",
     "text": [
      "\r",
      "  9%|▊         | 836/9716 [53:52<9:32:17,  3.87s/it]"
     ]
    },
    {
     "name": "stdout",
     "output_type": "stream",
     "text": [
      "166337 20 14212 152125 [15833, 15832, 15831, 15830, 15829, 15828, 15827, 15826, 15825, 15824, 15823, 15822, 15821, 15820, 15819, 15818, 15817, 15816, 15815, 15814]\n"
     ]
    },
    {
     "name": "stderr",
     "output_type": "stream",
     "text": [
      "\r",
      "  9%|▊         | 837/9716 [53:57<9:32:18,  3.87s/it]"
     ]
    },
    {
     "name": "stdout",
     "output_type": "stream",
     "text": [
      "166337 20 14229 152108 [15850, 15849, 15848, 15847, 15846, 15845, 15844, 15843, 15842, 15841, 15840, 15839, 15838, 15837, 15836, 15835, 15834, 15833, 15832, 15831]\n"
     ]
    },
    {
     "name": "stderr",
     "output_type": "stream",
     "text": [
      "\r",
      "  9%|▊         | 838/9716 [54:01<9:32:18,  3.87s/it]"
     ]
    },
    {
     "name": "stdout",
     "output_type": "stream",
     "text": [
      "166343 20 14246 152091 [15873, 15872, 15871, 15870, 15869, 15868, 15867, 15866, 15865, 15864, 15863, 15862, 15861, 15860, 15859, 15858, 15857, 15856, 15855, 15854]\n"
     ]
    },
    {
     "name": "stderr",
     "output_type": "stream",
     "text": [
      "\r",
      "  9%|▊         | 839/9716 [54:05<9:32:13,  3.87s/it]"
     ]
    },
    {
     "name": "stdout",
     "output_type": "stream",
     "text": [
      "166343 20 14263 152080 [15884, 15883, 15882, 15881, 15880, 15879, 15878, 15877, 15876, 15875, 15874, 15873, 15872, 15871, 15870, 15869, 15868, 15867, 15866, 15865]\n"
     ]
    },
    {
     "name": "stderr",
     "output_type": "stream",
     "text": [
      "\r",
      "  9%|▊         | 840/9716 [54:08<9:32:10,  3.87s/it]"
     ]
    },
    {
     "name": "stdout",
     "output_type": "stream",
     "text": [
      "166343 20 14280 152063 [15901, 15900, 15899, 15898, 15897, 15896, 15895, 15894, 15893, 15892, 15891, 15890, 15889, 15888, 15887, 15886, 15885, 15884, 15883, 15882]\n"
     ]
    },
    {
     "name": "stderr",
     "output_type": "stream",
     "text": [
      "\r",
      "  9%|▊         | 841/9716 [54:12<9:32:06,  3.87s/it]"
     ]
    },
    {
     "name": "stdout",
     "output_type": "stream",
     "text": [
      "166343 20 14297 152046 [15918, 15917, 15916, 15915, 15914, 15913, 15912, 15911, 15910, 15909, 15908, 15907, 15906, 15905, 15904, 15903, 15902, 15901, 15900, 15899]\n"
     ]
    },
    {
     "name": "stderr",
     "output_type": "stream",
     "text": [
      "\r",
      "  9%|▊         | 842/9716 [54:16<9:32:03,  3.87s/it]"
     ]
    },
    {
     "name": "stdout",
     "output_type": "stream",
     "text": [
      "166343 20 14314 152029 [15935, 15934, 15933, 15932, 15931, 15930, 15929, 15928, 15927, 15926, 15925, 15924, 15923, 15922, 15921, 15920, 15919, 15918, 15917, 15916]\n"
     ]
    },
    {
     "name": "stderr",
     "output_type": "stream",
     "text": [
      "\r",
      "  9%|▊         | 843/9716 [54:20<9:32:00,  3.87s/it]"
     ]
    },
    {
     "name": "stdout",
     "output_type": "stream",
     "text": [
      "166343 20 14331 152012 [15952, 15951, 15950, 15949, 15948, 15947, 15946, 15945, 15944, 15943, 15942, 15941, 15940, 15939, 15938, 15937, 15936, 15935, 15934, 15933]\n"
     ]
    },
    {
     "name": "stderr",
     "output_type": "stream",
     "text": [
      "\r",
      "  9%|▊         | 844/9716 [54:23<9:31:49,  3.87s/it]"
     ]
    },
    {
     "name": "stdout",
     "output_type": "stream",
     "text": [
      "166343 20 14348 151995 [15969, 15968, 15967, 15966, 15965, 15964, 15963, 15962, 15961, 15960, 15959, 15958, 15957, 15956, 15955, 15954, 15953, 15952, 15951, 15950]\n"
     ]
    },
    {
     "name": "stderr",
     "output_type": "stream",
     "text": [
      "\r",
      "  9%|▊         | 845/9716 [54:27<9:31:39,  3.87s/it]"
     ]
    },
    {
     "name": "stdout",
     "output_type": "stream",
     "text": [
      "166343 20 14365 151978 [15986, 15985, 15984, 15983, 15982, 15981, 15980, 15979, 15978, 15977, 15976, 15975, 15974, 15973, 15972, 15971, 15970, 15969, 15968, 15967]\n"
     ]
    },
    {
     "name": "stderr",
     "output_type": "stream",
     "text": [
      "\r",
      "  9%|▊         | 846/9716 [54:30<9:31:30,  3.87s/it]"
     ]
    },
    {
     "name": "stdout",
     "output_type": "stream",
     "text": [
      "166343 20 14382 151961 [16003, 16002, 16001, 16000, 15999, 15998, 15997, 15996, 15995, 15994, 15993, 15992, 15991, 15990, 15989, 15988, 15987, 15986, 15985, 15984]\n"
     ]
    },
    {
     "name": "stderr",
     "output_type": "stream",
     "text": [
      "\r",
      "  9%|▊         | 847/9716 [54:34<9:31:23,  3.87s/it]"
     ]
    },
    {
     "name": "stdout",
     "output_type": "stream",
     "text": [
      "166343 20 14399 151944 [16020, 16019, 16018, 16017, 16016, 16015, 16014, 16013, 16012, 16011, 16010, 16009, 16008, 16007, 16006, 16005, 16004, 16003, 16002, 16001]\n"
     ]
    },
    {
     "name": "stderr",
     "output_type": "stream",
     "text": [
      "\r",
      "  9%|▊         | 848/9716 [54:38<9:31:21,  3.87s/it]"
     ]
    },
    {
     "name": "stdout",
     "output_type": "stream",
     "text": [
      "166343 20 14416 151927 [16037, 16036, 16035, 16034, 16033, 16032, 16031, 16030, 16029, 16028, 16027, 16026, 16025, 16024, 16023, 16022, 16021, 16020, 16019, 16018]\n"
     ]
    },
    {
     "name": "stderr",
     "output_type": "stream",
     "text": [
      "\r",
      "  9%|▊         | 849/9716 [54:42<9:31:19,  3.87s/it]"
     ]
    },
    {
     "name": "stdout",
     "output_type": "stream",
     "text": [
      "166343 20 14433 151910 [16054, 16053, 16052, 16051, 16050, 16049, 16048, 16047, 16046, 16045, 16044, 16043, 16042, 16041, 16040, 16039, 16038, 16037, 16036, 16035]\n"
     ]
    },
    {
     "name": "stderr",
     "output_type": "stream",
     "text": [
      "\r",
      "  9%|▊         | 850/9716 [54:47<9:31:27,  3.87s/it]"
     ]
    },
    {
     "name": "stdout",
     "output_type": "stream",
     "text": [
      "166343 20 14450 151893 [16071, 16070, 16069, 16068, 16067, 16066, 16065, 16064, 16063, 16062, 16061, 16060, 16059, 16058, 16057, 16056, 16055, 16054, 16053, 16052]\n"
     ]
    },
    {
     "name": "stderr",
     "output_type": "stream",
     "text": [
      "\r",
      "  9%|▉         | 851/9716 [54:50<9:31:22,  3.87s/it]"
     ]
    },
    {
     "name": "stdout",
     "output_type": "stream",
     "text": [
      "166343 20 14467 151876 [16088, 16087, 16086, 16085, 16084, 16083, 16082, 16081, 16080, 16079, 16078, 16077, 16076, 16075, 16074, 16073, 16072, 16071, 16070, 16069]\n"
     ]
    },
    {
     "name": "stderr",
     "output_type": "stream",
     "text": [
      "\r",
      "  9%|▉         | 852/9716 [54:54<9:31:11,  3.87s/it]"
     ]
    },
    {
     "name": "stdout",
     "output_type": "stream",
     "text": [
      "166343 20 14484 151859 [16105, 16104, 16103, 16102, 16101, 16100, 16099, 16098, 16097, 16096, 16095, 16094, 16093, 16092, 16091, 16090, 16089, 16088, 16087, 16086]\n"
     ]
    },
    {
     "name": "stderr",
     "output_type": "stream",
     "text": [
      "\r",
      "  9%|▉         | 853/9716 [54:56<9:30:56,  3.87s/it]"
     ]
    },
    {
     "name": "stdout",
     "output_type": "stream",
     "text": [
      "166343 20 14501 151842 [16122, 16121, 16120, 16119, 16118, 16117, 16116, 16115, 16114, 16113, 16112, 16111, 16110, 16109, 16108, 16107, 16106, 16105, 16104, 16103]\n"
     ]
    },
    {
     "name": "stderr",
     "output_type": "stream",
     "text": [
      "\r",
      "  9%|▉         | 854/9716 [55:00<9:30:48,  3.86s/it]"
     ]
    },
    {
     "name": "stdout",
     "output_type": "stream",
     "text": [
      "166343 20 14518 151825 [16139, 16138, 16137, 16136, 16135, 16134, 16133, 16132, 16131, 16130, 16129, 16128, 16127, 16126, 16125, 16124, 16123, 16122, 16121, 16120]\n"
     ]
    },
    {
     "name": "stderr",
     "output_type": "stream",
     "text": [
      "\r",
      "  9%|▉         | 855/9716 [55:03<9:30:37,  3.86s/it]"
     ]
    },
    {
     "name": "stdout",
     "output_type": "stream",
     "text": [
      "166347 20 14535 151808 [16156, 16155, 16154, 16153, 16152, 16151, 16150, 16149, 16148, 16147, 16146, 16145, 16144, 16143, 16142, 16141, 16140, 16139, 16138, 16137]\n"
     ]
    },
    {
     "name": "stderr",
     "output_type": "stream",
     "text": [
      "\r",
      "  9%|▉         | 856/9716 [55:06<9:30:26,  3.86s/it]"
     ]
    },
    {
     "name": "stdout",
     "output_type": "stream",
     "text": [
      "166351 20 14552 151795 [16176, 16175, 16174, 16173, 16172, 16171, 16170, 16169, 16168, 16167, 16166, 16165, 16164, 16163, 16162, 16161, 16160, 16159, 16158, 16157]\n"
     ]
    },
    {
     "name": "stderr",
     "output_type": "stream",
     "text": [
      "\r",
      "  9%|▉         | 857/9716 [55:10<9:30:16,  3.86s/it]"
     ]
    },
    {
     "name": "stdout",
     "output_type": "stream",
     "text": [
      "166351 20 14569 151782 [16190, 16189, 16188, 16187, 16186, 16185, 16184, 16183, 16182, 16181, 16180, 16179, 16178, 16177, 16176, 16175, 16174, 16173, 16172, 16171]\n"
     ]
    },
    {
     "name": "stderr",
     "output_type": "stream",
     "text": [
      "\r",
      "  9%|▉         | 858/9716 [55:13<9:30:04,  3.86s/it]"
     ]
    },
    {
     "name": "stdout",
     "output_type": "stream",
     "text": [
      "166351 20 14586 151765 [16207, 16206, 16205, 16204, 16203, 16202, 16201, 16200, 16199, 16198, 16197, 16196, 16195, 16194, 16193, 16192, 16191, 16190, 16189, 16188]\n"
     ]
    },
    {
     "name": "stderr",
     "output_type": "stream",
     "text": [
      "\r",
      "  9%|▉         | 859/9716 [55:16<9:29:56,  3.86s/it]"
     ]
    },
    {
     "name": "stdout",
     "output_type": "stream",
     "text": [
      "166359 20 14603 151748 [16224, 16223, 16222, 16221, 16220, 16219, 16218, 16217, 16216, 16215, 16214, 16213, 16212, 16211, 16210, 16209, 16208, 16207, 16206, 16205]\n"
     ]
    },
    {
     "name": "stderr",
     "output_type": "stream",
     "text": [
      "\r",
      "  9%|▉         | 860/9716 [55:19<9:29:42,  3.86s/it]"
     ]
    },
    {
     "name": "stdout",
     "output_type": "stream",
     "text": [
      "166359 20 14620 151739 [16241, 16240, 16239, 16238, 16237, 16236, 16235, 16234, 16233, 16232, 16231, 16230, 16229, 16228, 16227, 16226, 16225, 16224, 16223, 16222]\n"
     ]
    },
    {
     "name": "stderr",
     "output_type": "stream",
     "text": [
      "\r",
      "  9%|▉         | 861/9716 [55:22<9:29:33,  3.86s/it]"
     ]
    },
    {
     "name": "stdout",
     "output_type": "stream",
     "text": [
      "166359 20 14637 151722 [16258, 16257, 16256, 16255, 16254, 16253, 16252, 16251, 16250, 16249, 16248, 16247, 16246, 16245, 16244, 16243, 16242, 16241, 16240, 16239]\n"
     ]
    },
    {
     "name": "stderr",
     "output_type": "stream",
     "text": [
      "\r",
      "  9%|▉         | 862/9716 [55:25<9:29:22,  3.86s/it]"
     ]
    },
    {
     "name": "stdout",
     "output_type": "stream",
     "text": [
      "166371 20 14654 151705 [16279, 16278, 16277, 16276, 16275, 16274, 16273, 16272, 16271, 16270, 16269, 16268, 16267, 16266, 16265, 16264, 16263, 16262, 16261, 16260]\n"
     ]
    },
    {
     "name": "stderr",
     "output_type": "stream",
     "text": [
      "\r",
      "  9%|▉         | 863/9716 [55:29<9:29:13,  3.86s/it]"
     ]
    },
    {
     "name": "stdout",
     "output_type": "stream",
     "text": [
      "166371 20 14671 151700 [16292, 16291, 16290, 16289, 16288, 16287, 16286, 16285, 16284, 16283, 16282, 16281, 16280, 16279, 16278, 16277, 16276, 16275, 16274, 16273]\n"
     ]
    },
    {
     "name": "stderr",
     "output_type": "stream",
     "text": [
      "\r",
      "  9%|▉         | 864/9716 [55:32<9:28:59,  3.86s/it]"
     ]
    },
    {
     "name": "stdout",
     "output_type": "stream",
     "text": [
      "166371 20 14688 151683 [16309, 16308, 16307, 16306, 16305, 16304, 16303, 16302, 16301, 16300, 16299, 16298, 16297, 16296, 16295, 16294, 16293, 16292, 16291, 16290]\n"
     ]
    },
    {
     "name": "stderr",
     "output_type": "stream",
     "text": [
      "\r",
      "  9%|▉         | 865/9716 [55:35<9:28:47,  3.86s/it]"
     ]
    },
    {
     "name": "stdout",
     "output_type": "stream",
     "text": [
      "166371 20 14705 151666 [16326, 16325, 16324, 16323, 16322, 16321, 16320, 16319, 16318, 16317, 16316, 16315, 16314, 16313, 16312, 16311, 16310, 16309, 16308, 16307]\n"
     ]
    },
    {
     "name": "stderr",
     "output_type": "stream",
     "text": [
      "\r",
      "  9%|▉         | 866/9716 [55:38<9:28:34,  3.85s/it]"
     ]
    },
    {
     "name": "stdout",
     "output_type": "stream",
     "text": [
      "166371 20 14722 151649 [16343, 16342, 16341, 16340, 16339, 16338, 16337, 16336, 16335, 16334, 16333, 16332, 16331, 16330, 16329, 16328, 16327, 16326, 16325, 16324]\n"
     ]
    },
    {
     "name": "stderr",
     "output_type": "stream",
     "text": [
      "\r",
      "  9%|▉         | 867/9716 [55:41<9:28:24,  3.85s/it]"
     ]
    },
    {
     "name": "stdout",
     "output_type": "stream",
     "text": [
      "166371 20 14739 151632 [16360, 16359, 16358, 16357, 16356, 16355, 16354, 16353, 16352, 16351, 16350, 16349, 16348, 16347, 16346, 16345, 16344, 16343, 16342, 16341]\n"
     ]
    },
    {
     "name": "stderr",
     "output_type": "stream",
     "text": [
      "\r",
      "  9%|▉         | 868/9716 [55:44<9:28:11,  3.85s/it]"
     ]
    },
    {
     "name": "stdout",
     "output_type": "stream",
     "text": [
      "166371 20 14756 151615 [16377, 16376, 16375, 16374, 16373, 16372, 16371, 16370, 16369, 16368, 16367, 16366, 16365, 16364, 16363, 16362, 16361, 16360, 16359, 16358]\n"
     ]
    },
    {
     "name": "stderr",
     "output_type": "stream",
     "text": [
      "\r",
      "  9%|▉         | 869/9716 [55:47<9:27:57,  3.85s/it]"
     ]
    },
    {
     "name": "stdout",
     "output_type": "stream",
     "text": [
      "166371 20 14773 151598 [16394, 16393, 16392, 16391, 16390, 16389, 16388, 16387, 16386, 16385, 16384, 16383, 16382, 16381, 16380, 16379, 16378, 16377, 16376, 16375]\n"
     ]
    },
    {
     "name": "stderr",
     "output_type": "stream",
     "text": [
      "\r",
      "  9%|▉         | 870/9716 [55:50<9:27:48,  3.85s/it]"
     ]
    },
    {
     "name": "stdout",
     "output_type": "stream",
     "text": [
      "166378 20 14790 151581 [16411, 16410, 16409, 16408, 16407, 16406, 16405, 16404, 16403, 16402, 16401, 16400, 16399, 16398, 16397, 16396, 16395, 16394, 16393, 16392]\n"
     ]
    },
    {
     "name": "stderr",
     "output_type": "stream",
     "text": [
      "\r",
      "  9%|▉         | 871/9716 [55:54<9:27:43,  3.85s/it]"
     ]
    },
    {
     "name": "stdout",
     "output_type": "stream",
     "text": [
      "166383 20 14807 151571 [16433, 16432, 16431, 16430, 16429, 16428, 16427, 16426, 16425, 16424, 16423, 16422, 16421, 16420, 16419, 16418, 16417, 16416, 16415, 16414]\n"
     ]
    },
    {
     "name": "stderr",
     "output_type": "stream",
     "text": [
      "\r",
      "  9%|▉         | 872/9716 [55:57<9:27:31,  3.85s/it]"
     ]
    },
    {
     "name": "stdout",
     "output_type": "stream",
     "text": [
      "166383 20 14824 151559 [16445, 16444, 16443, 16442, 16441, 16440, 16439, 16438, 16437, 16436, 16435, 16434, 16433, 16432, 16431, 16430, 16429, 16428, 16427, 16426]\n"
     ]
    },
    {
     "name": "stderr",
     "output_type": "stream",
     "text": [
      "\r",
      "  9%|▉         | 873/9716 [56:00<9:27:19,  3.85s/it]"
     ]
    },
    {
     "name": "stdout",
     "output_type": "stream",
     "text": [
      "166389 20 14841 151542 [16462, 16461, 16460, 16459, 16458, 16457, 16456, 16455, 16454, 16453, 16452, 16451, 16450, 16449, 16448, 16447, 16446, 16445, 16444, 16443]\n"
     ]
    },
    {
     "name": "stderr",
     "output_type": "stream",
     "text": [
      "\r",
      "  9%|▉         | 874/9716 [56:03<9:27:10,  3.85s/it]"
     ]
    },
    {
     "name": "stdout",
     "output_type": "stream",
     "text": [
      "166392 20 14858 151531 [16482, 16481, 16480, 16479, 16478, 16477, 16476, 16475, 16474, 16473, 16472, 16471, 16470, 16469, 16468, 16467, 16466, 16465, 16464, 16463]\n"
     ]
    },
    {
     "name": "stderr",
     "output_type": "stream",
     "text": [
      "\r",
      "  9%|▉         | 875/9716 [56:06<9:26:59,  3.85s/it]"
     ]
    },
    {
     "name": "stdout",
     "output_type": "stream",
     "text": [
      "166392 20 14875 151517 [16496, 16495, 16494, 16493, 16492, 16491, 16490, 16489, 16488, 16487, 16486, 16485, 16484, 16483, 16482, 16481, 16480, 16479, 16478, 16477]\n"
     ]
    },
    {
     "name": "stderr",
     "output_type": "stream",
     "text": [
      "\r",
      "  9%|▉         | 876/9716 [56:10<9:26:48,  3.85s/it]"
     ]
    },
    {
     "name": "stdout",
     "output_type": "stream",
     "text": [
      "166392 20 14892 151500 [16513, 16512, 16511, 16510, 16509, 16508, 16507, 16506, 16505, 16504, 16503, 16502, 16501, 16500, 16499, 16498, 16497, 16496, 16495, 16494]\n"
     ]
    },
    {
     "name": "stderr",
     "output_type": "stream",
     "text": [
      "\r",
      "  9%|▉         | 877/9716 [56:13<9:26:36,  3.85s/it]"
     ]
    },
    {
     "name": "stdout",
     "output_type": "stream",
     "text": [
      "166392 20 14909 151483 [16530, 16529, 16528, 16527, 16526, 16525, 16524, 16523, 16522, 16521, 16520, 16519, 16518, 16517, 16516, 16515, 16514, 16513, 16512, 16511]\n"
     ]
    },
    {
     "name": "stderr",
     "output_type": "stream",
     "text": [
      "\r",
      "  9%|▉         | 878/9716 [56:16<9:26:30,  3.85s/it]"
     ]
    },
    {
     "name": "stdout",
     "output_type": "stream",
     "text": [
      "166392 20 14926 151466 [16547, 16546, 16545, 16544, 16543, 16542, 16541, 16540, 16539, 16538, 16537, 16536, 16535, 16534, 16533, 16532, 16531, 16530, 16529, 16528]\n"
     ]
    },
    {
     "name": "stderr",
     "output_type": "stream",
     "text": [
      "\r",
      "  9%|▉         | 879/9716 [56:19<9:26:19,  3.85s/it]"
     ]
    },
    {
     "name": "stdout",
     "output_type": "stream",
     "text": [
      "166392 20 14943 151449 [16564, 16563, 16562, 16561, 16560, 16559, 16558, 16557, 16556, 16555, 16554, 16553, 16552, 16551, 16550, 16549, 16548, 16547, 16546, 16545]\n"
     ]
    },
    {
     "name": "stderr",
     "output_type": "stream",
     "text": [
      "\r",
      "  9%|▉         | 880/9716 [56:23<9:26:10,  3.84s/it]"
     ]
    },
    {
     "name": "stdout",
     "output_type": "stream",
     "text": [
      "166392 20 14960 151432 [16581, 16580, 16579, 16578, 16577, 16576, 16575, 16574, 16573, 16572, 16571, 16570, 16569, 16568, 16567, 16566, 16565, 16564, 16563, 16562]\n"
     ]
    },
    {
     "name": "stderr",
     "output_type": "stream",
     "text": [
      "\r",
      "  9%|▉         | 881/9716 [56:26<9:26:01,  3.84s/it]"
     ]
    },
    {
     "name": "stdout",
     "output_type": "stream",
     "text": [
      "166392 20 14977 151415 [16598, 16597, 16596, 16595, 16594, 16593, 16592, 16591, 16590, 16589, 16588, 16587, 16586, 16585, 16584, 16583, 16582, 16581, 16580, 16579]\n"
     ]
    },
    {
     "name": "stderr",
     "output_type": "stream",
     "text": [
      "\r",
      "  9%|▉         | 882/9716 [56:29<9:25:50,  3.84s/it]"
     ]
    },
    {
     "name": "stdout",
     "output_type": "stream",
     "text": [
      "166392 20 14994 151398 [16615, 16614, 16613, 16612, 16611, 16610, 16609, 16608, 16607, 16606, 16605, 16604, 16603, 16602, 16601, 16600, 16599, 16598, 16597, 16596]\n"
     ]
    },
    {
     "name": "stderr",
     "output_type": "stream",
     "text": [
      "\r",
      "  9%|▉         | 883/9716 [56:33<9:25:41,  3.84s/it]"
     ]
    },
    {
     "name": "stdout",
     "output_type": "stream",
     "text": [
      "166395 20 15011 151381 [16632, 16631, 16630, 16629, 16628, 16627, 16626, 16625, 16624, 16623, 16622, 16621, 16620, 16619, 16618, 16617, 16616, 16615, 16614, 16613]\n"
     ]
    },
    {
     "name": "stderr",
     "output_type": "stream",
     "text": [
      "\r",
      "  9%|▉         | 884/9716 [56:36<9:25:31,  3.84s/it]"
     ]
    },
    {
     "name": "stdout",
     "output_type": "stream",
     "text": [
      "166395 20 15028 151367 [16649, 16648, 16647, 16646, 16645, 16644, 16643, 16642, 16641, 16640, 16639, 16638, 16637, 16636, 16635, 16634, 16633, 16632, 16631, 16630]\n"
     ]
    },
    {
     "name": "stderr",
     "output_type": "stream",
     "text": [
      "\r",
      "  9%|▉         | 885/9716 [56:39<9:25:25,  3.84s/it]"
     ]
    },
    {
     "name": "stdout",
     "output_type": "stream",
     "text": [
      "166395 20 15045 151350 [16666, 16665, 16664, 16663, 16662, 16661, 16660, 16659, 16658, 16657, 16656, 16655, 16654, 16653, 16652, 16651, 16650, 16649, 16648, 16647]\n"
     ]
    },
    {
     "name": "stderr",
     "output_type": "stream",
     "text": [
      "\r",
      "  9%|▉         | 886/9716 [56:43<9:25:16,  3.84s/it]"
     ]
    },
    {
     "name": "stdout",
     "output_type": "stream",
     "text": [
      "166401 20 15062 151333 [16683, 16682, 16681, 16680, 16679, 16678, 16677, 16676, 16675, 16674, 16673, 16672, 16671, 16670, 16669, 16668, 16667, 16666, 16665, 16664]\n"
     ]
    },
    {
     "name": "stderr",
     "output_type": "stream",
     "text": [
      "\r",
      "  9%|▉         | 887/9716 [56:46<9:25:06,  3.84s/it]"
     ]
    },
    {
     "name": "stdout",
     "output_type": "stream",
     "text": [
      "166401 20 15079 151322 [16700, 16699, 16698, 16697, 16696, 16695, 16694, 16693, 16692, 16691, 16690, 16689, 16688, 16687, 16686, 16685, 16684, 16683, 16682, 16681]\n"
     ]
    },
    {
     "name": "stderr",
     "output_type": "stream",
     "text": [
      "\r",
      "  9%|▉         | 888/9716 [56:49<9:24:59,  3.84s/it]"
     ]
    },
    {
     "name": "stdout",
     "output_type": "stream",
     "text": [
      "166401 20 15096 151305 [16717, 16716, 16715, 16714, 16713, 16712, 16711, 16710, 16709, 16708, 16707, 16706, 16705, 16704, 16703, 16702, 16701, 16700, 16699, 16698]\n"
     ]
    },
    {
     "name": "stderr",
     "output_type": "stream",
     "text": [
      "\r",
      "  9%|▉         | 889/9716 [56:52<9:24:47,  3.84s/it]"
     ]
    },
    {
     "name": "stdout",
     "output_type": "stream",
     "text": [
      "166401 20 15113 151288 [16734, 16733, 16732, 16731, 16730, 16729, 16728, 16727, 16726, 16725, 16724, 16723, 16722, 16721, 16720, 16719, 16718, 16717, 16716, 16715]\n"
     ]
    },
    {
     "name": "stderr",
     "output_type": "stream",
     "text": [
      "\r",
      "  9%|▉         | 890/9716 [56:55<9:24:34,  3.84s/it]"
     ]
    },
    {
     "name": "stdout",
     "output_type": "stream",
     "text": [
      "166401 20 15130 151271 [16751, 16750, 16749, 16748, 16747, 16746, 16745, 16744, 16743, 16742, 16741, 16740, 16739, 16738, 16737, 16736, 16735, 16734, 16733, 16732]\n"
     ]
    },
    {
     "name": "stderr",
     "output_type": "stream",
     "text": [
      "\r",
      "  9%|▉         | 891/9716 [56:59<9:24:23,  3.84s/it]"
     ]
    },
    {
     "name": "stdout",
     "output_type": "stream",
     "text": [
      "166406 20 15147 151254 [16768, 16767, 16766, 16765, 16764, 16763, 16762, 16761, 16760, 16759, 16758, 16757, 16756, 16755, 16754, 16753, 16752, 16751, 16750, 16749]\n"
     ]
    },
    {
     "name": "stderr",
     "output_type": "stream",
     "text": [
      "\r",
      "  9%|▉         | 892/9716 [57:02<9:24:15,  3.84s/it]"
     ]
    },
    {
     "name": "stdout",
     "output_type": "stream",
     "text": [
      "166406 20 15164 151242 [16785, 16784, 16783, 16782, 16781, 16780, 16779, 16778, 16777, 16776, 16775, 16774, 16773, 16772, 16771, 16770, 16769, 16768, 16767, 16766]\n"
     ]
    },
    {
     "name": "stderr",
     "output_type": "stream",
     "text": [
      "\r",
      "  9%|▉         | 893/9716 [57:05<9:24:04,  3.84s/it]"
     ]
    },
    {
     "name": "stdout",
     "output_type": "stream",
     "text": [
      "166406 20 15181 151225 [16802, 16801, 16800, 16799, 16798, 16797, 16796, 16795, 16794, 16793, 16792, 16791, 16790, 16789, 16788, 16787, 16786, 16785, 16784, 16783]\n"
     ]
    },
    {
     "name": "stderr",
     "output_type": "stream",
     "text": [
      "\r",
      "  9%|▉         | 894/9716 [57:08<9:23:55,  3.84s/it]"
     ]
    },
    {
     "name": "stdout",
     "output_type": "stream",
     "text": [
      "166406 20 15198 151208 [16819, 16818, 16817, 16816, 16815, 16814, 16813, 16812, 16811, 16810, 16809, 16808, 16807, 16806, 16805, 16804, 16803, 16802, 16801, 16800]\n"
     ]
    },
    {
     "name": "stderr",
     "output_type": "stream",
     "text": [
      "\r",
      "  9%|▉         | 895/9716 [57:11<9:23:44,  3.83s/it]"
     ]
    },
    {
     "name": "stdout",
     "output_type": "stream",
     "text": [
      "166406 20 15215 151191 [16836, 16835, 16834, 16833, 16832, 16831, 16830, 16829, 16828, 16827, 16826, 16825, 16824, 16823, 16822, 16821, 16820, 16819, 16818, 16817]\n"
     ]
    },
    {
     "name": "stderr",
     "output_type": "stream",
     "text": [
      "\r",
      "  9%|▉         | 896/9716 [57:15<9:23:36,  3.83s/it]"
     ]
    },
    {
     "name": "stdout",
     "output_type": "stream",
     "text": [
      "166406 20 15232 151174 [16853, 16852, 16851, 16850, 16849, 16848, 16847, 16846, 16845, 16844, 16843, 16842, 16841, 16840, 16839, 16838, 16837, 16836, 16835, 16834]\n"
     ]
    },
    {
     "name": "stderr",
     "output_type": "stream",
     "text": [
      "\r",
      "  9%|▉         | 897/9716 [57:18<9:23:28,  3.83s/it]"
     ]
    },
    {
     "name": "stdout",
     "output_type": "stream",
     "text": [
      "166406 20 15249 151157 [16870, 16869, 16868, 16867, 16866, 16865, 16864, 16863, 16862, 16861, 16860, 16859, 16858, 16857, 16856, 16855, 16854, 16853, 16852, 16851]\n"
     ]
    },
    {
     "name": "stderr",
     "output_type": "stream",
     "text": [
      "\r",
      "  9%|▉         | 898/9716 [57:22<9:23:21,  3.83s/it]"
     ]
    },
    {
     "name": "stdout",
     "output_type": "stream",
     "text": [
      "166406 20 15266 151140 [16887, 16886, 16885, 16884, 16883, 16882, 16881, 16880, 16879, 16878, 16877, 16876, 16875, 16874, 16873, 16872, 16871, 16870, 16869, 16868]\n"
     ]
    },
    {
     "name": "stderr",
     "output_type": "stream",
     "text": [
      "\r",
      "  9%|▉         | 899/9716 [57:26<9:23:17,  3.83s/it]"
     ]
    },
    {
     "name": "stdout",
     "output_type": "stream",
     "text": [
      "166406 20 15283 151123 [16904, 16903, 16902, 16901, 16900, 16899, 16898, 16897, 16896, 16895, 16894, 16893, 16892, 16891, 16890, 16889, 16888, 16887, 16886, 16885]\n"
     ]
    },
    {
     "name": "stderr",
     "output_type": "stream",
     "text": [
      "\r",
      "  9%|▉         | 900/9716 [57:30<9:23:18,  3.83s/it]"
     ]
    },
    {
     "name": "stdout",
     "output_type": "stream",
     "text": [
      "166415 20 15300 151106 [16921, 16920, 16919, 16918, 16917, 16916, 16915, 16914, 16913, 16912, 16911, 16910, 16909, 16908, 16907, 16906, 16905, 16904, 16903, 16902]\n"
     ]
    },
    {
     "name": "stderr",
     "output_type": "stream",
     "text": [
      "\r",
      "  9%|▉         | 901/9716 [57:34<9:23:17,  3.83s/it]"
     ]
    },
    {
     "name": "stdout",
     "output_type": "stream",
     "text": [
      "166419 20 15317 151098 [16942, 16941, 16940, 16939, 16938, 16937, 16936, 16935, 16934, 16933, 16932, 16931, 16930, 16929, 16928, 16927, 16926, 16925, 16924, 16923]\n"
     ]
    },
    {
     "name": "stderr",
     "output_type": "stream",
     "text": [
      "\r",
      "  9%|▉         | 902/9716 [57:38<9:23:11,  3.83s/it]"
     ]
    },
    {
     "name": "stdout",
     "output_type": "stream",
     "text": [
      "166419 20 15334 151085 [16955, 16954, 16953, 16952, 16951, 16950, 16949, 16948, 16947, 16946, 16945, 16944, 16943, 16942, 16941, 16940, 16939, 16938, 16937, 16936]\n"
     ]
    },
    {
     "name": "stderr",
     "output_type": "stream",
     "text": [
      "\r",
      "  9%|▉         | 903/9716 [57:41<9:23:06,  3.83s/it]"
     ]
    },
    {
     "name": "stdout",
     "output_type": "stream",
     "text": [
      "166419 20 15351 151068 [16972, 16971, 16970, 16969, 16968, 16967, 16966, 16965, 16964, 16963, 16962, 16961, 16960, 16959, 16958, 16957, 16956, 16955, 16954, 16953]\n"
     ]
    },
    {
     "name": "stderr",
     "output_type": "stream",
     "text": [
      "\r",
      "  9%|▉         | 904/9716 [57:45<9:23:03,  3.83s/it]"
     ]
    },
    {
     "name": "stdout",
     "output_type": "stream",
     "text": [
      "166419 20 15368 151051 [16989, 16988, 16987, 16986, 16985, 16984, 16983, 16982, 16981, 16980, 16979, 16978, 16977, 16976, 16975, 16974, 16973, 16972, 16971, 16970]\n"
     ]
    },
    {
     "name": "stderr",
     "output_type": "stream",
     "text": [
      "\r",
      "  9%|▉         | 905/9716 [57:49<9:22:55,  3.83s/it]"
     ]
    },
    {
     "name": "stdout",
     "output_type": "stream",
     "text": [
      "166419 20 15385 151034 [17006, 17005, 17004, 17003, 17002, 17001, 17000, 16999, 16998, 16997, 16996, 16995, 16994, 16993, 16992, 16991, 16990, 16989, 16988, 16987]\n"
     ]
    },
    {
     "name": "stderr",
     "output_type": "stream",
     "text": [
      "\r",
      "  9%|▉         | 906/9716 [57:53<9:22:57,  3.83s/it]"
     ]
    },
    {
     "name": "stdout",
     "output_type": "stream",
     "text": [
      "166419 20 15402 151017 [17023, 17022, 17021, 17020, 17019, 17018, 17017, 17016, 17015, 17014, 17013, 17012, 17011, 17010, 17009, 17008, 17007, 17006, 17005, 17004]\n"
     ]
    },
    {
     "name": "stderr",
     "output_type": "stream",
     "text": [
      "\r",
      "  9%|▉         | 907/9716 [57:57<9:22:58,  3.83s/it]"
     ]
    },
    {
     "name": "stdout",
     "output_type": "stream",
     "text": [
      "166419 20 15419 151000 [17040, 17039, 17038, 17037, 17036, 17035, 17034, 17033, 17032, 17031, 17030, 17029, 17028, 17027, 17026, 17025, 17024, 17023, 17022, 17021]\n"
     ]
    },
    {
     "name": "stderr",
     "output_type": "stream",
     "text": [
      "\r",
      "  9%|▉         | 908/9716 [58:02<9:23:01,  3.84s/it]"
     ]
    },
    {
     "name": "stdout",
     "output_type": "stream",
     "text": [
      "166423 20 15436 150983 [17057, 17056, 17055, 17054, 17053, 17052, 17051, 17050, 17049, 17048, 17047, 17046, 17045, 17044, 17043, 17042, 17041, 17040, 17039, 17038]\n"
     ]
    },
    {
     "name": "stderr",
     "output_type": "stream",
     "text": [
      "\r",
      "  9%|▉         | 909/9716 [58:06<9:22:55,  3.84s/it]"
     ]
    },
    {
     "name": "stdout",
     "output_type": "stream",
     "text": [
      "166423 20 15453 150970 [17074, 17073, 17072, 17071, 17070, 17069, 17068, 17067, 17066, 17065, 17064, 17063, 17062, 17061, 17060, 17059, 17058, 17057, 17056, 17055]\n"
     ]
    },
    {
     "name": "stderr",
     "output_type": "stream",
     "text": [
      "\r",
      "  9%|▉         | 910/9716 [58:09<9:22:48,  3.83s/it]"
     ]
    },
    {
     "name": "stdout",
     "output_type": "stream",
     "text": [
      "166423 20 15470 150953 [17091, 17090, 17089, 17088, 17087, 17086, 17085, 17084, 17083, 17082, 17081, 17080, 17079, 17078, 17077, 17076, 17075, 17074, 17073, 17072]\n"
     ]
    },
    {
     "name": "stderr",
     "output_type": "stream",
     "text": [
      "\r",
      "  9%|▉         | 911/9716 [58:13<9:22:46,  3.83s/it]"
     ]
    },
    {
     "name": "stdout",
     "output_type": "stream",
     "text": [
      "166423 20 15487 150936 [17108, 17107, 17106, 17105, 17104, 17103, 17102, 17101, 17100, 17099, 17098, 17097, 17096, 17095, 17094, 17093, 17092, 17091, 17090, 17089]\n"
     ]
    },
    {
     "name": "stderr",
     "output_type": "stream",
     "text": [
      "\r",
      "  9%|▉         | 912/9716 [58:17<9:22:47,  3.84s/it]"
     ]
    },
    {
     "name": "stdout",
     "output_type": "stream",
     "text": [
      "166424 20 15504 150919 [17126, 17125, 17124, 17123, 17122, 17121, 17120, 17119, 17118, 17117, 17116, 17115, 17114, 17113, 17112, 17111, 17110, 17109, 17108, 17107]\n"
     ]
    },
    {
     "name": "stderr",
     "output_type": "stream",
     "text": [
      "\r",
      "  9%|▉         | 913/9716 [58:21<9:22:42,  3.84s/it]"
     ]
    },
    {
     "name": "stdout",
     "output_type": "stream",
     "text": [
      "166424 20 15521 150903 [17142, 17141, 17140, 17139, 17138, 17137, 17136, 17135, 17134, 17133, 17132, 17131, 17130, 17129, 17128, 17127, 17126, 17125, 17124, 17123]\n"
     ]
    },
    {
     "name": "stderr",
     "output_type": "stream",
     "text": [
      "\r",
      "  9%|▉         | 914/9716 [58:25<9:22:36,  3.84s/it]"
     ]
    },
    {
     "name": "stdout",
     "output_type": "stream",
     "text": [
      "166430 20 15538 150886 [17161, 17160, 17159, 17158, 17157, 17156, 17155, 17154, 17153, 17152, 17151, 17150, 17149, 17148, 17147, 17146, 17145, 17144, 17143, 17142]\n"
     ]
    },
    {
     "name": "stderr",
     "output_type": "stream",
     "text": [
      "\r",
      "  9%|▉         | 915/9716 [58:28<9:22:31,  3.83s/it]"
     ]
    },
    {
     "name": "stdout",
     "output_type": "stream",
     "text": [
      "166430 20 15555 150875 [17176, 17175, 17174, 17173, 17172, 17171, 17170, 17169, 17168, 17167, 17166, 17165, 17164, 17163, 17162, 17161, 17160, 17159, 17158, 17157]\n"
     ]
    },
    {
     "name": "stderr",
     "output_type": "stream",
     "text": [
      "\r",
      "  9%|▉         | 916/9716 [58:33<9:22:31,  3.84s/it]"
     ]
    },
    {
     "name": "stdout",
     "output_type": "stream",
     "text": [
      "166430 20 15572 150858 [17193, 17192, 17191, 17190, 17189, 17188, 17187, 17186, 17185, 17184, 17183, 17182, 17181, 17180, 17179, 17178, 17177, 17176, 17175, 17174]\n"
     ]
    },
    {
     "name": "stderr",
     "output_type": "stream",
     "text": [
      "\r",
      "  9%|▉         | 917/9716 [58:36<9:22:24,  3.84s/it]"
     ]
    },
    {
     "name": "stdout",
     "output_type": "stream",
     "text": [
      "166430 20 15589 150841 [17210, 17209, 17208, 17207, 17206, 17205, 17204, 17203, 17202, 17201, 17200, 17199, 17198, 17197, 17196, 17195, 17194, 17193, 17192, 17191]\n"
     ]
    },
    {
     "name": "stderr",
     "output_type": "stream",
     "text": [
      "\r",
      "  9%|▉         | 918/9716 [58:40<9:22:22,  3.84s/it]"
     ]
    },
    {
     "name": "stdout",
     "output_type": "stream",
     "text": [
      "166430 20 15606 150824 [17227, 17226, 17225, 17224, 17223, 17222, 17221, 17220, 17219, 17218, 17217, 17216, 17215, 17214, 17213, 17212, 17211, 17210, 17209, 17208]\n"
     ]
    },
    {
     "name": "stderr",
     "output_type": "stream",
     "text": [
      "\r",
      "  9%|▉         | 919/9716 [58:44<9:22:20,  3.84s/it]"
     ]
    },
    {
     "name": "stdout",
     "output_type": "stream",
     "text": [
      "166437 20 15623 150807 [17244, 17243, 17242, 17241, 17240, 17239, 17238, 17237, 17236, 17235, 17234, 17233, 17232, 17231, 17230, 17229, 17228, 17227, 17226, 17225]\n"
     ]
    },
    {
     "name": "stderr",
     "output_type": "stream",
     "text": [
      "\r",
      "  9%|▉         | 920/9716 [58:48<9:22:14,  3.84s/it]"
     ]
    },
    {
     "name": "stdout",
     "output_type": "stream",
     "text": [
      "166437 20 15640 150797 [17261, 17260, 17259, 17258, 17257, 17256, 17255, 17254, 17253, 17252, 17251, 17250, 17249, 17248, 17247, 17246, 17245, 17244, 17243, 17242]\n"
     ]
    },
    {
     "name": "stderr",
     "output_type": "stream",
     "text": [
      "\r",
      "  9%|▉         | 921/9716 [58:51<9:22:04,  3.83s/it]"
     ]
    },
    {
     "name": "stdout",
     "output_type": "stream",
     "text": [
      "166437 20 15657 150780 [17278, 17277, 17276, 17275, 17274, 17273, 17272, 17271, 17270, 17269, 17268, 17267, 17266, 17265, 17264, 17263, 17262, 17261, 17260, 17259]\n"
     ]
    },
    {
     "name": "stderr",
     "output_type": "stream",
     "text": [
      "\r",
      "  9%|▉         | 922/9716 [58:54<9:21:54,  3.83s/it]"
     ]
    },
    {
     "name": "stdout",
     "output_type": "stream",
     "text": [
      "166437 20 15674 150763 [17295, 17294, 17293, 17292, 17291, 17290, 17289, 17288, 17287, 17286, 17285, 17284, 17283, 17282, 17281, 17280, 17279, 17278, 17277, 17276]\n"
     ]
    },
    {
     "name": "stderr",
     "output_type": "stream",
     "text": [
      "\r",
      "  9%|▉         | 923/9716 [58:58<9:21:44,  3.83s/it]"
     ]
    },
    {
     "name": "stdout",
     "output_type": "stream",
     "text": [
      "166437 20 15691 150746 [17312, 17311, 17310, 17309, 17308, 17307, 17306, 17305, 17304, 17303, 17302, 17301, 17300, 17299, 17298, 17297, 17296, 17295, 17294, 17293]\n"
     ]
    },
    {
     "name": "stderr",
     "output_type": "stream",
     "text": [
      "\r",
      " 10%|▉         | 924/9716 [59:01<9:21:34,  3.83s/it]"
     ]
    },
    {
     "name": "stdout",
     "output_type": "stream",
     "text": [
      "166437 20 15708 150729 [17329, 17328, 17327, 17326, 17325, 17324, 17323, 17322, 17321, 17320, 17319, 17318, 17317, 17316, 17315, 17314, 17313, 17312, 17311, 17310]\n"
     ]
    },
    {
     "name": "stderr",
     "output_type": "stream",
     "text": [
      "\r",
      " 10%|▉         | 925/9716 [59:04<9:21:27,  3.83s/it]"
     ]
    },
    {
     "name": "stdout",
     "output_type": "stream",
     "text": [
      "166443 20 15725 150712 [17346, 17345, 17344, 17343, 17342, 17341, 17340, 17339, 17338, 17337, 17336, 17335, 17334, 17333, 17332, 17331, 17330, 17329, 17328, 17327]\n"
     ]
    },
    {
     "name": "stderr",
     "output_type": "stream",
     "text": [
      "\r",
      " 10%|▉         | 926/9716 [59:07<9:21:18,  3.83s/it]"
     ]
    },
    {
     "name": "stdout",
     "output_type": "stream",
     "text": [
      "166443 20 15742 150701 [17363, 17362, 17361, 17360, 17359, 17358, 17357, 17356, 17355, 17354, 17353, 17352, 17351, 17350, 17349, 17348, 17347, 17346, 17345, 17344]\n"
     ]
    },
    {
     "name": "stderr",
     "output_type": "stream",
     "text": [
      "\r",
      " 10%|▉         | 927/9716 [59:11<9:21:08,  3.83s/it]"
     ]
    },
    {
     "name": "stdout",
     "output_type": "stream",
     "text": [
      "166443 20 15759 150684 [17380, 17379, 17378, 17377, 17376, 17375, 17374, 17373, 17372, 17371, 17370, 17369, 17368, 17367, 17366, 17365, 17364, 17363, 17362, 17361]\n"
     ]
    },
    {
     "name": "stderr",
     "output_type": "stream",
     "text": [
      "\r",
      " 10%|▉         | 928/9716 [59:14<9:21:05,  3.83s/it]"
     ]
    },
    {
     "name": "stdout",
     "output_type": "stream",
     "text": [
      "166449 20 15776 150667 [17397, 17396, 17395, 17394, 17393, 17392, 17391, 17390, 17389, 17388, 17387, 17386, 17385, 17384, 17383, 17382, 17381, 17380, 17379, 17378]\n"
     ]
    },
    {
     "name": "stderr",
     "output_type": "stream",
     "text": [
      "\r",
      " 10%|▉         | 929/9716 [59:18<9:20:55,  3.83s/it]"
     ]
    },
    {
     "name": "stdout",
     "output_type": "stream",
     "text": [
      "166454 20 15793 150656 [17418, 17417, 17416, 17415, 17414, 17413, 17412, 17411, 17410, 17409, 17408, 17407, 17406, 17405, 17404, 17403, 17402, 17401, 17400, 17399]\n"
     ]
    },
    {
     "name": "stderr",
     "output_type": "stream",
     "text": [
      "\r",
      " 10%|▉         | 930/9716 [59:21<9:20:45,  3.83s/it]"
     ]
    },
    {
     "name": "stdout",
     "output_type": "stream",
     "text": [
      "166455 20 15810 150644 [17432, 17431, 17430, 17429, 17428, 17427, 17426, 17425, 17424, 17423, 17422, 17421, 17420, 17419, 17418, 17417, 17416, 17415, 17414, 17413]\n"
     ]
    },
    {
     "name": "stderr",
     "output_type": "stream",
     "text": [
      "\r",
      " 10%|▉         | 931/9716 [59:24<9:20:37,  3.83s/it]"
     ]
    },
    {
     "name": "stdout",
     "output_type": "stream",
     "text": [
      "166455 20 15827 150628 [17448, 17447, 17446, 17445, 17444, 17443, 17442, 17441, 17440, 17439, 17438, 17437, 17436, 17435, 17434, 17433, 17432, 17431, 17430, 17429]\n"
     ]
    },
    {
     "name": "stderr",
     "output_type": "stream",
     "text": [
      "\r",
      " 10%|▉         | 932/9716 [59:28<9:20:31,  3.83s/it]"
     ]
    },
    {
     "name": "stdout",
     "output_type": "stream",
     "text": [
      "166460 20 15844 150611 [17465, 17464, 17463, 17462, 17461, 17460, 17459, 17458, 17457, 17456, 17455, 17454, 17453, 17452, 17451, 17450, 17449, 17448, 17447, 17446]\n"
     ]
    },
    {
     "name": "stderr",
     "output_type": "stream",
     "text": [
      "\r",
      " 10%|▉         | 933/9716 [59:32<9:20:26,  3.83s/it]"
     ]
    },
    {
     "name": "stdout",
     "output_type": "stream",
     "text": [
      "166460 20 15861 150599 [17482, 17481, 17480, 17479, 17478, 17477, 17476, 17475, 17474, 17473, 17472, 17471, 17470, 17469, 17468, 17467, 17466, 17465, 17464, 17463]\n"
     ]
    },
    {
     "name": "stderr",
     "output_type": "stream",
     "text": [
      "\r",
      " 10%|▉         | 934/9716 [59:35<9:20:19,  3.83s/it]"
     ]
    },
    {
     "name": "stdout",
     "output_type": "stream",
     "text": [
      "166460 20 15878 150582 [17499, 17498, 17497, 17496, 17495, 17494, 17493, 17492, 17491, 17490, 17489, 17488, 17487, 17486, 17485, 17484, 17483, 17482, 17481, 17480]\n"
     ]
    },
    {
     "name": "stderr",
     "output_type": "stream",
     "text": [
      "\r",
      " 10%|▉         | 935/9716 [59:38<9:20:10,  3.83s/it]"
     ]
    },
    {
     "name": "stdout",
     "output_type": "stream",
     "text": [
      "166460 20 15895 150565 [17516, 17515, 17514, 17513, 17512, 17511, 17510, 17509, 17508, 17507, 17506, 17505, 17504, 17503, 17502, 17501, 17500, 17499, 17498, 17497]\n"
     ]
    },
    {
     "name": "stderr",
     "output_type": "stream",
     "text": [
      "\r",
      " 10%|▉         | 936/9716 [59:42<9:20:03,  3.83s/it]"
     ]
    },
    {
     "name": "stdout",
     "output_type": "stream",
     "text": [
      "166460 20 15912 150548 [17533, 17532, 17531, 17530, 17529, 17528, 17527, 17526, 17525, 17524, 17523, 17522, 17521, 17520, 17519, 17518, 17517, 17516, 17515, 17514]\n"
     ]
    },
    {
     "name": "stderr",
     "output_type": "stream",
     "text": [
      "\r",
      " 10%|▉         | 937/9716 [59:45<9:19:56,  3.83s/it]"
     ]
    },
    {
     "name": "stdout",
     "output_type": "stream",
     "text": [
      "166460 20 15929 150531 [17550, 17549, 17548, 17547, 17546, 17545, 17544, 17543, 17542, 17541, 17540, 17539, 17538, 17537, 17536, 17535, 17534, 17533, 17532, 17531]\n"
     ]
    },
    {
     "name": "stderr",
     "output_type": "stream",
     "text": [
      "\r",
      " 10%|▉         | 938/9716 [59:49<9:19:49,  3.83s/it]"
     ]
    },
    {
     "name": "stdout",
     "output_type": "stream",
     "text": [
      "166460 20 15946 150514 [17567, 17566, 17565, 17564, 17563, 17562, 17561, 17560, 17559, 17558, 17557, 17556, 17555, 17554, 17553, 17552, 17551, 17550, 17549, 17548]\n"
     ]
    },
    {
     "name": "stderr",
     "output_type": "stream",
     "text": [
      "\r",
      " 10%|▉         | 939/9716 [59:52<9:19:38,  3.83s/it]"
     ]
    },
    {
     "name": "stdout",
     "output_type": "stream",
     "text": [
      "166460 20 15963 150497 [17584, 17583, 17582, 17581, 17580, 17579, 17578, 17577, 17576, 17575, 17574, 17573, 17572, 17571, 17570, 17569, 17568, 17567, 17566, 17565]\n"
     ]
    },
    {
     "name": "stderr",
     "output_type": "stream",
     "text": [
      "\r",
      " 10%|▉         | 940/9716 [59:55<9:19:27,  3.82s/it]"
     ]
    },
    {
     "name": "stdout",
     "output_type": "stream",
     "text": [
      "166465 20 15980 150480 [17601, 17600, 17599, 17598, 17597, 17596, 17595, 17594, 17593, 17592, 17591, 17590, 17589, 17588, 17587, 17586, 17585, 17584, 17583, 17582]\n"
     ]
    },
    {
     "name": "stderr",
     "output_type": "stream",
     "text": [
      "\r",
      " 10%|▉         | 941/9716 [59:58<9:19:20,  3.82s/it]"
     ]
    },
    {
     "name": "stdout",
     "output_type": "stream",
     "text": [
      "166469 20 15997 150468 [17622, 17621, 17620, 17619, 17618, 17617, 17616, 17615, 17614, 17613, 17612, 17611, 17610, 17609, 17608, 17607, 17606, 17605, 17604, 17603]\n"
     ]
    },
    {
     "name": "stderr",
     "output_type": "stream",
     "text": [
      "\r",
      " 10%|▉         | 942/9716 [1:00:02<9:19:12,  3.82s/it]"
     ]
    },
    {
     "name": "stdout",
     "output_type": "stream",
     "text": [
      "166469 20 16014 150455 [17635, 17634, 17633, 17632, 17631, 17630, 17629, 17628, 17627, 17626, 17625, 17624, 17623, 17622, 17621, 17620, 17619, 17618, 17617, 17616]\n"
     ]
    },
    {
     "name": "stderr",
     "output_type": "stream",
     "text": [
      "\r",
      " 10%|▉         | 943/9716 [1:00:05<9:19:00,  3.82s/it]"
     ]
    },
    {
     "name": "stdout",
     "output_type": "stream",
     "text": [
      "166469 20 16031 150438 [17652, 17651, 17650, 17649, 17648, 17647, 17646, 17645, 17644, 17643, 17642, 17641, 17640, 17639, 17638, 17637, 17636, 17635, 17634, 17633]\n"
     ]
    },
    {
     "name": "stderr",
     "output_type": "stream",
     "text": [
      "\r",
      " 10%|▉         | 944/9716 [1:00:08<9:18:51,  3.82s/it]"
     ]
    },
    {
     "name": "stdout",
     "output_type": "stream",
     "text": [
      "166469 20 16048 150421 [17669, 17668, 17667, 17666, 17665, 17664, 17663, 17662, 17661, 17660, 17659, 17658, 17657, 17656, 17655, 17654, 17653, 17652, 17651, 17650]\n"
     ]
    },
    {
     "name": "stderr",
     "output_type": "stream",
     "text": [
      "\r",
      " 10%|▉         | 945/9716 [1:00:11<9:18:44,  3.82s/it]"
     ]
    },
    {
     "name": "stdout",
     "output_type": "stream",
     "text": [
      "166469 20 16065 150404 [17686, 17685, 17684, 17683, 17682, 17681, 17680, 17679, 17678, 17677, 17676, 17675, 17674, 17673, 17672, 17671, 17670, 17669, 17668, 17667]\n"
     ]
    },
    {
     "name": "stderr",
     "output_type": "stream",
     "text": [
      "\r",
      " 10%|▉         | 946/9716 [1:00:15<9:18:40,  3.82s/it]"
     ]
    },
    {
     "name": "stdout",
     "output_type": "stream",
     "text": [
      "166469 20 16082 150387 [17703, 17702, 17701, 17700, 17699, 17698, 17697, 17696, 17695, 17694, 17693, 17692, 17691, 17690, 17689, 17688, 17687, 17686, 17685, 17684]\n"
     ]
    },
    {
     "name": "stderr",
     "output_type": "stream",
     "text": [
      "\r",
      " 10%|▉         | 947/9716 [1:00:18<9:18:28,  3.82s/it]"
     ]
    },
    {
     "name": "stdout",
     "output_type": "stream",
     "text": [
      "166469 20 16099 150370 [17720, 17719, 17718, 17717, 17716, 17715, 17714, 17713, 17712, 17711, 17710, 17709, 17708, 17707, 17706, 17705, 17704, 17703, 17702, 17701]\n"
     ]
    },
    {
     "name": "stderr",
     "output_type": "stream",
     "text": [
      "\r",
      " 10%|▉         | 948/9716 [1:00:21<9:18:16,  3.82s/it]"
     ]
    },
    {
     "name": "stdout",
     "output_type": "stream",
     "text": [
      "166469 20 16116 150353 [17737, 17736, 17735, 17734, 17733, 17732, 17731, 17730, 17729, 17728, 17727, 17726, 17725, 17724, 17723, 17722, 17721, 17720, 17719, 17718]\n"
     ]
    },
    {
     "name": "stderr",
     "output_type": "stream",
     "text": [
      "\r",
      " 10%|▉         | 949/9716 [1:00:25<9:18:08,  3.82s/it]"
     ]
    },
    {
     "name": "stdout",
     "output_type": "stream",
     "text": [
      "166469 20 16133 150336 [17754, 17753, 17752, 17751, 17750, 17749, 17748, 17747, 17746, 17745, 17744, 17743, 17742, 17741, 17740, 17739, 17738, 17737, 17736, 17735]\n"
     ]
    },
    {
     "name": "stderr",
     "output_type": "stream",
     "text": [
      "\r",
      " 10%|▉         | 950/9716 [1:00:28<9:18:01,  3.82s/it]"
     ]
    },
    {
     "name": "stdout",
     "output_type": "stream",
     "text": [
      "166476 20 16150 150319 [17771, 17770, 17769, 17768, 17767, 17766, 17765, 17764, 17763, 17762, 17761, 17760, 17759, 17758, 17757, 17756, 17755, 17754, 17753, 17752]\n"
     ]
    },
    {
     "name": "stderr",
     "output_type": "stream",
     "text": [
      "\r",
      " 10%|▉         | 951/9716 [1:00:31<9:17:54,  3.82s/it]"
     ]
    },
    {
     "name": "stdout",
     "output_type": "stream",
     "text": [
      "166494 20 16167 150309 [17790, 17789, 17788, 17787, 17786, 17785, 17784, 17783, 17782, 17781, 17780, 17779, 17778, 17777, 17776, 17775, 17774, 17773, 17772, 17771]\n"
     ]
    },
    {
     "name": "stderr",
     "output_type": "stream",
     "text": [
      "\r",
      " 10%|▉         | 952/9716 [1:00:35<9:17:45,  3.82s/it]"
     ]
    },
    {
     "name": "stdout",
     "output_type": "stream",
     "text": [
      "166503 20 16184 150310 [17805, 17804, 17803, 17802, 17801, 17800, 17799, 17798, 17797, 17796, 17795, 17794, 17793, 17792, 17791, 17790, 17789, 17788, 17787, 17786]\n"
     ]
    },
    {
     "name": "stderr",
     "output_type": "stream",
     "text": [
      "\r",
      " 10%|▉         | 953/9716 [1:00:38<9:17:37,  3.82s/it]"
     ]
    },
    {
     "name": "stdout",
     "output_type": "stream",
     "text": [
      "166503 20 16201 150302 [17822, 17821, 17820, 17819, 17818, 17817, 17816, 17815, 17814, 17813, 17812, 17811, 17810, 17809, 17808, 17807, 17806, 17805, 17804, 17803]\n"
     ]
    },
    {
     "name": "stderr",
     "output_type": "stream",
     "text": [
      "\r",
      " 10%|▉         | 954/9716 [1:00:41<9:17:27,  3.82s/it]"
     ]
    },
    {
     "name": "stdout",
     "output_type": "stream",
     "text": [
      "166503 20 16218 150285 [17839, 17838, 17837, 17836, 17835, 17834, 17833, 17832, 17831, 17830, 17829, 17828, 17827, 17826, 17825, 17824, 17823, 17822, 17821, 17820]\n"
     ]
    },
    {
     "name": "stderr",
     "output_type": "stream",
     "text": [
      "\r",
      " 10%|▉         | 955/9716 [1:00:44<9:17:17,  3.82s/it]"
     ]
    },
    {
     "name": "stdout",
     "output_type": "stream",
     "text": [
      "166503 20 16235 150268 [17856, 17855, 17854, 17853, 17852, 17851, 17850, 17849, 17848, 17847, 17846, 17845, 17844, 17843, 17842, 17841, 17840, 17839, 17838, 17837]\n"
     ]
    },
    {
     "name": "stderr",
     "output_type": "stream",
     "text": [
      "\r",
      " 10%|▉         | 956/9716 [1:00:47<9:17:06,  3.82s/it]"
     ]
    },
    {
     "name": "stdout",
     "output_type": "stream",
     "text": [
      "166503 20 16252 150251 [17873, 17872, 17871, 17870, 17869, 17868, 17867, 17866, 17865, 17864, 17863, 17862, 17861, 17860, 17859, 17858, 17857, 17856, 17855, 17854]\n"
     ]
    },
    {
     "name": "stderr",
     "output_type": "stream",
     "text": [
      "\r",
      " 10%|▉         | 957/9716 [1:00:50<9:16:55,  3.82s/it]"
     ]
    },
    {
     "name": "stdout",
     "output_type": "stream",
     "text": [
      "166503 20 16269 150234 [17890, 17889, 17888, 17887, 17886, 17885, 17884, 17883, 17882, 17881, 17880, 17879, 17878, 17877, 17876, 17875, 17874, 17873, 17872, 17871]\n"
     ]
    },
    {
     "name": "stderr",
     "output_type": "stream",
     "text": [
      "\r",
      " 10%|▉         | 958/9716 [1:00:54<9:16:46,  3.81s/it]"
     ]
    },
    {
     "name": "stdout",
     "output_type": "stream",
     "text": [
      "166503 20 16286 150217 [17907, 17906, 17905, 17904, 17903, 17902, 17901, 17900, 17899, 17898, 17897, 17896, 17895, 17894, 17893, 17892, 17891, 17890, 17889, 17888]\n"
     ]
    },
    {
     "name": "stderr",
     "output_type": "stream",
     "text": [
      "\r",
      " 10%|▉         | 959/9716 [1:00:57<9:16:36,  3.81s/it]"
     ]
    },
    {
     "name": "stdout",
     "output_type": "stream",
     "text": [
      "166503 20 16303 150200 [17924, 17923, 17922, 17921, 17920, 17919, 17918, 17917, 17916, 17915, 17914, 17913, 17912, 17911, 17910, 17909, 17908, 17907, 17906, 17905]\n"
     ]
    },
    {
     "name": "stderr",
     "output_type": "stream",
     "text": [
      "\r",
      " 10%|▉         | 960/9716 [1:01:00<9:16:26,  3.81s/it]"
     ]
    },
    {
     "name": "stdout",
     "output_type": "stream",
     "text": [
      "166503 20 16320 150183 [17941, 17940, 17939, 17938, 17937, 17936, 17935, 17934, 17933, 17932, 17931, 17930, 17929, 17928, 17927, 17926, 17925, 17924, 17923, 17922]\n"
     ]
    },
    {
     "name": "stderr",
     "output_type": "stream",
     "text": [
      "\r",
      " 10%|▉         | 961/9716 [1:01:03<9:16:16,  3.81s/it]"
     ]
    },
    {
     "name": "stdout",
     "output_type": "stream",
     "text": [
      "166503 20 16337 150166 [17958, 17957, 17956, 17955, 17954, 17953, 17952, 17951, 17950, 17949, 17948, 17947, 17946, 17945, 17944, 17943, 17942, 17941, 17940, 17939]\n"
     ]
    },
    {
     "name": "stderr",
     "output_type": "stream",
     "text": [
      "\r",
      " 10%|▉         | 962/9716 [1:01:07<9:16:12,  3.81s/it]"
     ]
    },
    {
     "name": "stdout",
     "output_type": "stream",
     "text": [
      "166503 20 16354 150149 [17975, 17974, 17973, 17972, 17971, 17970, 17969, 17968, 17967, 17966, 17965, 17964, 17963, 17962, 17961, 17960, 17959, 17958, 17957, 17956]\n"
     ]
    },
    {
     "name": "stderr",
     "output_type": "stream",
     "text": [
      "\r",
      " 10%|▉         | 963/9716 [1:01:10<9:16:01,  3.81s/it]"
     ]
    },
    {
     "name": "stdout",
     "output_type": "stream",
     "text": [
      "166503 20 16371 150132 [17992, 17991, 17990, 17989, 17988, 17987, 17986, 17985, 17984, 17983, 17982, 17981, 17980, 17979, 17978, 17977, 17976, 17975, 17974, 17973]\n"
     ]
    },
    {
     "name": "stderr",
     "output_type": "stream",
     "text": [
      "\r",
      " 10%|▉         | 964/9716 [1:01:13<9:15:54,  3.81s/it]"
     ]
    },
    {
     "name": "stdout",
     "output_type": "stream",
     "text": [
      "166503 20 16388 150115 [18009, 18008, 18007, 18006, 18005, 18004, 18003, 18002, 18001, 18000, 17999, 17998, 17997, 17996, 17995, 17994, 17993, 17992, 17991, 17990]\n"
     ]
    },
    {
     "name": "stderr",
     "output_type": "stream",
     "text": [
      "\r",
      " 10%|▉         | 965/9716 [1:01:17<9:15:48,  3.81s/it]"
     ]
    },
    {
     "name": "stdout",
     "output_type": "stream",
     "text": [
      "166503 20 16405 150098 [18026, 18025, 18024, 18023, 18022, 18021, 18020, 18019, 18018, 18017, 18016, 18015, 18014, 18013, 18012, 18011, 18010, 18009, 18008, 18007]\n"
     ]
    },
    {
     "name": "stderr",
     "output_type": "stream",
     "text": [
      "\r",
      " 10%|▉         | 966/9716 [1:01:21<9:15:43,  3.81s/it]"
     ]
    },
    {
     "name": "stdout",
     "output_type": "stream",
     "text": [
      "166503 20 16422 150081 [18043, 18042, 18041, 18040, 18039, 18038, 18037, 18036, 18035, 18034, 18033, 18032, 18031, 18030, 18029, 18028, 18027, 18026, 18025, 18024]\n"
     ]
    },
    {
     "name": "stderr",
     "output_type": "stream",
     "text": [
      "\r",
      " 10%|▉         | 967/9716 [1:01:24<9:15:38,  3.81s/it]"
     ]
    },
    {
     "name": "stdout",
     "output_type": "stream",
     "text": [
      "166503 20 16439 150064 [18060, 18059, 18058, 18057, 18056, 18055, 18054, 18053, 18052, 18051, 18050, 18049, 18048, 18047, 18046, 18045, 18044, 18043, 18042, 18041]\n"
     ]
    },
    {
     "name": "stderr",
     "output_type": "stream",
     "text": [
      "\r",
      " 10%|▉         | 968/9716 [1:01:28<9:15:31,  3.81s/it]"
     ]
    },
    {
     "name": "stdout",
     "output_type": "stream",
     "text": [
      "166503 20 16456 150047 [18077, 18076, 18075, 18074, 18073, 18072, 18071, 18070, 18069, 18068, 18067, 18066, 18065, 18064, 18063, 18062, 18061, 18060, 18059, 18058]\n"
     ]
    },
    {
     "name": "stderr",
     "output_type": "stream",
     "text": [
      "\r",
      " 10%|▉         | 969/9716 [1:01:32<9:15:32,  3.81s/it]"
     ]
    },
    {
     "name": "stdout",
     "output_type": "stream",
     "text": [
      "166503 20 16473 150030 [18094, 18093, 18092, 18091, 18090, 18089, 18088, 18087, 18086, 18085, 18084, 18083, 18082, 18081, 18080, 18079, 18078, 18077, 18076, 18075]\n"
     ]
    },
    {
     "name": "stderr",
     "output_type": "stream",
     "text": [
      "\r",
      " 10%|▉         | 970/9716 [1:01:36<9:15:25,  3.81s/it]"
     ]
    },
    {
     "name": "stdout",
     "output_type": "stream",
     "text": [
      "166509 20 16490 150013 [18113, 18112, 18111, 18110, 18109, 18108, 18107, 18106, 18105, 18104, 18103, 18102, 18101, 18100, 18099, 18098, 18097, 18096, 18095, 18094]\n"
     ]
    },
    {
     "name": "stderr",
     "output_type": "stream",
     "text": [
      "\r",
      " 10%|▉         | 971/9716 [1:01:39<9:15:21,  3.81s/it]"
     ]
    },
    {
     "name": "stdout",
     "output_type": "stream",
     "text": [
      "166509 20 16507 150002 [18128, 18127, 18126, 18125, 18124, 18123, 18122, 18121, 18120, 18119, 18118, 18117, 18116, 18115, 18114, 18113, 18112, 18111, 18110, 18109]\n"
     ]
    },
    {
     "name": "stderr",
     "output_type": "stream",
     "text": [
      "\r",
      " 10%|█         | 972/9716 [1:01:43<9:15:16,  3.81s/it]"
     ]
    },
    {
     "name": "stdout",
     "output_type": "stream",
     "text": [
      "166509 20 16524 149985 [18145, 18144, 18143, 18142, 18141, 18140, 18139, 18138, 18137, 18136, 18135, 18134, 18133, 18132, 18131, 18130, 18129, 18128, 18127, 18126]\n"
     ]
    },
    {
     "name": "stderr",
     "output_type": "stream",
     "text": [
      "\r",
      " 10%|█         | 973/9716 [1:01:47<9:15:14,  3.81s/it]"
     ]
    },
    {
     "name": "stdout",
     "output_type": "stream",
     "text": [
      "166514 20 16541 149968 [18162, 18161, 18160, 18159, 18158, 18157, 18156, 18155, 18154, 18153, 18152, 18151, 18150, 18149, 18148, 18147, 18146, 18145, 18144, 18143]\n"
     ]
    },
    {
     "name": "stderr",
     "output_type": "stream",
     "text": [
      "\r",
      " 10%|█         | 974/9716 [1:01:51<9:15:14,  3.81s/it]"
     ]
    },
    {
     "name": "stdout",
     "output_type": "stream",
     "text": [
      "166514 20 16558 149956 [18179, 18178, 18177, 18176, 18175, 18174, 18173, 18172, 18171, 18170, 18169, 18168, 18167, 18166, 18165, 18164, 18163, 18162, 18161, 18160]\n"
     ]
    },
    {
     "name": "stderr",
     "output_type": "stream",
     "text": [
      "\r",
      " 10%|█         | 975/9716 [1:01:55<9:15:12,  3.81s/it]"
     ]
    },
    {
     "name": "stdout",
     "output_type": "stream",
     "text": [
      "166515 20 16575 149939 [18196, 18195, 18194, 18193, 18192, 18191, 18190, 18189, 18188, 18187, 18186, 18185, 18184, 18183, 18182, 18181, 18180, 18179, 18178, 18177]\n"
     ]
    },
    {
     "name": "stderr",
     "output_type": "stream",
     "text": [
      "\r",
      " 10%|█         | 976/9716 [1:01:59<9:15:09,  3.81s/it]"
     ]
    },
    {
     "name": "stdout",
     "output_type": "stream",
     "text": [
      "166515 20 16592 149923 [18213, 18212, 18211, 18210, 18209, 18208, 18207, 18206, 18205, 18204, 18203, 18202, 18201, 18200, 18199, 18198, 18197, 18196, 18195, 18194]\n"
     ]
    },
    {
     "name": "stderr",
     "output_type": "stream",
     "text": [
      "\r",
      " 10%|█         | 977/9716 [1:02:03<9:15:09,  3.81s/it]"
     ]
    },
    {
     "name": "stdout",
     "output_type": "stream",
     "text": [
      "166515 20 16609 149906 [18230, 18229, 18228, 18227, 18226, 18225, 18224, 18223, 18222, 18221, 18220, 18219, 18218, 18217, 18216, 18215, 18214, 18213, 18212, 18211]\n"
     ]
    },
    {
     "name": "stderr",
     "output_type": "stream",
     "text": [
      "\r",
      " 10%|█         | 978/9716 [1:02:08<9:15:09,  3.81s/it]"
     ]
    },
    {
     "name": "stdout",
     "output_type": "stream",
     "text": [
      "166515 20 16626 149889 [18247, 18246, 18245, 18244, 18243, 18242, 18241, 18240, 18239, 18238, 18237, 18236, 18235, 18234, 18233, 18232, 18231, 18230, 18229, 18228]\n"
     ]
    },
    {
     "name": "stderr",
     "output_type": "stream",
     "text": [
      "\r",
      " 10%|█         | 979/9716 [1:02:12<9:15:06,  3.81s/it]"
     ]
    },
    {
     "name": "stdout",
     "output_type": "stream",
     "text": [
      "166520 20 16643 149872 [18267, 18266, 18265, 18264, 18263, 18262, 18261, 18260, 18259, 18258, 18257, 18256, 18255, 18254, 18253, 18252, 18251, 18250, 18249, 18248]\n"
     ]
    },
    {
     "name": "stderr",
     "output_type": "stream",
     "text": [
      "\r",
      " 10%|█         | 980/9716 [1:02:15<9:14:59,  3.81s/it]"
     ]
    },
    {
     "name": "stdout",
     "output_type": "stream",
     "text": [
      "166520 20 16660 149860 [18281, 18280, 18279, 18278, 18277, 18276, 18275, 18274, 18273, 18272, 18271, 18270, 18269, 18268, 18267, 18266, 18265, 18264, 18263, 18262]\n"
     ]
    },
    {
     "name": "stderr",
     "output_type": "stream",
     "text": [
      "\r",
      " 10%|█         | 981/9716 [1:02:19<9:14:54,  3.81s/it]"
     ]
    },
    {
     "name": "stdout",
     "output_type": "stream",
     "text": [
      "166529 20 16677 149843 [18302, 18301, 18300, 18299, 18298, 18297, 18296, 18295, 18294, 18293, 18292, 18291, 18290, 18289, 18288, 18287, 18286, 18285, 18284, 18283]\n"
     ]
    },
    {
     "name": "stderr",
     "output_type": "stream",
     "text": [
      "\r",
      " 10%|█         | 982/9716 [1:02:22<9:14:49,  3.81s/it]"
     ]
    },
    {
     "name": "stdout",
     "output_type": "stream",
     "text": [
      "166529 20 16694 149835 [18315, 18314, 18313, 18312, 18311, 18310, 18309, 18308, 18307, 18306, 18305, 18304, 18303, 18302, 18301, 18300, 18299, 18298, 18297, 18296]\n"
     ]
    },
    {
     "name": "stderr",
     "output_type": "stream",
     "text": [
      "\r",
      " 10%|█         | 983/9716 [1:02:26<9:14:41,  3.81s/it]"
     ]
    },
    {
     "name": "stdout",
     "output_type": "stream",
     "text": [
      "166529 20 16711 149818 [18332, 18331, 18330, 18329, 18328, 18327, 18326, 18325, 18324, 18323, 18322, 18321, 18320, 18319, 18318, 18317, 18316, 18315, 18314, 18313]\n"
     ]
    },
    {
     "name": "stderr",
     "output_type": "stream",
     "text": [
      "\r",
      " 10%|█         | 984/9716 [1:02:30<9:14:38,  3.81s/it]"
     ]
    },
    {
     "name": "stdout",
     "output_type": "stream",
     "text": [
      "166529 20 16728 149801 [18349, 18348, 18347, 18346, 18345, 18344, 18343, 18342, 18341, 18340, 18339, 18338, 18337, 18336, 18335, 18334, 18333, 18332, 18331, 18330]\n"
     ]
    },
    {
     "name": "stderr",
     "output_type": "stream",
     "text": [
      "\r",
      " 10%|█         | 985/9716 [1:02:33<9:14:32,  3.81s/it]"
     ]
    },
    {
     "name": "stdout",
     "output_type": "stream",
     "text": [
      "166529 20 16745 149784 [18366, 18365, 18364, 18363, 18362, 18361, 18360, 18359, 18358, 18357, 18356, 18355, 18354, 18353, 18352, 18351, 18350, 18349, 18348, 18347]\n"
     ]
    },
    {
     "name": "stderr",
     "output_type": "stream",
     "text": [
      "\r",
      " 10%|█         | 986/9716 [1:02:37<9:14:26,  3.81s/it]"
     ]
    },
    {
     "name": "stdout",
     "output_type": "stream",
     "text": [
      "166529 20 16762 149767 [18383, 18382, 18381, 18380, 18379, 18378, 18377, 18376, 18375, 18374, 18373, 18372, 18371, 18370, 18369, 18368, 18367, 18366, 18365, 18364]\n"
     ]
    },
    {
     "name": "stderr",
     "output_type": "stream",
     "text": [
      "\r",
      " 10%|█         | 987/9716 [1:02:40<9:14:19,  3.81s/it]"
     ]
    },
    {
     "name": "stdout",
     "output_type": "stream",
     "text": [
      "166532 20 16779 149750 [18400, 18399, 18398, 18397, 18396, 18395, 18394, 18393, 18392, 18391, 18390, 18389, 18388, 18387, 18386, 18385, 18384, 18383, 18382, 18381]\n"
     ]
    },
    {
     "name": "stderr",
     "output_type": "stream",
     "text": [
      "\r",
      " 10%|█         | 988/9716 [1:02:45<9:14:23,  3.81s/it]"
     ]
    },
    {
     "name": "stdout",
     "output_type": "stream",
     "text": [
      "166534 20 16796 149736 [18419, 18418, 18417, 18416, 18415, 18414, 18413, 18412, 18411, 18410, 18409, 18408, 18407, 18406, 18405, 18404, 18403, 18402, 18401, 18400]\n"
     ]
    },
    {
     "name": "stderr",
     "output_type": "stream",
     "text": [
      "\r",
      " 10%|█         | 989/9716 [1:02:49<9:14:19,  3.81s/it]"
     ]
    },
    {
     "name": "stdout",
     "output_type": "stream",
     "text": [
      "166534 20 16813 149721 [18434, 18433, 18432, 18431, 18430, 18429, 18428, 18427, 18426, 18425, 18424, 18423, 18422, 18421, 18420, 18419, 18418, 18417, 18416, 18415]\n"
     ]
    },
    {
     "name": "stderr",
     "output_type": "stream",
     "text": [
      "\r",
      " 10%|█         | 990/9716 [1:02:52<9:14:11,  3.81s/it]"
     ]
    },
    {
     "name": "stdout",
     "output_type": "stream",
     "text": [
      "166534 20 16830 149704 [18451, 18450, 18449, 18448, 18447, 18446, 18445, 18444, 18443, 18442, 18441, 18440, 18439, 18438, 18437, 18436, 18435, 18434, 18433, 18432]\n"
     ]
    },
    {
     "name": "stderr",
     "output_type": "stream",
     "text": [
      "\r",
      " 10%|█         | 991/9716 [1:02:56<9:14:05,  3.81s/it]"
     ]
    },
    {
     "name": "stdout",
     "output_type": "stream",
     "text": [
      "166534 20 16847 149687 [18468, 18467, 18466, 18465, 18464, 18463, 18462, 18461, 18460, 18459, 18458, 18457, 18456, 18455, 18454, 18453, 18452, 18451, 18450, 18449]\n"
     ]
    },
    {
     "name": "stderr",
     "output_type": "stream",
     "text": [
      "\r",
      " 10%|█         | 992/9716 [1:02:59<9:13:55,  3.81s/it]"
     ]
    },
    {
     "name": "stdout",
     "output_type": "stream",
     "text": [
      "166534 20 16864 149670 [18485, 18484, 18483, 18482, 18481, 18480, 18479, 18478, 18477, 18476, 18475, 18474, 18473, 18472, 18471, 18470, 18469, 18468, 18467, 18466]\n"
     ]
    },
    {
     "name": "stderr",
     "output_type": "stream",
     "text": [
      "\r",
      " 10%|█         | 993/9716 [1:03:02<9:13:45,  3.81s/it]"
     ]
    },
    {
     "name": "stdout",
     "output_type": "stream",
     "text": [
      "166537 20 16881 149653 [18502, 18501, 18500, 18499, 18498, 18497, 18496, 18495, 18494, 18493, 18492, 18491, 18490, 18489, 18488, 18487, 18486, 18485, 18484, 18483]\n"
     ]
    },
    {
     "name": "stderr",
     "output_type": "stream",
     "text": [
      "\r",
      " 10%|█         | 994/9716 [1:03:05<9:13:36,  3.81s/it]"
     ]
    },
    {
     "name": "stdout",
     "output_type": "stream",
     "text": [
      "166551 20 16898 149639 [18525, 18524, 18523, 18522, 18521, 18520, 18519, 18518, 18517, 18516, 18515, 18514, 18513, 18512, 18511, 18510, 18509, 18508, 18507, 18506]\n"
     ]
    },
    {
     "name": "stderr",
     "output_type": "stream",
     "text": [
      "\r",
      " 10%|█         | 995/9716 [1:03:09<9:13:30,  3.81s/it]"
     ]
    },
    {
     "name": "stdout",
     "output_type": "stream",
     "text": [
      "166551 20 16915 149636 [18536, 18535, 18534, 18533, 18532, 18531, 18530, 18529, 18528, 18527, 18526, 18525, 18524, 18523, 18522, 18521, 18520, 18519, 18518, 18517]\n"
     ]
    },
    {
     "name": "stderr",
     "output_type": "stream",
     "text": [
      "\r",
      " 10%|█         | 996/9716 [1:03:12<9:13:22,  3.81s/it]"
     ]
    },
    {
     "name": "stdout",
     "output_type": "stream",
     "text": [
      "166551 20 16932 149619 [18553, 18552, 18551, 18550, 18549, 18548, 18547, 18546, 18545, 18544, 18543, 18542, 18541, 18540, 18539, 18538, 18537, 18536, 18535, 18534]\n"
     ]
    },
    {
     "name": "stderr",
     "output_type": "stream",
     "text": [
      "\r",
      " 10%|█         | 997/9716 [1:03:15<9:13:15,  3.81s/it]"
     ]
    },
    {
     "name": "stdout",
     "output_type": "stream",
     "text": [
      "166551 20 16949 149602 [18570, 18569, 18568, 18567, 18566, 18565, 18564, 18563, 18562, 18561, 18560, 18559, 18558, 18557, 18556, 18555, 18554, 18553, 18552, 18551]\n"
     ]
    },
    {
     "name": "stderr",
     "output_type": "stream",
     "text": [
      "\r",
      " 10%|█         | 998/9716 [1:03:19<9:13:07,  3.81s/it]"
     ]
    },
    {
     "name": "stdout",
     "output_type": "stream",
     "text": [
      "166552 20 16966 149585 [18588, 18587, 18586, 18585, 18584, 18583, 18582, 18581, 18580, 18579, 18578, 18577, 18576, 18575, 18574, 18573, 18572, 18571, 18570, 18569]\n"
     ]
    },
    {
     "name": "stderr",
     "output_type": "stream",
     "text": [
      "\r",
      " 10%|█         | 999/9716 [1:03:22<9:13:00,  3.81s/it]"
     ]
    },
    {
     "name": "stdout",
     "output_type": "stream",
     "text": [
      "166552 20 16983 149569 [18604, 18603, 18602, 18601, 18600, 18599, 18598, 18597, 18596, 18595, 18594, 18593, 18592, 18591, 18590, 18589, 18588, 18587, 18586, 18585]\n"
     ]
    },
    {
     "name": "stderr",
     "output_type": "stream",
     "text": [
      "\r",
      " 10%|█         | 1000/9716 [1:03:25<9:12:51,  3.81s/it]"
     ]
    },
    {
     "name": "stdout",
     "output_type": "stream",
     "text": [
      "166559 20 17000 149552 [18621, 18620, 18619, 18618, 18617, 18616, 18615, 18614, 18613, 18612, 18611, 18610, 18609, 18608, 18607, 18606, 18605, 18604, 18603, 18602]\n"
     ]
    },
    {
     "name": "stderr",
     "output_type": "stream",
     "text": [
      "\r",
      " 10%|█         | 1001/9716 [1:03:28<9:12:40,  3.80s/it]"
     ]
    },
    {
     "name": "stdout",
     "output_type": "stream",
     "text": [
      "166559 20 17017 149542 [18638, 18637, 18636, 18635, 18634, 18633, 18632, 18631, 18630, 18629, 18628, 18627, 18626, 18625, 18624, 18623, 18622, 18621, 18620, 18619]\n"
     ]
    },
    {
     "name": "stderr",
     "output_type": "stream",
     "text": [
      "\r",
      " 10%|█         | 1002/9716 [1:03:32<9:12:32,  3.80s/it]"
     ]
    },
    {
     "name": "stdout",
     "output_type": "stream",
     "text": [
      "166559 20 17034 149525 [18655, 18654, 18653, 18652, 18651, 18650, 18649, 18648, 18647, 18646, 18645, 18644, 18643, 18642, 18641, 18640, 18639, 18638, 18637, 18636]\n"
     ]
    },
    {
     "name": "stderr",
     "output_type": "stream",
     "text": [
      "\r",
      " 10%|█         | 1003/9716 [1:03:35<9:12:24,  3.80s/it]"
     ]
    },
    {
     "name": "stdout",
     "output_type": "stream",
     "text": [
      "166559 20 17051 149508 [18672, 18671, 18670, 18669, 18668, 18667, 18666, 18665, 18664, 18663, 18662, 18661, 18660, 18659, 18658, 18657, 18656, 18655, 18654, 18653]\n"
     ]
    },
    {
     "name": "stderr",
     "output_type": "stream",
     "text": [
      "\r",
      " 10%|█         | 1004/9716 [1:03:38<9:12:13,  3.80s/it]"
     ]
    },
    {
     "name": "stdout",
     "output_type": "stream",
     "text": [
      "166559 20 17068 149491 [18689, 18688, 18687, 18686, 18685, 18684, 18683, 18682, 18681, 18680, 18679, 18678, 18677, 18676, 18675, 18674, 18673, 18672, 18671, 18670]\n"
     ]
    },
    {
     "name": "stderr",
     "output_type": "stream",
     "text": [
      "\r",
      " 10%|█         | 1005/9716 [1:03:41<9:12:02,  3.80s/it]"
     ]
    },
    {
     "name": "stdout",
     "output_type": "stream",
     "text": [
      "166559 20 17085 149474 [18706, 18705, 18704, 18703, 18702, 18701, 18700, 18699, 18698, 18697, 18696, 18695, 18694, 18693, 18692, 18691, 18690, 18689, 18688, 18687]\n"
     ]
    },
    {
     "name": "stderr",
     "output_type": "stream",
     "text": [
      "\r",
      " 10%|█         | 1006/9716 [1:03:44<9:11:55,  3.80s/it]"
     ]
    },
    {
     "name": "stdout",
     "output_type": "stream",
     "text": [
      "166559 20 17102 149457 [18723, 18722, 18721, 18720, 18719, 18718, 18717, 18716, 18715, 18714, 18713, 18712, 18711, 18710, 18709, 18708, 18707, 18706, 18705, 18704]\n"
     ]
    },
    {
     "name": "stderr",
     "output_type": "stream",
     "text": [
      "\r",
      " 10%|█         | 1007/9716 [1:03:48<9:11:47,  3.80s/it]"
     ]
    },
    {
     "name": "stdout",
     "output_type": "stream",
     "text": [
      "166559 20 17119 149440 [18740, 18739, 18738, 18737, 18736, 18735, 18734, 18733, 18732, 18731, 18730, 18729, 18728, 18727, 18726, 18725, 18724, 18723, 18722, 18721]\n"
     ]
    },
    {
     "name": "stderr",
     "output_type": "stream",
     "text": [
      "\r",
      " 10%|█         | 1008/9716 [1:03:51<9:11:38,  3.80s/it]"
     ]
    },
    {
     "name": "stdout",
     "output_type": "stream",
     "text": [
      "166572 20 17136 149423 [18757, 18756, 18755, 18754, 18753, 18752, 18751, 18750, 18749, 18748, 18747, 18746, 18745, 18744, 18743, 18742, 18741, 18740, 18739, 18738]\n"
     ]
    },
    {
     "name": "stderr",
     "output_type": "stream",
     "text": [
      "\r",
      " 10%|█         | 1009/9716 [1:03:54<9:11:30,  3.80s/it]"
     ]
    },
    {
     "name": "stdout",
     "output_type": "stream",
     "text": [
      "166575 20 17153 149419 [18777, 18776, 18775, 18774, 18773, 18772, 18771, 18770, 18769, 18768, 18767, 18766, 18765, 18764, 18763, 18762, 18761, 18760, 18759, 18758]\n"
     ]
    },
    {
     "name": "stderr",
     "output_type": "stream",
     "text": [
      "\r",
      " 10%|█         | 1010/9716 [1:03:57<9:11:21,  3.80s/it]"
     ]
    },
    {
     "name": "stdout",
     "output_type": "stream",
     "text": [
      "166578 20 17170 149405 [18791, 18790, 18789, 18788, 18787, 18786, 18785, 18784, 18783, 18782, 18781, 18780, 18779, 18778, 18777, 18776, 18775, 18774, 18773, 18772]\n"
     ]
    },
    {
     "name": "stderr",
     "output_type": "stream",
     "text": [
      "\r",
      " 10%|█         | 1011/9716 [1:04:01<9:11:13,  3.80s/it]"
     ]
    },
    {
     "name": "stdout",
     "output_type": "stream",
     "text": [
      "166594 20 17187 149391 [18816, 18815, 18814, 18813, 18812, 18811, 18810, 18809, 18808, 18807, 18806, 18805, 18804, 18803, 18802, 18801, 18800, 18799, 18798, 18797]\n"
     ]
    },
    {
     "name": "stderr",
     "output_type": "stream",
     "text": [
      "\r",
      " 10%|█         | 1012/9716 [1:04:04<9:11:05,  3.80s/it]"
     ]
    },
    {
     "name": "stdout",
     "output_type": "stream",
     "text": [
      "166594 20 17204 149390 [18825, 18824, 18823, 18822, 18821, 18820, 18819, 18818, 18817, 18816, 18815, 18814, 18813, 18812, 18811, 18810, 18809, 18808, 18807, 18806]\n"
     ]
    },
    {
     "name": "stderr",
     "output_type": "stream",
     "text": [
      "\r",
      " 10%|█         | 1013/9716 [1:04:07<9:10:55,  3.80s/it]"
     ]
    },
    {
     "name": "stdout",
     "output_type": "stream",
     "text": [
      "166594 20 17221 149373 [18842, 18841, 18840, 18839, 18838, 18837, 18836, 18835, 18834, 18833, 18832, 18831, 18830, 18829, 18828, 18827, 18826, 18825, 18824, 18823]\n"
     ]
    },
    {
     "name": "stderr",
     "output_type": "stream",
     "text": [
      "\r",
      " 10%|█         | 1014/9716 [1:04:10<9:10:45,  3.80s/it]"
     ]
    },
    {
     "name": "stdout",
     "output_type": "stream",
     "text": [
      "166594 20 17238 149356 [18859, 18858, 18857, 18856, 18855, 18854, 18853, 18852, 18851, 18850, 18849, 18848, 18847, 18846, 18845, 18844, 18843, 18842, 18841, 18840]\n"
     ]
    },
    {
     "name": "stderr",
     "output_type": "stream",
     "text": [
      "\r",
      " 10%|█         | 1015/9716 [1:04:13<9:10:34,  3.80s/it]"
     ]
    },
    {
     "name": "stdout",
     "output_type": "stream",
     "text": [
      "166594 20 17255 149339 [18876, 18875, 18874, 18873, 18872, 18871, 18870, 18869, 18868, 18867, 18866, 18865, 18864, 18863, 18862, 18861, 18860, 18859, 18858, 18857]\n"
     ]
    },
    {
     "name": "stderr",
     "output_type": "stream",
     "text": [
      "\r",
      " 10%|█         | 1016/9716 [1:04:17<9:10:27,  3.80s/it]"
     ]
    },
    {
     "name": "stdout",
     "output_type": "stream",
     "text": [
      "166594 20 17272 149322 [18893, 18892, 18891, 18890, 18889, 18888, 18887, 18886, 18885, 18884, 18883, 18882, 18881, 18880, 18879, 18878, 18877, 18876, 18875, 18874]\n"
     ]
    },
    {
     "name": "stderr",
     "output_type": "stream",
     "text": [
      "\r",
      " 10%|█         | 1017/9716 [1:04:20<9:10:18,  3.80s/it]"
     ]
    },
    {
     "name": "stdout",
     "output_type": "stream",
     "text": [
      "166594 20 17289 149305 [18910, 18909, 18908, 18907, 18906, 18905, 18904, 18903, 18902, 18901, 18900, 18899, 18898, 18897, 18896, 18895, 18894, 18893, 18892, 18891]\n"
     ]
    },
    {
     "name": "stderr",
     "output_type": "stream",
     "text": [
      "\r",
      " 10%|█         | 1018/9716 [1:04:23<9:10:09,  3.80s/it]"
     ]
    },
    {
     "name": "stdout",
     "output_type": "stream",
     "text": [
      "166598 20 17306 149288 [18927, 18926, 18925, 18924, 18923, 18922, 18921, 18920, 18919, 18918, 18917, 18916, 18915, 18914, 18913, 18912, 18911, 18910, 18909, 18908]\n"
     ]
    },
    {
     "name": "stderr",
     "output_type": "stream",
     "text": [
      "\r",
      " 10%|█         | 1019/9716 [1:04:26<9:10:03,  3.79s/it]"
     ]
    },
    {
     "name": "stdout",
     "output_type": "stream",
     "text": [
      "166598 20 17323 149275 [18944, 18943, 18942, 18941, 18940, 18939, 18938, 18937, 18936, 18935, 18934, 18933, 18932, 18931, 18930, 18929, 18928, 18927, 18926, 18925]\n"
     ]
    },
    {
     "name": "stderr",
     "output_type": "stream",
     "text": [
      "\r",
      " 10%|█         | 1020/9716 [1:04:29<9:09:53,  3.79s/it]"
     ]
    },
    {
     "name": "stdout",
     "output_type": "stream",
     "text": [
      "166601 20 17340 149258 [18961, 18960, 18959, 18958, 18957, 18956, 18955, 18954, 18953, 18952, 18951, 18950, 18949, 18948, 18947, 18946, 18945, 18944, 18943, 18942]\n"
     ]
    },
    {
     "name": "stderr",
     "output_type": "stream",
     "text": [
      "\r",
      " 11%|█         | 1021/9716 [1:04:33<9:09:47,  3.79s/it]"
     ]
    },
    {
     "name": "stdout",
     "output_type": "stream",
     "text": [
      "166601 20 17357 149244 [18978, 18977, 18976, 18975, 18974, 18973, 18972, 18971, 18970, 18969, 18968, 18967, 18966, 18965, 18964, 18963, 18962, 18961, 18960, 18959]\n"
     ]
    },
    {
     "name": "stderr",
     "output_type": "stream",
     "text": [
      "\r",
      " 11%|█         | 1022/9716 [1:04:37<9:09:43,  3.79s/it]"
     ]
    },
    {
     "name": "stdout",
     "output_type": "stream",
     "text": [
      "166601 20 17374 149227 [18995, 18994, 18993, 18992, 18991, 18990, 18989, 18988, 18987, 18986, 18985, 18984, 18983, 18982, 18981, 18980, 18979, 18978, 18977, 18976]\n"
     ]
    },
    {
     "name": "stderr",
     "output_type": "stream",
     "text": [
      "\r",
      " 11%|█         | 1023/9716 [1:04:40<9:09:32,  3.79s/it]"
     ]
    },
    {
     "name": "stdout",
     "output_type": "stream",
     "text": [
      "166601 20 17391 149210 [19012, 19011, 19010, 19009, 19008, 19007, 19006, 19005, 19004, 19003, 19002, 19001, 19000, 18999, 18998, 18997, 18996, 18995, 18994, 18993]\n"
     ]
    },
    {
     "name": "stderr",
     "output_type": "stream",
     "text": [
      "\r",
      " 11%|█         | 1024/9716 [1:04:43<9:09:22,  3.79s/it]"
     ]
    },
    {
     "name": "stdout",
     "output_type": "stream",
     "text": [
      "166601 20 17408 149193 [19029, 19028, 19027, 19026, 19025, 19024, 19023, 19022, 19021, 19020, 19019, 19018, 19017, 19016, 19015, 19014, 19013, 19012, 19011, 19010]\n"
     ]
    },
    {
     "name": "stderr",
     "output_type": "stream",
     "text": [
      "\r",
      " 11%|█         | 1025/9716 [1:04:46<9:09:11,  3.79s/it]"
     ]
    },
    {
     "name": "stdout",
     "output_type": "stream",
     "text": [
      "166601 20 17425 149176 [19046, 19045, 19044, 19043, 19042, 19041, 19040, 19039, 19038, 19037, 19036, 19035, 19034, 19033, 19032, 19031, 19030, 19029, 19028, 19027]\n"
     ]
    },
    {
     "name": "stderr",
     "output_type": "stream",
     "text": [
      "\r",
      " 11%|█         | 1026/9716 [1:04:49<9:09:02,  3.79s/it]"
     ]
    },
    {
     "name": "stdout",
     "output_type": "stream",
     "text": [
      "166601 20 17442 149159 [19063, 19062, 19061, 19060, 19059, 19058, 19057, 19056, 19055, 19054, 19053, 19052, 19051, 19050, 19049, 19048, 19047, 19046, 19045, 19044]\n"
     ]
    },
    {
     "name": "stderr",
     "output_type": "stream",
     "text": [
      "\r",
      " 11%|█         | 1027/9716 [1:04:52<9:08:56,  3.79s/it]"
     ]
    },
    {
     "name": "stdout",
     "output_type": "stream",
     "text": [
      "166608 20 17459 149142 [19084, 19083, 19082, 19081, 19080, 19079, 19078, 19077, 19076, 19075, 19074, 19073, 19072, 19071, 19070, 19069, 19068, 19067, 19066, 19065]\n"
     ]
    },
    {
     "name": "stderr",
     "output_type": "stream",
     "text": [
      "\r",
      " 11%|█         | 1028/9716 [1:04:56<9:08:49,  3.79s/it]"
     ]
    },
    {
     "name": "stdout",
     "output_type": "stream",
     "text": [
      "166608 20 17476 149132 [19097, 19096, 19095, 19094, 19093, 19092, 19091, 19090, 19089, 19088, 19087, 19086, 19085, 19084, 19083, 19082, 19081, 19080, 19079, 19078]\n"
     ]
    },
    {
     "name": "stderr",
     "output_type": "stream",
     "text": [
      "\r",
      " 11%|█         | 1029/9716 [1:04:59<9:08:41,  3.79s/it]"
     ]
    },
    {
     "name": "stdout",
     "output_type": "stream",
     "text": [
      "166608 20 17493 149115 [19114, 19113, 19112, 19111, 19110, 19109, 19108, 19107, 19106, 19105, 19104, 19103, 19102, 19101, 19100, 19099, 19098, 19097, 19096, 19095]\n"
     ]
    },
    {
     "name": "stderr",
     "output_type": "stream",
     "text": [
      "\r",
      " 11%|█         | 1030/9716 [1:05:02<9:08:32,  3.79s/it]"
     ]
    },
    {
     "name": "stdout",
     "output_type": "stream",
     "text": [
      "166609 20 17510 149098 [19131, 19130, 19129, 19128, 19127, 19126, 19125, 19124, 19123, 19122, 19121, 19120, 19119, 19118, 19117, 19116, 19115, 19114, 19113, 19112]\n"
     ]
    },
    {
     "name": "stderr",
     "output_type": "stream",
     "text": [
      "\r",
      " 11%|█         | 1031/9716 [1:05:06<9:08:25,  3.79s/it]"
     ]
    },
    {
     "name": "stdout",
     "output_type": "stream",
     "text": [
      "166613 20 17527 149082 [19152, 19151, 19150, 19149, 19148, 19147, 19146, 19145, 19144, 19143, 19142, 19141, 19140, 19139, 19138, 19137, 19136, 19135, 19134, 19133]\n"
     ]
    },
    {
     "name": "stderr",
     "output_type": "stream",
     "text": [
      "\r",
      " 11%|█         | 1032/9716 [1:05:09<9:08:19,  3.79s/it]"
     ]
    },
    {
     "name": "stdout",
     "output_type": "stream",
     "text": [
      "166618 20 17544 149069 [19165, 19164, 19163, 19162, 19161, 19160, 19159, 19158, 19157, 19156, 19155, 19154, 19153, 19152, 19151, 19150, 19149, 19148, 19147, 19146]\n"
     ]
    },
    {
     "name": "stderr",
     "output_type": "stream",
     "text": [
      "\r",
      " 11%|█         | 1033/9716 [1:05:13<9:08:14,  3.79s/it]"
     ]
    },
    {
     "name": "stdout",
     "output_type": "stream",
     "text": [
      "166621 20 17561 149057 [19185, 19184, 19183, 19182, 19181, 19180, 19179, 19178, 19177, 19176, 19175, 19174, 19173, 19172, 19171, 19170, 19169, 19168, 19167, 19166]\n"
     ]
    },
    {
     "name": "stderr",
     "output_type": "stream",
     "text": [
      "\r",
      " 11%|█         | 1034/9716 [1:05:16<9:08:07,  3.79s/it]"
     ]
    },
    {
     "name": "stdout",
     "output_type": "stream",
     "text": [
      "166621 20 17578 149043 [19199, 19198, 19197, 19196, 19195, 19194, 19193, 19192, 19191, 19190, 19189, 19188, 19187, 19186, 19185, 19184, 19183, 19182, 19181, 19180]\n"
     ]
    },
    {
     "name": "stderr",
     "output_type": "stream",
     "text": [
      "\r",
      " 11%|█         | 1035/9716 [1:05:20<9:08:04,  3.79s/it]"
     ]
    },
    {
     "name": "stdout",
     "output_type": "stream",
     "text": [
      "166621 20 17595 149026 [19216, 19215, 19214, 19213, 19212, 19211, 19210, 19209, 19208, 19207, 19206, 19205, 19204, 19203, 19202, 19201, 19200, 19199, 19198, 19197]\n"
     ]
    },
    {
     "name": "stderr",
     "output_type": "stream",
     "text": [
      "\r",
      " 11%|█         | 1036/9716 [1:05:26<9:08:21,  3.79s/it]"
     ]
    },
    {
     "name": "stdout",
     "output_type": "stream",
     "text": [
      "166621 20 17612 149009 [19233, 19232, 19231, 19230, 19229, 19228, 19227, 19226, 19225, 19224, 19223, 19222, 19221, 19220, 19219, 19218, 19217, 19216, 19215, 19214]\n"
     ]
    },
    {
     "name": "stderr",
     "output_type": "stream",
     "text": [
      "\r",
      " 11%|█         | 1037/9716 [1:05:31<9:08:20,  3.79s/it]"
     ]
    },
    {
     "name": "stdout",
     "output_type": "stream",
     "text": [
      "166635 20 17629 148992 [19250, 19249, 19248, 19247, 19246, 19245, 19244, 19243, 19242, 19241, 19240, 19239, 19238, 19237, 19236, 19235, 19234, 19233, 19232, 19231]\n"
     ]
    },
    {
     "name": "stderr",
     "output_type": "stream",
     "text": [
      "\r",
      " 11%|█         | 1038/9716 [1:05:35<9:08:18,  3.79s/it]"
     ]
    },
    {
     "name": "stdout",
     "output_type": "stream",
     "text": [
      "166635 20 17646 148989 [19267, 19266, 19265, 19264, 19263, 19262, 19261, 19260, 19259, 19258, 19257, 19256, 19255, 19254, 19253, 19252, 19251, 19250, 19249, 19248]\n"
     ]
    },
    {
     "name": "stderr",
     "output_type": "stream",
     "text": [
      "\r",
      " 11%|█         | 1039/9716 [1:05:38<9:08:15,  3.79s/it]"
     ]
    },
    {
     "name": "stdout",
     "output_type": "stream",
     "text": [
      "166642 20 17663 148972 [19284, 19283, 19282, 19281, 19280, 19279, 19278, 19277, 19276, 19275, 19274, 19273, 19272, 19271, 19270, 19269, 19268, 19267, 19266, 19265]\n"
     ]
    },
    {
     "name": "stderr",
     "output_type": "stream",
     "text": [
      "\r",
      " 11%|█         | 1040/9716 [1:05:42<9:08:11,  3.79s/it]"
     ]
    },
    {
     "name": "stdout",
     "output_type": "stream",
     "text": [
      "166642 20 17680 148962 [19301, 19300, 19299, 19298, 19297, 19296, 19295, 19294, 19293, 19292, 19291, 19290, 19289, 19288, 19287, 19286, 19285, 19284, 19283, 19282]\n"
     ]
    },
    {
     "name": "stderr",
     "output_type": "stream",
     "text": [
      "\r",
      " 11%|█         | 1041/9716 [1:05:46<9:08:07,  3.79s/it]"
     ]
    },
    {
     "name": "stdout",
     "output_type": "stream",
     "text": [
      "166642 20 17697 148945 [19318, 19317, 19316, 19315, 19314, 19313, 19312, 19311, 19310, 19309, 19308, 19307, 19306, 19305, 19304, 19303, 19302, 19301, 19300, 19299]\n"
     ]
    },
    {
     "name": "stderr",
     "output_type": "stream",
     "text": [
      "\r",
      " 11%|█         | 1042/9716 [1:05:50<9:08:02,  3.79s/it]"
     ]
    },
    {
     "name": "stdout",
     "output_type": "stream",
     "text": [
      "166642 20 17714 148928 [19335, 19334, 19333, 19332, 19331, 19330, 19329, 19328, 19327, 19326, 19325, 19324, 19323, 19322, 19321, 19320, 19319, 19318, 19317, 19316]\n"
     ]
    },
    {
     "name": "stderr",
     "output_type": "stream",
     "text": [
      "\r",
      " 11%|█         | 1043/9716 [1:05:53<9:07:57,  3.79s/it]"
     ]
    },
    {
     "name": "stdout",
     "output_type": "stream",
     "text": [
      "166647 20 17731 148911 [19352, 19351, 19350, 19349, 19348, 19347, 19346, 19345, 19344, 19343, 19342, 19341, 19340, 19339, 19338, 19337, 19336, 19335, 19334, 19333]\n"
     ]
    },
    {
     "name": "stderr",
     "output_type": "stream",
     "text": [
      "\r",
      " 11%|█         | 1044/9716 [1:05:57<9:07:55,  3.79s/it]"
     ]
    },
    {
     "name": "stdout",
     "output_type": "stream",
     "text": [
      "166647 20 17748 148899 [19369, 19368, 19367, 19366, 19365, 19364, 19363, 19362, 19361, 19360, 19359, 19358, 19357, 19356, 19355, 19354, 19353, 19352, 19351, 19350]\n"
     ]
    },
    {
     "name": "stderr",
     "output_type": "stream",
     "text": [
      "\r",
      " 11%|█         | 1045/9716 [1:06:03<9:08:04,  3.79s/it]"
     ]
    },
    {
     "name": "stdout",
     "output_type": "stream",
     "text": [
      "166647 20 17765 148882 [19386, 19385, 19384, 19383, 19382, 19381, 19380, 19379, 19378, 19377, 19376, 19375, 19374, 19373, 19372, 19371, 19370, 19369, 19368, 19367]\n"
     ]
    },
    {
     "name": "stderr",
     "output_type": "stream",
     "text": [
      "\r",
      " 11%|█         | 1046/9716 [1:06:06<9:07:59,  3.79s/it]"
     ]
    },
    {
     "name": "stdout",
     "output_type": "stream",
     "text": [
      "166647 20 17782 148865 [19403, 19402, 19401, 19400, 19399, 19398, 19397, 19396, 19395, 19394, 19393, 19392, 19391, 19390, 19389, 19388, 19387, 19386, 19385, 19384]\n"
     ]
    },
    {
     "name": "stderr",
     "output_type": "stream",
     "text": [
      "\r",
      " 11%|█         | 1047/9716 [1:06:10<9:07:57,  3.79s/it]"
     ]
    },
    {
     "name": "stdout",
     "output_type": "stream",
     "text": [
      "166647 20 17799 148848 [19420, 19419, 19418, 19417, 19416, 19415, 19414, 19413, 19412, 19411, 19410, 19409, 19408, 19407, 19406, 19405, 19404, 19403, 19402, 19401]\n"
     ]
    },
    {
     "name": "stderr",
     "output_type": "stream",
     "text": [
      "\r",
      " 11%|█         | 1048/9716 [1:06:14<9:07:54,  3.79s/it]"
     ]
    },
    {
     "name": "stdout",
     "output_type": "stream",
     "text": [
      "166647 20 17816 148831 [19437, 19436, 19435, 19434, 19433, 19432, 19431, 19430, 19429, 19428, 19427, 19426, 19425, 19424, 19423, 19422, 19421, 19420, 19419, 19418]\n"
     ]
    },
    {
     "name": "stderr",
     "output_type": "stream",
     "text": [
      "\r",
      " 11%|█         | 1049/9716 [1:06:23<9:08:29,  3.80s/it]"
     ]
    },
    {
     "name": "stdout",
     "output_type": "stream",
     "text": [
      "166647 20 17833 148814 [19454, 19453, 19452, 19451, 19450, 19449, 19448, 19447, 19446, 19445, 19444, 19443, 19442, 19441, 19440, 19439, 19438, 19437, 19436, 19435]\n"
     ]
    },
    {
     "name": "stderr",
     "output_type": "stream",
     "text": [
      "\r",
      " 11%|█         | 1050/9716 [1:06:26<9:08:25,  3.80s/it]"
     ]
    },
    {
     "name": "stdout",
     "output_type": "stream",
     "text": [
      "166647 20 17850 148797 [19471, 19470, 19469, 19468, 19467, 19466, 19465, 19464, 19463, 19462, 19461, 19460, 19459, 19458, 19457, 19456, 19455, 19454, 19453, 19452]\n"
     ]
    },
    {
     "name": "stderr",
     "output_type": "stream",
     "text": [
      "\r",
      " 11%|█         | 1051/9716 [1:06:30<9:08:21,  3.80s/it]"
     ]
    },
    {
     "name": "stdout",
     "output_type": "stream",
     "text": [
      "166647 20 17867 148780 [19488, 19487, 19486, 19485, 19484, 19483, 19482, 19481, 19480, 19479, 19478, 19477, 19476, 19475, 19474, 19473, 19472, 19471, 19470, 19469]\n"
     ]
    },
    {
     "name": "stderr",
     "output_type": "stream",
     "text": [
      "\r",
      " 11%|█         | 1052/9716 [1:06:34<9:08:18,  3.80s/it]"
     ]
    },
    {
     "name": "stdout",
     "output_type": "stream",
     "text": [
      "166647 20 17884 148763 [19505, 19504, 19503, 19502, 19501, 19500, 19499, 19498, 19497, 19496, 19495, 19494, 19493, 19492, 19491, 19490, 19489, 19488, 19487, 19486]\n"
     ]
    },
    {
     "name": "stderr",
     "output_type": "stream",
     "text": [
      "\r",
      " 11%|█         | 1053/9716 [1:06:38<9:08:15,  3.80s/it]"
     ]
    },
    {
     "name": "stdout",
     "output_type": "stream",
     "text": [
      "166655 20 17901 148746 [19529, 19528, 19527, 19526, 19525, 19524, 19523, 19522, 19521, 19520, 19519, 19518, 19517, 19516, 19515, 19514, 19513, 19512, 19511, 19510]\n"
     ]
    },
    {
     "name": "stderr",
     "output_type": "stream",
     "text": [
      "\r",
      " 11%|█         | 1054/9716 [1:06:42<9:08:12,  3.80s/it]"
     ]
    },
    {
     "name": "stdout",
     "output_type": "stream",
     "text": [
      "166655 20 17918 148737 [19539, 19538, 19537, 19536, 19535, 19534, 19533, 19532, 19531, 19530, 19529, 19528, 19527, 19526, 19525, 19524, 19523, 19522, 19521, 19520]\n"
     ]
    },
    {
     "name": "stderr",
     "output_type": "stream",
     "text": [
      "\r",
      " 11%|█         | 1055/9716 [1:06:46<9:08:08,  3.80s/it]"
     ]
    },
    {
     "name": "stdout",
     "output_type": "stream",
     "text": [
      "166655 20 17935 148720 [19556, 19555, 19554, 19553, 19552, 19551, 19550, 19549, 19548, 19547, 19546, 19545, 19544, 19543, 19542, 19541, 19540, 19539, 19538, 19537]\n"
     ]
    },
    {
     "name": "stderr",
     "output_type": "stream",
     "text": [
      "\r",
      " 11%|█         | 1056/9716 [1:06:49<9:08:01,  3.80s/it]"
     ]
    },
    {
     "name": "stdout",
     "output_type": "stream",
     "text": [
      "166655 20 17952 148703 [19573, 19572, 19571, 19570, 19569, 19568, 19567, 19566, 19565, 19564, 19563, 19562, 19561, 19560, 19559, 19558, 19557, 19556, 19555, 19554]\n"
     ]
    },
    {
     "name": "stderr",
     "output_type": "stream",
     "text": [
      "\r",
      " 11%|█         | 1057/9716 [1:06:52<9:07:52,  3.80s/it]"
     ]
    },
    {
     "name": "stdout",
     "output_type": "stream",
     "text": [
      "166655 20 17969 148686 [19590, 19589, 19588, 19587, 19586, 19585, 19584, 19583, 19582, 19581, 19580, 19579, 19578, 19577, 19576, 19575, 19574, 19573, 19572, 19571]\n"
     ]
    },
    {
     "name": "stderr",
     "output_type": "stream",
     "text": [
      "\r",
      " 11%|█         | 1058/9716 [1:06:55<9:07:42,  3.80s/it]"
     ]
    },
    {
     "name": "stdout",
     "output_type": "stream",
     "text": [
      "166655 20 17986 148669 [19607, 19606, 19605, 19604, 19603, 19602, 19601, 19600, 19599, 19598, 19597, 19596, 19595, 19594, 19593, 19592, 19591, 19590, 19589, 19588]\n"
     ]
    },
    {
     "name": "stderr",
     "output_type": "stream",
     "text": [
      "\r",
      " 11%|█         | 1059/9716 [1:06:59<9:07:34,  3.80s/it]"
     ]
    },
    {
     "name": "stdout",
     "output_type": "stream",
     "text": [
      "166655 20 18003 148652 [19624, 19623, 19622, 19621, 19620, 19619, 19618, 19617, 19616, 19615, 19614, 19613, 19612, 19611, 19610, 19609, 19608, 19607, 19606, 19605]\n"
     ]
    },
    {
     "name": "stderr",
     "output_type": "stream",
     "text": [
      "\r",
      " 11%|█         | 1060/9716 [1:07:02<9:07:26,  3.79s/it]"
     ]
    },
    {
     "name": "stdout",
     "output_type": "stream",
     "text": [
      "166668 20 18020 148635 [19641, 19640, 19639, 19638, 19637, 19636, 19635, 19634, 19633, 19632, 19631, 19630, 19629, 19628, 19627, 19626, 19625, 19624, 19623, 19622]\n"
     ]
    },
    {
     "name": "stderr",
     "output_type": "stream",
     "text": [
      "\r",
      " 11%|█         | 1061/9716 [1:07:05<9:07:20,  3.79s/it]"
     ]
    },
    {
     "name": "stdout",
     "output_type": "stream",
     "text": [
      "166668 20 18037 148631 [19658, 19657, 19656, 19655, 19654, 19653, 19652, 19651, 19650, 19649, 19648, 19647, 19646, 19645, 19644, 19643, 19642, 19641, 19640, 19639]\n"
     ]
    },
    {
     "name": "stderr",
     "output_type": "stream",
     "text": [
      "\r",
      " 11%|█         | 1062/9716 [1:07:08<9:07:10,  3.79s/it]"
     ]
    },
    {
     "name": "stdout",
     "output_type": "stream",
     "text": [
      "166668 20 18054 148614 [19675, 19674, 19673, 19672, 19671, 19670, 19669, 19668, 19667, 19666, 19665, 19664, 19663, 19662, 19661, 19660, 19659, 19658, 19657, 19656]\n"
     ]
    },
    {
     "name": "stderr",
     "output_type": "stream",
     "text": [
      "\r",
      " 11%|█         | 1063/9716 [1:07:11<9:06:59,  3.79s/it]"
     ]
    },
    {
     "name": "stdout",
     "output_type": "stream",
     "text": [
      "166668 20 18071 148597 [19692, 19691, 19690, 19689, 19688, 19687, 19686, 19685, 19684, 19683, 19682, 19681, 19680, 19679, 19678, 19677, 19676, 19675, 19674, 19673]\n"
     ]
    },
    {
     "name": "stderr",
     "output_type": "stream",
     "text": [
      "\r",
      " 11%|█         | 1064/9716 [1:07:14<9:06:49,  3.79s/it]"
     ]
    },
    {
     "name": "stdout",
     "output_type": "stream",
     "text": [
      "166668 20 18088 148580 [19709, 19708, 19707, 19706, 19705, 19704, 19703, 19702, 19701, 19700, 19699, 19698, 19697, 19696, 19695, 19694, 19693, 19692, 19691, 19690]\n"
     ]
    },
    {
     "name": "stderr",
     "output_type": "stream",
     "text": [
      "\r",
      " 11%|█         | 1065/9716 [1:07:18<9:06:41,  3.79s/it]"
     ]
    },
    {
     "name": "stdout",
     "output_type": "stream",
     "text": [
      "166668 20 18105 148563 [19726, 19725, 19724, 19723, 19722, 19721, 19720, 19719, 19718, 19717, 19716, 19715, 19714, 19713, 19712, 19711, 19710, 19709, 19708, 19707]\n"
     ]
    },
    {
     "name": "stderr",
     "output_type": "stream",
     "text": [
      "\r",
      " 11%|█         | 1066/9716 [1:07:21<9:06:33,  3.79s/it]"
     ]
    },
    {
     "name": "stdout",
     "output_type": "stream",
     "text": [
      "166668 20 18122 148546 [19743, 19742, 19741, 19740, 19739, 19738, 19737, 19736, 19735, 19734, 19733, 19732, 19731, 19730, 19729, 19728, 19727, 19726, 19725, 19724]\n"
     ]
    },
    {
     "name": "stderr",
     "output_type": "stream",
     "text": [
      "\r",
      " 11%|█         | 1067/9716 [1:07:24<9:06:27,  3.79s/it]"
     ]
    },
    {
     "name": "stdout",
     "output_type": "stream",
     "text": [
      "166668 20 18139 148529 [19760, 19759, 19758, 19757, 19756, 19755, 19754, 19753, 19752, 19751, 19750, 19749, 19748, 19747, 19746, 19745, 19744, 19743, 19742, 19741]\n"
     ]
    },
    {
     "name": "stderr",
     "output_type": "stream",
     "text": [
      "\r",
      " 11%|█         | 1068/9716 [1:07:28<9:06:19,  3.79s/it]"
     ]
    },
    {
     "name": "stdout",
     "output_type": "stream",
     "text": [
      "166668 20 18156 148512 [19777, 19776, 19775, 19774, 19773, 19772, 19771, 19770, 19769, 19768, 19767, 19766, 19765, 19764, 19763, 19762, 19761, 19760, 19759, 19758]\n"
     ]
    },
    {
     "name": "stderr",
     "output_type": "stream",
     "text": [
      "\r",
      " 11%|█         | 1069/9716 [1:07:32<9:06:21,  3.79s/it]"
     ]
    },
    {
     "name": "stdout",
     "output_type": "stream",
     "text": [
      "166679 20 18173 148495 [19794, 19793, 19792, 19791, 19790, 19789, 19788, 19787, 19786, 19785, 19784, 19783, 19782, 19781, 19780, 19779, 19778, 19777, 19776, 19775]\n"
     ]
    },
    {
     "name": "stderr",
     "output_type": "stream",
     "text": [
      "\r",
      " 11%|█         | 1070/9716 [1:07:36<9:06:15,  3.79s/it]"
     ]
    },
    {
     "name": "stdout",
     "output_type": "stream",
     "text": [
      "166688 20 18190 148489 [19811, 19810, 19809, 19808, 19807, 19806, 19805, 19804, 19803, 19802, 19801, 19800, 19799, 19798, 19797, 19796, 19795, 19794, 19793, 19792]\n"
     ]
    },
    {
     "name": "stderr",
     "output_type": "stream",
     "text": [
      "\r",
      " 11%|█         | 1071/9716 [1:07:39<9:06:05,  3.79s/it]"
     ]
    },
    {
     "name": "stdout",
     "output_type": "stream",
     "text": [
      "166688 20 18207 148481 [19828, 19827, 19826, 19825, 19824, 19823, 19822, 19821, 19820, 19819, 19818, 19817, 19816, 19815, 19814, 19813, 19812, 19811, 19810, 19809]\n"
     ]
    },
    {
     "name": "stderr",
     "output_type": "stream",
     "text": [
      "\r",
      " 11%|█         | 1072/9716 [1:07:42<9:05:55,  3.79s/it]"
     ]
    },
    {
     "name": "stdout",
     "output_type": "stream",
     "text": [
      "166690 20 18224 148464 [19846, 19845, 19844, 19843, 19842, 19841, 19840, 19839, 19838, 19837, 19836, 19835, 19834, 19833, 19832, 19831, 19830, 19829, 19828, 19827]\n"
     ]
    },
    {
     "name": "stderr",
     "output_type": "stream",
     "text": [
      "\r",
      " 11%|█         | 1073/9716 [1:07:45<9:05:45,  3.79s/it]"
     ]
    },
    {
     "name": "stdout",
     "output_type": "stream",
     "text": [
      "166690 20 18241 148449 [19862, 19861, 19860, 19859, 19858, 19857, 19856, 19855, 19854, 19853, 19852, 19851, 19850, 19849, 19848, 19847, 19846, 19845, 19844, 19843]\n"
     ]
    },
    {
     "name": "stderr",
     "output_type": "stream",
     "text": [
      "\r",
      " 11%|█         | 1074/9716 [1:07:48<9:05:35,  3.79s/it]"
     ]
    },
    {
     "name": "stdout",
     "output_type": "stream",
     "text": [
      "166690 20 18258 148432 [19879, 19878, 19877, 19876, 19875, 19874, 19873, 19872, 19871, 19870, 19869, 19868, 19867, 19866, 19865, 19864, 19863, 19862, 19861, 19860]\n"
     ]
    },
    {
     "name": "stderr",
     "output_type": "stream",
     "text": [
      "\r",
      " 11%|█         | 1075/9716 [1:07:51<9:05:27,  3.79s/it]"
     ]
    },
    {
     "name": "stdout",
     "output_type": "stream",
     "text": [
      "166704 20 18275 148415 [19896, 19895, 19894, 19893, 19892, 19891, 19890, 19889, 19888, 19887, 19886, 19885, 19884, 19883, 19882, 19881, 19880, 19879, 19878, 19877]\n"
     ]
    },
    {
     "name": "stderr",
     "output_type": "stream",
     "text": [
      "\r",
      " 11%|█         | 1076/9716 [1:07:54<9:05:17,  3.79s/it]"
     ]
    },
    {
     "name": "stdout",
     "output_type": "stream",
     "text": [
      "166704 20 18292 148412 [19913, 19912, 19911, 19910, 19909, 19908, 19907, 19906, 19905, 19904, 19903, 19902, 19901, 19900, 19899, 19898, 19897, 19896, 19895, 19894]\n"
     ]
    },
    {
     "name": "stderr",
     "output_type": "stream",
     "text": [
      "\r",
      " 11%|█         | 1077/9716 [1:07:57<9:05:07,  3.79s/it]"
     ]
    },
    {
     "name": "stdout",
     "output_type": "stream",
     "text": [
      "166717 20 18309 148395 [19935, 19934, 19933, 19932, 19931, 19930, 19929, 19928, 19927, 19926, 19925, 19924, 19923, 19922, 19921, 19920, 19919, 19918, 19917, 19916]\n"
     ]
    },
    {
     "name": "stderr",
     "output_type": "stream",
     "text": [
      "\r",
      " 11%|█         | 1078/9716 [1:08:00<9:04:56,  3.79s/it]"
     ]
    },
    {
     "name": "stdout",
     "output_type": "stream",
     "text": [
      "166717 20 18326 148391 [19947, 19946, 19945, 19944, 19943, 19942, 19941, 19940, 19939, 19938, 19937, 19936, 19935, 19934, 19933, 19932, 19931, 19930, 19929, 19928]\n"
     ]
    },
    {
     "name": "stderr",
     "output_type": "stream",
     "text": [
      "\r",
      " 11%|█         | 1079/9716 [1:08:03<9:04:50,  3.78s/it]"
     ]
    },
    {
     "name": "stdout",
     "output_type": "stream",
     "text": [
      "166718 20 18343 148374 [19964, 19963, 19962, 19961, 19960, 19959, 19958, 19957, 19956, 19955, 19954, 19953, 19952, 19951, 19950, 19949, 19948, 19947, 19946, 19945]\n"
     ]
    },
    {
     "name": "stderr",
     "output_type": "stream",
     "text": [
      "\r",
      " 11%|█         | 1080/9716 [1:08:07<9:04:41,  3.78s/it]"
     ]
    },
    {
     "name": "stdout",
     "output_type": "stream",
     "text": [
      "166718 20 18360 148358 [19981, 19980, 19979, 19978, 19977, 19976, 19975, 19974, 19973, 19972, 19971, 19970, 19969, 19968, 19967, 19966, 19965, 19964, 19963, 19962]\n"
     ]
    },
    {
     "name": "stderr",
     "output_type": "stream",
     "text": [
      "\r",
      " 11%|█         | 1081/9716 [1:08:10<9:04:32,  3.78s/it]"
     ]
    },
    {
     "name": "stdout",
     "output_type": "stream",
     "text": [
      "166718 20 18377 148341 [19998, 19997, 19996, 19995, 19994, 19993, 19992, 19991, 19990, 19989, 19988, 19987, 19986, 19985, 19984, 19983, 19982, 19981, 19980, 19979]\n"
     ]
    },
    {
     "name": "stderr",
     "output_type": "stream",
     "text": [
      "\r",
      " 11%|█         | 1082/9716 [1:08:13<9:04:24,  3.78s/it]"
     ]
    },
    {
     "name": "stdout",
     "output_type": "stream",
     "text": [
      "166718 20 18394 148324 [20015, 20014, 20013, 20012, 20011, 20010, 20009, 20008, 20007, 20006, 20005, 20004, 20003, 20002, 20001, 20000, 19999, 19998, 19997, 19996]\n"
     ]
    },
    {
     "name": "stderr",
     "output_type": "stream",
     "text": [
      "\r",
      " 11%|█         | 1083/9716 [1:08:17<9:04:20,  3.78s/it]"
     ]
    },
    {
     "name": "stdout",
     "output_type": "stream",
     "text": [
      "166718 20 18411 148307 [20032, 20031, 20030, 20029, 20028, 20027, 20026, 20025, 20024, 20023, 20022, 20021, 20020, 20019, 20018, 20017, 20016, 20015, 20014, 20013]\n"
     ]
    },
    {
     "name": "stderr",
     "output_type": "stream",
     "text": [
      "\r",
      " 11%|█         | 1084/9716 [1:08:20<9:04:09,  3.78s/it]"
     ]
    },
    {
     "name": "stdout",
     "output_type": "stream",
     "text": [
      "166718 20 18428 148290 [20049, 20048, 20047, 20046, 20045, 20044, 20043, 20042, 20041, 20040, 20039, 20038, 20037, 20036, 20035, 20034, 20033, 20032, 20031, 20030]\n"
     ]
    },
    {
     "name": "stderr",
     "output_type": "stream",
     "text": [
      "\r",
      " 11%|█         | 1085/9716 [1:08:23<9:04:02,  3.78s/it]"
     ]
    },
    {
     "name": "stdout",
     "output_type": "stream",
     "text": [
      "166718 20 18445 148273 [20066, 20065, 20064, 20063, 20062, 20061, 20060, 20059, 20058, 20057, 20056, 20055, 20054, 20053, 20052, 20051, 20050, 20049, 20048, 20047]\n"
     ]
    },
    {
     "name": "stderr",
     "output_type": "stream",
     "text": [
      "\r",
      " 11%|█         | 1086/9716 [1:08:26<9:03:53,  3.78s/it]"
     ]
    },
    {
     "name": "stdout",
     "output_type": "stream",
     "text": [
      "166718 20 18462 148256 [20083, 20082, 20081, 20080, 20079, 20078, 20077, 20076, 20075, 20074, 20073, 20072, 20071, 20070, 20069, 20068, 20067, 20066, 20065, 20064]\n"
     ]
    },
    {
     "name": "stderr",
     "output_type": "stream",
     "text": [
      "\r",
      " 11%|█         | 1087/9716 [1:08:29<9:03:46,  3.78s/it]"
     ]
    },
    {
     "name": "stdout",
     "output_type": "stream",
     "text": [
      "166725 20 18479 148239 [20100, 20099, 20098, 20097, 20096, 20095, 20094, 20093, 20092, 20091, 20090, 20089, 20088, 20087, 20086, 20085, 20084, 20083, 20082, 20081]\n"
     ]
    },
    {
     "name": "stderr",
     "output_type": "stream",
     "text": [
      "\r",
      " 11%|█         | 1088/9716 [1:08:33<9:03:39,  3.78s/it]"
     ]
    },
    {
     "name": "stdout",
     "output_type": "stream",
     "text": [
      "166725 20 18496 148229 [20117, 20116, 20115, 20114, 20113, 20112, 20111, 20110, 20109, 20108, 20107, 20106, 20105, 20104, 20103, 20102, 20101, 20100, 20099, 20098]\n"
     ]
    },
    {
     "name": "stderr",
     "output_type": "stream",
     "text": [
      "\r",
      " 11%|█         | 1089/9716 [1:08:36<9:03:31,  3.78s/it]"
     ]
    },
    {
     "name": "stdout",
     "output_type": "stream",
     "text": [
      "166725 20 18513 148212 [20134, 20133, 20132, 20131, 20130, 20129, 20128, 20127, 20126, 20125, 20124, 20123, 20122, 20121, 20120, 20119, 20118, 20117, 20116, 20115]\n"
     ]
    },
    {
     "name": "stderr",
     "output_type": "stream",
     "text": [
      "\r",
      " 11%|█         | 1090/9716 [1:08:39<9:03:22,  3.78s/it]"
     ]
    },
    {
     "name": "stdout",
     "output_type": "stream",
     "text": [
      "166725 20 18530 148195 [20151, 20150, 20149, 20148, 20147, 20146, 20145, 20144, 20143, 20142, 20141, 20140, 20139, 20138, 20137, 20136, 20135, 20134, 20133, 20132]\n"
     ]
    },
    {
     "name": "stderr",
     "output_type": "stream",
     "text": [
      "\r",
      " 11%|█         | 1091/9716 [1:08:42<9:03:13,  3.78s/it]"
     ]
    },
    {
     "name": "stdout",
     "output_type": "stream",
     "text": [
      "166725 20 18547 148178 [20168, 20167, 20166, 20165, 20164, 20163, 20162, 20161, 20160, 20159, 20158, 20157, 20156, 20155, 20154, 20153, 20152, 20151, 20150, 20149]\n"
     ]
    },
    {
     "name": "stderr",
     "output_type": "stream",
     "text": [
      "\r",
      " 11%|█         | 1092/9716 [1:08:46<9:03:05,  3.78s/it]"
     ]
    },
    {
     "name": "stdout",
     "output_type": "stream",
     "text": [
      "166725 20 18564 148161 [20185, 20184, 20183, 20182, 20181, 20180, 20179, 20178, 20177, 20176, 20175, 20174, 20173, 20172, 20171, 20170, 20169, 20168, 20167, 20166]\n"
     ]
    },
    {
     "name": "stderr",
     "output_type": "stream",
     "text": [
      "\r",
      " 11%|█         | 1093/9716 [1:08:49<9:02:55,  3.78s/it]"
     ]
    },
    {
     "name": "stdout",
     "output_type": "stream",
     "text": [
      "166725 20 18581 148144 [20202, 20201, 20200, 20199, 20198, 20197, 20196, 20195, 20194, 20193, 20192, 20191, 20190, 20189, 20188, 20187, 20186, 20185, 20184, 20183]\n"
     ]
    },
    {
     "name": "stderr",
     "output_type": "stream",
     "text": [
      "\r",
      " 11%|█▏        | 1094/9716 [1:08:52<9:02:49,  3.78s/it]"
     ]
    },
    {
     "name": "stdout",
     "output_type": "stream",
     "text": [
      "166725 20 18598 148127 [20219, 20218, 20217, 20216, 20215, 20214, 20213, 20212, 20211, 20210, 20209, 20208, 20207, 20206, 20205, 20204, 20203, 20202, 20201, 20200]\n"
     ]
    },
    {
     "name": "stderr",
     "output_type": "stream",
     "text": [
      "\r",
      " 11%|█▏        | 1095/9716 [1:08:55<9:02:40,  3.78s/it]"
     ]
    },
    {
     "name": "stdout",
     "output_type": "stream",
     "text": [
      "166740 20 18615 148110 [20236, 20235, 20234, 20233, 20232, 20231, 20230, 20229, 20228, 20227, 20226, 20225, 20224, 20223, 20222, 20221, 20220, 20219, 20218, 20217]\n"
     ]
    },
    {
     "name": "stderr",
     "output_type": "stream",
     "text": [
      "\r",
      " 11%|█▏        | 1096/9716 [1:08:59<9:02:34,  3.78s/it]"
     ]
    },
    {
     "name": "stdout",
     "output_type": "stream",
     "text": [
      "166740 20 18632 148108 [20253, 20252, 20251, 20250, 20249, 20248, 20247, 20246, 20245, 20244, 20243, 20242, 20241, 20240, 20239, 20238, 20237, 20236, 20235, 20234]\n"
     ]
    },
    {
     "name": "stderr",
     "output_type": "stream",
     "text": [
      "\r",
      " 11%|█▏        | 1097/9716 [1:09:02<9:02:24,  3.78s/it]"
     ]
    },
    {
     "name": "stdout",
     "output_type": "stream",
     "text": [
      "166740 20 18649 148091 [20270, 20269, 20268, 20267, 20266, 20265, 20264, 20263, 20262, 20261, 20260, 20259, 20258, 20257, 20256, 20255, 20254, 20253, 20252, 20251]\n"
     ]
    },
    {
     "name": "stderr",
     "output_type": "stream",
     "text": [
      "\r",
      " 11%|█▏        | 1098/9716 [1:09:05<9:02:16,  3.78s/it]"
     ]
    },
    {
     "name": "stdout",
     "output_type": "stream",
     "text": [
      "166740 20 18666 148074 [20287, 20286, 20285, 20284, 20283, 20282, 20281, 20280, 20279, 20278, 20277, 20276, 20275, 20274, 20273, 20272, 20271, 20270, 20269, 20268]\n"
     ]
    },
    {
     "name": "stderr",
     "output_type": "stream",
     "text": [
      "\r",
      " 11%|█▏        | 1099/9716 [1:09:08<9:02:08,  3.77s/it]"
     ]
    },
    {
     "name": "stdout",
     "output_type": "stream",
     "text": [
      "166742 20 18683 148057 [20304, 20303, 20302, 20301, 20300, 20299, 20298, 20297, 20296, 20295, 20294, 20293, 20292, 20291, 20290, 20289, 20288, 20287, 20286, 20285]\n"
     ]
    },
    {
     "name": "stderr",
     "output_type": "stream",
     "text": [
      "\r",
      " 11%|█▏        | 1100/9716 [1:09:11<9:02:00,  3.77s/it]"
     ]
    },
    {
     "name": "stdout",
     "output_type": "stream",
     "text": [
      "166742 20 18700 148042 [20321, 20320, 20319, 20318, 20317, 20316, 20315, 20314, 20313, 20312, 20311, 20310, 20309, 20308, 20307, 20306, 20305, 20304, 20303, 20302]\n"
     ]
    },
    {
     "name": "stderr",
     "output_type": "stream",
     "text": [
      "\r",
      " 11%|█▏        | 1101/9716 [1:09:15<9:01:56,  3.77s/it]"
     ]
    },
    {
     "name": "stdout",
     "output_type": "stream",
     "text": [
      "166742 20 18717 148025 [20338, 20337, 20336, 20335, 20334, 20333, 20332, 20331, 20330, 20329, 20328, 20327, 20326, 20325, 20324, 20323, 20322, 20321, 20320, 20319]\n"
     ]
    },
    {
     "name": "stderr",
     "output_type": "stream",
     "text": [
      "\r",
      " 11%|█▏        | 1102/9716 [1:09:18<9:01:47,  3.77s/it]"
     ]
    },
    {
     "name": "stdout",
     "output_type": "stream",
     "text": [
      "166742 20 18734 148008 [20355, 20354, 20353, 20352, 20351, 20350, 20349, 20348, 20347, 20346, 20345, 20344, 20343, 20342, 20341, 20340, 20339, 20338, 20337, 20336]\n"
     ]
    },
    {
     "name": "stderr",
     "output_type": "stream",
     "text": [
      "\r",
      " 11%|█▏        | 1103/9716 [1:09:22<9:01:44,  3.77s/it]"
     ]
    },
    {
     "name": "stdout",
     "output_type": "stream",
     "text": [
      "166742 20 18751 147991 [20372, 20371, 20370, 20369, 20368, 20367, 20366, 20365, 20364, 20363, 20362, 20361, 20360, 20359, 20358, 20357, 20356, 20355, 20354, 20353]\n"
     ]
    },
    {
     "name": "stderr",
     "output_type": "stream",
     "text": [
      "\r",
      " 11%|█▏        | 1104/9716 [1:09:25<9:01:36,  3.77s/it]"
     ]
    },
    {
     "name": "stdout",
     "output_type": "stream",
     "text": [
      "166742 20 18768 147974 [20389, 20388, 20387, 20386, 20385, 20384, 20383, 20382, 20381, 20380, 20379, 20378, 20377, 20376, 20375, 20374, 20373, 20372, 20371, 20370]\n"
     ]
    },
    {
     "name": "stderr",
     "output_type": "stream",
     "text": [
      "\r",
      " 11%|█▏        | 1105/9716 [1:09:29<9:01:32,  3.77s/it]"
     ]
    },
    {
     "name": "stdout",
     "output_type": "stream",
     "text": [
      "166742 20 18785 147957 [20406, 20405, 20404, 20403, 20402, 20401, 20400, 20399, 20398, 20397, 20396, 20395, 20394, 20393, 20392, 20391, 20390, 20389, 20388, 20387]\n"
     ]
    },
    {
     "name": "stderr",
     "output_type": "stream",
     "text": [
      "\r",
      " 11%|█▏        | 1106/9716 [1:09:33<9:01:26,  3.77s/it]"
     ]
    },
    {
     "name": "stdout",
     "output_type": "stream",
     "text": [
      "166742 20 18802 147940 [20423, 20422, 20421, 20420, 20419, 20418, 20417, 20416, 20415, 20414, 20413, 20412, 20411, 20410, 20409, 20408, 20407, 20406, 20405, 20404]\n"
     ]
    },
    {
     "name": "stderr",
     "output_type": "stream",
     "text": [
      "\r",
      " 11%|█▏        | 1107/9716 [1:09:36<9:01:22,  3.77s/it]"
     ]
    },
    {
     "name": "stdout",
     "output_type": "stream",
     "text": [
      "166751 20 18819 147923 [20440, 20439, 20438, 20437, 20436, 20435, 20434, 20433, 20432, 20431, 20430, 20429, 20428, 20427, 20426, 20425, 20424, 20423, 20422, 20421]\n"
     ]
    },
    {
     "name": "stderr",
     "output_type": "stream",
     "text": [
      "\r",
      " 11%|█▏        | 1108/9716 [1:09:41<9:01:28,  3.77s/it]"
     ]
    },
    {
     "name": "stdout",
     "output_type": "stream",
     "text": [
      "166760 20 18836 147915 [20457, 20456, 20455, 20454, 20453, 20452, 20451, 20450, 20449, 20448, 20447, 20446, 20445, 20444, 20443, 20442, 20441, 20440, 20439, 20438]\n"
     ]
    },
    {
     "name": "stderr",
     "output_type": "stream",
     "text": [
      "\r",
      " 11%|█▏        | 1109/9716 [1:09:46<9:01:28,  3.77s/it]"
     ]
    },
    {
     "name": "stdout",
     "output_type": "stream",
     "text": [
      "166770 20 18853 147907 [20474, 20473, 20472, 20471, 20470, 20469, 20468, 20467, 20466, 20465, 20464, 20463, 20462, 20461, 20460, 20459, 20458, 20457, 20456, 20455]\n"
     ]
    },
    {
     "name": "stderr",
     "output_type": "stream",
     "text": [
      "\r",
      " 11%|█▏        | 1110/9716 [1:09:50<9:01:26,  3.77s/it]"
     ]
    },
    {
     "name": "stdout",
     "output_type": "stream",
     "text": [
      "166776 20 18870 147900 [20491, 20490, 20489, 20488, 20487, 20486, 20485, 20484, 20483, 20482, 20481, 20480, 20479, 20478, 20477, 20476, 20475, 20474, 20473, 20472]\n"
     ]
    },
    {
     "name": "stderr",
     "output_type": "stream",
     "text": [
      "\r",
      " 11%|█▏        | 1111/9716 [1:09:53<9:01:22,  3.77s/it]"
     ]
    },
    {
     "name": "stdout",
     "output_type": "stream",
     "text": [
      "166776 20 18887 147889 [20508, 20507, 20506, 20505, 20504, 20503, 20502, 20501, 20500, 20499, 20498, 20497, 20496, 20495, 20494, 20493, 20492, 20491, 20490, 20489]\n"
     ]
    },
    {
     "name": "stderr",
     "output_type": "stream",
     "text": [
      "\r",
      " 11%|█▏        | 1112/9716 [1:09:57<9:01:18,  3.77s/it]"
     ]
    },
    {
     "name": "stdout",
     "output_type": "stream",
     "text": [
      "166776 20 18904 147872 [20525, 20524, 20523, 20522, 20521, 20520, 20519, 20518, 20517, 20516, 20515, 20514, 20513, 20512, 20511, 20510, 20509, 20508, 20507, 20506]\n"
     ]
    },
    {
     "name": "stderr",
     "output_type": "stream",
     "text": [
      "\r",
      " 11%|█▏        | 1113/9716 [1:10:01<9:01:18,  3.78s/it]"
     ]
    },
    {
     "name": "stdout",
     "output_type": "stream",
     "text": [
      "166776 20 18921 147855 [20542, 20541, 20540, 20539, 20538, 20537, 20536, 20535, 20534, 20533, 20532, 20531, 20530, 20529, 20528, 20527, 20526, 20525, 20524, 20523]\n"
     ]
    },
    {
     "name": "stderr",
     "output_type": "stream",
     "text": [
      "\r",
      " 11%|█▏        | 1114/9716 [1:10:06<9:01:18,  3.78s/it]"
     ]
    },
    {
     "name": "stdout",
     "output_type": "stream",
     "text": [
      "166776 20 18938 147838 [20559, 20558, 20557, 20556, 20555, 20554, 20553, 20552, 20551, 20550, 20549, 20548, 20547, 20546, 20545, 20544, 20543, 20542, 20541, 20540]\n"
     ]
    },
    {
     "name": "stderr",
     "output_type": "stream",
     "text": [
      "\r",
      " 11%|█▏        | 1115/9716 [1:10:09<9:01:15,  3.78s/it]"
     ]
    },
    {
     "name": "stdout",
     "output_type": "stream",
     "text": [
      "166776 20 18955 147821 [20576, 20575, 20574, 20573, 20572, 20571, 20570, 20569, 20568, 20567, 20566, 20565, 20564, 20563, 20562, 20561, 20560, 20559, 20558, 20557]\n"
     ]
    },
    {
     "name": "stderr",
     "output_type": "stream",
     "text": [
      "\r",
      " 11%|█▏        | 1116/9716 [1:10:13<9:01:08,  3.78s/it]"
     ]
    },
    {
     "name": "stdout",
     "output_type": "stream",
     "text": [
      "166776 20 18972 147804 [20593, 20592, 20591, 20590, 20589, 20588, 20587, 20586, 20585, 20584, 20583, 20582, 20581, 20580, 20579, 20578, 20577, 20576, 20575, 20574]\n"
     ]
    },
    {
     "name": "stderr",
     "output_type": "stream",
     "text": [
      "\r",
      " 11%|█▏        | 1117/9716 [1:10:17<9:01:06,  3.78s/it]"
     ]
    },
    {
     "name": "stdout",
     "output_type": "stream",
     "text": [
      "166776 20 18989 147787 [20610, 20609, 20608, 20607, 20606, 20605, 20604, 20603, 20602, 20601, 20600, 20599, 20598, 20597, 20596, 20595, 20594, 20593, 20592, 20591]\n"
     ]
    },
    {
     "name": "stderr",
     "output_type": "stream",
     "text": [
      "\r",
      " 12%|█▏        | 1118/9716 [1:10:20<9:00:58,  3.78s/it]"
     ]
    },
    {
     "name": "stdout",
     "output_type": "stream",
     "text": [
      "166776 20 19006 147770 [20627, 20626, 20625, 20624, 20623, 20622, 20621, 20620, 20619, 20618, 20617, 20616, 20615, 20614, 20613, 20612, 20611, 20610, 20609, 20608]\n"
     ]
    },
    {
     "name": "stderr",
     "output_type": "stream",
     "text": [
      "\r",
      " 12%|█▏        | 1119/9716 [1:10:23<9:00:49,  3.77s/it]"
     ]
    },
    {
     "name": "stdout",
     "output_type": "stream",
     "text": [
      "166776 20 19023 147753 [20644, 20643, 20642, 20641, 20640, 20639, 20638, 20637, 20636, 20635, 20634, 20633, 20632, 20631, 20630, 20629, 20628, 20627, 20626, 20625]\n"
     ]
    },
    {
     "name": "stderr",
     "output_type": "stream",
     "text": [
      "\r",
      " 12%|█▏        | 1120/9716 [1:10:27<9:00:42,  3.77s/it]"
     ]
    },
    {
     "name": "stdout",
     "output_type": "stream",
     "text": [
      "166776 20 19040 147736 [20661, 20660, 20659, 20658, 20657, 20656, 20655, 20654, 20653, 20652, 20651, 20650, 20649, 20648, 20647, 20646, 20645, 20644, 20643, 20642]\n"
     ]
    },
    {
     "name": "stderr",
     "output_type": "stream",
     "text": [
      "\r",
      " 12%|█▏        | 1121/9716 [1:10:31<9:00:41,  3.77s/it]"
     ]
    },
    {
     "name": "stdout",
     "output_type": "stream",
     "text": [
      "166789 20 19057 147719 [20678, 20677, 20676, 20675, 20674, 20673, 20672, 20671, 20670, 20669, 20668, 20667, 20666, 20665, 20664, 20663, 20662, 20661, 20660, 20659]\n"
     ]
    },
    {
     "name": "stderr",
     "output_type": "stream",
     "text": [
      "\r",
      " 12%|█▏        | 1122/9716 [1:10:34<9:00:36,  3.77s/it]"
     ]
    },
    {
     "name": "stdout",
     "output_type": "stream",
     "text": [
      "166790 20 19074 147715 [20696, 20695, 20694, 20693, 20692, 20691, 20690, 20689, 20688, 20687, 20686, 20685, 20684, 20683, 20682, 20681, 20680, 20679, 20678, 20677]\n"
     ]
    },
    {
     "name": "stderr",
     "output_type": "stream",
     "text": [
      "\r",
      " 12%|█▏        | 1123/9716 [1:10:38<9:00:32,  3.77s/it]"
     ]
    },
    {
     "name": "stdout",
     "output_type": "stream",
     "text": [
      "166790 20 19091 147699 [20712, 20711, 20710, 20709, 20708, 20707, 20706, 20705, 20704, 20703, 20702, 20701, 20700, 20699, 20698, 20697, 20696, 20695, 20694, 20693]\n"
     ]
    },
    {
     "name": "stderr",
     "output_type": "stream",
     "text": [
      "\r",
      " 12%|█▏        | 1124/9716 [1:10:42<9:00:29,  3.77s/it]"
     ]
    },
    {
     "name": "stdout",
     "output_type": "stream",
     "text": [
      "166791 20 19108 147682 [20729, 20728, 20727, 20726, 20725, 20724, 20723, 20722, 20721, 20720, 20719, 20718, 20717, 20716, 20715, 20714, 20713, 20712, 20711, 20710]\n"
     ]
    },
    {
     "name": "stderr",
     "output_type": "stream",
     "text": [
      "\r",
      " 12%|█▏        | 1125/9716 [1:10:45<9:00:20,  3.77s/it]"
     ]
    },
    {
     "name": "stdout",
     "output_type": "stream",
     "text": [
      "166791 20 19125 147666 [20746, 20745, 20744, 20743, 20742, 20741, 20740, 20739, 20738, 20737, 20736, 20735, 20734, 20733, 20732, 20731, 20730, 20729, 20728, 20727]\n"
     ]
    },
    {
     "name": "stderr",
     "output_type": "stream",
     "text": [
      "\r",
      " 12%|█▏        | 1126/9716 [1:10:50<9:00:25,  3.77s/it]"
     ]
    },
    {
     "name": "stdout",
     "output_type": "stream",
     "text": [
      "166797 20 19142 147649 [20769, 20768, 20767, 20766, 20765, 20764, 20763, 20762, 20761, 20760, 20759, 20758, 20757, 20756, 20755, 20754, 20753, 20752, 20751, 20750]\n"
     ]
    },
    {
     "name": "stderr",
     "output_type": "stream",
     "text": [
      "\r",
      " 12%|█▏        | 1127/9716 [1:10:53<9:00:16,  3.77s/it]"
     ]
    },
    {
     "name": "stdout",
     "output_type": "stream",
     "text": [
      "166797 20 19159 147638 [20780, 20779, 20778, 20777, 20776, 20775, 20774, 20773, 20772, 20771, 20770, 20769, 20768, 20767, 20766, 20765, 20764, 20763, 20762, 20761]\n"
     ]
    },
    {
     "name": "stderr",
     "output_type": "stream",
     "text": [
      "\r",
      " 12%|█▏        | 1128/9716 [1:10:56<9:00:10,  3.77s/it]"
     ]
    },
    {
     "name": "stdout",
     "output_type": "stream",
     "text": [
      "166797 20 19176 147621 [20797, 20796, 20795, 20794, 20793, 20792, 20791, 20790, 20789, 20788, 20787, 20786, 20785, 20784, 20783, 20782, 20781, 20780, 20779, 20778]\n"
     ]
    },
    {
     "name": "stderr",
     "output_type": "stream",
     "text": [
      "\r",
      " 12%|█▏        | 1129/9716 [1:10:59<9:00:00,  3.77s/it]"
     ]
    },
    {
     "name": "stdout",
     "output_type": "stream",
     "text": [
      "166797 20 19193 147604 [20814, 20813, 20812, 20811, 20810, 20809, 20808, 20807, 20806, 20805, 20804, 20803, 20802, 20801, 20800, 20799, 20798, 20797, 20796, 20795]\n"
     ]
    },
    {
     "name": "stderr",
     "output_type": "stream",
     "text": [
      "\r",
      " 12%|█▏        | 1130/9716 [1:11:03<8:59:53,  3.77s/it]"
     ]
    },
    {
     "name": "stdout",
     "output_type": "stream",
     "text": [
      "166797 20 19210 147587 [20831, 20830, 20829, 20828, 20827, 20826, 20825, 20824, 20823, 20822, 20821, 20820, 20819, 20818, 20817, 20816, 20815, 20814, 20813, 20812]\n"
     ]
    },
    {
     "name": "stderr",
     "output_type": "stream",
     "text": [
      "\r",
      " 12%|█▏        | 1131/9716 [1:11:06<8:59:44,  3.77s/it]"
     ]
    },
    {
     "name": "stdout",
     "output_type": "stream",
     "text": [
      "166797 20 19227 147570 [20848, 20847, 20846, 20845, 20844, 20843, 20842, 20841, 20840, 20839, 20838, 20837, 20836, 20835, 20834, 20833, 20832, 20831, 20830, 20829]\n"
     ]
    },
    {
     "name": "stderr",
     "output_type": "stream",
     "text": [
      "\r",
      " 12%|█▏        | 1132/9716 [1:11:09<8:59:38,  3.77s/it]"
     ]
    },
    {
     "name": "stdout",
     "output_type": "stream",
     "text": [
      "166797 20 19244 147553 [20865, 20864, 20863, 20862, 20861, 20860, 20859, 20858, 20857, 20856, 20855, 20854, 20853, 20852, 20851, 20850, 20849, 20848, 20847, 20846]\n"
     ]
    },
    {
     "name": "stderr",
     "output_type": "stream",
     "text": [
      "\r",
      " 12%|█▏        | 1133/9716 [1:11:13<8:59:31,  3.77s/it]"
     ]
    },
    {
     "name": "stdout",
     "output_type": "stream",
     "text": [
      "166797 20 19261 147536 [20882, 20881, 20880, 20879, 20878, 20877, 20876, 20875, 20874, 20873, 20872, 20871, 20870, 20869, 20868, 20867, 20866, 20865, 20864, 20863]\n"
     ]
    },
    {
     "name": "stderr",
     "output_type": "stream",
     "text": [
      "\r",
      " 12%|█▏        | 1134/9716 [1:11:16<8:59:25,  3.77s/it]"
     ]
    },
    {
     "name": "stdout",
     "output_type": "stream",
     "text": [
      "166797 20 19278 147519 [20899, 20898, 20897, 20896, 20895, 20894, 20893, 20892, 20891, 20890, 20889, 20888, 20887, 20886, 20885, 20884, 20883, 20882, 20881, 20880]\n"
     ]
    },
    {
     "name": "stderr",
     "output_type": "stream",
     "text": [
      "\r",
      " 12%|█▏        | 1135/9716 [1:11:19<8:59:18,  3.77s/it]"
     ]
    },
    {
     "name": "stdout",
     "output_type": "stream",
     "text": [
      "166797 20 19295 147502 [20916, 20915, 20914, 20913, 20912, 20911, 20910, 20909, 20908, 20907, 20906, 20905, 20904, 20903, 20902, 20901, 20900, 20899, 20898, 20897]\n"
     ]
    },
    {
     "name": "stderr",
     "output_type": "stream",
     "text": [
      "\r",
      " 12%|█▏        | 1136/9716 [1:11:23<8:59:10,  3.77s/it]"
     ]
    },
    {
     "name": "stdout",
     "output_type": "stream",
     "text": [
      "166797 20 19312 147485 [20933, 20932, 20931, 20930, 20929, 20928, 20927, 20926, 20925, 20924, 20923, 20922, 20921, 20920, 20919, 20918, 20917, 20916, 20915, 20914]\n"
     ]
    },
    {
     "name": "stderr",
     "output_type": "stream",
     "text": [
      "\r",
      " 12%|█▏        | 1137/9716 [1:11:26<8:59:03,  3.77s/it]"
     ]
    },
    {
     "name": "stdout",
     "output_type": "stream",
     "text": [
      "166797 20 19329 147468 [20950, 20949, 20948, 20947, 20946, 20945, 20944, 20943, 20942, 20941, 20940, 20939, 20938, 20937, 20936, 20935, 20934, 20933, 20932, 20931]\n"
     ]
    },
    {
     "name": "stderr",
     "output_type": "stream",
     "text": [
      "\r",
      " 12%|█▏        | 1138/9716 [1:11:29<8:58:56,  3.77s/it]"
     ]
    },
    {
     "name": "stdout",
     "output_type": "stream",
     "text": [
      "166797 20 19346 147451 [20967, 20966, 20965, 20964, 20963, 20962, 20961, 20960, 20959, 20958, 20957, 20956, 20955, 20954, 20953, 20952, 20951, 20950, 20949, 20948]\n"
     ]
    },
    {
     "name": "stderr",
     "output_type": "stream",
     "text": [
      "\r",
      " 12%|█▏        | 1139/9716 [1:11:33<8:58:48,  3.77s/it]"
     ]
    },
    {
     "name": "stdout",
     "output_type": "stream",
     "text": [
      "166797 20 19363 147434 [20984, 20983, 20982, 20981, 20980, 20979, 20978, 20977, 20976, 20975, 20974, 20973, 20972, 20971, 20970, 20969, 20968, 20967, 20966, 20965]\n"
     ]
    },
    {
     "name": "stderr",
     "output_type": "stream",
     "text": [
      "\r",
      " 12%|█▏        | 1140/9716 [1:11:36<8:58:43,  3.77s/it]"
     ]
    },
    {
     "name": "stdout",
     "output_type": "stream",
     "text": [
      "166797 20 19380 147417 [21001, 21000, 20999, 20998, 20997, 20996, 20995, 20994, 20993, 20992, 20991, 20990, 20989, 20988, 20987, 20986, 20985, 20984, 20983, 20982]\n"
     ]
    },
    {
     "name": "stderr",
     "output_type": "stream",
     "text": [
      "\r",
      " 12%|█▏        | 1141/9716 [1:11:40<8:58:38,  3.77s/it]"
     ]
    },
    {
     "name": "stdout",
     "output_type": "stream",
     "text": [
      "166797 20 19397 147400 [21018, 21017, 21016, 21015, 21014, 21013, 21012, 21011, 21010, 21009, 21008, 21007, 21006, 21005, 21004, 21003, 21002, 21001, 21000, 20999]\n"
     ]
    },
    {
     "name": "stderr",
     "output_type": "stream",
     "text": [
      "\r",
      " 12%|█▏        | 1142/9716 [1:11:43<8:58:30,  3.77s/it]"
     ]
    },
    {
     "name": "stdout",
     "output_type": "stream",
     "text": [
      "166797 20 19414 147383 [21035, 21034, 21033, 21032, 21031, 21030, 21029, 21028, 21027, 21026, 21025, 21024, 21023, 21022, 21021, 21020, 21019, 21018, 21017, 21016]\n"
     ]
    },
    {
     "name": "stderr",
     "output_type": "stream",
     "text": [
      "\r",
      " 12%|█▏        | 1143/9716 [1:11:46<8:58:22,  3.77s/it]"
     ]
    },
    {
     "name": "stdout",
     "output_type": "stream",
     "text": [
      "166797 20 19431 147366 [21052, 21051, 21050, 21049, 21048, 21047, 21046, 21045, 21044, 21043, 21042, 21041, 21040, 21039, 21038, 21037, 21036, 21035, 21034, 21033]\n"
     ]
    },
    {
     "name": "stderr",
     "output_type": "stream",
     "text": [
      "\r",
      " 12%|█▏        | 1144/9716 [1:11:50<8:58:16,  3.77s/it]"
     ]
    },
    {
     "name": "stdout",
     "output_type": "stream",
     "text": [
      "166797 20 19448 147349 [21069, 21068, 21067, 21066, 21065, 21064, 21063, 21062, 21061, 21060, 21059, 21058, 21057, 21056, 21055, 21054, 21053, 21052, 21051, 21050]\n"
     ]
    },
    {
     "name": "stderr",
     "output_type": "stream",
     "text": [
      "\r",
      " 12%|█▏        | 1145/9716 [1:11:53<8:58:08,  3.77s/it]"
     ]
    },
    {
     "name": "stdout",
     "output_type": "stream",
     "text": [
      "166797 20 19465 147332 [21086, 21085, 21084, 21083, 21082, 21081, 21080, 21079, 21078, 21077, 21076, 21075, 21074, 21073, 21072, 21071, 21070, 21069, 21068, 21067]\n"
     ]
    },
    {
     "name": "stderr",
     "output_type": "stream",
     "text": [
      "\r",
      " 12%|█▏        | 1146/9716 [1:11:56<8:58:02,  3.77s/it]"
     ]
    },
    {
     "name": "stdout",
     "output_type": "stream",
     "text": [
      "166810 20 19482 147315 [21103, 21102, 21101, 21100, 21099, 21098, 21097, 21096, 21095, 21094, 21093, 21092, 21091, 21090, 21089, 21088, 21087, 21086, 21085, 21084]\n"
     ]
    },
    {
     "name": "stderr",
     "output_type": "stream",
     "text": [
      "\r",
      " 12%|█▏        | 1147/9716 [1:12:00<8:57:57,  3.77s/it]"
     ]
    },
    {
     "name": "stdout",
     "output_type": "stream",
     "text": [
      "166810 20 19499 147311 [21120, 21119, 21118, 21117, 21116, 21115, 21114, 21113, 21112, 21111, 21110, 21109, 21108, 21107, 21106, 21105, 21104, 21103, 21102, 21101]\n"
     ]
    },
    {
     "name": "stderr",
     "output_type": "stream",
     "text": [
      "\r",
      " 12%|█▏        | 1148/9716 [1:12:04<8:57:51,  3.77s/it]"
     ]
    },
    {
     "name": "stdout",
     "output_type": "stream",
     "text": [
      "166810 20 19516 147294 [21137, 21136, 21135, 21134, 21133, 21132, 21131, 21130, 21129, 21128, 21127, 21126, 21125, 21124, 21123, 21122, 21121, 21120, 21119, 21118]\n"
     ]
    },
    {
     "name": "stderr",
     "output_type": "stream",
     "text": [
      "\r",
      " 12%|█▏        | 1149/9716 [1:12:07<8:57:44,  3.77s/it]"
     ]
    },
    {
     "name": "stdout",
     "output_type": "stream",
     "text": [
      "166810 20 19533 147277 [21154, 21153, 21152, 21151, 21150, 21149, 21148, 21147, 21146, 21145, 21144, 21143, 21142, 21141, 21140, 21139, 21138, 21137, 21136, 21135]\n"
     ]
    },
    {
     "name": "stderr",
     "output_type": "stream",
     "text": [
      "\r",
      " 12%|█▏        | 1150/9716 [1:12:10<8:57:36,  3.77s/it]"
     ]
    },
    {
     "name": "stdout",
     "output_type": "stream",
     "text": [
      "166810 20 19550 147260 [21171, 21170, 21169, 21168, 21167, 21166, 21165, 21164, 21163, 21162, 21161, 21160, 21159, 21158, 21157, 21156, 21155, 21154, 21153, 21152]\n"
     ]
    },
    {
     "name": "stderr",
     "output_type": "stream",
     "text": [
      "\r",
      " 12%|█▏        | 1151/9716 [1:12:13<8:57:27,  3.76s/it]"
     ]
    },
    {
     "name": "stdout",
     "output_type": "stream",
     "text": [
      "166810 20 19567 147243 [21188, 21187, 21186, 21185, 21184, 21183, 21182, 21181, 21180, 21179, 21178, 21177, 21176, 21175, 21174, 21173, 21172, 21171, 21170, 21169]\n"
     ]
    },
    {
     "name": "stderr",
     "output_type": "stream",
     "text": [
      "\r",
      " 12%|█▏        | 1152/9716 [1:12:17<8:57:21,  3.76s/it]"
     ]
    },
    {
     "name": "stdout",
     "output_type": "stream",
     "text": [
      "166810 20 19584 147226 [21205, 21204, 21203, 21202, 21201, 21200, 21199, 21198, 21197, 21196, 21195, 21194, 21193, 21192, 21191, 21190, 21189, 21188, 21187, 21186]\n"
     ]
    },
    {
     "name": "stderr",
     "output_type": "stream",
     "text": [
      "\r",
      " 12%|█▏        | 1153/9716 [1:12:19<8:57:11,  3.76s/it]"
     ]
    },
    {
     "name": "stdout",
     "output_type": "stream",
     "text": [
      "166810 20 19601 147209 [21222, 21221, 21220, 21219, 21218, 21217, 21216, 21215, 21214, 21213, 21212, 21211, 21210, 21209, 21208, 21207, 21206, 21205, 21204, 21203]\n"
     ]
    },
    {
     "name": "stderr",
     "output_type": "stream",
     "text": [
      "\r",
      " 12%|█▏        | 1154/9716 [1:12:22<8:57:01,  3.76s/it]"
     ]
    },
    {
     "name": "stdout",
     "output_type": "stream",
     "text": [
      "166810 20 19618 147192 [21239, 21238, 21237, 21236, 21235, 21234, 21233, 21232, 21231, 21230, 21229, 21228, 21227, 21226, 21225, 21224, 21223, 21222, 21221, 21220]\n"
     ]
    },
    {
     "name": "stderr",
     "output_type": "stream",
     "text": [
      "\r",
      " 12%|█▏        | 1155/9716 [1:12:26<8:56:53,  3.76s/it]"
     ]
    },
    {
     "name": "stdout",
     "output_type": "stream",
     "text": [
      "166810 20 19635 147175 [21256, 21255, 21254, 21253, 21252, 21251, 21250, 21249, 21248, 21247, 21246, 21245, 21244, 21243, 21242, 21241, 21240, 21239, 21238, 21237]\n"
     ]
    },
    {
     "name": "stderr",
     "output_type": "stream",
     "text": [
      "\r",
      " 12%|█▏        | 1156/9716 [1:12:29<8:56:46,  3.76s/it]"
     ]
    },
    {
     "name": "stdout",
     "output_type": "stream",
     "text": [
      "166810 20 19652 147158 [21273, 21272, 21271, 21270, 21269, 21268, 21267, 21266, 21265, 21264, 21263, 21262, 21261, 21260, 21259, 21258, 21257, 21256, 21255, 21254]\n"
     ]
    },
    {
     "name": "stderr",
     "output_type": "stream",
     "text": [
      "\r",
      " 12%|█▏        | 1157/9716 [1:12:32<8:56:39,  3.76s/it]"
     ]
    },
    {
     "name": "stdout",
     "output_type": "stream",
     "text": [
      "166817 20 19669 147141 [21297, 21296, 21295, 21294, 21293, 21292, 21291, 21290, 21289, 21288, 21287, 21286, 21285, 21284, 21283, 21282, 21281, 21280, 21279, 21278]\n"
     ]
    },
    {
     "name": "stderr",
     "output_type": "stream",
     "text": [
      "\r",
      " 12%|█▏        | 1158/9716 [1:12:36<8:56:32,  3.76s/it]"
     ]
    },
    {
     "name": "stdout",
     "output_type": "stream",
     "text": [
      "166817 20 19686 147131 [21307, 21306, 21305, 21304, 21303, 21302, 21301, 21300, 21299, 21298, 21297, 21296, 21295, 21294, 21293, 21292, 21291, 21290, 21289, 21288]\n"
     ]
    },
    {
     "name": "stderr",
     "output_type": "stream",
     "text": [
      "\r",
      " 12%|█▏        | 1159/9716 [1:12:39<8:56:27,  3.76s/it]"
     ]
    },
    {
     "name": "stdout",
     "output_type": "stream",
     "text": [
      "166817 20 19703 147114 [21324, 21323, 21322, 21321, 21320, 21319, 21318, 21317, 21316, 21315, 21314, 21313, 21312, 21311, 21310, 21309, 21308, 21307, 21306, 21305]\n"
     ]
    },
    {
     "name": "stderr",
     "output_type": "stream",
     "text": [
      "\r",
      " 12%|█▏        | 1160/9716 [1:12:42<8:56:19,  3.76s/it]"
     ]
    },
    {
     "name": "stdout",
     "output_type": "stream",
     "text": [
      "166817 20 19720 147097 [21341, 21340, 21339, 21338, 21337, 21336, 21335, 21334, 21333, 21332, 21331, 21330, 21329, 21328, 21327, 21326, 21325, 21324, 21323, 21322]\n"
     ]
    },
    {
     "name": "stderr",
     "output_type": "stream",
     "text": [
      "\r",
      " 12%|█▏        | 1161/9716 [1:12:46<8:56:11,  3.76s/it]"
     ]
    },
    {
     "name": "stdout",
     "output_type": "stream",
     "text": [
      "166819 20 19737 147080 [21358, 21357, 21356, 21355, 21354, 21353, 21352, 21351, 21350, 21349, 21348, 21347, 21346, 21345, 21344, 21343, 21342, 21341, 21340, 21339]\n"
     ]
    },
    {
     "name": "stderr",
     "output_type": "stream",
     "text": [
      "\r",
      " 12%|█▏        | 1162/9716 [1:12:49<8:56:03,  3.76s/it]"
     ]
    },
    {
     "name": "stdout",
     "output_type": "stream",
     "text": [
      "166819 20 19754 147065 [21375, 21374, 21373, 21372, 21371, 21370, 21369, 21368, 21367, 21366, 21365, 21364, 21363, 21362, 21361, 21360, 21359, 21358, 21357, 21356]\n"
     ]
    },
    {
     "name": "stderr",
     "output_type": "stream",
     "text": [
      "\r",
      " 12%|█▏        | 1163/9716 [1:12:52<8:55:54,  3.76s/it]"
     ]
    },
    {
     "name": "stdout",
     "output_type": "stream",
     "text": [
      "166821 20 19771 147048 [21392, 21391, 21390, 21389, 21388, 21387, 21386, 21385, 21384, 21383, 21382, 21381, 21380, 21379, 21378, 21377, 21376, 21375, 21374, 21373]\n"
     ]
    },
    {
     "name": "stderr",
     "output_type": "stream",
     "text": [
      "\r",
      " 12%|█▏        | 1164/9716 [1:12:55<8:55:45,  3.76s/it]"
     ]
    },
    {
     "name": "stdout",
     "output_type": "stream",
     "text": [
      "166821 20 19788 147033 [21409, 21408, 21407, 21406, 21405, 21404, 21403, 21402, 21401, 21400, 21399, 21398, 21397, 21396, 21395, 21394, 21393, 21392, 21391, 21390]\n"
     ]
    },
    {
     "name": "stderr",
     "output_type": "stream",
     "text": [
      "\r",
      " 12%|█▏        | 1165/9716 [1:12:58<8:55:37,  3.76s/it]"
     ]
    },
    {
     "name": "stdout",
     "output_type": "stream",
     "text": [
      "166821 20 19805 147016 [21426, 21425, 21424, 21423, 21422, 21421, 21420, 21419, 21418, 21417, 21416, 21415, 21414, 21413, 21412, 21411, 21410, 21409, 21408, 21407]\n"
     ]
    },
    {
     "name": "stderr",
     "output_type": "stream",
     "text": [
      "\r",
      " 12%|█▏        | 1166/9716 [1:13:01<8:55:28,  3.76s/it]"
     ]
    },
    {
     "name": "stdout",
     "output_type": "stream",
     "text": [
      "166821 20 19822 146999 [21443, 21442, 21441, 21440, 21439, 21438, 21437, 21436, 21435, 21434, 21433, 21432, 21431, 21430, 21429, 21428, 21427, 21426, 21425, 21424]\n"
     ]
    },
    {
     "name": "stderr",
     "output_type": "stream",
     "text": [
      "\r",
      " 12%|█▏        | 1167/9716 [1:13:04<8:55:20,  3.76s/it]"
     ]
    },
    {
     "name": "stdout",
     "output_type": "stream",
     "text": [
      "166821 20 19839 146982 [21460, 21459, 21458, 21457, 21456, 21455, 21454, 21453, 21452, 21451, 21450, 21449, 21448, 21447, 21446, 21445, 21444, 21443, 21442, 21441]\n"
     ]
    },
    {
     "name": "stderr",
     "output_type": "stream",
     "text": [
      "\r",
      " 12%|█▏        | 1168/9716 [1:13:08<8:55:15,  3.76s/it]"
     ]
    },
    {
     "name": "stdout",
     "output_type": "stream",
     "text": [
      "166821 20 19856 146965 [21477, 21476, 21475, 21474, 21473, 21472, 21471, 21470, 21469, 21468, 21467, 21466, 21465, 21464, 21463, 21462, 21461, 21460, 21459, 21458]\n"
     ]
    },
    {
     "name": "stderr",
     "output_type": "stream",
     "text": [
      "\r",
      " 12%|█▏        | 1169/9716 [1:13:11<8:55:10,  3.76s/it]"
     ]
    },
    {
     "name": "stdout",
     "output_type": "stream",
     "text": [
      "166821 20 19873 146948 [21494, 21493, 21492, 21491, 21490, 21489, 21488, 21487, 21486, 21485, 21484, 21483, 21482, 21481, 21480, 21479, 21478, 21477, 21476, 21475]\n"
     ]
    },
    {
     "name": "stderr",
     "output_type": "stream",
     "text": [
      "\r",
      " 12%|█▏        | 1170/9716 [1:13:15<8:55:04,  3.76s/it]"
     ]
    },
    {
     "name": "stdout",
     "output_type": "stream",
     "text": [
      "166821 20 19890 146931 [21511, 21510, 21509, 21508, 21507, 21506, 21505, 21504, 21503, 21502, 21501, 21500, 21499, 21498, 21497, 21496, 21495, 21494, 21493, 21492]\n"
     ]
    },
    {
     "name": "stderr",
     "output_type": "stream",
     "text": [
      "\r",
      " 12%|█▏        | 1171/9716 [1:13:18<8:54:56,  3.76s/it]"
     ]
    },
    {
     "name": "stdout",
     "output_type": "stream",
     "text": [
      "166821 20 19907 146914 [21528, 21527, 21526, 21525, 21524, 21523, 21522, 21521, 21520, 21519, 21518, 21517, 21516, 21515, 21514, 21513, 21512, 21511, 21510, 21509]\n"
     ]
    },
    {
     "name": "stderr",
     "output_type": "stream",
     "text": [
      "\r",
      " 12%|█▏        | 1172/9716 [1:13:22<8:54:53,  3.76s/it]"
     ]
    },
    {
     "name": "stdout",
     "output_type": "stream",
     "text": [
      "166821 20 19924 146897 [21545, 21544, 21543, 21542, 21541, 21540, 21539, 21538, 21537, 21536, 21535, 21534, 21533, 21532, 21531, 21530, 21529, 21528, 21527, 21526]\n"
     ]
    },
    {
     "name": "stderr",
     "output_type": "stream",
     "text": [
      "\r",
      " 12%|█▏        | 1173/9716 [1:13:26<8:54:51,  3.76s/it]"
     ]
    },
    {
     "name": "stdout",
     "output_type": "stream",
     "text": [
      "166821 20 19941 146880 [21562, 21561, 21560, 21559, 21558, 21557, 21556, 21555, 21554, 21553, 21552, 21551, 21550, 21549, 21548, 21547, 21546, 21545, 21544, 21543]\n"
     ]
    },
    {
     "name": "stderr",
     "output_type": "stream",
     "text": [
      "\r",
      " 12%|█▏        | 1174/9716 [1:13:30<8:54:47,  3.76s/it]"
     ]
    },
    {
     "name": "stdout",
     "output_type": "stream",
     "text": [
      "166821 20 19958 146863 [21579, 21578, 21577, 21576, 21575, 21574, 21573, 21572, 21571, 21570, 21569, 21568, 21567, 21566, 21565, 21564, 21563, 21562, 21561, 21560]\n"
     ]
    },
    {
     "name": "stderr",
     "output_type": "stream",
     "text": [
      "\r",
      " 12%|█▏        | 1175/9716 [1:13:33<8:54:44,  3.76s/it]"
     ]
    },
    {
     "name": "stdout",
     "output_type": "stream",
     "text": [
      "166821 20 19975 146846 [21596, 21595, 21594, 21593, 21592, 21591, 21590, 21589, 21588, 21587, 21586, 21585, 21584, 21583, 21582, 21581, 21580, 21579, 21578, 21577]\n"
     ]
    },
    {
     "name": "stderr",
     "output_type": "stream",
     "text": [
      "\r",
      " 12%|█▏        | 1176/9716 [1:13:37<8:54:40,  3.76s/it]"
     ]
    },
    {
     "name": "stdout",
     "output_type": "stream",
     "text": [
      "166821 20 19992 146829 [21613, 21612, 21611, 21610, 21609, 21608, 21607, 21606, 21605, 21604, 21603, 21602, 21601, 21600, 21599, 21598, 21597, 21596, 21595, 21594]\n"
     ]
    },
    {
     "name": "stderr",
     "output_type": "stream",
     "text": [
      "\r",
      " 12%|█▏        | 1177/9716 [1:13:41<8:54:39,  3.76s/it]"
     ]
    },
    {
     "name": "stdout",
     "output_type": "stream",
     "text": [
      "166841 20 20009 146812 [21630, 21629, 21628, 21627, 21626, 21625, 21624, 21623, 21622, 21621, 21620, 21619, 21618, 21617, 21616, 21615, 21614, 21613, 21612, 21611]\n"
     ]
    },
    {
     "name": "stderr",
     "output_type": "stream",
     "text": [
      "\r",
      " 12%|█▏        | 1178/9716 [1:13:45<8:54:33,  3.76s/it]"
     ]
    },
    {
     "name": "stdout",
     "output_type": "stream",
     "text": [
      "166841 20 20026 146815 [21647, 21646, 21645, 21644, 21643, 21642, 21641, 21640, 21639, 21638, 21637, 21636, 21635, 21634, 21633, 21632, 21631, 21630, 21629, 21628]\n"
     ]
    },
    {
     "name": "stderr",
     "output_type": "stream",
     "text": [
      "\r",
      " 12%|█▏        | 1179/9716 [1:13:49<8:54:31,  3.76s/it]"
     ]
    },
    {
     "name": "stdout",
     "output_type": "stream",
     "text": [
      "166841 20 20043 146798 [21664, 21663, 21662, 21661, 21660, 21659, 21658, 21657, 21656, 21655, 21654, 21653, 21652, 21651, 21650, 21649, 21648, 21647, 21646, 21645]\n"
     ]
    },
    {
     "name": "stderr",
     "output_type": "stream",
     "text": [
      "\r",
      " 12%|█▏        | 1180/9716 [1:13:52<8:54:27,  3.76s/it]"
     ]
    },
    {
     "name": "stdout",
     "output_type": "stream",
     "text": [
      "166841 20 20060 146781 [21681, 21680, 21679, 21678, 21677, 21676, 21675, 21674, 21673, 21672, 21671, 21670, 21669, 21668, 21667, 21666, 21665, 21664, 21663, 21662]\n"
     ]
    },
    {
     "name": "stderr",
     "output_type": "stream",
     "text": [
      "\r",
      " 12%|█▏        | 1181/9716 [1:13:56<8:54:25,  3.76s/it]"
     ]
    },
    {
     "name": "stdout",
     "output_type": "stream",
     "text": [
      "166841 20 20077 146764 [21698, 21697, 21696, 21695, 21694, 21693, 21692, 21691, 21690, 21689, 21688, 21687, 21686, 21685, 21684, 21683, 21682, 21681, 21680, 21679]\n"
     ]
    },
    {
     "name": "stderr",
     "output_type": "stream",
     "text": [
      "\r",
      " 12%|█▏        | 1182/9716 [1:14:00<8:54:21,  3.76s/it]"
     ]
    },
    {
     "name": "stdout",
     "output_type": "stream",
     "text": [
      "166841 20 20094 146747 [21715, 21714, 21713, 21712, 21711, 21710, 21709, 21708, 21707, 21706, 21705, 21704, 21703, 21702, 21701, 21700, 21699, 21698, 21697, 21696]\n"
     ]
    },
    {
     "name": "stderr",
     "output_type": "stream",
     "text": [
      "\r",
      " 12%|█▏        | 1183/9716 [1:14:05<8:54:23,  3.76s/it]"
     ]
    },
    {
     "name": "stdout",
     "output_type": "stream",
     "text": [
      "166841 20 20111 146730 [21732, 21731, 21730, 21729, 21728, 21727, 21726, 21725, 21724, 21723, 21722, 21721, 21720, 21719, 21718, 21717, 21716, 21715, 21714, 21713]\n"
     ]
    },
    {
     "name": "stderr",
     "output_type": "stream",
     "text": [
      "\r",
      " 12%|█▏        | 1184/9716 [1:14:09<8:54:21,  3.76s/it]"
     ]
    },
    {
     "name": "stdout",
     "output_type": "stream",
     "text": [
      "166841 20 20128 146713 [21749, 21748, 21747, 21746, 21745, 21744, 21743, 21742, 21741, 21740, 21739, 21738, 21737, 21736, 21735, 21734, 21733, 21732, 21731, 21730]\n"
     ]
    },
    {
     "name": "stderr",
     "output_type": "stream",
     "text": [
      "\r",
      " 12%|█▏        | 1185/9716 [1:14:12<8:54:17,  3.76s/it]"
     ]
    },
    {
     "name": "stdout",
     "output_type": "stream",
     "text": [
      "166841 20 20145 146696 [21766, 21765, 21764, 21763, 21762, 21761, 21760, 21759, 21758, 21757, 21756, 21755, 21754, 21753, 21752, 21751, 21750, 21749, 21748, 21747]\n"
     ]
    },
    {
     "name": "stderr",
     "output_type": "stream",
     "text": [
      "\r",
      " 12%|█▏        | 1186/9716 [1:14:16<8:54:15,  3.76s/it]"
     ]
    },
    {
     "name": "stdout",
     "output_type": "stream",
     "text": [
      "166841 20 20162 146679 [21783, 21782, 21781, 21780, 21779, 21778, 21777, 21776, 21775, 21774, 21773, 21772, 21771, 21770, 21769, 21768, 21767, 21766, 21765, 21764]\n"
     ]
    },
    {
     "name": "stderr",
     "output_type": "stream",
     "text": [
      "\r",
      " 12%|█▏        | 1187/9716 [1:14:20<8:54:10,  3.76s/it]"
     ]
    },
    {
     "name": "stdout",
     "output_type": "stream",
     "text": [
      "166841 20 20179 146662 [21800, 21799, 21798, 21797, 21796, 21795, 21794, 21793, 21792, 21791, 21790, 21789, 21788, 21787, 21786, 21785, 21784, 21783, 21782, 21781]\n"
     ]
    },
    {
     "name": "stderr",
     "output_type": "stream",
     "text": [
      "\r",
      " 12%|█▏        | 1188/9716 [1:14:23<8:54:02,  3.76s/it]"
     ]
    },
    {
     "name": "stdout",
     "output_type": "stream",
     "text": [
      "166841 20 20196 146645 [21817, 21816, 21815, 21814, 21813, 21812, 21811, 21810, 21809, 21808, 21807, 21806, 21805, 21804, 21803, 21802, 21801, 21800, 21799, 21798]\n"
     ]
    },
    {
     "name": "stderr",
     "output_type": "stream",
     "text": [
      "\r",
      " 12%|█▏        | 1189/9716 [1:14:27<8:53:57,  3.76s/it]"
     ]
    },
    {
     "name": "stdout",
     "output_type": "stream",
     "text": [
      "166841 20 20213 146628 [21834, 21833, 21832, 21831, 21830, 21829, 21828, 21827, 21826, 21825, 21824, 21823, 21822, 21821, 21820, 21819, 21818, 21817, 21816, 21815]\n"
     ]
    },
    {
     "name": "stderr",
     "output_type": "stream",
     "text": [
      "\r",
      " 12%|█▏        | 1190/9716 [1:14:30<8:53:52,  3.76s/it]"
     ]
    },
    {
     "name": "stdout",
     "output_type": "stream",
     "text": [
      "166841 20 20230 146611 [21851, 21850, 21849, 21848, 21847, 21846, 21845, 21844, 21843, 21842, 21841, 21840, 21839, 21838, 21837, 21836, 21835, 21834, 21833, 21832]\n"
     ]
    },
    {
     "name": "stderr",
     "output_type": "stream",
     "text": [
      "\r",
      " 12%|█▏        | 1191/9716 [1:14:34<8:53:46,  3.76s/it]"
     ]
    },
    {
     "name": "stdout",
     "output_type": "stream",
     "text": [
      "166841 20 20247 146594 [21868, 21867, 21866, 21865, 21864, 21863, 21862, 21861, 21860, 21859, 21858, 21857, 21856, 21855, 21854, 21853, 21852, 21851, 21850, 21849]\n"
     ]
    },
    {
     "name": "stderr",
     "output_type": "stream",
     "text": [
      "\r",
      " 12%|█▏        | 1192/9716 [1:14:37<8:53:40,  3.76s/it]"
     ]
    },
    {
     "name": "stdout",
     "output_type": "stream",
     "text": [
      "166843 20 20264 146577 [21885, 21884, 21883, 21882, 21881, 21880, 21879, 21878, 21877, 21876, 21875, 21874, 21873, 21872, 21871, 21870, 21869, 21868, 21867, 21866]\n"
     ]
    },
    {
     "name": "stderr",
     "output_type": "stream",
     "text": [
      "\r",
      " 12%|█▏        | 1193/9716 [1:14:41<8:53:40,  3.76s/it]"
     ]
    },
    {
     "name": "stdout",
     "output_type": "stream",
     "text": [
      "166843 20 20281 146562 [21902, 21901, 21900, 21899, 21898, 21897, 21896, 21895, 21894, 21893, 21892, 21891, 21890, 21889, 21888, 21887, 21886, 21885, 21884, 21883]\n"
     ]
    },
    {
     "name": "stderr",
     "output_type": "stream",
     "text": [
      "\r",
      " 12%|█▏        | 1194/9716 [1:14:45<8:53:32,  3.76s/it]"
     ]
    },
    {
     "name": "stdout",
     "output_type": "stream",
     "text": [
      "166843 20 20298 146545 [21919, 21918, 21917, 21916, 21915, 21914, 21913, 21912, 21911, 21910, 21909, 21908, 21907, 21906, 21905, 21904, 21903, 21902, 21901, 21900]\n"
     ]
    },
    {
     "name": "stderr",
     "output_type": "stream",
     "text": [
      "\r",
      " 12%|█▏        | 1195/9716 [1:14:48<8:53:24,  3.76s/it]"
     ]
    },
    {
     "name": "stdout",
     "output_type": "stream",
     "text": [
      "166843 20 20315 146528 [21936, 21935, 21934, 21933, 21932, 21931, 21930, 21929, 21928, 21927, 21926, 21925, 21924, 21923, 21922, 21921, 21920, 21919, 21918, 21917]\n"
     ]
    },
    {
     "name": "stderr",
     "output_type": "stream",
     "text": [
      "\r",
      " 12%|█▏        | 1196/9716 [1:14:51<8:53:17,  3.76s/it]"
     ]
    },
    {
     "name": "stdout",
     "output_type": "stream",
     "text": [
      "166843 20 20332 146511 [21953, 21952, 21951, 21950, 21949, 21948, 21947, 21946, 21945, 21944, 21943, 21942, 21941, 21940, 21939, 21938, 21937, 21936, 21935, 21934]\n"
     ]
    },
    {
     "name": "stderr",
     "output_type": "stream",
     "text": [
      "\r",
      " 12%|█▏        | 1197/9716 [1:14:54<8:53:08,  3.76s/it]"
     ]
    },
    {
     "name": "stdout",
     "output_type": "stream",
     "text": [
      "166843 20 20349 146494 [21970, 21969, 21968, 21967, 21966, 21965, 21964, 21963, 21962, 21961, 21960, 21959, 21958, 21957, 21956, 21955, 21954, 21953, 21952, 21951]\n"
     ]
    },
    {
     "name": "stderr",
     "output_type": "stream",
     "text": [
      "\r",
      " 12%|█▏        | 1198/9716 [1:14:58<8:53:05,  3.76s/it]"
     ]
    },
    {
     "name": "stdout",
     "output_type": "stream",
     "text": [
      "166864 20 20366 146477 [21987, 21986, 21985, 21984, 21983, 21982, 21981, 21980, 21979, 21978, 21977, 21976, 21975, 21974, 21973, 21972, 21971, 21970, 21969, 21968]\n"
     ]
    },
    {
     "name": "stderr",
     "output_type": "stream",
     "text": [
      "\r",
      " 12%|█▏        | 1199/9716 [1:15:02<8:53:00,  3.75s/it]"
     ]
    },
    {
     "name": "stdout",
     "output_type": "stream",
     "text": [
      "166879 20 20383 146481 [22007, 22006, 22005, 22004, 22003, 22002, 22001, 22000, 21999, 21998, 21997, 21996, 21995, 21994, 21993, 21992, 21991, 21990, 21989, 21988]\n"
     ]
    },
    {
     "name": "stderr",
     "output_type": "stream",
     "text": [
      "\r",
      " 12%|█▏        | 1200/9716 [1:15:05<8:52:53,  3.75s/it]"
     ]
    },
    {
     "name": "stdout",
     "output_type": "stream",
     "text": [
      "166879 20 20400 146479 [22021, 22020, 22019, 22018, 22017, 22016, 22015, 22014, 22013, 22012, 22011, 22010, 22009, 22008, 22007, 22006, 22005, 22004, 22003, 22002]\n"
     ]
    },
    {
     "name": "stderr",
     "output_type": "stream",
     "text": [
      "\r",
      " 12%|█▏        | 1201/9716 [1:15:08<8:52:47,  3.75s/it]"
     ]
    },
    {
     "name": "stdout",
     "output_type": "stream",
     "text": [
      "166879 20 20417 146462 [22038, 22037, 22036, 22035, 22034, 22033, 22032, 22031, 22030, 22029, 22028, 22027, 22026, 22025, 22024, 22023, 22022, 22021, 22020, 22019]\n"
     ]
    },
    {
     "name": "stderr",
     "output_type": "stream",
     "text": [
      "\r",
      " 12%|█▏        | 1202/9716 [1:15:12<8:52:39,  3.75s/it]"
     ]
    },
    {
     "name": "stdout",
     "output_type": "stream",
     "text": [
      "166879 20 20434 146445 [22055, 22054, 22053, 22052, 22051, 22050, 22049, 22048, 22047, 22046, 22045, 22044, 22043, 22042, 22041, 22040, 22039, 22038, 22037, 22036]\n"
     ]
    },
    {
     "name": "stderr",
     "output_type": "stream",
     "text": [
      "\r",
      " 12%|█▏        | 1203/9716 [1:15:15<8:52:33,  3.75s/it]"
     ]
    },
    {
     "name": "stdout",
     "output_type": "stream",
     "text": [
      "166879 20 20451 146428 [22072, 22071, 22070, 22069, 22068, 22067, 22066, 22065, 22064, 22063, 22062, 22061, 22060, 22059, 22058, 22057, 22056, 22055, 22054, 22053]\n"
     ]
    },
    {
     "name": "stderr",
     "output_type": "stream",
     "text": [
      "\r",
      " 12%|█▏        | 1204/9716 [1:15:18<8:52:25,  3.75s/it]"
     ]
    },
    {
     "name": "stdout",
     "output_type": "stream",
     "text": [
      "166879 20 20468 146411 [22089, 22088, 22087, 22086, 22085, 22084, 22083, 22082, 22081, 22080, 22079, 22078, 22077, 22076, 22075, 22074, 22073, 22072, 22071, 22070]\n"
     ]
    },
    {
     "name": "stderr",
     "output_type": "stream",
     "text": [
      "\r",
      " 12%|█▏        | 1205/9716 [1:15:21<8:52:17,  3.75s/it]"
     ]
    },
    {
     "name": "stdout",
     "output_type": "stream",
     "text": [
      "166879 20 20485 146394 [22106, 22105, 22104, 22103, 22102, 22101, 22100, 22099, 22098, 22097, 22096, 22095, 22094, 22093, 22092, 22091, 22090, 22089, 22088, 22087]\n"
     ]
    },
    {
     "name": "stderr",
     "output_type": "stream",
     "text": [
      "\r",
      " 12%|█▏        | 1206/9716 [1:15:25<8:52:10,  3.75s/it]"
     ]
    },
    {
     "name": "stdout",
     "output_type": "stream",
     "text": [
      "166879 20 20502 146377 [22123, 22122, 22121, 22120, 22119, 22118, 22117, 22116, 22115, 22114, 22113, 22112, 22111, 22110, 22109, 22108, 22107, 22106, 22105, 22104]\n"
     ]
    },
    {
     "name": "stderr",
     "output_type": "stream",
     "text": [
      "\r",
      " 12%|█▏        | 1207/9716 [1:15:28<8:52:03,  3.75s/it]"
     ]
    },
    {
     "name": "stdout",
     "output_type": "stream",
     "text": [
      "166879 20 20519 146360 [22140, 22139, 22138, 22137, 22136, 22135, 22134, 22133, 22132, 22131, 22130, 22129, 22128, 22127, 22126, 22125, 22124, 22123, 22122, 22121]\n"
     ]
    },
    {
     "name": "stderr",
     "output_type": "stream",
     "text": [
      "\r",
      " 12%|█▏        | 1208/9716 [1:15:31<8:51:56,  3.75s/it]"
     ]
    },
    {
     "name": "stdout",
     "output_type": "stream",
     "text": [
      "166879 20 20536 146343 [22157, 22156, 22155, 22154, 22153, 22152, 22151, 22150, 22149, 22148, 22147, 22146, 22145, 22144, 22143, 22142, 22141, 22140, 22139, 22138]\n"
     ]
    },
    {
     "name": "stderr",
     "output_type": "stream",
     "text": [
      "\r",
      " 12%|█▏        | 1209/9716 [1:15:34<8:51:49,  3.75s/it]"
     ]
    },
    {
     "name": "stdout",
     "output_type": "stream",
     "text": [
      "166879 20 20553 146326 [22174, 22173, 22172, 22171, 22170, 22169, 22168, 22167, 22166, 22165, 22164, 22163, 22162, 22161, 22160, 22159, 22158, 22157, 22156, 22155]\n"
     ]
    },
    {
     "name": "stderr",
     "output_type": "stream",
     "text": [
      "\r",
      " 12%|█▏        | 1210/9716 [1:15:37<8:51:40,  3.75s/it]"
     ]
    },
    {
     "name": "stdout",
     "output_type": "stream",
     "text": [
      "166879 20 20570 146309 [22191, 22190, 22189, 22188, 22187, 22186, 22185, 22184, 22183, 22182, 22181, 22180, 22179, 22178, 22177, 22176, 22175, 22174, 22173, 22172]\n"
     ]
    },
    {
     "name": "stderr",
     "output_type": "stream",
     "text": [
      "\r",
      " 12%|█▏        | 1211/9716 [1:15:41<8:51:34,  3.75s/it]"
     ]
    },
    {
     "name": "stdout",
     "output_type": "stream",
     "text": [
      "166879 20 20587 146292 [22208, 22207, 22206, 22205, 22204, 22203, 22202, 22201, 22200, 22199, 22198, 22197, 22196, 22195, 22194, 22193, 22192, 22191, 22190, 22189]\n"
     ]
    },
    {
     "name": "stderr",
     "output_type": "stream",
     "text": [
      "\r",
      " 12%|█▏        | 1212/9716 [1:15:44<8:51:26,  3.75s/it]"
     ]
    },
    {
     "name": "stdout",
     "output_type": "stream",
     "text": [
      "166879 20 20604 146275 [22225, 22224, 22223, 22222, 22221, 22220, 22219, 22218, 22217, 22216, 22215, 22214, 22213, 22212, 22211, 22210, 22209, 22208, 22207, 22206]\n"
     ]
    },
    {
     "name": "stderr",
     "output_type": "stream",
     "text": [
      "\r",
      " 12%|█▏        | 1213/9716 [1:15:47<8:51:17,  3.75s/it]"
     ]
    },
    {
     "name": "stdout",
     "output_type": "stream",
     "text": [
      "166879 20 20621 146258 [22242, 22241, 22240, 22239, 22238, 22237, 22236, 22235, 22234, 22233, 22232, 22231, 22230, 22229, 22228, 22227, 22226, 22225, 22224, 22223]\n"
     ]
    },
    {
     "name": "stderr",
     "output_type": "stream",
     "text": [
      "\r",
      " 12%|█▏        | 1214/9716 [1:15:50<8:51:10,  3.75s/it]"
     ]
    },
    {
     "name": "stdout",
     "output_type": "stream",
     "text": [
      "166894 20 20638 146241 [22259, 22258, 22257, 22256, 22255, 22254, 22253, 22252, 22251, 22250, 22249, 22248, 22247, 22246, 22245, 22244, 22243, 22242, 22241, 22240]\n"
     ]
    },
    {
     "name": "stderr",
     "output_type": "stream",
     "text": [
      "\r",
      " 13%|█▎        | 1215/9716 [1:15:54<8:51:04,  3.75s/it]"
     ]
    },
    {
     "name": "stdout",
     "output_type": "stream",
     "text": [
      "166894 20 20655 146239 [22276, 22275, 22274, 22273, 22272, 22271, 22270, 22269, 22268, 22267, 22266, 22265, 22264, 22263, 22262, 22261, 22260, 22259, 22258, 22257]\n"
     ]
    },
    {
     "name": "stderr",
     "output_type": "stream",
     "text": [
      "\r",
      " 13%|█▎        | 1216/9716 [1:15:57<8:50:58,  3.75s/it]"
     ]
    },
    {
     "name": "stdout",
     "output_type": "stream",
     "text": [
      "166894 20 20672 146222 [22293, 22292, 22291, 22290, 22289, 22288, 22287, 22286, 22285, 22284, 22283, 22282, 22281, 22280, 22279, 22278, 22277, 22276, 22275, 22274]\n"
     ]
    },
    {
     "name": "stderr",
     "output_type": "stream",
     "text": [
      "\r",
      " 13%|█▎        | 1217/9716 [1:16:00<8:50:48,  3.75s/it]"
     ]
    },
    {
     "name": "stdout",
     "output_type": "stream",
     "text": [
      "166894 20 20689 146205 [22310, 22309, 22308, 22307, 22306, 22305, 22304, 22303, 22302, 22301, 22300, 22299, 22298, 22297, 22296, 22295, 22294, 22293, 22292, 22291]\n"
     ]
    },
    {
     "name": "stderr",
     "output_type": "stream",
     "text": [
      "\r",
      " 13%|█▎        | 1218/9716 [1:16:03<8:50:42,  3.75s/it]"
     ]
    },
    {
     "name": "stdout",
     "output_type": "stream",
     "text": [
      "166900 20 20706 146188 [22327, 22326, 22325, 22324, 22323, 22322, 22321, 22320, 22319, 22318, 22317, 22316, 22315, 22314, 22313, 22312, 22311, 22310, 22309, 22308]\n"
     ]
    },
    {
     "name": "stderr",
     "output_type": "stream",
     "text": [
      "\r",
      " 13%|█▎        | 1219/9716 [1:16:07<8:50:37,  3.75s/it]"
     ]
    },
    {
     "name": "stdout",
     "output_type": "stream",
     "text": [
      "166901 20 20723 146177 [22344, 22343, 22342, 22341, 22340, 22339, 22338, 22337, 22336, 22335, 22334, 22333, 22332, 22331, 22330, 22329, 22328, 22327, 22326, 22325]\n"
     ]
    },
    {
     "name": "stderr",
     "output_type": "stream",
     "text": [
      "\r",
      " 13%|█▎        | 1220/9716 [1:16:10<8:50:29,  3.75s/it]"
     ]
    },
    {
     "name": "stdout",
     "output_type": "stream",
     "text": [
      "166901 20 20740 146161 [22361, 22360, 22359, 22358, 22357, 22356, 22355, 22354, 22353, 22352, 22351, 22350, 22349, 22348, 22347, 22346, 22345, 22344, 22343, 22342]\n"
     ]
    },
    {
     "name": "stderr",
     "output_type": "stream",
     "text": [
      "\r",
      " 13%|█▎        | 1221/9716 [1:16:13<8:50:20,  3.75s/it]"
     ]
    },
    {
     "name": "stdout",
     "output_type": "stream",
     "text": [
      "166901 20 20757 146144 [22378, 22377, 22376, 22375, 22374, 22373, 22372, 22371, 22370, 22369, 22368, 22367, 22366, 22365, 22364, 22363, 22362, 22361, 22360, 22359]\n"
     ]
    },
    {
     "name": "stderr",
     "output_type": "stream",
     "text": [
      "\r",
      " 13%|█▎        | 1222/9716 [1:16:16<8:50:12,  3.75s/it]"
     ]
    },
    {
     "name": "stdout",
     "output_type": "stream",
     "text": [
      "166901 20 20774 146127 [22395, 22394, 22393, 22392, 22391, 22390, 22389, 22388, 22387, 22386, 22385, 22384, 22383, 22382, 22381, 22380, 22379, 22378, 22377, 22376]\n"
     ]
    },
    {
     "name": "stderr",
     "output_type": "stream",
     "text": [
      "\r",
      " 13%|█▎        | 1223/9716 [1:16:19<8:50:03,  3.74s/it]"
     ]
    },
    {
     "name": "stdout",
     "output_type": "stream",
     "text": [
      "166901 20 20791 146110 [22412, 22411, 22410, 22409, 22408, 22407, 22406, 22405, 22404, 22403, 22402, 22401, 22400, 22399, 22398, 22397, 22396, 22395, 22394, 22393]\n"
     ]
    },
    {
     "name": "stderr",
     "output_type": "stream",
     "text": [
      "\r",
      " 13%|█▎        | 1224/9716 [1:16:22<8:49:55,  3.74s/it]"
     ]
    },
    {
     "name": "stdout",
     "output_type": "stream",
     "text": [
      "166901 20 20808 146093 [22429, 22428, 22427, 22426, 22425, 22424, 22423, 22422, 22421, 22420, 22419, 22418, 22417, 22416, 22415, 22414, 22413, 22412, 22411, 22410]\n"
     ]
    },
    {
     "name": "stderr",
     "output_type": "stream",
     "text": [
      "\r",
      " 13%|█▎        | 1225/9716 [1:16:26<8:49:48,  3.74s/it]"
     ]
    },
    {
     "name": "stdout",
     "output_type": "stream",
     "text": [
      "166901 20 20825 146076 [22446, 22445, 22444, 22443, 22442, 22441, 22440, 22439, 22438, 22437, 22436, 22435, 22434, 22433, 22432, 22431, 22430, 22429, 22428, 22427]\n"
     ]
    },
    {
     "name": "stderr",
     "output_type": "stream",
     "text": [
      "\r",
      " 13%|█▎        | 1226/9716 [1:16:29<8:49:40,  3.74s/it]"
     ]
    },
    {
     "name": "stdout",
     "output_type": "stream",
     "text": [
      "166901 20 20842 146059 [22463, 22462, 22461, 22460, 22459, 22458, 22457, 22456, 22455, 22454, 22453, 22452, 22451, 22450, 22449, 22448, 22447, 22446, 22445, 22444]\n"
     ]
    },
    {
     "name": "stderr",
     "output_type": "stream",
     "text": [
      "\r",
      " 13%|█▎        | 1227/9716 [1:16:32<8:49:32,  3.74s/it]"
     ]
    },
    {
     "name": "stdout",
     "output_type": "stream",
     "text": [
      "166901 20 20859 146042 [22480, 22479, 22478, 22477, 22476, 22475, 22474, 22473, 22472, 22471, 22470, 22469, 22468, 22467, 22466, 22465, 22464, 22463, 22462, 22461]\n"
     ]
    },
    {
     "name": "stderr",
     "output_type": "stream",
     "text": [
      "\r",
      " 13%|█▎        | 1228/9716 [1:16:35<8:49:24,  3.74s/it]"
     ]
    },
    {
     "name": "stdout",
     "output_type": "stream",
     "text": [
      "166901 20 20876 146025 [22497, 22496, 22495, 22494, 22493, 22492, 22491, 22490, 22489, 22488, 22487, 22486, 22485, 22484, 22483, 22482, 22481, 22480, 22479, 22478]\n"
     ]
    },
    {
     "name": "stderr",
     "output_type": "stream",
     "text": [
      "\r",
      " 13%|█▎        | 1229/9716 [1:16:38<8:49:15,  3.74s/it]"
     ]
    },
    {
     "name": "stdout",
     "output_type": "stream",
     "text": [
      "166901 20 20893 146008 [22514, 22513, 22512, 22511, 22510, 22509, 22508, 22507, 22506, 22505, 22504, 22503, 22502, 22501, 22500, 22499, 22498, 22497, 22496, 22495]\n"
     ]
    },
    {
     "name": "stderr",
     "output_type": "stream",
     "text": [
      "\r",
      " 13%|█▎        | 1230/9716 [1:16:41<8:49:07,  3.74s/it]"
     ]
    },
    {
     "name": "stdout",
     "output_type": "stream",
     "text": [
      "166901 20 20910 145991 [22531, 22530, 22529, 22528, 22527, 22526, 22525, 22524, 22523, 22522, 22521, 22520, 22519, 22518, 22517, 22516, 22515, 22514, 22513, 22512]\n"
     ]
    },
    {
     "name": "stderr",
     "output_type": "stream",
     "text": [
      "\r",
      " 13%|█▎        | 1231/9716 [1:16:44<8:48:59,  3.74s/it]"
     ]
    },
    {
     "name": "stdout",
     "output_type": "stream",
     "text": [
      "166901 20 20927 145974 [22548, 22547, 22546, 22545, 22544, 22543, 22542, 22541, 22540, 22539, 22538, 22537, 22536, 22535, 22534, 22533, 22532, 22531, 22530, 22529]\n"
     ]
    },
    {
     "name": "stderr",
     "output_type": "stream",
     "text": [
      "\r",
      " 13%|█▎        | 1232/9716 [1:16:47<8:48:50,  3.74s/it]"
     ]
    },
    {
     "name": "stdout",
     "output_type": "stream",
     "text": [
      "166914 20 20944 145957 [22565, 22564, 22563, 22562, 22561, 22560, 22559, 22558, 22557, 22556, 22555, 22554, 22553, 22552, 22551, 22550, 22549, 22548, 22547, 22546]\n"
     ]
    },
    {
     "name": "stderr",
     "output_type": "stream",
     "text": [
      "\r",
      " 13%|█▎        | 1233/9716 [1:16:50<8:48:42,  3.74s/it]"
     ]
    },
    {
     "name": "stdout",
     "output_type": "stream",
     "text": [
      "166914 20 20961 145953 [22582, 22581, 22580, 22579, 22578, 22577, 22576, 22575, 22574, 22573, 22572, 22571, 22570, 22569, 22568, 22567, 22566, 22565, 22564, 22563]\n"
     ]
    },
    {
     "name": "stderr",
     "output_type": "stream",
     "text": [
      "\r",
      " 13%|█▎        | 1234/9716 [1:16:54<8:48:36,  3.74s/it]"
     ]
    },
    {
     "name": "stdout",
     "output_type": "stream",
     "text": [
      "166914 20 20978 145936 [22599, 22598, 22597, 22596, 22595, 22594, 22593, 22592, 22591, 22590, 22589, 22588, 22587, 22586, 22585, 22584, 22583, 22582, 22581, 22580]\n"
     ]
    },
    {
     "name": "stderr",
     "output_type": "stream",
     "text": [
      "\r",
      " 13%|█▎        | 1235/9716 [1:16:57<8:48:26,  3.74s/it]"
     ]
    },
    {
     "name": "stdout",
     "output_type": "stream",
     "text": [
      "166914 20 20995 145919 [22616, 22615, 22614, 22613, 22612, 22611, 22610, 22609, 22608, 22607, 22606, 22605, 22604, 22603, 22602, 22601, 22600, 22599, 22598, 22597]\n"
     ]
    },
    {
     "name": "stderr",
     "output_type": "stream",
     "text": [
      "\r",
      " 13%|█▎        | 1236/9716 [1:17:00<8:48:18,  3.74s/it]"
     ]
    },
    {
     "name": "stdout",
     "output_type": "stream",
     "text": [
      "166922 20 21012 145902 [22633, 22632, 22631, 22630, 22629, 22628, 22627, 22626, 22625, 22624, 22623, 22622, 22621, 22620, 22619, 22618, 22617, 22616, 22615, 22614]\n"
     ]
    },
    {
     "name": "stderr",
     "output_type": "stream",
     "text": [
      "\r",
      " 13%|█▎        | 1237/9716 [1:17:03<8:48:10,  3.74s/it]"
     ]
    },
    {
     "name": "stdout",
     "output_type": "stream",
     "text": [
      "166922 20 21029 145893 [22650, 22649, 22648, 22647, 22646, 22645, 22644, 22643, 22642, 22641, 22640, 22639, 22638, 22637, 22636, 22635, 22634, 22633, 22632, 22631]\n"
     ]
    },
    {
     "name": "stderr",
     "output_type": "stream",
     "text": [
      "\r",
      " 13%|█▎        | 1238/9716 [1:17:06<8:48:02,  3.74s/it]"
     ]
    },
    {
     "name": "stdout",
     "output_type": "stream",
     "text": [
      "166922 20 21046 145876 [22667, 22666, 22665, 22664, 22663, 22662, 22661, 22660, 22659, 22658, 22657, 22656, 22655, 22654, 22653, 22652, 22651, 22650, 22649, 22648]\n"
     ]
    },
    {
     "name": "stderr",
     "output_type": "stream",
     "text": [
      "\r",
      " 13%|█▎        | 1239/9716 [1:17:09<8:47:55,  3.74s/it]"
     ]
    },
    {
     "name": "stdout",
     "output_type": "stream",
     "text": [
      "166922 20 21063 145859 [22684, 22683, 22682, 22681, 22680, 22679, 22678, 22677, 22676, 22675, 22674, 22673, 22672, 22671, 22670, 22669, 22668, 22667, 22666, 22665]\n"
     ]
    },
    {
     "name": "stderr",
     "output_type": "stream",
     "text": [
      "\r",
      " 13%|█▎        | 1240/9716 [1:17:12<8:47:45,  3.74s/it]"
     ]
    },
    {
     "name": "stdout",
     "output_type": "stream",
     "text": [
      "166922 20 21080 145842 [22701, 22700, 22699, 22698, 22697, 22696, 22695, 22694, 22693, 22692, 22691, 22690, 22689, 22688, 22687, 22686, 22685, 22684, 22683, 22682]\n"
     ]
    },
    {
     "name": "stderr",
     "output_type": "stream",
     "text": [
      "\r",
      " 13%|█▎        | 1241/9716 [1:17:15<8:47:39,  3.74s/it]"
     ]
    },
    {
     "name": "stdout",
     "output_type": "stream",
     "text": [
      "166922 20 21097 145825 [22718, 22717, 22716, 22715, 22714, 22713, 22712, 22711, 22710, 22709, 22708, 22707, 22706, 22705, 22704, 22703, 22702, 22701, 22700, 22699]\n"
     ]
    },
    {
     "name": "stderr",
     "output_type": "stream",
     "text": [
      "\r",
      " 13%|█▎        | 1242/9716 [1:17:19<8:47:32,  3.74s/it]"
     ]
    },
    {
     "name": "stdout",
     "output_type": "stream",
     "text": [
      "166922 20 21114 145808 [22735, 22734, 22733, 22732, 22731, 22730, 22729, 22728, 22727, 22726, 22725, 22724, 22723, 22722, 22721, 22720, 22719, 22718, 22717, 22716]\n"
     ]
    },
    {
     "name": "stderr",
     "output_type": "stream",
     "text": [
      "\r",
      " 13%|█▎        | 1243/9716 [1:17:22<8:47:25,  3.73s/it]"
     ]
    },
    {
     "name": "stdout",
     "output_type": "stream",
     "text": [
      "166922 20 21131 145791 [22752, 22751, 22750, 22749, 22748, 22747, 22746, 22745, 22744, 22743, 22742, 22741, 22740, 22739, 22738, 22737, 22736, 22735, 22734, 22733]\n"
     ]
    },
    {
     "name": "stderr",
     "output_type": "stream",
     "text": [
      "\r",
      " 13%|█▎        | 1244/9716 [1:17:25<8:47:19,  3.73s/it]"
     ]
    },
    {
     "name": "stdout",
     "output_type": "stream",
     "text": [
      "166922 20 21148 145774 [22769, 22768, 22767, 22766, 22765, 22764, 22763, 22762, 22761, 22760, 22759, 22758, 22757, 22756, 22755, 22754, 22753, 22752, 22751, 22750]\n"
     ]
    },
    {
     "name": "stderr",
     "output_type": "stream",
     "text": [
      "\r",
      " 13%|█▎        | 1245/9716 [1:17:29<8:47:13,  3.73s/it]"
     ]
    },
    {
     "name": "stdout",
     "output_type": "stream",
     "text": [
      "166931 20 21165 145757 [22790, 22789, 22788, 22787, 22786, 22785, 22784, 22783, 22782, 22781, 22780, 22779, 22778, 22777, 22776, 22775, 22774, 22773, 22772, 22771]\n"
     ]
    },
    {
     "name": "stderr",
     "output_type": "stream",
     "text": [
      "\r",
      " 13%|█▎        | 1246/9716 [1:17:32<8:47:08,  3.73s/it]"
     ]
    },
    {
     "name": "stdout",
     "output_type": "stream",
     "text": [
      "166931 20 21182 145749 [22803, 22802, 22801, 22800, 22799, 22798, 22797, 22796, 22795, 22794, 22793, 22792, 22791, 22790, 22789, 22788, 22787, 22786, 22785, 22784]\n"
     ]
    },
    {
     "name": "stderr",
     "output_type": "stream",
     "text": [
      "\r",
      " 13%|█▎        | 1247/9716 [1:17:36<8:47:05,  3.73s/it]"
     ]
    },
    {
     "name": "stdout",
     "output_type": "stream",
     "text": [
      "166948 20 21199 145732 [22820, 22819, 22818, 22817, 22816, 22815, 22814, 22813, 22812, 22811, 22810, 22809, 22808, 22807, 22806, 22805, 22804, 22803, 22802, 22801]\n"
     ]
    },
    {
     "name": "stderr",
     "output_type": "stream",
     "text": [
      "\r",
      " 13%|█▎        | 1248/9716 [1:17:39<8:46:57,  3.73s/it]"
     ]
    },
    {
     "name": "stdout",
     "output_type": "stream",
     "text": [
      "166948 20 21216 145732 [22837, 22836, 22835, 22834, 22833, 22832, 22831, 22830, 22829, 22828, 22827, 22826, 22825, 22824, 22823, 22822, 22821, 22820, 22819, 22818]\n"
     ]
    },
    {
     "name": "stderr",
     "output_type": "stream",
     "text": [
      "\r",
      " 13%|█▎        | 1249/9716 [1:17:43<8:46:50,  3.73s/it]"
     ]
    },
    {
     "name": "stdout",
     "output_type": "stream",
     "text": [
      "166948 20 21233 145715 [22854, 22853, 22852, 22851, 22850, 22849, 22848, 22847, 22846, 22845, 22844, 22843, 22842, 22841, 22840, 22839, 22838, 22837, 22836, 22835]\n"
     ]
    },
    {
     "name": "stderr",
     "output_type": "stream",
     "text": [
      "\r",
      " 13%|█▎        | 1250/9716 [1:17:46<8:46:48,  3.73s/it]"
     ]
    },
    {
     "name": "stdout",
     "output_type": "stream",
     "text": [
      "166948 20 21250 145698 [22871, 22870, 22869, 22868, 22867, 22866, 22865, 22864, 22863, 22862, 22861, 22860, 22859, 22858, 22857, 22856, 22855, 22854, 22853, 22852]\n"
     ]
    },
    {
     "name": "stderr",
     "output_type": "stream",
     "text": [
      "\r",
      " 13%|█▎        | 1251/9716 [1:17:50<8:46:43,  3.73s/it]"
     ]
    },
    {
     "name": "stdout",
     "output_type": "stream",
     "text": [
      "166948 20 21267 145681 [22888, 22887, 22886, 22885, 22884, 22883, 22882, 22881, 22880, 22879, 22878, 22877, 22876, 22875, 22874, 22873, 22872, 22871, 22870, 22869]\n"
     ]
    },
    {
     "name": "stderr",
     "output_type": "stream",
     "text": [
      "\r",
      " 13%|█▎        | 1252/9716 [1:17:53<8:46:37,  3.73s/it]"
     ]
    },
    {
     "name": "stdout",
     "output_type": "stream",
     "text": [
      "166948 20 21284 145664 [22905, 22904, 22903, 22902, 22901, 22900, 22899, 22898, 22897, 22896, 22895, 22894, 22893, 22892, 22891, 22890, 22889, 22888, 22887, 22886]\n"
     ]
    },
    {
     "name": "stderr",
     "output_type": "stream",
     "text": [
      "\r",
      " 13%|█▎        | 1253/9716 [1:17:57<8:46:32,  3.73s/it]"
     ]
    },
    {
     "name": "stdout",
     "output_type": "stream",
     "text": [
      "166958 20 21301 145647 [22922, 22921, 22920, 22919, 22918, 22917, 22916, 22915, 22914, 22913, 22912, 22911, 22910, 22909, 22908, 22907, 22906, 22905, 22904, 22903]\n"
     ]
    },
    {
     "name": "stderr",
     "output_type": "stream",
     "text": [
      "\r",
      " 13%|█▎        | 1254/9716 [1:18:01<8:46:28,  3.73s/it]"
     ]
    },
    {
     "name": "stdout",
     "output_type": "stream",
     "text": [
      "166958 20 21318 145640 [22939, 22938, 22937, 22936, 22935, 22934, 22933, 22932, 22931, 22930, 22929, 22928, 22927, 22926, 22925, 22924, 22923, 22922, 22921, 22920]\n"
     ]
    },
    {
     "name": "stderr",
     "output_type": "stream",
     "text": [
      "\r",
      " 13%|█▎        | 1255/9716 [1:18:05<8:46:25,  3.73s/it]"
     ]
    },
    {
     "name": "stdout",
     "output_type": "stream",
     "text": [
      "166958 20 21335 145623 [22956, 22955, 22954, 22953, 22952, 22951, 22950, 22949, 22948, 22947, 22946, 22945, 22944, 22943, 22942, 22941, 22940, 22939, 22938, 22937]\n"
     ]
    },
    {
     "name": "stderr",
     "output_type": "stream",
     "text": [
      "\r",
      " 13%|█▎        | 1256/9716 [1:18:09<8:46:24,  3.73s/it]"
     ]
    },
    {
     "name": "stdout",
     "output_type": "stream",
     "text": [
      "166970 20 21352 145606 [22978, 22977, 22976, 22975, 22974, 22973, 22972, 22971, 22970, 22969, 22968, 22967, 22966, 22965, 22964, 22963, 22962, 22961, 22960, 22959]\n"
     ]
    },
    {
     "name": "stderr",
     "output_type": "stream",
     "text": [
      "\r",
      " 13%|█▎        | 1257/9716 [1:18:12<8:46:18,  3.73s/it]"
     ]
    },
    {
     "name": "stdout",
     "output_type": "stream",
     "text": [
      "166970 20 21369 145601 [22990, 22989, 22988, 22987, 22986, 22985, 22984, 22983, 22982, 22981, 22980, 22979, 22978, 22977, 22976, 22975, 22974, 22973, 22972, 22971]\n"
     ]
    },
    {
     "name": "stderr",
     "output_type": "stream",
     "text": [
      "\r",
      " 13%|█▎        | 1258/9716 [1:18:16<8:46:13,  3.73s/it]"
     ]
    },
    {
     "name": "stdout",
     "output_type": "stream",
     "text": [
      "166970 20 21386 145584 [23007, 23006, 23005, 23004, 23003, 23002, 23001, 23000, 22999, 22998, 22997, 22996, 22995, 22994, 22993, 22992, 22991, 22990, 22989, 22988]\n"
     ]
    },
    {
     "name": "stderr",
     "output_type": "stream",
     "text": [
      "\r",
      " 13%|█▎        | 1259/9716 [1:18:19<8:46:09,  3.73s/it]"
     ]
    },
    {
     "name": "stdout",
     "output_type": "stream",
     "text": [
      "166978 20 21403 145567 [23024, 23023, 23022, 23021, 23020, 23019, 23018, 23017, 23016, 23015, 23014, 23013, 23012, 23011, 23010, 23009, 23008, 23007, 23006, 23005]\n"
     ]
    },
    {
     "name": "stderr",
     "output_type": "stream",
     "text": [
      "\r",
      " 13%|█▎        | 1260/9716 [1:18:22<8:46:02,  3.73s/it]"
     ]
    },
    {
     "name": "stdout",
     "output_type": "stream",
     "text": [
      "166978 20 21420 145558 [23041, 23040, 23039, 23038, 23037, 23036, 23035, 23034, 23033, 23032, 23031, 23030, 23029, 23028, 23027, 23026, 23025, 23024, 23023, 23022]\n"
     ]
    },
    {
     "name": "stderr",
     "output_type": "stream",
     "text": [
      "\r",
      " 13%|█▎        | 1261/9716 [1:18:27<8:46:00,  3.73s/it]"
     ]
    },
    {
     "name": "stdout",
     "output_type": "stream",
     "text": [
      "166978 20 21437 145541 [23058, 23057, 23056, 23055, 23054, 23053, 23052, 23051, 23050, 23049, 23048, 23047, 23046, 23045, 23044, 23043, 23042, 23041, 23040, 23039]\n"
     ]
    },
    {
     "name": "stderr",
     "output_type": "stream",
     "text": [
      "\r",
      " 13%|█▎        | 1262/9716 [1:18:30<8:45:53,  3.73s/it]"
     ]
    },
    {
     "name": "stdout",
     "output_type": "stream",
     "text": [
      "166978 20 21454 145524 [23075, 23074, 23073, 23072, 23071, 23070, 23069, 23068, 23067, 23066, 23065, 23064, 23063, 23062, 23061, 23060, 23059, 23058, 23057, 23056]\n"
     ]
    },
    {
     "name": "stderr",
     "output_type": "stream",
     "text": [
      "\r",
      " 13%|█▎        | 1263/9716 [1:18:33<8:45:49,  3.73s/it]"
     ]
    },
    {
     "name": "stdout",
     "output_type": "stream",
     "text": [
      "166978 20 21471 145507 [23092, 23091, 23090, 23089, 23088, 23087, 23086, 23085, 23084, 23083, 23082, 23081, 23080, 23079, 23078, 23077, 23076, 23075, 23074, 23073]\n"
     ]
    },
    {
     "name": "stderr",
     "output_type": "stream",
     "text": [
      "\r",
      " 13%|█▎        | 1264/9716 [1:18:37<8:45:47,  3.73s/it]"
     ]
    },
    {
     "name": "stdout",
     "output_type": "stream",
     "text": [
      "166978 20 21488 145490 [23109, 23108, 23107, 23106, 23105, 23104, 23103, 23102, 23101, 23100, 23099, 23098, 23097, 23096, 23095, 23094, 23093, 23092, 23091, 23090]\n"
     ]
    },
    {
     "name": "stderr",
     "output_type": "stream",
     "text": [
      "\r",
      " 13%|█▎        | 1265/9716 [1:18:41<8:45:41,  3.73s/it]"
     ]
    },
    {
     "name": "stdout",
     "output_type": "stream",
     "text": [
      "166978 20 21505 145473 [23126, 23125, 23124, 23123, 23122, 23121, 23120, 23119, 23118, 23117, 23116, 23115, 23114, 23113, 23112, 23111, 23110, 23109, 23108, 23107]\n"
     ]
    },
    {
     "name": "stderr",
     "output_type": "stream",
     "text": [
      "\r",
      " 13%|█▎        | 1266/9716 [1:18:44<8:45:32,  3.73s/it]"
     ]
    },
    {
     "name": "stdout",
     "output_type": "stream",
     "text": [
      "166978 20 21522 145456 [23143, 23142, 23141, 23140, 23139, 23138, 23137, 23136, 23135, 23134, 23133, 23132, 23131, 23130, 23129, 23128, 23127, 23126, 23125, 23124]\n"
     ]
    },
    {
     "name": "stderr",
     "output_type": "stream",
     "text": [
      "\r",
      " 13%|█▎        | 1267/9716 [1:18:47<8:45:26,  3.73s/it]"
     ]
    },
    {
     "name": "stdout",
     "output_type": "stream",
     "text": [
      "166978 20 21539 145439 [23160, 23159, 23158, 23157, 23156, 23155, 23154, 23153, 23152, 23151, 23150, 23149, 23148, 23147, 23146, 23145, 23144, 23143, 23142, 23141]\n"
     ]
    },
    {
     "name": "stderr",
     "output_type": "stream",
     "text": [
      "\r",
      " 13%|█▎        | 1268/9716 [1:18:50<8:45:18,  3.73s/it]"
     ]
    },
    {
     "name": "stdout",
     "output_type": "stream",
     "text": [
      "166978 20 21556 145422 [23177, 23176, 23175, 23174, 23173, 23172, 23171, 23170, 23169, 23168, 23167, 23166, 23165, 23164, 23163, 23162, 23161, 23160, 23159, 23158]\n"
     ]
    },
    {
     "name": "stderr",
     "output_type": "stream",
     "text": [
      "\r",
      " 13%|█▎        | 1269/9716 [1:18:54<8:45:14,  3.73s/it]"
     ]
    },
    {
     "name": "stdout",
     "output_type": "stream",
     "text": [
      "166978 20 21573 145405 [23194, 23193, 23192, 23191, 23190, 23189, 23188, 23187, 23186, 23185, 23184, 23183, 23182, 23181, 23180, 23179, 23178, 23177, 23176, 23175]\n"
     ]
    },
    {
     "name": "stderr",
     "output_type": "stream",
     "text": [
      "\r",
      " 13%|█▎        | 1270/9716 [1:18:57<8:45:08,  3.73s/it]"
     ]
    },
    {
     "name": "stdout",
     "output_type": "stream",
     "text": [
      "166984 20 21590 145388 [23211, 23210, 23209, 23208, 23207, 23206, 23205, 23204, 23203, 23202, 23201, 23200, 23199, 23198, 23197, 23196, 23195, 23194, 23193, 23192]\n"
     ]
    },
    {
     "name": "stderr",
     "output_type": "stream",
     "text": [
      "\r",
      " 13%|█▎        | 1271/9716 [1:19:01<8:45:01,  3.73s/it]"
     ]
    },
    {
     "name": "stdout",
     "output_type": "stream",
     "text": [
      "166986 20 21607 145377 [23230, 23229, 23228, 23227, 23226, 23225, 23224, 23223, 23222, 23221, 23220, 23219, 23218, 23217, 23216, 23215, 23214, 23213, 23212, 23211]\n"
     ]
    },
    {
     "name": "stderr",
     "output_type": "stream",
     "text": [
      "\r",
      " 13%|█▎        | 1272/9716 [1:19:04<8:44:54,  3.73s/it]"
     ]
    },
    {
     "name": "stdout",
     "output_type": "stream",
     "text": [
      "166986 20 21624 145362 [23245, 23244, 23243, 23242, 23241, 23240, 23239, 23238, 23237, 23236, 23235, 23234, 23233, 23232, 23231, 23230, 23229, 23228, 23227, 23226]\n"
     ]
    },
    {
     "name": "stderr",
     "output_type": "stream",
     "text": [
      "\r",
      " 13%|█▎        | 1273/9716 [1:19:07<8:44:46,  3.73s/it]"
     ]
    },
    {
     "name": "stdout",
     "output_type": "stream",
     "text": [
      "166986 20 21641 145345 [23262, 23261, 23260, 23259, 23258, 23257, 23256, 23255, 23254, 23253, 23252, 23251, 23250, 23249, 23248, 23247, 23246, 23245, 23244, 23243]\n"
     ]
    },
    {
     "name": "stderr",
     "output_type": "stream",
     "text": [
      "\r",
      " 13%|█▎        | 1274/9716 [1:19:10<8:44:36,  3.73s/it]"
     ]
    },
    {
     "name": "stdout",
     "output_type": "stream",
     "text": [
      "166986 20 21658 145328 [23279, 23278, 23277, 23276, 23275, 23274, 23273, 23272, 23271, 23270, 23269, 23268, 23267, 23266, 23265, 23264, 23263, 23262, 23261, 23260]\n"
     ]
    },
    {
     "name": "stderr",
     "output_type": "stream",
     "text": [
      "\r",
      " 13%|█▎        | 1275/9716 [1:19:13<8:44:27,  3.73s/it]"
     ]
    },
    {
     "name": "stdout",
     "output_type": "stream",
     "text": [
      "166986 20 21675 145311 [23296, 23295, 23294, 23293, 23292, 23291, 23290, 23289, 23288, 23287, 23286, 23285, 23284, 23283, 23282, 23281, 23280, 23279, 23278, 23277]\n"
     ]
    },
    {
     "name": "stderr",
     "output_type": "stream",
     "text": [
      "\r",
      " 13%|█▎        | 1276/9716 [1:19:16<8:44:18,  3.73s/it]"
     ]
    },
    {
     "name": "stdout",
     "output_type": "stream",
     "text": [
      "166986 20 21692 145294 [23313, 23312, 23311, 23310, 23309, 23308, 23307, 23306, 23305, 23304, 23303, 23302, 23301, 23300, 23299, 23298, 23297, 23296, 23295, 23294]\n"
     ]
    },
    {
     "name": "stderr",
     "output_type": "stream",
     "text": [
      "\r",
      " 13%|█▎        | 1277/9716 [1:19:19<8:44:11,  3.73s/it]"
     ]
    },
    {
     "name": "stdout",
     "output_type": "stream",
     "text": [
      "166986 20 21709 145277 [23330, 23329, 23328, 23327, 23326, 23325, 23324, 23323, 23322, 23321, 23320, 23319, 23318, 23317, 23316, 23315, 23314, 23313, 23312, 23311]\n"
     ]
    },
    {
     "name": "stderr",
     "output_type": "stream",
     "text": [
      "\r",
      " 13%|█▎        | 1278/9716 [1:19:22<8:44:04,  3.73s/it]"
     ]
    },
    {
     "name": "stdout",
     "output_type": "stream",
     "text": [
      "166986 20 21726 145260 [23347, 23346, 23345, 23344, 23343, 23342, 23341, 23340, 23339, 23338, 23337, 23336, 23335, 23334, 23333, 23332, 23331, 23330, 23329, 23328]\n"
     ]
    },
    {
     "name": "stderr",
     "output_type": "stream",
     "text": [
      "\r",
      " 13%|█▎        | 1279/9716 [1:19:25<8:43:57,  3.73s/it]"
     ]
    },
    {
     "name": "stdout",
     "output_type": "stream",
     "text": [
      "166986 20 21743 145243 [23364, 23363, 23362, 23361, 23360, 23359, 23358, 23357, 23356, 23355, 23354, 23353, 23352, 23351, 23350, 23349, 23348, 23347, 23346, 23345]\n"
     ]
    },
    {
     "name": "stderr",
     "output_type": "stream",
     "text": [
      "\r",
      " 13%|█▎        | 1280/9716 [1:19:28<8:43:48,  3.73s/it]"
     ]
    },
    {
     "name": "stdout",
     "output_type": "stream",
     "text": [
      "166986 20 21760 145226 [23381, 23380, 23379, 23378, 23377, 23376, 23375, 23374, 23373, 23372, 23371, 23370, 23369, 23368, 23367, 23366, 23365, 23364, 23363, 23362]\n"
     ]
    },
    {
     "name": "stderr",
     "output_type": "stream",
     "text": [
      "\r",
      " 13%|█▎        | 1281/9716 [1:19:31<8:43:41,  3.73s/it]"
     ]
    },
    {
     "name": "stdout",
     "output_type": "stream",
     "text": [
      "166986 20 21777 145209 [23398, 23397, 23396, 23395, 23394, 23393, 23392, 23391, 23390, 23389, 23388, 23387, 23386, 23385, 23384, 23383, 23382, 23381, 23380, 23379]\n"
     ]
    },
    {
     "name": "stderr",
     "output_type": "stream",
     "text": [
      "\r",
      " 13%|█▎        | 1282/9716 [1:19:35<8:43:34,  3.72s/it]"
     ]
    },
    {
     "name": "stdout",
     "output_type": "stream",
     "text": [
      "166986 20 21794 145192 [23415, 23414, 23413, 23412, 23411, 23410, 23409, 23408, 23407, 23406, 23405, 23404, 23403, 23402, 23401, 23400, 23399, 23398, 23397, 23396]\n"
     ]
    },
    {
     "name": "stderr",
     "output_type": "stream",
     "text": [
      "\r",
      " 13%|█▎        | 1283/9716 [1:19:38<8:43:25,  3.72s/it]"
     ]
    },
    {
     "name": "stdout",
     "output_type": "stream",
     "text": [
      "166986 20 21811 145175 [23432, 23431, 23430, 23429, 23428, 23427, 23426, 23425, 23424, 23423, 23422, 23421, 23420, 23419, 23418, 23417, 23416, 23415, 23414, 23413]\n"
     ]
    },
    {
     "name": "stderr",
     "output_type": "stream",
     "text": [
      "\r",
      " 13%|█▎        | 1284/9716 [1:19:41<8:43:18,  3.72s/it]"
     ]
    },
    {
     "name": "stdout",
     "output_type": "stream",
     "text": [
      "166986 20 21828 145158 [23449, 23448, 23447, 23446, 23445, 23444, 23443, 23442, 23441, 23440, 23439, 23438, 23437, 23436, 23435, 23434, 23433, 23432, 23431, 23430]\n"
     ]
    },
    {
     "name": "stderr",
     "output_type": "stream",
     "text": [
      "\r",
      " 13%|█▎        | 1285/9716 [1:19:44<8:43:12,  3.72s/it]"
     ]
    },
    {
     "name": "stdout",
     "output_type": "stream",
     "text": [
      "167003 20 21845 145141 [23468, 23467, 23466, 23465, 23464, 23463, 23462, 23461, 23460, 23459, 23458, 23457, 23456, 23455, 23454, 23453, 23452, 23451, 23450, 23449]\n"
     ]
    },
    {
     "name": "stderr",
     "output_type": "stream",
     "text": [
      "\r",
      " 13%|█▎        | 1286/9716 [1:19:48<8:43:06,  3.72s/it]"
     ]
    },
    {
     "name": "stdout",
     "output_type": "stream",
     "text": [
      "167003 20 21862 145141 [23483, 23482, 23481, 23480, 23479, 23478, 23477, 23476, 23475, 23474, 23473, 23472, 23471, 23470, 23469, 23468, 23467, 23466, 23465, 23464]\n"
     ]
    },
    {
     "name": "stderr",
     "output_type": "stream",
     "text": [
      "\r",
      " 13%|█▎        | 1287/9716 [1:19:51<8:43:00,  3.72s/it]"
     ]
    },
    {
     "name": "stdout",
     "output_type": "stream",
     "text": [
      "167003 20 21879 145124 [23500, 23499, 23498, 23497, 23496, 23495, 23494, 23493, 23492, 23491, 23490, 23489, 23488, 23487, 23486, 23485, 23484, 23483, 23482, 23481]\n"
     ]
    },
    {
     "name": "stderr",
     "output_type": "stream",
     "text": [
      "\r",
      " 13%|█▎        | 1288/9716 [1:19:54<8:42:54,  3.72s/it]"
     ]
    },
    {
     "name": "stdout",
     "output_type": "stream",
     "text": [
      "167003 20 21896 145107 [23517, 23516, 23515, 23514, 23513, 23512, 23511, 23510, 23509, 23508, 23507, 23506, 23505, 23504, 23503, 23502, 23501, 23500, 23499, 23498]\n"
     ]
    },
    {
     "name": "stderr",
     "output_type": "stream",
     "text": [
      "\r",
      " 13%|█▎        | 1289/9716 [1:19:58<8:42:48,  3.72s/it]"
     ]
    },
    {
     "name": "stdout",
     "output_type": "stream",
     "text": [
      "167003 20 21913 145090 [23534, 23533, 23532, 23531, 23530, 23529, 23528, 23527, 23526, 23525, 23524, 23523, 23522, 23521, 23520, 23519, 23518, 23517, 23516, 23515]\n"
     ]
    },
    {
     "name": "stderr",
     "output_type": "stream",
     "text": [
      "\r",
      " 13%|█▎        | 1290/9716 [1:20:01<8:42:40,  3.72s/it]"
     ]
    },
    {
     "name": "stdout",
     "output_type": "stream",
     "text": [
      "167003 20 21930 145073 [23551, 23550, 23549, 23548, 23547, 23546, 23545, 23544, 23543, 23542, 23541, 23540, 23539, 23538, 23537, 23536, 23535, 23534, 23533, 23532]\n"
     ]
    },
    {
     "name": "stderr",
     "output_type": "stream",
     "text": [
      "\r",
      " 13%|█▎        | 1291/9716 [1:20:04<8:42:32,  3.72s/it]"
     ]
    },
    {
     "name": "stdout",
     "output_type": "stream",
     "text": [
      "167003 20 21947 145056 [23568, 23567, 23566, 23565, 23564, 23563, 23562, 23561, 23560, 23559, 23558, 23557, 23556, 23555, 23554, 23553, 23552, 23551, 23550, 23549]\n"
     ]
    },
    {
     "name": "stderr",
     "output_type": "stream",
     "text": [
      "\r",
      " 13%|█▎        | 1292/9716 [1:20:07<8:42:26,  3.72s/it]"
     ]
    },
    {
     "name": "stdout",
     "output_type": "stream",
     "text": [
      "167003 20 21964 145039 [23585, 23584, 23583, 23582, 23581, 23580, 23579, 23578, 23577, 23576, 23575, 23574, 23573, 23572, 23571, 23570, 23569, 23568, 23567, 23566]\n"
     ]
    },
    {
     "name": "stderr",
     "output_type": "stream",
     "text": [
      "\r",
      " 13%|█▎        | 1293/9716 [1:20:10<8:42:18,  3.72s/it]"
     ]
    },
    {
     "name": "stdout",
     "output_type": "stream",
     "text": [
      "167003 20 21981 145022 [23602, 23601, 23600, 23599, 23598, 23597, 23596, 23595, 23594, 23593, 23592, 23591, 23590, 23589, 23588, 23587, 23586, 23585, 23584, 23583]\n"
     ]
    },
    {
     "name": "stderr",
     "output_type": "stream",
     "text": [
      "\r",
      " 13%|█▎        | 1294/9716 [1:20:14<8:42:12,  3.72s/it]"
     ]
    },
    {
     "name": "stdout",
     "output_type": "stream",
     "text": [
      "167003 20 21998 145005 [23619, 23618, 23617, 23616, 23615, 23614, 23613, 23612, 23611, 23610, 23609, 23608, 23607, 23606, 23605, 23604, 23603, 23602, 23601, 23600]\n"
     ]
    },
    {
     "name": "stderr",
     "output_type": "stream",
     "text": [
      "\r",
      " 13%|█▎        | 1295/9716 [1:20:17<8:42:05,  3.72s/it]"
     ]
    },
    {
     "name": "stdout",
     "output_type": "stream",
     "text": [
      "167003 20 22015 144988 [23636, 23635, 23634, 23633, 23632, 23631, 23630, 23629, 23628, 23627, 23626, 23625, 23624, 23623, 23622, 23621, 23620, 23619, 23618, 23617]\n"
     ]
    },
    {
     "name": "stderr",
     "output_type": "stream",
     "text": [
      "\r",
      " 13%|█▎        | 1296/9716 [1:20:20<8:41:55,  3.72s/it]"
     ]
    },
    {
     "name": "stdout",
     "output_type": "stream",
     "text": [
      "167008 20 22032 144971 [23653, 23652, 23651, 23650, 23649, 23648, 23647, 23646, 23645, 23644, 23643, 23642, 23641, 23640, 23639, 23638, 23637, 23636, 23635, 23634]\n"
     ]
    },
    {
     "name": "stderr",
     "output_type": "stream",
     "text": [
      "\r",
      " 13%|█▎        | 1297/9716 [1:20:23<8:41:48,  3.72s/it]"
     ]
    },
    {
     "name": "stdout",
     "output_type": "stream",
     "text": [
      "167008 20 22049 144959 [23670, 23669, 23668, 23667, 23666, 23665, 23664, 23663, 23662, 23661, 23660, 23659, 23658, 23657, 23656, 23655, 23654, 23653, 23652, 23651]\n"
     ]
    },
    {
     "name": "stderr",
     "output_type": "stream",
     "text": [
      "\r",
      " 13%|█▎        | 1298/9716 [1:20:26<8:41:39,  3.72s/it]"
     ]
    },
    {
     "name": "stdout",
     "output_type": "stream",
     "text": [
      "167008 20 22066 144942 [23687, 23686, 23685, 23684, 23683, 23682, 23681, 23680, 23679, 23678, 23677, 23676, 23675, 23674, 23673, 23672, 23671, 23670, 23669, 23668]\n"
     ]
    },
    {
     "name": "stderr",
     "output_type": "stream",
     "text": [
      "\r",
      " 13%|█▎        | 1299/9716 [1:20:29<8:41:32,  3.72s/it]"
     ]
    },
    {
     "name": "stdout",
     "output_type": "stream",
     "text": [
      "167008 20 22083 144925 [23704, 23703, 23702, 23701, 23700, 23699, 23698, 23697, 23696, 23695, 23694, 23693, 23692, 23691, 23690, 23689, 23688, 23687, 23686, 23685]\n"
     ]
    },
    {
     "name": "stderr",
     "output_type": "stream",
     "text": [
      "\r",
      " 13%|█▎        | 1300/9716 [1:20:33<8:41:32,  3.72s/it]"
     ]
    },
    {
     "name": "stdout",
     "output_type": "stream",
     "text": [
      "167008 20 22100 144908 [23721, 23720, 23719, 23718, 23717, 23716, 23715, 23714, 23713, 23712, 23711, 23710, 23709, 23708, 23707, 23706, 23705, 23704, 23703, 23702]\n"
     ]
    },
    {
     "name": "stderr",
     "output_type": "stream",
     "text": [
      "\r",
      " 13%|█▎        | 1301/9716 [1:20:36<8:41:24,  3.72s/it]"
     ]
    },
    {
     "name": "stdout",
     "output_type": "stream",
     "text": [
      "167013 20 22117 144891 [23743, 23742, 23741, 23740, 23739, 23738, 23737, 23736, 23735, 23734, 23733, 23732, 23731, 23730, 23729, 23728, 23727, 23726, 23725, 23724]\n"
     ]
    },
    {
     "name": "stderr",
     "output_type": "stream",
     "text": [
      "\r",
      " 13%|█▎        | 1302/9716 [1:20:39<8:41:17,  3.72s/it]"
     ]
    },
    {
     "name": "stdout",
     "output_type": "stream",
     "text": [
      "167013 20 22134 144879 [23755, 23754, 23753, 23752, 23751, 23750, 23749, 23748, 23747, 23746, 23745, 23744, 23743, 23742, 23741, 23740, 23739, 23738, 23737, 23736]\n"
     ]
    },
    {
     "name": "stderr",
     "output_type": "stream",
     "text": [
      "\r",
      " 13%|█▎        | 1303/9716 [1:20:42<8:41:08,  3.72s/it]"
     ]
    },
    {
     "name": "stdout",
     "output_type": "stream",
     "text": [
      "167013 20 22151 144862 [23772, 23771, 23770, 23769, 23768, 23767, 23766, 23765, 23764, 23763, 23762, 23761, 23760, 23759, 23758, 23757, 23756, 23755, 23754, 23753]\n"
     ]
    },
    {
     "name": "stderr",
     "output_type": "stream",
     "text": [
      "\r",
      " 13%|█▎        | 1304/9716 [1:20:45<8:41:00,  3.72s/it]"
     ]
    },
    {
     "name": "stdout",
     "output_type": "stream",
     "text": [
      "167013 20 22168 144845 [23789, 23788, 23787, 23786, 23785, 23784, 23783, 23782, 23781, 23780, 23779, 23778, 23777, 23776, 23775, 23774, 23773, 23772, 23771, 23770]\n"
     ]
    },
    {
     "name": "stderr",
     "output_type": "stream",
     "text": [
      "\r",
      " 13%|█▎        | 1305/9716 [1:20:48<8:40:51,  3.72s/it]"
     ]
    },
    {
     "name": "stdout",
     "output_type": "stream",
     "text": [
      "167013 20 22185 144828 [23806, 23805, 23804, 23803, 23802, 23801, 23800, 23799, 23798, 23797, 23796, 23795, 23794, 23793, 23792, 23791, 23790, 23789, 23788, 23787]\n"
     ]
    },
    {
     "name": "stderr",
     "output_type": "stream",
     "text": [
      "\r",
      " 13%|█▎        | 1306/9716 [1:20:52<8:40:45,  3.72s/it]"
     ]
    },
    {
     "name": "stdout",
     "output_type": "stream",
     "text": [
      "167013 20 22202 144811 [23823, 23822, 23821, 23820, 23819, 23818, 23817, 23816, 23815, 23814, 23813, 23812, 23811, 23810, 23809, 23808, 23807, 23806, 23805, 23804]\n"
     ]
    },
    {
     "name": "stderr",
     "output_type": "stream",
     "text": [
      "\r",
      " 13%|█▎        | 1307/9716 [1:20:55<8:40:37,  3.71s/it]"
     ]
    },
    {
     "name": "stdout",
     "output_type": "stream",
     "text": [
      "167022 20 22219 144794 [23840, 23839, 23838, 23837, 23836, 23835, 23834, 23833, 23832, 23831, 23830, 23829, 23828, 23827, 23826, 23825, 23824, 23823, 23822, 23821]\n"
     ]
    },
    {
     "name": "stderr",
     "output_type": "stream",
     "text": [
      "\r",
      " 13%|█▎        | 1308/9716 [1:20:58<8:40:28,  3.71s/it]"
     ]
    },
    {
     "name": "stdout",
     "output_type": "stream",
     "text": [
      "167022 20 22236 144786 [23857, 23856, 23855, 23854, 23853, 23852, 23851, 23850, 23849, 23848, 23847, 23846, 23845, 23844, 23843, 23842, 23841, 23840, 23839, 23838]\n"
     ]
    },
    {
     "name": "stderr",
     "output_type": "stream",
     "text": [
      "\r",
      " 13%|█▎        | 1309/9716 [1:21:01<8:40:20,  3.71s/it]"
     ]
    },
    {
     "name": "stdout",
     "output_type": "stream",
     "text": [
      "167022 20 22253 144769 [23874, 23873, 23872, 23871, 23870, 23869, 23868, 23867, 23866, 23865, 23864, 23863, 23862, 23861, 23860, 23859, 23858, 23857, 23856, 23855]\n"
     ]
    },
    {
     "name": "stderr",
     "output_type": "stream",
     "text": [
      "\r",
      " 13%|█▎        | 1310/9716 [1:21:04<8:40:13,  3.71s/it]"
     ]
    },
    {
     "name": "stdout",
     "output_type": "stream",
     "text": [
      "167022 20 22270 144752 [23891, 23890, 23889, 23888, 23887, 23886, 23885, 23884, 23883, 23882, 23881, 23880, 23879, 23878, 23877, 23876, 23875, 23874, 23873, 23872]\n"
     ]
    },
    {
     "name": "stderr",
     "output_type": "stream",
     "text": [
      "\r",
      " 13%|█▎        | 1311/9716 [1:21:07<8:40:06,  3.71s/it]"
     ]
    },
    {
     "name": "stdout",
     "output_type": "stream",
     "text": [
      "167022 20 22287 144735 [23908, 23907, 23906, 23905, 23904, 23903, 23902, 23901, 23900, 23899, 23898, 23897, 23896, 23895, 23894, 23893, 23892, 23891, 23890, 23889]\n"
     ]
    },
    {
     "name": "stderr",
     "output_type": "stream",
     "text": [
      "\r",
      " 14%|█▎        | 1312/9716 [1:21:10<8:40:00,  3.71s/it]"
     ]
    },
    {
     "name": "stdout",
     "output_type": "stream",
     "text": [
      "167022 20 22304 144718 [23925, 23924, 23923, 23922, 23921, 23920, 23919, 23918, 23917, 23916, 23915, 23914, 23913, 23912, 23911, 23910, 23909, 23908, 23907, 23906]\n"
     ]
    },
    {
     "name": "stderr",
     "output_type": "stream",
     "text": [
      "\r",
      " 14%|█▎        | 1313/9716 [1:21:13<8:39:51,  3.71s/it]"
     ]
    },
    {
     "name": "stdout",
     "output_type": "stream",
     "text": [
      "167022 20 22321 144701 [23942, 23941, 23940, 23939, 23938, 23937, 23936, 23935, 23934, 23933, 23932, 23931, 23930, 23929, 23928, 23927, 23926, 23925, 23924, 23923]\n"
     ]
    },
    {
     "name": "stderr",
     "output_type": "stream",
     "text": [
      "\r",
      " 14%|█▎        | 1314/9716 [1:21:17<8:39:44,  3.71s/it]"
     ]
    },
    {
     "name": "stdout",
     "output_type": "stream",
     "text": [
      "167023 20 22338 144684 [23959, 23958, 23957, 23956, 23955, 23954, 23953, 23952, 23951, 23950, 23949, 23948, 23947, 23946, 23945, 23944, 23943, 23942, 23941, 23940]\n"
     ]
    },
    {
     "name": "stderr",
     "output_type": "stream",
     "text": [
      "\r",
      " 14%|█▎        | 1315/9716 [1:21:20<8:39:38,  3.71s/it]"
     ]
    },
    {
     "name": "stdout",
     "output_type": "stream",
     "text": [
      "167023 20 22355 144668 [23976, 23975, 23974, 23973, 23972, 23971, 23970, 23969, 23968, 23967, 23966, 23965, 23964, 23963, 23962, 23961, 23960, 23959, 23958, 23957]\n"
     ]
    },
    {
     "name": "stderr",
     "output_type": "stream",
     "text": [
      "\r",
      " 14%|█▎        | 1316/9716 [1:21:23<8:39:32,  3.71s/it]"
     ]
    },
    {
     "name": "stdout",
     "output_type": "stream",
     "text": [
      "167023 20 22372 144651 [23993, 23992, 23991, 23990, 23989, 23988, 23987, 23986, 23985, 23984, 23983, 23982, 23981, 23980, 23979, 23978, 23977, 23976, 23975, 23974]\n"
     ]
    },
    {
     "name": "stderr",
     "output_type": "stream",
     "text": [
      "\r",
      " 14%|█▎        | 1317/9716 [1:21:27<8:39:27,  3.71s/it]"
     ]
    },
    {
     "name": "stdout",
     "output_type": "stream",
     "text": [
      "167023 20 22389 144634 [24010, 24009, 24008, 24007, 24006, 24005, 24004, 24003, 24002, 24001, 24000, 23999, 23998, 23997, 23996, 23995, 23994, 23993, 23992, 23991]\n"
     ]
    },
    {
     "name": "stderr",
     "output_type": "stream",
     "text": [
      "\r",
      " 14%|█▎        | 1318/9716 [1:21:30<8:39:24,  3.71s/it]"
     ]
    },
    {
     "name": "stdout",
     "output_type": "stream",
     "text": [
      "167023 20 22406 144617 [24027, 24026, 24025, 24024, 24023, 24022, 24021, 24020, 24019, 24018, 24017, 24016, 24015, 24014, 24013, 24012, 24011, 24010, 24009, 24008]\n"
     ]
    },
    {
     "name": "stderr",
     "output_type": "stream",
     "text": [
      "\r",
      " 14%|█▎        | 1319/9716 [1:21:34<8:39:22,  3.71s/it]"
     ]
    },
    {
     "name": "stdout",
     "output_type": "stream",
     "text": [
      "167040 20 22423 144600 [24044, 24043, 24042, 24041, 24040, 24039, 24038, 24037, 24036, 24035, 24034, 24033, 24032, 24031, 24030, 24029, 24028, 24027, 24026, 24025]\n"
     ]
    },
    {
     "name": "stderr",
     "output_type": "stream",
     "text": [
      "\r",
      " 14%|█▎        | 1320/9716 [1:21:38<8:39:18,  3.71s/it]"
     ]
    },
    {
     "name": "stdout",
     "output_type": "stream",
     "text": [
      "167040 20 22440 144600 [24061, 24060, 24059, 24058, 24057, 24056, 24055, 24054, 24053, 24052, 24051, 24050, 24049, 24048, 24047, 24046, 24045, 24044, 24043, 24042]\n"
     ]
    },
    {
     "name": "stderr",
     "output_type": "stream",
     "text": [
      "\r",
      " 14%|█▎        | 1321/9716 [1:21:42<8:39:17,  3.71s/it]"
     ]
    },
    {
     "name": "stdout",
     "output_type": "stream",
     "text": [
      "167040 20 22457 144583 [24078, 24077, 24076, 24075, 24074, 24073, 24072, 24071, 24070, 24069, 24068, 24067, 24066, 24065, 24064, 24063, 24062, 24061, 24060, 24059]\n"
     ]
    },
    {
     "name": "stderr",
     "output_type": "stream",
     "text": [
      "\r",
      " 14%|█▎        | 1322/9716 [1:21:46<8:39:16,  3.71s/it]"
     ]
    },
    {
     "name": "stdout",
     "output_type": "stream",
     "text": [
      "167040 20 22474 144566 [24095, 24094, 24093, 24092, 24091, 24090, 24089, 24088, 24087, 24086, 24085, 24084, 24083, 24082, 24081, 24080, 24079, 24078, 24077, 24076]\n"
     ]
    },
    {
     "name": "stderr",
     "output_type": "stream",
     "text": [
      "\r",
      " 14%|█▎        | 1323/9716 [1:21:51<8:39:17,  3.71s/it]"
     ]
    },
    {
     "name": "stdout",
     "output_type": "stream",
     "text": [
      "167040 20 22491 144549 [24112, 24111, 24110, 24109, 24108, 24107, 24106, 24105, 24104, 24103, 24102, 24101, 24100, 24099, 24098, 24097, 24096, 24095, 24094, 24093]\n"
     ]
    },
    {
     "name": "stderr",
     "output_type": "stream",
     "text": [
      "\r",
      " 14%|█▎        | 1324/9716 [1:21:55<8:39:16,  3.71s/it]"
     ]
    },
    {
     "name": "stdout",
     "output_type": "stream",
     "text": [
      "167040 20 22508 144532 [24129, 24128, 24127, 24126, 24125, 24124, 24123, 24122, 24121, 24120, 24119, 24118, 24117, 24116, 24115, 24114, 24113, 24112, 24111, 24110]\n"
     ]
    },
    {
     "name": "stderr",
     "output_type": "stream",
     "text": [
      "\r",
      " 14%|█▎        | 1325/9716 [1:21:59<8:39:13,  3.71s/it]"
     ]
    },
    {
     "name": "stdout",
     "output_type": "stream",
     "text": [
      "167040 20 22525 144515 [24146, 24145, 24144, 24143, 24142, 24141, 24140, 24139, 24138, 24137, 24136, 24135, 24134, 24133, 24132, 24131, 24130, 24129, 24128, 24127]\n"
     ]
    },
    {
     "name": "stderr",
     "output_type": "stream",
     "text": [
      "\r",
      " 14%|█▎        | 1326/9716 [1:22:04<8:39:16,  3.71s/it]"
     ]
    },
    {
     "name": "stdout",
     "output_type": "stream",
     "text": [
      "167046 20 22542 144498 [24163, 24162, 24161, 24160, 24159, 24158, 24157, 24156, 24155, 24154, 24153, 24152, 24151, 24150, 24149, 24148, 24147, 24146, 24145, 24144]\n"
     ]
    },
    {
     "name": "stderr",
     "output_type": "stream",
     "text": [
      "\r",
      " 14%|█▎        | 1327/9716 [1:22:07<8:39:12,  3.71s/it]"
     ]
    },
    {
     "name": "stdout",
     "output_type": "stream",
     "text": [
      "167046 20 22559 144487 [24180, 24179, 24178, 24177, 24176, 24175, 24174, 24173, 24172, 24171, 24170, 24169, 24168, 24167, 24166, 24165, 24164, 24163, 24162, 24161]\n"
     ]
    },
    {
     "name": "stderr",
     "output_type": "stream",
     "text": [
      "\r",
      " 14%|█▎        | 1328/9716 [1:22:11<8:39:10,  3.71s/it]"
     ]
    },
    {
     "name": "stdout",
     "output_type": "stream",
     "text": [
      "167046 20 22576 144470 [24197, 24196, 24195, 24194, 24193, 24192, 24191, 24190, 24189, 24188, 24187, 24186, 24185, 24184, 24183, 24182, 24181, 24180, 24179, 24178]\n"
     ]
    },
    {
     "name": "stderr",
     "output_type": "stream",
     "text": [
      "\r",
      " 14%|█▎        | 1329/9716 [1:22:15<8:39:06,  3.71s/it]"
     ]
    },
    {
     "name": "stdout",
     "output_type": "stream",
     "text": [
      "167046 20 22593 144453 [24214, 24213, 24212, 24211, 24210, 24209, 24208, 24207, 24206, 24205, 24204, 24203, 24202, 24201, 24200, 24199, 24198, 24197, 24196, 24195]\n"
     ]
    },
    {
     "name": "stderr",
     "output_type": "stream",
     "text": [
      "\r",
      " 14%|█▎        | 1330/9716 [1:22:19<8:39:03,  3.71s/it]"
     ]
    },
    {
     "name": "stdout",
     "output_type": "stream",
     "text": [
      "167046 20 22610 144436 [24231, 24230, 24229, 24228, 24227, 24226, 24225, 24224, 24223, 24222, 24221, 24220, 24219, 24218, 24217, 24216, 24215, 24214, 24213, 24212]\n"
     ]
    },
    {
     "name": "stderr",
     "output_type": "stream",
     "text": [
      "\r",
      " 14%|█▎        | 1331/9716 [1:22:22<8:38:58,  3.71s/it]"
     ]
    },
    {
     "name": "stdout",
     "output_type": "stream",
     "text": [
      "167046 20 22627 144419 [24248, 24247, 24246, 24245, 24244, 24243, 24242, 24241, 24240, 24239, 24238, 24237, 24236, 24235, 24234, 24233, 24232, 24231, 24230, 24229]\n"
     ]
    },
    {
     "name": "stderr",
     "output_type": "stream",
     "text": [
      "\r",
      " 14%|█▎        | 1332/9716 [1:22:26<8:38:52,  3.71s/it]"
     ]
    },
    {
     "name": "stdout",
     "output_type": "stream",
     "text": [
      "167046 20 22644 144402 [24265, 24264, 24263, 24262, 24261, 24260, 24259, 24258, 24257, 24256, 24255, 24254, 24253, 24252, 24251, 24250, 24249, 24248, 24247, 24246]\n"
     ]
    },
    {
     "name": "stderr",
     "output_type": "stream",
     "text": [
      "\r",
      " 14%|█▎        | 1333/9716 [1:22:30<8:38:53,  3.71s/it]"
     ]
    },
    {
     "name": "stdout",
     "output_type": "stream",
     "text": [
      "167059 20 22661 144385 [24294, 24293, 24292, 24291, 24290, 24289, 24288, 24287, 24286, 24285, 24284, 24283, 24282, 24281, 24280, 24279, 24278, 24277, 24276, 24275]\n"
     ]
    },
    {
     "name": "stderr",
     "output_type": "stream",
     "text": [
      "\r",
      " 14%|█▎        | 1334/9716 [1:22:34<8:38:49,  3.71s/it]"
     ]
    },
    {
     "name": "stdout",
     "output_type": "stream",
     "text": [
      "167059 20 22678 144381 [24299, 24298, 24297, 24296, 24295, 24294, 24293, 24292, 24291, 24290, 24289, 24288, 24287, 24286, 24285, 24284, 24283, 24282, 24281, 24280]\n"
     ]
    },
    {
     "name": "stderr",
     "output_type": "stream",
     "text": [
      "\r",
      " 14%|█▎        | 1335/9716 [1:22:37<8:38:43,  3.71s/it]"
     ]
    },
    {
     "name": "stdout",
     "output_type": "stream",
     "text": [
      "167059 20 22695 144364 [24316, 24315, 24314, 24313, 24312, 24311, 24310, 24309, 24308, 24307, 24306, 24305, 24304, 24303, 24302, 24301, 24300, 24299, 24298, 24297]\n"
     ]
    },
    {
     "name": "stderr",
     "output_type": "stream",
     "text": [
      "\r",
      " 14%|█▍        | 1336/9716 [1:22:41<8:38:39,  3.71s/it]"
     ]
    },
    {
     "name": "stdout",
     "output_type": "stream",
     "text": [
      "167059 20 22712 144347 [24333, 24332, 24331, 24330, 24329, 24328, 24327, 24326, 24325, 24324, 24323, 24322, 24321, 24320, 24319, 24318, 24317, 24316, 24315, 24314]\n"
     ]
    },
    {
     "name": "stderr",
     "output_type": "stream",
     "text": [
      "\r",
      " 14%|█▍        | 1337/9716 [1:22:44<8:38:35,  3.71s/it]"
     ]
    },
    {
     "name": "stdout",
     "output_type": "stream",
     "text": [
      "167059 20 22729 144330 [24350, 24349, 24348, 24347, 24346, 24345, 24344, 24343, 24342, 24341, 24340, 24339, 24338, 24337, 24336, 24335, 24334, 24333, 24332, 24331]\n"
     ]
    },
    {
     "name": "stderr",
     "output_type": "stream",
     "text": [
      "\r",
      " 14%|█▍        | 1338/9716 [1:22:48<8:38:28,  3.71s/it]"
     ]
    },
    {
     "name": "stdout",
     "output_type": "stream",
     "text": [
      "167059 20 22746 144313 [24367, 24366, 24365, 24364, 24363, 24362, 24361, 24360, 24359, 24358, 24357, 24356, 24355, 24354, 24353, 24352, 24351, 24350, 24349, 24348]\n"
     ]
    },
    {
     "name": "stderr",
     "output_type": "stream",
     "text": [
      "\r",
      " 14%|█▍        | 1339/9716 [1:22:51<8:38:21,  3.71s/it]"
     ]
    },
    {
     "name": "stdout",
     "output_type": "stream",
     "text": [
      "167059 20 22763 144296 [24384, 24383, 24382, 24381, 24380, 24379, 24378, 24377, 24376, 24375, 24374, 24373, 24372, 24371, 24370, 24369, 24368, 24367, 24366, 24365]\n"
     ]
    },
    {
     "name": "stderr",
     "output_type": "stream",
     "text": [
      "\r",
      " 14%|█▍        | 1340/9716 [1:22:54<8:38:13,  3.71s/it]"
     ]
    },
    {
     "name": "stdout",
     "output_type": "stream",
     "text": [
      "167059 20 22780 144279 [24401, 24400, 24399, 24398, 24397, 24396, 24395, 24394, 24393, 24392, 24391, 24390, 24389, 24388, 24387, 24386, 24385, 24384, 24383, 24382]\n"
     ]
    },
    {
     "name": "stderr",
     "output_type": "stream",
     "text": [
      "\r",
      " 14%|█▍        | 1341/9716 [1:22:57<8:38:06,  3.71s/it]"
     ]
    },
    {
     "name": "stdout",
     "output_type": "stream",
     "text": [
      "167059 20 22797 144262 [24418, 24417, 24416, 24415, 24414, 24413, 24412, 24411, 24410, 24409, 24408, 24407, 24406, 24405, 24404, 24403, 24402, 24401, 24400, 24399]\n"
     ]
    },
    {
     "name": "stderr",
     "output_type": "stream",
     "text": [
      "\r",
      " 14%|█▍        | 1342/9716 [1:23:00<8:37:58,  3.71s/it]"
     ]
    },
    {
     "name": "stdout",
     "output_type": "stream",
     "text": [
      "167059 20 22814 144245 [24435, 24434, 24433, 24432, 24431, 24430, 24429, 24428, 24427, 24426, 24425, 24424, 24423, 24422, 24421, 24420, 24419, 24418, 24417, 24416]\n"
     ]
    },
    {
     "name": "stderr",
     "output_type": "stream",
     "text": [
      "\r",
      " 14%|█▍        | 1343/9716 [1:23:03<8:37:49,  3.71s/it]"
     ]
    },
    {
     "name": "stdout",
     "output_type": "stream",
     "text": [
      "167059 20 22831 144228 [24452, 24451, 24450, 24449, 24448, 24447, 24446, 24445, 24444, 24443, 24442, 24441, 24440, 24439, 24438, 24437, 24436, 24435, 24434, 24433]\n"
     ]
    },
    {
     "name": "stderr",
     "output_type": "stream",
     "text": [
      "\r",
      " 14%|█▍        | 1344/9716 [1:23:06<8:37:41,  3.71s/it]"
     ]
    },
    {
     "name": "stdout",
     "output_type": "stream",
     "text": [
      "167059 20 22848 144211 [24469, 24468, 24467, 24466, 24465, 24464, 24463, 24462, 24461, 24460, 24459, 24458, 24457, 24456, 24455, 24454, 24453, 24452, 24451, 24450]\n"
     ]
    },
    {
     "name": "stderr",
     "output_type": "stream",
     "text": [
      "\r",
      " 14%|█▍        | 1345/9716 [1:23:09<8:37:34,  3.71s/it]"
     ]
    },
    {
     "name": "stdout",
     "output_type": "stream",
     "text": [
      "167059 20 22865 144194 [24486, 24485, 24484, 24483, 24482, 24481, 24480, 24479, 24478, 24477, 24476, 24475, 24474, 24473, 24472, 24471, 24470, 24469, 24468, 24467]\n"
     ]
    },
    {
     "name": "stderr",
     "output_type": "stream",
     "text": [
      "\r",
      " 14%|█▍        | 1346/9716 [1:23:12<8:37:27,  3.71s/it]"
     ]
    },
    {
     "name": "stdout",
     "output_type": "stream",
     "text": [
      "167059 20 22882 144177 [24503, 24502, 24501, 24500, 24499, 24498, 24497, 24496, 24495, 24494, 24493, 24492, 24491, 24490, 24489, 24488, 24487, 24486, 24485, 24484]\n"
     ]
    },
    {
     "name": "stderr",
     "output_type": "stream",
     "text": [
      "\r",
      " 14%|█▍        | 1347/9716 [1:23:16<8:37:24,  3.71s/it]"
     ]
    },
    {
     "name": "stdout",
     "output_type": "stream",
     "text": [
      "167059 20 22899 144160 [24520, 24519, 24518, 24517, 24516, 24515, 24514, 24513, 24512, 24511, 24510, 24509, 24508, 24507, 24506, 24505, 24504, 24503, 24502, 24501]\n"
     ]
    },
    {
     "name": "stderr",
     "output_type": "stream",
     "text": [
      "\r",
      " 14%|█▍        | 1348/9716 [1:23:19<8:37:17,  3.71s/it]"
     ]
    },
    {
     "name": "stdout",
     "output_type": "stream",
     "text": [
      "167059 20 22916 144143 [24537, 24536, 24535, 24534, 24533, 24532, 24531, 24530, 24529, 24528, 24527, 24526, 24525, 24524, 24523, 24522, 24521, 24520, 24519, 24518]\n"
     ]
    },
    {
     "name": "stderr",
     "output_type": "stream",
     "text": [
      "\r",
      " 14%|█▍        | 1349/9716 [1:23:23<8:37:11,  3.71s/it]"
     ]
    },
    {
     "name": "stdout",
     "output_type": "stream",
     "text": [
      "167059 20 22933 144126 [24554, 24553, 24552, 24551, 24550, 24549, 24548, 24547, 24546, 24545, 24544, 24543, 24542, 24541, 24540, 24539, 24538, 24537, 24536, 24535]\n"
     ]
    },
    {
     "name": "stderr",
     "output_type": "stream",
     "text": [
      "\r",
      " 14%|█▍        | 1350/9716 [1:23:26<8:37:05,  3.71s/it]"
     ]
    },
    {
     "name": "stdout",
     "output_type": "stream",
     "text": [
      "167059 20 22950 144109 [24571, 24570, 24569, 24568, 24567, 24566, 24565, 24564, 24563, 24562, 24561, 24560, 24559, 24558, 24557, 24556, 24555, 24554, 24553, 24552]\n"
     ]
    },
    {
     "name": "stderr",
     "output_type": "stream",
     "text": [
      "\r",
      " 14%|█▍        | 1351/9716 [1:23:29<8:36:57,  3.71s/it]"
     ]
    },
    {
     "name": "stdout",
     "output_type": "stream",
     "text": [
      "167059 20 22967 144092 [24588, 24587, 24586, 24585, 24584, 24583, 24582, 24581, 24580, 24579, 24578, 24577, 24576, 24575, 24574, 24573, 24572, 24571, 24570, 24569]\n"
     ]
    },
    {
     "name": "stderr",
     "output_type": "stream",
     "text": [
      "\r",
      " 14%|█▍        | 1352/9716 [1:23:33<8:36:53,  3.71s/it]"
     ]
    },
    {
     "name": "stdout",
     "output_type": "stream",
     "text": [
      "167059 20 22984 144075 [24605, 24604, 24603, 24602, 24601, 24600, 24599, 24598, 24597, 24596, 24595, 24594, 24593, 24592, 24591, 24590, 24589, 24588, 24587, 24586]\n"
     ]
    },
    {
     "name": "stderr",
     "output_type": "stream",
     "text": [
      "\r",
      " 14%|█▍        | 1353/9716 [1:23:36<8:36:45,  3.71s/it]"
     ]
    },
    {
     "name": "stdout",
     "output_type": "stream",
     "text": [
      "167068 20 23001 144058 [24622, 24621, 24620, 24619, 24618, 24617, 24616, 24615, 24614, 24613, 24612, 24611, 24610, 24609, 24608, 24607, 24606, 24605, 24604, 24603]\n"
     ]
    },
    {
     "name": "stderr",
     "output_type": "stream",
     "text": [
      "\r",
      " 14%|█▍        | 1354/9716 [1:23:39<8:36:38,  3.71s/it]"
     ]
    },
    {
     "name": "stdout",
     "output_type": "stream",
     "text": [
      "167068 20 23018 144050 [24639, 24638, 24637, 24636, 24635, 24634, 24633, 24632, 24631, 24630, 24629, 24628, 24627, 24626, 24625, 24624, 24623, 24622, 24621, 24620]\n"
     ]
    },
    {
     "name": "stderr",
     "output_type": "stream",
     "text": [
      "\r",
      " 14%|█▍        | 1355/9716 [1:23:42<8:36:30,  3.71s/it]"
     ]
    },
    {
     "name": "stdout",
     "output_type": "stream",
     "text": [
      "167068 20 23035 144033 [24656, 24655, 24654, 24653, 24652, 24651, 24650, 24649, 24648, 24647, 24646, 24645, 24644, 24643, 24642, 24641, 24640, 24639, 24638, 24637]\n"
     ]
    },
    {
     "name": "stderr",
     "output_type": "stream",
     "text": [
      "\r",
      " 14%|█▍        | 1356/9716 [1:23:45<8:36:22,  3.71s/it]"
     ]
    },
    {
     "name": "stdout",
     "output_type": "stream",
     "text": [
      "167068 20 23052 144016 [24673, 24672, 24671, 24670, 24669, 24668, 24667, 24666, 24665, 24664, 24663, 24662, 24661, 24660, 24659, 24658, 24657, 24656, 24655, 24654]\n"
     ]
    },
    {
     "name": "stderr",
     "output_type": "stream",
     "text": [
      "\r",
      " 14%|█▍        | 1357/9716 [1:23:48<8:36:15,  3.71s/it]"
     ]
    },
    {
     "name": "stdout",
     "output_type": "stream",
     "text": [
      "167068 20 23069 143999 [24690, 24689, 24688, 24687, 24686, 24685, 24684, 24683, 24682, 24681, 24680, 24679, 24678, 24677, 24676, 24675, 24674, 24673, 24672, 24671]\n"
     ]
    },
    {
     "name": "stderr",
     "output_type": "stream",
     "text": [
      "\r",
      " 14%|█▍        | 1358/9716 [1:23:51<8:36:06,  3.71s/it]"
     ]
    },
    {
     "name": "stdout",
     "output_type": "stream",
     "text": [
      "167068 20 23086 143982 [24707, 24706, 24705, 24704, 24703, 24702, 24701, 24700, 24699, 24698, 24697, 24696, 24695, 24694, 24693, 24692, 24691, 24690, 24689, 24688]\n"
     ]
    },
    {
     "name": "stderr",
     "output_type": "stream",
     "text": [
      "\r",
      " 14%|█▍        | 1359/9716 [1:23:54<8:35:59,  3.70s/it]"
     ]
    },
    {
     "name": "stdout",
     "output_type": "stream",
     "text": [
      "167071 20 23103 143965 [24724, 24723, 24722, 24721, 24720, 24719, 24718, 24717, 24716, 24715, 24714, 24713, 24712, 24711, 24710, 24709, 24708, 24707, 24706, 24705]\n"
     ]
    },
    {
     "name": "stderr",
     "output_type": "stream",
     "text": [
      "\r",
      " 14%|█▍        | 1360/9716 [1:23:58<8:35:54,  3.70s/it]"
     ]
    },
    {
     "name": "stdout",
     "output_type": "stream",
     "text": [
      "167071 20 23120 143951 [24741, 24740, 24739, 24738, 24737, 24736, 24735, 24734, 24733, 24732, 24731, 24730, 24729, 24728, 24727, 24726, 24725, 24724, 24723, 24722]\n"
     ]
    },
    {
     "name": "stderr",
     "output_type": "stream",
     "text": [
      "\r",
      " 14%|█▍        | 1361/9716 [1:24:01<8:35:48,  3.70s/it]"
     ]
    },
    {
     "name": "stdout",
     "output_type": "stream",
     "text": [
      "167071 20 23137 143934 [24758, 24757, 24756, 24755, 24754, 24753, 24752, 24751, 24750, 24749, 24748, 24747, 24746, 24745, 24744, 24743, 24742, 24741, 24740, 24739]\n"
     ]
    },
    {
     "name": "stderr",
     "output_type": "stream",
     "text": [
      "\r",
      " 14%|█▍        | 1362/9716 [1:24:04<8:35:42,  3.70s/it]"
     ]
    },
    {
     "name": "stdout",
     "output_type": "stream",
     "text": [
      "167071 20 23154 143917 [24775, 24774, 24773, 24772, 24771, 24770, 24769, 24768, 24767, 24766, 24765, 24764, 24763, 24762, 24761, 24760, 24759, 24758, 24757, 24756]\n"
     ]
    },
    {
     "name": "stderr",
     "output_type": "stream",
     "text": [
      "\r",
      " 14%|█▍        | 1363/9716 [1:24:08<8:35:36,  3.70s/it]"
     ]
    },
    {
     "name": "stdout",
     "output_type": "stream",
     "text": [
      "167071 20 23171 143900 [24792, 24791, 24790, 24789, 24788, 24787, 24786, 24785, 24784, 24783, 24782, 24781, 24780, 24779, 24778, 24777, 24776, 24775, 24774, 24773]\n"
     ]
    },
    {
     "name": "stderr",
     "output_type": "stream",
     "text": [
      "\r",
      " 14%|█▍        | 1364/9716 [1:24:11<8:35:32,  3.70s/it]"
     ]
    },
    {
     "name": "stdout",
     "output_type": "stream",
     "text": [
      "167071 20 23188 143883 [24809, 24808, 24807, 24806, 24805, 24804, 24803, 24802, 24801, 24800, 24799, 24798, 24797, 24796, 24795, 24794, 24793, 24792, 24791, 24790]\n"
     ]
    },
    {
     "name": "stderr",
     "output_type": "stream",
     "text": [
      "\r",
      " 14%|█▍        | 1365/9716 [1:24:14<8:35:26,  3.70s/it]"
     ]
    },
    {
     "name": "stdout",
     "output_type": "stream",
     "text": [
      "167097 20 23205 143866 [24852, 24851, 24850, 24849, 24848, 24847, 24846, 24845, 24844, 24843, 24842, 24841, 24840, 24839, 24838, 24837, 24836, 24835, 24834, 24833]\n"
     ]
    },
    {
     "name": "stderr",
     "output_type": "stream",
     "text": [
      "\r",
      " 14%|█▍        | 1366/9716 [1:24:18<8:35:20,  3.70s/it]"
     ]
    },
    {
     "name": "stdout",
     "output_type": "stream",
     "text": [
      "167097 20 23222 143875 [24843, 24842, 24841, 24840, 24839, 24838, 24837, 24836, 24835, 24834, 24833, 24832, 24831, 24830, 24829, 24828, 24827, 24826, 24825, 24824]\n"
     ]
    },
    {
     "name": "stderr",
     "output_type": "stream",
     "text": [
      "\r",
      " 14%|█▍        | 1367/9716 [1:24:21<8:35:12,  3.70s/it]"
     ]
    },
    {
     "name": "stdout",
     "output_type": "stream",
     "text": [
      "167097 20 23239 143858 [24860, 24859, 24858, 24857, 24856, 24855, 24854, 24853, 24852, 24851, 24850, 24849, 24848, 24847, 24846, 24845, 24844, 24843, 24842, 24841]\n"
     ]
    },
    {
     "name": "stderr",
     "output_type": "stream",
     "text": [
      "\r",
      " 14%|█▍        | 1368/9716 [1:24:24<8:35:05,  3.70s/it]"
     ]
    },
    {
     "name": "stdout",
     "output_type": "stream",
     "text": [
      "167097 20 23256 143841 [24877, 24876, 24875, 24874, 24873, 24872, 24871, 24870, 24869, 24868, 24867, 24866, 24865, 24864, 24863, 24862, 24861, 24860, 24859, 24858]\n"
     ]
    },
    {
     "name": "stderr",
     "output_type": "stream",
     "text": [
      "\r",
      " 14%|█▍        | 1369/9716 [1:24:27<8:34:57,  3.70s/it]"
     ]
    },
    {
     "name": "stdout",
     "output_type": "stream",
     "text": [
      "167097 20 23273 143824 [24894, 24893, 24892, 24891, 24890, 24889, 24888, 24887, 24886, 24885, 24884, 24883, 24882, 24881, 24880, 24879, 24878, 24877, 24876, 24875]\n"
     ]
    },
    {
     "name": "stderr",
     "output_type": "stream",
     "text": [
      "\r",
      " 14%|█▍        | 1370/9716 [1:24:30<8:34:49,  3.70s/it]"
     ]
    },
    {
     "name": "stdout",
     "output_type": "stream",
     "text": [
      "167097 20 23290 143807 [24911, 24910, 24909, 24908, 24907, 24906, 24905, 24904, 24903, 24902, 24901, 24900, 24899, 24898, 24897, 24896, 24895, 24894, 24893, 24892]\n"
     ]
    },
    {
     "name": "stderr",
     "output_type": "stream",
     "text": [
      "\r",
      " 14%|█▍        | 1371/9716 [1:24:33<8:34:40,  3.70s/it]"
     ]
    },
    {
     "name": "stdout",
     "output_type": "stream",
     "text": [
      "167097 20 23307 143790 [24928, 24927, 24926, 24925, 24924, 24923, 24922, 24921, 24920, 24919, 24918, 24917, 24916, 24915, 24914, 24913, 24912, 24911, 24910, 24909]\n"
     ]
    },
    {
     "name": "stderr",
     "output_type": "stream",
     "text": [
      "\r",
      " 14%|█▍        | 1372/9716 [1:24:36<8:34:32,  3.70s/it]"
     ]
    },
    {
     "name": "stdout",
     "output_type": "stream",
     "text": [
      "167097 20 23324 143773 [24945, 24944, 24943, 24942, 24941, 24940, 24939, 24938, 24937, 24936, 24935, 24934, 24933, 24932, 24931, 24930, 24929, 24928, 24927, 24926]\n"
     ]
    },
    {
     "name": "stderr",
     "output_type": "stream",
     "text": [
      "\r",
      " 14%|█▍        | 1373/9716 [1:24:39<8:34:26,  3.70s/it]"
     ]
    },
    {
     "name": "stdout",
     "output_type": "stream",
     "text": [
      "167097 20 23341 143756 [24962, 24961, 24960, 24959, 24958, 24957, 24956, 24955, 24954, 24953, 24952, 24951, 24950, 24949, 24948, 24947, 24946, 24945, 24944, 24943]\n"
     ]
    },
    {
     "name": "stderr",
     "output_type": "stream",
     "text": [
      "\r",
      " 14%|█▍        | 1374/9716 [1:24:42<8:34:19,  3.70s/it]"
     ]
    },
    {
     "name": "stdout",
     "output_type": "stream",
     "text": [
      "167097 20 23358 143739 [24979, 24978, 24977, 24976, 24975, 24974, 24973, 24972, 24971, 24970, 24969, 24968, 24967, 24966, 24965, 24964, 24963, 24962, 24961, 24960]\n"
     ]
    },
    {
     "name": "stderr",
     "output_type": "stream",
     "text": [
      "\r",
      " 14%|█▍        | 1375/9716 [1:24:46<8:34:14,  3.70s/it]"
     ]
    },
    {
     "name": "stdout",
     "output_type": "stream",
     "text": [
      "167097 20 23375 143722 [24996, 24995, 24994, 24993, 24992, 24991, 24990, 24989, 24988, 24987, 24986, 24985, 24984, 24983, 24982, 24981, 24980, 24979, 24978, 24977]\n"
     ]
    },
    {
     "name": "stderr",
     "output_type": "stream",
     "text": [
      "\r",
      " 14%|█▍        | 1376/9716 [1:24:49<8:34:06,  3.70s/it]"
     ]
    },
    {
     "name": "stdout",
     "output_type": "stream",
     "text": [
      "167097 20 23392 143705 [25013, 25012, 25011, 25010, 25009, 25008, 25007, 25006, 25005, 25004, 25003, 25002, 25001, 25000, 24999, 24998, 24997, 24996, 24995, 24994]\n"
     ]
    },
    {
     "name": "stderr",
     "output_type": "stream",
     "text": [
      "\r",
      " 14%|█▍        | 1377/9716 [1:24:52<8:33:57,  3.70s/it]"
     ]
    },
    {
     "name": "stdout",
     "output_type": "stream",
     "text": [
      "167097 20 23409 143688 [25030, 25029, 25028, 25027, 25026, 25025, 25024, 25023, 25022, 25021, 25020, 25019, 25018, 25017, 25016, 25015, 25014, 25013, 25012, 25011]\n"
     ]
    },
    {
     "name": "stderr",
     "output_type": "stream",
     "text": [
      "\r",
      " 14%|█▍        | 1378/9716 [1:24:55<8:33:50,  3.70s/it]"
     ]
    },
    {
     "name": "stdout",
     "output_type": "stream",
     "text": [
      "167097 20 23426 143671 [25047, 25046, 25045, 25044, 25043, 25042, 25041, 25040, 25039, 25038, 25037, 25036, 25035, 25034, 25033, 25032, 25031, 25030, 25029, 25028]\n"
     ]
    },
    {
     "name": "stderr",
     "output_type": "stream",
     "text": [
      "\r",
      " 14%|█▍        | 1379/9716 [1:24:58<8:33:42,  3.70s/it]"
     ]
    },
    {
     "name": "stdout",
     "output_type": "stream",
     "text": [
      "167097 20 23443 143654 [25064, 25063, 25062, 25061, 25060, 25059, 25058, 25057, 25056, 25055, 25054, 25053, 25052, 25051, 25050, 25049, 25048, 25047, 25046, 25045]\n"
     ]
    },
    {
     "name": "stderr",
     "output_type": "stream",
     "text": [
      "\r",
      " 14%|█▍        | 1380/9716 [1:25:01<8:33:35,  3.70s/it]"
     ]
    },
    {
     "name": "stdout",
     "output_type": "stream",
     "text": [
      "167097 20 23460 143637 [25081, 25080, 25079, 25078, 25077, 25076, 25075, 25074, 25073, 25072, 25071, 25070, 25069, 25068, 25067, 25066, 25065, 25064, 25063, 25062]\n"
     ]
    },
    {
     "name": "stderr",
     "output_type": "stream",
     "text": [
      "\r",
      " 14%|█▍        | 1381/9716 [1:25:04<8:33:29,  3.70s/it]"
     ]
    },
    {
     "name": "stdout",
     "output_type": "stream",
     "text": [
      "167097 20 23477 143620 [25098, 25097, 25096, 25095, 25094, 25093, 25092, 25091, 25090, 25089, 25088, 25087, 25086, 25085, 25084, 25083, 25082, 25081, 25080, 25079]\n"
     ]
    },
    {
     "name": "stderr",
     "output_type": "stream",
     "text": [
      "\r",
      " 14%|█▍        | 1382/9716 [1:25:07<8:33:23,  3.70s/it]"
     ]
    },
    {
     "name": "stdout",
     "output_type": "stream",
     "text": [
      "167104 20 23494 143603 [25115, 25114, 25113, 25112, 25111, 25110, 25109, 25108, 25107, 25106, 25105, 25104, 25103, 25102, 25101, 25100, 25099, 25098, 25097, 25096]\n"
     ]
    },
    {
     "name": "stderr",
     "output_type": "stream",
     "text": [
      "\r",
      " 14%|█▍        | 1383/9716 [1:25:10<8:33:14,  3.70s/it]"
     ]
    },
    {
     "name": "stdout",
     "output_type": "stream",
     "text": [
      "167104 20 23511 143593 [25132, 25131, 25130, 25129, 25128, 25127, 25126, 25125, 25124, 25123, 25122, 25121, 25120, 25119, 25118, 25117, 25116, 25115, 25114, 25113]\n"
     ]
    },
    {
     "name": "stderr",
     "output_type": "stream",
     "text": [
      "\r",
      " 14%|█▍        | 1384/9716 [1:25:13<8:33:07,  3.70s/it]"
     ]
    },
    {
     "name": "stdout",
     "output_type": "stream",
     "text": [
      "167104 20 23528 143576 [25149, 25148, 25147, 25146, 25145, 25144, 25143, 25142, 25141, 25140, 25139, 25138, 25137, 25136, 25135, 25134, 25133, 25132, 25131, 25130]\n"
     ]
    },
    {
     "name": "stderr",
     "output_type": "stream",
     "text": [
      "\r",
      " 14%|█▍        | 1385/9716 [1:25:17<8:32:59,  3.69s/it]"
     ]
    },
    {
     "name": "stdout",
     "output_type": "stream",
     "text": [
      "167104 20 23545 143559 [25166, 25165, 25164, 25163, 25162, 25161, 25160, 25159, 25158, 25157, 25156, 25155, 25154, 25153, 25152, 25151, 25150, 25149, 25148, 25147]\n"
     ]
    },
    {
     "name": "stderr",
     "output_type": "stream",
     "text": [
      "\r",
      " 14%|█▍        | 1386/9716 [1:25:20<8:32:53,  3.69s/it]"
     ]
    },
    {
     "name": "stdout",
     "output_type": "stream",
     "text": [
      "167104 20 23562 143542 [25183, 25182, 25181, 25180, 25179, 25178, 25177, 25176, 25175, 25174, 25173, 25172, 25171, 25170, 25169, 25168, 25167, 25166, 25165, 25164]\n"
     ]
    },
    {
     "name": "stderr",
     "output_type": "stream",
     "text": [
      "\r",
      " 14%|█▍        | 1387/9716 [1:25:23<8:32:44,  3.69s/it]"
     ]
    },
    {
     "name": "stdout",
     "output_type": "stream",
     "text": [
      "167104 20 23579 143525 [25200, 25199, 25198, 25197, 25196, 25195, 25194, 25193, 25192, 25191, 25190, 25189, 25188, 25187, 25186, 25185, 25184, 25183, 25182, 25181]\n"
     ]
    },
    {
     "name": "stderr",
     "output_type": "stream",
     "text": [
      "\r",
      " 14%|█▍        | 1388/9716 [1:25:27<8:32:42,  3.69s/it]"
     ]
    },
    {
     "name": "stdout",
     "output_type": "stream",
     "text": [
      "167111 20 23596 143508 [25217, 25216, 25215, 25214, 25213, 25212, 25211, 25210, 25209, 25208, 25207, 25206, 25205, 25204, 25203, 25202, 25201, 25200, 25199, 25198]\n"
     ]
    },
    {
     "name": "stderr",
     "output_type": "stream",
     "text": [
      "\r",
      " 14%|█▍        | 1389/9716 [1:25:30<8:32:36,  3.69s/it]"
     ]
    },
    {
     "name": "stdout",
     "output_type": "stream",
     "text": [
      "167111 20 23613 143498 [25234, 25233, 25232, 25231, 25230, 25229, 25228, 25227, 25226, 25225, 25224, 25223, 25222, 25221, 25220, 25219, 25218, 25217, 25216, 25215]\n"
     ]
    },
    {
     "name": "stderr",
     "output_type": "stream",
     "text": [
      "\r",
      " 14%|█▍        | 1390/9716 [1:25:34<8:32:34,  3.69s/it]"
     ]
    },
    {
     "name": "stdout",
     "output_type": "stream",
     "text": [
      "167111 20 23630 143481 [25251, 25250, 25249, 25248, 25247, 25246, 25245, 25244, 25243, 25242, 25241, 25240, 25239, 25238, 25237, 25236, 25235, 25234, 25233, 25232]\n"
     ]
    },
    {
     "name": "stderr",
     "output_type": "stream",
     "text": [
      "\r",
      " 14%|█▍        | 1391/9716 [1:25:38<8:32:30,  3.69s/it]"
     ]
    },
    {
     "name": "stdout",
     "output_type": "stream",
     "text": [
      "167111 20 23647 143464 [25268, 25267, 25266, 25265, 25264, 25263, 25262, 25261, 25260, 25259, 25258, 25257, 25256, 25255, 25254, 25253, 25252, 25251, 25250, 25249]\n"
     ]
    },
    {
     "name": "stderr",
     "output_type": "stream",
     "text": [
      "\r",
      " 14%|█▍        | 1392/9716 [1:25:41<8:32:26,  3.69s/it]"
     ]
    },
    {
     "name": "stdout",
     "output_type": "stream",
     "text": [
      "167117 20 23664 143447 [25285, 25284, 25283, 25282, 25281, 25280, 25279, 25278, 25277, 25276, 25275, 25274, 25273, 25272, 25271, 25270, 25269, 25268, 25267, 25266]\n"
     ]
    },
    {
     "name": "stderr",
     "output_type": "stream",
     "text": [
      "\r",
      " 14%|█▍        | 1393/9716 [1:25:45<8:32:24,  3.69s/it]"
     ]
    },
    {
     "name": "stdout",
     "output_type": "stream",
     "text": [
      "167117 20 23681 143436 [25302, 25301, 25300, 25299, 25298, 25297, 25296, 25295, 25294, 25293, 25292, 25291, 25290, 25289, 25288, 25287, 25286, 25285, 25284, 25283]\n"
     ]
    },
    {
     "name": "stderr",
     "output_type": "stream",
     "text": [
      "\r",
      " 14%|█▍        | 1394/9716 [1:25:49<8:32:19,  3.69s/it]"
     ]
    },
    {
     "name": "stdout",
     "output_type": "stream",
     "text": [
      "167117 20 23698 143419 [25319, 25318, 25317, 25316, 25315, 25314, 25313, 25312, 25311, 25310, 25309, 25308, 25307, 25306, 25305, 25304, 25303, 25302, 25301, 25300]\n"
     ]
    },
    {
     "name": "stderr",
     "output_type": "stream",
     "text": [
      "\r",
      " 14%|█▍        | 1395/9716 [1:25:52<8:32:14,  3.69s/it]"
     ]
    },
    {
     "name": "stdout",
     "output_type": "stream",
     "text": [
      "167117 20 23715 143402 [25336, 25335, 25334, 25333, 25332, 25331, 25330, 25329, 25328, 25327, 25326, 25325, 25324, 25323, 25322, 25321, 25320, 25319, 25318, 25317]\n"
     ]
    },
    {
     "name": "stderr",
     "output_type": "stream",
     "text": [
      "\r",
      " 14%|█▍        | 1396/9716 [1:25:56<8:32:09,  3.69s/it]"
     ]
    },
    {
     "name": "stdout",
     "output_type": "stream",
     "text": [
      "167122 20 23732 143385 [25353, 25352, 25351, 25350, 25349, 25348, 25347, 25346, 25345, 25344, 25343, 25342, 25341, 25340, 25339, 25338, 25337, 25336, 25335, 25334]\n"
     ]
    },
    {
     "name": "stderr",
     "output_type": "stream",
     "text": [
      "\r",
      " 14%|█▍        | 1397/9716 [1:25:59<8:32:05,  3.69s/it]"
     ]
    },
    {
     "name": "stdout",
     "output_type": "stream",
     "text": [
      "167122 20 23749 143373 [25370, 25369, 25368, 25367, 25366, 25365, 25364, 25363, 25362, 25361, 25360, 25359, 25358, 25357, 25356, 25355, 25354, 25353, 25352, 25351]\n"
     ]
    },
    {
     "name": "stderr",
     "output_type": "stream",
     "text": [
      "\r",
      " 14%|█▍        | 1398/9716 [1:26:03<8:32:02,  3.69s/it]"
     ]
    },
    {
     "name": "stdout",
     "output_type": "stream",
     "text": [
      "167122 20 23766 143356 [25387, 25386, 25385, 25384, 25383, 25382, 25381, 25380, 25379, 25378, 25377, 25376, 25375, 25374, 25373, 25372, 25371, 25370, 25369, 25368]\n"
     ]
    },
    {
     "name": "stderr",
     "output_type": "stream",
     "text": [
      "\r",
      " 14%|█▍        | 1399/9716 [1:26:07<8:31:58,  3.69s/it]"
     ]
    },
    {
     "name": "stdout",
     "output_type": "stream",
     "text": [
      "167122 20 23783 143339 [25404, 25403, 25402, 25401, 25400, 25399, 25398, 25397, 25396, 25395, 25394, 25393, 25392, 25391, 25390, 25389, 25388, 25387, 25386, 25385]\n"
     ]
    },
    {
     "name": "stderr",
     "output_type": "stream",
     "text": [
      "\r",
      " 14%|█▍        | 1400/9716 [1:26:10<8:31:53,  3.69s/it]"
     ]
    },
    {
     "name": "stdout",
     "output_type": "stream",
     "text": [
      "167122 20 23800 143322 [25421, 25420, 25419, 25418, 25417, 25416, 25415, 25414, 25413, 25412, 25411, 25410, 25409, 25408, 25407, 25406, 25405, 25404, 25403, 25402]\n"
     ]
    },
    {
     "name": "stderr",
     "output_type": "stream",
     "text": [
      "\r",
      " 14%|█▍        | 1401/9716 [1:26:14<8:31:53,  3.69s/it]"
     ]
    },
    {
     "name": "stdout",
     "output_type": "stream",
     "text": [
      "167122 20 23817 143305 [25438, 25437, 25436, 25435, 25434, 25433, 25432, 25431, 25430, 25429, 25428, 25427, 25426, 25425, 25424, 25423, 25422, 25421, 25420, 25419]\n"
     ]
    },
    {
     "name": "stderr",
     "output_type": "stream",
     "text": [
      "\r",
      " 14%|█▍        | 1402/9716 [1:26:18<8:31:51,  3.69s/it]"
     ]
    },
    {
     "name": "stdout",
     "output_type": "stream",
     "text": [
      "167122 20 23834 143288 [25455, 25454, 25453, 25452, 25451, 25450, 25449, 25448, 25447, 25446, 25445, 25444, 25443, 25442, 25441, 25440, 25439, 25438, 25437, 25436]\n"
     ]
    },
    {
     "name": "stderr",
     "output_type": "stream",
     "text": [
      "\r",
      " 14%|█▍        | 1403/9716 [1:26:22<8:31:45,  3.69s/it]"
     ]
    },
    {
     "name": "stdout",
     "output_type": "stream",
     "text": [
      "167122 20 23851 143271 [25472, 25471, 25470, 25469, 25468, 25467, 25466, 25465, 25464, 25463, 25462, 25461, 25460, 25459, 25458, 25457, 25456, 25455, 25454, 25453]\n"
     ]
    },
    {
     "name": "stderr",
     "output_type": "stream",
     "text": [
      "\r",
      " 14%|█▍        | 1404/9716 [1:26:26<8:31:42,  3.69s/it]"
     ]
    },
    {
     "name": "stdout",
     "output_type": "stream",
     "text": [
      "167122 20 23868 143254 [25489, 25488, 25487, 25486, 25485, 25484, 25483, 25482, 25481, 25480, 25479, 25478, 25477, 25476, 25475, 25474, 25473, 25472, 25471, 25470]\n"
     ]
    },
    {
     "name": "stderr",
     "output_type": "stream",
     "text": [
      "\r",
      " 14%|█▍        | 1405/9716 [1:26:29<8:31:37,  3.69s/it]"
     ]
    },
    {
     "name": "stdout",
     "output_type": "stream",
     "text": [
      "167122 20 23885 143237 [25506, 25505, 25504, 25503, 25502, 25501, 25500, 25499, 25498, 25497, 25496, 25495, 25494, 25493, 25492, 25491, 25490, 25489, 25488, 25487]\n"
     ]
    },
    {
     "name": "stderr",
     "output_type": "stream",
     "text": [
      "\r",
      " 14%|█▍        | 1406/9716 [1:26:33<8:31:33,  3.69s/it]"
     ]
    },
    {
     "name": "stdout",
     "output_type": "stream",
     "text": [
      "167122 20 23902 143220 [25523, 25522, 25521, 25520, 25519, 25518, 25517, 25516, 25515, 25514, 25513, 25512, 25511, 25510, 25509, 25508, 25507, 25506, 25505, 25504]\n"
     ]
    },
    {
     "name": "stderr",
     "output_type": "stream",
     "text": [
      "\r",
      " 14%|█▍        | 1407/9716 [1:26:36<8:31:29,  3.69s/it]"
     ]
    },
    {
     "name": "stdout",
     "output_type": "stream",
     "text": [
      "167122 20 23919 143203 [25540, 25539, 25538, 25537, 25536, 25535, 25534, 25533, 25532, 25531, 25530, 25529, 25528, 25527, 25526, 25525, 25524, 25523, 25522, 25521]\n"
     ]
    },
    {
     "name": "stderr",
     "output_type": "stream",
     "text": [
      "\r",
      " 14%|█▍        | 1408/9716 [1:26:40<8:31:25,  3.69s/it]"
     ]
    },
    {
     "name": "stdout",
     "output_type": "stream",
     "text": [
      "167133 20 23936 143186 [25566, 25565, 25564, 25563, 25562, 25561, 25560, 25559, 25558, 25557, 25556, 25555, 25554, 25553, 25552, 25551, 25550, 25549, 25548, 25547]\n"
     ]
    },
    {
     "name": "stderr",
     "output_type": "stream",
     "text": [
      "\r",
      " 15%|█▍        | 1409/9716 [1:26:44<8:31:24,  3.69s/it]"
     ]
    },
    {
     "name": "stdout",
     "output_type": "stream",
     "text": [
      "167133 20 23953 143180 [25574, 25573, 25572, 25571, 25570, 25569, 25568, 25567, 25566, 25565, 25564, 25563, 25562, 25561, 25560, 25559, 25558, 25557, 25556, 25555]\n"
     ]
    },
    {
     "name": "stderr",
     "output_type": "stream",
     "text": [
      "\r",
      " 15%|█▍        | 1410/9716 [1:26:48<8:31:21,  3.69s/it]"
     ]
    },
    {
     "name": "stdout",
     "output_type": "stream",
     "text": [
      "167133 20 23970 143163 [25591, 25590, 25589, 25588, 25587, 25586, 25585, 25584, 25583, 25582, 25581, 25580, 25579, 25578, 25577, 25576, 25575, 25574, 25573, 25572]\n"
     ]
    },
    {
     "name": "stderr",
     "output_type": "stream",
     "text": [
      "\r",
      " 15%|█▍        | 1411/9716 [1:26:51<8:31:14,  3.69s/it]"
     ]
    },
    {
     "name": "stdout",
     "output_type": "stream",
     "text": [
      "167133 20 23987 143146 [25608, 25607, 25606, 25605, 25604, 25603, 25602, 25601, 25600, 25599, 25598, 25597, 25596, 25595, 25594, 25593, 25592, 25591, 25590, 25589]\n"
     ]
    },
    {
     "name": "stderr",
     "output_type": "stream",
     "text": [
      "\r",
      " 15%|█▍        | 1412/9716 [1:26:54<8:31:06,  3.69s/it]"
     ]
    },
    {
     "name": "stdout",
     "output_type": "stream",
     "text": [
      "167133 20 24004 143129 [25625, 25624, 25623, 25622, 25621, 25620, 25619, 25618, 25617, 25616, 25615, 25614, 25613, 25612, 25611, 25610, 25609, 25608, 25607, 25606]\n"
     ]
    },
    {
     "name": "stderr",
     "output_type": "stream",
     "text": [
      "\r",
      " 15%|█▍        | 1413/9716 [1:26:57<8:30:59,  3.69s/it]"
     ]
    },
    {
     "name": "stdout",
     "output_type": "stream",
     "text": [
      "167133 20 24021 143112 [25642, 25641, 25640, 25639, 25638, 25637, 25636, 25635, 25634, 25633, 25632, 25631, 25630, 25629, 25628, 25627, 25626, 25625, 25624, 25623]\n"
     ]
    },
    {
     "name": "stderr",
     "output_type": "stream",
     "text": [
      "\r",
      " 15%|█▍        | 1414/9716 [1:27:00<8:30:53,  3.69s/it]"
     ]
    },
    {
     "name": "stdout",
     "output_type": "stream",
     "text": [
      "167147 20 24038 143095 [25660, 25659, 25658, 25657, 25656, 25655, 25654, 25653, 25652, 25651, 25650, 25649, 25648, 25647, 25646, 25645, 25644, 25643, 25642, 25641]\n"
     ]
    },
    {
     "name": "stderr",
     "output_type": "stream",
     "text": [
      "\r",
      " 15%|█▍        | 1415/9716 [1:27:04<8:30:46,  3.69s/it]"
     ]
    },
    {
     "name": "stdout",
     "output_type": "stream",
     "text": [
      "167147 20 24055 143092 [25676, 25675, 25674, 25673, 25672, 25671, 25670, 25669, 25668, 25667, 25666, 25665, 25664, 25663, 25662, 25661, 25660, 25659, 25658, 25657]\n"
     ]
    },
    {
     "name": "stderr",
     "output_type": "stream",
     "text": [
      "\r",
      " 15%|█▍        | 1416/9716 [1:27:07<8:30:42,  3.69s/it]"
     ]
    },
    {
     "name": "stdout",
     "output_type": "stream",
     "text": [
      "167147 20 24072 143075 [25693, 25692, 25691, 25690, 25689, 25688, 25687, 25686, 25685, 25684, 25683, 25682, 25681, 25680, 25679, 25678, 25677, 25676, 25675, 25674]\n"
     ]
    },
    {
     "name": "stderr",
     "output_type": "stream",
     "text": [
      "\r",
      " 15%|█▍        | 1417/9716 [1:27:10<8:30:34,  3.69s/it]"
     ]
    },
    {
     "name": "stdout",
     "output_type": "stream",
     "text": [
      "167147 20 24089 143058 [25710, 25709, 25708, 25707, 25706, 25705, 25704, 25703, 25702, 25701, 25700, 25699, 25698, 25697, 25696, 25695, 25694, 25693, 25692, 25691]\n"
     ]
    },
    {
     "name": "stderr",
     "output_type": "stream",
     "text": [
      "\r",
      " 15%|█▍        | 1418/9716 [1:27:13<8:30:26,  3.69s/it]"
     ]
    },
    {
     "name": "stdout",
     "output_type": "stream",
     "text": [
      "167147 20 24106 143041 [25727, 25726, 25725, 25724, 25723, 25722, 25721, 25720, 25719, 25718, 25717, 25716, 25715, 25714, 25713, 25712, 25711, 25710, 25709, 25708]\n"
     ]
    },
    {
     "name": "stderr",
     "output_type": "stream",
     "text": [
      "\r",
      " 15%|█▍        | 1419/9716 [1:27:16<8:30:19,  3.69s/it]"
     ]
    },
    {
     "name": "stdout",
     "output_type": "stream",
     "text": [
      "167147 20 24123 143024 [25744, 25743, 25742, 25741, 25740, 25739, 25738, 25737, 25736, 25735, 25734, 25733, 25732, 25731, 25730, 25729, 25728, 25727, 25726, 25725]\n"
     ]
    },
    {
     "name": "stderr",
     "output_type": "stream",
     "text": [
      "\r",
      " 15%|█▍        | 1420/9716 [1:27:19<8:30:12,  3.69s/it]"
     ]
    },
    {
     "name": "stdout",
     "output_type": "stream",
     "text": [
      "167147 20 24140 143007 [25761, 25760, 25759, 25758, 25757, 25756, 25755, 25754, 25753, 25752, 25751, 25750, 25749, 25748, 25747, 25746, 25745, 25744, 25743, 25742]\n"
     ]
    },
    {
     "name": "stderr",
     "output_type": "stream",
     "text": [
      "\r",
      " 15%|█▍        | 1421/9716 [1:27:23<8:30:06,  3.69s/it]"
     ]
    },
    {
     "name": "stdout",
     "output_type": "stream",
     "text": [
      "167147 20 24157 142990 [25778, 25777, 25776, 25775, 25774, 25773, 25772, 25771, 25770, 25769, 25768, 25767, 25766, 25765, 25764, 25763, 25762, 25761, 25760, 25759]\n"
     ]
    },
    {
     "name": "stderr",
     "output_type": "stream",
     "text": [
      "\r",
      " 15%|█▍        | 1422/9716 [1:27:26<8:29:59,  3.69s/it]"
     ]
    },
    {
     "name": "stdout",
     "output_type": "stream",
     "text": [
      "167147 20 24174 142973 [25795, 25794, 25793, 25792, 25791, 25790, 25789, 25788, 25787, 25786, 25785, 25784, 25783, 25782, 25781, 25780, 25779, 25778, 25777, 25776]\n"
     ]
    },
    {
     "name": "stderr",
     "output_type": "stream",
     "text": [
      "\r",
      " 15%|█▍        | 1423/9716 [1:27:29<8:29:52,  3.69s/it]"
     ]
    },
    {
     "name": "stdout",
     "output_type": "stream",
     "text": [
      "167147 20 24191 142956 [25812, 25811, 25810, 25809, 25808, 25807, 25806, 25805, 25804, 25803, 25802, 25801, 25800, 25799, 25798, 25797, 25796, 25795, 25794, 25793]\n"
     ]
    },
    {
     "name": "stderr",
     "output_type": "stream",
     "text": [
      "\r",
      " 15%|█▍        | 1424/9716 [1:27:32<8:29:43,  3.69s/it]"
     ]
    },
    {
     "name": "stdout",
     "output_type": "stream",
     "text": [
      "167149 20 24208 142939 [25829, 25828, 25827, 25826, 25825, 25824, 25823, 25822, 25821, 25820, 25819, 25818, 25817, 25816, 25815, 25814, 25813, 25812, 25811, 25810]\n"
     ]
    },
    {
     "name": "stderr",
     "output_type": "stream",
     "text": [
      "\r",
      " 15%|█▍        | 1425/9716 [1:27:35<8:29:36,  3.69s/it]"
     ]
    },
    {
     "name": "stdout",
     "output_type": "stream",
     "text": [
      "167149 20 24225 142924 [25846, 25845, 25844, 25843, 25842, 25841, 25840, 25839, 25838, 25837, 25836, 25835, 25834, 25833, 25832, 25831, 25830, 25829, 25828, 25827]\n"
     ]
    },
    {
     "name": "stderr",
     "output_type": "stream",
     "text": [
      "\r",
      " 15%|█▍        | 1426/9716 [1:27:38<8:29:28,  3.69s/it]"
     ]
    },
    {
     "name": "stdout",
     "output_type": "stream",
     "text": [
      "167149 20 24242 142907 [25863, 25862, 25861, 25860, 25859, 25858, 25857, 25856, 25855, 25854, 25853, 25852, 25851, 25850, 25849, 25848, 25847, 25846, 25845, 25844]\n"
     ]
    },
    {
     "name": "stderr",
     "output_type": "stream",
     "text": [
      "\r",
      " 15%|█▍        | 1427/9716 [1:27:41<8:29:21,  3.69s/it]"
     ]
    },
    {
     "name": "stdout",
     "output_type": "stream",
     "text": [
      "167149 20 24259 142890 [25880, 25879, 25878, 25877, 25876, 25875, 25874, 25873, 25872, 25871, 25870, 25869, 25868, 25867, 25866, 25865, 25864, 25863, 25862, 25861]\n"
     ]
    },
    {
     "name": "stderr",
     "output_type": "stream",
     "text": [
      "\r",
      " 15%|█▍        | 1428/9716 [1:27:44<8:29:15,  3.69s/it]"
     ]
    },
    {
     "name": "stdout",
     "output_type": "stream",
     "text": [
      "167157 20 24276 142873 [25897, 25896, 25895, 25894, 25893, 25892, 25891, 25890, 25889, 25888, 25887, 25886, 25885, 25884, 25883, 25882, 25881, 25880, 25879, 25878]\n"
     ]
    },
    {
     "name": "stderr",
     "output_type": "stream",
     "text": [
      "\r",
      " 15%|█▍        | 1429/9716 [1:27:47<8:29:07,  3.69s/it]"
     ]
    },
    {
     "name": "stdout",
     "output_type": "stream",
     "text": [
      "167157 20 24293 142864 [25914, 25913, 25912, 25911, 25910, 25909, 25908, 25907, 25906, 25905, 25904, 25903, 25902, 25901, 25900, 25899, 25898, 25897, 25896, 25895]\n"
     ]
    },
    {
     "name": "stderr",
     "output_type": "stream",
     "text": [
      "\r",
      " 15%|█▍        | 1430/9716 [1:27:50<8:29:01,  3.69s/it]"
     ]
    },
    {
     "name": "stdout",
     "output_type": "stream",
     "text": [
      "167157 20 24310 142847 [25931, 25930, 25929, 25928, 25927, 25926, 25925, 25924, 25923, 25922, 25921, 25920, 25919, 25918, 25917, 25916, 25915, 25914, 25913, 25912]\n"
     ]
    },
    {
     "name": "stderr",
     "output_type": "stream",
     "text": [
      "\r",
      " 15%|█▍        | 1431/9716 [1:27:53<8:28:54,  3.69s/it]"
     ]
    },
    {
     "name": "stdout",
     "output_type": "stream",
     "text": [
      "167162 20 24327 142830 [25948, 25947, 25946, 25945, 25944, 25943, 25942, 25941, 25940, 25939, 25938, 25937, 25936, 25935, 25934, 25933, 25932, 25931, 25930, 25929]\n"
     ]
    },
    {
     "name": "stderr",
     "output_type": "stream",
     "text": [
      "\r",
      " 15%|█▍        | 1432/9716 [1:27:56<8:28:46,  3.69s/it]"
     ]
    },
    {
     "name": "stdout",
     "output_type": "stream",
     "text": [
      "167170 20 24344 142818 [25973, 25972, 25971, 25970, 25969, 25968, 25967, 25966, 25965, 25964, 25963, 25962, 25961, 25960, 25959, 25958, 25957, 25956, 25955, 25954]\n"
     ]
    },
    {
     "name": "stderr",
     "output_type": "stream",
     "text": [
      "\r",
      " 15%|█▍        | 1433/9716 [1:28:00<8:28:40,  3.68s/it]"
     ]
    },
    {
     "name": "stdout",
     "output_type": "stream",
     "text": [
      "167170 20 24361 142809 [25982, 25981, 25980, 25979, 25978, 25977, 25976, 25975, 25974, 25973, 25972, 25971, 25970, 25969, 25968, 25967, 25966, 25965, 25964, 25963]\n"
     ]
    },
    {
     "name": "stderr",
     "output_type": "stream",
     "text": [
      "\r",
      " 15%|█▍        | 1434/9716 [1:28:03<8:28:32,  3.68s/it]"
     ]
    },
    {
     "name": "stdout",
     "output_type": "stream",
     "text": [
      "167170 20 24378 142792 [25999, 25998, 25997, 25996, 25995, 25994, 25993, 25992, 25991, 25990, 25989, 25988, 25987, 25986, 25985, 25984, 25983, 25982, 25981, 25980]\n"
     ]
    },
    {
     "name": "stderr",
     "output_type": "stream",
     "text": [
      "\r",
      " 15%|█▍        | 1435/9716 [1:28:06<8:28:25,  3.68s/it]"
     ]
    },
    {
     "name": "stdout",
     "output_type": "stream",
     "text": [
      "167170 20 24395 142775 [26016, 26015, 26014, 26013, 26012, 26011, 26010, 26009, 26008, 26007, 26006, 26005, 26004, 26003, 26002, 26001, 26000, 25999, 25998, 25997]\n"
     ]
    },
    {
     "name": "stderr",
     "output_type": "stream",
     "text": [
      "\r",
      " 15%|█▍        | 1436/9716 [1:28:09<8:28:19,  3.68s/it]"
     ]
    },
    {
     "name": "stdout",
     "output_type": "stream",
     "text": [
      "167170 20 24412 142758 [26033, 26032, 26031, 26030, 26029, 26028, 26027, 26026, 26025, 26024, 26023, 26022, 26021, 26020, 26019, 26018, 26017, 26016, 26015, 26014]\n"
     ]
    },
    {
     "name": "stderr",
     "output_type": "stream",
     "text": [
      "\r",
      " 15%|█▍        | 1437/9716 [1:28:13<8:28:15,  3.68s/it]"
     ]
    },
    {
     "name": "stdout",
     "output_type": "stream",
     "text": [
      "167170 20 24429 142741 [26050, 26049, 26048, 26047, 26046, 26045, 26044, 26043, 26042, 26041, 26040, 26039, 26038, 26037, 26036, 26035, 26034, 26033, 26032, 26031]\n"
     ]
    },
    {
     "name": "stderr",
     "output_type": "stream",
     "text": [
      "\r",
      " 15%|█▍        | 1438/9716 [1:28:16<8:28:10,  3.68s/it]"
     ]
    },
    {
     "name": "stdout",
     "output_type": "stream",
     "text": [
      "167181 20 24446 142724 [26067, 26066, 26065, 26064, 26063, 26062, 26061, 26060, 26059, 26058, 26057, 26056, 26055, 26054, 26053, 26052, 26051, 26050, 26049, 26048]\n"
     ]
    },
    {
     "name": "stderr",
     "output_type": "stream",
     "text": [
      "\r",
      " 15%|█▍        | 1439/9716 [1:28:19<8:28:04,  3.68s/it]"
     ]
    },
    {
     "name": "stdout",
     "output_type": "stream",
     "text": [
      "167181 20 24463 142718 [26084, 26083, 26082, 26081, 26080, 26079, 26078, 26077, 26076, 26075, 26074, 26073, 26072, 26071, 26070, 26069, 26068, 26067, 26066, 26065]\n"
     ]
    },
    {
     "name": "stderr",
     "output_type": "stream",
     "text": [
      "\r",
      " 15%|█▍        | 1440/9716 [1:28:23<8:27:59,  3.68s/it]"
     ]
    },
    {
     "name": "stdout",
     "output_type": "stream",
     "text": [
      "167181 20 24480 142701 [26101, 26100, 26099, 26098, 26097, 26096, 26095, 26094, 26093, 26092, 26091, 26090, 26089, 26088, 26087, 26086, 26085, 26084, 26083, 26082]\n"
     ]
    },
    {
     "name": "stderr",
     "output_type": "stream",
     "text": [
      "\r",
      " 15%|█▍        | 1441/9716 [1:28:26<8:27:53,  3.68s/it]"
     ]
    },
    {
     "name": "stdout",
     "output_type": "stream",
     "text": [
      "167181 20 24497 142684 [26118, 26117, 26116, 26115, 26114, 26113, 26112, 26111, 26110, 26109, 26108, 26107, 26106, 26105, 26104, 26103, 26102, 26101, 26100, 26099]\n"
     ]
    },
    {
     "name": "stderr",
     "output_type": "stream",
     "text": [
      "\r",
      " 15%|█▍        | 1442/9716 [1:28:29<8:27:45,  3.68s/it]"
     ]
    },
    {
     "name": "stdout",
     "output_type": "stream",
     "text": [
      "167181 20 24514 142667 [26135, 26134, 26133, 26132, 26131, 26130, 26129, 26128, 26127, 26126, 26125, 26124, 26123, 26122, 26121, 26120, 26119, 26118, 26117, 26116]\n"
     ]
    },
    {
     "name": "stderr",
     "output_type": "stream",
     "text": [
      "\r",
      " 15%|█▍        | 1443/9716 [1:28:32<8:27:38,  3.68s/it]"
     ]
    },
    {
     "name": "stdout",
     "output_type": "stream",
     "text": [
      "167181 20 24531 142650 [26152, 26151, 26150, 26149, 26148, 26147, 26146, 26145, 26144, 26143, 26142, 26141, 26140, 26139, 26138, 26137, 26136, 26135, 26134, 26133]\n"
     ]
    },
    {
     "name": "stderr",
     "output_type": "stream",
     "text": [
      "\r",
      " 15%|█▍        | 1444/9716 [1:28:36<8:27:33,  3.68s/it]"
     ]
    },
    {
     "name": "stdout",
     "output_type": "stream",
     "text": [
      "167181 20 24548 142633 [26169, 26168, 26167, 26166, 26165, 26164, 26163, 26162, 26161, 26160, 26159, 26158, 26157, 26156, 26155, 26154, 26153, 26152, 26151, 26150]\n"
     ]
    },
    {
     "name": "stderr",
     "output_type": "stream",
     "text": [
      "\r",
      " 15%|█▍        | 1445/9716 [1:28:39<8:27:27,  3.68s/it]"
     ]
    },
    {
     "name": "stdout",
     "output_type": "stream",
     "text": [
      "167181 20 24565 142616 [26186, 26185, 26184, 26183, 26182, 26181, 26180, 26179, 26178, 26177, 26176, 26175, 26174, 26173, 26172, 26171, 26170, 26169, 26168, 26167]\n"
     ]
    },
    {
     "name": "stderr",
     "output_type": "stream",
     "text": [
      "\r",
      " 15%|█▍        | 1446/9716 [1:28:42<8:27:20,  3.68s/it]"
     ]
    },
    {
     "name": "stdout",
     "output_type": "stream",
     "text": [
      "167181 20 24582 142599 [26203, 26202, 26201, 26200, 26199, 26198, 26197, 26196, 26195, 26194, 26193, 26192, 26191, 26190, 26189, 26188, 26187, 26186, 26185, 26184]\n"
     ]
    },
    {
     "name": "stderr",
     "output_type": "stream",
     "text": [
      "\r",
      " 15%|█▍        | 1447/9716 [1:28:45<8:27:13,  3.68s/it]"
     ]
    },
    {
     "name": "stdout",
     "output_type": "stream",
     "text": [
      "167181 20 24599 142582 [26220, 26219, 26218, 26217, 26216, 26215, 26214, 26213, 26212, 26211, 26210, 26209, 26208, 26207, 26206, 26205, 26204, 26203, 26202, 26201]\n"
     ]
    },
    {
     "name": "stderr",
     "output_type": "stream",
     "text": [
      "\r",
      " 15%|█▍        | 1448/9716 [1:28:48<8:27:05,  3.68s/it]"
     ]
    },
    {
     "name": "stdout",
     "output_type": "stream",
     "text": [
      "167181 20 24616 142565 [26237, 26236, 26235, 26234, 26233, 26232, 26231, 26230, 26229, 26228, 26227, 26226, 26225, 26224, 26223, 26222, 26221, 26220, 26219, 26218]\n"
     ]
    },
    {
     "name": "stderr",
     "output_type": "stream",
     "text": [
      "\r",
      " 15%|█▍        | 1449/9716 [1:28:51<8:26:58,  3.68s/it]"
     ]
    },
    {
     "name": "stdout",
     "output_type": "stream",
     "text": [
      "167181 20 24633 142548 [26254, 26253, 26252, 26251, 26250, 26249, 26248, 26247, 26246, 26245, 26244, 26243, 26242, 26241, 26240, 26239, 26238, 26237, 26236, 26235]\n"
     ]
    },
    {
     "name": "stderr",
     "output_type": "stream",
     "text": [
      "\r",
      " 15%|█▍        | 1450/9716 [1:28:54<8:26:50,  3.68s/it]"
     ]
    },
    {
     "name": "stdout",
     "output_type": "stream",
     "text": [
      "167188 20 24650 142531 [26271, 26270, 26269, 26268, 26267, 26266, 26265, 26264, 26263, 26262, 26261, 26260, 26259, 26258, 26257, 26256, 26255, 26254, 26253, 26252]\n"
     ]
    },
    {
     "name": "stderr",
     "output_type": "stream",
     "text": [
      "\r",
      " 15%|█▍        | 1451/9716 [1:28:57<8:26:45,  3.68s/it]"
     ]
    },
    {
     "name": "stdout",
     "output_type": "stream",
     "text": [
      "167196 20 24667 142521 [26296, 26295, 26294, 26293, 26292, 26291, 26290, 26289, 26288, 26287, 26286, 26285, 26284, 26283, 26282, 26281, 26280, 26279, 26278, 26277]\n"
     ]
    },
    {
     "name": "stderr",
     "output_type": "stream",
     "text": [
      "\r",
      " 15%|█▍        | 1452/9716 [1:29:00<8:26:37,  3.68s/it]"
     ]
    },
    {
     "name": "stdout",
     "output_type": "stream",
     "text": [
      "167196 20 24684 142512 [26305, 26304, 26303, 26302, 26301, 26300, 26299, 26298, 26297, 26296, 26295, 26294, 26293, 26292, 26291, 26290, 26289, 26288, 26287, 26286]\n"
     ]
    },
    {
     "name": "stderr",
     "output_type": "stream",
     "text": [
      "\r",
      " 15%|█▍        | 1453/9716 [1:29:04<8:26:31,  3.68s/it]"
     ]
    },
    {
     "name": "stdout",
     "output_type": "stream",
     "text": [
      "167196 20 24701 142495 [26322, 26321, 26320, 26319, 26318, 26317, 26316, 26315, 26314, 26313, 26312, 26311, 26310, 26309, 26308, 26307, 26306, 26305, 26304, 26303]\n"
     ]
    },
    {
     "name": "stderr",
     "output_type": "stream",
     "text": [
      "\r",
      " 15%|█▍        | 1454/9716 [1:29:07<8:26:24,  3.68s/it]"
     ]
    },
    {
     "name": "stdout",
     "output_type": "stream",
     "text": [
      "167196 20 24718 142478 [26339, 26338, 26337, 26336, 26335, 26334, 26333, 26332, 26331, 26330, 26329, 26328, 26327, 26326, 26325, 26324, 26323, 26322, 26321, 26320]\n"
     ]
    },
    {
     "name": "stderr",
     "output_type": "stream",
     "text": [
      "\r",
      " 15%|█▍        | 1455/9716 [1:29:10<8:26:18,  3.68s/it]"
     ]
    },
    {
     "name": "stdout",
     "output_type": "stream",
     "text": [
      "167196 20 24735 142461 [26356, 26355, 26354, 26353, 26352, 26351, 26350, 26349, 26348, 26347, 26346, 26345, 26344, 26343, 26342, 26341, 26340, 26339, 26338, 26337]\n"
     ]
    },
    {
     "name": "stderr",
     "output_type": "stream",
     "text": [
      "\r",
      " 15%|█▍        | 1456/9716 [1:29:13<8:26:12,  3.68s/it]"
     ]
    },
    {
     "name": "stdout",
     "output_type": "stream",
     "text": [
      "167200 20 24752 142444 [26377, 26376, 26375, 26374, 26373, 26372, 26371, 26370, 26369, 26368, 26367, 26366, 26365, 26364, 26363, 26362, 26361, 26360, 26359, 26358]\n"
     ]
    },
    {
     "name": "stderr",
     "output_type": "stream",
     "text": [
      "\r",
      " 15%|█▍        | 1457/9716 [1:29:16<8:26:05,  3.68s/it]"
     ]
    },
    {
     "name": "stdout",
     "output_type": "stream",
     "text": [
      "167200 20 24769 142431 [26390, 26389, 26388, 26387, 26386, 26385, 26384, 26383, 26382, 26381, 26380, 26379, 26378, 26377, 26376, 26375, 26374, 26373, 26372, 26371]\n"
     ]
    },
    {
     "name": "stderr",
     "output_type": "stream",
     "text": [
      "\r",
      " 15%|█▌        | 1458/9716 [1:29:19<8:25:57,  3.68s/it]"
     ]
    },
    {
     "name": "stdout",
     "output_type": "stream",
     "text": [
      "167200 20 24786 142414 [26407, 26406, 26405, 26404, 26403, 26402, 26401, 26400, 26399, 26398, 26397, 26396, 26395, 26394, 26393, 26392, 26391, 26390, 26389, 26388]\n"
     ]
    },
    {
     "name": "stderr",
     "output_type": "stream",
     "text": [
      "\r",
      " 15%|█▌        | 1459/9716 [1:29:23<8:25:51,  3.68s/it]"
     ]
    },
    {
     "name": "stdout",
     "output_type": "stream",
     "text": [
      "167206 20 24803 142397 [26424, 26423, 26422, 26421, 26420, 26419, 26418, 26417, 26416, 26415, 26414, 26413, 26412, 26411, 26410, 26409, 26408, 26407, 26406, 26405]\n"
     ]
    },
    {
     "name": "stderr",
     "output_type": "stream",
     "text": [
      "\r",
      " 15%|█▌        | 1460/9716 [1:29:26<8:25:45,  3.68s/it]"
     ]
    },
    {
     "name": "stdout",
     "output_type": "stream",
     "text": [
      "167206 20 24820 142386 [26441, 26440, 26439, 26438, 26437, 26436, 26435, 26434, 26433, 26432, 26431, 26430, 26429, 26428, 26427, 26426, 26425, 26424, 26423, 26422]\n"
     ]
    },
    {
     "name": "stderr",
     "output_type": "stream",
     "text": [
      "\r",
      " 15%|█▌        | 1461/9716 [1:29:29<8:25:38,  3.68s/it]"
     ]
    },
    {
     "name": "stdout",
     "output_type": "stream",
     "text": [
      "167206 20 24837 142369 [26458, 26457, 26456, 26455, 26454, 26453, 26452, 26451, 26450, 26449, 26448, 26447, 26446, 26445, 26444, 26443, 26442, 26441, 26440, 26439]\n"
     ]
    },
    {
     "name": "stderr",
     "output_type": "stream",
     "text": [
      "\r",
      " 15%|█▌        | 1462/9716 [1:29:32<8:25:32,  3.67s/it]"
     ]
    },
    {
     "name": "stdout",
     "output_type": "stream",
     "text": [
      "167206 20 24854 142352 [26475, 26474, 26473, 26472, 26471, 26470, 26469, 26468, 26467, 26466, 26465, 26464, 26463, 26462, 26461, 26460, 26459, 26458, 26457, 26456]\n"
     ]
    },
    {
     "name": "stderr",
     "output_type": "stream",
     "text": [
      "\r",
      " 15%|█▌        | 1463/9716 [1:29:36<8:25:27,  3.67s/it]"
     ]
    },
    {
     "name": "stdout",
     "output_type": "stream",
     "text": [
      "167211 20 24871 142335 [26492, 26491, 26490, 26489, 26488, 26487, 26486, 26485, 26484, 26483, 26482, 26481, 26480, 26479, 26478, 26477, 26476, 26475, 26474, 26473]\n"
     ]
    },
    {
     "name": "stderr",
     "output_type": "stream",
     "text": [
      "\r",
      " 15%|█▌        | 1464/9716 [1:29:39<8:25:19,  3.67s/it]"
     ]
    },
    {
     "name": "stdout",
     "output_type": "stream",
     "text": [
      "167211 20 24888 142323 [26509, 26508, 26507, 26506, 26505, 26504, 26503, 26502, 26501, 26500, 26499, 26498, 26497, 26496, 26495, 26494, 26493, 26492, 26491, 26490]\n"
     ]
    },
    {
     "name": "stderr",
     "output_type": "stream",
     "text": [
      "\r",
      " 15%|█▌        | 1465/9716 [1:29:41<8:25:11,  3.67s/it]"
     ]
    },
    {
     "name": "stdout",
     "output_type": "stream",
     "text": [
      "167211 20 24905 142306 [26526, 26525, 26524, 26523, 26522, 26521, 26520, 26519, 26518, 26517, 26516, 26515, 26514, 26513, 26512, 26511, 26510, 26509, 26508, 26507]\n"
     ]
    },
    {
     "name": "stderr",
     "output_type": "stream",
     "text": [
      "\r",
      " 15%|█▌        | 1466/9716 [1:29:44<8:25:04,  3.67s/it]"
     ]
    },
    {
     "name": "stdout",
     "output_type": "stream",
     "text": [
      "167211 20 24922 142289 [26543, 26542, 26541, 26540, 26539, 26538, 26537, 26536, 26535, 26534, 26533, 26532, 26531, 26530, 26529, 26528, 26527, 26526, 26525, 26524]\n"
     ]
    },
    {
     "name": "stderr",
     "output_type": "stream",
     "text": [
      "\r",
      " 15%|█▌        | 1467/9716 [1:29:48<8:24:57,  3.67s/it]"
     ]
    },
    {
     "name": "stdout",
     "output_type": "stream",
     "text": [
      "167211 20 24939 142272 [26560, 26559, 26558, 26557, 26556, 26555, 26554, 26553, 26552, 26551, 26550, 26549, 26548, 26547, 26546, 26545, 26544, 26543, 26542, 26541]\n"
     ]
    },
    {
     "name": "stderr",
     "output_type": "stream",
     "text": [
      "\r",
      " 15%|█▌        | 1468/9716 [1:29:51<8:24:50,  3.67s/it]"
     ]
    },
    {
     "name": "stdout",
     "output_type": "stream",
     "text": [
      "167211 20 24956 142255 [26577, 26576, 26575, 26574, 26573, 26572, 26571, 26570, 26569, 26568, 26567, 26566, 26565, 26564, 26563, 26562, 26561, 26560, 26559, 26558]\n"
     ]
    },
    {
     "name": "stderr",
     "output_type": "stream",
     "text": [
      "\r",
      " 15%|█▌        | 1469/9716 [1:29:54<8:24:42,  3.67s/it]"
     ]
    },
    {
     "name": "stdout",
     "output_type": "stream",
     "text": [
      "167211 20 24973 142238 [26594, 26593, 26592, 26591, 26590, 26589, 26588, 26587, 26586, 26585, 26584, 26583, 26582, 26581, 26580, 26579, 26578, 26577, 26576, 26575]\n"
     ]
    },
    {
     "name": "stderr",
     "output_type": "stream",
     "text": [
      "\r",
      " 15%|█▌        | 1470/9716 [1:29:57<8:24:36,  3.67s/it]"
     ]
    },
    {
     "name": "stdout",
     "output_type": "stream",
     "text": [
      "167211 20 24990 142221 [26611, 26610, 26609, 26608, 26607, 26606, 26605, 26604, 26603, 26602, 26601, 26600, 26599, 26598, 26597, 26596, 26595, 26594, 26593, 26592]\n"
     ]
    },
    {
     "name": "stderr",
     "output_type": "stream",
     "text": [
      "\r",
      " 15%|█▌        | 1471/9716 [1:30:00<8:24:30,  3.67s/it]"
     ]
    },
    {
     "name": "stdout",
     "output_type": "stream",
     "text": [
      "167211 20 25007 142204 [26628, 26627, 26626, 26625, 26624, 26623, 26622, 26621, 26620, 26619, 26618, 26617, 26616, 26615, 26614, 26613, 26612, 26611, 26610, 26609]\n"
     ]
    },
    {
     "name": "stderr",
     "output_type": "stream",
     "text": [
      "\r",
      " 15%|█▌        | 1472/9716 [1:30:04<8:24:25,  3.67s/it]"
     ]
    },
    {
     "name": "stdout",
     "output_type": "stream",
     "text": [
      "167223 20 25024 142187 [26657, 26656, 26655, 26654, 26653, 26652, 26651, 26650, 26649, 26648, 26647, 26646, 26645, 26644, 26643, 26642, 26641, 26640, 26639, 26638]\n"
     ]
    },
    {
     "name": "stderr",
     "output_type": "stream",
     "text": [
      "\r",
      " 15%|█▌        | 1473/9716 [1:30:07<8:24:19,  3.67s/it]"
     ]
    },
    {
     "name": "stdout",
     "output_type": "stream",
     "text": [
      "167223 20 25041 142182 [26662, 26661, 26660, 26659, 26658, 26657, 26656, 26655, 26654, 26653, 26652, 26651, 26650, 26649, 26648, 26647, 26646, 26645, 26644, 26643]\n"
     ]
    },
    {
     "name": "stderr",
     "output_type": "stream",
     "text": [
      "\r",
      " 15%|█▌        | 1474/9716 [1:30:10<8:24:13,  3.67s/it]"
     ]
    },
    {
     "name": "stdout",
     "output_type": "stream",
     "text": [
      "167223 20 25058 142165 [26679, 26678, 26677, 26676, 26675, 26674, 26673, 26672, 26671, 26670, 26669, 26668, 26667, 26666, 26665, 26664, 26663, 26662, 26661, 26660]\n"
     ]
    },
    {
     "name": "stderr",
     "output_type": "stream",
     "text": [
      "\r",
      " 15%|█▌        | 1475/9716 [1:30:14<8:24:10,  3.67s/it]"
     ]
    },
    {
     "name": "stdout",
     "output_type": "stream",
     "text": [
      "167223 20 25075 142148 [26696, 26695, 26694, 26693, 26692, 26691, 26690, 26689, 26688, 26687, 26686, 26685, 26684, 26683, 26682, 26681, 26680, 26679, 26678, 26677]\n"
     ]
    },
    {
     "name": "stderr",
     "output_type": "stream",
     "text": [
      "\r",
      " 15%|█▌        | 1476/9716 [1:30:18<8:24:07,  3.67s/it]"
     ]
    },
    {
     "name": "stdout",
     "output_type": "stream",
     "text": [
      "167223 20 25092 142131 [26713, 26712, 26711, 26710, 26709, 26708, 26707, 26706, 26705, 26704, 26703, 26702, 26701, 26700, 26699, 26698, 26697, 26696, 26695, 26694]\n"
     ]
    },
    {
     "name": "stderr",
     "output_type": "stream",
     "text": [
      "\r",
      " 15%|█▌        | 1477/9716 [1:30:22<8:24:08,  3.67s/it]"
     ]
    },
    {
     "name": "stdout",
     "output_type": "stream",
     "text": [
      "167223 20 25109 142114 [26730, 26729, 26728, 26727, 26726, 26725, 26724, 26723, 26722, 26721, 26720, 26719, 26718, 26717, 26716, 26715, 26714, 26713, 26712, 26711]\n"
     ]
    },
    {
     "name": "stderr",
     "output_type": "stream",
     "text": [
      "\r",
      " 15%|█▌        | 1478/9716 [1:30:26<8:24:04,  3.67s/it]"
     ]
    },
    {
     "name": "stdout",
     "output_type": "stream",
     "text": [
      "167223 20 25126 142097 [26747, 26746, 26745, 26744, 26743, 26742, 26741, 26740, 26739, 26738, 26737, 26736, 26735, 26734, 26733, 26732, 26731, 26730, 26729, 26728]\n"
     ]
    },
    {
     "name": "stderr",
     "output_type": "stream",
     "text": [
      "\r",
      " 15%|█▌        | 1479/9716 [1:30:29<8:24:00,  3.67s/it]"
     ]
    },
    {
     "name": "stdout",
     "output_type": "stream",
     "text": [
      "167223 20 25143 142080 [26764, 26763, 26762, 26761, 26760, 26759, 26758, 26757, 26756, 26755, 26754, 26753, 26752, 26751, 26750, 26749, 26748, 26747, 26746, 26745]\n"
     ]
    },
    {
     "name": "stderr",
     "output_type": "stream",
     "text": [
      "\r",
      " 15%|█▌        | 1480/9716 [1:30:33<8:23:56,  3.67s/it]"
     ]
    },
    {
     "name": "stdout",
     "output_type": "stream",
     "text": [
      "167225 20 25160 142063 [26781, 26780, 26779, 26778, 26777, 26776, 26775, 26774, 26773, 26772, 26771, 26770, 26769, 26768, 26767, 26766, 26765, 26764, 26763, 26762]\n"
     ]
    },
    {
     "name": "stderr",
     "output_type": "stream",
     "text": [
      "\r",
      " 15%|█▌        | 1481/9716 [1:30:37<8:23:52,  3.67s/it]"
     ]
    },
    {
     "name": "stdout",
     "output_type": "stream",
     "text": [
      "167233 20 25177 142048 [26799, 26798, 26797, 26796, 26795, 26794, 26793, 26792, 26791, 26790, 26789, 26788, 26787, 26786, 26785, 26784, 26783, 26782, 26781, 26780]\n"
     ]
    },
    {
     "name": "stderr",
     "output_type": "stream",
     "text": [
      "\r",
      " 15%|█▌        | 1482/9716 [1:30:40<8:23:48,  3.67s/it]"
     ]
    },
    {
     "name": "stdout",
     "output_type": "stream",
     "text": [
      "167248 20 25194 142039 [26830, 26829, 26828, 26827, 26826, 26825, 26824, 26823, 26822, 26821, 26820, 26819, 26818, 26817, 26816, 26815, 26814, 26813, 26812, 26811]\n"
     ]
    },
    {
     "name": "stderr",
     "output_type": "stream",
     "text": [
      "\r",
      " 15%|█▌        | 1483/9716 [1:30:44<8:23:46,  3.67s/it]"
     ]
    },
    {
     "name": "stdout",
     "output_type": "stream",
     "text": [
      "167248 20 25211 142037 [26832, 26831, 26830, 26829, 26828, 26827, 26826, 26825, 26824, 26823, 26822, 26821, 26820, 26819, 26818, 26817, 26816, 26815, 26814, 26813]\n"
     ]
    },
    {
     "name": "stderr",
     "output_type": "stream",
     "text": [
      "\r",
      " 15%|█▌        | 1484/9716 [1:30:50<8:23:55,  3.67s/it]"
     ]
    },
    {
     "name": "stdout",
     "output_type": "stream",
     "text": [
      "167248 20 25228 142020 [26849, 26848, 26847, 26846, 26845, 26844, 26843, 26842, 26841, 26840, 26839, 26838, 26837, 26836, 26835, 26834, 26833, 26832, 26831, 26830]\n"
     ]
    },
    {
     "name": "stderr",
     "output_type": "stream",
     "text": [
      "\r",
      " 15%|█▌        | 1485/9716 [1:30:58<8:24:16,  3.68s/it]"
     ]
    },
    {
     "name": "stdout",
     "output_type": "stream",
     "text": [
      "167248 20 25245 142003 [26866, 26865, 26864, 26863, 26862, 26861, 26860, 26859, 26858, 26857, 26856, 26855, 26854, 26853, 26852, 26851, 26850, 26849, 26848, 26847]\n"
     ]
    },
    {
     "name": "stderr",
     "output_type": "stream",
     "text": [
      "\r",
      " 15%|█▌        | 1486/9716 [1:31:08<8:24:46,  3.68s/it]"
     ]
    },
    {
     "name": "stdout",
     "output_type": "stream",
     "text": [
      "167250 20 25262 141986 [26885, 26884, 26883, 26882, 26881, 26880, 26879, 26878, 26877, 26876, 26875, 26874, 26873, 26872, 26871, 26870, 26869, 26868, 26867, 26866]\n"
     ]
    },
    {
     "name": "stderr",
     "output_type": "stream",
     "text": [
      "\r",
      " 15%|█▌        | 1487/9716 [1:31:11<8:24:41,  3.68s/it]"
     ]
    },
    {
     "name": "stdout",
     "output_type": "stream",
     "text": [
      "167250 20 25279 141971 [26900, 26899, 26898, 26897, 26896, 26895, 26894, 26893, 26892, 26891, 26890, 26889, 26888, 26887, 26886, 26885, 26884, 26883, 26882, 26881]\n"
     ]
    },
    {
     "name": "stderr",
     "output_type": "stream",
     "text": [
      "\r",
      " 15%|█▌        | 1488/9716 [1:31:20<8:25:06,  3.68s/it]"
     ]
    },
    {
     "name": "stdout",
     "output_type": "stream",
     "text": [
      "167252 20 25296 141954 [26917, 26916, 26915, 26914, 26913, 26912, 26911, 26910, 26909, 26908, 26907, 26906, 26905, 26904, 26903, 26902, 26901, 26900, 26899, 26898]\n"
     ]
    },
    {
     "name": "stderr",
     "output_type": "stream",
     "text": [
      "\r",
      " 15%|█▌        | 1489/9716 [1:31:24<8:25:00,  3.68s/it]"
     ]
    },
    {
     "name": "stdout",
     "output_type": "stream",
     "text": [
      "167252 20 25313 141939 [26934, 26933, 26932, 26931, 26930, 26929, 26928, 26927, 26926, 26925, 26924, 26923, 26922, 26921, 26920, 26919, 26918, 26917, 26916, 26915]\n"
     ]
    },
    {
     "name": "stderr",
     "output_type": "stream",
     "text": [
      "\r",
      " 15%|█▌        | 1490/9716 [1:31:27<8:24:55,  3.68s/it]"
     ]
    },
    {
     "name": "stdout",
     "output_type": "stream",
     "text": [
      "167252 20 25330 141922 [26951, 26950, 26949, 26948, 26947, 26946, 26945, 26944, 26943, 26942, 26941, 26940, 26939, 26938, 26937, 26936, 26935, 26934, 26933, 26932]\n"
     ]
    },
    {
     "name": "stderr",
     "output_type": "stream",
     "text": [
      "\r",
      " 15%|█▌        | 1491/9716 [1:31:30<8:24:47,  3.68s/it]"
     ]
    },
    {
     "name": "stdout",
     "output_type": "stream",
     "text": [
      "167252 20 25347 141905 [26968, 26967, 26966, 26965, 26964, 26963, 26962, 26961, 26960, 26959, 26958, 26957, 26956, 26955, 26954, 26953, 26952, 26951, 26950, 26949]\n"
     ]
    },
    {
     "name": "stderr",
     "output_type": "stream",
     "text": [
      "\r",
      " 15%|█▌        | 1492/9716 [1:31:33<8:24:41,  3.68s/it]"
     ]
    },
    {
     "name": "stdout",
     "output_type": "stream",
     "text": [
      "167252 20 25364 141888 [26985, 26984, 26983, 26982, 26981, 26980, 26979, 26978, 26977, 26976, 26975, 26974, 26973, 26972, 26971, 26970, 26969, 26968, 26967, 26966]\n"
     ]
    },
    {
     "name": "stderr",
     "output_type": "stream",
     "text": [
      "\r",
      " 15%|█▌        | 1493/9716 [1:31:37<8:24:36,  3.68s/it]"
     ]
    },
    {
     "name": "stdout",
     "output_type": "stream",
     "text": [
      "167252 20 25381 141871 [27002, 27001, 27000, 26999, 26998, 26997, 26996, 26995, 26994, 26993, 26992, 26991, 26990, 26989, 26988, 26987, 26986, 26985, 26984, 26983]\n"
     ]
    },
    {
     "name": "stderr",
     "output_type": "stream",
     "text": [
      "\r",
      " 15%|█▌        | 1494/9716 [1:31:40<8:24:31,  3.68s/it]"
     ]
    },
    {
     "name": "stdout",
     "output_type": "stream",
     "text": [
      "167252 20 25398 141854 [27019, 27018, 27017, 27016, 27015, 27014, 27013, 27012, 27011, 27010, 27009, 27008, 27007, 27006, 27005, 27004, 27003, 27002, 27001, 27000]\n"
     ]
    },
    {
     "name": "stderr",
     "output_type": "stream",
     "text": [
      "\r",
      " 15%|█▌        | 1495/9716 [1:31:43<8:24:25,  3.68s/it]"
     ]
    },
    {
     "name": "stdout",
     "output_type": "stream",
     "text": [
      "167252 20 25415 141837 [27036, 27035, 27034, 27033, 27032, 27031, 27030, 27029, 27028, 27027, 27026, 27025, 27024, 27023, 27022, 27021, 27020, 27019, 27018, 27017]\n"
     ]
    },
    {
     "name": "stderr",
     "output_type": "stream",
     "text": [
      "\r",
      " 15%|█▌        | 1496/9716 [1:31:47<8:24:19,  3.68s/it]"
     ]
    },
    {
     "name": "stdout",
     "output_type": "stream",
     "text": [
      "167252 20 25432 141820 [27053, 27052, 27051, 27050, 27049, 27048, 27047, 27046, 27045, 27044, 27043, 27042, 27041, 27040, 27039, 27038, 27037, 27036, 27035, 27034]\n"
     ]
    },
    {
     "name": "stderr",
     "output_type": "stream",
     "text": [
      "\r",
      " 15%|█▌        | 1497/9716 [1:31:50<8:24:11,  3.68s/it]"
     ]
    },
    {
     "name": "stdout",
     "output_type": "stream",
     "text": [
      "167252 20 25449 141803 [27070, 27069, 27068, 27067, 27066, 27065, 27064, 27063, 27062, 27061, 27060, 27059, 27058, 27057, 27056, 27055, 27054, 27053, 27052, 27051]\n"
     ]
    },
    {
     "name": "stderr",
     "output_type": "stream",
     "text": [
      "\r",
      " 15%|█▌        | 1498/9716 [1:31:53<8:24:06,  3.68s/it]"
     ]
    },
    {
     "name": "stdout",
     "output_type": "stream",
     "text": [
      "167252 20 25466 141786 [27087, 27086, 27085, 27084, 27083, 27082, 27081, 27080, 27079, 27078, 27077, 27076, 27075, 27074, 27073, 27072, 27071, 27070, 27069, 27068]\n"
     ]
    },
    {
     "name": "stderr",
     "output_type": "stream",
     "text": [
      "\r",
      " 15%|█▌        | 1499/9716 [1:31:56<8:23:59,  3.68s/it]"
     ]
    },
    {
     "name": "stdout",
     "output_type": "stream",
     "text": [
      "167252 20 25483 141769 [27104, 27103, 27102, 27101, 27100, 27099, 27098, 27097, 27096, 27095, 27094, 27093, 27092, 27091, 27090, 27089, 27088, 27087, 27086, 27085]\n"
     ]
    },
    {
     "name": "stderr",
     "output_type": "stream",
     "text": [
      "\r",
      " 15%|█▌        | 1500/9716 [1:32:00<8:23:55,  3.68s/it]"
     ]
    },
    {
     "name": "stdout",
     "output_type": "stream",
     "text": [
      "167252 20 25500 141752 [27121, 27120, 27119, 27118, 27117, 27116, 27115, 27114, 27113, 27112, 27111, 27110, 27109, 27108, 27107, 27106, 27105, 27104, 27103, 27102]\n"
     ]
    },
    {
     "name": "stderr",
     "output_type": "stream",
     "text": [
      "\r",
      " 15%|█▌        | 1501/9716 [1:32:03<8:23:52,  3.68s/it]"
     ]
    },
    {
     "name": "stdout",
     "output_type": "stream",
     "text": [
      "167252 20 25517 141735 [27138, 27137, 27136, 27135, 27134, 27133, 27132, 27131, 27130, 27129, 27128, 27127, 27126, 27125, 27124, 27123, 27122, 27121, 27120, 27119]\n"
     ]
    },
    {
     "name": "stderr",
     "output_type": "stream",
     "text": [
      "\r",
      " 15%|█▌        | 1502/9716 [1:32:07<8:23:46,  3.68s/it]"
     ]
    },
    {
     "name": "stdout",
     "output_type": "stream",
     "text": [
      "167252 20 25534 141718 [27155, 27154, 27153, 27152, 27151, 27150, 27149, 27148, 27147, 27146, 27145, 27144, 27143, 27142, 27141, 27140, 27139, 27138, 27137, 27136]\n"
     ]
    },
    {
     "name": "stderr",
     "output_type": "stream",
     "text": [
      "\r",
      " 15%|█▌        | 1503/9716 [1:32:10<8:23:40,  3.68s/it]"
     ]
    },
    {
     "name": "stdout",
     "output_type": "stream",
     "text": [
      "167252 20 25551 141701 [27172, 27171, 27170, 27169, 27168, 27167, 27166, 27165, 27164, 27163, 27162, 27161, 27160, 27159, 27158, 27157, 27156, 27155, 27154, 27153]\n"
     ]
    },
    {
     "name": "stderr",
     "output_type": "stream",
     "text": [
      "\r",
      " 15%|█▌        | 1504/9716 [1:32:13<8:23:35,  3.68s/it]"
     ]
    },
    {
     "name": "stdout",
     "output_type": "stream",
     "text": [
      "167252 20 25568 141684 [27189, 27188, 27187, 27186, 27185, 27184, 27183, 27182, 27181, 27180, 27179, 27178, 27177, 27176, 27175, 27174, 27173, 27172, 27171, 27170]\n"
     ]
    },
    {
     "name": "stderr",
     "output_type": "stream",
     "text": [
      "\r",
      " 15%|█▌        | 1505/9716 [1:32:16<8:23:28,  3.68s/it]"
     ]
    },
    {
     "name": "stdout",
     "output_type": "stream",
     "text": [
      "167252 20 25585 141667 [27206, 27205, 27204, 27203, 27202, 27201, 27200, 27199, 27198, 27197, 27196, 27195, 27194, 27193, 27192, 27191, 27190, 27189, 27188, 27187]\n"
     ]
    },
    {
     "name": "stderr",
     "output_type": "stream",
     "text": [
      "\r",
      " 16%|█▌        | 1506/9716 [1:32:20<8:23:21,  3.68s/it]"
     ]
    },
    {
     "name": "stdout",
     "output_type": "stream",
     "text": [
      "167252 20 25602 141650 [27223, 27222, 27221, 27220, 27219, 27218, 27217, 27216, 27215, 27214, 27213, 27212, 27211, 27210, 27209, 27208, 27207, 27206, 27205, 27204]\n"
     ]
    },
    {
     "name": "stderr",
     "output_type": "stream",
     "text": [
      "\r",
      " 16%|█▌        | 1507/9716 [1:32:23<8:23:17,  3.68s/it]"
     ]
    },
    {
     "name": "stdout",
     "output_type": "stream",
     "text": [
      "167252 20 25619 141633 [27240, 27239, 27238, 27237, 27236, 27235, 27234, 27233, 27232, 27231, 27230, 27229, 27228, 27227, 27226, 27225, 27224, 27223, 27222, 27221]\n"
     ]
    },
    {
     "name": "stderr",
     "output_type": "stream",
     "text": [
      "\r",
      " 16%|█▌        | 1508/9716 [1:32:26<8:23:11,  3.68s/it]"
     ]
    },
    {
     "name": "stdout",
     "output_type": "stream",
     "text": [
      "167252 20 25636 141616 [27257, 27256, 27255, 27254, 27253, 27252, 27251, 27250, 27249, 27248, 27247, 27246, 27245, 27244, 27243, 27242, 27241, 27240, 27239, 27238]\n"
     ]
    },
    {
     "name": "stderr",
     "output_type": "stream",
     "text": [
      "\r",
      " 16%|█▌        | 1509/9716 [1:32:32<8:23:18,  3.68s/it]"
     ]
    },
    {
     "name": "stdout",
     "output_type": "stream",
     "text": [
      "167259 20 25653 141599 [27274, 27273, 27272, 27271, 27270, 27269, 27268, 27267, 27266, 27265, 27264, 27263, 27262, 27261, 27260, 27259, 27258, 27257, 27256, 27255]\n"
     ]
    },
    {
     "name": "stderr",
     "output_type": "stream",
     "text": [
      "\r",
      " 16%|█▌        | 1510/9716 [1:32:35<8:23:11,  3.68s/it]"
     ]
    },
    {
     "name": "stdout",
     "output_type": "stream",
     "text": [
      "167259 20 25670 141589 [27291, 27290, 27289, 27288, 27287, 27286, 27285, 27284, 27283, 27282, 27281, 27280, 27279, 27278, 27277, 27276, 27275, 27274, 27273, 27272]\n"
     ]
    },
    {
     "name": "stderr",
     "output_type": "stream",
     "text": [
      "\r",
      " 16%|█▌        | 1511/9716 [1:32:38<8:23:05,  3.68s/it]"
     ]
    },
    {
     "name": "stdout",
     "output_type": "stream",
     "text": [
      "167259 20 25687 141572 [27308, 27307, 27306, 27305, 27304, 27303, 27302, 27301, 27300, 27299, 27298, 27297, 27296, 27295, 27294, 27293, 27292, 27291, 27290, 27289]\n"
     ]
    },
    {
     "name": "stderr",
     "output_type": "stream",
     "text": [
      "\r",
      " 16%|█▌        | 1512/9716 [1:32:42<8:22:59,  3.68s/it]"
     ]
    },
    {
     "name": "stdout",
     "output_type": "stream",
     "text": [
      "167259 20 25704 141555 [27325, 27324, 27323, 27322, 27321, 27320, 27319, 27318, 27317, 27316, 27315, 27314, 27313, 27312, 27311, 27310, 27309, 27308, 27307, 27306]\n"
     ]
    },
    {
     "name": "stderr",
     "output_type": "stream",
     "text": [
      "\r",
      " 16%|█▌        | 1513/9716 [1:32:45<8:22:53,  3.68s/it]"
     ]
    },
    {
     "name": "stdout",
     "output_type": "stream",
     "text": [
      "167259 20 25721 141538 [27342, 27341, 27340, 27339, 27338, 27337, 27336, 27335, 27334, 27333, 27332, 27331, 27330, 27329, 27328, 27327, 27326, 27325, 27324, 27323]\n"
     ]
    },
    {
     "name": "stderr",
     "output_type": "stream",
     "text": [
      "\r",
      " 16%|█▌        | 1514/9716 [1:32:48<8:22:47,  3.68s/it]"
     ]
    },
    {
     "name": "stdout",
     "output_type": "stream",
     "text": [
      "167259 20 25738 141521 [27359, 27358, 27357, 27356, 27355, 27354, 27353, 27352, 27351, 27350, 27349, 27348, 27347, 27346, 27345, 27344, 27343, 27342, 27341, 27340]\n"
     ]
    },
    {
     "name": "stderr",
     "output_type": "stream",
     "text": [
      "\r",
      " 16%|█▌        | 1515/9716 [1:32:51<8:22:42,  3.68s/it]"
     ]
    },
    {
     "name": "stdout",
     "output_type": "stream",
     "text": [
      "167276 20 25755 141504 [27376, 27375, 27374, 27373, 27372, 27371, 27370, 27369, 27368, 27367, 27366, 27365, 27364, 27363, 27362, 27361, 27360, 27359, 27358, 27357]\n"
     ]
    },
    {
     "name": "stderr",
     "output_type": "stream",
     "text": [
      "\r",
      " 16%|█▌        | 1516/9716 [1:32:55<8:22:37,  3.68s/it]"
     ]
    },
    {
     "name": "stdout",
     "output_type": "stream",
     "text": [
      "167276 20 25772 141504 [27393, 27392, 27391, 27390, 27389, 27388, 27387, 27386, 27385, 27384, 27383, 27382, 27381, 27380, 27379, 27378, 27377, 27376, 27375, 27374]\n"
     ]
    },
    {
     "name": "stderr",
     "output_type": "stream",
     "text": [
      "\r",
      " 16%|█▌        | 1517/9716 [1:32:58<8:22:30,  3.68s/it]"
     ]
    },
    {
     "name": "stdout",
     "output_type": "stream",
     "text": [
      "167276 20 25789 141487 [27410, 27409, 27408, 27407, 27406, 27405, 27404, 27403, 27402, 27401, 27400, 27399, 27398, 27397, 27396, 27395, 27394, 27393, 27392, 27391]\n"
     ]
    },
    {
     "name": "stderr",
     "output_type": "stream",
     "text": [
      "\r",
      " 16%|█▌        | 1518/9716 [1:33:01<8:22:24,  3.68s/it]"
     ]
    },
    {
     "name": "stdout",
     "output_type": "stream",
     "text": [
      "167287 20 25806 141470 [27427, 27426, 27425, 27424, 27423, 27422, 27421, 27420, 27419, 27418, 27417, 27416, 27415, 27414, 27413, 27412, 27411, 27410, 27409, 27408]\n"
     ]
    },
    {
     "name": "stderr",
     "output_type": "stream",
     "text": [
      "\r",
      " 16%|█▌        | 1519/9716 [1:33:04<8:22:17,  3.68s/it]"
     ]
    },
    {
     "name": "stdout",
     "output_type": "stream",
     "text": [
      "167287 20 25823 141464 [27444, 27443, 27442, 27441, 27440, 27439, 27438, 27437, 27436, 27435, 27434, 27433, 27432, 27431, 27430, 27429, 27428, 27427, 27426, 27425]\n"
     ]
    },
    {
     "name": "stderr",
     "output_type": "stream",
     "text": [
      "\r",
      " 16%|█▌        | 1520/9716 [1:33:07<8:22:10,  3.68s/it]"
     ]
    },
    {
     "name": "stdout",
     "output_type": "stream",
     "text": [
      "167287 20 25840 141447 [27461, 27460, 27459, 27458, 27457, 27456, 27455, 27454, 27453, 27452, 27451, 27450, 27449, 27448, 27447, 27446, 27445, 27444, 27443, 27442]\n"
     ]
    },
    {
     "name": "stderr",
     "output_type": "stream",
     "text": [
      "\r",
      " 16%|█▌        | 1521/9716 [1:33:11<8:22:04,  3.68s/it]"
     ]
    },
    {
     "name": "stdout",
     "output_type": "stream",
     "text": [
      "167287 20 25857 141430 [27478, 27477, 27476, 27475, 27474, 27473, 27472, 27471, 27470, 27469, 27468, 27467, 27466, 27465, 27464, 27463, 27462, 27461, 27460, 27459]\n"
     ]
    },
    {
     "name": "stderr",
     "output_type": "stream",
     "text": [
      "\r",
      " 16%|█▌        | 1522/9716 [1:33:14<8:21:58,  3.68s/it]"
     ]
    },
    {
     "name": "stdout",
     "output_type": "stream",
     "text": [
      "167287 20 25874 141413 [27495, 27494, 27493, 27492, 27491, 27490, 27489, 27488, 27487, 27486, 27485, 27484, 27483, 27482, 27481, 27480, 27479, 27478, 27477, 27476]\n"
     ]
    },
    {
     "name": "stderr",
     "output_type": "stream",
     "text": [
      "\r",
      " 16%|█▌        | 1523/9716 [1:33:17<8:21:52,  3.68s/it]"
     ]
    },
    {
     "name": "stdout",
     "output_type": "stream",
     "text": [
      "167287 20 25891 141396 [27512, 27511, 27510, 27509, 27508, 27507, 27506, 27505, 27504, 27503, 27502, 27501, 27500, 27499, 27498, 27497, 27496, 27495, 27494, 27493]\n"
     ]
    },
    {
     "name": "stderr",
     "output_type": "stream",
     "text": [
      "\r",
      " 16%|█▌        | 1524/9716 [1:33:21<8:21:50,  3.68s/it]"
     ]
    },
    {
     "name": "stdout",
     "output_type": "stream",
     "text": [
      "167287 20 25908 141379 [27529, 27528, 27527, 27526, 27525, 27524, 27523, 27522, 27521, 27520, 27519, 27518, 27517, 27516, 27515, 27514, 27513, 27512, 27511, 27510]\n"
     ]
    },
    {
     "name": "stderr",
     "output_type": "stream",
     "text": [
      "\r",
      " 16%|█▌        | 1525/9716 [1:33:24<8:21:42,  3.68s/it]"
     ]
    },
    {
     "name": "stdout",
     "output_type": "stream",
     "text": [
      "167287 20 25925 141362 [27546, 27545, 27544, 27543, 27542, 27541, 27540, 27539, 27538, 27537, 27536, 27535, 27534, 27533, 27532, 27531, 27530, 27529, 27528, 27527]\n"
     ]
    },
    {
     "name": "stderr",
     "output_type": "stream",
     "text": [
      "\r",
      " 16%|█▌        | 1526/9716 [1:33:27<8:21:36,  3.67s/it]"
     ]
    },
    {
     "name": "stdout",
     "output_type": "stream",
     "text": [
      "167287 20 25942 141345 [27563, 27562, 27561, 27560, 27559, 27558, 27557, 27556, 27555, 27554, 27553, 27552, 27551, 27550, 27549, 27548, 27547, 27546, 27545, 27544]\n"
     ]
    },
    {
     "name": "stderr",
     "output_type": "stream",
     "text": [
      "\r",
      " 16%|█▌        | 1527/9716 [1:33:31<8:21:32,  3.67s/it]"
     ]
    },
    {
     "name": "stdout",
     "output_type": "stream",
     "text": [
      "167290 20 25959 141328 [27580, 27579, 27578, 27577, 27576, 27575, 27574, 27573, 27572, 27571, 27570, 27569, 27568, 27567, 27566, 27565, 27564, 27563, 27562, 27561]\n"
     ]
    },
    {
     "name": "stderr",
     "output_type": "stream",
     "text": [
      "\r",
      " 16%|█▌        | 1528/9716 [1:33:35<8:21:28,  3.67s/it]"
     ]
    },
    {
     "name": "stdout",
     "output_type": "stream",
     "text": [
      "167290 20 25976 141314 [27597, 27596, 27595, 27594, 27593, 27592, 27591, 27590, 27589, 27588, 27587, 27586, 27585, 27584, 27583, 27582, 27581, 27580, 27579, 27578]\n"
     ]
    },
    {
     "name": "stderr",
     "output_type": "stream",
     "text": [
      "\r",
      " 16%|█▌        | 1529/9716 [1:33:38<8:21:25,  3.67s/it]"
     ]
    },
    {
     "name": "stdout",
     "output_type": "stream",
     "text": [
      "167290 20 25993 141297 [27614, 27613, 27612, 27611, 27610, 27609, 27608, 27607, 27606, 27605, 27604, 27603, 27602, 27601, 27600, 27599, 27598, 27597, 27596, 27595]\n"
     ]
    },
    {
     "name": "stderr",
     "output_type": "stream",
     "text": [
      "\r",
      " 16%|█▌        | 1530/9716 [1:33:41<8:21:19,  3.67s/it]"
     ]
    },
    {
     "name": "stdout",
     "output_type": "stream",
     "text": [
      "167290 20 26010 141280 [27631, 27630, 27629, 27628, 27627, 27626, 27625, 27624, 27623, 27622, 27621, 27620, 27619, 27618, 27617, 27616, 27615, 27614, 27613, 27612]\n"
     ]
    },
    {
     "name": "stderr",
     "output_type": "stream",
     "text": [
      "\r",
      " 16%|█▌        | 1531/9716 [1:33:45<8:21:12,  3.67s/it]"
     ]
    },
    {
     "name": "stdout",
     "output_type": "stream",
     "text": [
      "167290 20 26027 141263 [27648, 27647, 27646, 27645, 27644, 27643, 27642, 27641, 27640, 27639, 27638, 27637, 27636, 27635, 27634, 27633, 27632, 27631, 27630, 27629]\n"
     ]
    },
    {
     "name": "stderr",
     "output_type": "stream",
     "text": [
      "\r",
      " 16%|█▌        | 1532/9716 [1:33:48<8:21:06,  3.67s/it]"
     ]
    },
    {
     "name": "stdout",
     "output_type": "stream",
     "text": [
      "167290 20 26044 141246 [27665, 27664, 27663, 27662, 27661, 27660, 27659, 27658, 27657, 27656, 27655, 27654, 27653, 27652, 27651, 27650, 27649, 27648, 27647, 27646]\n"
     ]
    },
    {
     "name": "stderr",
     "output_type": "stream",
     "text": [
      "\r",
      " 16%|█▌        | 1533/9716 [1:33:52<8:21:03,  3.67s/it]"
     ]
    },
    {
     "name": "stdout",
     "output_type": "stream",
     "text": [
      "167290 20 26061 141229 [27682, 27681, 27680, 27679, 27678, 27677, 27676, 27675, 27674, 27673, 27672, 27671, 27670, 27669, 27668, 27667, 27666, 27665, 27664, 27663]\n"
     ]
    },
    {
     "name": "stderr",
     "output_type": "stream",
     "text": [
      "\r",
      " 16%|█▌        | 1534/9716 [1:33:55<8:20:58,  3.67s/it]"
     ]
    },
    {
     "name": "stdout",
     "output_type": "stream",
     "text": [
      "167290 20 26078 141212 [27699, 27698, 27697, 27696, 27695, 27694, 27693, 27692, 27691, 27690, 27689, 27688, 27687, 27686, 27685, 27684, 27683, 27682, 27681, 27680]\n"
     ]
    },
    {
     "name": "stderr",
     "output_type": "stream",
     "text": [
      "\r",
      " 16%|█▌        | 1535/9716 [1:33:58<8:20:53,  3.67s/it]"
     ]
    },
    {
     "name": "stdout",
     "output_type": "stream",
     "text": [
      "167290 20 26095 141195 [27716, 27715, 27714, 27713, 27712, 27711, 27710, 27709, 27708, 27707, 27706, 27705, 27704, 27703, 27702, 27701, 27700, 27699, 27698, 27697]\n"
     ]
    },
    {
     "name": "stderr",
     "output_type": "stream",
     "text": [
      "\r",
      " 16%|█▌        | 1536/9716 [1:34:02<8:20:47,  3.67s/it]"
     ]
    },
    {
     "name": "stdout",
     "output_type": "stream",
     "text": [
      "167290 20 26112 141178 [27733, 27732, 27731, 27730, 27729, 27728, 27727, 27726, 27725, 27724, 27723, 27722, 27721, 27720, 27719, 27718, 27717, 27716, 27715, 27714]\n"
     ]
    },
    {
     "name": "stderr",
     "output_type": "stream",
     "text": [
      "\r",
      " 16%|█▌        | 1537/9716 [1:34:05<8:20:41,  3.67s/it]"
     ]
    },
    {
     "name": "stdout",
     "output_type": "stream",
     "text": [
      "167293 20 26129 141161 [27750, 27749, 27748, 27747, 27746, 27745, 27744, 27743, 27742, 27741, 27740, 27739, 27738, 27737, 27736, 27735, 27734, 27733, 27732, 27731]\n"
     ]
    },
    {
     "name": "stderr",
     "output_type": "stream",
     "text": [
      "\r",
      " 16%|█▌        | 1538/9716 [1:34:08<8:20:34,  3.67s/it]"
     ]
    },
    {
     "name": "stdout",
     "output_type": "stream",
     "text": [
      "167296 20 26146 141147 [27770, 27769, 27768, 27767, 27766, 27765, 27764, 27763, 27762, 27761, 27760, 27759, 27758, 27757, 27756, 27755, 27754, 27753, 27752, 27751]\n"
     ]
    },
    {
     "name": "stderr",
     "output_type": "stream",
     "text": [
      "\r",
      " 16%|█▌        | 1539/9716 [1:34:11<8:20:28,  3.67s/it]"
     ]
    },
    {
     "name": "stdout",
     "output_type": "stream",
     "text": [
      "167296 20 26163 141133 [27784, 27783, 27782, 27781, 27780, 27779, 27778, 27777, 27776, 27775, 27774, 27773, 27772, 27771, 27770, 27769, 27768, 27767, 27766, 27765]\n"
     ]
    },
    {
     "name": "stderr",
     "output_type": "stream",
     "text": [
      "\r",
      " 16%|█▌        | 1540/9716 [1:34:14<8:20:22,  3.67s/it]"
     ]
    },
    {
     "name": "stdout",
     "output_type": "stream",
     "text": [
      "167296 20 26180 141116 [27801, 27800, 27799, 27798, 27797, 27796, 27795, 27794, 27793, 27792, 27791, 27790, 27789, 27788, 27787, 27786, 27785, 27784, 27783, 27782]\n"
     ]
    },
    {
     "name": "stderr",
     "output_type": "stream",
     "text": [
      "\r",
      " 16%|█▌        | 1541/9716 [1:34:18<8:20:16,  3.67s/it]"
     ]
    },
    {
     "name": "stdout",
     "output_type": "stream",
     "text": [
      "167296 20 26197 141099 [27818, 27817, 27816, 27815, 27814, 27813, 27812, 27811, 27810, 27809, 27808, 27807, 27806, 27805, 27804, 27803, 27802, 27801, 27800, 27799]\n"
     ]
    },
    {
     "name": "stderr",
     "output_type": "stream",
     "text": [
      "\r",
      " 16%|█▌        | 1542/9716 [1:34:22<8:20:15,  3.67s/it]"
     ]
    },
    {
     "name": "stdout",
     "output_type": "stream",
     "text": [
      "167296 20 26214 141082 [27835, 27834, 27833, 27832, 27831, 27830, 27829, 27828, 27827, 27826, 27825, 27824, 27823, 27822, 27821, 27820, 27819, 27818, 27817, 27816]\n"
     ]
    },
    {
     "name": "stderr",
     "output_type": "stream",
     "text": [
      "\r",
      " 16%|█▌        | 1543/9716 [1:34:25<8:20:09,  3.67s/it]"
     ]
    },
    {
     "name": "stdout",
     "output_type": "stream",
     "text": [
      "167296 20 26231 141065 [27852, 27851, 27850, 27849, 27848, 27847, 27846, 27845, 27844, 27843, 27842, 27841, 27840, 27839, 27838, 27837, 27836, 27835, 27834, 27833]\n"
     ]
    },
    {
     "name": "stderr",
     "output_type": "stream",
     "text": [
      "\r",
      " 16%|█▌        | 1544/9716 [1:34:29<8:20:07,  3.67s/it]"
     ]
    },
    {
     "name": "stdout",
     "output_type": "stream",
     "text": [
      "167296 20 26248 141048 [27869, 27868, 27867, 27866, 27865, 27864, 27863, 27862, 27861, 27860, 27859, 27858, 27857, 27856, 27855, 27854, 27853, 27852, 27851, 27850]\n"
     ]
    },
    {
     "name": "stderr",
     "output_type": "stream",
     "text": [
      "\r",
      " 16%|█▌        | 1545/9716 [1:34:33<8:20:04,  3.67s/it]"
     ]
    },
    {
     "name": "stdout",
     "output_type": "stream",
     "text": [
      "167296 20 26265 141031 [27886, 27885, 27884, 27883, 27882, 27881, 27880, 27879, 27878, 27877, 27876, 27875, 27874, 27873, 27872, 27871, 27870, 27869, 27868, 27867]\n"
     ]
    },
    {
     "name": "stderr",
     "output_type": "stream",
     "text": [
      "\r",
      " 16%|█▌        | 1546/9716 [1:34:37<8:20:01,  3.67s/it]"
     ]
    },
    {
     "name": "stdout",
     "output_type": "stream",
     "text": [
      "167296 20 26282 141014 [27903, 27902, 27901, 27900, 27899, 27898, 27897, 27896, 27895, 27894, 27893, 27892, 27891, 27890, 27889, 27888, 27887, 27886, 27885, 27884]\n"
     ]
    },
    {
     "name": "stderr",
     "output_type": "stream",
     "text": [
      "\r",
      " 16%|█▌        | 1547/9716 [1:34:40<8:19:56,  3.67s/it]"
     ]
    },
    {
     "name": "stdout",
     "output_type": "stream",
     "text": [
      "167296 20 26299 140997 [27920, 27919, 27918, 27917, 27916, 27915, 27914, 27913, 27912, 27911, 27910, 27909, 27908, 27907, 27906, 27905, 27904, 27903, 27902, 27901]\n"
     ]
    },
    {
     "name": "stderr",
     "output_type": "stream",
     "text": [
      "\r",
      " 16%|█▌        | 1548/9716 [1:34:44<8:19:52,  3.67s/it]"
     ]
    },
    {
     "name": "stdout",
     "output_type": "stream",
     "text": [
      "167303 20 26316 140980 [27937, 27936, 27935, 27934, 27933, 27932, 27931, 27930, 27929, 27928, 27927, 27926, 27925, 27924, 27923, 27922, 27921, 27920, 27919, 27918]\n"
     ]
    },
    {
     "name": "stderr",
     "output_type": "stream",
     "text": [
      "\r",
      " 16%|█▌        | 1549/9716 [1:34:47<8:19:49,  3.67s/it]"
     ]
    },
    {
     "name": "stdout",
     "output_type": "stream",
     "text": [
      "167310 20 26333 140970 [27954, 27953, 27952, 27951, 27950, 27949, 27948, 27947, 27946, 27945, 27944, 27943, 27942, 27941, 27940, 27939, 27938, 27937, 27936, 27935]\n"
     ]
    },
    {
     "name": "stderr",
     "output_type": "stream",
     "text": [
      "\r",
      " 16%|█▌        | 1550/9716 [1:34:51<8:19:46,  3.67s/it]"
     ]
    },
    {
     "name": "stdout",
     "output_type": "stream",
     "text": [
      "167310 20 26350 140960 [27971, 27970, 27969, 27968, 27967, 27966, 27965, 27964, 27963, 27962, 27961, 27960, 27959, 27958, 27957, 27956, 27955, 27954, 27953, 27952]\n"
     ]
    },
    {
     "name": "stderr",
     "output_type": "stream",
     "text": [
      "\r",
      " 16%|█▌        | 1551/9716 [1:34:55<8:19:45,  3.67s/it]"
     ]
    },
    {
     "name": "stdout",
     "output_type": "stream",
     "text": [
      "167310 20 26367 140943 [27988, 27987, 27986, 27985, 27984, 27983, 27982, 27981, 27980, 27979, 27978, 27977, 27976, 27975, 27974, 27973, 27972, 27971, 27970, 27969]\n"
     ]
    },
    {
     "name": "stderr",
     "output_type": "stream",
     "text": [
      "\r",
      " 16%|█▌        | 1552/9716 [1:34:59<8:19:43,  3.67s/it]"
     ]
    },
    {
     "name": "stdout",
     "output_type": "stream",
     "text": [
      "167310 20 26384 140926 [28005, 28004, 28003, 28002, 28001, 28000, 27999, 27998, 27997, 27996, 27995, 27994, 27993, 27992, 27991, 27990, 27989, 27988, 27987, 27986]\n"
     ]
    },
    {
     "name": "stderr",
     "output_type": "stream",
     "text": [
      "\r",
      " 16%|█▌        | 1553/9716 [1:35:03<8:19:40,  3.67s/it]"
     ]
    },
    {
     "name": "stdout",
     "output_type": "stream",
     "text": [
      "167310 20 26401 140909 [28022, 28021, 28020, 28019, 28018, 28017, 28016, 28015, 28014, 28013, 28012, 28011, 28010, 28009, 28008, 28007, 28006, 28005, 28004, 28003]\n"
     ]
    },
    {
     "name": "stderr",
     "output_type": "stream",
     "text": [
      "\r",
      " 16%|█▌        | 1554/9716 [1:35:06<8:19:34,  3.67s/it]"
     ]
    },
    {
     "name": "stdout",
     "output_type": "stream",
     "text": [
      "167310 20 26418 140892 [28039, 28038, 28037, 28036, 28035, 28034, 28033, 28032, 28031, 28030, 28029, 28028, 28027, 28026, 28025, 28024, 28023, 28022, 28021, 28020]\n"
     ]
    },
    {
     "name": "stderr",
     "output_type": "stream",
     "text": [
      "\r",
      " 16%|█▌        | 1555/9716 [1:35:10<8:19:29,  3.67s/it]"
     ]
    },
    {
     "name": "stdout",
     "output_type": "stream",
     "text": [
      "167310 20 26435 140875 [28056, 28055, 28054, 28053, 28052, 28051, 28050, 28049, 28048, 28047, 28046, 28045, 28044, 28043, 28042, 28041, 28040, 28039, 28038, 28037]\n"
     ]
    },
    {
     "name": "stderr",
     "output_type": "stream",
     "text": [
      "\r",
      " 16%|█▌        | 1556/9716 [1:35:13<8:19:23,  3.67s/it]"
     ]
    },
    {
     "name": "stdout",
     "output_type": "stream",
     "text": [
      "167312 20 26452 140858 [28073, 28072, 28071, 28070, 28069, 28068, 28067, 28066, 28065, 28064, 28063, 28062, 28061, 28060, 28059, 28058, 28057, 28056, 28055, 28054]\n"
     ]
    },
    {
     "name": "stderr",
     "output_type": "stream",
     "text": [
      "\r",
      " 16%|█▌        | 1557/9716 [1:35:17<8:19:18,  3.67s/it]"
     ]
    },
    {
     "name": "stdout",
     "output_type": "stream",
     "text": [
      "167312 20 26469 140843 [28090, 28089, 28088, 28087, 28086, 28085, 28084, 28083, 28082, 28081, 28080, 28079, 28078, 28077, 28076, 28075, 28074, 28073, 28072, 28071]\n"
     ]
    },
    {
     "name": "stderr",
     "output_type": "stream",
     "text": [
      "\r",
      " 16%|█▌        | 1558/9716 [1:35:20<8:19:13,  3.67s/it]"
     ]
    },
    {
     "name": "stdout",
     "output_type": "stream",
     "text": [
      "167318 20 26486 140826 [28107, 28106, 28105, 28104, 28103, 28102, 28101, 28100, 28099, 28098, 28097, 28096, 28095, 28094, 28093, 28092, 28091, 28090, 28089, 28088]\n"
     ]
    },
    {
     "name": "stderr",
     "output_type": "stream",
     "text": [
      "\r",
      " 16%|█▌        | 1559/9716 [1:35:24<8:19:10,  3.67s/it]"
     ]
    },
    {
     "name": "stdout",
     "output_type": "stream",
     "text": [
      "167318 20 26503 140815 [28124, 28123, 28122, 28121, 28120, 28119, 28118, 28117, 28116, 28115, 28114, 28113, 28112, 28111, 28110, 28109, 28108, 28107, 28106, 28105]\n"
     ]
    },
    {
     "name": "stderr",
     "output_type": "stream",
     "text": [
      "\r",
      " 16%|█▌        | 1560/9716 [1:35:28<8:19:09,  3.67s/it]"
     ]
    },
    {
     "name": "stdout",
     "output_type": "stream",
     "text": [
      "167326 20 26520 140798 [28141, 28140, 28139, 28138, 28137, 28136, 28135, 28134, 28133, 28132, 28131, 28130, 28129, 28128, 28127, 28126, 28125, 28124, 28123, 28122]\n"
     ]
    },
    {
     "name": "stderr",
     "output_type": "stream",
     "text": [
      "\r",
      " 16%|█▌        | 1561/9716 [1:35:33<8:19:12,  3.67s/it]"
     ]
    },
    {
     "name": "stdout",
     "output_type": "stream",
     "text": [
      "167326 20 26537 140789 [28158, 28157, 28156, 28155, 28154, 28153, 28152, 28151, 28150, 28149, 28148, 28147, 28146, 28145, 28144, 28143, 28142, 28141, 28140, 28139]\n"
     ]
    },
    {
     "name": "stderr",
     "output_type": "stream",
     "text": [
      "\r",
      " 16%|█▌        | 1562/9716 [1:35:38<8:19:14,  3.67s/it]"
     ]
    },
    {
     "name": "stdout",
     "output_type": "stream",
     "text": [
      "167326 20 26554 140772 [28175, 28174, 28173, 28172, 28171, 28170, 28169, 28168, 28167, 28166, 28165, 28164, 28163, 28162, 28161, 28160, 28159, 28158, 28157, 28156]\n"
     ]
    },
    {
     "name": "stderr",
     "output_type": "stream",
     "text": [
      "\r",
      " 16%|█▌        | 1563/9716 [1:35:41<8:19:10,  3.67s/it]"
     ]
    },
    {
     "name": "stdout",
     "output_type": "stream",
     "text": [
      "167326 20 26571 140755 [28192, 28191, 28190, 28189, 28188, 28187, 28186, 28185, 28184, 28183, 28182, 28181, 28180, 28179, 28178, 28177, 28176, 28175, 28174, 28173]\n"
     ]
    },
    {
     "name": "stderr",
     "output_type": "stream",
     "text": [
      "\r",
      " 16%|█▌        | 1564/9716 [1:35:45<8:19:04,  3.67s/it]"
     ]
    },
    {
     "name": "stdout",
     "output_type": "stream",
     "text": [
      "167326 20 26588 140738 [28209, 28208, 28207, 28206, 28205, 28204, 28203, 28202, 28201, 28200, 28199, 28198, 28197, 28196, 28195, 28194, 28193, 28192, 28191, 28190]\n"
     ]
    },
    {
     "name": "stderr",
     "output_type": "stream",
     "text": [
      "\r",
      " 16%|█▌        | 1565/9716 [1:35:48<8:18:58,  3.67s/it]"
     ]
    },
    {
     "name": "stdout",
     "output_type": "stream",
     "text": [
      "167326 20 26605 140721 [28226, 28225, 28224, 28223, 28222, 28221, 28220, 28219, 28218, 28217, 28216, 28215, 28214, 28213, 28212, 28211, 28210, 28209, 28208, 28207]\n"
     ]
    },
    {
     "name": "stderr",
     "output_type": "stream",
     "text": [
      "\r",
      " 16%|█▌        | 1566/9716 [1:35:51<8:18:52,  3.67s/it]"
     ]
    },
    {
     "name": "stdout",
     "output_type": "stream",
     "text": [
      "167326 20 26622 140704 [28243, 28242, 28241, 28240, 28239, 28238, 28237, 28236, 28235, 28234, 28233, 28232, 28231, 28230, 28229, 28228, 28227, 28226, 28225, 28224]\n"
     ]
    },
    {
     "name": "stderr",
     "output_type": "stream",
     "text": [
      "\r",
      " 16%|█▌        | 1567/9716 [1:35:54<8:18:45,  3.67s/it]"
     ]
    },
    {
     "name": "stdout",
     "output_type": "stream",
     "text": [
      "167333 20 26639 140687 [28260, 28259, 28258, 28257, 28256, 28255, 28254, 28253, 28252, 28251, 28250, 28249, 28248, 28247, 28246, 28245, 28244, 28243, 28242, 28241]\n"
     ]
    },
    {
     "name": "stderr",
     "output_type": "stream",
     "text": [
      "\r",
      " 16%|█▌        | 1568/9716 [1:35:57<8:18:38,  3.67s/it]"
     ]
    },
    {
     "name": "stdout",
     "output_type": "stream",
     "text": [
      "167333 20 26656 140677 [28277, 28276, 28275, 28274, 28273, 28272, 28271, 28270, 28269, 28268, 28267, 28266, 28265, 28264, 28263, 28262, 28261, 28260, 28259, 28258]\n"
     ]
    },
    {
     "name": "stderr",
     "output_type": "stream",
     "text": [
      "\r",
      " 16%|█▌        | 1569/9716 [1:36:00<8:18:33,  3.67s/it]"
     ]
    },
    {
     "name": "stdout",
     "output_type": "stream",
     "text": [
      "167333 20 26673 140660 [28294, 28293, 28292, 28291, 28290, 28289, 28288, 28287, 28286, 28285, 28284, 28283, 28282, 28281, 28280, 28279, 28278, 28277, 28276, 28275]\n"
     ]
    },
    {
     "name": "stderr",
     "output_type": "stream",
     "text": [
      "\r",
      " 16%|█▌        | 1570/9716 [1:36:04<8:18:27,  3.67s/it]"
     ]
    },
    {
     "name": "stdout",
     "output_type": "stream",
     "text": [
      "167333 20 26690 140643 [28311, 28310, 28309, 28308, 28307, 28306, 28305, 28304, 28303, 28302, 28301, 28300, 28299, 28298, 28297, 28296, 28295, 28294, 28293, 28292]\n"
     ]
    },
    {
     "name": "stderr",
     "output_type": "stream",
     "text": [
      "\r",
      " 16%|█▌        | 1571/9716 [1:36:08<8:18:25,  3.67s/it]"
     ]
    },
    {
     "name": "stdout",
     "output_type": "stream",
     "text": [
      "167339 20 26707 140626 [28328, 28327, 28326, 28325, 28324, 28323, 28322, 28321, 28320, 28319, 28318, 28317, 28316, 28315, 28314, 28313, 28312, 28311, 28310, 28309]\n"
     ]
    },
    {
     "name": "stderr",
     "output_type": "stream",
     "text": [
      "\r",
      " 16%|█▌        | 1572/9716 [1:36:11<8:18:21,  3.67s/it]"
     ]
    },
    {
     "name": "stdout",
     "output_type": "stream",
     "text": [
      "167339 20 26724 140615 [28345, 28344, 28343, 28342, 28341, 28340, 28339, 28338, 28337, 28336, 28335, 28334, 28333, 28332, 28331, 28330, 28329, 28328, 28327, 28326]\n"
     ]
    },
    {
     "name": "stderr",
     "output_type": "stream",
     "text": [
      "\r",
      " 16%|█▌        | 1573/9716 [1:36:14<8:18:15,  3.67s/it]"
     ]
    },
    {
     "name": "stdout",
     "output_type": "stream",
     "text": [
      "167339 20 26741 140598 [28362, 28361, 28360, 28359, 28358, 28357, 28356, 28355, 28354, 28353, 28352, 28351, 28350, 28349, 28348, 28347, 28346, 28345, 28344, 28343]\n"
     ]
    },
    {
     "name": "stderr",
     "output_type": "stream",
     "text": [
      "\r",
      " 16%|█▌        | 1574/9716 [1:36:18<8:18:11,  3.67s/it]"
     ]
    },
    {
     "name": "stdout",
     "output_type": "stream",
     "text": [
      "167339 20 26758 140581 [28379, 28378, 28377, 28376, 28375, 28374, 28373, 28372, 28371, 28370, 28369, 28368, 28367, 28366, 28365, 28364, 28363, 28362, 28361, 28360]\n"
     ]
    },
    {
     "name": "stderr",
     "output_type": "stream",
     "text": [
      "\r",
      " 16%|█▌        | 1575/9716 [1:36:21<8:18:04,  3.67s/it]"
     ]
    },
    {
     "name": "stdout",
     "output_type": "stream",
     "text": [
      "167344 20 26775 140564 [28396, 28395, 28394, 28393, 28392, 28391, 28390, 28389, 28388, 28387, 28386, 28385, 28384, 28383, 28382, 28381, 28380, 28379, 28378, 28377]\n"
     ]
    },
    {
     "name": "stderr",
     "output_type": "stream",
     "text": [
      "\r",
      " 16%|█▌        | 1576/9716 [1:36:25<8:18:00,  3.67s/it]"
     ]
    },
    {
     "name": "stdout",
     "output_type": "stream",
     "text": [
      "167344 20 26792 140552 [28413, 28412, 28411, 28410, 28409, 28408, 28407, 28406, 28405, 28404, 28403, 28402, 28401, 28400, 28399, 28398, 28397, 28396, 28395, 28394]\n"
     ]
    },
    {
     "name": "stderr",
     "output_type": "stream",
     "text": [
      "\r",
      " 16%|█▌        | 1577/9716 [1:36:28<8:17:53,  3.67s/it]"
     ]
    },
    {
     "name": "stdout",
     "output_type": "stream",
     "text": [
      "167344 20 26809 140535 [28430, 28429, 28428, 28427, 28426, 28425, 28424, 28423, 28422, 28421, 28420, 28419, 28418, 28417, 28416, 28415, 28414, 28413, 28412, 28411]\n"
     ]
    },
    {
     "name": "stderr",
     "output_type": "stream",
     "text": [
      "\r",
      " 16%|█▌        | 1578/9716 [1:36:31<8:17:49,  3.67s/it]"
     ]
    },
    {
     "name": "stdout",
     "output_type": "stream",
     "text": [
      "167344 20 26826 140518 [28447, 28446, 28445, 28444, 28443, 28442, 28441, 28440, 28439, 28438, 28437, 28436, 28435, 28434, 28433, 28432, 28431, 28430, 28429, 28428]\n"
     ]
    },
    {
     "name": "stderr",
     "output_type": "stream",
     "text": [
      "\r",
      " 16%|█▋        | 1579/9716 [1:36:35<8:17:43,  3.67s/it]"
     ]
    },
    {
     "name": "stdout",
     "output_type": "stream",
     "text": [
      "167344 20 26843 140501 [28464, 28463, 28462, 28461, 28460, 28459, 28458, 28457, 28456, 28455, 28454, 28453, 28452, 28451, 28450, 28449, 28448, 28447, 28446, 28445]\n"
     ]
    },
    {
     "name": "stderr",
     "output_type": "stream",
     "text": [
      "\r",
      " 16%|█▋        | 1580/9716 [1:36:38<8:17:36,  3.67s/it]"
     ]
    },
    {
     "name": "stdout",
     "output_type": "stream",
     "text": [
      "167344 20 26860 140484 [28481, 28480, 28479, 28478, 28477, 28476, 28475, 28474, 28473, 28472, 28471, 28470, 28469, 28468, 28467, 28466, 28465, 28464, 28463, 28462]\n"
     ]
    },
    {
     "name": "stderr",
     "output_type": "stream",
     "text": [
      "\r",
      " 16%|█▋        | 1581/9716 [1:36:41<8:17:31,  3.67s/it]"
     ]
    },
    {
     "name": "stdout",
     "output_type": "stream",
     "text": [
      "167349 20 26877 140467 [28498, 28497, 28496, 28495, 28494, 28493, 28492, 28491, 28490, 28489, 28488, 28487, 28486, 28485, 28484, 28483, 28482, 28481, 28480, 28479]\n"
     ]
    },
    {
     "name": "stderr",
     "output_type": "stream",
     "text": [
      "\r",
      " 16%|█▋        | 1582/9716 [1:36:44<8:17:23,  3.67s/it]"
     ]
    },
    {
     "name": "stdout",
     "output_type": "stream",
     "text": [
      "167350 20 26894 140455 [28515, 28514, 28513, 28512, 28511, 28510, 28509, 28508, 28507, 28506, 28505, 28504, 28503, 28502, 28501, 28500, 28499, 28498, 28497, 28496]\n"
     ]
    },
    {
     "name": "stderr",
     "output_type": "stream",
     "text": [
      "\r",
      " 16%|█▋        | 1583/9716 [1:36:47<8:17:17,  3.67s/it]"
     ]
    },
    {
     "name": "stdout",
     "output_type": "stream",
     "text": [
      "167350 20 26911 140439 [28532, 28531, 28530, 28529, 28528, 28527, 28526, 28525, 28524, 28523, 28522, 28521, 28520, 28519, 28518, 28517, 28516, 28515, 28514, 28513]\n"
     ]
    },
    {
     "name": "stderr",
     "output_type": "stream",
     "text": [
      "\r",
      " 16%|█▋        | 1584/9716 [1:36:50<8:17:10,  3.67s/it]"
     ]
    },
    {
     "name": "stdout",
     "output_type": "stream",
     "text": [
      "167350 20 26928 140422 [28549, 28548, 28547, 28546, 28545, 28544, 28543, 28542, 28541, 28540, 28539, 28538, 28537, 28536, 28535, 28534, 28533, 28532, 28531, 28530]\n"
     ]
    },
    {
     "name": "stderr",
     "output_type": "stream",
     "text": [
      "\r",
      " 16%|█▋        | 1585/9716 [1:36:53<8:17:02,  3.67s/it]"
     ]
    },
    {
     "name": "stdout",
     "output_type": "stream",
     "text": [
      "167350 20 26945 140405 [28566, 28565, 28564, 28563, 28562, 28561, 28560, 28559, 28558, 28557, 28556, 28555, 28554, 28553, 28552, 28551, 28550, 28549, 28548, 28547]\n"
     ]
    },
    {
     "name": "stderr",
     "output_type": "stream",
     "text": [
      "\r",
      " 16%|█▋        | 1586/9716 [1:36:56<8:16:54,  3.67s/it]"
     ]
    },
    {
     "name": "stdout",
     "output_type": "stream",
     "text": [
      "167358 20 26962 140388 [28583, 28582, 28581, 28580, 28579, 28578, 28577, 28576, 28575, 28574, 28573, 28572, 28571, 28570, 28569, 28568, 28567, 28566, 28565, 28564]\n"
     ]
    },
    {
     "name": "stderr",
     "output_type": "stream",
     "text": [
      "\r",
      " 16%|█▋        | 1587/9716 [1:36:59<8:16:48,  3.67s/it]"
     ]
    },
    {
     "name": "stdout",
     "output_type": "stream",
     "text": [
      "167358 20 26979 140379 [28600, 28599, 28598, 28597, 28596, 28595, 28594, 28593, 28592, 28591, 28590, 28589, 28588, 28587, 28586, 28585, 28584, 28583, 28582, 28581]\n"
     ]
    },
    {
     "name": "stderr",
     "output_type": "stream",
     "text": [
      "\r",
      " 16%|█▋        | 1588/9716 [1:37:02<8:16:40,  3.67s/it]"
     ]
    },
    {
     "name": "stdout",
     "output_type": "stream",
     "text": [
      "167358 20 26996 140362 [28617, 28616, 28615, 28614, 28613, 28612, 28611, 28610, 28609, 28608, 28607, 28606, 28605, 28604, 28603, 28602, 28601, 28600, 28599, 28598]\n"
     ]
    },
    {
     "name": "stderr",
     "output_type": "stream",
     "text": [
      "\r",
      " 16%|█▋        | 1589/9716 [1:37:05<8:16:32,  3.67s/it]"
     ]
    },
    {
     "name": "stdout",
     "output_type": "stream",
     "text": [
      "167359 20 27013 140345 [28634, 28633, 28632, 28631, 28630, 28629, 28628, 28627, 28626, 28625, 28624, 28623, 28622, 28621, 28620, 28619, 28618, 28617, 28616, 28615]\n"
     ]
    },
    {
     "name": "stderr",
     "output_type": "stream",
     "text": [
      "\r",
      " 16%|█▋        | 1590/9716 [1:37:07<8:16:24,  3.67s/it]"
     ]
    },
    {
     "name": "stdout",
     "output_type": "stream",
     "text": [
      "167359 20 27030 140329 [28651, 28650, 28649, 28648, 28647, 28646, 28645, 28644, 28643, 28642, 28641, 28640, 28639, 28638, 28637, 28636, 28635, 28634, 28633, 28632]\n"
     ]
    },
    {
     "name": "stderr",
     "output_type": "stream",
     "text": [
      "\r",
      " 16%|█▋        | 1591/9716 [1:37:10<8:16:17,  3.66s/it]"
     ]
    },
    {
     "name": "stdout",
     "output_type": "stream",
     "text": [
      "167359 20 27047 140312 [28668, 28667, 28666, 28665, 28664, 28663, 28662, 28661, 28660, 28659, 28658, 28657, 28656, 28655, 28654, 28653, 28652, 28651, 28650, 28649]\n"
     ]
    },
    {
     "name": "stderr",
     "output_type": "stream",
     "text": [
      "\r",
      " 16%|█▋        | 1592/9716 [1:37:14<8:16:11,  3.66s/it]"
     ]
    },
    {
     "name": "stdout",
     "output_type": "stream",
     "text": [
      "167363 20 27064 140295 [28685, 28684, 28683, 28682, 28681, 28680, 28679, 28678, 28677, 28676, 28675, 28674, 28673, 28672, 28671, 28670, 28669, 28668, 28667, 28666]\n"
     ]
    },
    {
     "name": "stderr",
     "output_type": "stream",
     "text": [
      "\r",
      " 16%|█▋        | 1593/9716 [1:37:17<8:16:05,  3.66s/it]"
     ]
    },
    {
     "name": "stdout",
     "output_type": "stream",
     "text": [
      "167363 20 27081 140282 [28702, 28701, 28700, 28699, 28698, 28697, 28696, 28695, 28694, 28693, 28692, 28691, 28690, 28689, 28688, 28687, 28686, 28685, 28684, 28683]\n"
     ]
    },
    {
     "name": "stderr",
     "output_type": "stream",
     "text": [
      "\r",
      " 16%|█▋        | 1594/9716 [1:37:20<8:16:00,  3.66s/it]"
     ]
    },
    {
     "name": "stdout",
     "output_type": "stream",
     "text": [
      "167363 20 27098 140265 [28719, 28718, 28717, 28716, 28715, 28714, 28713, 28712, 28711, 28710, 28709, 28708, 28707, 28706, 28705, 28704, 28703, 28702, 28701, 28700]\n"
     ]
    },
    {
     "name": "stderr",
     "output_type": "stream",
     "text": [
      "\r",
      " 16%|█▋        | 1595/9716 [1:37:23<8:15:52,  3.66s/it]"
     ]
    },
    {
     "name": "stdout",
     "output_type": "stream",
     "text": [
      "167363 20 27115 140248 [28736, 28735, 28734, 28733, 28732, 28731, 28730, 28729, 28728, 28727, 28726, 28725, 28724, 28723, 28722, 28721, 28720, 28719, 28718, 28717]\n"
     ]
    },
    {
     "name": "stderr",
     "output_type": "stream",
     "text": [
      "\r",
      " 16%|█▋        | 1596/9716 [1:37:26<8:15:45,  3.66s/it]"
     ]
    },
    {
     "name": "stdout",
     "output_type": "stream",
     "text": [
      "167363 20 27132 140231 [28753, 28752, 28751, 28750, 28749, 28748, 28747, 28746, 28745, 28744, 28743, 28742, 28741, 28740, 28739, 28738, 28737, 28736, 28735, 28734]\n"
     ]
    },
    {
     "name": "stderr",
     "output_type": "stream",
     "text": [
      "\r",
      " 16%|█▋        | 1597/9716 [1:37:29<8:15:39,  3.66s/it]"
     ]
    },
    {
     "name": "stdout",
     "output_type": "stream",
     "text": [
      "167363 20 27149 140214 [28770, 28769, 28768, 28767, 28766, 28765, 28764, 28763, 28762, 28761, 28760, 28759, 28758, 28757, 28756, 28755, 28754, 28753, 28752, 28751]\n"
     ]
    },
    {
     "name": "stderr",
     "output_type": "stream",
     "text": [
      "\r",
      " 16%|█▋        | 1598/9716 [1:37:32<8:15:32,  3.66s/it]"
     ]
    },
    {
     "name": "stdout",
     "output_type": "stream",
     "text": [
      "167363 20 27166 140197 [28787, 28786, 28785, 28784, 28783, 28782, 28781, 28780, 28779, 28778, 28777, 28776, 28775, 28774, 28773, 28772, 28771, 28770, 28769, 28768]\n"
     ]
    },
    {
     "name": "stderr",
     "output_type": "stream",
     "text": [
      "\r",
      " 16%|█▋        | 1599/9716 [1:37:35<8:15:25,  3.66s/it]"
     ]
    },
    {
     "name": "stdout",
     "output_type": "stream",
     "text": [
      "167363 20 27183 140180 [28804, 28803, 28802, 28801, 28800, 28799, 28798, 28797, 28796, 28795, 28794, 28793, 28792, 28791, 28790, 28789, 28788, 28787, 28786, 28785]\n"
     ]
    },
    {
     "name": "stderr",
     "output_type": "stream",
     "text": [
      "\r",
      " 16%|█▋        | 1600/9716 [1:37:38<8:15:17,  3.66s/it]"
     ]
    },
    {
     "name": "stdout",
     "output_type": "stream",
     "text": [
      "167365 20 27200 140163 [28821, 28820, 28819, 28818, 28817, 28816, 28815, 28814, 28813, 28812, 28811, 28810, 28809, 28808, 28807, 28806, 28805, 28804, 28803, 28802]\n"
     ]
    },
    {
     "name": "stderr",
     "output_type": "stream",
     "text": [
      "\r",
      " 16%|█▋        | 1601/9716 [1:37:41<8:15:09,  3.66s/it]"
     ]
    },
    {
     "name": "stdout",
     "output_type": "stream",
     "text": [
      "167375 20 27217 140148 [28845, 28844, 28843, 28842, 28841, 28840, 28839, 28838, 28837, 28836, 28835, 28834, 28833, 28832, 28831, 28830, 28829, 28828, 28827, 28826]\n"
     ]
    },
    {
     "name": "stderr",
     "output_type": "stream",
     "text": [
      "\r",
      " 16%|█▋        | 1602/9716 [1:37:44<8:15:02,  3.66s/it]"
     ]
    },
    {
     "name": "stdout",
     "output_type": "stream",
     "text": [
      "167375 20 27234 140141 [28855, 28854, 28853, 28852, 28851, 28850, 28849, 28848, 28847, 28846, 28845, 28844, 28843, 28842, 28841, 28840, 28839, 28838, 28837, 28836]\n"
     ]
    },
    {
     "name": "stderr",
     "output_type": "stream",
     "text": [
      "\r",
      " 16%|█▋        | 1603/9716 [1:37:47<8:14:55,  3.66s/it]"
     ]
    },
    {
     "name": "stdout",
     "output_type": "stream",
     "text": [
      "167375 20 27251 140124 [28872, 28871, 28870, 28869, 28868, 28867, 28866, 28865, 28864, 28863, 28862, 28861, 28860, 28859, 28858, 28857, 28856, 28855, 28854, 28853]\n"
     ]
    },
    {
     "name": "stderr",
     "output_type": "stream",
     "text": [
      "\r",
      " 17%|█▋        | 1604/9716 [1:37:50<8:14:47,  3.66s/it]"
     ]
    },
    {
     "name": "stdout",
     "output_type": "stream",
     "text": [
      "167375 20 27268 140107 [28889, 28888, 28887, 28886, 28885, 28884, 28883, 28882, 28881, 28880, 28879, 28878, 28877, 28876, 28875, 28874, 28873, 28872, 28871, 28870]\n"
     ]
    },
    {
     "name": "stderr",
     "output_type": "stream",
     "text": [
      "\r",
      " 17%|█▋        | 1605/9716 [1:37:53<8:14:40,  3.66s/it]"
     ]
    },
    {
     "name": "stdout",
     "output_type": "stream",
     "text": [
      "167375 20 27285 140090 [28906, 28905, 28904, 28903, 28902, 28901, 28900, 28899, 28898, 28897, 28896, 28895, 28894, 28893, 28892, 28891, 28890, 28889, 28888, 28887]\n"
     ]
    },
    {
     "name": "stderr",
     "output_type": "stream",
     "text": [
      "\r",
      " 17%|█▋        | 1606/9716 [1:37:56<8:14:35,  3.66s/it]"
     ]
    },
    {
     "name": "stdout",
     "output_type": "stream",
     "text": [
      "167375 20 27302 140073 [28923, 28922, 28921, 28920, 28919, 28918, 28917, 28916, 28915, 28914, 28913, 28912, 28911, 28910, 28909, 28908, 28907, 28906, 28905, 28904]\n"
     ]
    },
    {
     "name": "stderr",
     "output_type": "stream",
     "text": [
      "\r",
      " 17%|█▋        | 1607/9716 [1:38:00<8:14:31,  3.66s/it]"
     ]
    },
    {
     "name": "stdout",
     "output_type": "stream",
     "text": [
      "167388 20 27319 140056 [28940, 28939, 28938, 28937, 28936, 28935, 28934, 28933, 28932, 28931, 28930, 28929, 28928, 28927, 28926, 28925, 28924, 28923, 28922, 28921]\n"
     ]
    },
    {
     "name": "stderr",
     "output_type": "stream",
     "text": [
      "\r",
      " 17%|█▋        | 1608/9716 [1:38:03<8:14:24,  3.66s/it]"
     ]
    },
    {
     "name": "stdout",
     "output_type": "stream",
     "text": [
      "167388 20 27336 140052 [28957, 28956, 28955, 28954, 28953, 28952, 28951, 28950, 28949, 28948, 28947, 28946, 28945, 28944, 28943, 28942, 28941, 28940, 28939, 28938]\n"
     ]
    },
    {
     "name": "stderr",
     "output_type": "stream",
     "text": [
      "\r",
      " 17%|█▋        | 1609/9716 [1:38:06<8:14:17,  3.66s/it]"
     ]
    },
    {
     "name": "stdout",
     "output_type": "stream",
     "text": [
      "167388 20 27353 140035 [28974, 28973, 28972, 28971, 28970, 28969, 28968, 28967, 28966, 28965, 28964, 28963, 28962, 28961, 28960, 28959, 28958, 28957, 28956, 28955]\n"
     ]
    },
    {
     "name": "stderr",
     "output_type": "stream",
     "text": [
      "\r",
      " 17%|█▋        | 1610/9716 [1:38:09<8:14:12,  3.66s/it]"
     ]
    },
    {
     "name": "stdout",
     "output_type": "stream",
     "text": [
      "167388 20 27370 140018 [28991, 28990, 28989, 28988, 28987, 28986, 28985, 28984, 28983, 28982, 28981, 28980, 28979, 28978, 28977, 28976, 28975, 28974, 28973, 28972]\n"
     ]
    },
    {
     "name": "stderr",
     "output_type": "stream",
     "text": [
      "\r",
      " 17%|█▋        | 1611/9716 [1:38:12<8:14:06,  3.66s/it]"
     ]
    },
    {
     "name": "stdout",
     "output_type": "stream",
     "text": [
      "167388 20 27387 140001 [29008, 29007, 29006, 29005, 29004, 29003, 29002, 29001, 29000, 28999, 28998, 28997, 28996, 28995, 28994, 28993, 28992, 28991, 28990, 28989]\n"
     ]
    },
    {
     "name": "stderr",
     "output_type": "stream",
     "text": [
      "\r",
      " 17%|█▋        | 1612/9716 [1:38:15<8:13:59,  3.66s/it]"
     ]
    },
    {
     "name": "stdout",
     "output_type": "stream",
     "text": [
      "167388 20 27404 139984 [29025, 29024, 29023, 29022, 29021, 29020, 29019, 29018, 29017, 29016, 29015, 29014, 29013, 29012, 29011, 29010, 29009, 29008, 29007, 29006]\n"
     ]
    },
    {
     "name": "stderr",
     "output_type": "stream",
     "text": [
      "\r",
      " 17%|█▋        | 1613/9716 [1:38:18<8:13:52,  3.66s/it]"
     ]
    },
    {
     "name": "stdout",
     "output_type": "stream",
     "text": [
      "167388 20 27421 139967 [29042, 29041, 29040, 29039, 29038, 29037, 29036, 29035, 29034, 29033, 29032, 29031, 29030, 29029, 29028, 29027, 29026, 29025, 29024, 29023]\n"
     ]
    },
    {
     "name": "stderr",
     "output_type": "stream",
     "text": [
      "\r",
      " 17%|█▋        | 1614/9716 [1:38:22<8:13:47,  3.66s/it]"
     ]
    },
    {
     "name": "stdout",
     "output_type": "stream",
     "text": [
      "167388 20 27438 139950 [29059, 29058, 29057, 29056, 29055, 29054, 29053, 29052, 29051, 29050, 29049, 29048, 29047, 29046, 29045, 29044, 29043, 29042, 29041, 29040]\n"
     ]
    },
    {
     "name": "stderr",
     "output_type": "stream",
     "text": [
      "\r",
      " 17%|█▋        | 1615/9716 [1:38:25<8:13:41,  3.66s/it]"
     ]
    },
    {
     "name": "stdout",
     "output_type": "stream",
     "text": [
      "167388 20 27455 139933 [29076, 29075, 29074, 29073, 29072, 29071, 29070, 29069, 29068, 29067, 29066, 29065, 29064, 29063, 29062, 29061, 29060, 29059, 29058, 29057]\n"
     ]
    },
    {
     "name": "stderr",
     "output_type": "stream",
     "text": [
      "\r",
      " 17%|█▋        | 1616/9716 [1:38:28<8:13:34,  3.66s/it]"
     ]
    },
    {
     "name": "stdout",
     "output_type": "stream",
     "text": [
      "167388 20 27472 139916 [29093, 29092, 29091, 29090, 29089, 29088, 29087, 29086, 29085, 29084, 29083, 29082, 29081, 29080, 29079, 29078, 29077, 29076, 29075, 29074]\n"
     ]
    },
    {
     "name": "stderr",
     "output_type": "stream",
     "text": [
      "\r",
      " 17%|█▋        | 1617/9716 [1:38:31<8:13:28,  3.66s/it]"
     ]
    },
    {
     "name": "stdout",
     "output_type": "stream",
     "text": [
      "167388 20 27489 139899 [29110, 29109, 29108, 29107, 29106, 29105, 29104, 29103, 29102, 29101, 29100, 29099, 29098, 29097, 29096, 29095, 29094, 29093, 29092, 29091]\n"
     ]
    },
    {
     "name": "stderr",
     "output_type": "stream",
     "text": [
      "\r",
      " 17%|█▋        | 1618/9716 [1:38:34<8:13:22,  3.66s/it]"
     ]
    },
    {
     "name": "stdout",
     "output_type": "stream",
     "text": [
      "167388 20 27506 139882 [29127, 29126, 29125, 29124, 29123, 29122, 29121, 29120, 29119, 29118, 29117, 29116, 29115, 29114, 29113, 29112, 29111, 29110, 29109, 29108]\n"
     ]
    },
    {
     "name": "stderr",
     "output_type": "stream",
     "text": [
      "\r",
      " 17%|█▋        | 1619/9716 [1:38:37<8:13:16,  3.66s/it]"
     ]
    },
    {
     "name": "stdout",
     "output_type": "stream",
     "text": [
      "167388 20 27523 139865 [29144, 29143, 29142, 29141, 29140, 29139, 29138, 29137, 29136, 29135, 29134, 29133, 29132, 29131, 29130, 29129, 29128, 29127, 29126, 29125]\n"
     ]
    },
    {
     "name": "stderr",
     "output_type": "stream",
     "text": [
      "\r",
      " 17%|█▋        | 1620/9716 [1:38:41<8:13:11,  3.66s/it]"
     ]
    },
    {
     "name": "stdout",
     "output_type": "stream",
     "text": [
      "167388 20 27540 139848 [29161, 29160, 29159, 29158, 29157, 29156, 29155, 29154, 29153, 29152, 29151, 29150, 29149, 29148, 29147, 29146, 29145, 29144, 29143, 29142]\n"
     ]
    },
    {
     "name": "stderr",
     "output_type": "stream",
     "text": [
      "\r",
      " 17%|█▋        | 1621/9716 [1:38:44<8:13:05,  3.65s/it]"
     ]
    },
    {
     "name": "stdout",
     "output_type": "stream",
     "text": [
      "167388 20 27557 139831 [29178, 29177, 29176, 29175, 29174, 29173, 29172, 29171, 29170, 29169, 29168, 29167, 29166, 29165, 29164, 29163, 29162, 29161, 29160, 29159]\n"
     ]
    },
    {
     "name": "stderr",
     "output_type": "stream",
     "text": [
      "\r",
      " 17%|█▋        | 1622/9716 [1:38:47<8:12:58,  3.65s/it]"
     ]
    },
    {
     "name": "stdout",
     "output_type": "stream",
     "text": [
      "167388 20 27574 139814 [29195, 29194, 29193, 29192, 29191, 29190, 29189, 29188, 29187, 29186, 29185, 29184, 29183, 29182, 29181, 29180, 29179, 29178, 29177, 29176]\n"
     ]
    },
    {
     "name": "stderr",
     "output_type": "stream",
     "text": [
      "\r",
      " 17%|█▋        | 1623/9716 [1:38:50<8:12:50,  3.65s/it]"
     ]
    },
    {
     "name": "stdout",
     "output_type": "stream",
     "text": [
      "167388 20 27591 139797 [29212, 29211, 29210, 29209, 29208, 29207, 29206, 29205, 29204, 29203, 29202, 29201, 29200, 29199, 29198, 29197, 29196, 29195, 29194, 29193]\n"
     ]
    },
    {
     "name": "stderr",
     "output_type": "stream",
     "text": [
      "\r",
      " 17%|█▋        | 1624/9716 [1:38:53<8:12:44,  3.65s/it]"
     ]
    },
    {
     "name": "stdout",
     "output_type": "stream",
     "text": [
      "167388 20 27608 139780 [29229, 29228, 29227, 29226, 29225, 29224, 29223, 29222, 29221, 29220, 29219, 29218, 29217, 29216, 29215, 29214, 29213, 29212, 29211, 29210]\n"
     ]
    },
    {
     "name": "stderr",
     "output_type": "stream",
     "text": [
      "\r",
      " 17%|█▋        | 1625/9716 [1:38:56<8:12:38,  3.65s/it]"
     ]
    },
    {
     "name": "stdout",
     "output_type": "stream",
     "text": [
      "167388 20 27625 139763 [29246, 29245, 29244, 29243, 29242, 29241, 29240, 29239, 29238, 29237, 29236, 29235, 29234, 29233, 29232, 29231, 29230, 29229, 29228, 29227]\n"
     ]
    },
    {
     "name": "stderr",
     "output_type": "stream",
     "text": [
      "\r",
      " 17%|█▋        | 1626/9716 [1:38:59<8:12:32,  3.65s/it]"
     ]
    },
    {
     "name": "stdout",
     "output_type": "stream",
     "text": [
      "167388 20 27642 139746 [29263, 29262, 29261, 29260, 29259, 29258, 29257, 29256, 29255, 29254, 29253, 29252, 29251, 29250, 29249, 29248, 29247, 29246, 29245, 29244]\n"
     ]
    },
    {
     "name": "stderr",
     "output_type": "stream",
     "text": [
      "\r",
      " 17%|█▋        | 1627/9716 [1:39:02<8:12:25,  3.65s/it]"
     ]
    },
    {
     "name": "stdout",
     "output_type": "stream",
     "text": [
      "167388 20 27659 139729 [29280, 29279, 29278, 29277, 29276, 29275, 29274, 29273, 29272, 29271, 29270, 29269, 29268, 29267, 29266, 29265, 29264, 29263, 29262, 29261]\n"
     ]
    },
    {
     "name": "stderr",
     "output_type": "stream",
     "text": [
      "\r",
      " 17%|█▋        | 1628/9716 [1:39:06<8:12:20,  3.65s/it]"
     ]
    },
    {
     "name": "stdout",
     "output_type": "stream",
     "text": [
      "167389 20 27676 139712 [29297, 29296, 29295, 29294, 29293, 29292, 29291, 29290, 29289, 29288, 29287, 29286, 29285, 29284, 29283, 29282, 29281, 29280, 29279, 29278]\n"
     ]
    },
    {
     "name": "stderr",
     "output_type": "stream",
     "text": [
      "\r",
      " 17%|█▋        | 1629/9716 [1:39:09<8:12:14,  3.65s/it]"
     ]
    },
    {
     "name": "stdout",
     "output_type": "stream",
     "text": [
      "167389 20 27693 139696 [29314, 29313, 29312, 29311, 29310, 29309, 29308, 29307, 29306, 29305, 29304, 29303, 29302, 29301, 29300, 29299, 29298, 29297, 29296, 29295]\n"
     ]
    },
    {
     "name": "stderr",
     "output_type": "stream",
     "text": [
      "\r",
      " 17%|█▋        | 1630/9716 [1:39:12<8:12:08,  3.65s/it]"
     ]
    },
    {
     "name": "stdout",
     "output_type": "stream",
     "text": [
      "167389 20 27710 139679 [29331, 29330, 29329, 29328, 29327, 29326, 29325, 29324, 29323, 29322, 29321, 29320, 29319, 29318, 29317, 29316, 29315, 29314, 29313, 29312]\n"
     ]
    },
    {
     "name": "stderr",
     "output_type": "stream",
     "text": [
      "\r",
      " 17%|█▋        | 1631/9716 [1:39:15<8:12:03,  3.65s/it]"
     ]
    },
    {
     "name": "stdout",
     "output_type": "stream",
     "text": [
      "167389 20 27727 139662 [29348, 29347, 29346, 29345, 29344, 29343, 29342, 29341, 29340, 29339, 29338, 29337, 29336, 29335, 29334, 29333, 29332, 29331, 29330, 29329]\n"
     ]
    },
    {
     "name": "stderr",
     "output_type": "stream",
     "text": [
      "\r",
      " 17%|█▋        | 1632/9716 [1:39:18<8:11:55,  3.65s/it]"
     ]
    },
    {
     "name": "stdout",
     "output_type": "stream",
     "text": [
      "167389 20 27744 139645 [29365, 29364, 29363, 29362, 29361, 29360, 29359, 29358, 29357, 29356, 29355, 29354, 29353, 29352, 29351, 29350, 29349, 29348, 29347, 29346]\n"
     ]
    },
    {
     "name": "stderr",
     "output_type": "stream",
     "text": [
      "\r",
      " 17%|█▋        | 1633/9716 [1:39:21<8:11:49,  3.65s/it]"
     ]
    },
    {
     "name": "stdout",
     "output_type": "stream",
     "text": [
      "167389 20 27761 139628 [29382, 29381, 29380, 29379, 29378, 29377, 29376, 29375, 29374, 29373, 29372, 29371, 29370, 29369, 29368, 29367, 29366, 29365, 29364, 29363]\n"
     ]
    },
    {
     "name": "stderr",
     "output_type": "stream",
     "text": [
      "\r",
      " 17%|█▋        | 1634/9716 [1:39:25<8:11:45,  3.65s/it]"
     ]
    },
    {
     "name": "stdout",
     "output_type": "stream",
     "text": [
      "167389 20 27778 139611 [29399, 29398, 29397, 29396, 29395, 29394, 29393, 29392, 29391, 29390, 29389, 29388, 29387, 29386, 29385, 29384, 29383, 29382, 29381, 29380]\n"
     ]
    },
    {
     "name": "stderr",
     "output_type": "stream",
     "text": [
      "\r",
      " 17%|█▋        | 1635/9716 [1:39:28<8:11:41,  3.65s/it]"
     ]
    },
    {
     "name": "stdout",
     "output_type": "stream",
     "text": [
      "167389 20 27795 139594 [29416, 29415, 29414, 29413, 29412, 29411, 29410, 29409, 29408, 29407, 29406, 29405, 29404, 29403, 29402, 29401, 29400, 29399, 29398, 29397]\n"
     ]
    },
    {
     "name": "stderr",
     "output_type": "stream",
     "text": [
      "\r",
      " 17%|█▋        | 1636/9716 [1:39:32<8:11:37,  3.65s/it]"
     ]
    },
    {
     "name": "stdout",
     "output_type": "stream",
     "text": [
      "167389 20 27812 139577 [29433, 29432, 29431, 29430, 29429, 29428, 29427, 29426, 29425, 29424, 29423, 29422, 29421, 29420, 29419, 29418, 29417, 29416, 29415, 29414]\n"
     ]
    },
    {
     "name": "stderr",
     "output_type": "stream",
     "text": [
      "\r",
      " 17%|█▋        | 1637/9716 [1:39:36<8:11:36,  3.65s/it]"
     ]
    },
    {
     "name": "stdout",
     "output_type": "stream",
     "text": [
      "167389 20 27829 139560 [29450, 29449, 29448, 29447, 29446, 29445, 29444, 29443, 29442, 29441, 29440, 29439, 29438, 29437, 29436, 29435, 29434, 29433, 29432, 29431]\n"
     ]
    },
    {
     "name": "stderr",
     "output_type": "stream",
     "text": [
      "\r",
      " 17%|█▋        | 1638/9716 [1:39:40<8:11:35,  3.65s/it]"
     ]
    },
    {
     "name": "stdout",
     "output_type": "stream",
     "text": [
      "167389 20 27846 139543 [29467, 29466, 29465, 29464, 29463, 29462, 29461, 29460, 29459, 29458, 29457, 29456, 29455, 29454, 29453, 29452, 29451, 29450, 29449, 29448]\n"
     ]
    },
    {
     "name": "stderr",
     "output_type": "stream",
     "text": [
      "\r",
      " 17%|█▋        | 1639/9716 [1:39:44<8:11:32,  3.65s/it]"
     ]
    },
    {
     "name": "stdout",
     "output_type": "stream",
     "text": [
      "167389 20 27863 139526 [29484, 29483, 29482, 29481, 29480, 29479, 29478, 29477, 29476, 29475, 29474, 29473, 29472, 29471, 29470, 29469, 29468, 29467, 29466, 29465]\n"
     ]
    },
    {
     "name": "stderr",
     "output_type": "stream",
     "text": [
      "\r",
      " 17%|█▋        | 1640/9716 [1:39:48<8:11:27,  3.65s/it]"
     ]
    },
    {
     "name": "stdout",
     "output_type": "stream",
     "text": [
      "167389 20 27880 139509 [29501, 29500, 29499, 29498, 29497, 29496, 29495, 29494, 29493, 29492, 29491, 29490, 29489, 29488, 29487, 29486, 29485, 29484, 29483, 29482]\n"
     ]
    },
    {
     "name": "stderr",
     "output_type": "stream",
     "text": [
      "\r",
      " 17%|█▋        | 1641/9716 [1:39:52<8:11:26,  3.65s/it]"
     ]
    },
    {
     "name": "stdout",
     "output_type": "stream",
     "text": [
      "167398 20 27897 139492 [29518, 29517, 29516, 29515, 29514, 29513, 29512, 29511, 29510, 29509, 29508, 29507, 29506, 29505, 29504, 29503, 29502, 29501, 29500, 29499]\n"
     ]
    },
    {
     "name": "stderr",
     "output_type": "stream",
     "text": [
      "\r",
      " 17%|█▋        | 1642/9716 [1:39:55<8:11:21,  3.65s/it]"
     ]
    },
    {
     "name": "stdout",
     "output_type": "stream",
     "text": [
      "167398 20 27914 139484 [29535, 29534, 29533, 29532, 29531, 29530, 29529, 29528, 29527, 29526, 29525, 29524, 29523, 29522, 29521, 29520, 29519, 29518, 29517, 29516]\n"
     ]
    },
    {
     "name": "stderr",
     "output_type": "stream",
     "text": [
      "\r",
      " 17%|█▋        | 1643/9716 [1:39:59<8:11:17,  3.65s/it]"
     ]
    },
    {
     "name": "stdout",
     "output_type": "stream",
     "text": [
      "167398 20 27931 139467 [29552, 29551, 29550, 29549, 29548, 29547, 29546, 29545, 29544, 29543, 29542, 29541, 29540, 29539, 29538, 29537, 29536, 29535, 29534, 29533]\n"
     ]
    },
    {
     "name": "stderr",
     "output_type": "stream",
     "text": [
      "\r",
      " 17%|█▋        | 1644/9716 [1:40:02<8:11:13,  3.65s/it]"
     ]
    },
    {
     "name": "stdout",
     "output_type": "stream",
     "text": [
      "167398 20 27948 139450 [29569, 29568, 29567, 29566, 29565, 29564, 29563, 29562, 29561, 29560, 29559, 29558, 29557, 29556, 29555, 29554, 29553, 29552, 29551, 29550]\n"
     ]
    },
    {
     "name": "stderr",
     "output_type": "stream",
     "text": [
      "\r",
      " 17%|█▋        | 1645/9716 [1:40:06<8:11:09,  3.65s/it]"
     ]
    },
    {
     "name": "stdout",
     "output_type": "stream",
     "text": [
      "167404 20 27965 139433 [29586, 29585, 29584, 29583, 29582, 29581, 29580, 29579, 29578, 29577, 29576, 29575, 29574, 29573, 29572, 29571, 29570, 29569, 29568, 29567]\n"
     ]
    },
    {
     "name": "stderr",
     "output_type": "stream",
     "text": [
      "\r",
      " 17%|█▋        | 1646/9716 [1:40:09<8:11:05,  3.65s/it]"
     ]
    },
    {
     "name": "stdout",
     "output_type": "stream",
     "text": [
      "167404 20 27982 139422 [29603, 29602, 29601, 29600, 29599, 29598, 29597, 29596, 29595, 29594, 29593, 29592, 29591, 29590, 29589, 29588, 29587, 29586, 29585, 29584]\n"
     ]
    },
    {
     "name": "stderr",
     "output_type": "stream",
     "text": [
      "\r",
      " 17%|█▋        | 1647/9716 [1:40:13<8:11:02,  3.65s/it]"
     ]
    },
    {
     "name": "stdout",
     "output_type": "stream",
     "text": [
      "167404 20 27999 139405 [29620, 29619, 29618, 29617, 29616, 29615, 29614, 29613, 29612, 29611, 29610, 29609, 29608, 29607, 29606, 29605, 29604, 29603, 29602, 29601]\n"
     ]
    },
    {
     "name": "stderr",
     "output_type": "stream",
     "text": [
      "\r",
      " 17%|█▋        | 1648/9716 [1:40:17<8:10:58,  3.65s/it]"
     ]
    },
    {
     "name": "stdout",
     "output_type": "stream",
     "text": [
      "167404 20 28016 139388 [29637, 29636, 29635, 29634, 29633, 29632, 29631, 29630, 29629, 29628, 29627, 29626, 29625, 29624, 29623, 29622, 29621, 29620, 29619, 29618]\n"
     ]
    },
    {
     "name": "stderr",
     "output_type": "stream",
     "text": [
      "\r",
      " 17%|█▋        | 1649/9716 [1:40:20<8:10:54,  3.65s/it]"
     ]
    },
    {
     "name": "stdout",
     "output_type": "stream",
     "text": [
      "167404 20 28033 139371 [29654, 29653, 29652, 29651, 29650, 29649, 29648, 29647, 29646, 29645, 29644, 29643, 29642, 29641, 29640, 29639, 29638, 29637, 29636, 29635]\n"
     ]
    },
    {
     "name": "stderr",
     "output_type": "stream",
     "text": [
      "\r",
      " 17%|█▋        | 1650/9716 [1:40:24<8:10:50,  3.65s/it]"
     ]
    },
    {
     "name": "stdout",
     "output_type": "stream",
     "text": [
      "167404 20 28050 139354 [29671, 29670, 29669, 29668, 29667, 29666, 29665, 29664, 29663, 29662, 29661, 29660, 29659, 29658, 29657, 29656, 29655, 29654, 29653, 29652]\n"
     ]
    },
    {
     "name": "stderr",
     "output_type": "stream",
     "text": [
      "\r",
      " 17%|█▋        | 1651/9716 [1:40:27<8:10:45,  3.65s/it]"
     ]
    },
    {
     "name": "stdout",
     "output_type": "stream",
     "text": [
      "167404 20 28067 139337 [29688, 29687, 29686, 29685, 29684, 29683, 29682, 29681, 29680, 29679, 29678, 29677, 29676, 29675, 29674, 29673, 29672, 29671, 29670, 29669]\n"
     ]
    },
    {
     "name": "stderr",
     "output_type": "stream",
     "text": [
      "\r",
      " 17%|█▋        | 1652/9716 [1:40:31<8:10:42,  3.65s/it]"
     ]
    },
    {
     "name": "stdout",
     "output_type": "stream",
     "text": [
      "167404 20 28084 139320 [29705, 29704, 29703, 29702, 29701, 29700, 29699, 29698, 29697, 29696, 29695, 29694, 29693, 29692, 29691, 29690, 29689, 29688, 29687, 29686]\n"
     ]
    },
    {
     "name": "stderr",
     "output_type": "stream",
     "text": [
      "\r",
      " 17%|█▋        | 1653/9716 [1:40:35<8:10:41,  3.65s/it]"
     ]
    },
    {
     "name": "stdout",
     "output_type": "stream",
     "text": [
      "167404 20 28101 139303 [29722, 29721, 29720, 29719, 29718, 29717, 29716, 29715, 29714, 29713, 29712, 29711, 29710, 29709, 29708, 29707, 29706, 29705, 29704, 29703]\n"
     ]
    },
    {
     "name": "stderr",
     "output_type": "stream",
     "text": [
      "\r",
      " 17%|█▋        | 1654/9716 [1:40:39<8:10:37,  3.65s/it]"
     ]
    },
    {
     "name": "stdout",
     "output_type": "stream",
     "text": [
      "167404 20 28118 139286 [29739, 29738, 29737, 29736, 29735, 29734, 29733, 29732, 29731, 29730, 29729, 29728, 29727, 29726, 29725, 29724, 29723, 29722, 29721, 29720]\n"
     ]
    },
    {
     "name": "stderr",
     "output_type": "stream",
     "text": [
      "\r",
      " 17%|█▋        | 1655/9716 [1:40:43<8:10:33,  3.65s/it]"
     ]
    },
    {
     "name": "stdout",
     "output_type": "stream",
     "text": [
      "167404 20 28135 139269 [29756, 29755, 29754, 29753, 29752, 29751, 29750, 29749, 29748, 29747, 29746, 29745, 29744, 29743, 29742, 29741, 29740, 29739, 29738, 29737]\n"
     ]
    },
    {
     "name": "stderr",
     "output_type": "stream",
     "text": [
      "\r",
      " 17%|█▋        | 1656/9716 [1:40:46<8:10:30,  3.65s/it]"
     ]
    },
    {
     "name": "stdout",
     "output_type": "stream",
     "text": [
      "167404 20 28152 139252 [29773, 29772, 29771, 29770, 29769, 29768, 29767, 29766, 29765, 29764, 29763, 29762, 29761, 29760, 29759, 29758, 29757, 29756, 29755, 29754]\n"
     ]
    },
    {
     "name": "stderr",
     "output_type": "stream",
     "text": [
      "\r",
      " 17%|█▋        | 1657/9716 [1:40:49<8:10:24,  3.65s/it]"
     ]
    },
    {
     "name": "stdout",
     "output_type": "stream",
     "text": [
      "167404 20 28169 139235 [29790, 29789, 29788, 29787, 29786, 29785, 29784, 29783, 29782, 29781, 29780, 29779, 29778, 29777, 29776, 29775, 29774, 29773, 29772, 29771]\n"
     ]
    },
    {
     "name": "stderr",
     "output_type": "stream",
     "text": [
      "\r",
      " 17%|█▋        | 1658/9716 [1:40:53<8:10:18,  3.65s/it]"
     ]
    },
    {
     "name": "stdout",
     "output_type": "stream",
     "text": [
      "167404 20 28186 139218 [29807, 29806, 29805, 29804, 29803, 29802, 29801, 29800, 29799, 29798, 29797, 29796, 29795, 29794, 29793, 29792, 29791, 29790, 29789, 29788]\n"
     ]
    },
    {
     "name": "stderr",
     "output_type": "stream",
     "text": [
      "\r",
      " 17%|█▋        | 1659/9716 [1:40:56<8:10:12,  3.65s/it]"
     ]
    },
    {
     "name": "stdout",
     "output_type": "stream",
     "text": [
      "167416 20 28203 139201 [29826, 29825, 29824, 29823, 29822, 29821, 29820, 29819, 29818, 29817, 29816, 29815, 29814, 29813, 29812, 29811, 29810, 29809, 29808, 29807]\n"
     ]
    },
    {
     "name": "stderr",
     "output_type": "stream",
     "text": [
      "\r",
      " 17%|█▋        | 1660/9716 [1:40:59<8:10:06,  3.65s/it]"
     ]
    },
    {
     "name": "stdout",
     "output_type": "stream",
     "text": [
      "167416 20 28220 139196 [29841, 29840, 29839, 29838, 29837, 29836, 29835, 29834, 29833, 29832, 29831, 29830, 29829, 29828, 29827, 29826, 29825, 29824, 29823, 29822]\n"
     ]
    },
    {
     "name": "stderr",
     "output_type": "stream",
     "text": [
      "\r",
      " 17%|█▋        | 1661/9716 [1:41:02<8:09:59,  3.65s/it]"
     ]
    },
    {
     "name": "stdout",
     "output_type": "stream",
     "text": [
      "167416 20 28237 139179 [29858, 29857, 29856, 29855, 29854, 29853, 29852, 29851, 29850, 29849, 29848, 29847, 29846, 29845, 29844, 29843, 29842, 29841, 29840, 29839]\n"
     ]
    },
    {
     "name": "stderr",
     "output_type": "stream",
     "text": [
      "\r",
      " 17%|█▋        | 1662/9716 [1:41:05<8:09:53,  3.65s/it]"
     ]
    },
    {
     "name": "stdout",
     "output_type": "stream",
     "text": [
      "167416 20 28254 139162 [29875, 29874, 29873, 29872, 29871, 29870, 29869, 29868, 29867, 29866, 29865, 29864, 29863, 29862, 29861, 29860, 29859, 29858, 29857, 29856]\n"
     ]
    },
    {
     "name": "stderr",
     "output_type": "stream",
     "text": [
      "\r",
      " 17%|█▋        | 1663/9716 [1:41:08<8:09:47,  3.65s/it]"
     ]
    },
    {
     "name": "stdout",
     "output_type": "stream",
     "text": [
      "167419 20 28271 139145 [29892, 29891, 29890, 29889, 29888, 29887, 29886, 29885, 29884, 29883, 29882, 29881, 29880, 29879, 29878, 29877, 29876, 29875, 29874, 29873]\n"
     ]
    },
    {
     "name": "stderr",
     "output_type": "stream",
     "text": [
      "\r",
      " 17%|█▋        | 1664/9716 [1:41:11<8:09:40,  3.65s/it]"
     ]
    },
    {
     "name": "stdout",
     "output_type": "stream",
     "text": [
      "167419 20 28288 139131 [29909, 29908, 29907, 29906, 29905, 29904, 29903, 29902, 29901, 29900, 29899, 29898, 29897, 29896, 29895, 29894, 29893, 29892, 29891, 29890]\n"
     ]
    },
    {
     "name": "stderr",
     "output_type": "stream",
     "text": [
      "\r",
      " 17%|█▋        | 1665/9716 [1:41:14<8:09:35,  3.65s/it]"
     ]
    },
    {
     "name": "stdout",
     "output_type": "stream",
     "text": [
      "167419 20 28305 139114 [29926, 29925, 29924, 29923, 29922, 29921, 29920, 29919, 29918, 29917, 29916, 29915, 29914, 29913, 29912, 29911, 29910, 29909, 29908, 29907]\n"
     ]
    },
    {
     "name": "stderr",
     "output_type": "stream",
     "text": [
      "\r",
      " 17%|█▋        | 1666/9716 [1:41:17<8:09:27,  3.65s/it]"
     ]
    },
    {
     "name": "stdout",
     "output_type": "stream",
     "text": [
      "167419 20 28322 139097 [29943, 29942, 29941, 29940, 29939, 29938, 29937, 29936, 29935, 29934, 29933, 29932, 29931, 29930, 29929, 29928, 29927, 29926, 29925, 29924]\n"
     ]
    },
    {
     "name": "stderr",
     "output_type": "stream",
     "text": [
      "\r",
      " 17%|█▋        | 1667/9716 [1:41:20<8:09:20,  3.65s/it]"
     ]
    },
    {
     "name": "stdout",
     "output_type": "stream",
     "text": [
      "167419 20 28339 139080 [29960, 29959, 29958, 29957, 29956, 29955, 29954, 29953, 29952, 29951, 29950, 29949, 29948, 29947, 29946, 29945, 29944, 29943, 29942, 29941]\n"
     ]
    },
    {
     "name": "stderr",
     "output_type": "stream",
     "text": [
      "\r",
      " 17%|█▋        | 1668/9716 [1:41:23<8:09:13,  3.65s/it]"
     ]
    },
    {
     "name": "stdout",
     "output_type": "stream",
     "text": [
      "167424 20 28356 139063 [29977, 29976, 29975, 29974, 29973, 29972, 29971, 29970, 29969, 29968, 29967, 29966, 29965, 29964, 29963, 29962, 29961, 29960, 29959, 29958]\n"
     ]
    },
    {
     "name": "stderr",
     "output_type": "stream",
     "text": [
      "\r",
      " 17%|█▋        | 1669/9716 [1:41:26<8:09:07,  3.65s/it]"
     ]
    },
    {
     "name": "stdout",
     "output_type": "stream",
     "text": [
      "167424 20 28373 139051 [29994, 29993, 29992, 29991, 29990, 29989, 29988, 29987, 29986, 29985, 29984, 29983, 29982, 29981, 29980, 29979, 29978, 29977, 29976, 29975]\n"
     ]
    },
    {
     "name": "stderr",
     "output_type": "stream",
     "text": [
      "\r",
      " 17%|█▋        | 1670/9716 [1:41:29<8:09:01,  3.65s/it]"
     ]
    },
    {
     "name": "stdout",
     "output_type": "stream",
     "text": [
      "167424 20 28390 139034 [30011, 30010, 30009, 30008, 30007, 30006, 30005, 30004, 30003, 30002, 30001, 30000, 29999, 29998, 29997, 29996, 29995, 29994, 29993, 29992]\n"
     ]
    },
    {
     "name": "stderr",
     "output_type": "stream",
     "text": [
      "\r",
      " 17%|█▋        | 1671/9716 [1:41:32<8:08:54,  3.65s/it]"
     ]
    },
    {
     "name": "stdout",
     "output_type": "stream",
     "text": [
      "167424 20 28407 139017 [30028, 30027, 30026, 30025, 30024, 30023, 30022, 30021, 30020, 30019, 30018, 30017, 30016, 30015, 30014, 30013, 30012, 30011, 30010, 30009]\n"
     ]
    },
    {
     "name": "stderr",
     "output_type": "stream",
     "text": [
      "\r",
      " 17%|█▋        | 1672/9716 [1:41:35<8:08:47,  3.65s/it]"
     ]
    },
    {
     "name": "stdout",
     "output_type": "stream",
     "text": [
      "167424 20 28424 139000 [30045, 30044, 30043, 30042, 30041, 30040, 30039, 30038, 30037, 30036, 30035, 30034, 30033, 30032, 30031, 30030, 30029, 30028, 30027, 30026]\n"
     ]
    },
    {
     "name": "stderr",
     "output_type": "stream",
     "text": [
      "\r",
      " 17%|█▋        | 1673/9716 [1:41:38<8:08:40,  3.65s/it]"
     ]
    },
    {
     "name": "stdout",
     "output_type": "stream",
     "text": [
      "167424 20 28441 138983 [30062, 30061, 30060, 30059, 30058, 30057, 30056, 30055, 30054, 30053, 30052, 30051, 30050, 30049, 30048, 30047, 30046, 30045, 30044, 30043]\n"
     ]
    },
    {
     "name": "stderr",
     "output_type": "stream",
     "text": [
      "\r",
      " 17%|█▋        | 1674/9716 [1:41:41<8:08:33,  3.65s/it]"
     ]
    },
    {
     "name": "stdout",
     "output_type": "stream",
     "text": [
      "167424 20 28458 138966 [30079, 30078, 30077, 30076, 30075, 30074, 30073, 30072, 30071, 30070, 30069, 30068, 30067, 30066, 30065, 30064, 30063, 30062, 30061, 30060]\n"
     ]
    },
    {
     "name": "stderr",
     "output_type": "stream",
     "text": [
      "\r",
      " 17%|█▋        | 1675/9716 [1:41:44<8:08:26,  3.64s/it]"
     ]
    },
    {
     "name": "stdout",
     "output_type": "stream",
     "text": [
      "167424 20 28475 138949 [30096, 30095, 30094, 30093, 30092, 30091, 30090, 30089, 30088, 30087, 30086, 30085, 30084, 30083, 30082, 30081, 30080, 30079, 30078, 30077]\n"
     ]
    },
    {
     "name": "stderr",
     "output_type": "stream",
     "text": [
      "\r",
      " 17%|█▋        | 1676/9716 [1:41:47<8:08:20,  3.64s/it]"
     ]
    },
    {
     "name": "stdout",
     "output_type": "stream",
     "text": [
      "167424 20 28492 138932 [30113, 30112, 30111, 30110, 30109, 30108, 30107, 30106, 30105, 30104, 30103, 30102, 30101, 30100, 30099, 30098, 30097, 30096, 30095, 30094]\n"
     ]
    },
    {
     "name": "stderr",
     "output_type": "stream",
     "text": [
      "\r",
      " 17%|█▋        | 1677/9716 [1:41:50<8:08:13,  3.64s/it]"
     ]
    },
    {
     "name": "stdout",
     "output_type": "stream",
     "text": [
      "167424 20 28509 138915 [30130, 30129, 30128, 30127, 30126, 30125, 30124, 30123, 30122, 30121, 30120, 30119, 30118, 30117, 30116, 30115, 30114, 30113, 30112, 30111]\n"
     ]
    },
    {
     "name": "stderr",
     "output_type": "stream",
     "text": [
      "\r",
      " 17%|█▋        | 1678/9716 [1:41:53<8:08:06,  3.64s/it]"
     ]
    },
    {
     "name": "stdout",
     "output_type": "stream",
     "text": [
      "167424 20 28526 138898 [30147, 30146, 30145, 30144, 30143, 30142, 30141, 30140, 30139, 30138, 30137, 30136, 30135, 30134, 30133, 30132, 30131, 30130, 30129, 30128]\n"
     ]
    },
    {
     "name": "stderr",
     "output_type": "stream",
     "text": [
      "\r",
      " 17%|█▋        | 1679/9716 [1:41:56<8:07:59,  3.64s/it]"
     ]
    },
    {
     "name": "stdout",
     "output_type": "stream",
     "text": [
      "167424 20 28543 138881 [30164, 30163, 30162, 30161, 30160, 30159, 30158, 30157, 30156, 30155, 30154, 30153, 30152, 30151, 30150, 30149, 30148, 30147, 30146, 30145]\n"
     ]
    },
    {
     "name": "stderr",
     "output_type": "stream",
     "text": [
      "\r",
      " 17%|█▋        | 1680/9716 [1:42:00<8:07:54,  3.64s/it]"
     ]
    },
    {
     "name": "stdout",
     "output_type": "stream",
     "text": [
      "167424 20 28560 138864 [30181, 30180, 30179, 30178, 30177, 30176, 30175, 30174, 30173, 30172, 30171, 30170, 30169, 30168, 30167, 30166, 30165, 30164, 30163, 30162]\n"
     ]
    },
    {
     "name": "stderr",
     "output_type": "stream",
     "text": [
      "\r",
      " 17%|█▋        | 1681/9716 [1:42:03<8:07:47,  3.64s/it]"
     ]
    },
    {
     "name": "stdout",
     "output_type": "stream",
     "text": [
      "167425 20 28577 138847 [30198, 30197, 30196, 30195, 30194, 30193, 30192, 30191, 30190, 30189, 30188, 30187, 30186, 30185, 30184, 30183, 30182, 30181, 30180, 30179]\n"
     ]
    },
    {
     "name": "stderr",
     "output_type": "stream",
     "text": [
      "\r",
      " 17%|█▋        | 1682/9716 [1:42:06<8:07:42,  3.64s/it]"
     ]
    },
    {
     "name": "stdout",
     "output_type": "stream",
     "text": [
      "167438 20 28594 138831 [30227, 30226, 30225, 30224, 30223, 30222, 30221, 30220, 30219, 30218, 30217, 30216, 30215, 30214, 30213, 30212, 30211, 30210, 30209, 30208]\n"
     ]
    },
    {
     "name": "stderr",
     "output_type": "stream",
     "text": [
      "\r",
      " 17%|█▋        | 1683/9716 [1:42:09<8:07:36,  3.64s/it]"
     ]
    },
    {
     "name": "stdout",
     "output_type": "stream",
     "text": [
      "167438 20 28611 138827 [30232, 30231, 30230, 30229, 30228, 30227, 30226, 30225, 30224, 30223, 30222, 30221, 30220, 30219, 30218, 30217, 30216, 30215, 30214, 30213]\n"
     ]
    },
    {
     "name": "stderr",
     "output_type": "stream",
     "text": [
      "\r",
      " 17%|█▋        | 1684/9716 [1:42:12<8:07:30,  3.64s/it]"
     ]
    },
    {
     "name": "stdout",
     "output_type": "stream",
     "text": [
      "167438 20 28628 138810 [30249, 30248, 30247, 30246, 30245, 30244, 30243, 30242, 30241, 30240, 30239, 30238, 30237, 30236, 30235, 30234, 30233, 30232, 30231, 30230]\n"
     ]
    },
    {
     "name": "stderr",
     "output_type": "stream",
     "text": [
      "\r",
      " 17%|█▋        | 1685/9716 [1:42:15<8:07:24,  3.64s/it]"
     ]
    },
    {
     "name": "stdout",
     "output_type": "stream",
     "text": [
      "167438 20 28645 138793 [30266, 30265, 30264, 30263, 30262, 30261, 30260, 30259, 30258, 30257, 30256, 30255, 30254, 30253, 30252, 30251, 30250, 30249, 30248, 30247]\n"
     ]
    },
    {
     "name": "stderr",
     "output_type": "stream",
     "text": [
      "\r",
      " 17%|█▋        | 1686/9716 [1:42:18<8:07:17,  3.64s/it]"
     ]
    },
    {
     "name": "stdout",
     "output_type": "stream",
     "text": [
      "167438 20 28662 138776 [30283, 30282, 30281, 30280, 30279, 30278, 30277, 30276, 30275, 30274, 30273, 30272, 30271, 30270, 30269, 30268, 30267, 30266, 30265, 30264]\n"
     ]
    },
    {
     "name": "stderr",
     "output_type": "stream",
     "text": [
      "\r",
      " 17%|█▋        | 1687/9716 [1:42:22<8:07:13,  3.64s/it]"
     ]
    },
    {
     "name": "stdout",
     "output_type": "stream",
     "text": [
      "167445 20 28679 138759 [30307, 30306, 30305, 30304, 30303, 30302, 30301, 30300, 30299, 30298, 30297, 30296, 30295, 30294, 30293, 30292, 30291, 30290, 30289, 30288]\n"
     ]
    },
    {
     "name": "stderr",
     "output_type": "stream",
     "text": [
      "\r",
      " 17%|█▋        | 1688/9716 [1:42:25<8:07:06,  3.64s/it]"
     ]
    },
    {
     "name": "stdout",
     "output_type": "stream",
     "text": [
      "167445 20 28696 138749 [30317, 30316, 30315, 30314, 30313, 30312, 30311, 30310, 30309, 30308, 30307, 30306, 30305, 30304, 30303, 30302, 30301, 30300, 30299, 30298]\n"
     ]
    },
    {
     "name": "stderr",
     "output_type": "stream",
     "text": [
      "\r",
      " 17%|█▋        | 1689/9716 [1:42:28<8:07:00,  3.64s/it]"
     ]
    },
    {
     "name": "stdout",
     "output_type": "stream",
     "text": [
      "167445 20 28713 138732 [30334, 30333, 30332, 30331, 30330, 30329, 30328, 30327, 30326, 30325, 30324, 30323, 30322, 30321, 30320, 30319, 30318, 30317, 30316, 30315]\n"
     ]
    },
    {
     "name": "stderr",
     "output_type": "stream",
     "text": [
      "\r",
      " 17%|█▋        | 1690/9716 [1:42:31<8:06:56,  3.64s/it]"
     ]
    },
    {
     "name": "stdout",
     "output_type": "stream",
     "text": [
      "167445 20 28730 138715 [30351, 30350, 30349, 30348, 30347, 30346, 30345, 30344, 30343, 30342, 30341, 30340, 30339, 30338, 30337, 30336, 30335, 30334, 30333, 30332]\n"
     ]
    },
    {
     "name": "stderr",
     "output_type": "stream",
     "text": [
      "\r",
      " 17%|█▋        | 1691/9716 [1:42:35<8:06:50,  3.64s/it]"
     ]
    },
    {
     "name": "stdout",
     "output_type": "stream",
     "text": [
      "167445 20 28747 138698 [30368, 30367, 30366, 30365, 30364, 30363, 30362, 30361, 30360, 30359, 30358, 30357, 30356, 30355, 30354, 30353, 30352, 30351, 30350, 30349]\n"
     ]
    },
    {
     "name": "stderr",
     "output_type": "stream",
     "text": [
      "\r",
      " 17%|█▋        | 1692/9716 [1:42:38<8:06:45,  3.64s/it]"
     ]
    },
    {
     "name": "stdout",
     "output_type": "stream",
     "text": [
      "167445 20 28764 138681 [30385, 30384, 30383, 30382, 30381, 30380, 30379, 30378, 30377, 30376, 30375, 30374, 30373, 30372, 30371, 30370, 30369, 30368, 30367, 30366]\n"
     ]
    },
    {
     "name": "stderr",
     "output_type": "stream",
     "text": [
      "\r",
      " 17%|█▋        | 1693/9716 [1:42:41<8:06:39,  3.64s/it]"
     ]
    },
    {
     "name": "stdout",
     "output_type": "stream",
     "text": [
      "167445 20 28781 138664 [30402, 30401, 30400, 30399, 30398, 30397, 30396, 30395, 30394, 30393, 30392, 30391, 30390, 30389, 30388, 30387, 30386, 30385, 30384, 30383]\n"
     ]
    },
    {
     "name": "stderr",
     "output_type": "stream",
     "text": [
      "\r",
      " 17%|█▋        | 1694/9716 [1:42:44<8:06:34,  3.64s/it]"
     ]
    },
    {
     "name": "stdout",
     "output_type": "stream",
     "text": [
      "167445 20 28798 138647 [30419, 30418, 30417, 30416, 30415, 30414, 30413, 30412, 30411, 30410, 30409, 30408, 30407, 30406, 30405, 30404, 30403, 30402, 30401, 30400]\n"
     ]
    },
    {
     "name": "stderr",
     "output_type": "stream",
     "text": [
      "\r",
      " 17%|█▋        | 1695/9716 [1:42:47<8:06:27,  3.64s/it]"
     ]
    },
    {
     "name": "stdout",
     "output_type": "stream",
     "text": [
      "167445 20 28815 138630 [30436, 30435, 30434, 30433, 30432, 30431, 30430, 30429, 30428, 30427, 30426, 30425, 30424, 30423, 30422, 30421, 30420, 30419, 30418, 30417]\n"
     ]
    },
    {
     "name": "stderr",
     "output_type": "stream",
     "text": [
      "\r",
      " 17%|█▋        | 1696/9716 [1:42:50<8:06:20,  3.64s/it]"
     ]
    },
    {
     "name": "stdout",
     "output_type": "stream",
     "text": [
      "167445 20 28832 138613 [30453, 30452, 30451, 30450, 30449, 30448, 30447, 30446, 30445, 30444, 30443, 30442, 30441, 30440, 30439, 30438, 30437, 30436, 30435, 30434]\n"
     ]
    },
    {
     "name": "stderr",
     "output_type": "stream",
     "text": [
      "\r",
      " 17%|█▋        | 1697/9716 [1:42:55<8:06:22,  3.64s/it]"
     ]
    },
    {
     "name": "stdout",
     "output_type": "stream",
     "text": [
      "167445 20 28849 138596 [30470, 30469, 30468, 30467, 30466, 30465, 30464, 30463, 30462, 30461, 30460, 30459, 30458, 30457, 30456, 30455, 30454, 30453, 30452, 30451]\n"
     ]
    },
    {
     "name": "stderr",
     "output_type": "stream",
     "text": [
      "\r",
      " 17%|█▋        | 1698/9716 [1:42:59<8:06:21,  3.64s/it]"
     ]
    },
    {
     "name": "stdout",
     "output_type": "stream",
     "text": [
      "167445 20 28866 138579 [30487, 30486, 30485, 30484, 30483, 30482, 30481, 30480, 30479, 30478, 30477, 30476, 30475, 30474, 30473, 30472, 30471, 30470, 30469, 30468]\n"
     ]
    },
    {
     "name": "stderr",
     "output_type": "stream",
     "text": [
      "\r",
      " 17%|█▋        | 1699/9716 [1:43:03<8:06:18,  3.64s/it]"
     ]
    },
    {
     "name": "stdout",
     "output_type": "stream",
     "text": [
      "167445 20 28883 138562 [30504, 30503, 30502, 30501, 30500, 30499, 30498, 30497, 30496, 30495, 30494, 30493, 30492, 30491, 30490, 30489, 30488, 30487, 30486, 30485]\n"
     ]
    },
    {
     "name": "stderr",
     "output_type": "stream",
     "text": [
      "\r",
      " 17%|█▋        | 1700/9716 [1:43:07<8:06:15,  3.64s/it]"
     ]
    },
    {
     "name": "stdout",
     "output_type": "stream",
     "text": [
      "167445 20 28900 138545 [30521, 30520, 30519, 30518, 30517, 30516, 30515, 30514, 30513, 30512, 30511, 30510, 30509, 30508, 30507, 30506, 30505, 30504, 30503, 30502]\n"
     ]
    },
    {
     "name": "stderr",
     "output_type": "stream",
     "text": [
      "\r",
      " 18%|█▊        | 1701/9716 [1:43:10<8:06:08,  3.64s/it]"
     ]
    },
    {
     "name": "stdout",
     "output_type": "stream",
     "text": [
      "167445 20 28917 138528 [30538, 30537, 30536, 30535, 30534, 30533, 30532, 30531, 30530, 30529, 30528, 30527, 30526, 30525, 30524, 30523, 30522, 30521, 30520, 30519]\n"
     ]
    },
    {
     "name": "stderr",
     "output_type": "stream",
     "text": [
      "\r",
      " 18%|█▊        | 1702/9716 [1:43:13<8:06:03,  3.64s/it]"
     ]
    },
    {
     "name": "stdout",
     "output_type": "stream",
     "text": [
      "167445 20 28934 138511 [30555, 30554, 30553, 30552, 30551, 30550, 30549, 30548, 30547, 30546, 30545, 30544, 30543, 30542, 30541, 30540, 30539, 30538, 30537, 30536]\n"
     ]
    },
    {
     "name": "stderr",
     "output_type": "stream",
     "text": [
      "\r",
      " 18%|█▊        | 1703/9716 [1:43:16<8:05:57,  3.64s/it]"
     ]
    },
    {
     "name": "stdout",
     "output_type": "stream",
     "text": [
      "167445 20 28951 138494 [30572, 30571, 30570, 30569, 30568, 30567, 30566, 30565, 30564, 30563, 30562, 30561, 30560, 30559, 30558, 30557, 30556, 30555, 30554, 30553]\n"
     ]
    },
    {
     "name": "stderr",
     "output_type": "stream",
     "text": [
      "\r",
      " 18%|█▊        | 1704/9716 [1:43:20<8:05:51,  3.64s/it]"
     ]
    },
    {
     "name": "stdout",
     "output_type": "stream",
     "text": [
      "167447 20 28968 138477 [30589, 30588, 30587, 30586, 30585, 30584, 30583, 30582, 30581, 30580, 30579, 30578, 30577, 30576, 30575, 30574, 30573, 30572, 30571, 30570]\n"
     ]
    },
    {
     "name": "stderr",
     "output_type": "stream",
     "text": [
      "\r",
      " 18%|█▊        | 1705/9716 [1:43:23<8:05:45,  3.64s/it]"
     ]
    },
    {
     "name": "stdout",
     "output_type": "stream",
     "text": [
      "167447 20 28985 138462 [30606, 30605, 30604, 30603, 30602, 30601, 30600, 30599, 30598, 30597, 30596, 30595, 30594, 30593, 30592, 30591, 30590, 30589, 30588, 30587]\n"
     ]
    },
    {
     "name": "stderr",
     "output_type": "stream",
     "text": [
      "\r",
      " 18%|█▊        | 1706/9716 [1:43:26<8:05:39,  3.64s/it]"
     ]
    },
    {
     "name": "stdout",
     "output_type": "stream",
     "text": [
      "167447 20 29002 138445 [30623, 30622, 30621, 30620, 30619, 30618, 30617, 30616, 30615, 30614, 30613, 30612, 30611, 30610, 30609, 30608, 30607, 30606, 30605, 30604]\n"
     ]
    },
    {
     "name": "stderr",
     "output_type": "stream",
     "text": [
      "\r",
      " 18%|█▊        | 1707/9716 [1:43:29<8:05:33,  3.64s/it]"
     ]
    },
    {
     "name": "stdout",
     "output_type": "stream",
     "text": [
      "167447 20 29019 138428 [30640, 30639, 30638, 30637, 30636, 30635, 30634, 30633, 30632, 30631, 30630, 30629, 30628, 30627, 30626, 30625, 30624, 30623, 30622, 30621]\n"
     ]
    },
    {
     "name": "stderr",
     "output_type": "stream",
     "text": [
      "\r",
      " 18%|█▊        | 1708/9716 [1:43:32<8:05:27,  3.64s/it]"
     ]
    },
    {
     "name": "stdout",
     "output_type": "stream",
     "text": [
      "167447 20 29036 138411 [30657, 30656, 30655, 30654, 30653, 30652, 30651, 30650, 30649, 30648, 30647, 30646, 30645, 30644, 30643, 30642, 30641, 30640, 30639, 30638]\n"
     ]
    },
    {
     "name": "stderr",
     "output_type": "stream",
     "text": [
      "\r",
      " 18%|█▊        | 1709/9716 [1:43:35<8:05:20,  3.64s/it]"
     ]
    },
    {
     "name": "stdout",
     "output_type": "stream",
     "text": [
      "167450 20 29053 138394 [30674, 30673, 30672, 30671, 30670, 30669, 30668, 30667, 30666, 30665, 30664, 30663, 30662, 30661, 30660, 30659, 30658, 30657, 30656, 30655]\n"
     ]
    },
    {
     "name": "stderr",
     "output_type": "stream",
     "text": [
      "\r",
      " 18%|█▊        | 1710/9716 [1:43:38<8:05:14,  3.64s/it]"
     ]
    },
    {
     "name": "stdout",
     "output_type": "stream",
     "text": [
      "167450 20 29070 138380 [30691, 30690, 30689, 30688, 30687, 30686, 30685, 30684, 30683, 30682, 30681, 30680, 30679, 30678, 30677, 30676, 30675, 30674, 30673, 30672]\n"
     ]
    },
    {
     "name": "stderr",
     "output_type": "stream",
     "text": [
      "\r",
      " 18%|█▊        | 1711/9716 [1:43:41<8:05:08,  3.64s/it]"
     ]
    },
    {
     "name": "stdout",
     "output_type": "stream",
     "text": [
      "167450 20 29087 138363 [30708, 30707, 30706, 30705, 30704, 30703, 30702, 30701, 30700, 30699, 30698, 30697, 30696, 30695, 30694, 30693, 30692, 30691, 30690, 30689]\n"
     ]
    },
    {
     "name": "stderr",
     "output_type": "stream",
     "text": [
      "\r",
      " 18%|█▊        | 1712/9716 [1:43:44<8:05:02,  3.64s/it]"
     ]
    },
    {
     "name": "stdout",
     "output_type": "stream",
     "text": [
      "167450 20 29104 138346 [30725, 30724, 30723, 30722, 30721, 30720, 30719, 30718, 30717, 30716, 30715, 30714, 30713, 30712, 30711, 30710, 30709, 30708, 30707, 30706]\n"
     ]
    },
    {
     "name": "stderr",
     "output_type": "stream",
     "text": [
      "\r",
      " 18%|█▊        | 1713/9716 [1:43:48<8:04:56,  3.64s/it]"
     ]
    },
    {
     "name": "stdout",
     "output_type": "stream",
     "text": [
      "167450 20 29121 138329 [30742, 30741, 30740, 30739, 30738, 30737, 30736, 30735, 30734, 30733, 30732, 30731, 30730, 30729, 30728, 30727, 30726, 30725, 30724, 30723]\n"
     ]
    },
    {
     "name": "stderr",
     "output_type": "stream",
     "text": [
      "\r",
      " 18%|█▊        | 1714/9716 [1:43:51<8:04:50,  3.64s/it]"
     ]
    },
    {
     "name": "stdout",
     "output_type": "stream",
     "text": [
      "167471 20 29138 138312 [30764, 30763, 30762, 30761, 30760, 30759, 30758, 30757, 30756, 30755, 30754, 30753, 30752, 30751, 30750, 30749, 30748, 30747, 30746, 30745]\n"
     ]
    },
    {
     "name": "stderr",
     "output_type": "stream",
     "text": [
      "\r",
      " 18%|█▊        | 1715/9716 [1:43:54<8:04:45,  3.64s/it]"
     ]
    },
    {
     "name": "stdout",
     "output_type": "stream",
     "text": [
      "167471 20 29155 138316 [30776, 30775, 30774, 30773, 30772, 30771, 30770, 30769, 30768, 30767, 30766, 30765, 30764, 30763, 30762, 30761, 30760, 30759, 30758, 30757]\n"
     ]
    },
    {
     "name": "stderr",
     "output_type": "stream",
     "text": [
      "\r",
      " 18%|█▊        | 1716/9716 [1:43:57<8:04:41,  3.64s/it]"
     ]
    },
    {
     "name": "stdout",
     "output_type": "stream",
     "text": [
      "167471 20 29172 138299 [30793, 30792, 30791, 30790, 30789, 30788, 30787, 30786, 30785, 30784, 30783, 30782, 30781, 30780, 30779, 30778, 30777, 30776, 30775, 30774]\n"
     ]
    },
    {
     "name": "stderr",
     "output_type": "stream",
     "text": [
      "\r",
      " 18%|█▊        | 1717/9716 [1:44:01<8:04:37,  3.64s/it]"
     ]
    },
    {
     "name": "stdout",
     "output_type": "stream",
     "text": [
      "167471 20 29189 138282 [30810, 30809, 30808, 30807, 30806, 30805, 30804, 30803, 30802, 30801, 30800, 30799, 30798, 30797, 30796, 30795, 30794, 30793, 30792, 30791]\n"
     ]
    },
    {
     "name": "stderr",
     "output_type": "stream",
     "text": [
      "\r",
      " 18%|█▊        | 1718/9716 [1:44:05<8:04:36,  3.64s/it]"
     ]
    },
    {
     "name": "stdout",
     "output_type": "stream",
     "text": [
      "167471 20 29206 138265 [30827, 30826, 30825, 30824, 30823, 30822, 30821, 30820, 30819, 30818, 30817, 30816, 30815, 30814, 30813, 30812, 30811, 30810, 30809, 30808]\n"
     ]
    },
    {
     "name": "stderr",
     "output_type": "stream",
     "text": [
      "\r",
      " 18%|█▊        | 1719/9716 [1:44:09<8:04:33,  3.64s/it]"
     ]
    },
    {
     "name": "stdout",
     "output_type": "stream",
     "text": [
      "167471 20 29223 138248 [30844, 30843, 30842, 30841, 30840, 30839, 30838, 30837, 30836, 30835, 30834, 30833, 30832, 30831, 30830, 30829, 30828, 30827, 30826, 30825]\n"
     ]
    },
    {
     "name": "stderr",
     "output_type": "stream",
     "text": [
      "\r",
      " 18%|█▊        | 1720/9716 [1:44:13<8:04:32,  3.64s/it]"
     ]
    },
    {
     "name": "stdout",
     "output_type": "stream",
     "text": [
      "167482 20 29240 138231 [30861, 30860, 30859, 30858, 30857, 30856, 30855, 30854, 30853, 30852, 30851, 30850, 30849, 30848, 30847, 30846, 30845, 30844, 30843, 30842]\n"
     ]
    },
    {
     "name": "stderr",
     "output_type": "stream",
     "text": [
      "\r",
      " 18%|█▊        | 1721/9716 [1:44:17<8:04:30,  3.64s/it]"
     ]
    },
    {
     "name": "stdout",
     "output_type": "stream",
     "text": [
      "167482 20 29257 138225 [30878, 30877, 30876, 30875, 30874, 30873, 30872, 30871, 30870, 30869, 30868, 30867, 30866, 30865, 30864, 30863, 30862, 30861, 30860, 30859]\n"
     ]
    },
    {
     "name": "stderr",
     "output_type": "stream",
     "text": [
      "\r",
      " 18%|█▊        | 1722/9716 [1:44:21<8:04:28,  3.64s/it]"
     ]
    },
    {
     "name": "stdout",
     "output_type": "stream",
     "text": [
      "167482 20 29274 138208 [30895, 30894, 30893, 30892, 30891, 30890, 30889, 30888, 30887, 30886, 30885, 30884, 30883, 30882, 30881, 30880, 30879, 30878, 30877, 30876]\n"
     ]
    },
    {
     "name": "stderr",
     "output_type": "stream",
     "text": [
      "\r",
      " 18%|█▊        | 1723/9716 [1:44:25<8:04:26,  3.64s/it]"
     ]
    },
    {
     "name": "stdout",
     "output_type": "stream",
     "text": [
      "167482 20 29291 138191 [30912, 30911, 30910, 30909, 30908, 30907, 30906, 30905, 30904, 30903, 30902, 30901, 30900, 30899, 30898, 30897, 30896, 30895, 30894, 30893]\n"
     ]
    },
    {
     "name": "stderr",
     "output_type": "stream",
     "text": [
      "\r",
      " 18%|█▊        | 1724/9716 [1:44:29<8:04:23,  3.64s/it]"
     ]
    },
    {
     "name": "stdout",
     "output_type": "stream",
     "text": [
      "167500 20 29308 138174 [30929, 30928, 30927, 30926, 30925, 30924, 30923, 30922, 30921, 30920, 30919, 30918, 30917, 30916, 30915, 30914, 30913, 30912, 30911, 30910]\n"
     ]
    },
    {
     "name": "stderr",
     "output_type": "stream",
     "text": [
      "\r",
      " 18%|█▊        | 1725/9716 [1:44:33<8:04:24,  3.64s/it]"
     ]
    },
    {
     "name": "stdout",
     "output_type": "stream",
     "text": [
      "167500 20 29325 138175 [30946, 30945, 30944, 30943, 30942, 30941, 30940, 30939, 30938, 30937, 30936, 30935, 30934, 30933, 30932, 30931, 30930, 30929, 30928, 30927]\n"
     ]
    },
    {
     "name": "stderr",
     "output_type": "stream",
     "text": [
      "\r",
      " 18%|█▊        | 1726/9716 [1:44:37<8:04:18,  3.64s/it]"
     ]
    },
    {
     "name": "stdout",
     "output_type": "stream",
     "text": [
      "167508 20 29342 138158 [30963, 30962, 30961, 30960, 30959, 30958, 30957, 30956, 30955, 30954, 30953, 30952, 30951, 30950, 30949, 30948, 30947, 30946, 30945, 30944]\n"
     ]
    },
    {
     "name": "stderr",
     "output_type": "stream",
     "text": [
      "\r",
      " 18%|█▊        | 1727/9716 [1:44:40<8:04:14,  3.64s/it]"
     ]
    },
    {
     "name": "stdout",
     "output_type": "stream",
     "text": [
      "167508 20 29359 138149 [30980, 30979, 30978, 30977, 30976, 30975, 30974, 30973, 30972, 30971, 30970, 30969, 30968, 30967, 30966, 30965, 30964, 30963, 30962, 30961]\n"
     ]
    },
    {
     "name": "stderr",
     "output_type": "stream",
     "text": [
      "\r",
      " 18%|█▊        | 1728/9716 [1:44:44<8:04:10,  3.64s/it]"
     ]
    },
    {
     "name": "stdout",
     "output_type": "stream",
     "text": [
      "167508 20 29376 138132 [30997, 30996, 30995, 30994, 30993, 30992, 30991, 30990, 30989, 30988, 30987, 30986, 30985, 30984, 30983, 30982, 30981, 30980, 30979, 30978]\n"
     ]
    },
    {
     "name": "stderr",
     "output_type": "stream",
     "text": [
      "\r",
      " 18%|█▊        | 1729/9716 [1:44:47<8:04:06,  3.64s/it]"
     ]
    },
    {
     "name": "stdout",
     "output_type": "stream",
     "text": [
      "167508 20 29393 138115 [31014, 31013, 31012, 31011, 31010, 31009, 31008, 31007, 31006, 31005, 31004, 31003, 31002, 31001, 31000, 30999, 30998, 30997, 30996, 30995]\n"
     ]
    },
    {
     "name": "stderr",
     "output_type": "stream",
     "text": [
      "\r",
      " 18%|█▊        | 1730/9716 [1:44:51<8:04:02,  3.64s/it]"
     ]
    },
    {
     "name": "stdout",
     "output_type": "stream",
     "text": [
      "167508 20 29410 138098 [31031, 31030, 31029, 31028, 31027, 31026, 31025, 31024, 31023, 31022, 31021, 31020, 31019, 31018, 31017, 31016, 31015, 31014, 31013, 31012]\n"
     ]
    },
    {
     "name": "stderr",
     "output_type": "stream",
     "text": [
      "\r",
      " 18%|█▊        | 1731/9716 [1:44:54<8:03:57,  3.64s/it]"
     ]
    },
    {
     "name": "stdout",
     "output_type": "stream",
     "text": [
      "167508 20 29427 138081 [31048, 31047, 31046, 31045, 31044, 31043, 31042, 31041, 31040, 31039, 31038, 31037, 31036, 31035, 31034, 31033, 31032, 31031, 31030, 31029]\n"
     ]
    },
    {
     "name": "stderr",
     "output_type": "stream",
     "text": [
      "\r",
      " 18%|█▊        | 1732/9716 [1:44:58<8:03:55,  3.64s/it]"
     ]
    },
    {
     "name": "stdout",
     "output_type": "stream",
     "text": [
      "167508 20 29444 138064 [31065, 31064, 31063, 31062, 31061, 31060, 31059, 31058, 31057, 31056, 31055, 31054, 31053, 31052, 31051, 31050, 31049, 31048, 31047, 31046]\n"
     ]
    },
    {
     "name": "stderr",
     "output_type": "stream",
     "text": [
      "\r",
      " 18%|█▊        | 1733/9716 [1:45:02<8:03:52,  3.64s/it]"
     ]
    },
    {
     "name": "stdout",
     "output_type": "stream",
     "text": [
      "167508 20 29461 138047 [31082, 31081, 31080, 31079, 31078, 31077, 31076, 31075, 31074, 31073, 31072, 31071, 31070, 31069, 31068, 31067, 31066, 31065, 31064, 31063]\n"
     ]
    },
    {
     "name": "stderr",
     "output_type": "stream",
     "text": [
      "\r",
      " 18%|█▊        | 1734/9716 [1:45:05<8:03:47,  3.64s/it]"
     ]
    },
    {
     "name": "stdout",
     "output_type": "stream",
     "text": [
      "167508 20 29478 138030 [31099, 31098, 31097, 31096, 31095, 31094, 31093, 31092, 31091, 31090, 31089, 31088, 31087, 31086, 31085, 31084, 31083, 31082, 31081, 31080]\n"
     ]
    },
    {
     "name": "stderr",
     "output_type": "stream",
     "text": [
      "\r",
      " 18%|█▊        | 1735/9716 [1:45:09<8:03:43,  3.64s/it]"
     ]
    },
    {
     "name": "stdout",
     "output_type": "stream",
     "text": [
      "167508 20 29495 138013 [31116, 31115, 31114, 31113, 31112, 31111, 31110, 31109, 31108, 31107, 31106, 31105, 31104, 31103, 31102, 31101, 31100, 31099, 31098, 31097]\n"
     ]
    },
    {
     "name": "stderr",
     "output_type": "stream",
     "text": [
      "\r",
      " 18%|█▊        | 1736/9716 [1:45:12<8:03:39,  3.64s/it]"
     ]
    },
    {
     "name": "stdout",
     "output_type": "stream",
     "text": [
      "167508 20 29512 137996 [31133, 31132, 31131, 31130, 31129, 31128, 31127, 31126, 31125, 31124, 31123, 31122, 31121, 31120, 31119, 31118, 31117, 31116, 31115, 31114]\n"
     ]
    },
    {
     "name": "stderr",
     "output_type": "stream",
     "text": [
      "\r",
      " 18%|█▊        | 1737/9716 [1:45:16<8:03:34,  3.64s/it]"
     ]
    },
    {
     "name": "stdout",
     "output_type": "stream",
     "text": [
      "167508 20 29529 137979 [31150, 31149, 31148, 31147, 31146, 31145, 31144, 31143, 31142, 31141, 31140, 31139, 31138, 31137, 31136, 31135, 31134, 31133, 31132, 31131]\n"
     ]
    },
    {
     "name": "stderr",
     "output_type": "stream",
     "text": [
      "\r",
      " 18%|█▊        | 1738/9716 [1:45:20<8:03:32,  3.64s/it]"
     ]
    },
    {
     "name": "stdout",
     "output_type": "stream",
     "text": [
      "167522 20 29546 137962 [31167, 31166, 31165, 31164, 31163, 31162, 31161, 31160, 31159, 31158, 31157, 31156, 31155, 31154, 31153, 31152, 31151, 31150, 31149, 31148]\n"
     ]
    },
    {
     "name": "stderr",
     "output_type": "stream",
     "text": [
      "\r",
      " 18%|█▊        | 1739/9716 [1:45:24<8:03:29,  3.64s/it]"
     ]
    },
    {
     "name": "stdout",
     "output_type": "stream",
     "text": [
      "167522 20 29563 137959 [31184, 31183, 31182, 31181, 31180, 31179, 31178, 31177, 31176, 31175, 31174, 31173, 31172, 31171, 31170, 31169, 31168, 31167, 31166, 31165]\n"
     ]
    },
    {
     "name": "stderr",
     "output_type": "stream",
     "text": [
      "\r",
      " 18%|█▊        | 1740/9716 [1:45:27<8:03:24,  3.64s/it]"
     ]
    },
    {
     "name": "stdout",
     "output_type": "stream",
     "text": [
      "167522 20 29580 137942 [31201, 31200, 31199, 31198, 31197, 31196, 31195, 31194, 31193, 31192, 31191, 31190, 31189, 31188, 31187, 31186, 31185, 31184, 31183, 31182]\n"
     ]
    },
    {
     "name": "stderr",
     "output_type": "stream",
     "text": [
      "\r",
      " 18%|█▊        | 1741/9716 [1:45:31<8:03:21,  3.64s/it]"
     ]
    },
    {
     "name": "stdout",
     "output_type": "stream",
     "text": [
      "167522 20 29597 137925 [31218, 31217, 31216, 31215, 31214, 31213, 31212, 31211, 31210, 31209, 31208, 31207, 31206, 31205, 31204, 31203, 31202, 31201, 31200, 31199]\n"
     ]
    },
    {
     "name": "stderr",
     "output_type": "stream",
     "text": [
      "\r",
      " 18%|█▊        | 1742/9716 [1:45:34<8:03:16,  3.64s/it]"
     ]
    },
    {
     "name": "stdout",
     "output_type": "stream",
     "text": [
      "167522 20 29614 137908 [31235, 31234, 31233, 31232, 31231, 31230, 31229, 31228, 31227, 31226, 31225, 31224, 31223, 31222, 31221, 31220, 31219, 31218, 31217, 31216]\n"
     ]
    },
    {
     "name": "stderr",
     "output_type": "stream",
     "text": [
      "\r",
      " 18%|█▊        | 1743/9716 [1:45:37<8:03:11,  3.64s/it]"
     ]
    },
    {
     "name": "stdout",
     "output_type": "stream",
     "text": [
      "167522 20 29631 137891 [31252, 31251, 31250, 31249, 31248, 31247, 31246, 31245, 31244, 31243, 31242, 31241, 31240, 31239, 31238, 31237, 31236, 31235, 31234, 31233]\n"
     ]
    },
    {
     "name": "stderr",
     "output_type": "stream",
     "text": [
      "\r",
      " 18%|█▊        | 1744/9716 [1:45:41<8:03:05,  3.64s/it]"
     ]
    },
    {
     "name": "stdout",
     "output_type": "stream",
     "text": [
      "167530 20 29648 137874 [31269, 31268, 31267, 31266, 31265, 31264, 31263, 31262, 31261, 31260, 31259, 31258, 31257, 31256, 31255, 31254, 31253, 31252, 31251, 31250]\n"
     ]
    },
    {
     "name": "stderr",
     "output_type": "stream",
     "text": [
      "\r",
      " 18%|█▊        | 1745/9716 [1:45:44<8:02:59,  3.64s/it]"
     ]
    },
    {
     "name": "stdout",
     "output_type": "stream",
     "text": [
      "167533 20 29665 137865 [31289, 31288, 31287, 31286, 31285, 31284, 31283, 31282, 31281, 31280, 31279, 31278, 31277, 31276, 31275, 31274, 31273, 31272, 31271, 31270]\n"
     ]
    },
    {
     "name": "stderr",
     "output_type": "stream",
     "text": [
      "\r",
      " 18%|█▊        | 1746/9716 [1:45:47<8:02:54,  3.64s/it]"
     ]
    },
    {
     "name": "stdout",
     "output_type": "stream",
     "text": [
      "167533 20 29682 137851 [31303, 31302, 31301, 31300, 31299, 31298, 31297, 31296, 31295, 31294, 31293, 31292, 31291, 31290, 31289, 31288, 31287, 31286, 31285, 31284]\n"
     ]
    },
    {
     "name": "stderr",
     "output_type": "stream",
     "text": [
      "\r",
      " 18%|█▊        | 1747/9716 [1:45:50<8:02:49,  3.64s/it]"
     ]
    },
    {
     "name": "stdout",
     "output_type": "stream",
     "text": [
      "167533 20 29699 137834 [31320, 31319, 31318, 31317, 31316, 31315, 31314, 31313, 31312, 31311, 31310, 31309, 31308, 31307, 31306, 31305, 31304, 31303, 31302, 31301]\n"
     ]
    },
    {
     "name": "stderr",
     "output_type": "stream",
     "text": [
      "\r",
      " 18%|█▊        | 1748/9716 [1:45:53<8:02:43,  3.63s/it]"
     ]
    },
    {
     "name": "stdout",
     "output_type": "stream",
     "text": [
      "167533 20 29716 137817 [31337, 31336, 31335, 31334, 31333, 31332, 31331, 31330, 31329, 31328, 31327, 31326, 31325, 31324, 31323, 31322, 31321, 31320, 31319, 31318]\n"
     ]
    },
    {
     "name": "stderr",
     "output_type": "stream",
     "text": [
      "\r",
      " 18%|█▊        | 1749/9716 [1:45:56<8:02:37,  3.63s/it]"
     ]
    },
    {
     "name": "stdout",
     "output_type": "stream",
     "text": [
      "167533 20 29733 137800 [31354, 31353, 31352, 31351, 31350, 31349, 31348, 31347, 31346, 31345, 31344, 31343, 31342, 31341, 31340, 31339, 31338, 31337, 31336, 31335]\n"
     ]
    },
    {
     "name": "stderr",
     "output_type": "stream",
     "text": [
      "\r",
      " 18%|█▊        | 1750/9716 [1:46:00<8:02:31,  3.63s/it]"
     ]
    },
    {
     "name": "stdout",
     "output_type": "stream",
     "text": [
      "167533 20 29750 137783 [31371, 31370, 31369, 31368, 31367, 31366, 31365, 31364, 31363, 31362, 31361, 31360, 31359, 31358, 31357, 31356, 31355, 31354, 31353, 31352]\n"
     ]
    },
    {
     "name": "stderr",
     "output_type": "stream",
     "text": [
      "\r",
      " 18%|█▊        | 1751/9716 [1:46:03<8:02:25,  3.63s/it]"
     ]
    },
    {
     "name": "stdout",
     "output_type": "stream",
     "text": [
      "167533 20 29767 137766 [31388, 31387, 31386, 31385, 31384, 31383, 31382, 31381, 31380, 31379, 31378, 31377, 31376, 31375, 31374, 31373, 31372, 31371, 31370, 31369]\n"
     ]
    },
    {
     "name": "stderr",
     "output_type": "stream",
     "text": [
      "\r",
      " 18%|█▊        | 1752/9716 [1:46:06<8:02:19,  3.63s/it]"
     ]
    },
    {
     "name": "stdout",
     "output_type": "stream",
     "text": [
      "167533 20 29784 137749 [31405, 31404, 31403, 31402, 31401, 31400, 31399, 31398, 31397, 31396, 31395, 31394, 31393, 31392, 31391, 31390, 31389, 31388, 31387, 31386]\n"
     ]
    },
    {
     "name": "stderr",
     "output_type": "stream",
     "text": [
      "\r",
      " 18%|█▊        | 1753/9716 [1:46:09<8:02:15,  3.63s/it]"
     ]
    },
    {
     "name": "stdout",
     "output_type": "stream",
     "text": [
      "167533 20 29801 137732 [31422, 31421, 31420, 31419, 31418, 31417, 31416, 31415, 31414, 31413, 31412, 31411, 31410, 31409, 31408, 31407, 31406, 31405, 31404, 31403]\n"
     ]
    },
    {
     "name": "stderr",
     "output_type": "stream",
     "text": [
      "\r",
      " 18%|█▊        | 1754/9716 [1:46:12<8:02:08,  3.63s/it]"
     ]
    },
    {
     "name": "stdout",
     "output_type": "stream",
     "text": [
      "167537 20 29818 137715 [31439, 31438, 31437, 31436, 31435, 31434, 31433, 31432, 31431, 31430, 31429, 31428, 31427, 31426, 31425, 31424, 31423, 31422, 31421, 31420]\n"
     ]
    },
    {
     "name": "stderr",
     "output_type": "stream",
     "text": [
      "\r",
      " 18%|█▊        | 1755/9716 [1:46:16<8:02:03,  3.63s/it]"
     ]
    },
    {
     "name": "stdout",
     "output_type": "stream",
     "text": [
      "167540 20 29835 137702 [31456, 31455, 31454, 31453, 31452, 31451, 31450, 31449, 31448, 31447, 31446, 31445, 31444, 31443, 31442, 31441, 31440, 31439, 31438, 31437]\n"
     ]
    },
    {
     "name": "stderr",
     "output_type": "stream",
     "text": [
      "\r",
      " 18%|█▊        | 1756/9716 [1:46:19<8:02:00,  3.63s/it]"
     ]
    },
    {
     "name": "stdout",
     "output_type": "stream",
     "text": [
      "167540 20 29852 137688 [31473, 31472, 31471, 31470, 31469, 31468, 31467, 31466, 31465, 31464, 31463, 31462, 31461, 31460, 31459, 31458, 31457, 31456, 31455, 31454]\n"
     ]
    },
    {
     "name": "stderr",
     "output_type": "stream",
     "text": [
      "\r",
      " 18%|█▊        | 1757/9716 [1:46:23<8:01:54,  3.63s/it]"
     ]
    },
    {
     "name": "stdout",
     "output_type": "stream",
     "text": [
      "167541 20 29869 137671 [31490, 31489, 31488, 31487, 31486, 31485, 31484, 31483, 31482, 31481, 31480, 31479, 31478, 31477, 31476, 31475, 31474, 31473, 31472, 31471]\n"
     ]
    },
    {
     "name": "stderr",
     "output_type": "stream",
     "text": [
      "\r",
      " 18%|█▊        | 1758/9716 [1:46:26<8:01:48,  3.63s/it]"
     ]
    },
    {
     "name": "stdout",
     "output_type": "stream",
     "text": [
      "167546 20 29886 137655 [31511, 31510, 31509, 31508, 31507, 31506, 31505, 31504, 31503, 31502, 31501, 31500, 31499, 31498, 31497, 31496, 31495, 31494, 31493, 31492]\n"
     ]
    },
    {
     "name": "stderr",
     "output_type": "stream",
     "text": [
      "\r",
      " 18%|█▊        | 1759/9716 [1:46:29<8:01:42,  3.63s/it]"
     ]
    },
    {
     "name": "stdout",
     "output_type": "stream",
     "text": [
      "167546 20 29903 137643 [31524, 31523, 31522, 31521, 31520, 31519, 31518, 31517, 31516, 31515, 31514, 31513, 31512, 31511, 31510, 31509, 31508, 31507, 31506, 31505]\n"
     ]
    },
    {
     "name": "stderr",
     "output_type": "stream",
     "text": [
      "\r",
      " 18%|█▊        | 1760/9716 [1:46:32<8:01:37,  3.63s/it]"
     ]
    },
    {
     "name": "stdout",
     "output_type": "stream",
     "text": [
      "167546 20 29920 137626 [31541, 31540, 31539, 31538, 31537, 31536, 31535, 31534, 31533, 31532, 31531, 31530, 31529, 31528, 31527, 31526, 31525, 31524, 31523, 31522]\n"
     ]
    },
    {
     "name": "stderr",
     "output_type": "stream",
     "text": [
      "\r",
      " 18%|█▊        | 1761/9716 [1:46:35<8:01:32,  3.63s/it]"
     ]
    },
    {
     "name": "stdout",
     "output_type": "stream",
     "text": [
      "167546 20 29937 137609 [31558, 31557, 31556, 31555, 31554, 31553, 31552, 31551, 31550, 31549, 31548, 31547, 31546, 31545, 31544, 31543, 31542, 31541, 31540, 31539]\n"
     ]
    },
    {
     "name": "stderr",
     "output_type": "stream",
     "text": [
      "\r",
      " 18%|█▊        | 1762/9716 [1:46:39<8:01:26,  3.63s/it]"
     ]
    },
    {
     "name": "stdout",
     "output_type": "stream",
     "text": [
      "167546 20 29954 137592 [31575, 31574, 31573, 31572, 31571, 31570, 31569, 31568, 31567, 31566, 31565, 31564, 31563, 31562, 31561, 31560, 31559, 31558, 31557, 31556]\n"
     ]
    },
    {
     "name": "stderr",
     "output_type": "stream",
     "text": [
      "\r",
      " 18%|█▊        | 1763/9716 [1:46:42<8:01:20,  3.63s/it]"
     ]
    },
    {
     "name": "stdout",
     "output_type": "stream",
     "text": [
      "167546 20 29971 137575 [31592, 31591, 31590, 31589, 31588, 31587, 31586, 31585, 31584, 31583, 31582, 31581, 31580, 31579, 31578, 31577, 31576, 31575, 31574, 31573]\n"
     ]
    },
    {
     "name": "stderr",
     "output_type": "stream",
     "text": [
      "\r",
      " 18%|█▊        | 1764/9716 [1:46:45<8:01:15,  3.63s/it]"
     ]
    },
    {
     "name": "stdout",
     "output_type": "stream",
     "text": [
      "167546 20 29988 137558 [31609, 31608, 31607, 31606, 31605, 31604, 31603, 31602, 31601, 31600, 31599, 31598, 31597, 31596, 31595, 31594, 31593, 31592, 31591, 31590]\n"
     ]
    },
    {
     "name": "stderr",
     "output_type": "stream",
     "text": [
      "\r",
      " 18%|█▊        | 1765/9716 [1:46:48<8:01:08,  3.63s/it]"
     ]
    },
    {
     "name": "stdout",
     "output_type": "stream",
     "text": [
      "167546 20 30005 137541 [31626, 31625, 31624, 31623, 31622, 31621, 31620, 31619, 31618, 31617, 31616, 31615, 31614, 31613, 31612, 31611, 31610, 31609, 31608, 31607]\n"
     ]
    },
    {
     "name": "stderr",
     "output_type": "stream",
     "text": [
      "\r",
      " 18%|█▊        | 1766/9716 [1:46:51<8:01:03,  3.63s/it]"
     ]
    },
    {
     "name": "stdout",
     "output_type": "stream",
     "text": [
      "167546 20 30022 137524 [31643, 31642, 31641, 31640, 31639, 31638, 31637, 31636, 31635, 31634, 31633, 31632, 31631, 31630, 31629, 31628, 31627, 31626, 31625, 31624]\n"
     ]
    },
    {
     "name": "stderr",
     "output_type": "stream",
     "text": [
      "\r",
      " 18%|█▊        | 1767/9716 [1:46:54<8:00:56,  3.63s/it]"
     ]
    },
    {
     "name": "stdout",
     "output_type": "stream",
     "text": [
      "167546 20 30039 137507 [31660, 31659, 31658, 31657, 31656, 31655, 31654, 31653, 31652, 31651, 31650, 31649, 31648, 31647, 31646, 31645, 31644, 31643, 31642, 31641]\n"
     ]
    },
    {
     "name": "stderr",
     "output_type": "stream",
     "text": [
      "\r",
      " 18%|█▊        | 1768/9716 [1:46:57<8:00:50,  3.63s/it]"
     ]
    },
    {
     "name": "stdout",
     "output_type": "stream",
     "text": [
      "167550 20 30056 137490 [31677, 31676, 31675, 31674, 31673, 31672, 31671, 31670, 31669, 31668, 31667, 31666, 31665, 31664, 31663, 31662, 31661, 31660, 31659, 31658]\n"
     ]
    },
    {
     "name": "stderr",
     "output_type": "stream",
     "text": [
      "\r",
      " 18%|█▊        | 1769/9716 [1:47:00<8:00:43,  3.63s/it]"
     ]
    },
    {
     "name": "stdout",
     "output_type": "stream",
     "text": [
      "167557 20 30073 137477 [31701, 31700, 31699, 31698, 31697, 31696, 31695, 31694, 31693, 31692, 31691, 31690, 31689, 31688, 31687, 31686, 31685, 31684, 31683, 31682]\n"
     ]
    },
    {
     "name": "stderr",
     "output_type": "stream",
     "text": [
      "\r",
      " 18%|█▊        | 1770/9716 [1:47:03<8:00:38,  3.63s/it]"
     ]
    },
    {
     "name": "stdout",
     "output_type": "stream",
     "text": [
      "167557 20 30090 137467 [31711, 31710, 31709, 31708, 31707, 31706, 31705, 31704, 31703, 31702, 31701, 31700, 31699, 31698, 31697, 31696, 31695, 31694, 31693, 31692]\n"
     ]
    },
    {
     "name": "stderr",
     "output_type": "stream",
     "text": [
      "\r",
      " 18%|█▊        | 1771/9716 [1:47:06<8:00:32,  3.63s/it]"
     ]
    },
    {
     "name": "stdout",
     "output_type": "stream",
     "text": [
      "167557 20 30107 137450 [31728, 31727, 31726, 31725, 31724, 31723, 31722, 31721, 31720, 31719, 31718, 31717, 31716, 31715, 31714, 31713, 31712, 31711, 31710, 31709]\n"
     ]
    },
    {
     "name": "stderr",
     "output_type": "stream",
     "text": [
      "\r",
      " 18%|█▊        | 1772/9716 [1:47:10<8:00:27,  3.63s/it]"
     ]
    },
    {
     "name": "stdout",
     "output_type": "stream",
     "text": [
      "167557 20 30124 137433 [31745, 31744, 31743, 31742, 31741, 31740, 31739, 31738, 31737, 31736, 31735, 31734, 31733, 31732, 31731, 31730, 31729, 31728, 31727, 31726]\n"
     ]
    },
    {
     "name": "stderr",
     "output_type": "stream",
     "text": [
      "\r",
      " 18%|█▊        | 1773/9716 [1:47:13<8:00:21,  3.63s/it]"
     ]
    },
    {
     "name": "stdout",
     "output_type": "stream",
     "text": [
      "167574 20 30141 137416 [31762, 31761, 31760, 31759, 31758, 31757, 31756, 31755, 31754, 31753, 31752, 31751, 31750, 31749, 31748, 31747, 31746, 31745, 31744, 31743]\n"
     ]
    },
    {
     "name": "stderr",
     "output_type": "stream",
     "text": [
      "\r",
      " 18%|█▊        | 1774/9716 [1:47:17<8:00:19,  3.63s/it]"
     ]
    },
    {
     "name": "stdout",
     "output_type": "stream",
     "text": [
      "167574 20 30158 137416 [31779, 31778, 31777, 31776, 31775, 31774, 31773, 31772, 31771, 31770, 31769, 31768, 31767, 31766, 31765, 31764, 31763, 31762, 31761, 31760]\n"
     ]
    },
    {
     "name": "stderr",
     "output_type": "stream",
     "text": [
      "\r",
      " 18%|█▊        | 1775/9716 [1:47:20<8:00:15,  3.63s/it]"
     ]
    },
    {
     "name": "stdout",
     "output_type": "stream",
     "text": [
      "167574 20 30175 137399 [31796, 31795, 31794, 31793, 31792, 31791, 31790, 31789, 31788, 31787, 31786, 31785, 31784, 31783, 31782, 31781, 31780, 31779, 31778, 31777]\n"
     ]
    },
    {
     "name": "stderr",
     "output_type": "stream",
     "text": [
      "\r",
      " 18%|█▊        | 1776/9716 [1:47:24<8:00:11,  3.63s/it]"
     ]
    },
    {
     "name": "stdout",
     "output_type": "stream",
     "text": [
      "167574 20 30192 137382 [31813, 31812, 31811, 31810, 31809, 31808, 31807, 31806, 31805, 31804, 31803, 31802, 31801, 31800, 31799, 31798, 31797, 31796, 31795, 31794]\n"
     ]
    },
    {
     "name": "stderr",
     "output_type": "stream",
     "text": [
      "\r",
      " 18%|█▊        | 1777/9716 [1:47:27<8:00:05,  3.63s/it]"
     ]
    },
    {
     "name": "stdout",
     "output_type": "stream",
     "text": [
      "167574 20 30209 137365 [31830, 31829, 31828, 31827, 31826, 31825, 31824, 31823, 31822, 31821, 31820, 31819, 31818, 31817, 31816, 31815, 31814, 31813, 31812, 31811]\n"
     ]
    },
    {
     "name": "stderr",
     "output_type": "stream",
     "text": [
      "\r",
      " 18%|█▊        | 1778/9716 [1:47:30<7:59:58,  3.63s/it]"
     ]
    },
    {
     "name": "stdout",
     "output_type": "stream",
     "text": [
      "167574 20 30226 137348 [31847, 31846, 31845, 31844, 31843, 31842, 31841, 31840, 31839, 31838, 31837, 31836, 31835, 31834, 31833, 31832, 31831, 31830, 31829, 31828]\n"
     ]
    },
    {
     "name": "stderr",
     "output_type": "stream",
     "text": [
      "\r",
      " 18%|█▊        | 1779/9716 [1:47:33<7:59:52,  3.63s/it]"
     ]
    },
    {
     "name": "stdout",
     "output_type": "stream",
     "text": [
      "167574 20 30243 137331 [31864, 31863, 31862, 31861, 31860, 31859, 31858, 31857, 31856, 31855, 31854, 31853, 31852, 31851, 31850, 31849, 31848, 31847, 31846, 31845]\n"
     ]
    },
    {
     "name": "stderr",
     "output_type": "stream",
     "text": [
      "\r",
      " 18%|█▊        | 1780/9716 [1:47:36<7:59:45,  3.63s/it]"
     ]
    },
    {
     "name": "stdout",
     "output_type": "stream",
     "text": [
      "167574 20 30260 137314 [31881, 31880, 31879, 31878, 31877, 31876, 31875, 31874, 31873, 31872, 31871, 31870, 31869, 31868, 31867, 31866, 31865, 31864, 31863, 31862]\n"
     ]
    },
    {
     "name": "stderr",
     "output_type": "stream",
     "text": [
      "\r",
      " 18%|█▊        | 1781/9716 [1:47:39<7:59:40,  3.63s/it]"
     ]
    },
    {
     "name": "stdout",
     "output_type": "stream",
     "text": [
      "167574 20 30277 137297 [31898, 31897, 31896, 31895, 31894, 31893, 31892, 31891, 31890, 31889, 31888, 31887, 31886, 31885, 31884, 31883, 31882, 31881, 31880, 31879]\n"
     ]
    },
    {
     "name": "stderr",
     "output_type": "stream",
     "text": [
      "\r",
      " 18%|█▊        | 1782/9716 [1:47:42<7:59:34,  3.63s/it]"
     ]
    },
    {
     "name": "stdout",
     "output_type": "stream",
     "text": [
      "167574 20 30294 137280 [31915, 31914, 31913, 31912, 31911, 31910, 31909, 31908, 31907, 31906, 31905, 31904, 31903, 31902, 31901, 31900, 31899, 31898, 31897, 31896]\n"
     ]
    },
    {
     "name": "stderr",
     "output_type": "stream",
     "text": [
      "\r",
      " 18%|█▊        | 1783/9716 [1:47:46<7:59:29,  3.63s/it]"
     ]
    },
    {
     "name": "stdout",
     "output_type": "stream",
     "text": [
      "167574 20 30311 137263 [31932, 31931, 31930, 31929, 31928, 31927, 31926, 31925, 31924, 31923, 31922, 31921, 31920, 31919, 31918, 31917, 31916, 31915, 31914, 31913]\n"
     ]
    },
    {
     "name": "stderr",
     "output_type": "stream",
     "text": [
      "\r",
      " 18%|█▊        | 1784/9716 [1:47:49<7:59:22,  3.63s/it]"
     ]
    },
    {
     "name": "stdout",
     "output_type": "stream",
     "text": [
      "167574 20 30328 137246 [31949, 31948, 31947, 31946, 31945, 31944, 31943, 31942, 31941, 31940, 31939, 31938, 31937, 31936, 31935, 31934, 31933, 31932, 31931, 31930]\n"
     ]
    },
    {
     "name": "stderr",
     "output_type": "stream",
     "text": [
      "\r",
      " 18%|█▊        | 1785/9716 [1:47:52<7:59:16,  3.63s/it]"
     ]
    },
    {
     "name": "stdout",
     "output_type": "stream",
     "text": [
      "167574 20 30345 137229 [31966, 31965, 31964, 31963, 31962, 31961, 31960, 31959, 31958, 31957, 31956, 31955, 31954, 31953, 31952, 31951, 31950, 31949, 31948, 31947]\n"
     ]
    },
    {
     "name": "stderr",
     "output_type": "stream",
     "text": [
      "\r",
      " 18%|█▊        | 1786/9716 [1:47:55<7:59:10,  3.63s/it]"
     ]
    },
    {
     "name": "stdout",
     "output_type": "stream",
     "text": [
      "167574 20 30362 137212 [31983, 31982, 31981, 31980, 31979, 31978, 31977, 31976, 31975, 31974, 31973, 31972, 31971, 31970, 31969, 31968, 31967, 31966, 31965, 31964]\n"
     ]
    },
    {
     "name": "stderr",
     "output_type": "stream",
     "text": [
      "\r",
      " 18%|█▊        | 1787/9716 [1:47:58<7:59:04,  3.63s/it]"
     ]
    },
    {
     "name": "stdout",
     "output_type": "stream",
     "text": [
      "167578 20 30379 137195 [32004, 32003, 32002, 32001, 32000, 31999, 31998, 31997, 31996, 31995, 31994, 31993, 31992, 31991, 31990, 31989, 31988, 31987, 31986, 31985]\n"
     ]
    },
    {
     "name": "stderr",
     "output_type": "stream",
     "text": [
      "\r",
      " 18%|█▊        | 1788/9716 [1:48:01<7:58:57,  3.62s/it]"
     ]
    },
    {
     "name": "stdout",
     "output_type": "stream",
     "text": [
      "167578 20 30396 137182 [32017, 32016, 32015, 32014, 32013, 32012, 32011, 32010, 32009, 32008, 32007, 32006, 32005, 32004, 32003, 32002, 32001, 32000, 31999, 31998]\n"
     ]
    },
    {
     "name": "stderr",
     "output_type": "stream",
     "text": [
      "\r",
      " 18%|█▊        | 1789/9716 [1:48:04<7:58:50,  3.62s/it]"
     ]
    },
    {
     "name": "stdout",
     "output_type": "stream",
     "text": [
      "167578 20 30413 137165 [32034, 32033, 32032, 32031, 32030, 32029, 32028, 32027, 32026, 32025, 32024, 32023, 32022, 32021, 32020, 32019, 32018, 32017, 32016, 32015]\n"
     ]
    },
    {
     "name": "stderr",
     "output_type": "stream",
     "text": [
      "\r",
      " 18%|█▊        | 1790/9716 [1:48:07<7:58:46,  3.62s/it]"
     ]
    },
    {
     "name": "stdout",
     "output_type": "stream",
     "text": [
      "167582 20 30430 137148 [32051, 32050, 32049, 32048, 32047, 32046, 32045, 32044, 32043, 32042, 32041, 32040, 32039, 32038, 32037, 32036, 32035, 32034, 32033, 32032]\n"
     ]
    },
    {
     "name": "stderr",
     "output_type": "stream",
     "text": [
      "\r",
      " 18%|█▊        | 1791/9716 [1:48:10<7:58:41,  3.62s/it]"
     ]
    },
    {
     "name": "stdout",
     "output_type": "stream",
     "text": [
      "167582 20 30447 137135 [32068, 32067, 32066, 32065, 32064, 32063, 32062, 32061, 32060, 32059, 32058, 32057, 32056, 32055, 32054, 32053, 32052, 32051, 32050, 32049]\n"
     ]
    },
    {
     "name": "stderr",
     "output_type": "stream",
     "text": [
      "\r",
      " 18%|█▊        | 1792/9716 [1:48:13<7:58:35,  3.62s/it]"
     ]
    },
    {
     "name": "stdout",
     "output_type": "stream",
     "text": [
      "167582 20 30464 137118 [32085, 32084, 32083, 32082, 32081, 32080, 32079, 32078, 32077, 32076, 32075, 32074, 32073, 32072, 32071, 32070, 32069, 32068, 32067, 32066]\n"
     ]
    },
    {
     "name": "stderr",
     "output_type": "stream",
     "text": [
      "\r",
      " 18%|█▊        | 1793/9716 [1:48:16<7:58:29,  3.62s/it]"
     ]
    },
    {
     "name": "stdout",
     "output_type": "stream",
     "text": [
      "167582 20 30481 137101 [32102, 32101, 32100, 32099, 32098, 32097, 32096, 32095, 32094, 32093, 32092, 32091, 32090, 32089, 32088, 32087, 32086, 32085, 32084, 32083]\n"
     ]
    },
    {
     "name": "stderr",
     "output_type": "stream",
     "text": [
      "\r",
      " 18%|█▊        | 1794/9716 [1:48:20<7:58:22,  3.62s/it]"
     ]
    },
    {
     "name": "stdout",
     "output_type": "stream",
     "text": [
      "167582 20 30498 137084 [32119, 32118, 32117, 32116, 32115, 32114, 32113, 32112, 32111, 32110, 32109, 32108, 32107, 32106, 32105, 32104, 32103, 32102, 32101, 32100]\n"
     ]
    },
    {
     "name": "stderr",
     "output_type": "stream",
     "text": [
      "\r",
      " 18%|█▊        | 1795/9716 [1:48:23<7:58:17,  3.62s/it]"
     ]
    },
    {
     "name": "stdout",
     "output_type": "stream",
     "text": [
      "167582 20 30515 137067 [32136, 32135, 32134, 32133, 32132, 32131, 32130, 32129, 32128, 32127, 32126, 32125, 32124, 32123, 32122, 32121, 32120, 32119, 32118, 32117]\n"
     ]
    },
    {
     "name": "stderr",
     "output_type": "stream",
     "text": [
      "\r",
      " 18%|█▊        | 1796/9716 [1:48:27<7:58:15,  3.62s/it]"
     ]
    },
    {
     "name": "stdout",
     "output_type": "stream",
     "text": [
      "167584 20 30532 137050 [32153, 32152, 32151, 32150, 32149, 32148, 32147, 32146, 32145, 32144, 32143, 32142, 32141, 32140, 32139, 32138, 32137, 32136, 32135, 32134]\n"
     ]
    },
    {
     "name": "stderr",
     "output_type": "stream",
     "text": [
      "\r",
      " 18%|█▊        | 1797/9716 [1:48:30<7:58:11,  3.62s/it]"
     ]
    },
    {
     "name": "stdout",
     "output_type": "stream",
     "text": [
      "167598 20 30549 137035 [32172, 32171, 32170, 32169, 32168, 32167, 32166, 32165, 32164, 32163, 32162, 32161, 32160, 32159, 32158, 32157, 32156, 32155, 32154, 32153]\n"
     ]
    },
    {
     "name": "stderr",
     "output_type": "stream",
     "text": [
      "\r",
      " 19%|█▊        | 1798/9716 [1:48:34<7:58:07,  3.62s/it]"
     ]
    },
    {
     "name": "stdout",
     "output_type": "stream",
     "text": [
      "167598 20 30566 137032 [32187, 32186, 32185, 32184, 32183, 32182, 32181, 32180, 32179, 32178, 32177, 32176, 32175, 32174, 32173, 32172, 32171, 32170, 32169, 32168]\n"
     ]
    },
    {
     "name": "stderr",
     "output_type": "stream",
     "text": [
      "\r",
      " 19%|█▊        | 1799/9716 [1:48:38<7:58:04,  3.62s/it]"
     ]
    },
    {
     "name": "stdout",
     "output_type": "stream",
     "text": [
      "167598 20 30583 137015 [32204, 32203, 32202, 32201, 32200, 32199, 32198, 32197, 32196, 32195, 32194, 32193, 32192, 32191, 32190, 32189, 32188, 32187, 32186, 32185]\n"
     ]
    },
    {
     "name": "stderr",
     "output_type": "stream",
     "text": [
      "\r",
      " 19%|█▊        | 1800/9716 [1:48:41<7:58:00,  3.62s/it]"
     ]
    },
    {
     "name": "stdout",
     "output_type": "stream",
     "text": [
      "167617 20 30600 136998 [32221, 32220, 32219, 32218, 32217, 32216, 32215, 32214, 32213, 32212, 32211, 32210, 32209, 32208, 32207, 32206, 32205, 32204, 32203, 32202]\n"
     ]
    },
    {
     "name": "stderr",
     "output_type": "stream",
     "text": [
      "\r",
      " 19%|█▊        | 1801/9716 [1:48:45<7:57:57,  3.62s/it]"
     ]
    },
    {
     "name": "stdout",
     "output_type": "stream",
     "text": [
      "167617 20 30617 137000 [32238, 32237, 32236, 32235, 32234, 32233, 32232, 32231, 32230, 32229, 32228, 32227, 32226, 32225, 32224, 32223, 32222, 32221, 32220, 32219]\n"
     ]
    },
    {
     "name": "stderr",
     "output_type": "stream",
     "text": [
      "\r",
      " 19%|█▊        | 1802/9716 [1:48:48<7:57:53,  3.62s/it]"
     ]
    },
    {
     "name": "stdout",
     "output_type": "stream",
     "text": [
      "167617 20 30634 136983 [32255, 32254, 32253, 32252, 32251, 32250, 32249, 32248, 32247, 32246, 32245, 32244, 32243, 32242, 32241, 32240, 32239, 32238, 32237, 32236]\n"
     ]
    },
    {
     "name": "stderr",
     "output_type": "stream",
     "text": [
      "\r",
      " 19%|█▊        | 1803/9716 [1:48:52<7:57:50,  3.62s/it]"
     ]
    },
    {
     "name": "stdout",
     "output_type": "stream",
     "text": [
      "167617 20 30651 136966 [32272, 32271, 32270, 32269, 32268, 32267, 32266, 32265, 32264, 32263, 32262, 32261, 32260, 32259, 32258, 32257, 32256, 32255, 32254, 32253]\n"
     ]
    },
    {
     "name": "stderr",
     "output_type": "stream",
     "text": [
      "\r",
      " 19%|█▊        | 1804/9716 [1:48:57<7:57:50,  3.62s/it]"
     ]
    },
    {
     "name": "stdout",
     "output_type": "stream",
     "text": [
      "167617 20 30668 136949 [32289, 32288, 32287, 32286, 32285, 32284, 32283, 32282, 32281, 32280, 32279, 32278, 32277, 32276, 32275, 32274, 32273, 32272, 32271, 32270]\n"
     ]
    },
    {
     "name": "stderr",
     "output_type": "stream",
     "text": [
      "\r",
      " 19%|█▊        | 1805/9716 [1:49:01<7:57:49,  3.62s/it]"
     ]
    },
    {
     "name": "stdout",
     "output_type": "stream",
     "text": [
      "167617 20 30685 136932 [32306, 32305, 32304, 32303, 32302, 32301, 32300, 32299, 32298, 32297, 32296, 32295, 32294, 32293, 32292, 32291, 32290, 32289, 32288, 32287]\n"
     ]
    },
    {
     "name": "stderr",
     "output_type": "stream",
     "text": [
      "\r",
      " 19%|█▊        | 1806/9716 [1:49:04<7:57:45,  3.62s/it]"
     ]
    },
    {
     "name": "stdout",
     "output_type": "stream",
     "text": [
      "167617 20 30702 136915 [32323, 32322, 32321, 32320, 32319, 32318, 32317, 32316, 32315, 32314, 32313, 32312, 32311, 32310, 32309, 32308, 32307, 32306, 32305, 32304]\n"
     ]
    },
    {
     "name": "stderr",
     "output_type": "stream",
     "text": [
      "\r",
      " 19%|█▊        | 1807/9716 [1:49:08<7:57:41,  3.62s/it]"
     ]
    },
    {
     "name": "stdout",
     "output_type": "stream",
     "text": [
      "167625 20 30719 136898 [32340, 32339, 32338, 32337, 32336, 32335, 32334, 32333, 32332, 32331, 32330, 32329, 32328, 32327, 32326, 32325, 32324, 32323, 32322, 32321]\n"
     ]
    },
    {
     "name": "stderr",
     "output_type": "stream",
     "text": [
      "\r",
      " 19%|█▊        | 1808/9716 [1:49:11<7:57:35,  3.62s/it]"
     ]
    },
    {
     "name": "stdout",
     "output_type": "stream",
     "text": [
      "167625 20 30736 136889 [32357, 32356, 32355, 32354, 32353, 32352, 32351, 32350, 32349, 32348, 32347, 32346, 32345, 32344, 32343, 32342, 32341, 32340, 32339, 32338]\n"
     ]
    },
    {
     "name": "stderr",
     "output_type": "stream",
     "text": [
      "\r",
      " 19%|█▊        | 1809/9716 [1:49:15<7:57:31,  3.62s/it]"
     ]
    },
    {
     "name": "stdout",
     "output_type": "stream",
     "text": [
      "167625 20 30753 136872 [32374, 32373, 32372, 32371, 32370, 32369, 32368, 32367, 32366, 32365, 32364, 32363, 32362, 32361, 32360, 32359, 32358, 32357, 32356, 32355]\n"
     ]
    },
    {
     "name": "stderr",
     "output_type": "stream",
     "text": [
      "\r",
      " 19%|█▊        | 1810/9716 [1:49:18<7:57:28,  3.62s/it]"
     ]
    },
    {
     "name": "stdout",
     "output_type": "stream",
     "text": [
      "167625 20 30770 136855 [32391, 32390, 32389, 32388, 32387, 32386, 32385, 32384, 32383, 32382, 32381, 32380, 32379, 32378, 32377, 32376, 32375, 32374, 32373, 32372]\n"
     ]
    },
    {
     "name": "stderr",
     "output_type": "stream",
     "text": [
      "\r",
      " 19%|█▊        | 1811/9716 [1:49:22<7:57:23,  3.62s/it]"
     ]
    },
    {
     "name": "stdout",
     "output_type": "stream",
     "text": [
      "167625 20 30787 136838 [32408, 32407, 32406, 32405, 32404, 32403, 32402, 32401, 32400, 32399, 32398, 32397, 32396, 32395, 32394, 32393, 32392, 32391, 32390, 32389]\n"
     ]
    },
    {
     "name": "stderr",
     "output_type": "stream",
     "text": [
      "\r",
      " 19%|█▊        | 1812/9716 [1:49:25<7:57:18,  3.62s/it]"
     ]
    },
    {
     "name": "stdout",
     "output_type": "stream",
     "text": [
      "167625 20 30804 136821 [32425, 32424, 32423, 32422, 32421, 32420, 32419, 32418, 32417, 32416, 32415, 32414, 32413, 32412, 32411, 32410, 32409, 32408, 32407, 32406]\n"
     ]
    },
    {
     "name": "stderr",
     "output_type": "stream",
     "text": [
      "\r",
      " 19%|█▊        | 1813/9716 [1:49:29<7:57:15,  3.62s/it]"
     ]
    },
    {
     "name": "stdout",
     "output_type": "stream",
     "text": [
      "167625 20 30821 136804 [32442, 32441, 32440, 32439, 32438, 32437, 32436, 32435, 32434, 32433, 32432, 32431, 32430, 32429, 32428, 32427, 32426, 32425, 32424, 32423]\n"
     ]
    },
    {
     "name": "stderr",
     "output_type": "stream",
     "text": [
      "\r",
      " 19%|█▊        | 1814/9716 [1:49:33<7:57:13,  3.62s/it]"
     ]
    },
    {
     "name": "stdout",
     "output_type": "stream",
     "text": [
      "167625 20 30838 136787 [32459, 32458, 32457, 32456, 32455, 32454, 32453, 32452, 32451, 32450, 32449, 32448, 32447, 32446, 32445, 32444, 32443, 32442, 32441, 32440]\n"
     ]
    },
    {
     "name": "stderr",
     "output_type": "stream",
     "text": [
      "\r",
      " 19%|█▊        | 1815/9716 [1:49:36<7:57:07,  3.62s/it]"
     ]
    },
    {
     "name": "stdout",
     "output_type": "stream",
     "text": [
      "167625 20 30855 136770 [32476, 32475, 32474, 32473, 32472, 32471, 32470, 32469, 32468, 32467, 32466, 32465, 32464, 32463, 32462, 32461, 32460, 32459, 32458, 32457]\n"
     ]
    },
    {
     "name": "stderr",
     "output_type": "stream",
     "text": [
      "\r",
      " 19%|█▊        | 1816/9716 [1:49:39<7:57:02,  3.62s/it]"
     ]
    },
    {
     "name": "stdout",
     "output_type": "stream",
     "text": [
      "167625 20 30872 136753 [32493, 32492, 32491, 32490, 32489, 32488, 32487, 32486, 32485, 32484, 32483, 32482, 32481, 32480, 32479, 32478, 32477, 32476, 32475, 32474]\n"
     ]
    },
    {
     "name": "stderr",
     "output_type": "stream",
     "text": [
      "\r",
      " 19%|█▊        | 1817/9716 [1:49:43<7:57:01,  3.62s/it]"
     ]
    },
    {
     "name": "stdout",
     "output_type": "stream",
     "text": [
      "167625 20 30889 136736 [32510, 32509, 32508, 32507, 32506, 32505, 32504, 32503, 32502, 32501, 32500, 32499, 32498, 32497, 32496, 32495, 32494, 32493, 32492, 32491]\n"
     ]
    },
    {
     "name": "stderr",
     "output_type": "stream",
     "text": [
      "\r",
      " 19%|█▊        | 1818/9716 [1:49:47<7:56:57,  3.62s/it]"
     ]
    },
    {
     "name": "stdout",
     "output_type": "stream",
     "text": [
      "167625 20 30906 136719 [32527, 32526, 32525, 32524, 32523, 32522, 32521, 32520, 32519, 32518, 32517, 32516, 32515, 32514, 32513, 32512, 32511, 32510, 32509, 32508]\n"
     ]
    },
    {
     "name": "stderr",
     "output_type": "stream",
     "text": [
      "\r",
      " 19%|█▊        | 1819/9716 [1:49:50<7:56:52,  3.62s/it]"
     ]
    },
    {
     "name": "stdout",
     "output_type": "stream",
     "text": [
      "167627 20 30923 136702 [32544, 32543, 32542, 32541, 32540, 32539, 32538, 32537, 32536, 32535, 32534, 32533, 32532, 32531, 32530, 32529, 32528, 32527, 32526, 32525]\n"
     ]
    },
    {
     "name": "stderr",
     "output_type": "stream",
     "text": [
      "\r",
      " 19%|█▊        | 1820/9716 [1:49:53<7:56:45,  3.62s/it]"
     ]
    },
    {
     "name": "stdout",
     "output_type": "stream",
     "text": [
      "167640 20 30940 136687 [32570, 32569, 32568, 32567, 32566, 32565, 32564, 32563, 32562, 32561, 32560, 32559, 32558, 32557, 32556, 32555, 32554, 32553, 32552, 32551]\n"
     ]
    },
    {
     "name": "stderr",
     "output_type": "stream",
     "text": [
      "\r",
      " 19%|█▊        | 1821/9716 [1:49:56<7:56:39,  3.62s/it]"
     ]
    },
    {
     "name": "stdout",
     "output_type": "stream",
     "text": [
      "167640 20 30957 136683 [32578, 32577, 32576, 32575, 32574, 32573, 32572, 32571, 32570, 32569, 32568, 32567, 32566, 32565, 32564, 32563, 32562, 32561, 32560, 32559]\n"
     ]
    },
    {
     "name": "stderr",
     "output_type": "stream",
     "text": [
      "\r",
      " 19%|█▉        | 1822/9716 [1:49:59<7:56:33,  3.62s/it]"
     ]
    },
    {
     "name": "stdout",
     "output_type": "stream",
     "text": [
      "167640 20 30974 136666 [32595, 32594, 32593, 32592, 32591, 32590, 32589, 32588, 32587, 32586, 32585, 32584, 32583, 32582, 32581, 32580, 32579, 32578, 32577, 32576]\n"
     ]
    },
    {
     "name": "stderr",
     "output_type": "stream",
     "text": [
      "\r",
      " 19%|█▉        | 1823/9716 [1:50:02<7:56:26,  3.62s/it]"
     ]
    },
    {
     "name": "stdout",
     "output_type": "stream",
     "text": [
      "167640 20 30991 136649 [32612, 32611, 32610, 32609, 32608, 32607, 32606, 32605, 32604, 32603, 32602, 32601, 32600, 32599, 32598, 32597, 32596, 32595, 32594, 32593]\n"
     ]
    },
    {
     "name": "stderr",
     "output_type": "stream",
     "text": [
      "\r",
      " 19%|█▉        | 1824/9716 [1:50:05<7:56:22,  3.62s/it]"
     ]
    },
    {
     "name": "stdout",
     "output_type": "stream",
     "text": [
      "167640 20 31008 136632 [32629, 32628, 32627, 32626, 32625, 32624, 32623, 32622, 32621, 32620, 32619, 32618, 32617, 32616, 32615, 32614, 32613, 32612, 32611, 32610]\n"
     ]
    },
    {
     "name": "stderr",
     "output_type": "stream",
     "text": [
      "\r",
      " 19%|█▉        | 1825/9716 [1:50:08<7:56:15,  3.62s/it]"
     ]
    },
    {
     "name": "stdout",
     "output_type": "stream",
     "text": [
      "167640 20 31025 136615 [32646, 32645, 32644, 32643, 32642, 32641, 32640, 32639, 32638, 32637, 32636, 32635, 32634, 32633, 32632, 32631, 32630, 32629, 32628, 32627]\n"
     ]
    },
    {
     "name": "stderr",
     "output_type": "stream",
     "text": [
      "\r",
      " 19%|█▉        | 1826/9716 [1:50:11<7:56:09,  3.62s/it]"
     ]
    },
    {
     "name": "stdout",
     "output_type": "stream",
     "text": [
      "167640 20 31042 136598 [32663, 32662, 32661, 32660, 32659, 32658, 32657, 32656, 32655, 32654, 32653, 32652, 32651, 32650, 32649, 32648, 32647, 32646, 32645, 32644]\n"
     ]
    },
    {
     "name": "stderr",
     "output_type": "stream",
     "text": [
      "\r",
      " 19%|█▉        | 1827/9716 [1:50:15<7:56:04,  3.62s/it]"
     ]
    },
    {
     "name": "stdout",
     "output_type": "stream",
     "text": [
      "167640 20 31059 136581 [32680, 32679, 32678, 32677, 32676, 32675, 32674, 32673, 32672, 32671, 32670, 32669, 32668, 32667, 32666, 32665, 32664, 32663, 32662, 32661]\n"
     ]
    },
    {
     "name": "stderr",
     "output_type": "stream",
     "text": [
      "\r",
      " 19%|█▉        | 1828/9716 [1:50:18<7:55:59,  3.62s/it]"
     ]
    },
    {
     "name": "stdout",
     "output_type": "stream",
     "text": [
      "167653 20 31076 136564 [32700, 32699, 32698, 32697, 32696, 32695, 32694, 32693, 32692, 32691, 32690, 32689, 32688, 32687, 32686, 32685, 32684, 32683, 32682, 32681]\n"
     ]
    },
    {
     "name": "stderr",
     "output_type": "stream",
     "text": [
      "\r",
      " 19%|█▉        | 1829/9716 [1:50:21<7:55:53,  3.62s/it]"
     ]
    },
    {
     "name": "stdout",
     "output_type": "stream",
     "text": [
      "167653 20 31093 136560 [32714, 32713, 32712, 32711, 32710, 32709, 32708, 32707, 32706, 32705, 32704, 32703, 32702, 32701, 32700, 32699, 32698, 32697, 32696, 32695]\n"
     ]
    },
    {
     "name": "stderr",
     "output_type": "stream",
     "text": [
      "\r",
      " 19%|█▉        | 1830/9716 [1:50:24<7:55:48,  3.62s/it]"
     ]
    },
    {
     "name": "stdout",
     "output_type": "stream",
     "text": [
      "167653 20 31110 136543 [32731, 32730, 32729, 32728, 32727, 32726, 32725, 32724, 32723, 32722, 32721, 32720, 32719, 32718, 32717, 32716, 32715, 32714, 32713, 32712]\n"
     ]
    },
    {
     "name": "stderr",
     "output_type": "stream",
     "text": [
      "\r",
      " 19%|█▉        | 1831/9716 [1:50:27<7:55:42,  3.62s/it]"
     ]
    },
    {
     "name": "stdout",
     "output_type": "stream",
     "text": [
      "167653 20 31127 136526 [32748, 32747, 32746, 32745, 32744, 32743, 32742, 32741, 32740, 32739, 32738, 32737, 32736, 32735, 32734, 32733, 32732, 32731, 32730, 32729]\n"
     ]
    },
    {
     "name": "stderr",
     "output_type": "stream",
     "text": [
      "\r",
      " 19%|█▉        | 1832/9716 [1:50:31<7:55:36,  3.62s/it]"
     ]
    },
    {
     "name": "stdout",
     "output_type": "stream",
     "text": [
      "167653 20 31144 136509 [32765, 32764, 32763, 32762, 32761, 32760, 32759, 32758, 32757, 32756, 32755, 32754, 32753, 32752, 32751, 32750, 32749, 32748, 32747, 32746]\n"
     ]
    },
    {
     "name": "stderr",
     "output_type": "stream",
     "text": [
      "\r",
      " 19%|█▉        | 1833/9716 [1:50:34<7:55:30,  3.62s/it]"
     ]
    },
    {
     "name": "stdout",
     "output_type": "stream",
     "text": [
      "167653 20 31161 136492 [32782, 32781, 32780, 32779, 32778, 32777, 32776, 32775, 32774, 32773, 32772, 32771, 32770, 32769, 32768, 32767, 32766, 32765, 32764, 32763]\n"
     ]
    },
    {
     "name": "stderr",
     "output_type": "stream",
     "text": [
      "\r",
      " 19%|█▉        | 1834/9716 [1:50:37<7:55:27,  3.62s/it]"
     ]
    },
    {
     "name": "stdout",
     "output_type": "stream",
     "text": [
      "167653 20 31178 136475 [32799, 32798, 32797, 32796, 32795, 32794, 32793, 32792, 32791, 32790, 32789, 32788, 32787, 32786, 32785, 32784, 32783, 32782, 32781, 32780]\n"
     ]
    },
    {
     "name": "stderr",
     "output_type": "stream",
     "text": [
      "\r",
      " 19%|█▉        | 1835/9716 [1:50:41<7:55:22,  3.62s/it]"
     ]
    },
    {
     "name": "stdout",
     "output_type": "stream",
     "text": [
      "167653 20 31195 136458 [32816, 32815, 32814, 32813, 32812, 32811, 32810, 32809, 32808, 32807, 32806, 32805, 32804, 32803, 32802, 32801, 32800, 32799, 32798, 32797]\n"
     ]
    },
    {
     "name": "stderr",
     "output_type": "stream",
     "text": [
      "\r",
      " 19%|█▉        | 1836/9716 [1:50:44<7:55:16,  3.62s/it]"
     ]
    },
    {
     "name": "stdout",
     "output_type": "stream",
     "text": [
      "167653 20 31212 136441 [32833, 32832, 32831, 32830, 32829, 32828, 32827, 32826, 32825, 32824, 32823, 32822, 32821, 32820, 32819, 32818, 32817, 32816, 32815, 32814]\n"
     ]
    },
    {
     "name": "stderr",
     "output_type": "stream",
     "text": [
      "\r",
      " 19%|█▉        | 1837/9716 [1:50:47<7:55:11,  3.62s/it]"
     ]
    },
    {
     "name": "stdout",
     "output_type": "stream",
     "text": [
      "167653 20 31229 136424 [32850, 32849, 32848, 32847, 32846, 32845, 32844, 32843, 32842, 32841, 32840, 32839, 32838, 32837, 32836, 32835, 32834, 32833, 32832, 32831]\n"
     ]
    },
    {
     "name": "stderr",
     "output_type": "stream",
     "text": [
      "\r",
      " 19%|█▉        | 1838/9716 [1:50:50<7:55:05,  3.62s/it]"
     ]
    },
    {
     "name": "stdout",
     "output_type": "stream",
     "text": [
      "167653 20 31246 136407 [32867, 32866, 32865, 32864, 32863, 32862, 32861, 32860, 32859, 32858, 32857, 32856, 32855, 32854, 32853, 32852, 32851, 32850, 32849, 32848]\n"
     ]
    },
    {
     "name": "stderr",
     "output_type": "stream",
     "text": [
      "\r",
      " 19%|█▉        | 1839/9716 [1:50:53<7:54:58,  3.62s/it]"
     ]
    },
    {
     "name": "stdout",
     "output_type": "stream",
     "text": [
      "167660 20 31263 136390 [32886, 32885, 32884, 32883, 32882, 32881, 32880, 32879, 32878, 32877, 32876, 32875, 32874, 32873, 32872, 32871, 32870, 32869, 32868, 32867]\n"
     ]
    },
    {
     "name": "stderr",
     "output_type": "stream",
     "text": [
      "\r",
      " 19%|█▉        | 1840/9716 [1:50:56<7:54:52,  3.62s/it]"
     ]
    },
    {
     "name": "stdout",
     "output_type": "stream",
     "text": [
      "167660 20 31280 136380 [32901, 32900, 32899, 32898, 32897, 32896, 32895, 32894, 32893, 32892, 32891, 32890, 32889, 32888, 32887, 32886, 32885, 32884, 32883, 32882]\n"
     ]
    },
    {
     "name": "stderr",
     "output_type": "stream",
     "text": [
      "\r",
      " 19%|█▉        | 1841/9716 [1:50:59<7:54:45,  3.62s/it]"
     ]
    },
    {
     "name": "stdout",
     "output_type": "stream",
     "text": [
      "167660 20 31297 136363 [32918, 32917, 32916, 32915, 32914, 32913, 32912, 32911, 32910, 32909, 32908, 32907, 32906, 32905, 32904, 32903, 32902, 32901, 32900, 32899]\n"
     ]
    },
    {
     "name": "stderr",
     "output_type": "stream",
     "text": [
      "\r",
      " 19%|█▉        | 1842/9716 [1:51:02<7:54:40,  3.62s/it]"
     ]
    },
    {
     "name": "stdout",
     "output_type": "stream",
     "text": [
      "167666 20 31314 136346 [32935, 32934, 32933, 32932, 32931, 32930, 32929, 32928, 32927, 32926, 32925, 32924, 32923, 32922, 32921, 32920, 32919, 32918, 32917, 32916]\n"
     ]
    },
    {
     "name": "stderr",
     "output_type": "stream",
     "text": [
      "\r",
      " 19%|█▉        | 1843/9716 [1:51:05<7:54:34,  3.62s/it]"
     ]
    },
    {
     "name": "stdout",
     "output_type": "stream",
     "text": [
      "167677 20 31331 136335 [32960, 32959, 32958, 32957, 32956, 32955, 32954, 32953, 32952, 32951, 32950, 32949, 32948, 32947, 32946, 32945, 32944, 32943, 32942, 32941]\n"
     ]
    },
    {
     "name": "stderr",
     "output_type": "stream",
     "text": [
      "\r",
      " 19%|█▉        | 1844/9716 [1:51:08<7:54:28,  3.62s/it]"
     ]
    },
    {
     "name": "stdout",
     "output_type": "stream",
     "text": [
      "167677 20 31348 136329 [32969, 32968, 32967, 32966, 32965, 32964, 32963, 32962, 32961, 32960, 32959, 32958, 32957, 32956, 32955, 32954, 32953, 32952, 32951, 32950]\n"
     ]
    },
    {
     "name": "stderr",
     "output_type": "stream",
     "text": [
      "\r",
      " 19%|█▉        | 1845/9716 [1:51:12<7:54:23,  3.62s/it]"
     ]
    },
    {
     "name": "stdout",
     "output_type": "stream",
     "text": [
      "167677 20 31365 136312 [32986, 32985, 32984, 32983, 32982, 32981, 32980, 32979, 32978, 32977, 32976, 32975, 32974, 32973, 32972, 32971, 32970, 32969, 32968, 32967]\n"
     ]
    },
    {
     "name": "stderr",
     "output_type": "stream",
     "text": [
      "\r",
      " 19%|█▉        | 1846/9716 [1:51:15<7:54:17,  3.62s/it]"
     ]
    },
    {
     "name": "stdout",
     "output_type": "stream",
     "text": [
      "167677 20 31382 136295 [33003, 33002, 33001, 33000, 32999, 32998, 32997, 32996, 32995, 32994, 32993, 32992, 32991, 32990, 32989, 32988, 32987, 32986, 32985, 32984]\n"
     ]
    },
    {
     "name": "stderr",
     "output_type": "stream",
     "text": [
      "\r",
      " 19%|█▉        | 1847/9716 [1:51:18<7:54:12,  3.62s/it]"
     ]
    },
    {
     "name": "stdout",
     "output_type": "stream",
     "text": [
      "167677 20 31399 136278 [33020, 33019, 33018, 33017, 33016, 33015, 33014, 33013, 33012, 33011, 33010, 33009, 33008, 33007, 33006, 33005, 33004, 33003, 33002, 33001]\n"
     ]
    },
    {
     "name": "stderr",
     "output_type": "stream",
     "text": [
      "\r",
      " 19%|█▉        | 1848/9716 [1:51:21<7:54:08,  3.62s/it]"
     ]
    },
    {
     "name": "stdout",
     "output_type": "stream",
     "text": [
      "167677 20 31416 136261 [33037, 33036, 33035, 33034, 33033, 33032, 33031, 33030, 33029, 33028, 33027, 33026, 33025, 33024, 33023, 33022, 33021, 33020, 33019, 33018]\n"
     ]
    },
    {
     "name": "stderr",
     "output_type": "stream",
     "text": [
      "\r",
      " 19%|█▉        | 1849/9716 [1:51:24<7:54:02,  3.62s/it]"
     ]
    },
    {
     "name": "stdout",
     "output_type": "stream",
     "text": [
      "167677 20 31433 136244 [33054, 33053, 33052, 33051, 33050, 33049, 33048, 33047, 33046, 33045, 33044, 33043, 33042, 33041, 33040, 33039, 33038, 33037, 33036, 33035]\n"
     ]
    },
    {
     "name": "stderr",
     "output_type": "stream",
     "text": [
      "\r",
      " 19%|█▉        | 1850/9716 [1:51:28<7:53:57,  3.62s/it]"
     ]
    },
    {
     "name": "stdout",
     "output_type": "stream",
     "text": [
      "167677 20 31450 136227 [33071, 33070, 33069, 33068, 33067, 33066, 33065, 33064, 33063, 33062, 33061, 33060, 33059, 33058, 33057, 33056, 33055, 33054, 33053, 33052]\n"
     ]
    },
    {
     "name": "stderr",
     "output_type": "stream",
     "text": [
      "\r",
      " 19%|█▉        | 1851/9716 [1:51:31<7:53:51,  3.61s/it]"
     ]
    },
    {
     "name": "stdout",
     "output_type": "stream",
     "text": [
      "167677 20 31467 136210 [33088, 33087, 33086, 33085, 33084, 33083, 33082, 33081, 33080, 33079, 33078, 33077, 33076, 33075, 33074, 33073, 33072, 33071, 33070, 33069]\n"
     ]
    },
    {
     "name": "stderr",
     "output_type": "stream",
     "text": [
      "\r",
      " 19%|█▉        | 1852/9716 [1:51:34<7:53:47,  3.61s/it]"
     ]
    },
    {
     "name": "stdout",
     "output_type": "stream",
     "text": [
      "167677 20 31484 136193 [33105, 33104, 33103, 33102, 33101, 33100, 33099, 33098, 33097, 33096, 33095, 33094, 33093, 33092, 33091, 33090, 33089, 33088, 33087, 33086]\n"
     ]
    },
    {
     "name": "stderr",
     "output_type": "stream",
     "text": [
      "\r",
      " 19%|█▉        | 1853/9716 [1:51:37<7:53:41,  3.61s/it]"
     ]
    },
    {
     "name": "stdout",
     "output_type": "stream",
     "text": [
      "167677 20 31501 136176 [33122, 33121, 33120, 33119, 33118, 33117, 33116, 33115, 33114, 33113, 33112, 33111, 33110, 33109, 33108, 33107, 33106, 33105, 33104, 33103]\n"
     ]
    },
    {
     "name": "stderr",
     "output_type": "stream",
     "text": [
      "\r",
      " 19%|█▉        | 1854/9716 [1:51:41<7:53:36,  3.61s/it]"
     ]
    },
    {
     "name": "stdout",
     "output_type": "stream",
     "text": [
      "167677 20 31518 136159 [33139, 33138, 33137, 33136, 33135, 33134, 33133, 33132, 33131, 33130, 33129, 33128, 33127, 33126, 33125, 33124, 33123, 33122, 33121, 33120]\n"
     ]
    },
    {
     "name": "stderr",
     "output_type": "stream",
     "text": [
      "\r",
      " 19%|█▉        | 1855/9716 [1:51:44<7:53:30,  3.61s/it]"
     ]
    },
    {
     "name": "stdout",
     "output_type": "stream",
     "text": [
      "167677 20 31535 136142 [33156, 33155, 33154, 33153, 33152, 33151, 33150, 33149, 33148, 33147, 33146, 33145, 33144, 33143, 33142, 33141, 33140, 33139, 33138, 33137]\n"
     ]
    },
    {
     "name": "stderr",
     "output_type": "stream",
     "text": [
      "\r",
      " 19%|█▉        | 1856/9716 [1:51:47<7:53:26,  3.61s/it]"
     ]
    },
    {
     "name": "stdout",
     "output_type": "stream",
     "text": [
      "167677 20 31552 136125 [33173, 33172, 33171, 33170, 33169, 33168, 33167, 33166, 33165, 33164, 33163, 33162, 33161, 33160, 33159, 33158, 33157, 33156, 33155, 33154]\n"
     ]
    },
    {
     "name": "stderr",
     "output_type": "stream",
     "text": [
      "\r",
      " 19%|█▉        | 1857/9716 [1:51:50<7:53:21,  3.61s/it]"
     ]
    },
    {
     "name": "stdout",
     "output_type": "stream",
     "text": [
      "167677 20 31569 136108 [33190, 33189, 33188, 33187, 33186, 33185, 33184, 33183, 33182, 33181, 33180, 33179, 33178, 33177, 33176, 33175, 33174, 33173, 33172, 33171]\n"
     ]
    },
    {
     "name": "stderr",
     "output_type": "stream",
     "text": [
      "\r",
      " 19%|█▉        | 1858/9716 [1:51:54<7:53:15,  3.61s/it]"
     ]
    },
    {
     "name": "stdout",
     "output_type": "stream",
     "text": [
      "167677 20 31586 136091 [33207, 33206, 33205, 33204, 33203, 33202, 33201, 33200, 33199, 33198, 33197, 33196, 33195, 33194, 33193, 33192, 33191, 33190, 33189, 33188]\n"
     ]
    },
    {
     "name": "stderr",
     "output_type": "stream",
     "text": [
      "\r",
      " 19%|█▉        | 1859/9716 [1:51:57<7:53:09,  3.61s/it]"
     ]
    },
    {
     "name": "stdout",
     "output_type": "stream",
     "text": [
      "167677 20 31603 136074 [33224, 33223, 33222, 33221, 33220, 33219, 33218, 33217, 33216, 33215, 33214, 33213, 33212, 33211, 33210, 33209, 33208, 33207, 33206, 33205]\n"
     ]
    },
    {
     "name": "stderr",
     "output_type": "stream",
     "text": [
      "\r",
      " 19%|█▉        | 1860/9716 [1:52:00<7:53:03,  3.61s/it]"
     ]
    },
    {
     "name": "stdout",
     "output_type": "stream",
     "text": [
      "167677 20 31620 136057 [33241, 33240, 33239, 33238, 33237, 33236, 33235, 33234, 33233, 33232, 33231, 33230, 33229, 33228, 33227, 33226, 33225, 33224, 33223, 33222]\n"
     ]
    },
    {
     "name": "stderr",
     "output_type": "stream",
     "text": [
      "\r",
      " 19%|█▉        | 1861/9716 [1:52:03<7:52:57,  3.61s/it]"
     ]
    },
    {
     "name": "stdout",
     "output_type": "stream",
     "text": [
      "167677 20 31637 136040 [33258, 33257, 33256, 33255, 33254, 33253, 33252, 33251, 33250, 33249, 33248, 33247, 33246, 33245, 33244, 33243, 33242, 33241, 33240, 33239]\n"
     ]
    },
    {
     "name": "stderr",
     "output_type": "stream",
     "text": [
      "\r",
      " 19%|█▉        | 1862/9716 [1:52:06<7:52:53,  3.61s/it]"
     ]
    },
    {
     "name": "stdout",
     "output_type": "stream",
     "text": [
      "167677 20 31654 136023 [33275, 33274, 33273, 33272, 33271, 33270, 33269, 33268, 33267, 33266, 33265, 33264, 33263, 33262, 33261, 33260, 33259, 33258, 33257, 33256]\n"
     ]
    },
    {
     "name": "stderr",
     "output_type": "stream",
     "text": [
      "\r",
      " 19%|█▉        | 1863/9716 [1:52:09<7:52:48,  3.61s/it]"
     ]
    },
    {
     "name": "stdout",
     "output_type": "stream",
     "text": [
      "167677 20 31671 136006 [33292, 33291, 33290, 33289, 33288, 33287, 33286, 33285, 33284, 33283, 33282, 33281, 33280, 33279, 33278, 33277, 33276, 33275, 33274, 33273]\n"
     ]
    },
    {
     "name": "stderr",
     "output_type": "stream",
     "text": [
      "\r",
      " 19%|█▉        | 1864/9716 [1:52:12<7:52:41,  3.61s/it]"
     ]
    },
    {
     "name": "stdout",
     "output_type": "stream",
     "text": [
      "167677 20 31688 135989 [33309, 33308, 33307, 33306, 33305, 33304, 33303, 33302, 33301, 33300, 33299, 33298, 33297, 33296, 33295, 33294, 33293, 33292, 33291, 33290]\n"
     ]
    },
    {
     "name": "stderr",
     "output_type": "stream",
     "text": [
      "\r",
      " 19%|█▉        | 1865/9716 [1:52:16<7:52:36,  3.61s/it]"
     ]
    },
    {
     "name": "stdout",
     "output_type": "stream",
     "text": [
      "167677 20 31705 135972 [33326, 33325, 33324, 33323, 33322, 33321, 33320, 33319, 33318, 33317, 33316, 33315, 33314, 33313, 33312, 33311, 33310, 33309, 33308, 33307]\n"
     ]
    },
    {
     "name": "stderr",
     "output_type": "stream",
     "text": [
      "\r",
      " 19%|█▉        | 1866/9716 [1:52:19<7:52:30,  3.61s/it]"
     ]
    },
    {
     "name": "stdout",
     "output_type": "stream",
     "text": [
      "167677 20 31722 135955 [33343, 33342, 33341, 33340, 33339, 33338, 33337, 33336, 33335, 33334, 33333, 33332, 33331, 33330, 33329, 33328, 33327, 33326, 33325, 33324]\n"
     ]
    },
    {
     "name": "stderr",
     "output_type": "stream",
     "text": [
      "\r",
      " 19%|█▉        | 1867/9716 [1:52:22<7:52:25,  3.61s/it]"
     ]
    },
    {
     "name": "stdout",
     "output_type": "stream",
     "text": [
      "167677 20 31739 135938 [33360, 33359, 33358, 33357, 33356, 33355, 33354, 33353, 33352, 33351, 33350, 33349, 33348, 33347, 33346, 33345, 33344, 33343, 33342, 33341]\n"
     ]
    },
    {
     "name": "stderr",
     "output_type": "stream",
     "text": [
      "\r",
      " 19%|█▉        | 1868/9716 [1:52:25<7:52:19,  3.61s/it]"
     ]
    },
    {
     "name": "stdout",
     "output_type": "stream",
     "text": [
      "167677 20 31756 135921 [33377, 33376, 33375, 33374, 33373, 33372, 33371, 33370, 33369, 33368, 33367, 33366, 33365, 33364, 33363, 33362, 33361, 33360, 33359, 33358]\n"
     ]
    },
    {
     "name": "stderr",
     "output_type": "stream",
     "text": [
      "\r",
      " 19%|█▉        | 1869/9716 [1:52:28<7:52:13,  3.61s/it]"
     ]
    },
    {
     "name": "stdout",
     "output_type": "stream",
     "text": [
      "167677 20 31773 135904 [33394, 33393, 33392, 33391, 33390, 33389, 33388, 33387, 33386, 33385, 33384, 33383, 33382, 33381, 33380, 33379, 33378, 33377, 33376, 33375]\n"
     ]
    },
    {
     "name": "stderr",
     "output_type": "stream",
     "text": [
      "\r",
      " 19%|█▉        | 1870/9716 [1:52:31<7:52:07,  3.61s/it]"
     ]
    },
    {
     "name": "stdout",
     "output_type": "stream",
     "text": [
      "167677 20 31790 135887 [33411, 33410, 33409, 33408, 33407, 33406, 33405, 33404, 33403, 33402, 33401, 33400, 33399, 33398, 33397, 33396, 33395, 33394, 33393, 33392]\n"
     ]
    },
    {
     "name": "stderr",
     "output_type": "stream",
     "text": [
      "\r",
      " 19%|█▉        | 1871/9716 [1:52:34<7:52:01,  3.61s/it]"
     ]
    },
    {
     "name": "stdout",
     "output_type": "stream",
     "text": [
      "167677 20 31807 135870 [33428, 33427, 33426, 33425, 33424, 33423, 33422, 33421, 33420, 33419, 33418, 33417, 33416, 33415, 33414, 33413, 33412, 33411, 33410, 33409]\n"
     ]
    },
    {
     "name": "stderr",
     "output_type": "stream",
     "text": [
      "\r",
      " 19%|█▉        | 1872/9716 [1:52:37<7:51:54,  3.61s/it]"
     ]
    },
    {
     "name": "stdout",
     "output_type": "stream",
     "text": [
      "167677 20 31824 135853 [33445, 33444, 33443, 33442, 33441, 33440, 33439, 33438, 33437, 33436, 33435, 33434, 33433, 33432, 33431, 33430, 33429, 33428, 33427, 33426]\n"
     ]
    },
    {
     "name": "stderr",
     "output_type": "stream",
     "text": [
      "\r",
      " 19%|█▉        | 1873/9716 [1:52:40<7:51:49,  3.61s/it]"
     ]
    },
    {
     "name": "stdout",
     "output_type": "stream",
     "text": [
      "167677 20 31841 135836 [33462, 33461, 33460, 33459, 33458, 33457, 33456, 33455, 33454, 33453, 33452, 33451, 33450, 33449, 33448, 33447, 33446, 33445, 33444, 33443]\n"
     ]
    },
    {
     "name": "stderr",
     "output_type": "stream",
     "text": [
      "\r",
      " 19%|█▉        | 1874/9716 [1:52:43<7:51:43,  3.61s/it]"
     ]
    },
    {
     "name": "stdout",
     "output_type": "stream",
     "text": [
      "167677 20 31858 135819 [33479, 33478, 33477, 33476, 33475, 33474, 33473, 33472, 33471, 33470, 33469, 33468, 33467, 33466, 33465, 33464, 33463, 33462, 33461, 33460]\n"
     ]
    },
    {
     "name": "stderr",
     "output_type": "stream",
     "text": [
      "\r",
      " 19%|█▉        | 1875/9716 [1:52:46<7:51:38,  3.61s/it]"
     ]
    },
    {
     "name": "stdout",
     "output_type": "stream",
     "text": [
      "167677 20 31875 135802 [33496, 33495, 33494, 33493, 33492, 33491, 33490, 33489, 33488, 33487, 33486, 33485, 33484, 33483, 33482, 33481, 33480, 33479, 33478, 33477]\n"
     ]
    },
    {
     "name": "stderr",
     "output_type": "stream",
     "text": [
      "\r",
      " 19%|█▉        | 1876/9716 [1:52:50<7:51:33,  3.61s/it]"
     ]
    },
    {
     "name": "stdout",
     "output_type": "stream",
     "text": [
      "167677 20 31892 135785 [33513, 33512, 33511, 33510, 33509, 33508, 33507, 33506, 33505, 33504, 33503, 33502, 33501, 33500, 33499, 33498, 33497, 33496, 33495, 33494]\n"
     ]
    },
    {
     "name": "stderr",
     "output_type": "stream",
     "text": [
      "\r",
      " 19%|█▉        | 1877/9716 [1:52:53<7:51:26,  3.61s/it]"
     ]
    },
    {
     "name": "stdout",
     "output_type": "stream",
     "text": [
      "167677 20 31909 135768 [33530, 33529, 33528, 33527, 33526, 33525, 33524, 33523, 33522, 33521, 33520, 33519, 33518, 33517, 33516, 33515, 33514, 33513, 33512, 33511]\n"
     ]
    },
    {
     "name": "stderr",
     "output_type": "stream",
     "text": [
      "\r",
      " 19%|█▉        | 1878/9716 [1:52:56<7:51:20,  3.61s/it]"
     ]
    },
    {
     "name": "stdout",
     "output_type": "stream",
     "text": [
      "167677 20 31926 135751 [33547, 33546, 33545, 33544, 33543, 33542, 33541, 33540, 33539, 33538, 33537, 33536, 33535, 33534, 33533, 33532, 33531, 33530, 33529, 33528]\n"
     ]
    },
    {
     "name": "stderr",
     "output_type": "stream",
     "text": [
      "\r",
      " 19%|█▉        | 1879/9716 [1:52:58<7:51:14,  3.61s/it]"
     ]
    },
    {
     "name": "stdout",
     "output_type": "stream",
     "text": [
      "167679 20 31943 135734 [33564, 33563, 33562, 33561, 33560, 33559, 33558, 33557, 33556, 33555, 33554, 33553, 33552, 33551, 33550, 33549, 33548, 33547, 33546, 33545]\n"
     ]
    },
    {
     "name": "stderr",
     "output_type": "stream",
     "text": [
      "\r",
      " 19%|█▉        | 1880/9716 [1:53:01<7:51:07,  3.61s/it]"
     ]
    },
    {
     "name": "stdout",
     "output_type": "stream",
     "text": [
      "167680 20 31960 135719 [33582, 33581, 33580, 33579, 33578, 33577, 33576, 33575, 33574, 33573, 33572, 33571, 33570, 33569, 33568, 33567, 33566, 33565, 33564, 33563]\n"
     ]
    },
    {
     "name": "stderr",
     "output_type": "stream",
     "text": [
      "\r",
      " 19%|█▉        | 1881/9716 [1:53:05<7:51:02,  3.61s/it]"
     ]
    },
    {
     "name": "stdout",
     "output_type": "stream",
     "text": [
      "167680 20 31977 135703 [33598, 33597, 33596, 33595, 33594, 33593, 33592, 33591, 33590, 33589, 33588, 33587, 33586, 33585, 33584, 33583, 33582, 33581, 33580, 33579]\n"
     ]
    },
    {
     "name": "stderr",
     "output_type": "stream",
     "text": [
      "\r",
      " 19%|█▉        | 1882/9716 [1:53:08<7:50:56,  3.61s/it]"
     ]
    },
    {
     "name": "stdout",
     "output_type": "stream",
     "text": [
      "167680 20 31994 135686 [33615, 33614, 33613, 33612, 33611, 33610, 33609, 33608, 33607, 33606, 33605, 33604, 33603, 33602, 33601, 33600, 33599, 33598, 33597, 33596]\n"
     ]
    },
    {
     "name": "stderr",
     "output_type": "stream",
     "text": [
      "\r",
      " 19%|█▉        | 1883/9716 [1:53:11<7:50:50,  3.61s/it]"
     ]
    },
    {
     "name": "stdout",
     "output_type": "stream",
     "text": [
      "167687 20 32011 135669 [33632, 33631, 33630, 33629, 33628, 33627, 33626, 33625, 33624, 33623, 33622, 33621, 33620, 33619, 33618, 33617, 33616, 33615, 33614, 33613]\n"
     ]
    },
    {
     "name": "stderr",
     "output_type": "stream",
     "text": [
      "\r",
      " 19%|█▉        | 1884/9716 [1:53:14<7:50:43,  3.61s/it]"
     ]
    },
    {
     "name": "stdout",
     "output_type": "stream",
     "text": [
      "167687 20 32028 135659 [33649, 33648, 33647, 33646, 33645, 33644, 33643, 33642, 33641, 33640, 33639, 33638, 33637, 33636, 33635, 33634, 33633, 33632, 33631, 33630]\n"
     ]
    },
    {
     "name": "stderr",
     "output_type": "stream",
     "text": [
      "\r",
      " 19%|█▉        | 1885/9716 [1:53:17<7:50:39,  3.61s/it]"
     ]
    },
    {
     "name": "stdout",
     "output_type": "stream",
     "text": [
      "167699 20 32045 135642 [33672, 33671, 33670, 33669, 33668, 33667, 33666, 33665, 33664, 33663, 33662, 33661, 33660, 33659, 33658, 33657, 33656, 33655, 33654, 33653]\n"
     ]
    },
    {
     "name": "stderr",
     "output_type": "stream",
     "text": [
      "\r",
      " 19%|█▉        | 1886/9716 [1:53:20<7:50:33,  3.61s/it]"
     ]
    },
    {
     "name": "stdout",
     "output_type": "stream",
     "text": [
      "167699 20 32062 135637 [33683, 33682, 33681, 33680, 33679, 33678, 33677, 33676, 33675, 33674, 33673, 33672, 33671, 33670, 33669, 33668, 33667, 33666, 33665, 33664]\n"
     ]
    },
    {
     "name": "stderr",
     "output_type": "stream",
     "text": [
      "\r",
      " 19%|█▉        | 1887/9716 [1:53:24<7:50:29,  3.61s/it]"
     ]
    },
    {
     "name": "stdout",
     "output_type": "stream",
     "text": [
      "167706 20 32079 135620 [33705, 33704, 33703, 33702, 33701, 33700, 33699, 33698, 33697, 33696, 33695, 33694, 33693, 33692, 33691, 33690, 33689, 33688, 33687, 33686]\n"
     ]
    },
    {
     "name": "stderr",
     "output_type": "stream",
     "text": [
      "\r",
      " 19%|█▉        | 1888/9716 [1:53:27<7:50:24,  3.61s/it]"
     ]
    },
    {
     "name": "stdout",
     "output_type": "stream",
     "text": [
      "167706 20 32096 135610 [33717, 33716, 33715, 33714, 33713, 33712, 33711, 33710, 33709, 33708, 33707, 33706, 33705, 33704, 33703, 33702, 33701, 33700, 33699, 33698]\n"
     ]
    },
    {
     "name": "stderr",
     "output_type": "stream",
     "text": [
      "\r",
      " 19%|█▉        | 1889/9716 [1:53:30<7:50:19,  3.61s/it]"
     ]
    },
    {
     "name": "stdout",
     "output_type": "stream",
     "text": [
      "167706 20 32113 135593 [33734, 33733, 33732, 33731, 33730, 33729, 33728, 33727, 33726, 33725, 33724, 33723, 33722, 33721, 33720, 33719, 33718, 33717, 33716, 33715]\n"
     ]
    },
    {
     "name": "stderr",
     "output_type": "stream",
     "text": [
      "\r",
      " 19%|█▉        | 1890/9716 [1:53:34<7:50:16,  3.61s/it]"
     ]
    },
    {
     "name": "stdout",
     "output_type": "stream",
     "text": [
      "167706 20 32130 135576 [33751, 33750, 33749, 33748, 33747, 33746, 33745, 33744, 33743, 33742, 33741, 33740, 33739, 33738, 33737, 33736, 33735, 33734, 33733, 33732]\n"
     ]
    },
    {
     "name": "stderr",
     "output_type": "stream",
     "text": [
      "\r",
      " 19%|█▉        | 1891/9716 [1:53:37<7:50:11,  3.61s/it]"
     ]
    },
    {
     "name": "stdout",
     "output_type": "stream",
     "text": [
      "167706 20 32147 135559 [33768, 33767, 33766, 33765, 33764, 33763, 33762, 33761, 33760, 33759, 33758, 33757, 33756, 33755, 33754, 33753, 33752, 33751, 33750, 33749]\n"
     ]
    },
    {
     "name": "stderr",
     "output_type": "stream",
     "text": [
      "\r",
      " 19%|█▉        | 1892/9716 [1:53:41<7:50:07,  3.61s/it]"
     ]
    },
    {
     "name": "stdout",
     "output_type": "stream",
     "text": [
      "167706 20 32164 135542 [33785, 33784, 33783, 33782, 33781, 33780, 33779, 33778, 33777, 33776, 33775, 33774, 33773, 33772, 33771, 33770, 33769, 33768, 33767, 33766]\n"
     ]
    },
    {
     "name": "stderr",
     "output_type": "stream",
     "text": [
      "\r",
      " 19%|█▉        | 1893/9716 [1:53:44<7:50:04,  3.61s/it]"
     ]
    },
    {
     "name": "stdout",
     "output_type": "stream",
     "text": [
      "167706 20 32181 135525 [33802, 33801, 33800, 33799, 33798, 33797, 33796, 33795, 33794, 33793, 33792, 33791, 33790, 33789, 33788, 33787, 33786, 33785, 33784, 33783]\n"
     ]
    },
    {
     "name": "stderr",
     "output_type": "stream",
     "text": [
      "\r",
      " 19%|█▉        | 1894/9716 [1:53:48<7:49:59,  3.61s/it]"
     ]
    },
    {
     "name": "stdout",
     "output_type": "stream",
     "text": [
      "167706 20 32198 135508 [33819, 33818, 33817, 33816, 33815, 33814, 33813, 33812, 33811, 33810, 33809, 33808, 33807, 33806, 33805, 33804, 33803, 33802, 33801, 33800]\n"
     ]
    },
    {
     "name": "stderr",
     "output_type": "stream",
     "text": [
      "\r",
      " 20%|█▉        | 1895/9716 [1:53:51<7:49:54,  3.61s/it]"
     ]
    },
    {
     "name": "stdout",
     "output_type": "stream",
     "text": [
      "167706 20 32215 135491 [33836, 33835, 33834, 33833, 33832, 33831, 33830, 33829, 33828, 33827, 33826, 33825, 33824, 33823, 33822, 33821, 33820, 33819, 33818, 33817]\n"
     ]
    },
    {
     "name": "stderr",
     "output_type": "stream",
     "text": [
      "\r",
      " 20%|█▉        | 1896/9716 [1:53:55<7:49:51,  3.61s/it]"
     ]
    },
    {
     "name": "stdout",
     "output_type": "stream",
     "text": [
      "167706 20 32232 135474 [33853, 33852, 33851, 33850, 33849, 33848, 33847, 33846, 33845, 33844, 33843, 33842, 33841, 33840, 33839, 33838, 33837, 33836, 33835, 33834]\n"
     ]
    },
    {
     "name": "stderr",
     "output_type": "stream",
     "text": [
      "\r",
      " 20%|█▉        | 1897/9716 [1:53:58<7:49:47,  3.61s/it]"
     ]
    },
    {
     "name": "stdout",
     "output_type": "stream",
     "text": [
      "167706 20 32249 135457 [33870, 33869, 33868, 33867, 33866, 33865, 33864, 33863, 33862, 33861, 33860, 33859, 33858, 33857, 33856, 33855, 33854, 33853, 33852, 33851]\n"
     ]
    },
    {
     "name": "stderr",
     "output_type": "stream",
     "text": [
      "\r",
      " 20%|█▉        | 1898/9716 [1:54:02<7:49:43,  3.60s/it]"
     ]
    },
    {
     "name": "stdout",
     "output_type": "stream",
     "text": [
      "167706 20 32266 135440 [33887, 33886, 33885, 33884, 33883, 33882, 33881, 33880, 33879, 33878, 33877, 33876, 33875, 33874, 33873, 33872, 33871, 33870, 33869, 33868]\n"
     ]
    },
    {
     "name": "stderr",
     "output_type": "stream",
     "text": [
      "\r",
      " 20%|█▉        | 1899/9716 [1:54:06<7:49:41,  3.61s/it]"
     ]
    },
    {
     "name": "stdout",
     "output_type": "stream",
     "text": [
      "167719 20 32283 135423 [33904, 33903, 33902, 33901, 33900, 33899, 33898, 33897, 33896, 33895, 33894, 33893, 33892, 33891, 33890, 33889, 33888, 33887, 33886, 33885]\n"
     ]
    },
    {
     "name": "stderr",
     "output_type": "stream",
     "text": [
      "\r",
      " 20%|█▉        | 1900/9716 [1:54:09<7:49:38,  3.61s/it]"
     ]
    },
    {
     "name": "stdout",
     "output_type": "stream",
     "text": [
      "167719 20 32300 135419 [33921, 33920, 33919, 33918, 33917, 33916, 33915, 33914, 33913, 33912, 33911, 33910, 33909, 33908, 33907, 33906, 33905, 33904, 33903, 33902]\n"
     ]
    },
    {
     "name": "stderr",
     "output_type": "stream",
     "text": [
      "\r",
      " 20%|█▉        | 1901/9716 [1:54:13<7:49:35,  3.61s/it]"
     ]
    },
    {
     "name": "stdout",
     "output_type": "stream",
     "text": [
      "167719 20 32317 135402 [33938, 33937, 33936, 33935, 33934, 33933, 33932, 33931, 33930, 33929, 33928, 33927, 33926, 33925, 33924, 33923, 33922, 33921, 33920, 33919]\n"
     ]
    },
    {
     "name": "stderr",
     "output_type": "stream",
     "text": [
      "\r",
      " 20%|█▉        | 1902/9716 [1:54:17<7:49:33,  3.61s/it]"
     ]
    },
    {
     "name": "stdout",
     "output_type": "stream",
     "text": [
      "167719 20 32334 135385 [33955, 33954, 33953, 33952, 33951, 33950, 33949, 33948, 33947, 33946, 33945, 33944, 33943, 33942, 33941, 33940, 33939, 33938, 33937, 33936]\n"
     ]
    },
    {
     "name": "stderr",
     "output_type": "stream",
     "text": [
      "\r",
      " 20%|█▉        | 1903/9716 [1:54:21<7:49:31,  3.61s/it]"
     ]
    },
    {
     "name": "stdout",
     "output_type": "stream",
     "text": [
      "167719 20 32351 135368 [33972, 33971, 33970, 33969, 33968, 33967, 33966, 33965, 33964, 33963, 33962, 33961, 33960, 33959, 33958, 33957, 33956, 33955, 33954, 33953]\n"
     ]
    },
    {
     "name": "stderr",
     "output_type": "stream",
     "text": [
      "\r",
      " 20%|█▉        | 1904/9716 [1:54:25<7:49:26,  3.61s/it]"
     ]
    },
    {
     "name": "stdout",
     "output_type": "stream",
     "text": [
      "167719 20 32368 135351 [33989, 33988, 33987, 33986, 33985, 33984, 33983, 33982, 33981, 33980, 33979, 33978, 33977, 33976, 33975, 33974, 33973, 33972, 33971, 33970]\n"
     ]
    },
    {
     "name": "stderr",
     "output_type": "stream",
     "text": [
      "\r",
      " 20%|█▉        | 1905/9716 [1:54:28<7:49:23,  3.61s/it]"
     ]
    },
    {
     "name": "stdout",
     "output_type": "stream",
     "text": [
      "167719 20 32385 135334 [34006, 34005, 34004, 34003, 34002, 34001, 34000, 33999, 33998, 33997, 33996, 33995, 33994, 33993, 33992, 33991, 33990, 33989, 33988, 33987]\n"
     ]
    },
    {
     "name": "stderr",
     "output_type": "stream",
     "text": [
      "\r",
      " 20%|█▉        | 1906/9716 [1:54:31<7:49:17,  3.61s/it]"
     ]
    },
    {
     "name": "stdout",
     "output_type": "stream",
     "text": [
      "167719 20 32402 135317 [34023, 34022, 34021, 34020, 34019, 34018, 34017, 34016, 34015, 34014, 34013, 34012, 34011, 34010, 34009, 34008, 34007, 34006, 34005, 34004]\n"
     ]
    },
    {
     "name": "stderr",
     "output_type": "stream",
     "text": [
      "\r",
      " 20%|█▉        | 1907/9716 [1:54:35<7:49:14,  3.61s/it]"
     ]
    },
    {
     "name": "stdout",
     "output_type": "stream",
     "text": [
      "167719 20 32419 135300 [34040, 34039, 34038, 34037, 34036, 34035, 34034, 34033, 34032, 34031, 34030, 34029, 34028, 34027, 34026, 34025, 34024, 34023, 34022, 34021]\n"
     ]
    },
    {
     "name": "stderr",
     "output_type": "stream",
     "text": [
      "\r",
      " 20%|█▉        | 1908/9716 [1:54:39<7:49:11,  3.61s/it]"
     ]
    },
    {
     "name": "stdout",
     "output_type": "stream",
     "text": [
      "167719 20 32436 135283 [34057, 34056, 34055, 34054, 34053, 34052, 34051, 34050, 34049, 34048, 34047, 34046, 34045, 34044, 34043, 34042, 34041, 34040, 34039, 34038]\n"
     ]
    },
    {
     "name": "stderr",
     "output_type": "stream",
     "text": [
      "\r",
      " 20%|█▉        | 1909/9716 [1:54:42<7:49:07,  3.61s/it]"
     ]
    },
    {
     "name": "stdout",
     "output_type": "stream",
     "text": [
      "167719 20 32453 135266 [34074, 34073, 34072, 34071, 34070, 34069, 34068, 34067, 34066, 34065, 34064, 34063, 34062, 34061, 34060, 34059, 34058, 34057, 34056, 34055]\n"
     ]
    },
    {
     "name": "stderr",
     "output_type": "stream",
     "text": [
      "\r",
      " 20%|█▉        | 1910/9716 [1:54:46<7:49:05,  3.61s/it]"
     ]
    },
    {
     "name": "stdout",
     "output_type": "stream",
     "text": [
      "167719 20 32470 135249 [34091, 34090, 34089, 34088, 34087, 34086, 34085, 34084, 34083, 34082, 34081, 34080, 34079, 34078, 34077, 34076, 34075, 34074, 34073, 34072]\n"
     ]
    },
    {
     "name": "stderr",
     "output_type": "stream",
     "text": [
      "\r",
      " 20%|█▉        | 1911/9716 [1:54:50<7:49:01,  3.61s/it]"
     ]
    },
    {
     "name": "stdout",
     "output_type": "stream",
     "text": [
      "167723 20 32487 135232 [34108, 34107, 34106, 34105, 34104, 34103, 34102, 34101, 34100, 34099, 34098, 34097, 34096, 34095, 34094, 34093, 34092, 34091, 34090, 34089]\n"
     ]
    },
    {
     "name": "stderr",
     "output_type": "stream",
     "text": [
      "\r",
      " 20%|█▉        | 1912/9716 [1:54:53<7:48:56,  3.61s/it]"
     ]
    },
    {
     "name": "stdout",
     "output_type": "stream",
     "text": [
      "167724 20 32504 135219 [34126, 34125, 34124, 34123, 34122, 34121, 34120, 34119, 34118, 34117, 34116, 34115, 34114, 34113, 34112, 34111, 34110, 34109, 34108, 34107]\n"
     ]
    },
    {
     "name": "stderr",
     "output_type": "stream",
     "text": [
      "\r",
      " 20%|█▉        | 1913/9716 [1:54:57<7:48:53,  3.61s/it]"
     ]
    },
    {
     "name": "stdout",
     "output_type": "stream",
     "text": [
      "167724 20 32521 135203 [34142, 34141, 34140, 34139, 34138, 34137, 34136, 34135, 34134, 34133, 34132, 34131, 34130, 34129, 34128, 34127, 34126, 34125, 34124, 34123]\n"
     ]
    },
    {
     "name": "stderr",
     "output_type": "stream",
     "text": [
      "\r",
      " 20%|█▉        | 1914/9716 [1:55:00<7:48:47,  3.61s/it]"
     ]
    },
    {
     "name": "stdout",
     "output_type": "stream",
     "text": [
      "167724 20 32538 135186 [34159, 34158, 34157, 34156, 34155, 34154, 34153, 34152, 34151, 34150, 34149, 34148, 34147, 34146, 34145, 34144, 34143, 34142, 34141, 34140]\n"
     ]
    },
    {
     "name": "stderr",
     "output_type": "stream",
     "text": [
      "\r",
      " 20%|█▉        | 1915/9716 [1:55:03<7:48:41,  3.60s/it]"
     ]
    },
    {
     "name": "stdout",
     "output_type": "stream",
     "text": [
      "167724 20 32555 135169 [34176, 34175, 34174, 34173, 34172, 34171, 34170, 34169, 34168, 34167, 34166, 34165, 34164, 34163, 34162, 34161, 34160, 34159, 34158, 34157]\n"
     ]
    },
    {
     "name": "stderr",
     "output_type": "stream",
     "text": [
      "\r",
      " 20%|█▉        | 1916/9716 [1:55:06<7:48:36,  3.60s/it]"
     ]
    },
    {
     "name": "stdout",
     "output_type": "stream",
     "text": [
      "167724 20 32572 135152 [34193, 34192, 34191, 34190, 34189, 34188, 34187, 34186, 34185, 34184, 34183, 34182, 34181, 34180, 34179, 34178, 34177, 34176, 34175, 34174]\n"
     ]
    },
    {
     "name": "stderr",
     "output_type": "stream",
     "text": [
      "\r",
      " 20%|█▉        | 1917/9716 [1:55:09<7:48:30,  3.60s/it]"
     ]
    },
    {
     "name": "stdout",
     "output_type": "stream",
     "text": [
      "167724 20 32589 135135 [34210, 34209, 34208, 34207, 34206, 34205, 34204, 34203, 34202, 34201, 34200, 34199, 34198, 34197, 34196, 34195, 34194, 34193, 34192, 34191]\n"
     ]
    },
    {
     "name": "stderr",
     "output_type": "stream",
     "text": [
      "\r",
      " 20%|█▉        | 1918/9716 [1:55:12<7:48:25,  3.60s/it]"
     ]
    },
    {
     "name": "stdout",
     "output_type": "stream",
     "text": [
      "167724 20 32606 135118 [34227, 34226, 34225, 34224, 34223, 34222, 34221, 34220, 34219, 34218, 34217, 34216, 34215, 34214, 34213, 34212, 34211, 34210, 34209, 34208]\n"
     ]
    },
    {
     "name": "stderr",
     "output_type": "stream",
     "text": [
      "\r",
      " 20%|█▉        | 1919/9716 [1:55:16<7:48:21,  3.60s/it]"
     ]
    },
    {
     "name": "stdout",
     "output_type": "stream",
     "text": [
      "167724 20 32623 135101 [34244, 34243, 34242, 34241, 34240, 34239, 34238, 34237, 34236, 34235, 34234, 34233, 34232, 34231, 34230, 34229, 34228, 34227, 34226, 34225]\n"
     ]
    },
    {
     "name": "stderr",
     "output_type": "stream",
     "text": [
      "\r",
      " 20%|█▉        | 1920/9716 [1:55:19<7:48:16,  3.60s/it]"
     ]
    },
    {
     "name": "stdout",
     "output_type": "stream",
     "text": [
      "167724 20 32640 135084 [34261, 34260, 34259, 34258, 34257, 34256, 34255, 34254, 34253, 34252, 34251, 34250, 34249, 34248, 34247, 34246, 34245, 34244, 34243, 34242]\n"
     ]
    },
    {
     "name": "stderr",
     "output_type": "stream",
     "text": [
      "\r",
      " 20%|█▉        | 1921/9716 [1:55:22<7:48:09,  3.60s/it]"
     ]
    },
    {
     "name": "stdout",
     "output_type": "stream",
     "text": [
      "167724 20 32657 135067 [34278, 34277, 34276, 34275, 34274, 34273, 34272, 34271, 34270, 34269, 34268, 34267, 34266, 34265, 34264, 34263, 34262, 34261, 34260, 34259]\n"
     ]
    },
    {
     "name": "stderr",
     "output_type": "stream",
     "text": [
      "\r",
      " 20%|█▉        | 1922/9716 [1:55:25<7:48:03,  3.60s/it]"
     ]
    },
    {
     "name": "stdout",
     "output_type": "stream",
     "text": [
      "167724 20 32674 135050 [34295, 34294, 34293, 34292, 34291, 34290, 34289, 34288, 34287, 34286, 34285, 34284, 34283, 34282, 34281, 34280, 34279, 34278, 34277, 34276]\n"
     ]
    },
    {
     "name": "stderr",
     "output_type": "stream",
     "text": [
      "\r",
      " 20%|█▉        | 1923/9716 [1:55:28<7:47:57,  3.60s/it]"
     ]
    },
    {
     "name": "stdout",
     "output_type": "stream",
     "text": [
      "167724 20 32691 135033 [34312, 34311, 34310, 34309, 34308, 34307, 34306, 34305, 34304, 34303, 34302, 34301, 34300, 34299, 34298, 34297, 34296, 34295, 34294, 34293]\n"
     ]
    },
    {
     "name": "stderr",
     "output_type": "stream",
     "text": [
      "\r",
      " 20%|█▉        | 1924/9716 [1:55:31<7:47:51,  3.60s/it]"
     ]
    },
    {
     "name": "stdout",
     "output_type": "stream",
     "text": [
      "167724 20 32708 135016 [34329, 34328, 34327, 34326, 34325, 34324, 34323, 34322, 34321, 34320, 34319, 34318, 34317, 34316, 34315, 34314, 34313, 34312, 34311, 34310]\n"
     ]
    },
    {
     "name": "stderr",
     "output_type": "stream",
     "text": [
      "\r",
      " 20%|█▉        | 1925/9716 [1:55:34<7:47:46,  3.60s/it]"
     ]
    },
    {
     "name": "stdout",
     "output_type": "stream",
     "text": [
      "167724 20 32725 134999 [34346, 34345, 34344, 34343, 34342, 34341, 34340, 34339, 34338, 34337, 34336, 34335, 34334, 34333, 34332, 34331, 34330, 34329, 34328, 34327]\n"
     ]
    },
    {
     "name": "stderr",
     "output_type": "stream",
     "text": [
      "\r",
      " 20%|█▉        | 1926/9716 [1:55:37<7:47:40,  3.60s/it]"
     ]
    },
    {
     "name": "stdout",
     "output_type": "stream",
     "text": [
      "167724 20 32742 134982 [34363, 34362, 34361, 34360, 34359, 34358, 34357, 34356, 34355, 34354, 34353, 34352, 34351, 34350, 34349, 34348, 34347, 34346, 34345, 34344]\n"
     ]
    },
    {
     "name": "stderr",
     "output_type": "stream",
     "text": [
      "\r",
      " 20%|█▉        | 1927/9716 [1:55:41<7:47:35,  3.60s/it]"
     ]
    },
    {
     "name": "stdout",
     "output_type": "stream",
     "text": [
      "167724 20 32759 134965 [34380, 34379, 34378, 34377, 34376, 34375, 34374, 34373, 34372, 34371, 34370, 34369, 34368, 34367, 34366, 34365, 34364, 34363, 34362, 34361]\n"
     ]
    },
    {
     "name": "stderr",
     "output_type": "stream",
     "text": [
      "\r",
      " 20%|█▉        | 1928/9716 [1:55:44<7:47:31,  3.60s/it]"
     ]
    },
    {
     "name": "stdout",
     "output_type": "stream",
     "text": [
      "167724 20 32776 134948 [34397, 34396, 34395, 34394, 34393, 34392, 34391, 34390, 34389, 34388, 34387, 34386, 34385, 34384, 34383, 34382, 34381, 34380, 34379, 34378]\n"
     ]
    },
    {
     "name": "stderr",
     "output_type": "stream",
     "text": [
      "\r",
      " 20%|█▉        | 1929/9716 [1:55:47<7:47:26,  3.60s/it]"
     ]
    },
    {
     "name": "stdout",
     "output_type": "stream",
     "text": [
      "167724 20 32793 134931 [34414, 34413, 34412, 34411, 34410, 34409, 34408, 34407, 34406, 34405, 34404, 34403, 34402, 34401, 34400, 34399, 34398, 34397, 34396, 34395]\n"
     ]
    },
    {
     "name": "stderr",
     "output_type": "stream",
     "text": [
      "\r",
      " 20%|█▉        | 1930/9716 [1:55:50<7:47:21,  3.60s/it]"
     ]
    },
    {
     "name": "stdout",
     "output_type": "stream",
     "text": [
      "167724 20 32810 134914 [34431, 34430, 34429, 34428, 34427, 34426, 34425, 34424, 34423, 34422, 34421, 34420, 34419, 34418, 34417, 34416, 34415, 34414, 34413, 34412]\n"
     ]
    },
    {
     "name": "stderr",
     "output_type": "stream",
     "text": [
      "\r",
      " 20%|█▉        | 1931/9716 [1:55:53<7:47:14,  3.60s/it]"
     ]
    },
    {
     "name": "stdout",
     "output_type": "stream",
     "text": [
      "167724 20 32827 134897 [34448, 34447, 34446, 34445, 34444, 34443, 34442, 34441, 34440, 34439, 34438, 34437, 34436, 34435, 34434, 34433, 34432, 34431, 34430, 34429]\n"
     ]
    },
    {
     "name": "stderr",
     "output_type": "stream",
     "text": [
      "\r",
      " 20%|█▉        | 1932/9716 [1:55:56<7:47:08,  3.60s/it]"
     ]
    },
    {
     "name": "stdout",
     "output_type": "stream",
     "text": [
      "167724 20 32844 134880 [34465, 34464, 34463, 34462, 34461, 34460, 34459, 34458, 34457, 34456, 34455, 34454, 34453, 34452, 34451, 34450, 34449, 34448, 34447, 34446]\n"
     ]
    },
    {
     "name": "stderr",
     "output_type": "stream",
     "text": [
      "\r",
      " 20%|█▉        | 1933/9716 [1:55:59<7:47:02,  3.60s/it]"
     ]
    },
    {
     "name": "stdout",
     "output_type": "stream",
     "text": [
      "167730 20 32861 134863 [34482, 34481, 34480, 34479, 34478, 34477, 34476, 34475, 34474, 34473, 34472, 34471, 34470, 34469, 34468, 34467, 34466, 34465, 34464, 34463]\n"
     ]
    },
    {
     "name": "stderr",
     "output_type": "stream",
     "text": [
      "\r",
      " 20%|█▉        | 1934/9716 [1:56:02<7:46:56,  3.60s/it]"
     ]
    },
    {
     "name": "stdout",
     "output_type": "stream",
     "text": [
      "167730 20 32878 134852 [34499, 34498, 34497, 34496, 34495, 34494, 34493, 34492, 34491, 34490, 34489, 34488, 34487, 34486, 34485, 34484, 34483, 34482, 34481, 34480]\n"
     ]
    },
    {
     "name": "stderr",
     "output_type": "stream",
     "text": [
      "\r",
      " 20%|█▉        | 1935/9716 [1:56:05<7:46:51,  3.60s/it]"
     ]
    },
    {
     "name": "stdout",
     "output_type": "stream",
     "text": [
      "167731 20 32895 134835 [34516, 34515, 34514, 34513, 34512, 34511, 34510, 34509, 34508, 34507, 34506, 34505, 34504, 34503, 34502, 34501, 34500, 34499, 34498, 34497]\n"
     ]
    },
    {
     "name": "stderr",
     "output_type": "stream",
     "text": [
      "\r",
      " 20%|█▉        | 1936/9716 [1:56:08<7:46:45,  3.60s/it]"
     ]
    },
    {
     "name": "stdout",
     "output_type": "stream",
     "text": [
      "167731 20 32912 134819 [34533, 34532, 34531, 34530, 34529, 34528, 34527, 34526, 34525, 34524, 34523, 34522, 34521, 34520, 34519, 34518, 34517, 34516, 34515, 34514]\n"
     ]
    },
    {
     "name": "stderr",
     "output_type": "stream",
     "text": [
      "\r",
      " 20%|█▉        | 1937/9716 [1:56:12<7:46:40,  3.60s/it]"
     ]
    },
    {
     "name": "stdout",
     "output_type": "stream",
     "text": [
      "167731 20 32929 134802 [34550, 34549, 34548, 34547, 34546, 34545, 34544, 34543, 34542, 34541, 34540, 34539, 34538, 34537, 34536, 34535, 34534, 34533, 34532, 34531]\n"
     ]
    },
    {
     "name": "stderr",
     "output_type": "stream",
     "text": [
      "\r",
      " 20%|█▉        | 1938/9716 [1:56:15<7:46:34,  3.60s/it]"
     ]
    },
    {
     "name": "stdout",
     "output_type": "stream",
     "text": [
      "167731 20 32946 134785 [34567, 34566, 34565, 34564, 34563, 34562, 34561, 34560, 34559, 34558, 34557, 34556, 34555, 34554, 34553, 34552, 34551, 34550, 34549, 34548]\n"
     ]
    },
    {
     "name": "stderr",
     "output_type": "stream",
     "text": [
      "\r",
      " 20%|█▉        | 1939/9716 [1:56:18<7:46:29,  3.60s/it]"
     ]
    },
    {
     "name": "stdout",
     "output_type": "stream",
     "text": [
      "167731 20 32963 134768 [34584, 34583, 34582, 34581, 34580, 34579, 34578, 34577, 34576, 34575, 34574, 34573, 34572, 34571, 34570, 34569, 34568, 34567, 34566, 34565]\n"
     ]
    },
    {
     "name": "stderr",
     "output_type": "stream",
     "text": [
      "\r",
      " 20%|█▉        | 1940/9716 [1:56:21<7:46:23,  3.60s/it]"
     ]
    },
    {
     "name": "stdout",
     "output_type": "stream",
     "text": [
      "167731 20 32980 134751 [34601, 34600, 34599, 34598, 34597, 34596, 34595, 34594, 34593, 34592, 34591, 34590, 34589, 34588, 34587, 34586, 34585, 34584, 34583, 34582]\n"
     ]
    },
    {
     "name": "stderr",
     "output_type": "stream",
     "text": [
      "\r",
      " 20%|█▉        | 1941/9716 [1:56:24<7:46:19,  3.60s/it]"
     ]
    },
    {
     "name": "stdout",
     "output_type": "stream",
     "text": [
      "167731 20 32997 134734 [34618, 34617, 34616, 34615, 34614, 34613, 34612, 34611, 34610, 34609, 34608, 34607, 34606, 34605, 34604, 34603, 34602, 34601, 34600, 34599]\n"
     ]
    },
    {
     "name": "stderr",
     "output_type": "stream",
     "text": [
      "\r",
      " 20%|█▉        | 1942/9716 [1:56:28<7:46:13,  3.60s/it]"
     ]
    },
    {
     "name": "stdout",
     "output_type": "stream",
     "text": [
      "167731 20 33014 134717 [34635, 34634, 34633, 34632, 34631, 34630, 34629, 34628, 34627, 34626, 34625, 34624, 34623, 34622, 34621, 34620, 34619, 34618, 34617, 34616]\n"
     ]
    },
    {
     "name": "stderr",
     "output_type": "stream",
     "text": [
      "\r",
      " 20%|█▉        | 1943/9716 [1:56:31<7:46:09,  3.60s/it]"
     ]
    },
    {
     "name": "stdout",
     "output_type": "stream",
     "text": [
      "167731 20 33031 134700 [34652, 34651, 34650, 34649, 34648, 34647, 34646, 34645, 34644, 34643, 34642, 34641, 34640, 34639, 34638, 34637, 34636, 34635, 34634, 34633]\n"
     ]
    },
    {
     "name": "stderr",
     "output_type": "stream",
     "text": [
      "\r",
      " 20%|██        | 1944/9716 [1:56:34<7:46:04,  3.60s/it]"
     ]
    },
    {
     "name": "stdout",
     "output_type": "stream",
     "text": [
      "167731 20 33048 134683 [34669, 34668, 34667, 34666, 34665, 34664, 34663, 34662, 34661, 34660, 34659, 34658, 34657, 34656, 34655, 34654, 34653, 34652, 34651, 34650]\n"
     ]
    },
    {
     "name": "stderr",
     "output_type": "stream",
     "text": [
      "\r",
      " 20%|██        | 1945/9716 [1:56:38<7:45:59,  3.60s/it]"
     ]
    },
    {
     "name": "stdout",
     "output_type": "stream",
     "text": [
      "167731 20 33065 134666 [34686, 34685, 34684, 34683, 34682, 34681, 34680, 34679, 34678, 34677, 34676, 34675, 34674, 34673, 34672, 34671, 34670, 34669, 34668, 34667]\n"
     ]
    },
    {
     "name": "stderr",
     "output_type": "stream",
     "text": [
      "\r",
      " 20%|██        | 1946/9716 [1:56:41<7:45:53,  3.60s/it]"
     ]
    },
    {
     "name": "stdout",
     "output_type": "stream",
     "text": [
      "167731 20 33082 134649 [34703, 34702, 34701, 34700, 34699, 34698, 34697, 34696, 34695, 34694, 34693, 34692, 34691, 34690, 34689, 34688, 34687, 34686, 34685, 34684]\n"
     ]
    },
    {
     "name": "stderr",
     "output_type": "stream",
     "text": [
      "\r",
      " 20%|██        | 1947/9716 [1:56:44<7:45:49,  3.60s/it]"
     ]
    },
    {
     "name": "stdout",
     "output_type": "stream",
     "text": [
      "167731 20 33099 134632 [34720, 34719, 34718, 34717, 34716, 34715, 34714, 34713, 34712, 34711, 34710, 34709, 34708, 34707, 34706, 34705, 34704, 34703, 34702, 34701]\n"
     ]
    },
    {
     "name": "stderr",
     "output_type": "stream",
     "text": [
      "\r",
      " 20%|██        | 1948/9716 [1:56:47<7:45:43,  3.60s/it]"
     ]
    },
    {
     "name": "stdout",
     "output_type": "stream",
     "text": [
      "167731 20 33116 134615 [34737, 34736, 34735, 34734, 34733, 34732, 34731, 34730, 34729, 34728, 34727, 34726, 34725, 34724, 34723, 34722, 34721, 34720, 34719, 34718]\n"
     ]
    },
    {
     "name": "stderr",
     "output_type": "stream",
     "text": [
      "\r",
      " 20%|██        | 1949/9716 [1:56:50<7:45:37,  3.60s/it]"
     ]
    },
    {
     "name": "stdout",
     "output_type": "stream",
     "text": [
      "167731 20 33133 134598 [34754, 34753, 34752, 34751, 34750, 34749, 34748, 34747, 34746, 34745, 34744, 34743, 34742, 34741, 34740, 34739, 34738, 34737, 34736, 34735]\n"
     ]
    },
    {
     "name": "stderr",
     "output_type": "stream",
     "text": [
      "\r",
      " 20%|██        | 1950/9716 [1:56:53<7:45:33,  3.60s/it]"
     ]
    },
    {
     "name": "stdout",
     "output_type": "stream",
     "text": [
      "167742 20 33150 134581 [34771, 34770, 34769, 34768, 34767, 34766, 34765, 34764, 34763, 34762, 34761, 34760, 34759, 34758, 34757, 34756, 34755, 34754, 34753, 34752]\n"
     ]
    },
    {
     "name": "stderr",
     "output_type": "stream",
     "text": [
      "\r",
      " 20%|██        | 1951/9716 [1:56:56<7:45:26,  3.60s/it]"
     ]
    },
    {
     "name": "stdout",
     "output_type": "stream",
     "text": [
      "167745 20 33167 134575 [34791, 34790, 34789, 34788, 34787, 34786, 34785, 34784, 34783, 34782, 34781, 34780, 34779, 34778, 34777, 34776, 34775, 34774, 34773, 34772]\n"
     ]
    },
    {
     "name": "stderr",
     "output_type": "stream",
     "text": [
      "\r",
      " 20%|██        | 1952/9716 [1:56:59<7:45:21,  3.60s/it]"
     ]
    },
    {
     "name": "stdout",
     "output_type": "stream",
     "text": [
      "167745 20 33184 134561 [34805, 34804, 34803, 34802, 34801, 34800, 34799, 34798, 34797, 34796, 34795, 34794, 34793, 34792, 34791, 34790, 34789, 34788, 34787, 34786]\n"
     ]
    },
    {
     "name": "stderr",
     "output_type": "stream",
     "text": [
      "\r",
      " 20%|██        | 1953/9716 [1:57:03<7:45:18,  3.60s/it]"
     ]
    },
    {
     "name": "stdout",
     "output_type": "stream",
     "text": [
      "167747 20 33201 134544 [34824, 34823, 34822, 34821, 34820, 34819, 34818, 34817, 34816, 34815, 34814, 34813, 34812, 34811, 34810, 34809, 34808, 34807, 34806, 34805]\n"
     ]
    },
    {
     "name": "stderr",
     "output_type": "stream",
     "text": [
      "\r",
      " 20%|██        | 1954/9716 [1:57:06<7:45:11,  3.60s/it]"
     ]
    },
    {
     "name": "stdout",
     "output_type": "stream",
     "text": [
      "167747 20 33218 134529 [34839, 34838, 34837, 34836, 34835, 34834, 34833, 34832, 34831, 34830, 34829, 34828, 34827, 34826, 34825, 34824, 34823, 34822, 34821, 34820]\n"
     ]
    },
    {
     "name": "stderr",
     "output_type": "stream",
     "text": [
      "\r",
      " 20%|██        | 1955/9716 [1:57:09<7:45:05,  3.60s/it]"
     ]
    },
    {
     "name": "stdout",
     "output_type": "stream",
     "text": [
      "167747 20 33235 134512 [34856, 34855, 34854, 34853, 34852, 34851, 34850, 34849, 34848, 34847, 34846, 34845, 34844, 34843, 34842, 34841, 34840, 34839, 34838, 34837]\n"
     ]
    },
    {
     "name": "stderr",
     "output_type": "stream",
     "text": [
      "\r",
      " 20%|██        | 1956/9716 [1:57:12<7:45:01,  3.60s/it]"
     ]
    },
    {
     "name": "stdout",
     "output_type": "stream",
     "text": [
      "167764 20 33252 134495 [34873, 34872, 34871, 34870, 34869, 34868, 34867, 34866, 34865, 34864, 34863, 34862, 34861, 34860, 34859, 34858, 34857, 34856, 34855, 34854]\n"
     ]
    },
    {
     "name": "stderr",
     "output_type": "stream",
     "text": [
      "\r",
      " 20%|██        | 1957/9716 [1:57:16<7:44:56,  3.60s/it]"
     ]
    },
    {
     "name": "stdout",
     "output_type": "stream",
     "text": [
      "167764 20 33269 134495 [34890, 34889, 34888, 34887, 34886, 34885, 34884, 34883, 34882, 34881, 34880, 34879, 34878, 34877, 34876, 34875, 34874, 34873, 34872, 34871]\n"
     ]
    },
    {
     "name": "stderr",
     "output_type": "stream",
     "text": [
      "\r",
      " 20%|██        | 1958/9716 [1:57:19<7:44:51,  3.60s/it]"
     ]
    },
    {
     "name": "stdout",
     "output_type": "stream",
     "text": [
      "167764 20 33286 134478 [34907, 34906, 34905, 34904, 34903, 34902, 34901, 34900, 34899, 34898, 34897, 34896, 34895, 34894, 34893, 34892, 34891, 34890, 34889, 34888]\n"
     ]
    },
    {
     "name": "stderr",
     "output_type": "stream",
     "text": [
      "\r",
      " 20%|██        | 1959/9716 [1:57:23<7:44:48,  3.60s/it]"
     ]
    },
    {
     "name": "stdout",
     "output_type": "stream",
     "text": [
      "167764 20 33303 134461 [34924, 34923, 34922, 34921, 34920, 34919, 34918, 34917, 34916, 34915, 34914, 34913, 34912, 34911, 34910, 34909, 34908, 34907, 34906, 34905]\n"
     ]
    },
    {
     "name": "stderr",
     "output_type": "stream",
     "text": [
      "\r",
      " 20%|██        | 1960/9716 [1:57:26<7:44:43,  3.60s/it]"
     ]
    },
    {
     "name": "stdout",
     "output_type": "stream",
     "text": [
      "167764 20 33320 134444 [34941, 34940, 34939, 34938, 34937, 34936, 34935, 34934, 34933, 34932, 34931, 34930, 34929, 34928, 34927, 34926, 34925, 34924, 34923, 34922]\n"
     ]
    },
    {
     "name": "stderr",
     "output_type": "stream",
     "text": [
      "\r",
      " 20%|██        | 1961/9716 [1:57:29<7:44:38,  3.59s/it]"
     ]
    },
    {
     "name": "stdout",
     "output_type": "stream",
     "text": [
      "167764 20 33337 134427 [34958, 34957, 34956, 34955, 34954, 34953, 34952, 34951, 34950, 34949, 34948, 34947, 34946, 34945, 34944, 34943, 34942, 34941, 34940, 34939]\n"
     ]
    },
    {
     "name": "stderr",
     "output_type": "stream",
     "text": [
      "\r",
      " 20%|██        | 1962/9716 [1:57:33<7:44:34,  3.59s/it]"
     ]
    },
    {
     "name": "stdout",
     "output_type": "stream",
     "text": [
      "167764 20 33354 134410 [34975, 34974, 34973, 34972, 34971, 34970, 34969, 34968, 34967, 34966, 34965, 34964, 34963, 34962, 34961, 34960, 34959, 34958, 34957, 34956]\n"
     ]
    },
    {
     "name": "stderr",
     "output_type": "stream",
     "text": [
      "\r",
      " 20%|██        | 1963/9716 [1:57:36<7:44:29,  3.59s/it]"
     ]
    },
    {
     "name": "stdout",
     "output_type": "stream",
     "text": [
      "167764 20 33371 134393 [34992, 34991, 34990, 34989, 34988, 34987, 34986, 34985, 34984, 34983, 34982, 34981, 34980, 34979, 34978, 34977, 34976, 34975, 34974, 34973]\n"
     ]
    },
    {
     "name": "stderr",
     "output_type": "stream",
     "text": [
      "\r",
      " 20%|██        | 1964/9716 [1:57:39<7:44:23,  3.59s/it]"
     ]
    },
    {
     "name": "stdout",
     "output_type": "stream",
     "text": [
      "167764 20 33388 134376 [35009, 35008, 35007, 35006, 35005, 35004, 35003, 35002, 35001, 35000, 34999, 34998, 34997, 34996, 34995, 34994, 34993, 34992, 34991, 34990]\n"
     ]
    },
    {
     "name": "stderr",
     "output_type": "stream",
     "text": [
      "\r",
      " 20%|██        | 1965/9716 [1:57:42<7:44:17,  3.59s/it]"
     ]
    },
    {
     "name": "stdout",
     "output_type": "stream",
     "text": [
      "167764 20 33405 134359 [35026, 35025, 35024, 35023, 35022, 35021, 35020, 35019, 35018, 35017, 35016, 35015, 35014, 35013, 35012, 35011, 35010, 35009, 35008, 35007]\n"
     ]
    },
    {
     "name": "stderr",
     "output_type": "stream",
     "text": [
      "\r",
      " 20%|██        | 1966/9716 [1:57:45<7:44:13,  3.59s/it]"
     ]
    },
    {
     "name": "stdout",
     "output_type": "stream",
     "text": [
      "167764 20 33422 134342 [35043, 35042, 35041, 35040, 35039, 35038, 35037, 35036, 35035, 35034, 35033, 35032, 35031, 35030, 35029, 35028, 35027, 35026, 35025, 35024]\n"
     ]
    },
    {
     "name": "stderr",
     "output_type": "stream",
     "text": [
      "\r",
      " 20%|██        | 1967/9716 [1:57:49<7:44:08,  3.59s/it]"
     ]
    },
    {
     "name": "stdout",
     "output_type": "stream",
     "text": [
      "167764 20 33439 134325 [35060, 35059, 35058, 35057, 35056, 35055, 35054, 35053, 35052, 35051, 35050, 35049, 35048, 35047, 35046, 35045, 35044, 35043, 35042, 35041]\n"
     ]
    },
    {
     "name": "stderr",
     "output_type": "stream",
     "text": [
      "\r",
      " 20%|██        | 1968/9716 [1:57:52<7:44:02,  3.59s/it]"
     ]
    },
    {
     "name": "stdout",
     "output_type": "stream",
     "text": [
      "167764 20 33456 134308 [35077, 35076, 35075, 35074, 35073, 35072, 35071, 35070, 35069, 35068, 35067, 35066, 35065, 35064, 35063, 35062, 35061, 35060, 35059, 35058]\n"
     ]
    },
    {
     "name": "stderr",
     "output_type": "stream",
     "text": [
      "\r",
      " 20%|██        | 1969/9716 [1:57:55<7:43:57,  3.59s/it]"
     ]
    },
    {
     "name": "stdout",
     "output_type": "stream",
     "text": [
      "167764 20 33473 134291 [35094, 35093, 35092, 35091, 35090, 35089, 35088, 35087, 35086, 35085, 35084, 35083, 35082, 35081, 35080, 35079, 35078, 35077, 35076, 35075]\n"
     ]
    },
    {
     "name": "stderr",
     "output_type": "stream",
     "text": [
      "\r",
      " 20%|██        | 1970/9716 [1:57:58<7:43:51,  3.59s/it]"
     ]
    },
    {
     "name": "stdout",
     "output_type": "stream",
     "text": [
      "167764 20 33490 134274 [35111, 35110, 35109, 35108, 35107, 35106, 35105, 35104, 35103, 35102, 35101, 35100, 35099, 35098, 35097, 35096, 35095, 35094, 35093, 35092]\n"
     ]
    },
    {
     "name": "stderr",
     "output_type": "stream",
     "text": [
      "\r",
      " 20%|██        | 1971/9716 [1:58:01<7:43:47,  3.59s/it]"
     ]
    },
    {
     "name": "stdout",
     "output_type": "stream",
     "text": [
      "167764 20 33507 134257 [35128, 35127, 35126, 35125, 35124, 35123, 35122, 35121, 35120, 35119, 35118, 35117, 35116, 35115, 35114, 35113, 35112, 35111, 35110, 35109]\n"
     ]
    },
    {
     "name": "stderr",
     "output_type": "stream",
     "text": [
      "\r",
      " 20%|██        | 1972/9716 [1:58:04<7:43:42,  3.59s/it]"
     ]
    },
    {
     "name": "stdout",
     "output_type": "stream",
     "text": [
      "167764 20 33524 134240 [35145, 35144, 35143, 35142, 35141, 35140, 35139, 35138, 35137, 35136, 35135, 35134, 35133, 35132, 35131, 35130, 35129, 35128, 35127, 35126]\n"
     ]
    },
    {
     "name": "stderr",
     "output_type": "stream",
     "text": [
      "\r",
      " 20%|██        | 1973/9716 [1:58:08<7:43:36,  3.59s/it]"
     ]
    },
    {
     "name": "stdout",
     "output_type": "stream",
     "text": [
      "167764 20 33541 134223 [35162, 35161, 35160, 35159, 35158, 35157, 35156, 35155, 35154, 35153, 35152, 35151, 35150, 35149, 35148, 35147, 35146, 35145, 35144, 35143]\n"
     ]
    },
    {
     "name": "stderr",
     "output_type": "stream",
     "text": [
      "\r",
      " 20%|██        | 1974/9716 [1:58:11<7:43:31,  3.59s/it]"
     ]
    },
    {
     "name": "stdout",
     "output_type": "stream",
     "text": [
      "167764 20 33558 134206 [35179, 35178, 35177, 35176, 35175, 35174, 35173, 35172, 35171, 35170, 35169, 35168, 35167, 35166, 35165, 35164, 35163, 35162, 35161, 35160]\n"
     ]
    },
    {
     "name": "stderr",
     "output_type": "stream",
     "text": [
      "\r",
      " 20%|██        | 1975/9716 [1:58:14<7:43:27,  3.59s/it]"
     ]
    },
    {
     "name": "stdout",
     "output_type": "stream",
     "text": [
      "167764 20 33575 134189 [35196, 35195, 35194, 35193, 35192, 35191, 35190, 35189, 35188, 35187, 35186, 35185, 35184, 35183, 35182, 35181, 35180, 35179, 35178, 35177]\n"
     ]
    },
    {
     "name": "stderr",
     "output_type": "stream",
     "text": [
      "\r",
      " 20%|██        | 1976/9716 [1:58:18<7:43:24,  3.59s/it]"
     ]
    },
    {
     "name": "stdout",
     "output_type": "stream",
     "text": [
      "167764 20 33592 134172 [35213, 35212, 35211, 35210, 35209, 35208, 35207, 35206, 35205, 35204, 35203, 35202, 35201, 35200, 35199, 35198, 35197, 35196, 35195, 35194]\n"
     ]
    },
    {
     "name": "stderr",
     "output_type": "stream",
     "text": [
      "\r",
      " 20%|██        | 1977/9716 [1:58:21<7:43:19,  3.59s/it]"
     ]
    },
    {
     "name": "stdout",
     "output_type": "stream",
     "text": [
      "167764 20 33609 134155 [35230, 35229, 35228, 35227, 35226, 35225, 35224, 35223, 35222, 35221, 35220, 35219, 35218, 35217, 35216, 35215, 35214, 35213, 35212, 35211]\n"
     ]
    },
    {
     "name": "stderr",
     "output_type": "stream",
     "text": [
      "\r",
      " 20%|██        | 1978/9716 [1:58:24<7:43:14,  3.59s/it]"
     ]
    },
    {
     "name": "stdout",
     "output_type": "stream",
     "text": [
      "167764 20 33626 134138 [35247, 35246, 35245, 35244, 35243, 35242, 35241, 35240, 35239, 35238, 35237, 35236, 35235, 35234, 35233, 35232, 35231, 35230, 35229, 35228]\n"
     ]
    },
    {
     "name": "stderr",
     "output_type": "stream",
     "text": [
      "\r",
      " 20%|██        | 1979/9716 [1:58:28<7:43:11,  3.59s/it]"
     ]
    },
    {
     "name": "stdout",
     "output_type": "stream",
     "text": [
      "167764 20 33643 134121 [35264, 35263, 35262, 35261, 35260, 35259, 35258, 35257, 35256, 35255, 35254, 35253, 35252, 35251, 35250, 35249, 35248, 35247, 35246, 35245]\n"
     ]
    },
    {
     "name": "stderr",
     "output_type": "stream",
     "text": [
      "\r",
      " 20%|██        | 1980/9716 [1:58:32<7:43:08,  3.59s/it]"
     ]
    },
    {
     "name": "stdout",
     "output_type": "stream",
     "text": [
      "167771 20 33660 134104 [35284, 35283, 35282, 35281, 35280, 35279, 35278, 35277, 35276, 35275, 35274, 35273, 35272, 35271, 35270, 35269, 35268, 35267, 35266, 35265]\n"
     ]
    },
    {
     "name": "stderr",
     "output_type": "stream",
     "text": [
      "\r",
      " 20%|██        | 1981/9716 [1:58:35<7:43:01,  3.59s/it]"
     ]
    },
    {
     "name": "stdout",
     "output_type": "stream",
     "text": [
      "167771 20 33677 134094 [35298, 35297, 35296, 35295, 35294, 35293, 35292, 35291, 35290, 35289, 35288, 35287, 35286, 35285, 35284, 35283, 35282, 35281, 35280, 35279]\n"
     ]
    },
    {
     "name": "stderr",
     "output_type": "stream",
     "text": [
      "\r",
      " 20%|██        | 1982/9716 [1:58:38<7:42:58,  3.59s/it]"
     ]
    },
    {
     "name": "stdout",
     "output_type": "stream",
     "text": [
      "167771 20 33694 134077 [35315, 35314, 35313, 35312, 35311, 35310, 35309, 35308, 35307, 35306, 35305, 35304, 35303, 35302, 35301, 35300, 35299, 35298, 35297, 35296]\n"
     ]
    },
    {
     "name": "stderr",
     "output_type": "stream",
     "text": [
      "\r",
      " 20%|██        | 1983/9716 [1:58:42<7:42:55,  3.59s/it]"
     ]
    },
    {
     "name": "stdout",
     "output_type": "stream",
     "text": [
      "167771 20 33711 134060 [35332, 35331, 35330, 35329, 35328, 35327, 35326, 35325, 35324, 35323, 35322, 35321, 35320, 35319, 35318, 35317, 35316, 35315, 35314, 35313]\n"
     ]
    },
    {
     "name": "stderr",
     "output_type": "stream",
     "text": [
      "\r",
      " 20%|██        | 1984/9716 [1:58:45<7:42:50,  3.59s/it]"
     ]
    },
    {
     "name": "stdout",
     "output_type": "stream",
     "text": [
      "167771 20 33728 134043 [35349, 35348, 35347, 35346, 35345, 35344, 35343, 35342, 35341, 35340, 35339, 35338, 35337, 35336, 35335, 35334, 35333, 35332, 35331, 35330]\n"
     ]
    },
    {
     "name": "stderr",
     "output_type": "stream",
     "text": [
      "\r",
      " 20%|██        | 1985/9716 [1:58:48<7:42:45,  3.59s/it]"
     ]
    },
    {
     "name": "stdout",
     "output_type": "stream",
     "text": [
      "167771 20 33745 134026 [35366, 35365, 35364, 35363, 35362, 35361, 35360, 35359, 35358, 35357, 35356, 35355, 35354, 35353, 35352, 35351, 35350, 35349, 35348, 35347]\n"
     ]
    },
    {
     "name": "stderr",
     "output_type": "stream",
     "text": [
      "\r",
      " 20%|██        | 1986/9716 [1:58:51<7:42:39,  3.59s/it]"
     ]
    },
    {
     "name": "stdout",
     "output_type": "stream",
     "text": [
      "167771 20 33762 134009 [35383, 35382, 35381, 35380, 35379, 35378, 35377, 35376, 35375, 35374, 35373, 35372, 35371, 35370, 35369, 35368, 35367, 35366, 35365, 35364]\n"
     ]
    },
    {
     "name": "stderr",
     "output_type": "stream",
     "text": [
      "\r",
      " 20%|██        | 1987/9716 [1:58:54<7:42:33,  3.59s/it]"
     ]
    },
    {
     "name": "stdout",
     "output_type": "stream",
     "text": [
      "167771 20 33779 133992 [35400, 35399, 35398, 35397, 35396, 35395, 35394, 35393, 35392, 35391, 35390, 35389, 35388, 35387, 35386, 35385, 35384, 35383, 35382, 35381]\n"
     ]
    },
    {
     "name": "stderr",
     "output_type": "stream",
     "text": [
      "\r",
      " 20%|██        | 1988/9716 [1:58:58<7:42:28,  3.59s/it]"
     ]
    },
    {
     "name": "stdout",
     "output_type": "stream",
     "text": [
      "167785 20 33796 133975 [35417, 35416, 35415, 35414, 35413, 35412, 35411, 35410, 35409, 35408, 35407, 35406, 35405, 35404, 35403, 35402, 35401, 35400, 35399, 35398]\n"
     ]
    },
    {
     "name": "stderr",
     "output_type": "stream",
     "text": [
      "\r",
      " 20%|██        | 1989/9716 [1:59:01<7:42:23,  3.59s/it]"
     ]
    },
    {
     "name": "stdout",
     "output_type": "stream",
     "text": [
      "167788 20 33813 133972 [35437, 35436, 35435, 35434, 35433, 35432, 35431, 35430, 35429, 35428, 35427, 35426, 35425, 35424, 35423, 35422, 35421, 35420, 35419, 35418]\n"
     ]
    },
    {
     "name": "stderr",
     "output_type": "stream",
     "text": [
      "\r",
      " 20%|██        | 1990/9716 [1:59:04<7:42:16,  3.59s/it]"
     ]
    },
    {
     "name": "stdout",
     "output_type": "stream",
     "text": [
      "167788 20 33830 133958 [35451, 35450, 35449, 35448, 35447, 35446, 35445, 35444, 35443, 35442, 35441, 35440, 35439, 35438, 35437, 35436, 35435, 35434, 35433, 35432]\n"
     ]
    },
    {
     "name": "stderr",
     "output_type": "stream",
     "text": [
      "\r",
      " 20%|██        | 1991/9716 [1:59:07<7:42:11,  3.59s/it]"
     ]
    },
    {
     "name": "stdout",
     "output_type": "stream",
     "text": [
      "167788 20 33847 133941 [35468, 35467, 35466, 35465, 35464, 35463, 35462, 35461, 35460, 35459, 35458, 35457, 35456, 35455, 35454, 35453, 35452, 35451, 35450, 35449]\n"
     ]
    },
    {
     "name": "stderr",
     "output_type": "stream",
     "text": [
      "\r",
      " 21%|██        | 1992/9716 [1:59:10<7:42:05,  3.59s/it]"
     ]
    },
    {
     "name": "stdout",
     "output_type": "stream",
     "text": [
      "167788 20 33864 133924 [35485, 35484, 35483, 35482, 35481, 35480, 35479, 35478, 35477, 35476, 35475, 35474, 35473, 35472, 35471, 35470, 35469, 35468, 35467, 35466]\n"
     ]
    },
    {
     "name": "stderr",
     "output_type": "stream",
     "text": [
      "\r",
      " 21%|██        | 1993/9716 [1:59:13<7:42:00,  3.59s/it]"
     ]
    },
    {
     "name": "stdout",
     "output_type": "stream",
     "text": [
      "167788 20 33881 133907 [35502, 35501, 35500, 35499, 35498, 35497, 35496, 35495, 35494, 35493, 35492, 35491, 35490, 35489, 35488, 35487, 35486, 35485, 35484, 35483]\n"
     ]
    },
    {
     "name": "stderr",
     "output_type": "stream",
     "text": [
      "\r",
      " 21%|██        | 1994/9716 [1:59:16<7:41:54,  3.59s/it]"
     ]
    },
    {
     "name": "stdout",
     "output_type": "stream",
     "text": [
      "167796 20 33898 133890 [35526, 35525, 35524, 35523, 35522, 35521, 35520, 35519, 35518, 35517, 35516, 35515, 35514, 35513, 35512, 35511, 35510, 35509, 35508, 35507]\n"
     ]
    },
    {
     "name": "stderr",
     "output_type": "stream",
     "text": [
      "\r",
      " 21%|██        | 1995/9716 [1:59:19<7:41:48,  3.59s/it]"
     ]
    },
    {
     "name": "stdout",
     "output_type": "stream",
     "text": [
      "167796 20 33915 133881 [35536, 35535, 35534, 35533, 35532, 35531, 35530, 35529, 35528, 35527, 35526, 35525, 35524, 35523, 35522, 35521, 35520, 35519, 35518, 35517]\n"
     ]
    },
    {
     "name": "stderr",
     "output_type": "stream",
     "text": [
      "\r",
      " 21%|██        | 1996/9716 [1:59:22<7:41:42,  3.59s/it]"
     ]
    },
    {
     "name": "stdout",
     "output_type": "stream",
     "text": [
      "167796 20 33932 133864 [35553, 35552, 35551, 35550, 35549, 35548, 35547, 35546, 35545, 35544, 35543, 35542, 35541, 35540, 35539, 35538, 35537, 35536, 35535, 35534]\n"
     ]
    },
    {
     "name": "stderr",
     "output_type": "stream",
     "text": [
      "\r",
      " 21%|██        | 1997/9716 [1:59:25<7:41:36,  3.59s/it]"
     ]
    },
    {
     "name": "stdout",
     "output_type": "stream",
     "text": [
      "167796 20 33949 133847 [35570, 35569, 35568, 35567, 35566, 35565, 35564, 35563, 35562, 35561, 35560, 35559, 35558, 35557, 35556, 35555, 35554, 35553, 35552, 35551]\n"
     ]
    },
    {
     "name": "stderr",
     "output_type": "stream",
     "text": [
      "\r",
      " 21%|██        | 1998/9716 [1:59:28<7:41:30,  3.59s/it]"
     ]
    },
    {
     "name": "stdout",
     "output_type": "stream",
     "text": [
      "167796 20 33966 133830 [35587, 35586, 35585, 35584, 35583, 35582, 35581, 35580, 35579, 35578, 35577, 35576, 35575, 35574, 35573, 35572, 35571, 35570, 35569, 35568]\n"
     ]
    },
    {
     "name": "stderr",
     "output_type": "stream",
     "text": [
      "\r",
      " 21%|██        | 1999/9716 [1:59:31<7:41:24,  3.59s/it]"
     ]
    },
    {
     "name": "stdout",
     "output_type": "stream",
     "text": [
      "167796 20 33983 133813 [35604, 35603, 35602, 35601, 35600, 35599, 35598, 35597, 35596, 35595, 35594, 35593, 35592, 35591, 35590, 35589, 35588, 35587, 35586, 35585]\n"
     ]
    },
    {
     "name": "stderr",
     "output_type": "stream",
     "text": [
      "\r",
      " 21%|██        | 2000/9716 [1:59:34<7:41:18,  3.59s/it]"
     ]
    },
    {
     "name": "stdout",
     "output_type": "stream",
     "text": [
      "167796 20 34000 133796 [35621, 35620, 35619, 35618, 35617, 35616, 35615, 35614, 35613, 35612, 35611, 35610, 35609, 35608, 35607, 35606, 35605, 35604, 35603, 35602]\n"
     ]
    },
    {
     "name": "stderr",
     "output_type": "stream",
     "text": [
      "\r",
      " 21%|██        | 2001/9716 [1:59:37<7:41:14,  3.59s/it]"
     ]
    },
    {
     "name": "stdout",
     "output_type": "stream",
     "text": [
      "167802 20 34017 133779 [35644, 35643, 35642, 35641, 35640, 35639, 35638, 35637, 35636, 35635, 35634, 35633, 35632, 35631, 35630, 35629, 35628, 35627, 35626, 35625]\n"
     ]
    },
    {
     "name": "stderr",
     "output_type": "stream",
     "text": [
      "\r",
      " 21%|██        | 2002/9716 [1:59:40<7:41:08,  3.59s/it]"
     ]
    },
    {
     "name": "stdout",
     "output_type": "stream",
     "text": [
      "167802 20 34034 133768 [35655, 35654, 35653, 35652, 35651, 35650, 35649, 35648, 35647, 35646, 35645, 35644, 35643, 35642, 35641, 35640, 35639, 35638, 35637, 35636]\n"
     ]
    },
    {
     "name": "stderr",
     "output_type": "stream",
     "text": [
      "\r",
      " 21%|██        | 2003/9716 [1:59:43<7:41:02,  3.59s/it]"
     ]
    },
    {
     "name": "stdout",
     "output_type": "stream",
     "text": [
      "167802 20 34051 133751 [35672, 35671, 35670, 35669, 35668, 35667, 35666, 35665, 35664, 35663, 35662, 35661, 35660, 35659, 35658, 35657, 35656, 35655, 35654, 35653]\n"
     ]
    },
    {
     "name": "stderr",
     "output_type": "stream",
     "text": [
      "\r",
      " 21%|██        | 2004/9716 [1:59:46<7:40:56,  3.59s/it]"
     ]
    },
    {
     "name": "stdout",
     "output_type": "stream",
     "text": [
      "167802 20 34068 133734 [35689, 35688, 35687, 35686, 35685, 35684, 35683, 35682, 35681, 35680, 35679, 35678, 35677, 35676, 35675, 35674, 35673, 35672, 35671, 35670]\n"
     ]
    },
    {
     "name": "stderr",
     "output_type": "stream",
     "text": [
      "\r",
      " 21%|██        | 2005/9716 [1:59:49<7:40:51,  3.59s/it]"
     ]
    },
    {
     "name": "stdout",
     "output_type": "stream",
     "text": [
      "167802 20 34085 133717 [35706, 35705, 35704, 35703, 35702, 35701, 35700, 35699, 35698, 35697, 35696, 35695, 35694, 35693, 35692, 35691, 35690, 35689, 35688, 35687]\n"
     ]
    },
    {
     "name": "stderr",
     "output_type": "stream",
     "text": [
      "\r",
      " 21%|██        | 2006/9716 [1:59:53<7:40:46,  3.59s/it]"
     ]
    },
    {
     "name": "stdout",
     "output_type": "stream",
     "text": [
      "167802 20 34102 133700 [35723, 35722, 35721, 35720, 35719, 35718, 35717, 35716, 35715, 35714, 35713, 35712, 35711, 35710, 35709, 35708, 35707, 35706, 35705, 35704]\n"
     ]
    },
    {
     "name": "stderr",
     "output_type": "stream",
     "text": [
      "\r",
      " 21%|██        | 2007/9716 [1:59:56<7:40:41,  3.59s/it]"
     ]
    },
    {
     "name": "stdout",
     "output_type": "stream",
     "text": [
      "167802 20 34119 133683 [35740, 35739, 35738, 35737, 35736, 35735, 35734, 35733, 35732, 35731, 35730, 35729, 35728, 35727, 35726, 35725, 35724, 35723, 35722, 35721]\n"
     ]
    },
    {
     "name": "stderr",
     "output_type": "stream",
     "text": [
      "\r",
      " 21%|██        | 2008/9716 [1:59:59<7:40:36,  3.59s/it]"
     ]
    },
    {
     "name": "stdout",
     "output_type": "stream",
     "text": [
      "167822 20 34136 133666 [35769, 35768, 35767, 35766, 35765, 35764, 35763, 35762, 35761, 35760, 35759, 35758, 35757, 35756, 35755, 35754, 35753, 35752, 35751, 35750]\n"
     ]
    },
    {
     "name": "stderr",
     "output_type": "stream",
     "text": [
      "\r",
      " 21%|██        | 2009/9716 [2:00:02<7:40:31,  3.59s/it]"
     ]
    },
    {
     "name": "stdout",
     "output_type": "stream",
     "text": [
      "167822 20 34153 133669 [35774, 35773, 35772, 35771, 35770, 35769, 35768, 35767, 35766, 35765, 35764, 35763, 35762, 35761, 35760, 35759, 35758, 35757, 35756, 35755]\n"
     ]
    },
    {
     "name": "stderr",
     "output_type": "stream",
     "text": [
      "\r",
      " 21%|██        | 2010/9716 [2:00:05<7:40:26,  3.59s/it]"
     ]
    },
    {
     "name": "stdout",
     "output_type": "stream",
     "text": [
      "167822 20 34170 133652 [35791, 35790, 35789, 35788, 35787, 35786, 35785, 35784, 35783, 35782, 35781, 35780, 35779, 35778, 35777, 35776, 35775, 35774, 35773, 35772]\n"
     ]
    },
    {
     "name": "stderr",
     "output_type": "stream",
     "text": [
      "\r",
      " 21%|██        | 2011/9716 [2:00:09<7:40:20,  3.58s/it]"
     ]
    },
    {
     "name": "stdout",
     "output_type": "stream",
     "text": [
      "167822 20 34187 133635 [35808, 35807, 35806, 35805, 35804, 35803, 35802, 35801, 35800, 35799, 35798, 35797, 35796, 35795, 35794, 35793, 35792, 35791, 35790, 35789]\n"
     ]
    },
    {
     "name": "stderr",
     "output_type": "stream",
     "text": [
      "\r",
      " 21%|██        | 2012/9716 [2:00:12<7:40:14,  3.58s/it]"
     ]
    },
    {
     "name": "stdout",
     "output_type": "stream",
     "text": [
      "167822 20 34204 133618 [35825, 35824, 35823, 35822, 35821, 35820, 35819, 35818, 35817, 35816, 35815, 35814, 35813, 35812, 35811, 35810, 35809, 35808, 35807, 35806]\n"
     ]
    },
    {
     "name": "stderr",
     "output_type": "stream",
     "text": [
      "\r",
      " 21%|██        | 2013/9716 [2:00:15<7:40:09,  3.58s/it]"
     ]
    },
    {
     "name": "stdout",
     "output_type": "stream",
     "text": [
      "167822 20 34221 133601 [35842, 35841, 35840, 35839, 35838, 35837, 35836, 35835, 35834, 35833, 35832, 35831, 35830, 35829, 35828, 35827, 35826, 35825, 35824, 35823]\n"
     ]
    },
    {
     "name": "stderr",
     "output_type": "stream",
     "text": [
      "\r",
      " 21%|██        | 2014/9716 [2:00:18<7:40:04,  3.58s/it]"
     ]
    },
    {
     "name": "stdout",
     "output_type": "stream",
     "text": [
      "167822 20 34238 133584 [35859, 35858, 35857, 35856, 35855, 35854, 35853, 35852, 35851, 35850, 35849, 35848, 35847, 35846, 35845, 35844, 35843, 35842, 35841, 35840]\n"
     ]
    },
    {
     "name": "stderr",
     "output_type": "stream",
     "text": [
      "\r",
      " 21%|██        | 2015/9716 [2:00:21<7:39:58,  3.58s/it]"
     ]
    },
    {
     "name": "stdout",
     "output_type": "stream",
     "text": [
      "167822 20 34255 133567 [35876, 35875, 35874, 35873, 35872, 35871, 35870, 35869, 35868, 35867, 35866, 35865, 35864, 35863, 35862, 35861, 35860, 35859, 35858, 35857]\n"
     ]
    },
    {
     "name": "stderr",
     "output_type": "stream",
     "text": [
      "\r",
      " 21%|██        | 2016/9716 [2:00:24<7:39:53,  3.58s/it]"
     ]
    },
    {
     "name": "stdout",
     "output_type": "stream",
     "text": [
      "167822 20 34272 133550 [35893, 35892, 35891, 35890, 35889, 35888, 35887, 35886, 35885, 35884, 35883, 35882, 35881, 35880, 35879, 35878, 35877, 35876, 35875, 35874]\n"
     ]
    },
    {
     "name": "stderr",
     "output_type": "stream",
     "text": [
      "\r",
      " 21%|██        | 2017/9716 [2:00:27<7:39:47,  3.58s/it]"
     ]
    },
    {
     "name": "stdout",
     "output_type": "stream",
     "text": [
      "167822 20 34289 133533 [35910, 35909, 35908, 35907, 35906, 35905, 35904, 35903, 35902, 35901, 35900, 35899, 35898, 35897, 35896, 35895, 35894, 35893, 35892, 35891]\n"
     ]
    },
    {
     "name": "stderr",
     "output_type": "stream",
     "text": [
      "\r",
      " 21%|██        | 2018/9716 [2:00:30<7:39:42,  3.58s/it]"
     ]
    },
    {
     "name": "stdout",
     "output_type": "stream",
     "text": [
      "167822 20 34306 133516 [35927, 35926, 35925, 35924, 35923, 35922, 35921, 35920, 35919, 35918, 35917, 35916, 35915, 35914, 35913, 35912, 35911, 35910, 35909, 35908]\n"
     ]
    },
    {
     "name": "stderr",
     "output_type": "stream",
     "text": [
      "\r",
      " 21%|██        | 2019/9716 [2:00:33<7:39:36,  3.58s/it]"
     ]
    },
    {
     "name": "stdout",
     "output_type": "stream",
     "text": [
      "167822 20 34323 133499 [35944, 35943, 35942, 35941, 35940, 35939, 35938, 35937, 35936, 35935, 35934, 35933, 35932, 35931, 35930, 35929, 35928, 35927, 35926, 35925]\n"
     ]
    },
    {
     "name": "stderr",
     "output_type": "stream",
     "text": [
      "\r",
      " 21%|██        | 2020/9716 [2:00:36<7:39:30,  3.58s/it]"
     ]
    },
    {
     "name": "stdout",
     "output_type": "stream",
     "text": [
      "167822 20 34340 133482 [35961, 35960, 35959, 35958, 35957, 35956, 35955, 35954, 35953, 35952, 35951, 35950, 35949, 35948, 35947, 35946, 35945, 35944, 35943, 35942]\n"
     ]
    },
    {
     "name": "stderr",
     "output_type": "stream",
     "text": [
      "\r",
      " 21%|██        | 2021/9716 [2:00:39<7:39:24,  3.58s/it]"
     ]
    },
    {
     "name": "stdout",
     "output_type": "stream",
     "text": [
      "167822 20 34357 133465 [35978, 35977, 35976, 35975, 35974, 35973, 35972, 35971, 35970, 35969, 35968, 35967, 35966, 35965, 35964, 35963, 35962, 35961, 35960, 35959]\n"
     ]
    },
    {
     "name": "stderr",
     "output_type": "stream",
     "text": [
      "\r",
      " 21%|██        | 2022/9716 [2:00:42<7:39:18,  3.58s/it]"
     ]
    },
    {
     "name": "stdout",
     "output_type": "stream",
     "text": [
      "167822 20 34374 133448 [35995, 35994, 35993, 35992, 35991, 35990, 35989, 35988, 35987, 35986, 35985, 35984, 35983, 35982, 35981, 35980, 35979, 35978, 35977, 35976]\n"
     ]
    },
    {
     "name": "stderr",
     "output_type": "stream",
     "text": [
      "\r",
      " 21%|██        | 2023/9716 [2:00:45<7:39:13,  3.58s/it]"
     ]
    },
    {
     "name": "stdout",
     "output_type": "stream",
     "text": [
      "167822 20 34391 133431 [36012, 36011, 36010, 36009, 36008, 36007, 36006, 36005, 36004, 36003, 36002, 36001, 36000, 35999, 35998, 35997, 35996, 35995, 35994, 35993]\n"
     ]
    },
    {
     "name": "stderr",
     "output_type": "stream",
     "text": [
      "\r",
      " 21%|██        | 2024/9716 [2:00:48<7:39:08,  3.58s/it]"
     ]
    },
    {
     "name": "stdout",
     "output_type": "stream",
     "text": [
      "167822 20 34408 133414 [36029, 36028, 36027, 36026, 36025, 36024, 36023, 36022, 36021, 36020, 36019, 36018, 36017, 36016, 36015, 36014, 36013, 36012, 36011, 36010]\n"
     ]
    },
    {
     "name": "stderr",
     "output_type": "stream",
     "text": [
      "\r",
      " 21%|██        | 2025/9716 [2:00:51<7:39:02,  3.58s/it]"
     ]
    },
    {
     "name": "stdout",
     "output_type": "stream",
     "text": [
      "167822 20 34425 133397 [36046, 36045, 36044, 36043, 36042, 36041, 36040, 36039, 36038, 36037, 36036, 36035, 36034, 36033, 36032, 36031, 36030, 36029, 36028, 36027]\n"
     ]
    },
    {
     "name": "stderr",
     "output_type": "stream",
     "text": [
      "\r",
      " 21%|██        | 2026/9716 [2:00:55<7:38:57,  3.58s/it]"
     ]
    },
    {
     "name": "stdout",
     "output_type": "stream",
     "text": [
      "167822 20 34442 133380 [36063, 36062, 36061, 36060, 36059, 36058, 36057, 36056, 36055, 36054, 36053, 36052, 36051, 36050, 36049, 36048, 36047, 36046, 36045, 36044]\n"
     ]
    },
    {
     "name": "stderr",
     "output_type": "stream",
     "text": [
      "\r",
      " 21%|██        | 2027/9716 [2:00:57<7:38:51,  3.58s/it]"
     ]
    },
    {
     "name": "stdout",
     "output_type": "stream",
     "text": [
      "167822 20 34459 133363 [36080, 36079, 36078, 36077, 36076, 36075, 36074, 36073, 36072, 36071, 36070, 36069, 36068, 36067, 36066, 36065, 36064, 36063, 36062, 36061]\n"
     ]
    },
    {
     "name": "stderr",
     "output_type": "stream",
     "text": [
      "\r",
      " 21%|██        | 2028/9716 [2:01:00<7:38:45,  3.58s/it]"
     ]
    },
    {
     "name": "stdout",
     "output_type": "stream",
     "text": [
      "167822 20 34476 133346 [36097, 36096, 36095, 36094, 36093, 36092, 36091, 36090, 36089, 36088, 36087, 36086, 36085, 36084, 36083, 36082, 36081, 36080, 36079, 36078]\n"
     ]
    },
    {
     "name": "stderr",
     "output_type": "stream",
     "text": [
      "\r",
      " 21%|██        | 2029/9716 [2:01:03<7:38:39,  3.58s/it]"
     ]
    },
    {
     "name": "stdout",
     "output_type": "stream",
     "text": [
      "167822 20 34493 133329 [36114, 36113, 36112, 36111, 36110, 36109, 36108, 36107, 36106, 36105, 36104, 36103, 36102, 36101, 36100, 36099, 36098, 36097, 36096, 36095]\n"
     ]
    },
    {
     "name": "stderr",
     "output_type": "stream",
     "text": [
      "\r",
      " 21%|██        | 2030/9716 [2:01:06<7:38:33,  3.58s/it]"
     ]
    },
    {
     "name": "stdout",
     "output_type": "stream",
     "text": [
      "167822 20 34510 133312 [36131, 36130, 36129, 36128, 36127, 36126, 36125, 36124, 36123, 36122, 36121, 36120, 36119, 36118, 36117, 36116, 36115, 36114, 36113, 36112]\n"
     ]
    },
    {
     "name": "stderr",
     "output_type": "stream",
     "text": [
      "\r",
      " 21%|██        | 2031/9716 [2:01:09<7:38:27,  3.58s/it]"
     ]
    },
    {
     "name": "stdout",
     "output_type": "stream",
     "text": [
      "167822 20 34527 133295 [36148, 36147, 36146, 36145, 36144, 36143, 36142, 36141, 36140, 36139, 36138, 36137, 36136, 36135, 36134, 36133, 36132, 36131, 36130, 36129]\n"
     ]
    },
    {
     "name": "stderr",
     "output_type": "stream",
     "text": [
      "\r",
      " 21%|██        | 2032/9716 [2:01:12<7:38:21,  3.58s/it]"
     ]
    },
    {
     "name": "stdout",
     "output_type": "stream",
     "text": [
      "167822 20 34544 133278 [36165, 36164, 36163, 36162, 36161, 36160, 36159, 36158, 36157, 36156, 36155, 36154, 36153, 36152, 36151, 36150, 36149, 36148, 36147, 36146]\n"
     ]
    },
    {
     "name": "stderr",
     "output_type": "stream",
     "text": [
      "\r",
      " 21%|██        | 2033/9716 [2:01:15<7:38:16,  3.58s/it]"
     ]
    },
    {
     "name": "stdout",
     "output_type": "stream",
     "text": [
      "167822 20 34561 133261 [36182, 36181, 36180, 36179, 36178, 36177, 36176, 36175, 36174, 36173, 36172, 36171, 36170, 36169, 36168, 36167, 36166, 36165, 36164, 36163]\n"
     ]
    },
    {
     "name": "stderr",
     "output_type": "stream",
     "text": [
      "\r",
      " 21%|██        | 2034/9716 [2:01:18<7:38:10,  3.58s/it]"
     ]
    },
    {
     "name": "stdout",
     "output_type": "stream",
     "text": [
      "167822 20 34578 133244 [36199, 36198, 36197, 36196, 36195, 36194, 36193, 36192, 36191, 36190, 36189, 36188, 36187, 36186, 36185, 36184, 36183, 36182, 36181, 36180]\n"
     ]
    },
    {
     "name": "stderr",
     "output_type": "stream",
     "text": [
      "\r",
      " 21%|██        | 2035/9716 [2:01:21<7:38:04,  3.58s/it]"
     ]
    },
    {
     "name": "stdout",
     "output_type": "stream",
     "text": [
      "167822 20 34595 133227 [36216, 36215, 36214, 36213, 36212, 36211, 36210, 36209, 36208, 36207, 36206, 36205, 36204, 36203, 36202, 36201, 36200, 36199, 36198, 36197]\n"
     ]
    },
    {
     "name": "stderr",
     "output_type": "stream",
     "text": [
      "\r",
      " 21%|██        | 2036/9716 [2:01:25<7:38:00,  3.58s/it]"
     ]
    },
    {
     "name": "stdout",
     "output_type": "stream",
     "text": [
      "167834 20 34612 133210 [36233, 36232, 36231, 36230, 36229, 36228, 36227, 36226, 36225, 36224, 36223, 36222, 36221, 36220, 36219, 36218, 36217, 36216, 36215, 36214]\n"
     ]
    },
    {
     "name": "stderr",
     "output_type": "stream",
     "text": [
      "\r",
      " 21%|██        | 2037/9716 [2:01:28<7:37:54,  3.58s/it]"
     ]
    },
    {
     "name": "stdout",
     "output_type": "stream",
     "text": [
      "167834 20 34629 133205 [36250, 36249, 36248, 36247, 36246, 36245, 36244, 36243, 36242, 36241, 36240, 36239, 36238, 36237, 36236, 36235, 36234, 36233, 36232, 36231]\n"
     ]
    },
    {
     "name": "stderr",
     "output_type": "stream",
     "text": [
      "\r",
      " 21%|██        | 2038/9716 [2:01:30<7:37:47,  3.58s/it]"
     ]
    },
    {
     "name": "stdout",
     "output_type": "stream",
     "text": [
      "167834 20 34646 133188 [36267, 36266, 36265, 36264, 36263, 36262, 36261, 36260, 36259, 36258, 36257, 36256, 36255, 36254, 36253, 36252, 36251, 36250, 36249, 36248]\n"
     ]
    },
    {
     "name": "stderr",
     "output_type": "stream",
     "text": [
      "\r",
      " 21%|██        | 2039/9716 [2:01:34<7:37:42,  3.58s/it]"
     ]
    },
    {
     "name": "stdout",
     "output_type": "stream",
     "text": [
      "167834 20 34663 133171 [36284, 36283, 36282, 36281, 36280, 36279, 36278, 36277, 36276, 36275, 36274, 36273, 36272, 36271, 36270, 36269, 36268, 36267, 36266, 36265]\n"
     ]
    },
    {
     "name": "stderr",
     "output_type": "stream",
     "text": [
      "\r",
      " 21%|██        | 2040/9716 [2:01:37<7:37:37,  3.58s/it]"
     ]
    },
    {
     "name": "stdout",
     "output_type": "stream",
     "text": [
      "167834 20 34680 133154 [36301, 36300, 36299, 36298, 36297, 36296, 36295, 36294, 36293, 36292, 36291, 36290, 36289, 36288, 36287, 36286, 36285, 36284, 36283, 36282]\n"
     ]
    },
    {
     "name": "stderr",
     "output_type": "stream",
     "text": [
      "\r",
      " 21%|██        | 2041/9716 [2:01:40<7:37:31,  3.58s/it]"
     ]
    },
    {
     "name": "stdout",
     "output_type": "stream",
     "text": [
      "167834 20 34697 133137 [36318, 36317, 36316, 36315, 36314, 36313, 36312, 36311, 36310, 36309, 36308, 36307, 36306, 36305, 36304, 36303, 36302, 36301, 36300, 36299]\n"
     ]
    },
    {
     "name": "stderr",
     "output_type": "stream",
     "text": [
      "\r",
      " 21%|██        | 2042/9716 [2:01:43<7:37:26,  3.58s/it]"
     ]
    },
    {
     "name": "stdout",
     "output_type": "stream",
     "text": [
      "167834 20 34714 133120 [36335, 36334, 36333, 36332, 36331, 36330, 36329, 36328, 36327, 36326, 36325, 36324, 36323, 36322, 36321, 36320, 36319, 36318, 36317, 36316]\n"
     ]
    },
    {
     "name": "stderr",
     "output_type": "stream",
     "text": [
      "\r",
      " 21%|██        | 2043/9716 [2:01:46<7:37:19,  3.58s/it]"
     ]
    },
    {
     "name": "stdout",
     "output_type": "stream",
     "text": [
      "167834 20 34731 133103 [36352, 36351, 36350, 36349, 36348, 36347, 36346, 36345, 36344, 36343, 36342, 36341, 36340, 36339, 36338, 36337, 36336, 36335, 36334, 36333]\n"
     ]
    },
    {
     "name": "stderr",
     "output_type": "stream",
     "text": [
      "\r",
      " 21%|██        | 2044/9716 [2:01:49<7:37:14,  3.58s/it]"
     ]
    },
    {
     "name": "stdout",
     "output_type": "stream",
     "text": [
      "167834 20 34748 133086 [36369, 36368, 36367, 36366, 36365, 36364, 36363, 36362, 36361, 36360, 36359, 36358, 36357, 36356, 36355, 36354, 36353, 36352, 36351, 36350]\n"
     ]
    },
    {
     "name": "stderr",
     "output_type": "stream",
     "text": [
      "\r",
      " 21%|██        | 2045/9716 [2:01:52<7:37:08,  3.58s/it]"
     ]
    },
    {
     "name": "stdout",
     "output_type": "stream",
     "text": [
      "167834 20 34765 133069 [36386, 36385, 36384, 36383, 36382, 36381, 36380, 36379, 36378, 36377, 36376, 36375, 36374, 36373, 36372, 36371, 36370, 36369, 36368, 36367]\n"
     ]
    },
    {
     "name": "stderr",
     "output_type": "stream",
     "text": [
      "\r",
      " 21%|██        | 2046/9716 [2:01:55<7:37:03,  3.58s/it]"
     ]
    },
    {
     "name": "stdout",
     "output_type": "stream",
     "text": [
      "167834 20 34782 133052 [36403, 36402, 36401, 36400, 36399, 36398, 36397, 36396, 36395, 36394, 36393, 36392, 36391, 36390, 36389, 36388, 36387, 36386, 36385, 36384]\n"
     ]
    },
    {
     "name": "stderr",
     "output_type": "stream",
     "text": [
      "\r",
      " 21%|██        | 2047/9716 [2:01:58<7:36:57,  3.58s/it]"
     ]
    },
    {
     "name": "stdout",
     "output_type": "stream",
     "text": [
      "167834 20 34799 133035 [36420, 36419, 36418, 36417, 36416, 36415, 36414, 36413, 36412, 36411, 36410, 36409, 36408, 36407, 36406, 36405, 36404, 36403, 36402, 36401]\n"
     ]
    },
    {
     "name": "stderr",
     "output_type": "stream",
     "text": [
      "\r",
      " 21%|██        | 2048/9716 [2:02:01<7:36:51,  3.57s/it]"
     ]
    },
    {
     "name": "stdout",
     "output_type": "stream",
     "text": [
      "167834 20 34816 133018 [36437, 36436, 36435, 36434, 36433, 36432, 36431, 36430, 36429, 36428, 36427, 36426, 36425, 36424, 36423, 36422, 36421, 36420, 36419, 36418]\n"
     ]
    },
    {
     "name": "stderr",
     "output_type": "stream",
     "text": [
      "\r",
      " 21%|██        | 2049/9716 [2:02:04<7:36:46,  3.57s/it]"
     ]
    },
    {
     "name": "stdout",
     "output_type": "stream",
     "text": [
      "167854 20 34833 133001 [36454, 36453, 36452, 36451, 36450, 36449, 36448, 36447, 36446, 36445, 36444, 36443, 36442, 36441, 36440, 36439, 36438, 36437, 36436, 36435]\n"
     ]
    },
    {
     "name": "stderr",
     "output_type": "stream",
     "text": [
      "\r",
      " 21%|██        | 2050/9716 [2:02:07<7:36:40,  3.57s/it]"
     ]
    },
    {
     "name": "stdout",
     "output_type": "stream",
     "text": [
      "167854 20 34850 133004 [36471, 36470, 36469, 36468, 36467, 36466, 36465, 36464, 36463, 36462, 36461, 36460, 36459, 36458, 36457, 36456, 36455, 36454, 36453, 36452]\n"
     ]
    },
    {
     "name": "stderr",
     "output_type": "stream",
     "text": [
      "\r",
      " 21%|██        | 2051/9716 [2:02:10<7:36:34,  3.57s/it]"
     ]
    },
    {
     "name": "stdout",
     "output_type": "stream",
     "text": [
      "167873 20 34867 132987 [36488, 36487, 36486, 36485, 36484, 36483, 36482, 36481, 36480, 36479, 36478, 36477, 36476, 36475, 36474, 36473, 36472, 36471, 36470, 36469]\n"
     ]
    },
    {
     "name": "stderr",
     "output_type": "stream",
     "text": [
      "\r",
      " 21%|██        | 2052/9716 [2:02:13<7:36:29,  3.57s/it]"
     ]
    },
    {
     "name": "stdout",
     "output_type": "stream",
     "text": [
      "167874 20 34884 132989 [36506, 36505, 36504, 36503, 36502, 36501, 36500, 36499, 36498, 36497, 36496, 36495, 36494, 36493, 36492, 36491, 36490, 36489, 36488, 36487]\n"
     ]
    },
    {
     "name": "stderr",
     "output_type": "stream",
     "text": [
      "\r",
      " 21%|██        | 2053/9716 [2:02:16<7:36:23,  3.57s/it]"
     ]
    },
    {
     "name": "stdout",
     "output_type": "stream",
     "text": [
      "167874 20 34901 132973 [36522, 36521, 36520, 36519, 36518, 36517, 36516, 36515, 36514, 36513, 36512, 36511, 36510, 36509, 36508, 36507, 36506, 36505, 36504, 36503]\n"
     ]
    },
    {
     "name": "stderr",
     "output_type": "stream",
     "text": [
      "\r",
      " 21%|██        | 2054/9716 [2:02:19<7:36:17,  3.57s/it]"
     ]
    },
    {
     "name": "stdout",
     "output_type": "stream",
     "text": [
      "167874 20 34918 132956 [36539, 36538, 36537, 36536, 36535, 36534, 36533, 36532, 36531, 36530, 36529, 36528, 36527, 36526, 36525, 36524, 36523, 36522, 36521, 36520]\n"
     ]
    },
    {
     "name": "stderr",
     "output_type": "stream",
     "text": [
      "\r",
      " 21%|██        | 2055/9716 [2:02:22<7:36:12,  3.57s/it]"
     ]
    },
    {
     "name": "stdout",
     "output_type": "stream",
     "text": [
      "167874 20 34935 132939 [36556, 36555, 36554, 36553, 36552, 36551, 36550, 36549, 36548, 36547, 36546, 36545, 36544, 36543, 36542, 36541, 36540, 36539, 36538, 36537]\n"
     ]
    },
    {
     "name": "stderr",
     "output_type": "stream",
     "text": [
      "\r",
      " 21%|██        | 2056/9716 [2:02:25<7:36:06,  3.57s/it]"
     ]
    },
    {
     "name": "stdout",
     "output_type": "stream",
     "text": [
      "167874 20 34952 132922 [36573, 36572, 36571, 36570, 36569, 36568, 36567, 36566, 36565, 36564, 36563, 36562, 36561, 36560, 36559, 36558, 36557, 36556, 36555, 36554]\n"
     ]
    },
    {
     "name": "stderr",
     "output_type": "stream",
     "text": [
      "\r",
      " 21%|██        | 2057/9716 [2:02:28<7:36:01,  3.57s/it]"
     ]
    },
    {
     "name": "stdout",
     "output_type": "stream",
     "text": [
      "167874 20 34969 132905 [36590, 36589, 36588, 36587, 36586, 36585, 36584, 36583, 36582, 36581, 36580, 36579, 36578, 36577, 36576, 36575, 36574, 36573, 36572, 36571]\n"
     ]
    },
    {
     "name": "stderr",
     "output_type": "stream",
     "text": [
      "\r",
      " 21%|██        | 2058/9716 [2:02:31<7:35:55,  3.57s/it]"
     ]
    },
    {
     "name": "stdout",
     "output_type": "stream",
     "text": [
      "167882 20 34986 132888 [36607, 36606, 36605, 36604, 36603, 36602, 36601, 36600, 36599, 36598, 36597, 36596, 36595, 36594, 36593, 36592, 36591, 36590, 36589, 36588]\n"
     ]
    },
    {
     "name": "stderr",
     "output_type": "stream",
     "text": [
      "\r",
      " 21%|██        | 2059/9716 [2:02:34<7:35:49,  3.57s/it]"
     ]
    },
    {
     "name": "stdout",
     "output_type": "stream",
     "text": [
      "167892 20 35003 132879 [36630, 36629, 36628, 36627, 36626, 36625, 36624, 36623, 36622, 36621, 36620, 36619, 36618, 36617, 36616, 36615, 36614, 36613, 36612, 36611]\n"
     ]
    },
    {
     "name": "stderr",
     "output_type": "stream",
     "text": [
      "\r",
      " 21%|██        | 2060/9716 [2:02:37<7:35:44,  3.57s/it]"
     ]
    },
    {
     "name": "stdout",
     "output_type": "stream",
     "text": [
      "167892 20 35020 132872 [36641, 36640, 36639, 36638, 36637, 36636, 36635, 36634, 36633, 36632, 36631, 36630, 36629, 36628, 36627, 36626, 36625, 36624, 36623, 36622]\n"
     ]
    },
    {
     "name": "stderr",
     "output_type": "stream",
     "text": [
      "\r",
      " 21%|██        | 2061/9716 [2:02:40<7:35:38,  3.57s/it]"
     ]
    },
    {
     "name": "stdout",
     "output_type": "stream",
     "text": [
      "167892 20 35037 132855 [36658, 36657, 36656, 36655, 36654, 36653, 36652, 36651, 36650, 36649, 36648, 36647, 36646, 36645, 36644, 36643, 36642, 36641, 36640, 36639]\n"
     ]
    },
    {
     "name": "stderr",
     "output_type": "stream",
     "text": [
      "\r",
      " 21%|██        | 2062/9716 [2:02:43<7:35:32,  3.57s/it]"
     ]
    },
    {
     "name": "stdout",
     "output_type": "stream",
     "text": [
      "167892 20 35054 132838 [36675, 36674, 36673, 36672, 36671, 36670, 36669, 36668, 36667, 36666, 36665, 36664, 36663, 36662, 36661, 36660, 36659, 36658, 36657, 36656]\n"
     ]
    },
    {
     "name": "stderr",
     "output_type": "stream",
     "text": [
      "\r",
      " 21%|██        | 2063/9716 [2:02:46<7:35:28,  3.57s/it]"
     ]
    },
    {
     "name": "stdout",
     "output_type": "stream",
     "text": [
      "167892 20 35071 132821 [36692, 36691, 36690, 36689, 36688, 36687, 36686, 36685, 36684, 36683, 36682, 36681, 36680, 36679, 36678, 36677, 36676, 36675, 36674, 36673]\n"
     ]
    },
    {
     "name": "stderr",
     "output_type": "stream",
     "text": [
      "\r",
      " 21%|██        | 2064/9716 [2:02:50<7:35:23,  3.57s/it]"
     ]
    },
    {
     "name": "stdout",
     "output_type": "stream",
     "text": [
      "167892 20 35088 132804 [36709, 36708, 36707, 36706, 36705, 36704, 36703, 36702, 36701, 36700, 36699, 36698, 36697, 36696, 36695, 36694, 36693, 36692, 36691, 36690]\n"
     ]
    },
    {
     "name": "stderr",
     "output_type": "stream",
     "text": [
      "\r",
      " 21%|██▏       | 2065/9716 [2:02:53<7:35:18,  3.57s/it]"
     ]
    },
    {
     "name": "stdout",
     "output_type": "stream",
     "text": [
      "167892 20 35105 132787 [36726, 36725, 36724, 36723, 36722, 36721, 36720, 36719, 36718, 36717, 36716, 36715, 36714, 36713, 36712, 36711, 36710, 36709, 36708, 36707]\n"
     ]
    },
    {
     "name": "stderr",
     "output_type": "stream",
     "text": [
      "\r",
      " 21%|██▏       | 2066/9716 [2:02:56<7:35:13,  3.57s/it]"
     ]
    },
    {
     "name": "stdout",
     "output_type": "stream",
     "text": [
      "167899 20 35122 132770 [36750, 36749, 36748, 36747, 36746, 36745, 36744, 36743, 36742, 36741, 36740, 36739, 36738, 36737, 36736, 36735, 36734, 36733, 36732, 36731]\n"
     ]
    },
    {
     "name": "stderr",
     "output_type": "stream",
     "text": [
      "\r",
      " 21%|██▏       | 2067/9716 [2:02:59<7:35:08,  3.57s/it]"
     ]
    },
    {
     "name": "stdout",
     "output_type": "stream",
     "text": [
      "167899 20 35139 132760 [36760, 36759, 36758, 36757, 36756, 36755, 36754, 36753, 36752, 36751, 36750, 36749, 36748, 36747, 36746, 36745, 36744, 36743, 36742, 36741]\n"
     ]
    },
    {
     "name": "stderr",
     "output_type": "stream",
     "text": [
      "\r",
      " 21%|██▏       | 2068/9716 [2:03:03<7:35:05,  3.57s/it]"
     ]
    },
    {
     "name": "stdout",
     "output_type": "stream",
     "text": [
      "167899 20 35156 132743 [36777, 36776, 36775, 36774, 36773, 36772, 36771, 36770, 36769, 36768, 36767, 36766, 36765, 36764, 36763, 36762, 36761, 36760, 36759, 36758]\n"
     ]
    },
    {
     "name": "stderr",
     "output_type": "stream",
     "text": [
      "\r",
      " 21%|██▏       | 2069/9716 [2:03:06<7:35:01,  3.57s/it]"
     ]
    },
    {
     "name": "stdout",
     "output_type": "stream",
     "text": [
      "167909 20 35173 132726 [36796, 36795, 36794, 36793, 36792, 36791, 36790, 36789, 36788, 36787, 36786, 36785, 36784, 36783, 36782, 36781, 36780, 36779, 36778, 36777]\n"
     ]
    },
    {
     "name": "stderr",
     "output_type": "stream",
     "text": [
      "\r",
      " 21%|██▏       | 2070/9716 [2:03:10<7:34:57,  3.57s/it]"
     ]
    },
    {
     "name": "stdout",
     "output_type": "stream",
     "text": [
      "167913 20 35190 132719 [36811, 36810, 36809, 36808, 36807, 36806, 36805, 36804, 36803, 36802, 36801, 36800, 36799, 36798, 36797, 36796, 36795, 36794, 36793, 36792]\n"
     ]
    },
    {
     "name": "stderr",
     "output_type": "stream",
     "text": [
      "\r",
      " 21%|██▏       | 2071/9716 [2:03:13<7:34:53,  3.57s/it]"
     ]
    },
    {
     "name": "stdout",
     "output_type": "stream",
     "text": [
      "167913 20 35207 132706 [36828, 36827, 36826, 36825, 36824, 36823, 36822, 36821, 36820, 36819, 36818, 36817, 36816, 36815, 36814, 36813, 36812, 36811, 36810, 36809]\n"
     ]
    },
    {
     "name": "stderr",
     "output_type": "stream",
     "text": [
      "\r",
      " 21%|██▏       | 2072/9716 [2:03:17<7:34:49,  3.57s/it]"
     ]
    },
    {
     "name": "stdout",
     "output_type": "stream",
     "text": [
      "167913 20 35224 132689 [36845, 36844, 36843, 36842, 36841, 36840, 36839, 36838, 36837, 36836, 36835, 36834, 36833, 36832, 36831, 36830, 36829, 36828, 36827, 36826]\n"
     ]
    },
    {
     "name": "stderr",
     "output_type": "stream",
     "text": [
      "\r",
      " 21%|██▏       | 2073/9716 [2:03:20<7:34:43,  3.57s/it]"
     ]
    },
    {
     "name": "stdout",
     "output_type": "stream",
     "text": [
      "167913 20 35241 132672 [36862, 36861, 36860, 36859, 36858, 36857, 36856, 36855, 36854, 36853, 36852, 36851, 36850, 36849, 36848, 36847, 36846, 36845, 36844, 36843]\n"
     ]
    },
    {
     "name": "stderr",
     "output_type": "stream",
     "text": [
      "\r",
      " 21%|██▏       | 2074/9716 [2:03:23<7:34:39,  3.57s/it]"
     ]
    },
    {
     "name": "stdout",
     "output_type": "stream",
     "text": [
      "167913 20 35258 132655 [36879, 36878, 36877, 36876, 36875, 36874, 36873, 36872, 36871, 36870, 36869, 36868, 36867, 36866, 36865, 36864, 36863, 36862, 36861, 36860]\n"
     ]
    },
    {
     "name": "stderr",
     "output_type": "stream",
     "text": [
      "\r",
      " 21%|██▏       | 2075/9716 [2:03:26<7:34:34,  3.57s/it]"
     ]
    },
    {
     "name": "stdout",
     "output_type": "stream",
     "text": [
      "167921 20 35275 132638 [36896, 36895, 36894, 36893, 36892, 36891, 36890, 36889, 36888, 36887, 36886, 36885, 36884, 36883, 36882, 36881, 36880, 36879, 36878, 36877]\n"
     ]
    },
    {
     "name": "stderr",
     "output_type": "stream",
     "text": [
      "\r",
      " 21%|██▏       | 2076/9716 [2:03:30<7:34:30,  3.57s/it]"
     ]
    },
    {
     "name": "stdout",
     "output_type": "stream",
     "text": [
      "167921 20 35292 132629 [36913, 36912, 36911, 36910, 36909, 36908, 36907, 36906, 36905, 36904, 36903, 36902, 36901, 36900, 36899, 36898, 36897, 36896, 36895, 36894]\n"
     ]
    },
    {
     "name": "stderr",
     "output_type": "stream",
     "text": [
      "\r",
      " 21%|██▏       | 2077/9716 [2:03:33<7:34:25,  3.57s/it]"
     ]
    },
    {
     "name": "stdout",
     "output_type": "stream",
     "text": [
      "167921 20 35309 132612 [36930, 36929, 36928, 36927, 36926, 36925, 36924, 36923, 36922, 36921, 36920, 36919, 36918, 36917, 36916, 36915, 36914, 36913, 36912, 36911]\n"
     ]
    },
    {
     "name": "stderr",
     "output_type": "stream",
     "text": [
      "\r",
      " 21%|██▏       | 2078/9716 [2:03:36<7:34:20,  3.57s/it]"
     ]
    },
    {
     "name": "stdout",
     "output_type": "stream",
     "text": [
      "167921 20 35326 132595 [36947, 36946, 36945, 36944, 36943, 36942, 36941, 36940, 36939, 36938, 36937, 36936, 36935, 36934, 36933, 36932, 36931, 36930, 36929, 36928]\n"
     ]
    },
    {
     "name": "stderr",
     "output_type": "stream",
     "text": [
      "\r",
      " 21%|██▏       | 2079/9716 [2:03:39<7:34:15,  3.57s/it]"
     ]
    },
    {
     "name": "stdout",
     "output_type": "stream",
     "text": [
      "167921 20 35343 132578 [36964, 36963, 36962, 36961, 36960, 36959, 36958, 36957, 36956, 36955, 36954, 36953, 36952, 36951, 36950, 36949, 36948, 36947, 36946, 36945]\n"
     ]
    },
    {
     "name": "stderr",
     "output_type": "stream",
     "text": [
      "\r",
      " 21%|██▏       | 2080/9716 [2:03:42<7:34:10,  3.57s/it]"
     ]
    },
    {
     "name": "stdout",
     "output_type": "stream",
     "text": [
      "167921 20 35360 132561 [36981, 36980, 36979, 36978, 36977, 36976, 36975, 36974, 36973, 36972, 36971, 36970, 36969, 36968, 36967, 36966, 36965, 36964, 36963, 36962]\n"
     ]
    },
    {
     "name": "stderr",
     "output_type": "stream",
     "text": [
      "\r",
      " 21%|██▏       | 2081/9716 [2:03:46<7:34:06,  3.57s/it]"
     ]
    },
    {
     "name": "stdout",
     "output_type": "stream",
     "text": [
      "167921 20 35377 132544 [36998, 36997, 36996, 36995, 36994, 36993, 36992, 36991, 36990, 36989, 36988, 36987, 36986, 36985, 36984, 36983, 36982, 36981, 36980, 36979]\n"
     ]
    },
    {
     "name": "stderr",
     "output_type": "stream",
     "text": [
      "\r",
      " 21%|██▏       | 2082/9716 [2:03:49<7:34:01,  3.57s/it]"
     ]
    },
    {
     "name": "stdout",
     "output_type": "stream",
     "text": [
      "167921 20 35394 132527 [37015, 37014, 37013, 37012, 37011, 37010, 37009, 37008, 37007, 37006, 37005, 37004, 37003, 37002, 37001, 37000, 36999, 36998, 36997, 36996]\n"
     ]
    },
    {
     "name": "stderr",
     "output_type": "stream",
     "text": [
      "\r",
      " 21%|██▏       | 2083/9716 [2:03:53<7:33:58,  3.57s/it]"
     ]
    },
    {
     "name": "stdout",
     "output_type": "stream",
     "text": [
      "167921 20 35411 132510 [37032, 37031, 37030, 37029, 37028, 37027, 37026, 37025, 37024, 37023, 37022, 37021, 37020, 37019, 37018, 37017, 37016, 37015, 37014, 37013]\n"
     ]
    },
    {
     "name": "stderr",
     "output_type": "stream",
     "text": [
      "\r",
      " 21%|██▏       | 2084/9716 [2:03:56<7:33:54,  3.57s/it]"
     ]
    },
    {
     "name": "stdout",
     "output_type": "stream",
     "text": [
      "167921 20 35428 132493 [37049, 37048, 37047, 37046, 37045, 37044, 37043, 37042, 37041, 37040, 37039, 37038, 37037, 37036, 37035, 37034, 37033, 37032, 37031, 37030]\n"
     ]
    },
    {
     "name": "stderr",
     "output_type": "stream",
     "text": [
      "\r",
      " 21%|██▏       | 2085/9716 [2:03:59<7:33:49,  3.57s/it]"
     ]
    },
    {
     "name": "stdout",
     "output_type": "stream",
     "text": [
      "167921 20 35445 132476 [37066, 37065, 37064, 37063, 37062, 37061, 37060, 37059, 37058, 37057, 37056, 37055, 37054, 37053, 37052, 37051, 37050, 37049, 37048, 37047]\n"
     ]
    },
    {
     "name": "stderr",
     "output_type": "stream",
     "text": [
      "\r",
      " 21%|██▏       | 2086/9716 [2:04:03<7:33:44,  3.57s/it]"
     ]
    },
    {
     "name": "stdout",
     "output_type": "stream",
     "text": [
      "167929 20 35462 132459 [37083, 37082, 37081, 37080, 37079, 37078, 37077, 37076, 37075, 37074, 37073, 37072, 37071, 37070, 37069, 37068, 37067, 37066, 37065, 37064]\n"
     ]
    },
    {
     "name": "stderr",
     "output_type": "stream",
     "text": [
      "\r",
      " 21%|██▏       | 2087/9716 [2:04:05<7:33:38,  3.57s/it]"
     ]
    },
    {
     "name": "stdout",
     "output_type": "stream",
     "text": [
      "167936 20 35479 132450 [37107, 37106, 37105, 37104, 37103, 37102, 37101, 37100, 37099, 37098, 37097, 37096, 37095, 37094, 37093, 37092, 37091, 37090, 37089, 37088]\n"
     ]
    },
    {
     "name": "stderr",
     "output_type": "stream",
     "text": [
      "\r",
      " 21%|██▏       | 2088/9716 [2:04:08<7:33:32,  3.57s/it]"
     ]
    },
    {
     "name": "stdout",
     "output_type": "stream",
     "text": [
      "167936 20 35496 132440 [37117, 37116, 37115, 37114, 37113, 37112, 37111, 37110, 37109, 37108, 37107, 37106, 37105, 37104, 37103, 37102, 37101, 37100, 37099, 37098]\n"
     ]
    },
    {
     "name": "stderr",
     "output_type": "stream",
     "text": [
      "\r",
      " 22%|██▏       | 2089/9716 [2:04:11<7:33:27,  3.57s/it]"
     ]
    },
    {
     "name": "stdout",
     "output_type": "stream",
     "text": [
      "167936 20 35513 132423 [37134, 37133, 37132, 37131, 37130, 37129, 37128, 37127, 37126, 37125, 37124, 37123, 37122, 37121, 37120, 37119, 37118, 37117, 37116, 37115]\n"
     ]
    },
    {
     "name": "stderr",
     "output_type": "stream",
     "text": [
      "\r",
      " 22%|██▏       | 2090/9716 [2:04:15<7:33:22,  3.57s/it]"
     ]
    },
    {
     "name": "stdout",
     "output_type": "stream",
     "text": [
      "167936 20 35530 132406 [37151, 37150, 37149, 37148, 37147, 37146, 37145, 37144, 37143, 37142, 37141, 37140, 37139, 37138, 37137, 37136, 37135, 37134, 37133, 37132]\n"
     ]
    },
    {
     "name": "stderr",
     "output_type": "stream",
     "text": [
      "\r",
      " 22%|██▏       | 2091/9716 [2:04:18<7:33:16,  3.57s/it]"
     ]
    },
    {
     "name": "stdout",
     "output_type": "stream",
     "text": [
      "167936 20 35547 132389 [37168, 37167, 37166, 37165, 37164, 37163, 37162, 37161, 37160, 37159, 37158, 37157, 37156, 37155, 37154, 37153, 37152, 37151, 37150, 37149]\n"
     ]
    },
    {
     "name": "stderr",
     "output_type": "stream",
     "text": [
      "\r",
      " 22%|██▏       | 2092/9716 [2:04:21<7:33:11,  3.57s/it]"
     ]
    },
    {
     "name": "stdout",
     "output_type": "stream",
     "text": [
      "167936 20 35564 132372 [37185, 37184, 37183, 37182, 37181, 37180, 37179, 37178, 37177, 37176, 37175, 37174, 37173, 37172, 37171, 37170, 37169, 37168, 37167, 37166]\n"
     ]
    },
    {
     "name": "stderr",
     "output_type": "stream",
     "text": [
      "\r",
      " 22%|██▏       | 2093/9716 [2:04:24<7:33:05,  3.57s/it]"
     ]
    },
    {
     "name": "stdout",
     "output_type": "stream",
     "text": [
      "167936 20 35581 132355 [37202, 37201, 37200, 37199, 37198, 37197, 37196, 37195, 37194, 37193, 37192, 37191, 37190, 37189, 37188, 37187, 37186, 37185, 37184, 37183]\n"
     ]
    },
    {
     "name": "stderr",
     "output_type": "stream",
     "text": [
      "\r",
      " 22%|██▏       | 2094/9716 [2:04:27<7:33:00,  3.57s/it]"
     ]
    },
    {
     "name": "stdout",
     "output_type": "stream",
     "text": [
      "167936 20 35598 132338 [37219, 37218, 37217, 37216, 37215, 37214, 37213, 37212, 37211, 37210, 37209, 37208, 37207, 37206, 37205, 37204, 37203, 37202, 37201, 37200]\n"
     ]
    },
    {
     "name": "stderr",
     "output_type": "stream",
     "text": [
      "\r",
      " 22%|██▏       | 2095/9716 [2:04:30<7:32:54,  3.57s/it]"
     ]
    },
    {
     "name": "stdout",
     "output_type": "stream",
     "text": [
      "167936 20 35615 132321 [37236, 37235, 37234, 37233, 37232, 37231, 37230, 37229, 37228, 37227, 37226, 37225, 37224, 37223, 37222, 37221, 37220, 37219, 37218, 37217]\n"
     ]
    },
    {
     "name": "stderr",
     "output_type": "stream",
     "text": [
      "\r",
      " 22%|██▏       | 2096/9716 [2:04:33<7:32:48,  3.57s/it]"
     ]
    },
    {
     "name": "stdout",
     "output_type": "stream",
     "text": [
      "167936 20 35632 132304 [37253, 37252, 37251, 37250, 37249, 37248, 37247, 37246, 37245, 37244, 37243, 37242, 37241, 37240, 37239, 37238, 37237, 37236, 37235, 37234]\n"
     ]
    },
    {
     "name": "stderr",
     "output_type": "stream",
     "text": [
      "\r",
      " 22%|██▏       | 2097/9716 [2:04:36<7:32:43,  3.57s/it]"
     ]
    },
    {
     "name": "stdout",
     "output_type": "stream",
     "text": [
      "167939 20 35649 132287 [37270, 37269, 37268, 37267, 37266, 37265, 37264, 37263, 37262, 37261, 37260, 37259, 37258, 37257, 37256, 37255, 37254, 37253, 37252, 37251]\n"
     ]
    },
    {
     "name": "stderr",
     "output_type": "stream",
     "text": [
      "\r",
      " 22%|██▏       | 2098/9716 [2:04:39<7:32:37,  3.56s/it]"
     ]
    },
    {
     "name": "stdout",
     "output_type": "stream",
     "text": [
      "167939 20 35666 132273 [37287, 37286, 37285, 37284, 37283, 37282, 37281, 37280, 37279, 37278, 37277, 37276, 37275, 37274, 37273, 37272, 37271, 37270, 37269, 37268]\n"
     ]
    },
    {
     "name": "stderr",
     "output_type": "stream",
     "text": [
      "\r",
      " 22%|██▏       | 2099/9716 [2:04:42<7:32:31,  3.56s/it]"
     ]
    },
    {
     "name": "stdout",
     "output_type": "stream",
     "text": [
      "167939 20 35683 132256 [37304, 37303, 37302, 37301, 37300, 37299, 37298, 37297, 37296, 37295, 37294, 37293, 37292, 37291, 37290, 37289, 37288, 37287, 37286, 37285]\n"
     ]
    },
    {
     "name": "stderr",
     "output_type": "stream",
     "text": [
      "\r",
      " 22%|██▏       | 2100/9716 [2:04:45<7:32:26,  3.56s/it]"
     ]
    },
    {
     "name": "stdout",
     "output_type": "stream",
     "text": [
      "167953 20 35700 132239 [37321, 37320, 37319, 37318, 37317, 37316, 37315, 37314, 37313, 37312, 37311, 37310, 37309, 37308, 37307, 37306, 37305, 37304, 37303, 37302]\n"
     ]
    },
    {
     "name": "stderr",
     "output_type": "stream",
     "text": [
      "\r",
      " 22%|██▏       | 2101/9716 [2:04:48<7:32:21,  3.56s/it]"
     ]
    },
    {
     "name": "stdout",
     "output_type": "stream",
     "text": [
      "167953 20 35717 132236 [37338, 37337, 37336, 37335, 37334, 37333, 37332, 37331, 37330, 37329, 37328, 37327, 37326, 37325, 37324, 37323, 37322, 37321, 37320, 37319]\n"
     ]
    },
    {
     "name": "stderr",
     "output_type": "stream",
     "text": [
      "\r",
      " 22%|██▏       | 2102/9716 [2:04:51<7:32:15,  3.56s/it]"
     ]
    },
    {
     "name": "stdout",
     "output_type": "stream",
     "text": [
      "167953 20 35734 132219 [37355, 37354, 37353, 37352, 37351, 37350, 37349, 37348, 37347, 37346, 37345, 37344, 37343, 37342, 37341, 37340, 37339, 37338, 37337, 37336]\n"
     ]
    },
    {
     "name": "stderr",
     "output_type": "stream",
     "text": [
      "\r",
      " 22%|██▏       | 2103/9716 [2:04:54<7:32:10,  3.56s/it]"
     ]
    },
    {
     "name": "stdout",
     "output_type": "stream",
     "text": [
      "167955 20 35751 132202 [37374, 37373, 37372, 37371, 37370, 37369, 37368, 37367, 37366, 37365, 37364, 37363, 37362, 37361, 37360, 37359, 37358, 37357, 37356, 37355]\n"
     ]
    },
    {
     "name": "stderr",
     "output_type": "stream",
     "text": [
      "\r",
      " 22%|██▏       | 2104/9716 [2:04:57<7:32:04,  3.56s/it]"
     ]
    },
    {
     "name": "stdout",
     "output_type": "stream",
     "text": [
      "167956 20 35768 132187 [37389, 37388, 37387, 37386, 37385, 37384, 37383, 37382, 37381, 37380, 37379, 37378, 37377, 37376, 37375, 37374, 37373, 37372, 37371, 37370]\n"
     ]
    },
    {
     "name": "stderr",
     "output_type": "stream",
     "text": [
      "\r",
      " 22%|██▏       | 2105/9716 [2:05:00<7:31:59,  3.56s/it]"
     ]
    },
    {
     "name": "stdout",
     "output_type": "stream",
     "text": [
      "167962 20 35785 132171 [37412, 37411, 37410, 37409, 37408, 37407, 37406, 37405, 37404, 37403, 37402, 37401, 37400, 37399, 37398, 37397, 37396, 37395, 37394, 37393]\n"
     ]
    },
    {
     "name": "stderr",
     "output_type": "stream",
     "text": [
      "\r",
      " 22%|██▏       | 2106/9716 [2:05:03<7:31:53,  3.56s/it]"
     ]
    },
    {
     "name": "stdout",
     "output_type": "stream",
     "text": [
      "167962 20 35802 132160 [37423, 37422, 37421, 37420, 37419, 37418, 37417, 37416, 37415, 37414, 37413, 37412, 37411, 37410, 37409, 37408, 37407, 37406, 37405, 37404]\n"
     ]
    },
    {
     "name": "stderr",
     "output_type": "stream",
     "text": [
      "\r",
      " 22%|██▏       | 2107/9716 [2:05:06<7:31:49,  3.56s/it]"
     ]
    },
    {
     "name": "stdout",
     "output_type": "stream",
     "text": [
      "167962 20 35819 132143 [37440, 37439, 37438, 37437, 37436, 37435, 37434, 37433, 37432, 37431, 37430, 37429, 37428, 37427, 37426, 37425, 37424, 37423, 37422, 37421]\n"
     ]
    },
    {
     "name": "stderr",
     "output_type": "stream",
     "text": [
      "\r",
      " 22%|██▏       | 2108/9716 [2:05:09<7:31:42,  3.56s/it]"
     ]
    },
    {
     "name": "stdout",
     "output_type": "stream",
     "text": [
      "167962 20 35836 132126 [37457, 37456, 37455, 37454, 37453, 37452, 37451, 37450, 37449, 37448, 37447, 37446, 37445, 37444, 37443, 37442, 37441, 37440, 37439, 37438]\n"
     ]
    },
    {
     "name": "stderr",
     "output_type": "stream",
     "text": [
      "\r",
      " 22%|██▏       | 2109/9716 [2:05:12<7:31:37,  3.56s/it]"
     ]
    },
    {
     "name": "stdout",
     "output_type": "stream",
     "text": [
      "167962 20 35853 132109 [37474, 37473, 37472, 37471, 37470, 37469, 37468, 37467, 37466, 37465, 37464, 37463, 37462, 37461, 37460, 37459, 37458, 37457, 37456, 37455]\n"
     ]
    },
    {
     "name": "stderr",
     "output_type": "stream",
     "text": [
      "\r",
      " 22%|██▏       | 2110/9716 [2:05:16<7:31:34,  3.56s/it]"
     ]
    },
    {
     "name": "stdout",
     "output_type": "stream",
     "text": [
      "167962 20 35870 132092 [37491, 37490, 37489, 37488, 37487, 37486, 37485, 37484, 37483, 37482, 37481, 37480, 37479, 37478, 37477, 37476, 37475, 37474, 37473, 37472]\n"
     ]
    },
    {
     "name": "stderr",
     "output_type": "stream",
     "text": [
      "\r",
      " 22%|██▏       | 2111/9716 [2:05:19<7:31:30,  3.56s/it]"
     ]
    },
    {
     "name": "stdout",
     "output_type": "stream",
     "text": [
      "167965 20 35887 132075 [37511, 37510, 37509, 37508, 37507, 37506, 37505, 37504, 37503, 37502, 37501, 37500, 37499, 37498, 37497, 37496, 37495, 37494, 37493, 37492]\n"
     ]
    },
    {
     "name": "stderr",
     "output_type": "stream",
     "text": [
      "\r",
      " 22%|██▏       | 2112/9716 [2:05:22<7:31:25,  3.56s/it]"
     ]
    },
    {
     "name": "stdout",
     "output_type": "stream",
     "text": [
      "167965 20 35904 132061 [37525, 37524, 37523, 37522, 37521, 37520, 37519, 37518, 37517, 37516, 37515, 37514, 37513, 37512, 37511, 37510, 37509, 37508, 37507, 37506]\n"
     ]
    },
    {
     "name": "stderr",
     "output_type": "stream",
     "text": [
      "\r",
      " 22%|██▏       | 2113/9716 [2:05:26<7:31:20,  3.56s/it]"
     ]
    },
    {
     "name": "stdout",
     "output_type": "stream",
     "text": [
      "167965 20 35921 132044 [37542, 37541, 37540, 37539, 37538, 37537, 37536, 37535, 37534, 37533, 37532, 37531, 37530, 37529, 37528, 37527, 37526, 37525, 37524, 37523]\n"
     ]
    },
    {
     "name": "stderr",
     "output_type": "stream",
     "text": [
      "\r",
      " 22%|██▏       | 2114/9716 [2:05:29<7:31:15,  3.56s/it]"
     ]
    },
    {
     "name": "stdout",
     "output_type": "stream",
     "text": [
      "167965 20 35938 132027 [37559, 37558, 37557, 37556, 37555, 37554, 37553, 37552, 37551, 37550, 37549, 37548, 37547, 37546, 37545, 37544, 37543, 37542, 37541, 37540]\n"
     ]
    },
    {
     "name": "stderr",
     "output_type": "stream",
     "text": [
      "\r",
      " 22%|██▏       | 2115/9716 [2:05:32<7:31:09,  3.56s/it]"
     ]
    },
    {
     "name": "stdout",
     "output_type": "stream",
     "text": [
      "167965 20 35955 132010 [37576, 37575, 37574, 37573, 37572, 37571, 37570, 37569, 37568, 37567, 37566, 37565, 37564, 37563, 37562, 37561, 37560, 37559, 37558, 37557]\n"
     ]
    },
    {
     "name": "stderr",
     "output_type": "stream",
     "text": [
      "\r",
      " 22%|██▏       | 2116/9716 [2:05:35<7:31:04,  3.56s/it]"
     ]
    },
    {
     "name": "stdout",
     "output_type": "stream",
     "text": [
      "167965 20 35972 131993 [37593, 37592, 37591, 37590, 37589, 37588, 37587, 37586, 37585, 37584, 37583, 37582, 37581, 37580, 37579, 37578, 37577, 37576, 37575, 37574]\n"
     ]
    },
    {
     "name": "stderr",
     "output_type": "stream",
     "text": [
      "\r",
      " 22%|██▏       | 2117/9716 [2:05:38<7:30:58,  3.56s/it]"
     ]
    },
    {
     "name": "stdout",
     "output_type": "stream",
     "text": [
      "167965 20 35989 131976 [37610, 37609, 37608, 37607, 37606, 37605, 37604, 37603, 37602, 37601, 37600, 37599, 37598, 37597, 37596, 37595, 37594, 37593, 37592, 37591]\n"
     ]
    },
    {
     "name": "stderr",
     "output_type": "stream",
     "text": [
      "\r",
      " 22%|██▏       | 2118/9716 [2:05:41<7:30:52,  3.56s/it]"
     ]
    },
    {
     "name": "stdout",
     "output_type": "stream",
     "text": [
      "167965 20 36006 131959 [37627, 37626, 37625, 37624, 37623, 37622, 37621, 37620, 37619, 37618, 37617, 37616, 37615, 37614, 37613, 37612, 37611, 37610, 37609, 37608]\n"
     ]
    },
    {
     "name": "stderr",
     "output_type": "stream",
     "text": [
      "\r",
      " 22%|██▏       | 2119/9716 [2:05:44<7:30:47,  3.56s/it]"
     ]
    },
    {
     "name": "stdout",
     "output_type": "stream",
     "text": [
      "167965 20 36023 131942 [37644, 37643, 37642, 37641, 37640, 37639, 37638, 37637, 37636, 37635, 37634, 37633, 37632, 37631, 37630, 37629, 37628, 37627, 37626, 37625]\n"
     ]
    },
    {
     "name": "stderr",
     "output_type": "stream",
     "text": [
      "\r",
      " 22%|██▏       | 2120/9716 [2:05:47<7:30:41,  3.56s/it]"
     ]
    },
    {
     "name": "stdout",
     "output_type": "stream",
     "text": [
      "167965 20 36040 131925 [37661, 37660, 37659, 37658, 37657, 37656, 37655, 37654, 37653, 37652, 37651, 37650, 37649, 37648, 37647, 37646, 37645, 37644, 37643, 37642]\n"
     ]
    },
    {
     "name": "stderr",
     "output_type": "stream",
     "text": [
      "\r",
      " 22%|██▏       | 2121/9716 [2:05:50<7:30:36,  3.56s/it]"
     ]
    },
    {
     "name": "stdout",
     "output_type": "stream",
     "text": [
      "167965 20 36057 131908 [37678, 37677, 37676, 37675, 37674, 37673, 37672, 37671, 37670, 37669, 37668, 37667, 37666, 37665, 37664, 37663, 37662, 37661, 37660, 37659]\n"
     ]
    },
    {
     "name": "stderr",
     "output_type": "stream",
     "text": [
      "\r",
      " 22%|██▏       | 2122/9716 [2:05:53<7:30:30,  3.56s/it]"
     ]
    },
    {
     "name": "stdout",
     "output_type": "stream",
     "text": [
      "167965 20 36074 131891 [37695, 37694, 37693, 37692, 37691, 37690, 37689, 37688, 37687, 37686, 37685, 37684, 37683, 37682, 37681, 37680, 37679, 37678, 37677, 37676]\n"
     ]
    },
    {
     "name": "stderr",
     "output_type": "stream",
     "text": [
      "\r",
      " 22%|██▏       | 2123/9716 [2:05:56<7:30:25,  3.56s/it]"
     ]
    },
    {
     "name": "stdout",
     "output_type": "stream",
     "text": [
      "167974 20 36091 131874 [37714, 37713, 37712, 37711, 37710, 37709, 37708, 37707, 37706, 37705, 37704, 37703, 37702, 37701, 37700, 37699, 37698, 37697, 37696, 37695]\n"
     ]
    },
    {
     "name": "stderr",
     "output_type": "stream",
     "text": [
      "\r",
      " 22%|██▏       | 2124/9716 [2:05:59<7:30:19,  3.56s/it]"
     ]
    },
    {
     "name": "stdout",
     "output_type": "stream",
     "text": [
      "167974 20 36108 131866 [37729, 37728, 37727, 37726, 37725, 37724, 37723, 37722, 37721, 37720, 37719, 37718, 37717, 37716, 37715, 37714, 37713, 37712, 37711, 37710]\n"
     ]
    },
    {
     "name": "stderr",
     "output_type": "stream",
     "text": [
      "\r",
      " 22%|██▏       | 2125/9716 [2:06:02<7:30:13,  3.56s/it]"
     ]
    },
    {
     "name": "stdout",
     "output_type": "stream",
     "text": [
      "167974 20 36125 131849 [37746, 37745, 37744, 37743, 37742, 37741, 37740, 37739, 37738, 37737, 37736, 37735, 37734, 37733, 37732, 37731, 37730, 37729, 37728, 37727]\n"
     ]
    },
    {
     "name": "stderr",
     "output_type": "stream",
     "text": [
      "\r",
      " 22%|██▏       | 2126/9716 [2:06:05<7:30:08,  3.56s/it]"
     ]
    },
    {
     "name": "stdout",
     "output_type": "stream",
     "text": [
      "167974 20 36142 131832 [37763, 37762, 37761, 37760, 37759, 37758, 37757, 37756, 37755, 37754, 37753, 37752, 37751, 37750, 37749, 37748, 37747, 37746, 37745, 37744]\n"
     ]
    },
    {
     "name": "stderr",
     "output_type": "stream",
     "text": [
      "\r",
      " 22%|██▏       | 2127/9716 [2:06:08<7:30:03,  3.56s/it]"
     ]
    },
    {
     "name": "stdout",
     "output_type": "stream",
     "text": [
      "167988 20 36159 131815 [37780, 37779, 37778, 37777, 37776, 37775, 37774, 37773, 37772, 37771, 37770, 37769, 37768, 37767, 37766, 37765, 37764, 37763, 37762, 37761]\n"
     ]
    },
    {
     "name": "stderr",
     "output_type": "stream",
     "text": [
      "\r",
      " 22%|██▏       | 2128/9716 [2:06:11<7:29:58,  3.56s/it]"
     ]
    },
    {
     "name": "stdout",
     "output_type": "stream",
     "text": [
      "167988 20 36176 131812 [37797, 37796, 37795, 37794, 37793, 37792, 37791, 37790, 37789, 37788, 37787, 37786, 37785, 37784, 37783, 37782, 37781, 37780, 37779, 37778]\n"
     ]
    },
    {
     "name": "stderr",
     "output_type": "stream",
     "text": [
      "\r",
      " 22%|██▏       | 2129/9716 [2:06:14<7:29:51,  3.56s/it]"
     ]
    },
    {
     "name": "stdout",
     "output_type": "stream",
     "text": [
      "167988 20 36193 131795 [37814, 37813, 37812, 37811, 37810, 37809, 37808, 37807, 37806, 37805, 37804, 37803, 37802, 37801, 37800, 37799, 37798, 37797, 37796, 37795]\n"
     ]
    },
    {
     "name": "stderr",
     "output_type": "stream",
     "text": [
      "\r",
      " 22%|██▏       | 2130/9716 [2:06:17<7:29:47,  3.56s/it]"
     ]
    },
    {
     "name": "stdout",
     "output_type": "stream",
     "text": [
      "167998 20 36210 131778 [37834, 37833, 37832, 37831, 37830, 37829, 37828, 37827, 37826, 37825, 37824, 37823, 37822, 37821, 37820, 37819, 37818, 37817, 37816, 37815]\n"
     ]
    },
    {
     "name": "stderr",
     "output_type": "stream",
     "text": [
      "\r",
      " 22%|██▏       | 2131/9716 [2:06:20<7:29:42,  3.56s/it]"
     ]
    },
    {
     "name": "stdout",
     "output_type": "stream",
     "text": [
      "167998 20 36227 131771 [37848, 37847, 37846, 37845, 37844, 37843, 37842, 37841, 37840, 37839, 37838, 37837, 37836, 37835, 37834, 37833, 37832, 37831, 37830, 37829]\n"
     ]
    }
   ],
   "source": [
    "for i in tqdm(list(range(limit-overlap, total_kitties + limit, limit-overlap))):\n",
    "    offset = kitty_data['total'] - i\n",
    "    url = 'http://api.cryptokitties.co/kitties?limit=%s&offset=%s'%(limit, offset)\n",
    "    \n",
    "    r = requests.get(url)\n",
    "    \n",
    "    try:\n",
    "        kitty_data = r.json()\n",
    "    except json.JSONDecodeError as e:\n",
    "        print('error', offset, e)        \n",
    "        continue\n",
    "        \n",
    "    print(kitty_data['total'], kitty_data['limit'], i, offset, [d['id'] for d in kitty_data['kitties']])\n",
    "    for kitty in kitty_data['kitties']:\n",
    "        if kitty['id'] not in api_data2:\n",
    "            api_data2[kitty['id']] = kitty "
   ]
  },
  {
   "cell_type": "code",
   "execution_count": 48,
   "metadata": {
    "ExecuteTime": {
     "end_time": "2017-12-08T23:56:44.158862Z",
     "start_time": "2017-12-08T23:56:44.151418Z"
    }
   },
   "outputs": [
    {
     "data": {
      "text/plain": [
       "2142"
      ]
     },
     "execution_count": 48,
     "metadata": {},
     "output_type": "execute_result"
    }
   ],
   "source": [
    "len(api_data2)"
   ]
  },
  {
   "cell_type": "code",
   "execution_count": 32,
   "metadata": {
    "ExecuteTime": {
     "end_time": "2017-12-08T23:51:56.066152Z",
     "start_time": "2017-12-08T23:51:49.209070Z"
    }
   },
   "outputs": [
    {
     "name": "stdout",
     "output_type": "stream",
     "text": [
      "164438 200 164238 [1104, 1103, 1102, 1101, 1100, 1099, 1098, 1097, 1096, 1095, 1094, 1093, 1092, 1091, 1090, 1089, 1088, 1087, 1086, 1085]\n"
     ]
    }
   ],
   "source": [
    "i=200\n",
    "offset = total_kitties - i\n",
    "url = 'http://api.cryptokitties.co/kitties?limit=%s&offset=%s'%(limit, offset)\n",
    "\n",
    "r = requests.get(url)\n",
    "\n",
    "kitty_data = r.json()\n",
    "\n",
    "print(kitty_data['total'], i, offset, [d['id'] for d in kitty_data['kitties']])"
   ]
  },
  {
   "cell_type": "code",
   "execution_count": 37,
   "metadata": {
    "ExecuteTime": {
     "end_time": "2017-12-08T23:53:08.182868Z",
     "start_time": "2017-12-08T23:53:06.992046Z"
    }
   },
   "outputs": [
    {
     "name": "stdout",
     "output_type": "stream",
     "text": [
      "164470 201 164237 [165991, 165990, 165989, 165988, 165987, 165986, 165985, 165984, 165983, 165982, 165981, 165980, 165979, 165978, 165977, 165976, 165975, 165974, 165973, 165972]\n"
     ]
    }
   ],
   "source": [
    "i=201\n",
    "offset = total_kitties - i\n",
    "url = 'http://api.cryptokitties.co/kitties?limit=%s&offset=%s'%(limit, offset)\n",
    "\n",
    "r = requests.get(url)\n",
    "\n",
    "kitty_data = r.json()\n",
    "\n",
    "print(kitty_data['total'], i, offset, [d['id'] for d in kitty_data['kitties']])"
   ]
  },
  {
   "cell_type": "code",
   "execution_count": 17,
   "metadata": {
    "ExecuteTime": {
     "end_time": "2017-12-08T23:46:12.206825Z",
     "start_time": "2017-12-08T23:46:12.202838Z"
    }
   },
   "outputs": [
    {
     "data": {
      "text/plain": [
       "(20, 'http://api.cryptokitties.co/kitties?limit=100&offset=164109')"
      ]
     },
     "execution_count": 17,
     "metadata": {},
     "output_type": "execute_result"
    }
   ],
   "source": [
    "kitty_data['limit'], url"
   ]
  },
  {
   "cell_type": "code",
   "execution_count": 30,
   "metadata": {
    "ExecuteTime": {
     "end_time": "2017-12-08T23:36:25.110527Z",
     "start_time": "2017-12-08T23:36:24.851320Z"
    }
   },
   "outputs": [
    {
     "data": {
      "text/plain": [
       "2142"
      ]
     },
     "execution_count": 30,
     "metadata": {},
     "output_type": "execute_result"
    }
   ],
   "source": [
    "json.dump(api_data2, open(api_data2_file,'w'))\n",
    "len(api_data2)"
   ]
  },
  {
   "cell_type": "code",
   "execution_count": 15,
   "metadata": {
    "ExecuteTime": {
     "end_time": "2017-12-08T23:32:06.074967Z",
     "start_time": "2017-12-08T23:32:04.673025Z"
    }
   },
   "outputs": [
    {
     "data": {
      "text/plain": [
       "[165691,\n",
       " 165690,\n",
       " 165689,\n",
       " 165688,\n",
       " 165687,\n",
       " 165686,\n",
       " 165685,\n",
       " 165684,\n",
       " 165683,\n",
       " 165682,\n",
       " 165681,\n",
       " 165680,\n",
       " 165679,\n",
       " 165678,\n",
       " 165677,\n",
       " 165676,\n",
       " 165675,\n",
       " 165674,\n",
       " 165673,\n",
       " 165672]"
      ]
     },
     "execution_count": 15,
     "metadata": {},
     "output_type": "execute_result"
    }
   ],
   "source": [
    "offset = kitty_data['total'] - i\n",
    "url = 'http://api.cryptokitties.co/kitties?limit=%s&offset=%s'%(limit, offset)\n",
    "r = requests.get(url)\n",
    "kitty_data = r.json()\n",
    "[d['id'] for d in kitty_data['kitties']]"
   ]
  },
  {
   "cell_type": "code",
   "execution_count": 22,
   "metadata": {
    "ExecuteTime": {
     "end_time": "2017-12-08T23:33:44.273659Z",
     "start_time": "2017-12-08T23:33:40.360459Z"
    }
   },
   "outputs": [
    {
     "data": {
      "text/plain": [
       "[1218,\n",
       " 1217,\n",
       " 1216,\n",
       " 1215,\n",
       " 1214,\n",
       " 1213,\n",
       " 1212,\n",
       " 1211,\n",
       " 1210,\n",
       " 1209,\n",
       " 1208,\n",
       " 1207,\n",
       " 1206,\n",
       " 1205,\n",
       " 1204,\n",
       " 1203,\n",
       " 1202,\n",
       " 1201,\n",
       " 1200,\n",
       " 1199]"
      ]
     },
     "execution_count": 22,
     "metadata": {},
     "output_type": "execute_result"
    }
   ],
   "source": [
    "url = 'http://api.cryptokitties.co/kitties?limit=%s&offset=%s'%(limit, 163783-)\n",
    "r = requests.get(url)\n",
    "kitty_data = r.json()\n",
    "[d['id'] for d in kitty_data['kitties']]"
   ]
  },
  {
   "cell_type": "code",
   "execution_count": 23,
   "metadata": {
    "ExecuteTime": {
     "end_time": "2017-12-08T23:33:56.108982Z",
     "start_time": "2017-12-08T23:33:56.103465Z"
    }
   },
   "outputs": [
    {
     "data": {
      "text/plain": [
       "164096"
      ]
     },
     "execution_count": 23,
     "metadata": {},
     "output_type": "execute_result"
    }
   ],
   "source": []
  },
  {
   "cell_type": "code",
   "execution_count": null,
   "metadata": {
    "ExecuteTime": {
     "end_time": "2017-12-08T14:57:08.342957Z",
     "start_time": "2017-12-08T14:57:08.338038Z"
    }
   },
   "outputs": [],
   "source": []
  },
  {
   "cell_type": "markdown",
   "metadata": {},
   "source": [
    "# genetics\n",
    "\n",
    "\n",
    "```js\n",
    "// go here https://etherscan.io/token/0x06012c8cf97bead5deae237070f9587f8e7a266d#readContract\n",
    "// breakpoint at readContract 126 (where is says `eval(functionNametoCall + \"(\" + strparas + \");\");   `)\n",
    "// then use the gui to use getKitty\n",
    "// when it breaks execute this code\n",
    "data={}\n",
    "\n",
    "for (i = 0; i < 100000; i++) {\n",
    "    if (i%10==0) {console.log(i, new Date())}\n",
    "    if (data[i]) {continue}\n",
    "    try {\n",
    "        d = myContractInstance.getKitty(''+i);\n",
    "\n",
    "        // convert from bignumber\n",
    "        data[i] = d.map(dd=>dd.toFixed? dd.toFixed(): dd);\n",
    "    } catch (e ) {\n",
    "        console.log(i,'failed',e)\n",
    "    }\n",
    "}\n",
    "copy(data)\n",
    "```"
   ]
  },
  {
   "cell_type": "code",
   "execution_count": null,
   "metadata": {
    "collapsed": true
   },
   "outputs": [],
   "source": []
  },
  {
   "cell_type": "code",
   "execution_count": 9,
   "metadata": {
    "ExecuteTime": {
     "end_time": "2017-12-08T22:37:54.987200Z",
     "start_time": "2017-12-08T22:37:54.797497Z"
    }
   },
   "outputs": [
    {
     "data": {
      "text/plain": [
       "38422"
      ]
     },
     "execution_count": 9,
     "metadata": {},
     "output_type": "execute_result"
    }
   ],
   "source": [
    "\n",
    "genetics_file = '.cache/genes.json'\n",
    "genetics = json.load(open(genetics_file))\n",
    "len(genetics)"
   ]
  },
  {
   "cell_type": "markdown",
   "metadata": {},
   "source": [
    "# Transform\n",
    "\n",
    "Lets embedd the genetics"
   ]
  },
  {
   "cell_type": "code",
   "execution_count": 46,
   "metadata": {
    "ExecuteTime": {
     "end_time": "2017-12-06T14:07:30.462795Z",
     "start_time": "2017-12-06T14:07:30.455671Z"
    },
    "scrolled": true
   },
   "outputs": [
    {
     "data": {
      "text/plain": [
       "[0.1111111111111111,\n",
       " 0.1111111111111111,\n",
       " 0.5555555555555556,\n",
       " 0.7777777777777778,\n",
       " 1.0,\n",
       " 0.2222222222222222,\n",
       " 0.0,\n",
       " 0.8888888888888888,\n",
       " 1.0,\n",
       " 0.2222222222222222,\n",
       " 0.3333333333333333,\n",
       " 0.7777777777777778,\n",
       " 0.3333333333333333,\n",
       " 0.1111111111111111,\n",
       " 0.6666666666666666,\n",
       " 0.1111111111111111,\n",
       " 1.0,\n",
       " 0.5555555555555556,\n",
       " 0.4444444444444444,\n",
       " 0.2222222222222222,\n",
       " 0.3333333333333333,\n",
       " 0.5555555555555556,\n",
       " 0.7777777777777778,\n",
       " 0.0,\n",
       " 1.0,\n",
       " 0.8888888888888888,\n",
       " 0.5555555555555556,\n",
       " 0.0,\n",
       " 0.0,\n",
       " 0.8888888888888888,\n",
       " 0.6666666666666666,\n",
       " 0.8888888888888888,\n",
       " 0.7777777777777778,\n",
       " 1.0,\n",
       " 0.0,\n",
       " 0.7777777777777778,\n",
       " 0.8888888888888888,\n",
       " 0.5555555555555556,\n",
       " 0.3333333333333333,\n",
       " 0.2222222222222222,\n",
       " 0.6666666666666666,\n",
       " 1.0,\n",
       " 1.0,\n",
       " 0.8888888888888888,\n",
       " 0.4444444444444444,\n",
       " 0.6666666666666666,\n",
       " 0.6666666666666666,\n",
       " 0.5555555555555556,\n",
       " 0.6666666666666666,\n",
       " 0.4444444444444444,\n",
       " 0.0,\n",
       " 0.5555555555555556,\n",
       " 0.6666666666666666,\n",
       " 0.4444444444444444,\n",
       " 0.0,\n",
       " 0.3333333333333333,\n",
       " 1.0,\n",
       " 0.4444444444444444,\n",
       " 0.5555555555555556,\n",
       " 0.7777777777777778,\n",
       " 0.5555555555555556,\n",
       " 0.8888888888888888,\n",
       " 0.4444444444444444,\n",
       " 0.0,\n",
       " 0.0,\n",
       " 0.7777777777777778,\n",
       " 1.0,\n",
       " 0.1111111111111111,\n",
       " 0.3333333333333333,\n",
       " 0.1111111111111111,\n",
       " 0.2222222222222222,\n",
       " 1.0,\n",
       " 0.6666666666666666,\n",
       " 0.3333333333333333,\n",
       " 1.0,\n",
       " 1.0,\n",
       " 0.3333333333333333,\n",
       " 0.5555555555555556]"
      ]
     },
     "execution_count": 46,
     "metadata": {},
     "output_type": "execute_result"
    }
   ],
   "source": [
    "# isGestating, isReady, cooldownindex, nextActionAt, siringWithId, birthTime, sireId, generation, genes\n",
    "genes = genetics['0'][-1]\n",
    "def longstr_to_genes(genes):\n",
    "    return [int(i)/9 for i in genes]\n",
    "genes = longstr_to_genes(genes)\n",
    "genes"
   ]
  },
  {
   "cell_type": "code",
   "execution_count": null,
   "metadata": {
    "collapsed": true
   },
   "outputs": [],
   "source": []
  },
  {
   "cell_type": "code",
   "execution_count": null,
   "metadata": {
    "collapsed": true
   },
   "outputs": [],
   "source": []
  },
  {
   "cell_type": "code",
   "execution_count": 48,
   "metadata": {
    "ExecuteTime": {
     "end_time": "2017-12-06T14:07:47.441553Z",
     "start_time": "2017-12-06T14:07:47.428361Z"
    }
   },
   "outputs": [
    {
     "data": {
      "text/plain": [
       "{'auction': {},\n",
       " 'bio': 'Hey cutie! I\\'m G0 Progenitor. My friends describe me as stinky and raunchy. My friends describe me as \"tantalizing.\" It\\'s... accurate. Let\\'s pawty!',\n",
       " 'cattributes': ['strawberry',\n",
       "  'luckystripe',\n",
       "  'sphynx',\n",
       "  'soserious',\n",
       "  'granitegrey',\n",
       "  'chocolate',\n",
       "  'thicccbrowz',\n",
       "  'greymatter'],\n",
       " 'children': [{'color': 'strawberry',\n",
       "   'created_at': '2017-11-25T12:52:20.000Z',\n",
       "   'generation': 13,\n",
       "   'id': 7003,\n",
       "   'image_url': 'https://storage.googleapis.com/ck-kitty-image/0x06012c8cf97bead5deae237070f9587f8e7a266d/7003.svg',\n",
       "   'is_fancy': False,\n",
       "   'name': 'Tooe Gaen',\n",
       "   'owner_wallet_address': '0x118c191228cc79cfc886086fc346d1d47e29c2b1',\n",
       "   'status': {'cooldown': 1512873963295,\n",
       "    'is_gestating': False,\n",
       "    'is_ready': False}},\n",
       "  {'color': 'strawberry',\n",
       "   'created_at': '2017-11-26T07:39:10.000Z',\n",
       "   'generation': 13,\n",
       "   'id': 8056,\n",
       "   'image_url': 'https://storage.googleapis.com/ck-kitty-image/0x06012c8cf97bead5deae237070f9587f8e7a266d/8056.svg',\n",
       "   'is_fancy': False,\n",
       "   'name': 'Red Eyes',\n",
       "   'owner_wallet_address': '0x43e25f8a0a01da0513fca3b36a7d792e57f85220',\n",
       "   'status': {'cooldown': 1512684219708,\n",
       "    'is_gestating': False,\n",
       "    'is_ready': False}},\n",
       "  {'color': 'mintgreen',\n",
       "   'created_at': '2017-11-30T12:24:21.000Z',\n",
       "   'generation': 12,\n",
       "   'id': 16883,\n",
       "   'image_url': 'https://storage.googleapis.com/ck-kitty-image/0x06012c8cf97bead5deae237070f9587f8e7a266d/16883.svg',\n",
       "   'is_fancy': False,\n",
       "   'name': 'Fluffster the 12th',\n",
       "   'owner_wallet_address': '0x9d3f637f2bef02c86f95d9e22d7e3988c13fc86c',\n",
       "   'status': {'cooldown': 1512372246728,\n",
       "    'is_gestating': False,\n",
       "    'is_ready': True}},\n",
       "  {'color': 'sizzurp',\n",
       "   'created_at': '2017-11-25T11:13:15.000Z',\n",
       "   'generation': 13,\n",
       "   'id': 6937,\n",
       "   'image_url': 'https://storage.googleapis.com/ck-kitty-image/0x06012c8cf97bead5deae237070f9587f8e7a266d/6937.svg',\n",
       "   'is_fancy': False,\n",
       "   'name': 'Grey Fiend the 13th',\n",
       "   'owner_wallet_address': '0xef22f7161f128d8f7a1ebcc8d9a9f6330dc4845e',\n",
       "   'status': {'cooldown': 1512410733742,\n",
       "    'is_gestating': False,\n",
       "    'is_ready': True}},\n",
       "  {'color': 'strawberry',\n",
       "   'created_at': '2017-12-05T19:44:07.000Z',\n",
       "   'generation': 1,\n",
       "   'id': 92913,\n",
       "   'image_url': 'https://storage.googleapis.com/ck-kitty-image/0x06012c8cf97bead5deae237070f9587f8e7a266d/92913.svg',\n",
       "   'is_fancy': False,\n",
       "   'name': 'G1 Mystique',\n",
       "   'owner_wallet_address': '0xdcc47a74944ad6299dcc9fd65a557fa4fe1dbbfb',\n",
       "   'status': {'cooldown': 1512550070547,\n",
       "    'is_gestating': False,\n",
       "    'is_ready': False}},\n",
       "  {'color': 'topaz',\n",
       "   'created_at': '2017-11-28T08:45:51.000Z',\n",
       "   'generation': 1,\n",
       "   'id': 9823,\n",
       "   'image_url': 'https://storage.googleapis.com/ck-kitty-image/0x06012c8cf97bead5deae237070f9587f8e7a266d/9823.svg',\n",
       "   'is_fancy': False,\n",
       "   'name': 'Crazy Muffin',\n",
       "   'owner_wallet_address': '0x771738a044c49a06303b0037cb303535aca94d73',\n",
       "   'status': {'cooldown': 1512428528323,\n",
       "    'is_gestating': False,\n",
       "    'is_ready': True}},\n",
       "  {'color': 'strawberry',\n",
       "   'created_at': '2017-11-30T08:56:23.000Z',\n",
       "   'generation': 13,\n",
       "   'id': 16086,\n",
       "   'image_url': 'https://storage.googleapis.com/ck-kitty-image/0x06012c8cf97bead5deae237070f9587f8e7a266d/16086.svg',\n",
       "   'is_fancy': False,\n",
       "   'name': 'Gen 13 Jag genes',\n",
       "   'owner_wallet_address': '0x74623bc15ac6a92ce02243197e531595163f5290',\n",
       "   'status': {'cooldown': 1512467447435,\n",
       "    'is_gestating': False,\n",
       "    'is_ready': True}},\n",
       "  {'color': 'mintgreen',\n",
       "   'created_at': '2017-11-25T07:27:10.000Z',\n",
       "   'generation': 1,\n",
       "   'id': 6664,\n",
       "   'image_url': 'https://storage.googleapis.com/ck-kitty-image/0x06012c8cf97bead5deae237070f9587f8e7a266d/6664.svg',\n",
       "   'is_fancy': False,\n",
       "   'name': 'Space Cake',\n",
       "   'owner_wallet_address': '0x74f24ecda8a2d4fb3bfe5beeb1a1bdd87f9131d5',\n",
       "   'status': {'cooldown': 1512635885822,\n",
       "    'is_gestating': False,\n",
       "    'is_ready': False}},\n",
       "  {'color': 'strawberry',\n",
       "   'created_at': '2017-12-04T03:34:04.000Z',\n",
       "   'generation': 11,\n",
       "   'id': 53413,\n",
       "   'image_url': 'https://storage.googleapis.com/ck-kitty-image/0x06012c8cf97bead5deae237070f9587f8e7a266d/53413.svg',\n",
       "   'is_fancy': False,\n",
       "   'name': 'Happy Red Beard Eyes',\n",
       "   'owner_wallet_address': '0xc7af99fe5513eb6710e6d5f44f9989da40f27f26',\n",
       "   'status': {'cooldown': 1512454875593,\n",
       "    'is_gestating': False,\n",
       "    'is_ready': True}}],\n",
       " 'color': 'strawberry',\n",
       " 'created_at': '2017-11-23T13:12:54.000Z',\n",
       " 'generation': 0,\n",
       " 'id': 2392,\n",
       " 'image_url': 'https://storage.googleapis.com/ck-kitty-image/0x06012c8cf97bead5deae237070f9587f8e7a266d/2392.svg',\n",
       " 'is_fancy': False,\n",
       " 'matron': {},\n",
       " 'name': 'G0 Progenitor',\n",
       " 'owner': {'address': '0xdcc47a74944ad6299dcc9fd65a557fa4fe1dbbfb',\n",
       "  'image': '15',\n",
       "  'nickname': 'Sandude'},\n",
       " 'sire': {},\n",
       " 'status': {'cooldown': 1512548756556,\n",
       "  'cooldown_index': 9,\n",
       "  'is_gestating': False,\n",
       "  'is_ready': True}}"
      ]
     },
     "execution_count": 48,
     "metadata": {},
     "output_type": "execute_result"
    }
   ],
   "source": [
    "# so given: parent genes, generations, time. predict soldprice\n",
    "sale =  sales['sales'][600]\n",
    "kid = sale['returnValues']['tokenId']\n",
    "genetics[kid]\n",
    "api_data[kid]\n"
   ]
  },
  {
   "cell_type": "markdown",
   "metadata": {},
   "source": [
    "# Train\n",
    "\n",
    "Predict sale price given parents"
   ]
  },
  {
   "cell_type": "code",
   "execution_count": null,
   "metadata": {
    "collapsed": true
   },
   "outputs": [],
   "source": []
  },
  {
   "cell_type": "code",
   "execution_count": null,
   "metadata": {
    "collapsed": true
   },
   "outputs": [],
   "source": []
  },
  {
   "cell_type": "code",
   "execution_count": null,
   "metadata": {
    "collapsed": true
   },
   "outputs": [],
   "source": []
  },
  {
   "cell_type": "code",
   "execution_count": null,
   "metadata": {
    "collapsed": true
   },
   "outputs": [],
   "source": []
  }
 ],
 "metadata": {
  "kernelspec": {
   "display_name": "jupyter3",
   "language": "python",
   "name": "jupyter3"
  },
  "language_info": {
   "codemirror_mode": {
    "name": "ipython",
    "version": 3
   },
   "file_extension": ".py",
   "mimetype": "text/x-python",
   "name": "python",
   "nbconvert_exporter": "python",
   "pygments_lexer": "ipython3",
   "version": "3.5.3"
  },
  "toc": {
   "colors": {
    "hover_highlight": "#DAA520",
    "navigate_num": "#000000",
    "navigate_text": "#333333",
    "running_highlight": "#FF0000",
    "selected_highlight": "#FFD700",
    "sidebar_border": "#EEEEEE",
    "wrapper_background": "#FFFFFF"
   },
   "moveMenuLeft": true,
   "nav_menu": {
    "height": "4px",
    "width": "254px"
   },
   "navigate_menu": true,
   "number_sections": true,
   "sideBar": true,
   "threshold": 4,
   "toc_cell": false,
   "toc_section_display": "block",
   "toc_window_display": false,
   "widenNotebook": false
  }
 },
 "nbformat": 4,
 "nbformat_minor": 2
}
